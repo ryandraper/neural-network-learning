{
  "nbformat": 4,
  "nbformat_minor": 0,
  "metadata": {
    "colab": {
      "provenance": [],
      "authorship_tag": "ABX9TyPRb7Me7qk8lVZUq+K64wEc",
      "include_colab_link": true
    },
    "kernelspec": {
      "name": "python3",
      "display_name": "Python 3"
    },
    "language_info": {
      "name": "python"
    }
  },
  "cells": [
    {
      "cell_type": "markdown",
      "metadata": {
        "id": "view-in-github",
        "colab_type": "text"
      },
      "source": [
        "<a href=\"https://colab.research.google.com/github/ryandraper/neural-network-learning/blob/main/01_neural_network_regression_with_tensorflow.ipynb\" target=\"_parent\"><img src=\"https://colab.research.google.com/assets/colab-badge.svg\" alt=\"Open In Colab\"/></a>"
      ]
    },
    {
      "cell_type": "markdown",
      "source": [
        "# Introduction to Regression with Neural Networks in TensorFlow\n",
        "\n",
        "There are many definitions for a regresssion problem but in our case, we're going to simplify it: predicting a numerical variable based on some other combination of variables, even shorter... predicting a number."
      ],
      "metadata": {
        "id": "hUGfDLVawrXn"
      }
    },
    {
      "cell_type": "code",
      "source": [
        "# Import a TensorFlow\n",
        "import tensorflow as tf\n",
        "print(tf.__version__)"
      ],
      "metadata": {
        "colab": {
          "base_uri": "https://localhost:8080/"
        },
        "id": "hMz3ac_xy_mi",
        "outputId": "5b8a2e25-60d5-4d34-a93f-7c70a7bb51f2"
      },
      "execution_count": 2,
      "outputs": [
        {
          "output_type": "stream",
          "name": "stdout",
          "text": [
            "2.11.0\n"
          ]
        }
      ]
    },
    {
      "cell_type": "markdown",
      "source": [
        "## Creating data to view and fit\n"
      ],
      "metadata": {
        "id": "Z3zgLc78zQ3C"
      }
    },
    {
      "cell_type": "code",
      "source": [
        "import numpy as np\n",
        "import matplotlib.pyplot as plt\n",
        "\n",
        "# Create features\n",
        "X = np.array([-7.0, -4.0, -1.0, 2.0, 5.0, 8.0, 11.0, 14.0])\n",
        "\n",
        "# Create labels\n",
        "y = np.array([3.0, 6.0, 9.0, 12.0, 15.0, 18.0, 21.0, 24.0])\n",
        "\n",
        "# Visualize it\n",
        "plt.scatter(X, y);"
      ],
      "metadata": {
        "colab": {
          "base_uri": "https://localhost:8080/",
          "height": 269
        },
        "id": "M8WILX85zhRm",
        "outputId": "5eb1e58e-bb95-4b4b-f671-000414e51839"
      },
      "execution_count": 3,
      "outputs": [
        {
          "output_type": "display_data",
          "data": {
            "text/plain": [
              "<Figure size 432x288 with 1 Axes>"
            ],
            "image/png": "[encoded data removed]"
          },
          "metadata": {
            "needs_background": "light"
          }
        }
      ]
    },
    {
      "cell_type": "code",
      "source": [
        "y ==X + 10\n"
      ],
      "metadata": {
        "colab": {
          "base_uri": "https://localhost:8080/"
        },
        "id": "mNK0oR_uz0o7",
        "outputId": "db85d75c-e161-496b-d7fc-7f312b782293"
      },
      "execution_count": 4,
      "outputs": [
        {
          "output_type": "execute_result",
          "data": {
            "text/plain": [
              "array([ True,  True,  True,  True,  True,  True,  True,  True])"
            ]
          },
          "metadata": {},
          "execution_count": 4
        }
      ]
    },
    {
      "cell_type": "markdown",
      "source": [
        "## Input and Output Shapes"
      ],
      "metadata": {
        "id": "w4UtSOOr0F60"
      }
    },
    {
      "cell_type": "code",
      "source": [
        "# Create a demo tensor for our housing price prediction problem\n",
        "house_info = tf.constant([\"bedroom\", \"bathroom\", \"garage\"])\n",
        "house_price = tf.constant([939700])\n",
        "house_info, house_price"
      ],
      "metadata": {
        "colab": {
          "base_uri": "https://localhost:8080/"
        },
        "id": "V4NqDq0i0fur",
        "outputId": "3a98c7a3-2ad3-467c-e9b2-2de9ca538480"
      },
      "execution_count": 5,
      "outputs": [
        {
          "output_type": "execute_result",
          "data": {
            "text/plain": [
              "(<tf.Tensor: shape=(3,), dtype=string, numpy=array([b'bedroom', b'bathroom', b'garage'], dtype=object)>,\n",
              " <tf.Tensor: shape=(1,), dtype=int32, numpy=array([939700], dtype=int32)>)"
            ]
          },
          "metadata": {},
          "execution_count": 5
        }
      ]
    },
    {
      "cell_type": "code",
      "source": [
        "input_shape = X.shape\n",
        "output_shape = y.shape\n",
        "input_shape, output_shape"
      ],
      "metadata": {
        "colab": {
          "base_uri": "https://localhost:8080/"
        },
        "id": "bPYsPT-l05AK",
        "outputId": "98d10a6d-9d47-4ae2-bdf0-15ebb7ddde12"
      },
      "execution_count": 6,
      "outputs": [
        {
          "output_type": "execute_result",
          "data": {
            "text/plain": [
              "((8,), (8,))"
            ]
          },
          "metadata": {},
          "execution_count": 6
        }
      ]
    },
    {
      "cell_type": "code",
      "source": [
        "X[0], y[0]"
      ],
      "metadata": {
        "colab": {
          "base_uri": "https://localhost:8080/"
        },
        "id": "IGVgzn-q1Ec_",
        "outputId": "fd0c64db-e6d9-4db4-8c0a-4de69e3ec400"
      },
      "execution_count": 7,
      "outputs": [
        {
          "output_type": "execute_result",
          "data": {
            "text/plain": [
              "(-7.0, 3.0)"
            ]
          },
          "metadata": {},
          "execution_count": 7
        }
      ]
    },
    {
      "cell_type": "code",
      "source": [
        "X[1], y[1]"
      ],
      "metadata": {
        "colab": {
          "base_uri": "https://localhost:8080/"
        },
        "id": "VlUhFRsu1MKj",
        "outputId": "8c2e01b5-3755-47bf-90ee-78e99e550a58"
      },
      "execution_count": 8,
      "outputs": [
        {
          "output_type": "execute_result",
          "data": {
            "text/plain": [
              "(-4.0, 6.0)"
            ]
          },
          "metadata": {},
          "execution_count": 8
        }
      ]
    },
    {
      "cell_type": "code",
      "source": [
        "input_shape = X[0].shape\n",
        "output_shape = y[0].shape\n",
        "input_shape, output_shape"
      ],
      "metadata": {
        "colab": {
          "base_uri": "https://localhost:8080/"
        },
        "id": "QQLCgljh1O0i",
        "outputId": "3d8f569b-5f9f-4432-e3ec-4f739b7867c1"
      },
      "execution_count": 9,
      "outputs": [
        {
          "output_type": "execute_result",
          "data": {
            "text/plain": [
              "((), ())"
            ]
          },
          "metadata": {},
          "execution_count": 9
        }
      ]
    },
    {
      "cell_type": "code",
      "source": [
        "X[0].ndim"
      ],
      "metadata": {
        "colab": {
          "base_uri": "https://localhost:8080/"
        },
        "id": "HGJb8fF21anN",
        "outputId": "83b46e10-8f64-4f4f-df18-a26abf005bea"
      },
      "execution_count": 10,
      "outputs": [
        {
          "output_type": "execute_result",
          "data": {
            "text/plain": [
              "0"
            ]
          },
          "metadata": {},
          "execution_count": 10
        }
      ]
    },
    {
      "cell_type": "code",
      "source": [
        "X[0], y[0]"
      ],
      "metadata": {
        "colab": {
          "base_uri": "https://localhost:8080/"
        },
        "id": "QLUfSb5n1kfl",
        "outputId": "9f8f979b-59ed-40da-a8ec-bf02873edce1"
      },
      "execution_count": 11,
      "outputs": [
        {
          "output_type": "execute_result",
          "data": {
            "text/plain": [
              "(-7.0, 3.0)"
            ]
          },
          "metadata": {},
          "execution_count": 11
        }
      ]
    },
    {
      "cell_type": "code",
      "source": [
        "# Turn our numpy arrays into tensors\n",
        "X = tf.cast(tf.constant(X), dtype=tf.float32)\n",
        "y = tf.cast(tf.constant(y), dtype=tf.float32)\n",
        "X, y\n"
      ],
      "metadata": {
        "colab": {
          "base_uri": "https://localhost:8080/"
        },
        "id": "2GhYn5K31k39",
        "outputId": "f5384b7d-f610-41b7-b32a-c90d86e89bfc"
      },
      "execution_count": 12,
      "outputs": [
        {
          "output_type": "execute_result",
          "data": {
            "text/plain": [
              "(<tf.Tensor: shape=(8,), dtype=float32, numpy=array([-7., -4., -1.,  2.,  5.,  8., 11., 14.], dtype=float32)>,\n",
              " <tf.Tensor: shape=(8,), dtype=float32, numpy=array([ 3.,  6.,  9., 12., 15., 18., 21., 24.], dtype=float32)>)"
            ]
          },
          "metadata": {},
          "execution_count": 12
        }
      ]
    },
    {
      "cell_type": "code",
      "source": [
        "input_shape = X[0].shape\n",
        "output_shape = y[0].shape\n",
        "input_shape, output_shape\n"
      ],
      "metadata": {
        "colab": {
          "base_uri": "https://localhost:8080/"
        },
        "id": "_yQyjxuEg6wQ",
        "outputId": "ace7a5f2-7b72-4783-eda7-3b47ca0ef67c"
      },
      "execution_count": 13,
      "outputs": [
        {
          "output_type": "execute_result",
          "data": {
            "text/plain": [
              "(TensorShape([]), TensorShape([]))"
            ]
          },
          "metadata": {},
          "execution_count": 13
        }
      ]
    },
    {
      "cell_type": "code",
      "source": [
        "plt.scatter(X,y)"
      ],
      "metadata": {
        "colab": {
          "base_uri": "https://localhost:8080/",
          "height": 287
        },
        "id": "2byQ35Y9hFhZ",
        "outputId": "cb3d0cb9-8cbc-4c09-c4fd-5dcff68eb915"
      },
      "execution_count": 14,
      "outputs": [
        {
          "output_type": "execute_result",
          "data": {
            "text/plain": [
              "<matplotlib.collections.PathCollection at 0x7f4b901ca580>"
            ]
          },
          "metadata": {},
          "execution_count": 14
        },
        {
          "output_type": "display_data",
          "data": {
            "text/plain": [
              "<Figure size 432x288 with 1 Axes>"
            ],
            "image/png": "[encoded data removed]"
          },
          "metadata": {
            "needs_background": "light"
          }
        }
      ]
    },
    {
      "cell_type": "markdown",
      "source": [
        "## Steps in modelling with TensorFlow\n",
        "\n",
        "1. Creating a model - define the input and output layers, as well as the hidden layers of a deep learning model.\n",
        "2. Compiling a model - define the loss function (the function that tells our model how wrong it is) and the optimizer (tells our model how to improve the patterns its learning) and evalutaion metris (what we can use to interpret the performance of our model).\n",
        "3. Fitting a model - letting the model try to find patterns between X&y (features and labels)"
      ],
      "metadata": {
        "id": "xpMuLhEzhHf8"
      }
    },
    {
      "cell_type": "code",
      "source": [
        "# Set random seed\n",
        "tf.random.set_seed(42)\n",
        "\n",
        "#1. Create a model using hte Sequential API\n",
        "model = tf.keras.Sequential([\n",
        "    tf.keras.layers.Dense(1)\n",
        "])\n",
        "# model.add(tf.keras.layers.Dense(1)) # other way of adding layer\n",
        "\n",
        "#2. Compile the model\n",
        "model.compile(loss=tf.keras.losses.mae, # mae is short for mean absolute error\n",
        "              optimizer=tf.keras.optimizers.SGD(), #sgd is short for stochastic gradient descent)\n",
        "              metrics=[\"mae\"]\n",
        "              )\n",
        "\n",
        "#3. Fit the model\n",
        "model.fit(tf.expand_dims(X, axis=-1), y, epochs=5)\n",
        "\n",
        "#"
      ],
      "metadata": {
        "colab": {
          "base_uri": "https://localhost:8080/"
        },
        "id": "5bgVHvNdiDGA",
        "outputId": "b4a71b89-bbff-4f48-aab9-33fc3f55d234"
      },
      "execution_count": 15,
      "outputs": [
        {
          "output_type": "stream",
          "name": "stdout",
          "text": [
            "Epoch 1/5\n",
            "1/1 [==============================] - 1s 874ms/step - loss: 11.1489 - mae: 11.1489\n",
            "Epoch 2/5\n",
            "1/1 [==============================] - 0s 14ms/step - loss: 11.0164 - mae: 11.0164\n",
            "Epoch 3/5\n",
            "1/1 [==============================] - 0s 21ms/step - loss: 10.8839 - mae: 10.8839\n",
            "Epoch 4/5\n",
            "1/1 [==============================] - 0s 11ms/step - loss: 10.7514 - mae: 10.7514\n",
            "Epoch 5/5\n",
            "1/1 [==============================] - 0s 17ms/step - loss: 10.6189 - mae: 10.6189\n"
          ]
        },
        {
          "output_type": "execute_result",
          "data": {
            "text/plain": [
              "<keras.callbacks.History at 0x7f4b900403d0>"
            ]
          },
          "metadata": {},
          "execution_count": 15
        }
      ]
    },
    {
      "cell_type": "code",
      "source": [
        "# Check out x and y\n",
        "X, y"
      ],
      "metadata": {
        "colab": {
          "base_uri": "https://localhost:8080/"
        },
        "id": "_ELGWhApihhU",
        "outputId": "71401d7f-1e1b-40ec-a844-bff7dfd549e5"
      },
      "execution_count": 16,
      "outputs": [
        {
          "output_type": "execute_result",
          "data": {
            "text/plain": [
              "(<tf.Tensor: shape=(8,), dtype=float32, numpy=array([-7., -4., -1.,  2.,  5.,  8., 11., 14.], dtype=float32)>,\n",
              " <tf.Tensor: shape=(8,), dtype=float32, numpy=array([ 3.,  6.,  9., 12., 15., 18., 21., 24.], dtype=float32)>)"
            ]
          },
          "metadata": {},
          "execution_count": 16
        }
      ]
    },
    {
      "cell_type": "code",
      "source": [
        "# Try and make a prediction using our model\n",
        "y_pred = model.predict([-4])\n",
        "y_pred"
      ],
      "metadata": {
        "colab": {
          "base_uri": "https://localhost:8080/"
        },
        "id": "PuSKFfBfl5gZ",
        "outputId": "903a4260-2d3c-4c32-892e-b86ddc7451ec"
      },
      "execution_count": 17,
      "outputs": [
        {
          "output_type": "stream",
          "name": "stdout",
          "text": [
            "1/1 [==============================] - 0s 112ms/step\n"
          ]
        },
        {
          "output_type": "execute_result",
          "data": {
            "text/plain": [
              "array([[-3.3369327]], dtype=float32)"
            ]
          },
          "metadata": {},
          "execution_count": 17
        }
      ]
    },
    {
      "cell_type": "markdown",
      "source": [
        "## Improving our model\n",
        "\n",
        "We can improve our model, by altering the steps we took to create our model.\n",
        "\n",
        "1. **Creating a model** - here we might add more layers, increase the number of hidden units (also called neurons) within each of the hidden layers, change the activiation function of each layer.\n",
        "2. **Compiling a model** - here we might change the optimization function or perhaps the  **learning rate** of the optimization function.\n",
        "3. **Fitting a model** - here we might fit a model for more **epochs** (leave it training for longer) or on more data (give the model more examples to learn from)."
      ],
      "metadata": {
        "id": "5NDhM2R0mCdy"
      }
    },
    {
      "cell_type": "code",
      "source": [
        "# Let's rebuild our model\n",
        "\n",
        "#1. Create the model\n",
        "model = tf.keras.Sequential([\n",
        "    tf.keras.layers.Dense(1)\n",
        "])\n",
        "\n",
        "#2. Compile the model\n",
        "model.compile(loss=tf.keras.losses.mae,\n",
        "              optimizer=tf.keras.optimizers.SGD(),\n",
        "              metrics=[\"mae\"])\n",
        "\n",
        "#3. Fit the model (this time we'll train for longer)\n",
        "model.fit(tf.expand_dims(X, axis=-1), y, epochs=100)"
      ],
      "metadata": {
        "id": "x1hqoQwvnKsr"
      },
      "execution_count": null,
      "outputs": []
    },
    {
      "cell_type": "code",
      "source": [
        "# Remind ourselves of the data\n",
        "X, y"
      ],
      "metadata": {
        "colab": {
          "base_uri": "https://localhost:8080/"
        },
        "id": "368PRSAYpYCR",
        "outputId": "0e011c4d-69a3-40fa-bbdf-5aafc1864dd2"
      },
      "execution_count": 19,
      "outputs": [
        {
          "output_type": "execute_result",
          "data": {
            "text/plain": [
              "(<tf.Tensor: shape=(8,), dtype=float32, numpy=array([-7., -4., -1.,  2.,  5.,  8., 11., 14.], dtype=float32)>,\n",
              " <tf.Tensor: shape=(8,), dtype=float32, numpy=array([ 3.,  6.,  9., 12., 15., 18., 21., 24.], dtype=float32)>)"
            ]
          },
          "metadata": {},
          "execution_count": 19
        }
      ]
    },
    {
      "cell_type": "code",
      "source": [
        "# Let's see if our model's prediction has improved...\n",
        "model.predict([17.0])"
      ],
      "metadata": {
        "colab": {
          "base_uri": "https://localhost:8080/"
        },
        "id": "q7TD78-kqItf",
        "outputId": "bb5cd3ea-9057-4da8-df90-723a5ccfdd88"
      },
      "execution_count": 20,
      "outputs": [
        {
          "output_type": "stream",
          "name": "stdout",
          "text": [
            "1/1 [==============================] - 0s 81ms/step\n"
          ]
        },
        {
          "output_type": "execute_result",
          "data": {
            "text/plain": [
              "array([[29.572271]], dtype=float32)"
            ]
          },
          "metadata": {},
          "execution_count": 20
        }
      ]
    },
    {
      "cell_type": "code",
      "source": [
        "# Let's rebuild our model\n",
        "\n",
        "#1. Create the model (this time with an extra hidden layer with 100 hidden units)\n",
        "model = tf.keras.Sequential([\n",
        "    tf.keras.layers.Dense(50, activation=None),\n",
        "    tf.keras.layers.Dense(1),\n",
        "])\n",
        "\n",
        "#2. Compile the model\n",
        "model.compile(loss=\"mae\", # other way of specifying loss function\n",
        "              optimizer=tf.keras.optimizers.SGD(),\n",
        "              metrics=[\"mae\"])\n",
        "\n",
        "#3. Fit the model (this time we'll train for longer)\n",
        "model.fit(tf.expand_dims(X, axis=-1), y, epochs=100)"
      ],
      "metadata": {
        "id": "fLR5l76OqPEb"
      },
      "execution_count": null,
      "outputs": []
    },
    {
      "cell_type": "markdown",
      "source": [
        "changing to Adam and changing the learning rate actually gave me a worse result from the videos, but I'm using a newer version of tensorflow"
      ],
      "metadata": {
        "id": "2DgkvxBJtYtB"
      }
    },
    {
      "cell_type": "code",
      "source": [
        "# Let's remind ourselves of the data\n",
        "X, y"
      ],
      "metadata": {
        "colab": {
          "base_uri": "https://localhost:8080/"
        },
        "id": "J_NmllkssBFP",
        "outputId": "dc1e33f0-6f29-4b66-d53f-027444079635"
      },
      "execution_count": 22,
      "outputs": [
        {
          "output_type": "execute_result",
          "data": {
            "text/plain": [
              "(<tf.Tensor: shape=(8,), dtype=float32, numpy=array([-7., -4., -1.,  2.,  5.,  8., 11., 14.], dtype=float32)>,\n",
              " <tf.Tensor: shape=(8,), dtype=float32, numpy=array([ 3.,  6.,  9., 12., 15., 18., 21., 24.], dtype=float32)>)"
            ]
          },
          "metadata": {},
          "execution_count": 22
        }
      ]
    },
    {
      "cell_type": "code",
      "source": [
        "# Let's see if our model's prediction has improved...\n",
        "model.predict([17.0])"
      ],
      "metadata": {
        "colab": {
          "base_uri": "https://localhost:8080/"
        },
        "id": "qcgfyHNfqnfd",
        "outputId": "0e62db2f-0de4-4e91-a1a3-fb980b345dd8"
      },
      "execution_count": 23,
      "outputs": [
        {
          "output_type": "stream",
          "name": "stdout",
          "text": [
            "1/1 [==============================] - 0s 112ms/step\n"
          ]
        },
        {
          "output_type": "execute_result",
          "data": {
            "text/plain": [
              "array([[30.108418]], dtype=float32)"
            ]
          },
          "metadata": {},
          "execution_count": 23
        }
      ]
    },
    {
      "cell_type": "markdown",
      "source": [
        "Looks like even though the loss and mae is better with this model but the result isn't actually better. This may be 'overfitting'"
      ],
      "metadata": {
        "id": "oY777N-ysGtR"
      }
    },
    {
      "cell_type": "code",
      "source": [],
      "metadata": {
        "id": "zt83NQ9xqsNJ"
      },
      "execution_count": 23,
      "outputs": []
    },
    {
      "cell_type": "markdown",
      "source": [
        "## Evaluating a model\n",
        "\n",
        "In practice, a typical workflow you'll go through when building a neural network is:\n",
        "`Build a model -> fit it -> evaluate it -> tweak a model -> fit it -> evaluate it`"
      ],
      "metadata": {
        "id": "lmIbHzbyr6bL"
      }
    },
    {
      "cell_type": "markdown",
      "source": [
        "When it comes to evaluation... there are 3 words you should memorize:\n",
        "\n",
        "> \"Visualize, visualize, visualize\"\n",
        "\n",
        "It's a good idea to visualize:\n",
        "* The data - what data are we working with? What does it look like?\n",
        "* The model itself - what does our model look like?\n",
        "* The training of a model - how does a model perform while it learns?\n",
        "* The predictions of the model - how do the predictions of a model line up against the ground truth (the original labels)?"
      ],
      "metadata": {
        "id": "7LA-L9t2uXb-"
      }
    },
    {
      "cell_type": "code",
      "source": [
        "# Make a bigger dataset\n",
        "X = tf.range(-100, 100, 4)\n",
        "X"
      ],
      "metadata": {
        "colab": {
          "base_uri": "https://localhost:8080/"
        },
        "id": "3QU8TEqVu6O0",
        "outputId": "7e5caa69-4aaa-4d64-86ba-75acfadd3e67"
      },
      "execution_count": 24,
      "outputs": [
        {
          "output_type": "execute_result",
          "data": {
            "text/plain": [
              "<tf.Tensor: shape=(50,), dtype=int32, numpy=\n",
              "array([-100,  -96,  -92,  -88,  -84,  -80,  -76,  -72,  -68,  -64,  -60,\n",
              "        -56,  -52,  -48,  -44,  -40,  -36,  -32,  -28,  -24,  -20,  -16,\n",
              "        -12,   -8,   -4,    0,    4,    8,   12,   16,   20,   24,   28,\n",
              "         32,   36,   40,   44,   48,   52,   56,   60,   64,   68,   72,\n",
              "         76,   80,   84,   88,   92,   96], dtype=int32)>"
            ]
          },
          "metadata": {},
          "execution_count": 24
        }
      ]
    },
    {
      "cell_type": "code",
      "source": [
        "# Make labels for the dataset\n",
        "y = X + 10\n",
        "y"
      ],
      "metadata": {
        "colab": {
          "base_uri": "https://localhost:8080/"
        },
        "id": "4h9J85aPvCbg",
        "outputId": "3ab73678-13ee-44a7-ad1b-0347130f7ff3"
      },
      "execution_count": 25,
      "outputs": [
        {
          "output_type": "execute_result",
          "data": {
            "text/plain": [
              "<tf.Tensor: shape=(50,), dtype=int32, numpy=\n",
              "array([-90, -86, -82, -78, -74, -70, -66, -62, -58, -54, -50, -46, -42,\n",
              "       -38, -34, -30, -26, -22, -18, -14, -10,  -6,  -2,   2,   6,  10,\n",
              "        14,  18,  22,  26,  30,  34,  38,  42,  46,  50,  54,  58,  62,\n",
              "        66,  70,  74,  78,  82,  86,  90,  94,  98, 102, 106], dtype=int32)>"
            ]
          },
          "metadata": {},
          "execution_count": 25
        }
      ]
    },
    {
      "cell_type": "code",
      "source": [
        "# Visualize the data\n",
        "import matplotlib.pyplot as plt\n",
        "plt.scatter(X, y)"
      ],
      "metadata": {
        "colab": {
          "base_uri": "https://localhost:8080/",
          "height": 283
        },
        "id": "98LQNzONwuOD",
        "outputId": "8bffbec9-386b-4d0a-cbb4-6adddb1dabe5"
      },
      "execution_count": 26,
      "outputs": [
        {
          "output_type": "execute_result",
          "data": {
            "text/plain": [
              "<matplotlib.collections.PathCollection at 0x7f4b839fcfd0>"
            ]
          },
          "metadata": {},
          "execution_count": 26
        },
        {
          "output_type": "display_data",
          "data": {
            "text/plain": [
              "<Figure size 432x288 with 1 Axes>"
            ],
            "image/png": "[encoded data removed]"
          },
          "metadata": {
            "needs_background": "light"
          }
        }
      ]
    },
    {
      "cell_type": "markdown",
      "source": [
        "### The 3 sets...\n",
        "\n",
        "* **Training set** - the model learns from this data, which is typically 70-80% of the total data you have available.\n",
        "* **Validation set** - the model gets tuned on this data, which is typically 10-15% of the data available.\n",
        "* **Test set** - the model gets evaluated on this data to test what it has learned, this set is typically 10-15% of the total data available."
      ],
      "metadata": {
        "id": "-PKlYN66w4_9"
      }
    },
    {
      "cell_type": "code",
      "source": [
        "# Check the length of how many samples we have\n",
        "len(X)"
      ],
      "metadata": {
        "colab": {
          "base_uri": "https://localhost:8080/"
        },
        "id": "VeRtNDXJyKRw",
        "outputId": "566c361f-cf45-4ee3-8e76-0734caa41236"
      },
      "execution_count": 27,
      "outputs": [
        {
          "output_type": "execute_result",
          "data": {
            "text/plain": [
              "50"
            ]
          },
          "metadata": {},
          "execution_count": 27
        }
      ]
    },
    {
      "cell_type": "code",
      "source": [
        "# Split the data into train and test sets\n",
        "X_train = X[:40] # first 40 are training samplse (80% of the data)\n",
        "y_train = y[:40]\n",
        "\n",
        "X_test = X[40:] # last 10 are testing samples (20% of the data)\n",
        "y_test = y[40:]\n",
        "\n",
        "len(X_train), len(X_test), len(y_train), len(y_test)"
      ],
      "metadata": {
        "colab": {
          "base_uri": "https://localhost:8080/"
        },
        "id": "zlXJowzCO4ma",
        "outputId": "d4114041-04ad-4d20-bcc4-23110b233f96"
      },
      "execution_count": 28,
      "outputs": [
        {
          "output_type": "execute_result",
          "data": {
            "text/plain": [
              "(40, 10, 40, 10)"
            ]
          },
          "metadata": {},
          "execution_count": 28
        }
      ]
    },
    {
      "cell_type": "markdown",
      "source": [
        "## Visualizing the data\n",
        "\n",
        "Now we've got our data in training and test sets...let's visualize it again!\n"
      ],
      "metadata": {
        "id": "4FFmd23eQC3p"
      }
    },
    {
      "cell_type": "code",
      "source": [
        "plt.figure(figsize=(10, 7))\n",
        "# Plot training data in blue\n",
        "plt.scatter(X_train, y_train, c=\"b\", label=\"training data\")\n",
        "# Plot test data in green\n",
        "plt.scatter(X_test, y_test, c=\"g\", label=\"test data\")\n",
        "plt.legend()"
      ],
      "metadata": {
        "colab": {
          "base_uri": "https://localhost:8080/",
          "height": 446
        },
        "id": "d6r8Ut4EQMIB",
        "outputId": "83fc860a-d52f-4433-9e61-41751ca3d3cd"
      },
      "execution_count": 30,
      "outputs": [
        {
          "output_type": "execute_result",
          "data": {
            "text/plain": [
              "<matplotlib.legend.Legend at 0x7f4b82806b80>"
            ]
          },
          "metadata": {},
          "execution_count": 30
        },
        {
          "output_type": "display_data",
          "data": {
            "text/plain": [
              "<Figure size 720x504 with 1 Axes>"
            ],
            "image/png": "[encoded data removed]"
          },
          "metadata": {
            "needs_background": "light"
          }
        }
      ]
    },
    {
      "cell_type": "code",
      "source": [
        "# Let's have a look at how to build a neural network for our data\n",
        "\n",
        "#1. Create the model \n",
        "model = tf.keras.Sequential([\n",
        "    tf.keras.layers.Dense(1)\n",
        "])\n",
        "\n",
        "#2. Compile the model\n",
        "model.compile(loss=\"mae\", \n",
        "              optimizer=tf.keras.optimizers.SGD(),\n",
        "              metrics=[\"mae\"])\n",
        "\n",
        "#3. Fit the model (this time we'll train for longer)\n",
        "# model.fit(tf.expand_dims(X_train, axis=-1), y_train, epochs=100)"
      ],
      "metadata": {
        "id": "9HXpg_MhQeH3"
      },
      "execution_count": 31,
      "outputs": []
    },
    {
      "cell_type": "code",
      "source": [
        "### Visualizing the model\n",
        "# model.summary()"
      ],
      "metadata": {
        "colab": {
          "base_uri": "https://localhost:8080/",
          "height": 329
        },
        "id": "3s1i9AQkRcg1",
        "outputId": "053929ed-7901-48c3-cee8-d99ea5625723"
      },
      "execution_count": 32,
      "outputs": [
        {
          "output_type": "error",
          "ename": "ValueError",
          "evalue": "ignored",
          "traceback": [
            "\u001b[0;31m---------------------------------------------------------------------------\u001b[0m",
            "\u001b[0;31mValueError\u001b[0m                                Traceback (most recent call last)",
            "\u001b[0;32m<ipython-input-32-da53554ccb5b>\u001b[0m in \u001b[0;36m<module>\u001b[0;34m\u001b[0m\n\u001b[1;32m      1\u001b[0m \u001b[0;31m### Visualizing the model\u001b[0m\u001b[0;34m\u001b[0m\u001b[0;34m\u001b[0m\u001b[0;34m\u001b[0m\u001b[0m\n\u001b[0;32m----> 2\u001b[0;31m \u001b[0mmodel\u001b[0m\u001b[0;34m.\u001b[0m\u001b[0msummary\u001b[0m\u001b[0;34m(\u001b[0m\u001b[0;34m)\u001b[0m\u001b[0;34m\u001b[0m\u001b[0;34m\u001b[0m\u001b[0m\n\u001b[0m",
            "\u001b[0;32m/usr/local/lib/python3.8/dist-packages/keras/engine/training.py\u001b[0m in \u001b[0;36msummary\u001b[0;34m(self, line_length, positions, print_fn, expand_nested, show_trainable, layer_range)\u001b[0m\n\u001b[1;32m   3290\u001b[0m         \"\"\"\n\u001b[1;32m   3291\u001b[0m         \u001b[0;32mif\u001b[0m \u001b[0;32mnot\u001b[0m \u001b[0mself\u001b[0m\u001b[0;34m.\u001b[0m\u001b[0mbuilt\u001b[0m\u001b[0;34m:\u001b[0m\u001b[0;34m\u001b[0m\u001b[0;34m\u001b[0m\u001b[0m\n\u001b[0;32m-> 3292\u001b[0;31m             raise ValueError(\n\u001b[0m\u001b[1;32m   3293\u001b[0m                 \u001b[0;34m\"This model has not yet been built. \"\u001b[0m\u001b[0;34m\u001b[0m\u001b[0;34m\u001b[0m\u001b[0m\n\u001b[1;32m   3294\u001b[0m                 \u001b[0;34m\"Build the model first by calling `build()` or by calling \"\u001b[0m\u001b[0;34m\u001b[0m\u001b[0;34m\u001b[0m\u001b[0m\n",
            "\u001b[0;31mValueError\u001b[0m: This model has not yet been built. Build the model first by calling `build()` or by calling the model on a batch of data."
          ]
        }
      ]
    },
    {
      "cell_type": "code",
      "source": [
        "# Let's create a model which builds automatically by defining the input_shape argument in the first layer\n",
        "tf.random.set_seed(42)\n",
        "\n",
        "# Create a model (same as above)\n",
        "model = tf.keras.Sequential([\n",
        "    tf.keras.layers.Dense(10, input_shape=[1], name=\"input_layer\", activation=None),\n",
        "    tf.keras.layers.Dense(1, name=\"output_layer\")\n",
        "], name=\"test\")\n",
        "\n",
        "# 2. Compile the model\n",
        "model.compile(loss=tf.keras.losses.mae,\n",
        "              optimizer=tf.keras.optimizers.SGD(),\n",
        "              metrics=[\"mae\"])\n",
        "\n",
        "model.summary()"
      ],
      "metadata": {
        "colab": {
          "base_uri": "https://localhost:8080/"
        },
        "id": "KJ8nghMCR3J1",
        "outputId": "7cfcd451-1d71-485f-911c-5145ef85122e"
      },
      "execution_count": 55,
      "outputs": [
        {
          "output_type": "stream",
          "name": "stdout",
          "text": [
            "Model: \"test\"\n",
            "_________________________________________________________________\n",
            " Layer (type)                Output Shape              Param #   \n",
            "=================================================================\n",
            " input_layer (Dense)         (None, 10)                20        \n",
            "                                                                 \n",
            " output_layer (Dense)        (None, 1)                 11        \n",
            "                                                                 \n",
            "=================================================================\n",
            "Total params: 31\n",
            "Trainable params: 31\n",
            "Non-trainable params: 0\n",
            "_________________________________________________________________\n"
          ]
        }
      ]
    },
    {
      "cell_type": "markdown",
      "source": [
        "* Total params - total number of parameters in the model.\n",
        "* Trainable parameters - these are the parameters (patterns) the model can update as it trains. \n",
        "* Non-trainable params - these parameters aren't updated during training (this is typical when you bring in already learned patterns or parameters from other models during **transfer learning**).\n",
        "\n",
        "📖 **Resource**: For a more in depth overview of trainable parameters within a layer, check out MITs introduction to deep learning http://introtodeeplearning.com/\n",
        "\n",
        "🛠 **Exercise**: play around with the model definition and look at the summary output"
      ],
      "metadata": {
        "id": "WxQCM0HkR04K"
      }
    },
    {
      "cell_type": "code",
      "source": [
        "# Let's fit our model to the training data\n",
        "model.fit(tf.expand_dims(X_train, axis=-1), y_train, epochs=100, verbose=0)"
      ],
      "metadata": {
        "colab": {
          "base_uri": "https://localhost:8080/"
        },
        "id": "9bB-R-JCTCwe",
        "outputId": "ef98503b-4f66-4311-f728-37585cf6e815"
      },
      "execution_count": 56,
      "outputs": [
        {
          "output_type": "execute_result",
          "data": {
            "text/plain": [
              "<keras.callbacks.History at 0x7f4b9a7f6ac0>"
            ]
          },
          "metadata": {},
          "execution_count": 56
        }
      ]
    },
    {
      "cell_type": "code",
      "source": [
        "# get a summary of our model\n",
        "model.summary()"
      ],
      "metadata": {
        "colab": {
          "base_uri": "https://localhost:8080/"
        },
        "id": "sA827uxLUwmg",
        "outputId": "8d7ecd52-1fee-4d4e-f9a8-96b192279a6d"
      },
      "execution_count": 57,
      "outputs": [
        {
          "output_type": "stream",
          "name": "stdout",
          "text": [
            "Model: \"test\"\n",
            "_________________________________________________________________\n",
            " Layer (type)                Output Shape              Param #   \n",
            "=================================================================\n",
            " input_layer (Dense)         (None, 10)                20        \n",
            "                                                                 \n",
            " output_layer (Dense)        (None, 1)                 11        \n",
            "                                                                 \n",
            "=================================================================\n",
            "Total params: 31\n",
            "Trainable params: 31\n",
            "Non-trainable params: 0\n",
            "_________________________________________________________________\n"
          ]
        }
      ]
    },
    {
      "cell_type": "code",
      "source": [
        "from tensorflow.keras.utils import plot_model\n",
        "\n",
        "plot_model(model=model, show_shapes=True) "
      ],
      "metadata": {
        "colab": {
          "base_uri": "https://localhost:8080/",
          "height": 312
        },
        "id": "5X24JkiOltA_",
        "outputId": "98564784-b5f4-4341-842e-df556305e560"
      },
      "execution_count": 58,
      "outputs": [
        {
          "output_type": "execute_result",
          "data": {
            "image/png": "[encoded data removed]",
            "text/plain": [
              "<IPython.core.display.Image object>"
            ]
          },
          "metadata": {},
          "execution_count": 58
        }
      ]
    },
    {
      "cell_type": "markdown",
      "source": [
        "### Visualizing our model's predictions\n",
        "\n",
        "To visualize predictinos, it's a good idea to plot them against the ground truth labels.\n",
        "\n",
        "Often you'll see this in the form of `y_test` or `y_true` versus `y_pred` (ground truth versus your model)"
      ],
      "metadata": {
        "id": "agxVL5cUmO2-"
      }
    },
    {
      "cell_type": "code",
      "source": [
        "# Make some predictions\n",
        "y_pred = model.predict(X_test)\n",
        "y_pred"
      ],
      "metadata": {
        "colab": {
          "base_uri": "https://localhost:8080/"
        },
        "id": "bYsWjE1UphGx",
        "outputId": "6f4a9ccd-019f-4493-eec6-4eda89b8c0a3"
      },
      "execution_count": 59,
      "outputs": [
        {
          "output_type": "stream",
          "name": "stderr",
          "text": [
            "WARNING:tensorflow:5 out of the last 5 calls to <function Model.make_predict_function.<locals>.predict_function at 0x7f4b9a8be040> triggered tf.function retracing. Tracing is expensive and the excessive number of tracings could be due to (1) creating @tf.function repeatedly in a loop, (2) passing tensors with different shapes, (3) passing Python objects instead of tensors. For (1), please define your @tf.function outside of the loop. For (2), @tf.function has reduce_retracing=True option that can avoid unnecessary retracing. For (3), please refer to https://www.tensorflow.org/guide/function#controlling_retracing and https://www.tensorflow.org/api_docs/python/tf/function for  more details.\n"
          ]
        },
        {
          "output_type": "stream",
          "name": "stdout",
          "text": [
            "1/1 [==============================] - 0s 72ms/step\n"
          ]
        },
        {
          "output_type": "execute_result",
          "data": {
            "text/plain": [
              "array([[ 69.468994],\n",
              "       [ 73.984726],\n",
              "       [ 78.50046 ],\n",
              "       [ 83.01618 ],\n",
              "       [ 87.53192 ],\n",
              "       [ 92.047646],\n",
              "       [ 96.56338 ],\n",
              "       [101.07911 ],\n",
              "       [105.59484 ],\n",
              "       [110.11057 ]], dtype=float32)"
            ]
          },
          "metadata": {},
          "execution_count": 59
        }
      ]
    },
    {
      "cell_type": "code",
      "source": [
        "y_test"
      ],
      "metadata": {
        "colab": {
          "base_uri": "https://localhost:8080/"
        },
        "id": "qUN_fowCpm5P",
        "outputId": "7b4085ce-f499-412e-c341-ff3cdc4012c9"
      },
      "execution_count": 50,
      "outputs": [
        {
          "output_type": "execute_result",
          "data": {
            "text/plain": [
              "<tf.Tensor: shape=(10,), dtype=int32, numpy=array([ 70,  74,  78,  82,  86,  90,  94,  98, 102, 106], dtype=int32)>"
            ]
          },
          "metadata": {},
          "execution_count": 50
        }
      ]
    },
    {
      "cell_type": "markdown",
      "source": [
        "🔑 Note: If you feel like you're going to reuse some kind of functionality in the future, it's a good idea to "
      ],
      "metadata": {
        "id": "zYrsRjBOp1Fn"
      }
    },
    {
      "cell_type": "code",
      "source": [
        "# Let's create a plotting function\n",
        "def plot_predictions(train_data=X_train,\n",
        "                     train_labels=y_train,\n",
        "                     test_data=X_test,\n",
        "                     test_labels=y_test,\n",
        "                     predictions=y_pred):\n",
        "  \"\"\"\n",
        "  Plots training data, test data and compares predictions to ground truth labels\n",
        "  \"\"\"\n",
        "  plt.figure(figsize=(10,7))\n",
        "  #Plot training data in blue\n",
        "  plt.scatter(train_data, train_labels, c=\"b\",label=\"Training data\")\n",
        "  #Plot testing data in green\n",
        "  plt.scatter(test_data, test_labels, c=\"g\", label=\"Testing data\")\n",
        "  #Plot model's predictions in red\n",
        "  plt.scatter(test_data, predictions, c=\"r\", label=\"Predictions\")\n",
        "  #Show the legend\n",
        "  plt.legend();"
      ],
      "metadata": {
        "id": "j4EOnNJtpsr6"
      },
      "execution_count": 51,
      "outputs": []
    },
    {
      "cell_type": "code",
      "source": [
        "plot_predictions(train_data=X_train,\n",
        "                 train_labels=y_train,\n",
        "                 test_data=X_test,\n",
        "                 test_labels=y_test,\n",
        "                 predictions=y_pred)\n"
      ],
      "metadata": {
        "colab": {
          "base_uri": "https://localhost:8080/",
          "height": 428
        },
        "id": "Zo4Pc7QHgHOn",
        "outputId": "044409a1-1e15-431e-fd43-66f82ce7d70b"
      },
      "execution_count": 60,
      "outputs": [
        {
          "output_type": "display_data",
          "data": {
            "text/plain": [
              "<Figure size 720x504 with 1 Axes>"
            ],
            "image/png": "[encoded data removed]"
          },
          "metadata": {
            "needs_background": "light"
          }
        }
      ]
    },
    {
      "cell_type": "markdown",
      "source": [
        "### Evaluating our model's predictions with regression evaluation metrics\n",
        "\n",
        "Depending on the problem you're working on, there will be different evaluation metrics to evaluate your model's performance.\n",
        "\n",
        "Since we're working on a regression, two of the main metrics:\n",
        "* MAE - mean absolute error, \"on average, how wrong is each of my model's predictions\"\n",
        "* MSE - mean square error - \"square the mean error\""
      ],
      "metadata": {
        "id": "wS6YRs5OgJvP"
      }
    },
    {
      "cell_type": "code",
      "source": [
        "# Evaluate the model on the test set\n",
        "model.evaluate(X_test, y_test)"
      ],
      "metadata": {
        "colab": {
          "base_uri": "https://localhost:8080/"
        },
        "id": "r1CAv5cqi0Yf",
        "outputId": "446b7714-12ab-4ab4-fc23-ef03e6b72cf7"
      },
      "execution_count": 61,
      "outputs": [
        {
          "output_type": "stream",
          "name": "stdout",
          "text": [
            "1/1 [==============================] - 0s 425ms/step - loss: 1.8990 - mae: 1.8990\n"
          ]
        },
        {
          "output_type": "execute_result",
          "data": {
            "text/plain": [
              "[1.8990364074707031, 1.8990364074707031]"
            ]
          },
          "metadata": {},
          "execution_count": 61
        }
      ]
    },
    {
      "cell_type": "code",
      "source": [
        "tf.constant(y_pred)"
      ],
      "metadata": {
        "colab": {
          "base_uri": "https://localhost:8080/"
        },
        "id": "PrUkQ8DikTQ-",
        "outputId": "38abd421-3ee4-4aac-f853-46cf4590ee43"
      },
      "execution_count": 65,
      "outputs": [
        {
          "output_type": "execute_result",
          "data": {
            "text/plain": [
              "<tf.Tensor: shape=(10, 1), dtype=float32, numpy=\n",
              "array([[ 69.468994],\n",
              "       [ 73.984726],\n",
              "       [ 78.50046 ],\n",
              "       [ 83.01618 ],\n",
              "       [ 87.53192 ],\n",
              "       [ 92.047646],\n",
              "       [ 96.56338 ],\n",
              "       [101.07911 ],\n",
              "       [105.59484 ],\n",
              "       [110.11057 ]], dtype=float32)>"
            ]
          },
          "metadata": {},
          "execution_count": 65
        }
      ]
    },
    {
      "cell_type": "code",
      "source": [
        "tf.squeeze(y_pred)"
      ],
      "metadata": {
        "colab": {
          "base_uri": "https://localhost:8080/"
        },
        "id": "F46cSX2UkdBZ",
        "outputId": "e45775c1-dc8f-45f1-a3c7-16ba9ca5c2c6"
      },
      "execution_count": 66,
      "outputs": [
        {
          "output_type": "execute_result",
          "data": {
            "text/plain": [
              "<tf.Tensor: shape=(10,), dtype=float32, numpy=\n",
              "array([ 69.468994,  73.984726,  78.50046 ,  83.01618 ,  87.53192 ,\n",
              "        92.047646,  96.56338 , 101.07911 , 105.59484 , 110.11057 ],\n",
              "      dtype=float32)>"
            ]
          },
          "metadata": {},
          "execution_count": 66
        }
      ]
    },
    {
      "cell_type": "code",
      "source": [
        "y_test"
      ],
      "metadata": {
        "colab": {
          "base_uri": "https://localhost:8080/"
        },
        "id": "9GjrKY4GkPps",
        "outputId": "6a26a58d-9899-4182-fc78-f95b3def3505"
      },
      "execution_count": 64,
      "outputs": [
        {
          "output_type": "execute_result",
          "data": {
            "text/plain": [
              "<tf.Tensor: shape=(10,), dtype=int32, numpy=array([ 70,  74,  78,  82,  86,  90,  94,  98, 102, 106], dtype=int32)>"
            ]
          },
          "metadata": {},
          "execution_count": 64
        }
      ]
    },
    {
      "cell_type": "code",
      "source": [
        "# Calculate the mean absolute error\n",
        "mae = tf.metrics.mean_absolute_error(y_true=y_test, y_pred=tf.constant(y_pred))\n",
        "mae"
      ],
      "metadata": {
        "colab": {
          "base_uri": "https://localhost:8080/"
        },
        "id": "aGEuV2oAi8j8",
        "outputId": "66da928d-3ee6-4505-d07f-07924185670e"
      },
      "execution_count": 67,
      "outputs": [
        {
          "output_type": "execute_result",
          "data": {
            "text/plain": [
              "<tf.Tensor: shape=(10,), dtype=float32, numpy=\n",
              "array([18.531006, 14.81222 , 12.199817, 10.596764, 10.      , 10.409529,\n",
              "       11.825351, 14.247465, 17.675873, 22.110573], dtype=float32)>"
            ]
          },
          "metadata": {},
          "execution_count": 67
        }
      ]
    },
    {
      "cell_type": "code",
      "source": [],
      "metadata": {
        "id": "vxJHTvyfjua0"
      },
      "execution_count": null,
      "outputs": []
    },
    {
      "cell_type": "code",
      "source": [
        "mae = tf.metrics.mean_absolute_error(y_true=y_test,\n",
        "                                     y_pred=tf.squeeze(y_pred))\n",
        "mae"
      ],
      "metadata": {
        "colab": {
          "base_uri": "https://localhost:8080/"
        },
        "id": "HaPgy5klkks6",
        "outputId": "d1a53e8a-86f0-4856-abf4-d147364f3149"
      },
      "execution_count": 69,
      "outputs": [
        {
          "output_type": "execute_result",
          "data": {
            "text/plain": [
              "<tf.Tensor: shape=(), dtype=float32, numpy=1.8990387>"
            ]
          },
          "metadata": {},
          "execution_count": 69
        }
      ]
    },
    {
      "cell_type": "code",
      "source": [
        "# Calculate the mean square error\n",
        "mse = tf.metrics.mean_squared_error(y_true=y_test,\n",
        "                                    y_pred=tf.squeeze(y_pred))\n",
        "mse"
      ],
      "metadata": {
        "colab": {
          "base_uri": "https://localhost:8080/"
        },
        "id": "1UURf70Vktdo",
        "outputId": "46a942b2-dc8d-49be-a9c2-fb1eccde6860"
      },
      "execution_count": 74,
      "outputs": [
        {
          "output_type": "execute_result",
          "data": {
            "text/plain": [
              "<tf.Tensor: shape=(), dtype=float32, numpy=5.3976426>"
            ]
          },
          "metadata": {},
          "execution_count": 74
        }
      ]
    },
    {
      "cell_type": "code",
      "source": [
        "# Make some functions to reuse MAE and MSE\n",
        "def mae(y_true, y_pred):\n",
        "  return tf.metrics.mean_absolute_error(y_true=y_true,\n",
        "                                        y_pred=tf.squeeze(y_pred))\n",
        "\n",
        "\n",
        "def mse(y_true, y_pred):\n",
        "  return tf.metrics.mean_squared_error(y_true=y_true,\n",
        "                                        y_pred=tf.squeeze(y_pred))"
      ],
      "metadata": {
        "id": "RxkaoNXQk-vZ"
      },
      "execution_count": 84,
      "outputs": []
    },
    {
      "cell_type": "markdown",
      "source": [
        "### Running experiments to improve our model\n",
        "\n",
        "```\n",
        "Build a model -> fit it -> evaluate it -> tweak it -> fit it -> evaluate it -> tweak it ->....\n",
        "```\n",
        "\n",
        "1. Get more data - get more examples for your model to train on (more opportunities to learn patterns or relationships between features and lables).\n",
        "2. Make your model larger (using a more complex model) - this might come in the form of more layers or more hidden units in each layer.\n",
        "3. Train for longer - give your model more of a chance to find patterns in the data.\n",
        "\n",
        "Let's do 3 modelling experiments:\n",
        "\n",
        "1. `model_1` - same as the original model, 1 layer, trained for 100 epochs.\n",
        "2. `model_2` - 2 layers, trained for 100 epochs\n",
        "3. `model_3` - 2 layers, trained for 500 epochs\n",
        "\n",
        "**Build model_1**\n"
      ],
      "metadata": {
        "id": "P73X1QDMmODZ"
      }
    },
    {
      "cell_type": "code",
      "source": [
        "# Set random seed\n",
        "tf.random.set_seed(42)\n",
        "\n",
        "# 1. Create the plot_model\n",
        "model_1 = tf.keras.Sequential([\n",
        "    tf.keras.layers.Dense(1)\n",
        "])\n",
        "\n",
        "# 2. Compile the model\n",
        "model_1.compile(loss=tf.keras.losses.mae,\n",
        "                optimizer=tf.keras.optimizers.SGD(),\n",
        "                metrics=[\"mae\"])\n",
        "\n",
        "# 3. Fit the model\n",
        "model_1.fit(tf.expand_dims(X_train, axis=-1), y_train, epochs=100)"
      ],
      "metadata": {
        "id": "D3bzYlPOnSDV"
      },
      "execution_count": null,
      "outputs": []
    },
    {
      "cell_type": "code",
      "source": [
        "# Make and plot predictions for model_1\n",
        "y_preds_1 = model_1.predict(X_test)\n",
        "plot_predictions(predictions=y_preds_1)"
      ],
      "metadata": {
        "colab": {
          "base_uri": "https://localhost:8080/",
          "height": 484
        },
        "id": "QHNWSTfQnWGS",
        "outputId": "253440ab-9b20-42aa-e3f6-b1f0cb29e994"
      },
      "execution_count": 79,
      "outputs": [
        {
          "output_type": "stream",
          "name": "stderr",
          "text": [
            "WARNING:tensorflow:6 out of the last 6 calls to <function Model.make_predict_function.<locals>.predict_function at 0x7f4b9a6b5b80> triggered tf.function retracing. Tracing is expensive and the excessive number of tracings could be due to (1) creating @tf.function repeatedly in a loop, (2) passing tensors with different shapes, (3) passing Python objects instead of tensors. For (1), please define your @tf.function outside of the loop. For (2), @tf.function has reduce_retracing=True option that can avoid unnecessary retracing. For (3), please refer to https://www.tensorflow.org/guide/function#controlling_retracing and https://www.tensorflow.org/api_docs/python/tf/function for  more details.\n"
          ]
        },
        {
          "output_type": "stream",
          "name": "stdout",
          "text": [
            "1/1 [==============================] - 0s 115ms/step\n"
          ]
        },
        {
          "output_type": "display_data",
          "data": {
            "text/plain": [
              "<Figure size 720x504 with 1 Axes>"
            ],
            "image/png": "[encoded data removed]"
          },
          "metadata": {
            "needs_background": "light"
          }
        }
      ]
    },
    {
      "cell_type": "code",
      "source": [
        "# Calculate model_1 evaluation metrics\n",
        "mae_1 = mae(y_test, y_preds_1)\n",
        "mse_1 = mse(y_test, y_preds_1)\n",
        "mae_1, mse_1"
      ],
      "metadata": {
        "colab": {
          "base_uri": "https://localhost:8080/"
        },
        "id": "1-mL92RWpVZw",
        "outputId": "b21d4930-4ac8-4c10-c0f8-d3b2be84176c"
      },
      "execution_count": 85,
      "outputs": [
        {
          "output_type": "execute_result",
          "data": {
            "text/plain": [
              "(<tf.Tensor: shape=(), dtype=float32, numpy=14.8473>,\n",
              " <tf.Tensor: shape=(), dtype=float32, numpy=221.26367>)"
            ]
          },
          "metadata": {},
          "execution_count": 85
        }
      ]
    },
    {
      "cell_type": "markdown",
      "source": [
        "**Build model_2**\n",
        "\n",
        "* 2 dense layers, trained for 100 epochs"
      ],
      "metadata": {
        "id": "kmYoW3iWp8rn"
      }
    },
    {
      "cell_type": "code",
      "source": [
        "# Set the random seed\n",
        "tf.random.set_seed(42)\n",
        "\n",
        "# 1. Create the model\n",
        "model_2 = tf.keras.Sequential([\n",
        "    tf.keras.layers.Dense(10),\n",
        "    tf.keras.layers.Dense(1)\n",
        "])\n",
        "\n",
        "# 2. Compile the model\n",
        "model_2.compile(loss=tf.keras.losses.mae,\n",
        "                optimizer=tf.keras.optimizers.SGD(),\n",
        "                metrics=[\"mae\"])\n",
        "\n",
        "# Fit the model\n",
        "model_2.fit(tf.expand_dims(X_train, axis=-1), y_train, epochs=100)"
      ],
      "metadata": {
        "colab": {
          "base_uri": "https://localhost:8080/"
        },
        "id": "lo5p3pkrrr8X",
        "outputId": "45bff133-48ee-4993-f876-56628a36f917"
      },
      "execution_count": 87,
      "outputs": [
        {
          "output_type": "stream",
          "name": "stdout",
          "text": [
            "Epoch 1/100\n",
            "2/2 [==============================] - 1s 12ms/step - loss: 49.0857 - mae: 49.0857\n",
            "Epoch 2/100\n",
            "2/2 [==============================] - 0s 9ms/step - loss: 35.3784 - mae: 35.3784\n",
            "Epoch 3/100\n",
            "2/2 [==============================] - 0s 9ms/step - loss: 39.4870 - mae: 39.4870\n",
            "Epoch 4/100\n",
            "2/2 [==============================] - 0s 12ms/step - loss: 26.9933 - mae: 26.9933\n",
            "Epoch 5/100\n",
            "2/2 [==============================] - 0s 10ms/step - loss: 14.7685 - mae: 14.7685\n",
            "Epoch 6/100\n",
            "2/2 [==============================] - 0s 8ms/step - loss: 11.7846 - mae: 11.7846\n",
            "Epoch 7/100\n",
            "2/2 [==============================] - 0s 8ms/step - loss: 12.8818 - mae: 12.8818\n",
            "Epoch 8/100\n",
            "2/2 [==============================] - 0s 9ms/step - loss: 11.1321 - mae: 11.1321\n",
            "Epoch 9/100\n",
            "2/2 [==============================] - 0s 7ms/step - loss: 40.7029 - mae: 40.7029\n",
            "Epoch 10/100\n",
            "2/2 [==============================] - 0s 9ms/step - loss: 28.0676 - mae: 28.0676\n",
            "Epoch 11/100\n",
            "2/2 [==============================] - 0s 9ms/step - loss: 10.2542 - mae: 10.2542\n",
            "Epoch 12/100\n",
            "2/2 [==============================] - 0s 8ms/step - loss: 25.2742 - mae: 25.2742\n",
            "Epoch 13/100\n",
            "2/2 [==============================] - 0s 8ms/step - loss: 17.0954 - mae: 17.0954\n",
            "Epoch 14/100\n",
            "2/2 [==============================] - 0s 7ms/step - loss: 26.1163 - mae: 26.1163\n",
            "Epoch 15/100\n",
            "2/2 [==============================] - 0s 8ms/step - loss: 18.1538 - mae: 18.1538\n",
            "Epoch 16/100\n",
            "2/2 [==============================] - 0s 7ms/step - loss: 7.8614 - mae: 7.8614\n",
            "Epoch 17/100\n",
            "2/2 [==============================] - 0s 8ms/step - loss: 22.2700 - mae: 22.2700\n",
            "Epoch 18/100\n",
            "2/2 [==============================] - 0s 7ms/step - loss: 10.8435 - mae: 10.8435\n",
            "Epoch 19/100\n",
            "2/2 [==============================] - 0s 8ms/step - loss: 10.7328 - mae: 10.7328\n",
            "Epoch 20/100\n",
            "2/2 [==============================] - 0s 8ms/step - loss: 12.0550 - mae: 12.0550\n",
            "Epoch 21/100\n",
            "2/2 [==============================] - 0s 9ms/step - loss: 20.1904 - mae: 20.1904\n",
            "Epoch 22/100\n",
            "2/2 [==============================] - 0s 8ms/step - loss: 13.8117 - mae: 13.8117\n",
            "Epoch 23/100\n",
            "2/2 [==============================] - 0s 9ms/step - loss: 9.5511 - mae: 9.5511\n",
            "Epoch 24/100\n",
            "2/2 [==============================] - 0s 8ms/step - loss: 11.9093 - mae: 11.9093\n",
            "Epoch 25/100\n",
            "2/2 [==============================] - 0s 7ms/step - loss: 16.2422 - mae: 16.2422\n",
            "Epoch 26/100\n",
            "2/2 [==============================] - 0s 8ms/step - loss: 16.4331 - mae: 16.4331\n",
            "Epoch 27/100\n",
            "2/2 [==============================] - 0s 9ms/step - loss: 11.5973 - mae: 11.5973\n",
            "Epoch 28/100\n",
            "2/2 [==============================] - 0s 9ms/step - loss: 30.0488 - mae: 30.0488\n",
            "Epoch 29/100\n",
            "2/2 [==============================] - 0s 10ms/step - loss: 9.2528 - mae: 9.2528\n",
            "Epoch 30/100\n",
            "2/2 [==============================] - 0s 8ms/step - loss: 30.5827 - mae: 30.5827\n",
            "Epoch 31/100\n",
            "2/2 [==============================] - 0s 7ms/step - loss: 55.6023 - mae: 55.6023\n",
            "Epoch 32/100\n",
            "2/2 [==============================] - 0s 8ms/step - loss: 9.7419 - mae: 9.7419\n",
            "Epoch 33/100\n",
            "2/2 [==============================] - 0s 9ms/step - loss: 12.3626 - mae: 12.3626\n",
            "Epoch 34/100\n",
            "2/2 [==============================] - 0s 9ms/step - loss: 24.7635 - mae: 24.7635\n",
            "Epoch 35/100\n",
            "2/2 [==============================] - 0s 12ms/step - loss: 11.9126 - mae: 11.9126\n",
            "Epoch 36/100\n",
            "2/2 [==============================] - 0s 9ms/step - loss: 22.0769 - mae: 22.0769\n",
            "Epoch 37/100\n",
            "2/2 [==============================] - 0s 14ms/step - loss: 17.6045 - mae: 17.6045\n",
            "Epoch 38/100\n",
            "2/2 [==============================] - 0s 8ms/step - loss: 10.7470 - mae: 10.7470\n",
            "Epoch 39/100\n",
            "2/2 [==============================] - 0s 8ms/step - loss: 11.2643 - mae: 11.2643\n",
            "Epoch 40/100\n",
            "2/2 [==============================] - 0s 10ms/step - loss: 18.2828 - mae: 18.2828\n",
            "Epoch 41/100\n",
            "2/2 [==============================] - 0s 11ms/step - loss: 10.5220 - mae: 10.5220\n",
            "Epoch 42/100\n",
            "2/2 [==============================] - 0s 10ms/step - loss: 8.4216 - mae: 8.4216\n",
            "Epoch 43/100\n",
            "2/2 [==============================] - 0s 8ms/step - loss: 10.2318 - mae: 10.2318\n",
            "Epoch 44/100\n",
            "2/2 [==============================] - 0s 11ms/step - loss: 28.6268 - mae: 28.6268\n",
            "Epoch 45/100\n",
            "2/2 [==============================] - 0s 10ms/step - loss: 11.4443 - mae: 11.4443\n",
            "Epoch 46/100\n",
            "2/2 [==============================] - 0s 10ms/step - loss: 14.4736 - mae: 14.4736\n",
            "Epoch 47/100\n",
            "2/2 [==============================] - 0s 10ms/step - loss: 13.3516 - mae: 13.3516\n",
            "Epoch 48/100\n",
            "2/2 [==============================] - 0s 11ms/step - loss: 17.1143 - mae: 17.1143\n",
            "Epoch 49/100\n",
            "2/2 [==============================] - 0s 10ms/step - loss: 9.6512 - mae: 9.6512\n",
            "Epoch 50/100\n",
            "2/2 [==============================] - 0s 9ms/step - loss: 13.9594 - mae: 13.9594\n",
            "Epoch 51/100\n",
            "2/2 [==============================] - 0s 9ms/step - loss: 11.6490 - mae: 11.6490\n",
            "Epoch 52/100\n",
            "2/2 [==============================] - 0s 10ms/step - loss: 30.9175 - mae: 30.9175\n",
            "Epoch 53/100\n",
            "2/2 [==============================] - 0s 9ms/step - loss: 14.5124 - mae: 14.5124\n",
            "Epoch 54/100\n",
            "2/2 [==============================] - 0s 12ms/step - loss: 24.2516 - mae: 24.2516\n",
            "Epoch 55/100\n",
            "2/2 [==============================] - 0s 11ms/step - loss: 23.4993 - mae: 23.4993\n",
            "Epoch 56/100\n",
            "2/2 [==============================] - 0s 10ms/step - loss: 10.9808 - mae: 10.9808\n",
            "Epoch 57/100\n",
            "2/2 [==============================] - 0s 9ms/step - loss: 12.8780 - mae: 12.8780\n",
            "Epoch 58/100\n",
            "2/2 [==============================] - 0s 10ms/step - loss: 9.6748 - mae: 9.6748\n",
            "Epoch 59/100\n",
            "2/2 [==============================] - 0s 10ms/step - loss: 13.0495 - mae: 13.0495\n",
            "Epoch 60/100\n",
            "2/2 [==============================] - 0s 9ms/step - loss: 10.7163 - mae: 10.7163\n",
            "Epoch 61/100\n",
            "2/2 [==============================] - 0s 12ms/step - loss: 13.2593 - mae: 13.2593\n",
            "Epoch 62/100\n",
            "2/2 [==============================] - 0s 9ms/step - loss: 17.1138 - mae: 17.1138\n",
            "Epoch 63/100\n",
            "2/2 [==============================] - 0s 8ms/step - loss: 9.0635 - mae: 9.0635\n",
            "Epoch 64/100\n",
            "2/2 [==============================] - 0s 9ms/step - loss: 17.7575 - mae: 17.7575\n",
            "Epoch 65/100\n",
            "2/2 [==============================] - 0s 9ms/step - loss: 10.5387 - mae: 10.5387\n",
            "Epoch 66/100\n",
            "2/2 [==============================] - 0s 8ms/step - loss: 21.2529 - mae: 21.2529\n",
            "Epoch 67/100\n",
            "2/2 [==============================] - 0s 8ms/step - loss: 10.5392 - mae: 10.5392\n",
            "Epoch 68/100\n",
            "2/2 [==============================] - 0s 8ms/step - loss: 14.6973 - mae: 14.6973\n",
            "Epoch 69/100\n",
            "2/2 [==============================] - 0s 16ms/step - loss: 10.6745 - mae: 10.6745\n",
            "Epoch 70/100\n",
            "2/2 [==============================] - 0s 8ms/step - loss: 12.7668 - mae: 12.7668\n",
            "Epoch 71/100\n",
            "2/2 [==============================] - 0s 8ms/step - loss: 13.1942 - mae: 13.1942\n",
            "Epoch 72/100\n",
            "2/2 [==============================] - 0s 8ms/step - loss: 19.7719 - mae: 19.7719\n",
            "Epoch 73/100\n",
            "2/2 [==============================] - 0s 8ms/step - loss: 11.2370 - mae: 11.2370\n",
            "Epoch 74/100\n",
            "2/2 [==============================] - 0s 9ms/step - loss: 22.0767 - mae: 22.0767\n",
            "Epoch 75/100\n",
            "2/2 [==============================] - 0s 11ms/step - loss: 6.9374 - mae: 6.9374\n",
            "Epoch 76/100\n",
            "2/2 [==============================] - 0s 8ms/step - loss: 11.4304 - mae: 11.4304\n",
            "Epoch 77/100\n",
            "2/2 [==============================] - 0s 9ms/step - loss: 21.5876 - mae: 21.5876\n",
            "Epoch 78/100\n",
            "2/2 [==============================] - 0s 10ms/step - loss: 18.5902 - mae: 18.5902\n",
            "Epoch 79/100\n",
            "2/2 [==============================] - 0s 9ms/step - loss: 15.9179 - mae: 15.9179\n",
            "Epoch 80/100\n",
            "2/2 [==============================] - 0s 10ms/step - loss: 23.5337 - mae: 23.5337\n",
            "Epoch 81/100\n",
            "2/2 [==============================] - 0s 8ms/step - loss: 10.9472 - mae: 10.9472\n",
            "Epoch 82/100\n",
            "2/2 [==============================] - 0s 8ms/step - loss: 12.7366 - mae: 12.7366\n",
            "Epoch 83/100\n",
            "2/2 [==============================] - 0s 8ms/step - loss: 17.5051 - mae: 17.5051\n",
            "Epoch 84/100\n",
            "2/2 [==============================] - 0s 8ms/step - loss: 7.2903 - mae: 7.2903\n",
            "Epoch 85/100\n",
            "2/2 [==============================] - 0s 9ms/step - loss: 15.0307 - mae: 15.0307\n",
            "Epoch 86/100\n",
            "2/2 [==============================] - 0s 9ms/step - loss: 15.3398 - mae: 15.3398\n",
            "Epoch 87/100\n",
            "2/2 [==============================] - 0s 9ms/step - loss: 19.2106 - mae: 19.2106\n",
            "Epoch 88/100\n",
            "2/2 [==============================] - 0s 8ms/step - loss: 29.5592 - mae: 29.5592\n",
            "Epoch 89/100\n",
            "2/2 [==============================] - 0s 8ms/step - loss: 10.1483 - mae: 10.1483\n",
            "Epoch 90/100\n",
            "2/2 [==============================] - 0s 10ms/step - loss: 21.3056 - mae: 21.3056\n",
            "Epoch 91/100\n",
            "2/2 [==============================] - 0s 8ms/step - loss: 10.5308 - mae: 10.5308\n",
            "Epoch 92/100\n",
            "2/2 [==============================] - 0s 9ms/step - loss: 18.2010 - mae: 18.2010\n",
            "Epoch 93/100\n",
            "2/2 [==============================] - 0s 9ms/step - loss: 6.8204 - mae: 6.8204\n",
            "Epoch 94/100\n",
            "2/2 [==============================] - 0s 8ms/step - loss: 13.0095 - mae: 13.0095\n",
            "Epoch 95/100\n",
            "2/2 [==============================] - 0s 8ms/step - loss: 18.3853 - mae: 18.3853\n",
            "Epoch 96/100\n",
            "2/2 [==============================] - 0s 11ms/step - loss: 10.3540 - mae: 10.3540\n",
            "Epoch 97/100\n",
            "2/2 [==============================] - 0s 9ms/step - loss: 14.4072 - mae: 14.4072\n",
            "Epoch 98/100\n",
            "2/2 [==============================] - 0s 10ms/step - loss: 6.5848 - mae: 6.5848\n",
            "Epoch 99/100\n",
            "2/2 [==============================] - 0s 11ms/step - loss: 12.6067 - mae: 12.6067\n",
            "Epoch 100/100\n",
            "2/2 [==============================] - 0s 8ms/step - loss: 19.4269 - mae: 19.4269\n"
          ]
        },
        {
          "output_type": "execute_result",
          "data": {
            "text/plain": [
              "<keras.callbacks.History at 0x7f4b835e2520>"
            ]
          },
          "metadata": {},
          "execution_count": 87
        }
      ]
    },
    {
      "cell_type": "code",
      "source": [
        "# Make and plot predictions of model_2\n",
        "y_preds_2 = model_2.predict(X_test)\n",
        "plot_predictions(predictions=y_preds_2)"
      ],
      "metadata": {
        "colab": {
          "base_uri": "https://localhost:8080/",
          "height": 446
        },
        "id": "HSMDY_-ysHOb",
        "outputId": "0de21aa7-39c9-4f97-fc61-00a91a687498"
      },
      "execution_count": 88,
      "outputs": [
        {
          "output_type": "stream",
          "name": "stdout",
          "text": [
            "1/1 [==============================] - 0s 98ms/step\n"
          ]
        },
        {
          "output_type": "display_data",
          "data": {
            "text/plain": [
              "<Figure size 720x504 with 1 Axes>"
            ],
            "image/png": "[encoded data removed]"
          },
          "metadata": {
            "needs_background": "light"
          }
        }
      ]
    },
    {
      "cell_type": "code",
      "source": [
        "# Calculate model_2 evaluation metrics\n",
        "mae_2 = mae(y_test, y_preds_2)\n",
        "mse_2 = mse(y_test, y_preds_2)\n",
        "mae_2, mse_2"
      ],
      "metadata": {
        "colab": {
          "base_uri": "https://localhost:8080/"
        },
        "id": "aAhnoRsPsaKh",
        "outputId": "f2e769f7-b46a-4939-a88c-b93925ef97fe"
      },
      "execution_count": 89,
      "outputs": [
        {
          "output_type": "execute_result",
          "data": {
            "text/plain": [
              "(<tf.Tensor: shape=(), dtype=float32, numpy=13.173355>,\n",
              " <tf.Tensor: shape=(), dtype=float32, numpy=183.47551>)"
            ]
          },
          "metadata": {},
          "execution_count": 89
        }
      ]
    },
    {
      "cell_type": "markdown",
      "source": [
        "**Build `model_3`**\n",
        "\n",
        "* 2 layers, trained for 500 epochs"
      ],
      "metadata": {
        "id": "giiE3VMpstnj"
      }
    },
    {
      "cell_type": "code",
      "source": [
        "# Set the random seed\n",
        "tf.random.set_seed(42)\n",
        "\n",
        "# 1. Create the model\n",
        "model_3 = tf.keras.Sequential([\n",
        "    tf.keras.layers.Dense(10),\n",
        "    tf.keras.layers.Dense(1)\n",
        "])\n",
        "\n",
        "# 2. Compile the model\n",
        "model_3.compile(loss=tf.keras.losses.mae,\n",
        "                optimizer=tf.keras.optimizers.SGD(),\n",
        "                metrics=[\"mae\"])\n",
        "\n",
        "# Fit the model\n",
        "model_3.fit(tf.expand_dims(X_train, axis=-1), y_train, epochs=500)"
      ],
      "metadata": {
        "colab": {
          "base_uri": "https://localhost:8080/"
        },
        "id": "Nb-JkD85tBJL",
        "outputId": "0565cf1e-edcc-42aa-ee4e-5bf08dda9c68"
      },
      "execution_count": 90,
      "outputs": [
        {
          "output_type": "stream",
          "name": "stdout",
          "text": [
            "Epoch 1/500\n",
            "2/2 [==============================] - 1s 21ms/step - loss: 59.4186 - mae: 59.4186\n",
            "Epoch 2/500\n",
            "2/2 [==============================] - 0s 8ms/step - loss: 27.9414 - mae: 27.9414\n",
            "Epoch 3/500\n",
            "2/2 [==============================] - 0s 7ms/step - loss: 20.6294 - mae: 20.6294\n",
            "Epoch 4/500\n",
            "2/2 [==============================] - 0s 15ms/step - loss: 13.2653 - mae: 13.2653\n",
            "Epoch 5/500\n",
            "2/2 [==============================] - 0s 12ms/step - loss: 14.6600 - mae: 14.6600\n",
            "Epoch 6/500\n",
            "2/2 [==============================] - 0s 13ms/step - loss: 11.6895 - mae: 11.6895\n",
            "Epoch 7/500\n",
            "2/2 [==============================] - 0s 35ms/step - loss: 12.7601 - mae: 12.7601\n",
            "Epoch 8/500\n",
            "2/2 [==============================] - 0s 18ms/step - loss: 11.0770 - mae: 11.0770\n",
            "Epoch 9/500\n",
            "2/2 [==============================] - 0s 13ms/step - loss: 40.1116 - mae: 40.1116\n",
            "Epoch 10/500\n",
            "2/2 [==============================] - 0s 12ms/step - loss: 27.5509 - mae: 27.5509\n",
            "Epoch 11/500\n",
            "2/2 [==============================] - 0s 14ms/step - loss: 10.2520 - mae: 10.2520\n",
            "Epoch 12/500\n",
            "2/2 [==============================] - 0s 10ms/step - loss: 25.4079 - mae: 25.4079\n",
            "Epoch 13/500\n",
            "2/2 [==============================] - 0s 14ms/step - loss: 16.8467 - mae: 16.8467\n",
            "Epoch 14/500\n",
            "2/2 [==============================] - 0s 14ms/step - loss: 25.6586 - mae: 25.6586\n",
            "Epoch 15/500\n",
            "2/2 [==============================] - 0s 13ms/step - loss: 17.5343 - mae: 17.5343\n",
            "Epoch 16/500\n",
            "2/2 [==============================] - 0s 11ms/step - loss: 10.0365 - mae: 10.0365\n",
            "Epoch 17/500\n",
            "2/2 [==============================] - 0s 13ms/step - loss: 18.5537 - mae: 18.5537\n",
            "Epoch 18/500\n",
            "2/2 [==============================] - 0s 17ms/step - loss: 11.3720 - mae: 11.3720\n",
            "Epoch 19/500\n",
            "2/2 [==============================] - 0s 13ms/step - loss: 13.9705 - mae: 13.9705\n",
            "Epoch 20/500\n",
            "2/2 [==============================] - 0s 18ms/step - loss: 11.2128 - mae: 11.2128\n",
            "Epoch 21/500\n",
            "2/2 [==============================] - 0s 16ms/step - loss: 17.2934 - mae: 17.2934\n",
            "Epoch 22/500\n",
            "2/2 [==============================] - 0s 13ms/step - loss: 15.5304 - mae: 15.5304\n",
            "Epoch 23/500\n",
            "2/2 [==============================] - 0s 18ms/step - loss: 9.2364 - mae: 9.2364\n",
            "Epoch 24/500\n",
            "2/2 [==============================] - 0s 18ms/step - loss: 17.2571 - mae: 17.2571\n",
            "Epoch 25/500\n",
            "2/2 [==============================] - 0s 15ms/step - loss: 15.9325 - mae: 15.9325\n",
            "Epoch 26/500\n",
            "2/2 [==============================] - 0s 21ms/step - loss: 20.9172 - mae: 20.9172\n",
            "Epoch 27/500\n",
            "2/2 [==============================] - 0s 21ms/step - loss: 25.9931 - mae: 25.9931\n",
            "Epoch 28/500\n",
            "2/2 [==============================] - 0s 12ms/step - loss: 18.4870 - mae: 18.4870\n",
            "Epoch 29/500\n",
            "2/2 [==============================] - 0s 12ms/step - loss: 9.2416 - mae: 9.2416\n",
            "Epoch 30/500\n",
            "2/2 [==============================] - 0s 12ms/step - loss: 29.1060 - mae: 29.1060\n",
            "Epoch 31/500\n",
            "2/2 [==============================] - 0s 13ms/step - loss: 52.7185 - mae: 52.7185\n",
            "Epoch 32/500\n",
            "2/2 [==============================] - 0s 14ms/step - loss: 11.9326 - mae: 11.9326\n",
            "Epoch 33/500\n",
            "2/2 [==============================] - 0s 12ms/step - loss: 15.5321 - mae: 15.5321\n",
            "Epoch 34/500\n",
            "2/2 [==============================] - 0s 14ms/step - loss: 12.6203 - mae: 12.6203\n",
            "Epoch 35/500\n",
            "2/2 [==============================] - 0s 19ms/step - loss: 9.2069 - mae: 9.2069\n",
            "Epoch 36/500\n",
            "2/2 [==============================] - 0s 18ms/step - loss: 16.5238 - mae: 16.5238\n",
            "Epoch 37/500\n",
            "2/2 [==============================] - 0s 21ms/step - loss: 11.0713 - mae: 11.0713\n",
            "Epoch 38/500\n",
            "2/2 [==============================] - 0s 12ms/step - loss: 18.1994 - mae: 18.1994\n",
            "Epoch 39/500\n",
            "2/2 [==============================] - 0s 16ms/step - loss: 19.1329 - mae: 19.1329\n",
            "Epoch 40/500\n",
            "2/2 [==============================] - 0s 15ms/step - loss: 20.4898 - mae: 20.4898\n",
            "Epoch 41/500\n",
            "2/2 [==============================] - 0s 20ms/step - loss: 14.8359 - mae: 14.8359\n",
            "Epoch 42/500\n",
            "2/2 [==============================] - 0s 15ms/step - loss: 12.2251 - mae: 12.2251\n",
            "Epoch 43/500\n",
            "2/2 [==============================] - 0s 18ms/step - loss: 10.7033 - mae: 10.7033\n",
            "Epoch 44/500\n",
            "2/2 [==============================] - 0s 21ms/step - loss: 32.3583 - mae: 32.3583\n",
            "Epoch 45/500\n",
            "2/2 [==============================] - 0s 18ms/step - loss: 12.4915 - mae: 12.4915\n",
            "Epoch 46/500\n",
            "2/2 [==============================] - 0s 17ms/step - loss: 17.5874 - mae: 17.5874\n",
            "Epoch 47/500\n",
            "2/2 [==============================] - 0s 13ms/step - loss: 15.7287 - mae: 15.7287\n",
            "Epoch 48/500\n",
            "2/2 [==============================] - 0s 21ms/step - loss: 8.3584 - mae: 8.3584\n",
            "Epoch 49/500\n",
            "2/2 [==============================] - 0s 19ms/step - loss: 13.9614 - mae: 13.9614\n",
            "Epoch 50/500\n",
            "2/2 [==============================] - 0s 19ms/step - loss: 12.8061 - mae: 12.8061\n",
            "Epoch 51/500\n",
            "2/2 [==============================] - 0s 14ms/step - loss: 14.8212 - mae: 14.8212\n",
            "Epoch 52/500\n",
            "2/2 [==============================] - 0s 15ms/step - loss: 18.7098 - mae: 18.7098\n",
            "Epoch 53/500\n",
            "2/2 [==============================] - 0s 13ms/step - loss: 24.1425 - mae: 24.1425\n",
            "Epoch 54/500\n",
            "2/2 [==============================] - 0s 15ms/step - loss: 23.2398 - mae: 23.2398\n",
            "Epoch 55/500\n",
            "2/2 [==============================] - 0s 15ms/step - loss: 24.1019 - mae: 24.1019\n",
            "Epoch 56/500\n",
            "2/2 [==============================] - 0s 22ms/step - loss: 11.1817 - mae: 11.1817\n",
            "Epoch 57/500\n",
            "2/2 [==============================] - 0s 29ms/step - loss: 13.1448 - mae: 13.1448\n",
            "Epoch 58/500\n",
            "2/2 [==============================] - 0s 21ms/step - loss: 9.8265 - mae: 9.8265\n",
            "Epoch 59/500\n",
            "2/2 [==============================] - 0s 21ms/step - loss: 13.3360 - mae: 13.3360\n",
            "Epoch 60/500\n",
            "2/2 [==============================] - 0s 24ms/step - loss: 10.8879 - mae: 10.8879\n",
            "Epoch 61/500\n",
            "2/2 [==============================] - 0s 29ms/step - loss: 13.4980 - mae: 13.4980\n",
            "Epoch 62/500\n",
            "2/2 [==============================] - 0s 23ms/step - loss: 17.5511 - mae: 17.5511\n",
            "Epoch 63/500\n",
            "2/2 [==============================] - 0s 18ms/step - loss: 9.1700 - mae: 9.1700\n",
            "Epoch 64/500\n",
            "2/2 [==============================] - 0s 17ms/step - loss: 18.4222 - mae: 18.4222\n",
            "Epoch 65/500\n",
            "2/2 [==============================] - 0s 14ms/step - loss: 10.1258 - mae: 10.1258\n",
            "Epoch 66/500\n",
            "2/2 [==============================] - 0s 15ms/step - loss: 24.2970 - mae: 24.2970\n",
            "Epoch 67/500\n",
            "2/2 [==============================] - 0s 17ms/step - loss: 10.9012 - mae: 10.9012\n",
            "Epoch 68/500\n",
            "2/2 [==============================] - 0s 24ms/step - loss: 10.7797 - mae: 10.7797\n",
            "Epoch 69/500\n",
            "2/2 [==============================] - 0s 23ms/step - loss: 23.2890 - mae: 23.2890\n",
            "Epoch 70/500\n",
            "2/2 [==============================] - 0s 14ms/step - loss: 8.8082 - mae: 8.8082\n",
            "Epoch 71/500\n",
            "2/2 [==============================] - 0s 25ms/step - loss: 15.9680 - mae: 15.9680\n",
            "Epoch 72/500\n",
            "2/2 [==============================] - 0s 18ms/step - loss: 8.1347 - mae: 8.1347\n",
            "Epoch 73/500\n",
            "2/2 [==============================] - 0s 20ms/step - loss: 9.4625 - mae: 9.4625\n",
            "Epoch 74/500\n",
            "2/2 [==============================] - 0s 18ms/step - loss: 28.1462 - mae: 28.1462\n",
            "Epoch 75/500\n",
            "2/2 [==============================] - 0s 20ms/step - loss: 10.2073 - mae: 10.2073\n",
            "Epoch 76/500\n",
            "2/2 [==============================] - 0s 14ms/step - loss: 13.1594 - mae: 13.1594\n",
            "Epoch 77/500\n",
            "2/2 [==============================] - 0s 18ms/step - loss: 18.4167 - mae: 18.4167\n",
            "Epoch 78/500\n",
            "2/2 [==============================] - 0s 15ms/step - loss: 9.0189 - mae: 9.0189\n",
            "Epoch 79/500\n",
            "2/2 [==============================] - 0s 17ms/step - loss: 23.4691 - mae: 23.4691\n",
            "Epoch 80/500\n",
            "2/2 [==============================] - 0s 37ms/step - loss: 26.1461 - mae: 26.1461\n",
            "Epoch 81/500\n",
            "2/2 [==============================] - 0s 8ms/step - loss: 11.4051 - mae: 11.4051\n",
            "Epoch 82/500\n",
            "2/2 [==============================] - 0s 23ms/step - loss: 12.4849 - mae: 12.4849\n",
            "Epoch 83/500\n",
            "2/2 [==============================] - 0s 31ms/step - loss: 17.1690 - mae: 17.1690\n",
            "Epoch 84/500\n",
            "2/2 [==============================] - 0s 30ms/step - loss: 6.5895 - mae: 6.5895\n",
            "Epoch 85/500\n",
            "2/2 [==============================] - 0s 13ms/step - loss: 20.3238 - mae: 20.3238\n",
            "Epoch 86/500\n",
            "2/2 [==============================] - 0s 26ms/step - loss: 10.1729 - mae: 10.1729\n",
            "Epoch 87/500\n",
            "2/2 [==============================] - 0s 11ms/step - loss: 24.3696 - mae: 24.3696\n",
            "Epoch 88/500\n",
            "2/2 [==============================] - 0s 21ms/step - loss: 19.0334 - mae: 19.0334\n",
            "Epoch 89/500\n",
            "2/2 [==============================] - 0s 16ms/step - loss: 7.1637 - mae: 7.1637\n",
            "Epoch 90/500\n",
            "2/2 [==============================] - 0s 32ms/step - loss: 18.2485 - mae: 18.2485\n",
            "Epoch 91/500\n",
            "2/2 [==============================] - 0s 15ms/step - loss: 13.2981 - mae: 13.2981\n",
            "Epoch 92/500\n",
            "2/2 [==============================] - 0s 32ms/step - loss: 14.8455 - mae: 14.8455\n",
            "Epoch 93/500\n",
            "2/2 [==============================] - 0s 27ms/step - loss: 11.6415 - mae: 11.6415\n",
            "Epoch 94/500\n",
            "2/2 [==============================] - 0s 19ms/step - loss: 16.1974 - mae: 16.1974\n",
            "Epoch 95/500\n",
            "2/2 [==============================] - 0s 14ms/step - loss: 15.5398 - mae: 15.5398\n",
            "Epoch 96/500\n",
            "2/2 [==============================] - 0s 17ms/step - loss: 15.0728 - mae: 15.0728\n",
            "Epoch 97/500\n",
            "2/2 [==============================] - 0s 11ms/step - loss: 10.9031 - mae: 10.9031\n",
            "Epoch 98/500\n",
            "2/2 [==============================] - 0s 10ms/step - loss: 14.3630 - mae: 14.3630\n",
            "Epoch 99/500\n",
            "2/2 [==============================] - 0s 11ms/step - loss: 13.3816 - mae: 13.3816\n",
            "Epoch 100/500\n",
            "2/2 [==============================] - 0s 12ms/step - loss: 19.9995 - mae: 19.9995\n",
            "Epoch 101/500\n",
            "2/2 [==============================] - 0s 14ms/step - loss: 22.5146 - mae: 22.5146\n",
            "Epoch 102/500\n",
            "2/2 [==============================] - 0s 12ms/step - loss: 11.2765 - mae: 11.2765\n",
            "Epoch 103/500\n",
            "2/2 [==============================] - 0s 12ms/step - loss: 9.3601 - mae: 9.3601\n",
            "Epoch 104/500\n",
            "2/2 [==============================] - 0s 11ms/step - loss: 25.1406 - mae: 25.1406\n",
            "Epoch 105/500\n",
            "2/2 [==============================] - 0s 19ms/step - loss: 12.4083 - mae: 12.4083\n",
            "Epoch 106/500\n",
            "2/2 [==============================] - 0s 22ms/step - loss: 9.3957 - mae: 9.3957\n",
            "Epoch 107/500\n",
            "2/2 [==============================] - 0s 15ms/step - loss: 23.1516 - mae: 23.1516\n",
            "Epoch 108/500\n",
            "2/2 [==============================] - 0s 12ms/step - loss: 8.2705 - mae: 8.2705\n",
            "Epoch 109/500\n",
            "2/2 [==============================] - 0s 18ms/step - loss: 13.9967 - mae: 13.9967\n",
            "Epoch 110/500\n",
            "2/2 [==============================] - 0s 16ms/step - loss: 10.6426 - mae: 10.6426\n",
            "Epoch 111/500\n",
            "2/2 [==============================] - 0s 9ms/step - loss: 16.9677 - mae: 16.9677\n",
            "Epoch 112/500\n",
            "2/2 [==============================] - 0s 8ms/step - loss: 8.2653 - mae: 8.2653\n",
            "Epoch 113/500\n",
            "2/2 [==============================] - 0s 15ms/step - loss: 19.6324 - mae: 19.6324\n",
            "Epoch 114/500\n",
            "2/2 [==============================] - 0s 17ms/step - loss: 17.3441 - mae: 17.3441\n",
            "Epoch 115/500\n",
            "2/2 [==============================] - 0s 12ms/step - loss: 11.2176 - mae: 11.2176\n",
            "Epoch 116/500\n",
            "2/2 [==============================] - 0s 14ms/step - loss: 23.4941 - mae: 23.4941\n",
            "Epoch 117/500\n",
            "2/2 [==============================] - 0s 13ms/step - loss: 9.7129 - mae: 9.7129\n",
            "Epoch 118/500\n",
            "2/2 [==============================] - 0s 12ms/step - loss: 10.7886 - mae: 10.7886\n",
            "Epoch 119/500\n",
            "2/2 [==============================] - 0s 18ms/step - loss: 8.0914 - mae: 8.0914\n",
            "Epoch 120/500\n",
            "2/2 [==============================] - 0s 17ms/step - loss: 29.8146 - mae: 29.8146\n",
            "Epoch 121/500\n",
            "2/2 [==============================] - 0s 8ms/step - loss: 8.1216 - mae: 8.1216\n",
            "Epoch 122/500\n",
            "2/2 [==============================] - 0s 12ms/step - loss: 28.3921 - mae: 28.3921\n",
            "Epoch 123/500\n",
            "2/2 [==============================] - 0s 16ms/step - loss: 33.0011 - mae: 33.0011\n",
            "Epoch 124/500\n",
            "2/2 [==============================] - 0s 9ms/step - loss: 19.7163 - mae: 19.7163\n",
            "Epoch 125/500\n",
            "2/2 [==============================] - 0s 11ms/step - loss: 7.0549 - mae: 7.0549\n",
            "Epoch 126/500\n",
            "2/2 [==============================] - 0s 11ms/step - loss: 21.8685 - mae: 21.8685\n",
            "Epoch 127/500\n",
            "2/2 [==============================] - 0s 11ms/step - loss: 8.0299 - mae: 8.0299\n",
            "Epoch 128/500\n",
            "2/2 [==============================] - 0s 26ms/step - loss: 21.0993 - mae: 21.0993\n",
            "Epoch 129/500\n",
            "2/2 [==============================] - 0s 16ms/step - loss: 9.0609 - mae: 9.0609\n",
            "Epoch 130/500\n",
            "2/2 [==============================] - 0s 18ms/step - loss: 24.0702 - mae: 24.0702\n",
            "Epoch 131/500\n",
            "2/2 [==============================] - 0s 19ms/step - loss: 9.8023 - mae: 9.8023\n",
            "Epoch 132/500\n",
            "2/2 [==============================] - 0s 35ms/step - loss: 18.3126 - mae: 18.3126\n",
            "Epoch 133/500\n",
            "2/2 [==============================] - 0s 25ms/step - loss: 7.6223 - mae: 7.6223\n",
            "Epoch 134/500\n",
            "2/2 [==============================] - 0s 15ms/step - loss: 18.5705 - mae: 18.5705\n",
            "Epoch 135/500\n",
            "2/2 [==============================] - 0s 21ms/step - loss: 10.5703 - mae: 10.5703\n",
            "Epoch 136/500\n",
            "2/2 [==============================] - 0s 12ms/step - loss: 18.2498 - mae: 18.2498\n",
            "Epoch 137/500\n",
            "2/2 [==============================] - 0s 14ms/step - loss: 23.1255 - mae: 23.1255\n",
            "Epoch 138/500\n",
            "2/2 [==============================] - 0s 14ms/step - loss: 9.1505 - mae: 9.1505\n",
            "Epoch 139/500\n",
            "2/2 [==============================] - 0s 12ms/step - loss: 8.9365 - mae: 8.9365\n",
            "Epoch 140/500\n",
            "2/2 [==============================] - 0s 18ms/step - loss: 16.4158 - mae: 16.4158\n",
            "Epoch 141/500\n",
            "2/2 [==============================] - 0s 22ms/step - loss: 8.4595 - mae: 8.4595\n",
            "Epoch 142/500\n",
            "2/2 [==============================] - 0s 15ms/step - loss: 36.7611 - mae: 36.7611\n",
            "Epoch 143/500\n",
            "2/2 [==============================] - 0s 44ms/step - loss: 25.4529 - mae: 25.4529\n",
            "Epoch 144/500\n",
            "2/2 [==============================] - 0s 25ms/step - loss: 9.5782 - mae: 9.5782\n",
            "Epoch 145/500\n",
            "2/2 [==============================] - 0s 9ms/step - loss: 26.6610 - mae: 26.6610\n",
            "Epoch 146/500\n",
            "2/2 [==============================] - 0s 15ms/step - loss: 8.6929 - mae: 8.6929\n",
            "Epoch 147/500\n",
            "2/2 [==============================] - 0s 8ms/step - loss: 15.6914 - mae: 15.6914\n",
            "Epoch 148/500\n",
            "2/2 [==============================] - 0s 8ms/step - loss: 18.3960 - mae: 18.3960\n",
            "Epoch 149/500\n",
            "2/2 [==============================] - 0s 14ms/step - loss: 8.1687 - mae: 8.1687\n",
            "Epoch 150/500\n",
            "2/2 [==============================] - 0s 9ms/step - loss: 7.5095 - mae: 7.5095\n",
            "Epoch 151/500\n",
            "2/2 [==============================] - 0s 13ms/step - loss: 18.1492 - mae: 18.1492\n",
            "Epoch 152/500\n",
            "2/2 [==============================] - 0s 7ms/step - loss: 10.2770 - mae: 10.2770\n",
            "Epoch 153/500\n",
            "2/2 [==============================] - 0s 8ms/step - loss: 29.3160 - mae: 29.3160\n",
            "Epoch 154/500\n",
            "2/2 [==============================] - 0s 7ms/step - loss: 10.6419 - mae: 10.6419\n",
            "Epoch 155/500\n",
            "2/2 [==============================] - 0s 8ms/step - loss: 15.5316 - mae: 15.5316\n",
            "Epoch 156/500\n",
            "2/2 [==============================] - 0s 9ms/step - loss: 17.1762 - mae: 17.1762\n",
            "Epoch 157/500\n",
            "2/2 [==============================] - 0s 12ms/step - loss: 32.4178 - mae: 32.4178\n",
            "Epoch 158/500\n",
            "2/2 [==============================] - 0s 8ms/step - loss: 10.6264 - mae: 10.6264\n",
            "Epoch 159/500\n",
            "2/2 [==============================] - 0s 8ms/step - loss: 8.8865 - mae: 8.8865\n",
            "Epoch 160/500\n",
            "2/2 [==============================] - 0s 11ms/step - loss: 21.8213 - mae: 21.8213\n",
            "Epoch 161/500\n",
            "2/2 [==============================] - 0s 9ms/step - loss: 11.0934 - mae: 11.0934\n",
            "Epoch 162/500\n",
            "2/2 [==============================] - 0s 8ms/step - loss: 21.3496 - mae: 21.3496\n",
            "Epoch 163/500\n",
            "2/2 [==============================] - 0s 8ms/step - loss: 18.8367 - mae: 18.8367\n",
            "Epoch 164/500\n",
            "2/2 [==============================] - 0s 8ms/step - loss: 12.6800 - mae: 12.6800\n",
            "Epoch 165/500\n",
            "2/2 [==============================] - 0s 8ms/step - loss: 12.7451 - mae: 12.7451\n",
            "Epoch 166/500\n",
            "2/2 [==============================] - 0s 9ms/step - loss: 18.9334 - mae: 18.9334\n",
            "Epoch 167/500\n",
            "2/2 [==============================] - 0s 9ms/step - loss: 26.7551 - mae: 26.7551\n",
            "Epoch 168/500\n",
            "2/2 [==============================] - 0s 8ms/step - loss: 9.9891 - mae: 9.9891\n",
            "Epoch 169/500\n",
            "2/2 [==============================] - 0s 8ms/step - loss: 22.9962 - mae: 22.9962\n",
            "Epoch 170/500\n",
            "2/2 [==============================] - 0s 8ms/step - loss: 10.1047 - mae: 10.1047\n",
            "Epoch 171/500\n",
            "2/2 [==============================] - 0s 11ms/step - loss: 17.8751 - mae: 17.8751\n",
            "Epoch 172/500\n",
            "2/2 [==============================] - 0s 9ms/step - loss: 29.2580 - mae: 29.2580\n",
            "Epoch 173/500\n",
            "2/2 [==============================] - 0s 8ms/step - loss: 16.8751 - mae: 16.8751\n",
            "Epoch 174/500\n",
            "2/2 [==============================] - 0s 9ms/step - loss: 11.1968 - mae: 11.1968\n",
            "Epoch 175/500\n",
            "2/2 [==============================] - 0s 9ms/step - loss: 27.4805 - mae: 27.4805\n",
            "Epoch 176/500\n",
            "2/2 [==============================] - 0s 8ms/step - loss: 8.4258 - mae: 8.4258\n",
            "Epoch 177/500\n",
            "2/2 [==============================] - 0s 9ms/step - loss: 9.3896 - mae: 9.3896\n",
            "Epoch 178/500\n",
            "2/2 [==============================] - 0s 8ms/step - loss: 18.4673 - mae: 18.4673\n",
            "Epoch 179/500\n",
            "2/2 [==============================] - 0s 8ms/step - loss: 10.4673 - mae: 10.4673\n",
            "Epoch 180/500\n",
            "2/2 [==============================] - 0s 12ms/step - loss: 7.9958 - mae: 7.9958\n",
            "Epoch 181/500\n",
            "2/2 [==============================] - 0s 9ms/step - loss: 17.6523 - mae: 17.6523\n",
            "Epoch 182/500\n",
            "2/2 [==============================] - 0s 8ms/step - loss: 11.1638 - mae: 11.1638\n",
            "Epoch 183/500\n",
            "2/2 [==============================] - 0s 8ms/step - loss: 11.8287 - mae: 11.8287\n",
            "Epoch 184/500\n",
            "2/2 [==============================] - 0s 9ms/step - loss: 30.7471 - mae: 30.7471\n",
            "Epoch 185/500\n",
            "2/2 [==============================] - 0s 9ms/step - loss: 7.5701 - mae: 7.5701\n",
            "Epoch 186/500\n",
            "2/2 [==============================] - 0s 9ms/step - loss: 15.9110 - mae: 15.9110\n",
            "Epoch 187/500\n",
            "2/2 [==============================] - 0s 8ms/step - loss: 8.6318 - mae: 8.6318\n",
            "Epoch 188/500\n",
            "2/2 [==============================] - 0s 9ms/step - loss: 29.0043 - mae: 29.0043\n",
            "Epoch 189/500\n",
            "2/2 [==============================] - 0s 9ms/step - loss: 13.1314 - mae: 13.1314\n",
            "Epoch 190/500\n",
            "2/2 [==============================] - 0s 9ms/step - loss: 18.2706 - mae: 18.2706\n",
            "Epoch 191/500\n",
            "2/2 [==============================] - 0s 9ms/step - loss: 13.6916 - mae: 13.6916\n",
            "Epoch 192/500\n",
            "2/2 [==============================] - 0s 8ms/step - loss: 13.7090 - mae: 13.7090\n",
            "Epoch 193/500\n",
            "2/2 [==============================] - 0s 9ms/step - loss: 28.5432 - mae: 28.5432\n",
            "Epoch 194/500\n",
            "2/2 [==============================] - 0s 10ms/step - loss: 7.1568 - mae: 7.1568\n",
            "Epoch 195/500\n",
            "2/2 [==============================] - 0s 8ms/step - loss: 7.0897 - mae: 7.0897\n",
            "Epoch 196/500\n",
            "2/2 [==============================] - 0s 8ms/step - loss: 21.9672 - mae: 21.9672\n",
            "Epoch 197/500\n",
            "2/2 [==============================] - 0s 8ms/step - loss: 20.9356 - mae: 20.9356\n",
            "Epoch 198/500\n",
            "2/2 [==============================] - 0s 8ms/step - loss: 12.5373 - mae: 12.5373\n",
            "Epoch 199/500\n",
            "2/2 [==============================] - 0s 8ms/step - loss: 17.9857 - mae: 17.9857\n",
            "Epoch 200/500\n",
            "2/2 [==============================] - 0s 9ms/step - loss: 13.8220 - mae: 13.8220\n",
            "Epoch 201/500\n",
            "2/2 [==============================] - 0s 8ms/step - loss: 6.0731 - mae: 6.0731\n",
            "Epoch 202/500\n",
            "2/2 [==============================] - 0s 11ms/step - loss: 22.7919 - mae: 22.7919\n",
            "Epoch 203/500\n",
            "2/2 [==============================] - 0s 11ms/step - loss: 8.9756 - mae: 8.9756\n",
            "Epoch 204/500\n",
            "2/2 [==============================] - 0s 9ms/step - loss: 18.7663 - mae: 18.7663\n",
            "Epoch 205/500\n",
            "2/2 [==============================] - 0s 11ms/step - loss: 9.3654 - mae: 9.3654\n",
            "Epoch 206/500\n",
            "2/2 [==============================] - 0s 9ms/step - loss: 10.4344 - mae: 10.4344\n",
            "Epoch 207/500\n",
            "2/2 [==============================] - 0s 17ms/step - loss: 21.0019 - mae: 21.0019\n",
            "Epoch 208/500\n",
            "2/2 [==============================] - 0s 14ms/step - loss: 16.4143 - mae: 16.4143\n",
            "Epoch 209/500\n",
            "2/2 [==============================] - 0s 12ms/step - loss: 14.3014 - mae: 14.3014\n",
            "Epoch 210/500\n",
            "2/2 [==============================] - 0s 15ms/step - loss: 19.2801 - mae: 19.2801\n",
            "Epoch 211/500\n",
            "2/2 [==============================] - 0s 15ms/step - loss: 10.3117 - mae: 10.3117\n",
            "Epoch 212/500\n",
            "2/2 [==============================] - 0s 14ms/step - loss: 20.0141 - mae: 20.0141\n",
            "Epoch 213/500\n",
            "2/2 [==============================] - 0s 13ms/step - loss: 15.1237 - mae: 15.1237\n",
            "Epoch 214/500\n",
            "2/2 [==============================] - 0s 17ms/step - loss: 14.6474 - mae: 14.6474\n",
            "Epoch 215/500\n",
            "2/2 [==============================] - 0s 22ms/step - loss: 23.4005 - mae: 23.4005\n",
            "Epoch 216/500\n",
            "2/2 [==============================] - 0s 16ms/step - loss: 12.9092 - mae: 12.9092\n",
            "Epoch 217/500\n",
            "2/2 [==============================] - 0s 17ms/step - loss: 12.0696 - mae: 12.0696\n",
            "Epoch 218/500\n",
            "2/2 [==============================] - 0s 12ms/step - loss: 17.0967 - mae: 17.0967\n",
            "Epoch 219/500\n",
            "2/2 [==============================] - 0s 20ms/step - loss: 9.5007 - mae: 9.5007\n",
            "Epoch 220/500\n",
            "2/2 [==============================] - 0s 15ms/step - loss: 13.8741 - mae: 13.8741\n",
            "Epoch 221/500\n",
            "2/2 [==============================] - 0s 15ms/step - loss: 32.2634 - mae: 32.2634\n",
            "Epoch 222/500\n",
            "2/2 [==============================] - 0s 13ms/step - loss: 11.0653 - mae: 11.0653\n",
            "Epoch 223/500\n",
            "2/2 [==============================] - 0s 13ms/step - loss: 8.6527 - mae: 8.6527\n",
            "Epoch 224/500\n",
            "2/2 [==============================] - 0s 18ms/step - loss: 14.5795 - mae: 14.5795\n",
            "Epoch 225/500\n",
            "2/2 [==============================] - 0s 12ms/step - loss: 16.5941 - mae: 16.5941\n",
            "Epoch 226/500\n",
            "2/2 [==============================] - 0s 13ms/step - loss: 15.7387 - mae: 15.7387\n",
            "Epoch 227/500\n",
            "2/2 [==============================] - 0s 15ms/step - loss: 16.2190 - mae: 16.2190\n",
            "Epoch 228/500\n",
            "2/2 [==============================] - 0s 14ms/step - loss: 9.3630 - mae: 9.3630\n",
            "Epoch 229/500\n",
            "2/2 [==============================] - 0s 14ms/step - loss: 18.0394 - mae: 18.0394\n",
            "Epoch 230/500\n",
            "2/2 [==============================] - 0s 13ms/step - loss: 15.6190 - mae: 15.6190\n",
            "Epoch 231/500\n",
            "2/2 [==============================] - 0s 12ms/step - loss: 21.1802 - mae: 21.1802\n",
            "Epoch 232/500\n",
            "2/2 [==============================] - 0s 17ms/step - loss: 25.3466 - mae: 25.3466\n",
            "Epoch 233/500\n",
            "2/2 [==============================] - 0s 24ms/step - loss: 16.3852 - mae: 16.3852\n",
            "Epoch 234/500\n",
            "2/2 [==============================] - 0s 10ms/step - loss: 7.3370 - mae: 7.3370\n",
            "Epoch 235/500\n",
            "2/2 [==============================] - 0s 18ms/step - loss: 17.0229 - mae: 17.0229\n",
            "Epoch 236/500\n",
            "2/2 [==============================] - 0s 13ms/step - loss: 7.1830 - mae: 7.1830\n",
            "Epoch 237/500\n",
            "2/2 [==============================] - 0s 17ms/step - loss: 9.2624 - mae: 9.2624\n",
            "Epoch 238/500\n",
            "2/2 [==============================] - 0s 16ms/step - loss: 8.1487 - mae: 8.1487\n",
            "Epoch 239/500\n",
            "2/2 [==============================] - 0s 13ms/step - loss: 17.0279 - mae: 17.0279\n",
            "Epoch 240/500\n",
            "2/2 [==============================] - 0s 9ms/step - loss: 8.9010 - mae: 8.9010\n",
            "Epoch 241/500\n",
            "2/2 [==============================] - 0s 14ms/step - loss: 12.7894 - mae: 12.7894\n",
            "Epoch 242/500\n",
            "2/2 [==============================] - 0s 14ms/step - loss: 10.9162 - mae: 10.9162\n",
            "Epoch 243/500\n",
            "2/2 [==============================] - 0s 17ms/step - loss: 17.3363 - mae: 17.3363\n",
            "Epoch 244/500\n",
            "2/2 [==============================] - 0s 9ms/step - loss: 14.5113 - mae: 14.5113\n",
            "Epoch 245/500\n",
            "2/2 [==============================] - 0s 16ms/step - loss: 15.0825 - mae: 15.0825\n",
            "Epoch 246/500\n",
            "2/2 [==============================] - 0s 18ms/step - loss: 16.1841 - mae: 16.1841\n",
            "Epoch 247/500\n",
            "2/2 [==============================] - 0s 12ms/step - loss: 18.1815 - mae: 18.1815\n",
            "Epoch 248/500\n",
            "2/2 [==============================] - 0s 19ms/step - loss: 13.7114 - mae: 13.7114\n",
            "Epoch 249/500\n",
            "2/2 [==============================] - 0s 19ms/step - loss: 14.8064 - mae: 14.8064\n",
            "Epoch 250/500\n",
            "2/2 [==============================] - 0s 14ms/step - loss: 23.7972 - mae: 23.7972\n",
            "Epoch 251/500\n",
            "2/2 [==============================] - 0s 15ms/step - loss: 13.5830 - mae: 13.5830\n",
            "Epoch 252/500\n",
            "2/2 [==============================] - 0s 19ms/step - loss: 22.5299 - mae: 22.5299\n",
            "Epoch 253/500\n",
            "2/2 [==============================] - 0s 16ms/step - loss: 9.8149 - mae: 9.8149\n",
            "Epoch 254/500\n",
            "2/2 [==============================] - 0s 20ms/step - loss: 15.8072 - mae: 15.8072\n",
            "Epoch 255/500\n",
            "2/2 [==============================] - 0s 18ms/step - loss: 13.5495 - mae: 13.5495\n",
            "Epoch 256/500\n",
            "2/2 [==============================] - 0s 12ms/step - loss: 9.9481 - mae: 9.9481\n",
            "Epoch 257/500\n",
            "2/2 [==============================] - 0s 17ms/step - loss: 14.6254 - mae: 14.6254\n",
            "Epoch 258/500\n",
            "2/2 [==============================] - 0s 14ms/step - loss: 5.2764 - mae: 5.2764\n",
            "Epoch 259/500\n",
            "2/2 [==============================] - 0s 13ms/step - loss: 16.6150 - mae: 16.6150\n",
            "Epoch 260/500\n",
            "2/2 [==============================] - 0s 14ms/step - loss: 49.6429 - mae: 49.6429\n",
            "Epoch 261/500\n",
            "2/2 [==============================] - 0s 18ms/step - loss: 22.5696 - mae: 22.5696\n",
            "Epoch 262/500\n",
            "2/2 [==============================] - 0s 17ms/step - loss: 4.7235 - mae: 4.7235\n",
            "Epoch 263/500\n",
            "2/2 [==============================] - 0s 13ms/step - loss: 9.3394 - mae: 9.3394\n",
            "Epoch 264/500\n",
            "2/2 [==============================] - 0s 14ms/step - loss: 22.9427 - mae: 22.9427\n",
            "Epoch 265/500\n",
            "2/2 [==============================] - 0s 8ms/step - loss: 10.7649 - mae: 10.7649\n",
            "Epoch 266/500\n",
            "2/2 [==============================] - 0s 27ms/step - loss: 13.2031 - mae: 13.2031\n",
            "Epoch 267/500\n",
            "2/2 [==============================] - 0s 19ms/step - loss: 11.0465 - mae: 11.0465\n",
            "Epoch 268/500\n",
            "2/2 [==============================] - 0s 11ms/step - loss: 21.6367 - mae: 21.6367\n",
            "Epoch 269/500\n",
            "2/2 [==============================] - 0s 9ms/step - loss: 33.1694 - mae: 33.1694\n",
            "Epoch 270/500\n",
            "2/2 [==============================] - 0s 15ms/step - loss: 9.8733 - mae: 9.8733\n",
            "Epoch 271/500\n",
            "2/2 [==============================] - 0s 9ms/step - loss: 7.7464 - mae: 7.7464\n",
            "Epoch 272/500\n",
            "2/2 [==============================] - 0s 14ms/step - loss: 28.4696 - mae: 28.4696\n",
            "Epoch 273/500\n",
            "2/2 [==============================] - 0s 12ms/step - loss: 7.4698 - mae: 7.4698\n",
            "Epoch 274/500\n",
            "2/2 [==============================] - 0s 8ms/step - loss: 6.3722 - mae: 6.3722\n",
            "Epoch 275/500\n",
            "2/2 [==============================] - 0s 16ms/step - loss: 31.8092 - mae: 31.8092\n",
            "Epoch 276/500\n",
            "2/2 [==============================] - 0s 13ms/step - loss: 4.7071 - mae: 4.7071\n",
            "Epoch 277/500\n",
            "2/2 [==============================] - 0s 9ms/step - loss: 19.8052 - mae: 19.8052\n",
            "Epoch 278/500\n",
            "2/2 [==============================] - 0s 16ms/step - loss: 6.5261 - mae: 6.5261\n",
            "Epoch 279/500\n",
            "2/2 [==============================] - 0s 15ms/step - loss: 18.7476 - mae: 18.7476\n",
            "Epoch 280/500\n",
            "2/2 [==============================] - 0s 23ms/step - loss: 29.2749 - mae: 29.2749\n",
            "Epoch 281/500\n",
            "2/2 [==============================] - 0s 16ms/step - loss: 7.4341 - mae: 7.4341\n",
            "Epoch 282/500\n",
            "2/2 [==============================] - 0s 8ms/step - loss: 14.2704 - mae: 14.2704\n",
            "Epoch 283/500\n",
            "2/2 [==============================] - 0s 9ms/step - loss: 10.4569 - mae: 10.4569\n",
            "Epoch 284/500\n",
            "2/2 [==============================] - 0s 12ms/step - loss: 25.2933 - mae: 25.2933\n",
            "Epoch 285/500\n",
            "2/2 [==============================] - 0s 8ms/step - loss: 16.0369 - mae: 16.0369\n",
            "Epoch 286/500\n",
            "2/2 [==============================] - 0s 8ms/step - loss: 5.2751 - mae: 5.2751\n",
            "Epoch 287/500\n",
            "2/2 [==============================] - 0s 15ms/step - loss: 20.8303 - mae: 20.8303\n",
            "Epoch 288/500\n",
            "2/2 [==============================] - 0s 8ms/step - loss: 27.5715 - mae: 27.5715\n",
            "Epoch 289/500\n",
            "2/2 [==============================] - 0s 8ms/step - loss: 10.4478 - mae: 10.4478\n",
            "Epoch 290/500\n",
            "2/2 [==============================] - 0s 9ms/step - loss: 16.3193 - mae: 16.3193\n",
            "Epoch 291/500\n",
            "2/2 [==============================] - 0s 18ms/step - loss: 16.5105 - mae: 16.5105\n",
            "Epoch 292/500\n",
            "2/2 [==============================] - 0s 16ms/step - loss: 7.4430 - mae: 7.4430\n",
            "Epoch 293/500\n",
            "2/2 [==============================] - 0s 11ms/step - loss: 16.5554 - mae: 16.5554\n",
            "Epoch 294/500\n",
            "2/2 [==============================] - 0s 15ms/step - loss: 25.3459 - mae: 25.3459\n",
            "Epoch 295/500\n",
            "2/2 [==============================] - 0s 16ms/step - loss: 14.5539 - mae: 14.5539\n",
            "Epoch 296/500\n",
            "2/2 [==============================] - 0s 17ms/step - loss: 4.6847 - mae: 4.6847\n",
            "Epoch 297/500\n",
            "2/2 [==============================] - 0s 10ms/step - loss: 7.2864 - mae: 7.2864\n",
            "Epoch 298/500\n",
            "2/2 [==============================] - 0s 11ms/step - loss: 19.5792 - mae: 19.5792\n",
            "Epoch 299/500\n",
            "2/2 [==============================] - 0s 9ms/step - loss: 6.6230 - mae: 6.6230\n",
            "Epoch 300/500\n",
            "2/2 [==============================] - 0s 8ms/step - loss: 22.0223 - mae: 22.0223\n",
            "Epoch 301/500\n",
            "2/2 [==============================] - 0s 19ms/step - loss: 9.1325 - mae: 9.1325\n",
            "Epoch 302/500\n",
            "2/2 [==============================] - 0s 16ms/step - loss: 11.1782 - mae: 11.1782\n",
            "Epoch 303/500\n",
            "2/2 [==============================] - 0s 23ms/step - loss: 9.3370 - mae: 9.3370\n",
            "Epoch 304/500\n",
            "2/2 [==============================] - 0s 21ms/step - loss: 23.6762 - mae: 23.6762\n",
            "Epoch 305/500\n",
            "2/2 [==============================] - 0s 21ms/step - loss: 7.9234 - mae: 7.9234\n",
            "Epoch 306/500\n",
            "2/2 [==============================] - 0s 21ms/step - loss: 23.7218 - mae: 23.7218\n",
            "Epoch 307/500\n",
            "2/2 [==============================] - 0s 11ms/step - loss: 5.8912 - mae: 5.8912\n",
            "Epoch 308/500\n",
            "2/2 [==============================] - 0s 16ms/step - loss: 21.3385 - mae: 21.3385\n",
            "Epoch 309/500\n",
            "2/2 [==============================] - 0s 14ms/step - loss: 18.3792 - mae: 18.3792\n",
            "Epoch 310/500\n",
            "2/2 [==============================] - 0s 18ms/step - loss: 4.5029 - mae: 4.5029\n",
            "Epoch 311/500\n",
            "2/2 [==============================] - 0s 9ms/step - loss: 6.5139 - mae: 6.5139\n",
            "Epoch 312/500\n",
            "2/2 [==============================] - 0s 19ms/step - loss: 35.4056 - mae: 35.4056\n",
            "Epoch 313/500\n",
            "2/2 [==============================] - 0s 16ms/step - loss: 28.8822 - mae: 28.8822\n",
            "Epoch 314/500\n",
            "2/2 [==============================] - 0s 17ms/step - loss: 11.2012 - mae: 11.2012\n",
            "Epoch 315/500\n",
            "2/2 [==============================] - 0s 16ms/step - loss: 23.5660 - mae: 23.5660\n",
            "Epoch 316/500\n",
            "2/2 [==============================] - 0s 16ms/step - loss: 14.4023 - mae: 14.4023\n",
            "Epoch 317/500\n",
            "2/2 [==============================] - 0s 16ms/step - loss: 19.9418 - mae: 19.9418\n",
            "Epoch 318/500\n",
            "2/2 [==============================] - 0s 14ms/step - loss: 7.9931 - mae: 7.9931\n",
            "Epoch 319/500\n",
            "2/2 [==============================] - 0s 13ms/step - loss: 18.0786 - mae: 18.0786\n",
            "Epoch 320/500\n",
            "2/2 [==============================] - 0s 15ms/step - loss: 10.6200 - mae: 10.6200\n",
            "Epoch 321/500\n",
            "2/2 [==============================] - 0s 18ms/step - loss: 7.0144 - mae: 7.0144\n",
            "Epoch 322/500\n",
            "2/2 [==============================] - 0s 17ms/step - loss: 8.6817 - mae: 8.6817\n",
            "Epoch 323/500\n",
            "2/2 [==============================] - 0s 16ms/step - loss: 18.3530 - mae: 18.3530\n",
            "Epoch 324/500\n",
            "2/2 [==============================] - 0s 15ms/step - loss: 6.3011 - mae: 6.3011\n",
            "Epoch 325/500\n",
            "2/2 [==============================] - 0s 16ms/step - loss: 14.5835 - mae: 14.5835\n",
            "Epoch 326/500\n",
            "2/2 [==============================] - 0s 16ms/step - loss: 6.9833 - mae: 6.9833\n",
            "Epoch 327/500\n",
            "2/2 [==============================] - 0s 18ms/step - loss: 17.5828 - mae: 17.5828\n",
            "Epoch 328/500\n",
            "2/2 [==============================] - 0s 17ms/step - loss: 14.3846 - mae: 14.3846\n",
            "Epoch 329/500\n",
            "2/2 [==============================] - 0s 17ms/step - loss: 17.7016 - mae: 17.7016\n",
            "Epoch 330/500\n",
            "2/2 [==============================] - 0s 13ms/step - loss: 6.7779 - mae: 6.7779\n",
            "Epoch 331/500\n",
            "2/2 [==============================] - 0s 15ms/step - loss: 19.7032 - mae: 19.7032\n",
            "Epoch 332/500\n",
            "2/2 [==============================] - 0s 15ms/step - loss: 10.5346 - mae: 10.5346\n",
            "Epoch 333/500\n",
            "2/2 [==============================] - 0s 13ms/step - loss: 16.3043 - mae: 16.3043\n",
            "Epoch 334/500\n",
            "2/2 [==============================] - 0s 15ms/step - loss: 9.7324 - mae: 9.7324\n",
            "Epoch 335/500\n",
            "2/2 [==============================] - 0s 18ms/step - loss: 13.0601 - mae: 13.0601\n",
            "Epoch 336/500\n",
            "2/2 [==============================] - 0s 19ms/step - loss: 32.5009 - mae: 32.5009\n",
            "Epoch 337/500\n",
            "2/2 [==============================] - 0s 15ms/step - loss: 11.0464 - mae: 11.0464\n",
            "Epoch 338/500\n",
            "2/2 [==============================] - 0s 16ms/step - loss: 19.9706 - mae: 19.9706\n",
            "Epoch 339/500\n",
            "2/2 [==============================] - 0s 14ms/step - loss: 34.2685 - mae: 34.2685\n",
            "Epoch 340/500\n",
            "2/2 [==============================] - 0s 13ms/step - loss: 8.7129 - mae: 8.7129\n",
            "Epoch 341/500\n",
            "2/2 [==============================] - 0s 17ms/step - loss: 21.9193 - mae: 21.9193\n",
            "Epoch 342/500\n",
            "2/2 [==============================] - 0s 15ms/step - loss: 13.8565 - mae: 13.8565\n",
            "Epoch 343/500\n",
            "2/2 [==============================] - 0s 25ms/step - loss: 11.7039 - mae: 11.7039\n",
            "Epoch 344/500\n",
            "2/2 [==============================] - 0s 14ms/step - loss: 10.6932 - mae: 10.6932\n",
            "Epoch 345/500\n",
            "2/2 [==============================] - 0s 15ms/step - loss: 30.9126 - mae: 30.9126\n",
            "Epoch 346/500\n",
            "2/2 [==============================] - 0s 19ms/step - loss: 10.6453 - mae: 10.6453\n",
            "Epoch 347/500\n",
            "2/2 [==============================] - 0s 23ms/step - loss: 25.5751 - mae: 25.5751\n",
            "Epoch 348/500\n",
            "2/2 [==============================] - 0s 27ms/step - loss: 13.2589 - mae: 13.2589\n",
            "Epoch 349/500\n",
            "2/2 [==============================] - 0s 25ms/step - loss: 13.0446 - mae: 13.0446\n",
            "Epoch 350/500\n",
            "2/2 [==============================] - 0s 21ms/step - loss: 15.4037 - mae: 15.4037\n",
            "Epoch 351/500\n",
            "2/2 [==============================] - 0s 17ms/step - loss: 32.8804 - mae: 32.8804\n",
            "Epoch 352/500\n",
            "2/2 [==============================] - 0s 18ms/step - loss: 14.0921 - mae: 14.0921\n",
            "Epoch 353/500\n",
            "2/2 [==============================] - 0s 18ms/step - loss: 17.7885 - mae: 17.7885\n",
            "Epoch 354/500\n",
            "2/2 [==============================] - 0s 15ms/step - loss: 11.3473 - mae: 11.3473\n",
            "Epoch 355/500\n",
            "2/2 [==============================] - 0s 20ms/step - loss: 26.7799 - mae: 26.7799\n",
            "Epoch 356/500\n",
            "2/2 [==============================] - 0s 15ms/step - loss: 9.7424 - mae: 9.7424\n",
            "Epoch 357/500\n",
            "2/2 [==============================] - 0s 21ms/step - loss: 17.1338 - mae: 17.1338\n",
            "Epoch 358/500\n",
            "2/2 [==============================] - 0s 16ms/step - loss: 15.8137 - mae: 15.8137\n",
            "Epoch 359/500\n",
            "2/2 [==============================] - 0s 17ms/step - loss: 11.7076 - mae: 11.7076\n",
            "Epoch 360/500\n",
            "2/2 [==============================] - 0s 16ms/step - loss: 20.2485 - mae: 20.2485\n",
            "Epoch 361/500\n",
            "2/2 [==============================] - 0s 12ms/step - loss: 11.0647 - mae: 11.0647\n",
            "Epoch 362/500\n",
            "2/2 [==============================] - 0s 16ms/step - loss: 6.8507 - mae: 6.8507\n",
            "Epoch 363/500\n",
            "2/2 [==============================] - 0s 14ms/step - loss: 24.0420 - mae: 24.0420\n",
            "Epoch 364/500\n",
            "2/2 [==============================] - 0s 14ms/step - loss: 29.8252 - mae: 29.8252\n",
            "Epoch 365/500\n",
            "2/2 [==============================] - 0s 27ms/step - loss: 8.3945 - mae: 8.3945\n",
            "Epoch 366/500\n",
            "2/2 [==============================] - 0s 18ms/step - loss: 6.1177 - mae: 6.1177\n",
            "Epoch 367/500\n",
            "2/2 [==============================] - 0s 27ms/step - loss: 34.9457 - mae: 34.9457\n",
            "Epoch 368/500\n",
            "2/2 [==============================] - 0s 16ms/step - loss: 7.4416 - mae: 7.4416\n",
            "Epoch 369/500\n",
            "2/2 [==============================] - 0s 13ms/step - loss: 9.2551 - mae: 9.2551\n",
            "Epoch 370/500\n",
            "2/2 [==============================] - 0s 19ms/step - loss: 10.9554 - mae: 10.9554\n",
            "Epoch 371/500\n",
            "2/2 [==============================] - 0s 14ms/step - loss: 9.0178 - mae: 9.0178\n",
            "Epoch 372/500\n",
            "2/2 [==============================] - 0s 16ms/step - loss: 7.7136 - mae: 7.7136\n",
            "Epoch 373/500\n",
            "2/2 [==============================] - 0s 11ms/step - loss: 25.0537 - mae: 25.0537\n",
            "Epoch 374/500\n",
            "2/2 [==============================] - 0s 18ms/step - loss: 13.2370 - mae: 13.2370\n",
            "Epoch 375/500\n",
            "2/2 [==============================] - 0s 18ms/step - loss: 11.8551 - mae: 11.8551\n",
            "Epoch 376/500\n",
            "2/2 [==============================] - 0s 17ms/step - loss: 14.1275 - mae: 14.1275\n",
            "Epoch 377/500\n",
            "2/2 [==============================] - 0s 13ms/step - loss: 15.7226 - mae: 15.7226\n",
            "Epoch 378/500\n",
            "2/2 [==============================] - 0s 20ms/step - loss: 17.0450 - mae: 17.0450\n",
            "Epoch 379/500\n",
            "2/2 [==============================] - 0s 14ms/step - loss: 19.3930 - mae: 19.3930\n",
            "Epoch 380/500\n",
            "2/2 [==============================] - 0s 14ms/step - loss: 15.7534 - mae: 15.7534\n",
            "Epoch 381/500\n",
            "2/2 [==============================] - 0s 15ms/step - loss: 11.4660 - mae: 11.4660\n",
            "Epoch 382/500\n",
            "2/2 [==============================] - 0s 13ms/step - loss: 16.3466 - mae: 16.3466\n",
            "Epoch 383/500\n",
            "2/2 [==============================] - 0s 14ms/step - loss: 22.1035 - mae: 22.1035\n",
            "Epoch 384/500\n",
            "2/2 [==============================] - 0s 13ms/step - loss: 7.7687 - mae: 7.7687\n",
            "Epoch 385/500\n",
            "2/2 [==============================] - 0s 16ms/step - loss: 10.6258 - mae: 10.6258\n",
            "Epoch 386/500\n",
            "2/2 [==============================] - 0s 16ms/step - loss: 19.1084 - mae: 19.1084\n",
            "Epoch 387/500\n",
            "2/2 [==============================] - 0s 11ms/step - loss: 26.4589 - mae: 26.4589\n",
            "Epoch 388/500\n",
            "2/2 [==============================] - 0s 13ms/step - loss: 10.1006 - mae: 10.1006\n",
            "Epoch 389/500\n",
            "2/2 [==============================] - 0s 13ms/step - loss: 5.1876 - mae: 5.1876\n",
            "Epoch 390/500\n",
            "2/2 [==============================] - 0s 29ms/step - loss: 18.7886 - mae: 18.7886\n",
            "Epoch 391/500\n",
            "2/2 [==============================] - 0s 30ms/step - loss: 9.3510 - mae: 9.3510\n",
            "Epoch 392/500\n",
            "2/2 [==============================] - 0s 16ms/step - loss: 14.4152 - mae: 14.4152\n",
            "Epoch 393/500\n",
            "2/2 [==============================] - 0s 13ms/step - loss: 15.4260 - mae: 15.4260\n",
            "Epoch 394/500\n",
            "2/2 [==============================] - 0s 17ms/step - loss: 14.7610 - mae: 14.7610\n",
            "Epoch 395/500\n",
            "2/2 [==============================] - 0s 17ms/step - loss: 24.9968 - mae: 24.9968\n",
            "Epoch 396/500\n",
            "2/2 [==============================] - 0s 14ms/step - loss: 19.0921 - mae: 19.0921\n",
            "Epoch 397/500\n",
            "2/2 [==============================] - 0s 17ms/step - loss: 11.6043 - mae: 11.6043\n",
            "Epoch 398/500\n",
            "2/2 [==============================] - 0s 16ms/step - loss: 19.2627 - mae: 19.2627\n",
            "Epoch 399/500\n",
            "2/2 [==============================] - 0s 15ms/step - loss: 25.8477 - mae: 25.8477\n",
            "Epoch 400/500\n",
            "2/2 [==============================] - 0s 18ms/step - loss: 15.5225 - mae: 15.5225\n",
            "Epoch 401/500\n",
            "2/2 [==============================] - 0s 13ms/step - loss: 14.6887 - mae: 14.6887\n",
            "Epoch 402/500\n",
            "2/2 [==============================] - 0s 14ms/step - loss: 24.3142 - mae: 24.3142\n",
            "Epoch 403/500\n",
            "2/2 [==============================] - 0s 17ms/step - loss: 16.1974 - mae: 16.1974\n",
            "Epoch 404/500\n",
            "2/2 [==============================] - 0s 15ms/step - loss: 10.3972 - mae: 10.3972\n",
            "Epoch 405/500\n",
            "2/2 [==============================] - 0s 15ms/step - loss: 6.4045 - mae: 6.4045\n",
            "Epoch 406/500\n",
            "2/2 [==============================] - 0s 27ms/step - loss: 17.6518 - mae: 17.6518\n",
            "Epoch 407/500\n",
            "2/2 [==============================] - 0s 32ms/step - loss: 11.0612 - mae: 11.0612\n",
            "Epoch 408/500\n",
            "2/2 [==============================] - 0s 23ms/step - loss: 21.1365 - mae: 21.1365\n",
            "Epoch 409/500\n",
            "2/2 [==============================] - 0s 40ms/step - loss: 30.1200 - mae: 30.1200\n",
            "Epoch 410/500\n",
            "2/2 [==============================] - 0s 48ms/step - loss: 9.8915 - mae: 9.8915\n",
            "Epoch 411/500\n",
            "2/2 [==============================] - 0s 21ms/step - loss: 14.7517 - mae: 14.7517\n",
            "Epoch 412/500\n",
            "2/2 [==============================] - 0s 42ms/step - loss: 21.5193 - mae: 21.5193\n",
            "Epoch 413/500\n",
            "2/2 [==============================] - 0s 32ms/step - loss: 13.2113 - mae: 13.2113\n",
            "Epoch 414/500\n",
            "2/2 [==============================] - 0s 50ms/step - loss: 8.2690 - mae: 8.2690\n",
            "Epoch 415/500\n",
            "2/2 [==============================] - 0s 43ms/step - loss: 11.6883 - mae: 11.6883\n",
            "Epoch 416/500\n",
            "2/2 [==============================] - 0s 28ms/step - loss: 25.5908 - mae: 25.5908\n",
            "Epoch 417/500\n",
            "2/2 [==============================] - 0s 41ms/step - loss: 15.8201 - mae: 15.8201\n",
            "Epoch 418/500\n",
            "2/2 [==============================] - 0s 41ms/step - loss: 12.5641 - mae: 12.5641\n",
            "Epoch 419/500\n",
            "2/2 [==============================] - 0s 21ms/step - loss: 15.7270 - mae: 15.7270\n",
            "Epoch 420/500\n",
            "2/2 [==============================] - 0s 47ms/step - loss: 24.4107 - mae: 24.4107\n",
            "Epoch 421/500\n",
            "2/2 [==============================] - 0s 31ms/step - loss: 18.3225 - mae: 18.3225\n",
            "Epoch 422/500\n",
            "2/2 [==============================] - 0s 48ms/step - loss: 8.6770 - mae: 8.6770\n",
            "Epoch 423/500\n",
            "2/2 [==============================] - 0s 52ms/step - loss: 24.6298 - mae: 24.6298\n",
            "Epoch 424/500\n",
            "2/2 [==============================] - 0s 19ms/step - loss: 16.8914 - mae: 16.8914\n",
            "Epoch 425/500\n",
            "2/2 [==============================] - 0s 43ms/step - loss: 7.3881 - mae: 7.3881\n",
            "Epoch 426/500\n",
            "2/2 [==============================] - 0s 30ms/step - loss: 21.0798 - mae: 21.0798\n",
            "Epoch 427/500\n",
            "2/2 [==============================] - 0s 42ms/step - loss: 6.5590 - mae: 6.5590\n",
            "Epoch 428/500\n",
            "2/2 [==============================] - 0s 21ms/step - loss: 13.4881 - mae: 13.4881\n",
            "Epoch 429/500\n",
            "2/2 [==============================] - 0s 34ms/step - loss: 11.2124 - mae: 11.2124\n",
            "Epoch 430/500\n",
            "2/2 [==============================] - 0s 40ms/step - loss: 12.1111 - mae: 12.1111\n",
            "Epoch 431/500\n",
            "2/2 [==============================] - 0s 27ms/step - loss: 8.6649 - mae: 8.6649\n",
            "Epoch 432/500\n",
            "2/2 [==============================] - 0s 28ms/step - loss: 18.9165 - mae: 18.9165\n",
            "Epoch 433/500\n",
            "2/2 [==============================] - 0s 26ms/step - loss: 9.4918 - mae: 9.4918\n",
            "Epoch 434/500\n",
            "2/2 [==============================] - 0s 17ms/step - loss: 30.9900 - mae: 30.9900\n",
            "Epoch 435/500\n",
            "2/2 [==============================] - 0s 20ms/step - loss: 11.8678 - mae: 11.8678\n",
            "Epoch 436/500\n",
            "2/2 [==============================] - 0s 20ms/step - loss: 28.7883 - mae: 28.7883\n",
            "Epoch 437/500\n",
            "2/2 [==============================] - 0s 13ms/step - loss: 8.0934 - mae: 8.0934\n",
            "Epoch 438/500\n",
            "2/2 [==============================] - 0s 9ms/step - loss: 12.8341 - mae: 12.8341\n",
            "Epoch 439/500\n",
            "2/2 [==============================] - 0s 25ms/step - loss: 33.9196 - mae: 33.9196\n",
            "Epoch 440/500\n",
            "2/2 [==============================] - 0s 22ms/step - loss: 15.4735 - mae: 15.4735\n",
            "Epoch 441/500\n",
            "2/2 [==============================] - 0s 23ms/step - loss: 17.8294 - mae: 17.8294\n",
            "Epoch 442/500\n",
            "2/2 [==============================] - 0s 24ms/step - loss: 17.5850 - mae: 17.5850\n",
            "Epoch 443/500\n",
            "2/2 [==============================] - 0s 19ms/step - loss: 7.6759 - mae: 7.6759\n",
            "Epoch 444/500\n",
            "2/2 [==============================] - 0s 22ms/step - loss: 22.8421 - mae: 22.8421\n",
            "Epoch 445/500\n",
            "2/2 [==============================] - 0s 18ms/step - loss: 12.1459 - mae: 12.1459\n",
            "Epoch 446/500\n",
            "2/2 [==============================] - 0s 13ms/step - loss: 10.4806 - mae: 10.4806\n",
            "Epoch 447/500\n",
            "2/2 [==============================] - 0s 9ms/step - loss: 16.9416 - mae: 16.9416\n",
            "Epoch 448/500\n",
            "2/2 [==============================] - 0s 9ms/step - loss: 11.6513 - mae: 11.6513\n",
            "Epoch 449/500\n",
            "2/2 [==============================] - 0s 9ms/step - loss: 14.8439 - mae: 14.8439\n",
            "Epoch 450/500\n",
            "2/2 [==============================] - 0s 10ms/step - loss: 17.5985 - mae: 17.5985\n",
            "Epoch 451/500\n",
            "2/2 [==============================] - 0s 10ms/step - loss: 14.6446 - mae: 14.6446\n",
            "Epoch 452/500\n",
            "2/2 [==============================] - 0s 8ms/step - loss: 31.3077 - mae: 31.3077\n",
            "Epoch 453/500\n",
            "2/2 [==============================] - 0s 11ms/step - loss: 10.5962 - mae: 10.5962\n",
            "Epoch 454/500\n",
            "2/2 [==============================] - 0s 16ms/step - loss: 26.9098 - mae: 26.9098\n",
            "Epoch 455/500\n",
            "2/2 [==============================] - 0s 11ms/step - loss: 12.1728 - mae: 12.1728\n",
            "Epoch 456/500\n",
            "2/2 [==============================] - 0s 16ms/step - loss: 15.3850 - mae: 15.3850\n",
            "Epoch 457/500\n",
            "2/2 [==============================] - 0s 20ms/step - loss: 19.1242 - mae: 19.1242\n",
            "Epoch 458/500\n",
            "2/2 [==============================] - 0s 14ms/step - loss: 23.3374 - mae: 23.3374\n",
            "Epoch 459/500\n",
            "2/2 [==============================] - 0s 21ms/step - loss: 16.7004 - mae: 16.7004\n",
            "Epoch 460/500\n",
            "2/2 [==============================] - 0s 20ms/step - loss: 3.9892 - mae: 3.9892\n",
            "Epoch 461/500\n",
            "2/2 [==============================] - 0s 18ms/step - loss: 18.4466 - mae: 18.4466\n",
            "Epoch 462/500\n",
            "2/2 [==============================] - 0s 13ms/step - loss: 11.1835 - mae: 11.1835\n",
            "Epoch 463/500\n",
            "2/2 [==============================] - 0s 9ms/step - loss: 26.9417 - mae: 26.9417\n",
            "Epoch 464/500\n",
            "2/2 [==============================] - 0s 12ms/step - loss: 12.1421 - mae: 12.1421\n",
            "Epoch 465/500\n",
            "2/2 [==============================] - 0s 10ms/step - loss: 7.6591 - mae: 7.6591\n",
            "Epoch 466/500\n",
            "2/2 [==============================] - 0s 10ms/step - loss: 12.6780 - mae: 12.6780\n",
            "Epoch 467/500\n",
            "2/2 [==============================] - 0s 12ms/step - loss: 6.1615 - mae: 6.1615\n",
            "Epoch 468/500\n",
            "2/2 [==============================] - 0s 9ms/step - loss: 13.9016 - mae: 13.9016\n",
            "Epoch 469/500\n",
            "2/2 [==============================] - 0s 23ms/step - loss: 14.0736 - mae: 14.0736\n",
            "Epoch 470/500\n",
            "2/2 [==============================] - 0s 16ms/step - loss: 3.6534 - mae: 3.6534\n",
            "Epoch 471/500\n",
            "2/2 [==============================] - 0s 10ms/step - loss: 15.4932 - mae: 15.4932\n",
            "Epoch 472/500\n",
            "2/2 [==============================] - 0s 26ms/step - loss: 12.2977 - mae: 12.2977\n",
            "Epoch 473/500\n",
            "2/2 [==============================] - 0s 19ms/step - loss: 14.6834 - mae: 14.6834\n",
            "Epoch 474/500\n",
            "2/2 [==============================] - 0s 22ms/step - loss: 18.5441 - mae: 18.5441\n",
            "Epoch 475/500\n",
            "2/2 [==============================] - 0s 16ms/step - loss: 12.6985 - mae: 12.6985\n",
            "Epoch 476/500\n",
            "2/2 [==============================] - 0s 12ms/step - loss: 13.6797 - mae: 13.6797\n",
            "Epoch 477/500\n",
            "2/2 [==============================] - 0s 13ms/step - loss: 30.2611 - mae: 30.2611\n",
            "Epoch 478/500\n",
            "2/2 [==============================] - 0s 19ms/step - loss: 6.9307 - mae: 6.9307\n",
            "Epoch 479/500\n",
            "2/2 [==============================] - 0s 19ms/step - loss: 11.6052 - mae: 11.6052\n",
            "Epoch 480/500\n",
            "2/2 [==============================] - 0s 9ms/step - loss: 18.2801 - mae: 18.2801\n",
            "Epoch 481/500\n",
            "2/2 [==============================] - 0s 12ms/step - loss: 16.1349 - mae: 16.1349\n",
            "Epoch 482/500\n",
            "2/2 [==============================] - 0s 11ms/step - loss: 14.9467 - mae: 14.9467\n",
            "Epoch 483/500\n",
            "2/2 [==============================] - 0s 12ms/step - loss: 20.3129 - mae: 20.3129\n",
            "Epoch 484/500\n",
            "2/2 [==============================] - 0s 13ms/step - loss: 35.7482 - mae: 35.7482\n",
            "Epoch 485/500\n",
            "2/2 [==============================] - 0s 10ms/step - loss: 14.1947 - mae: 14.1947\n",
            "Epoch 486/500\n",
            "2/2 [==============================] - 0s 11ms/step - loss: 6.8485 - mae: 6.8485\n",
            "Epoch 487/500\n",
            "2/2 [==============================] - 0s 24ms/step - loss: 6.3612 - mae: 6.3612\n",
            "Epoch 488/500\n",
            "2/2 [==============================] - 0s 11ms/step - loss: 30.1645 - mae: 30.1645\n",
            "Epoch 489/500\n",
            "2/2 [==============================] - 0s 14ms/step - loss: 12.5775 - mae: 12.5775\n",
            "Epoch 490/500\n",
            "2/2 [==============================] - 0s 15ms/step - loss: 13.0661 - mae: 13.0661\n",
            "Epoch 491/500\n",
            "2/2 [==============================] - 0s 15ms/step - loss: 24.2775 - mae: 24.2775\n",
            "Epoch 492/500\n",
            "2/2 [==============================] - 0s 14ms/step - loss: 18.8272 - mae: 18.8272\n",
            "Epoch 493/500\n",
            "2/2 [==============================] - 0s 12ms/step - loss: 4.8601 - mae: 4.8601\n",
            "Epoch 494/500\n",
            "2/2 [==============================] - 0s 26ms/step - loss: 12.1595 - mae: 12.1595\n",
            "Epoch 495/500\n",
            "2/2 [==============================] - 0s 15ms/step - loss: 13.6577 - mae: 13.6577\n",
            "Epoch 496/500\n",
            "2/2 [==============================] - 0s 9ms/step - loss: 12.8705 - mae: 12.8705\n",
            "Epoch 497/500\n",
            "2/2 [==============================] - 0s 8ms/step - loss: 17.9777 - mae: 17.9777\n",
            "Epoch 498/500\n",
            "2/2 [==============================] - 0s 8ms/step - loss: 22.7702 - mae: 22.7702\n",
            "Epoch 499/500\n",
            "2/2 [==============================] - 0s 8ms/step - loss: 8.6451 - mae: 8.6451\n",
            "Epoch 500/500\n",
            "2/2 [==============================] - 0s 8ms/step - loss: 14.4567 - mae: 14.4567\n"
          ]
        },
        {
          "output_type": "execute_result",
          "data": {
            "text/plain": [
              "<keras.callbacks.History at 0x7f4b9a3f21c0>"
            ]
          },
          "metadata": {},
          "execution_count": 90
        }
      ]
    },
    {
      "cell_type": "code",
      "source": [
        "# Make and plot predictions of model_3\n",
        "y_preds_3 = model_3.predict(X_test)\n",
        "plot_predictions(predictions=y_preds_3)"
      ],
      "metadata": {
        "colab": {
          "base_uri": "https://localhost:8080/",
          "height": 446
        },
        "id": "_zuMV69ZtTwv",
        "outputId": "c5632a8a-21a7-44d7-f472-c378478ba893"
      },
      "execution_count": 92,
      "outputs": [
        {
          "output_type": "stream",
          "name": "stdout",
          "text": [
            "1/1 [==============================] - 0s 216ms/step\n"
          ]
        },
        {
          "output_type": "display_data",
          "data": {
            "text/plain": [
              "<Figure size 720x504 with 1 Axes>"
            ],
            "image/png": "[encoded data removed]"
          },
          "metadata": {
            "needs_background": "light"
          }
        }
      ]
    },
    {
      "cell_type": "code",
      "source": [
        "# Calculate model_3 evaluation metrics\n",
        "mae_3 = mae(y_test, y_preds_3)\n",
        "mse_3 = mse(y_test, y_preds_3)\n",
        "mae_3, mse_3"
      ],
      "metadata": {
        "colab": {
          "base_uri": "https://localhost:8080/"
        },
        "id": "l-aWXScktHfe",
        "outputId": "cc9bd99f-05e5-43d3-c814-eec5f1b8a257"
      },
      "execution_count": 93,
      "outputs": [
        {
          "output_type": "execute_result",
          "data": {
            "text/plain": [
              "(<tf.Tensor: shape=(), dtype=float32, numpy=68.158104>,\n",
              " <tf.Tensor: shape=(), dtype=float32, numpy=4730.478>)"
            ]
          },
          "metadata": {},
          "execution_count": 93
        }
      ]
    },
    {
      "cell_type": "markdown",
      "source": [
        "🔑 **Note:** You want to start with small experiments (small models) and make sure they work and then increase their scale when necessary."
      ],
      "metadata": {
        "id": "etlZvTMwu7Cj"
      }
    },
    {
      "cell_type": "markdown",
      "source": [
        "## Comparing the results of our experiments\n",
        "\n",
        "We've run a few experiments, let's compare the results"
      ],
      "metadata": {
        "id": "YkDRbla3tYw3"
      }
    },
    {
      "cell_type": "code",
      "source": [
        "# Let's compare our model's results using a pandas DataFrame\n",
        "import pandas as pd\n",
        "\n",
        "model_results = [[\"model_1\", mae_1.numpy(), mse_1.numpy()],\n",
        "                 [\"model_2\", mae_2.numpy(), mse_2.numpy()],\n",
        "                 [\"model_3\", mae_3.numpy(), mse_3.numpy()]]\n",
        "\n",
        "all_results = pd.DataFrame(model_results, columns=[\"model\", \"mae\", \"mse\"])\n",
        "all_results"
      ],
      "metadata": {
        "colab": {
          "base_uri": "https://localhost:8080/",
          "height": 143
        },
        "id": "BlpgMWL0uvhH",
        "outputId": "e43138f0-5bdd-4f89-93c3-76117fb6c1c4"
      },
      "execution_count": 95,
      "outputs": [
        {
          "output_type": "execute_result",
          "data": {
            "text/plain": [
              "     model        mae          mse\n",
              "0  model_1  14.847300   221.263672\n",
              "1  model_2  13.173355   183.475510\n",
              "2  model_3  68.158104  4730.478027"
            ],
            "text/html": [
              "\n",
              "  <div id=\"df-42180d75-3ed9-4b01-8dca-2dbba46d955b\">\n",
              "    <div class=\"colab-df-container\">\n",
              "      <div>\n",
              "<style scoped>\n",
              "    .dataframe tbody tr th:only-of-type {\n",
              "        vertical-align: middle;\n",
              "    }\n",
              "\n",
              "    .dataframe tbody tr th {\n",
              "        vertical-align: top;\n",
              "    }\n",
              "\n",
              "    .dataframe thead th {\n",
              "        text-align: right;\n",
              "    }\n",
              "</style>\n",
              "<table border=\"1\" class=\"dataframe\">\n",
              "  <thead>\n",
              "    <tr style=\"text-align: right;\">\n",
              "      <th></th>\n",
              "      <th>model</th>\n",
              "      <th>mae</th>\n",
              "      <th>mse</th>\n",
              "    </tr>\n",
              "  </thead>\n",
              "  <tbody>\n",
              "    <tr>\n",
              "      <th>0</th>\n",
              "      <td>model_1</td>\n",
              "      <td>14.847300</td>\n",
              "      <td>221.263672</td>\n",
              "    </tr>\n",
              "    <tr>\n",
              "      <th>1</th>\n",
              "      <td>model_2</td>\n",
              "      <td>13.173355</td>\n",
              "      <td>183.475510</td>\n",
              "    </tr>\n",
              "    <tr>\n",
              "      <th>2</th>\n",
              "      <td>model_3</td>\n",
              "      <td>68.158104</td>\n",
              "      <td>4730.478027</td>\n",
              "    </tr>\n",
              "  </tbody>\n",
              "</table>\n",
              "</div>\n",
              "      <button class=\"colab-df-convert\" onclick=\"convertToInteractive('df-42180d75-3ed9-4b01-8dca-2dbba46d955b')\"\n",
              "              title=\"Convert this dataframe to an interactive table.\"\n",
              "              style=\"display:none;\">\n",
              "        \n",
              "  <svg xmlns=\"http://www.w3.org/2000/svg\" height=\"24px\"viewBox=\"0 0 24 24\"\n",
              "       width=\"24px\">\n",
              "    <path d=\"M0 0h24v24H0V0z\" fill=\"none\"/>\n",
              "    <path d=\"M18.56 5.44l.94 2.06.94-2.06 2.06-.94-2.06-.94-.94-2.06-.94 2.06-2.06.94zm-11 1L8.5 8.5l.94-2.06 2.06-.94-2.06-.94L8.5 2.5l-.94 2.06-2.06.94zm10 10l.94 2.06.94-2.06 2.06-.94-2.06-.94-.94-2.06-.94 2.06-2.06.94z\"/><path d=\"M17.41 7.96l-1.37-1.37c-.4-.4-.92-.59-1.43-.59-.52 0-1.04.2-1.43.59L10.3 9.45l-7.72 7.72c-.78.78-.78 2.05 0 2.83L4 21.41c.39.39.9.59 1.41.59.51 0 1.02-.2 1.41-.59l7.78-7.78 2.81-2.81c.8-.78.8-2.07 0-2.86zM5.41 20L4 18.59l7.72-7.72 1.47 1.35L5.41 20z\"/>\n",
              "  </svg>\n",
              "      </button>\n",
              "      \n",
              "  <style>\n",
              "    .colab-df-container {\n",
              "      display:flex;\n",
              "      flex-wrap:wrap;\n",
              "      gap: 12px;\n",
              "    }\n",
              "\n",
              "    .colab-df-convert {\n",
              "      background-color: #E8F0FE;\n",
              "      border: none;\n",
              "      border-radius: 50%;\n",
              "      cursor: pointer;\n",
              "      display: none;\n",
              "      fill: #1967D2;\n",
              "      height: 32px;\n",
              "      padding: 0 0 0 0;\n",
              "      width: 32px;\n",
              "    }\n",
              "\n",
              "    .colab-df-convert:hover {\n",
              "      background-color: #E2EBFA;\n",
              "      box-shadow: 0px 1px 2px rgba(60, 64, 67, 0.3), 0px 1px 3px 1px rgba(60, 64, 67, 0.15);\n",
              "      fill: #174EA6;\n",
              "    }\n",
              "\n",
              "    [theme=dark] .colab-df-convert {\n",
              "      background-color: #3B4455;\n",
              "      fill: #D2E3FC;\n",
              "    }\n",
              "\n",
              "    [theme=dark] .colab-df-convert:hover {\n",
              "      background-color: #434B5C;\n",
              "      box-shadow: 0px 1px 3px 1px rgba(0, 0, 0, 0.15);\n",
              "      filter: drop-shadow(0px 1px 2px rgba(0, 0, 0, 0.3));\n",
              "      fill: #FFFFFF;\n",
              "    }\n",
              "  </style>\n",
              "\n",
              "      <script>\n",
              "        const buttonEl =\n",
              "          document.querySelector('#df-42180d75-3ed9-4b01-8dca-2dbba46d955b button.colab-df-convert');\n",
              "        buttonEl.style.display =\n",
              "          google.colab.kernel.accessAllowed ? 'block' : 'none';\n",
              "\n",
              "        async function convertToInteractive(key) {\n",
              "          const element = document.querySelector('#df-42180d75-3ed9-4b01-8dca-2dbba46d955b');\n",
              "          const dataTable =\n",
              "            await google.colab.kernel.invokeFunction('convertToInteractive',\n",
              "                                                     [key], {});\n",
              "          if (!dataTable) return;\n",
              "\n",
              "          const docLinkHtml = 'Like what you see? Visit the ' +\n",
              "            '<a target=\"_blank\" href=https://colab.research.google.com/notebooks/data_table.ipynb>data table notebook</a>'\n",
              "            + ' to learn more about interactive tables.';\n",
              "          element.innerHTML = '';\n",
              "          dataTable['output_type'] = 'display_data';\n",
              "          await google.colab.output.renderOutput(dataTable, element);\n",
              "          const docLink = document.createElement('div');\n",
              "          docLink.innerHTML = docLinkHtml;\n",
              "          element.appendChild(docLink);\n",
              "        }\n",
              "      </script>\n",
              "    </div>\n",
              "  </div>\n",
              "  "
            ]
          },
          "metadata": {},
          "execution_count": 95
        }
      ]
    },
    {
      "cell_type": "markdown",
      "source": [
        "Looke like `model_2` performed the best"
      ],
      "metadata": {
        "id": "MBx8uyR2wQjJ"
      }
    },
    {
      "cell_type": "code",
      "source": [
        "model_2.summary()"
      ],
      "metadata": {
        "colab": {
          "base_uri": "https://localhost:8080/"
        },
        "id": "W7y22LFFvyZ-",
        "outputId": "75ba5044-3829-4b5b-e105-f64ede8e822a"
      },
      "execution_count": 96,
      "outputs": [
        {
          "output_type": "stream",
          "name": "stdout",
          "text": [
            "Model: \"sequential_9\"\n",
            "_________________________________________________________________\n",
            " Layer (type)                Output Shape              Param #   \n",
            "=================================================================\n",
            " dense_11 (Dense)            (None, 10)                20        \n",
            "                                                                 \n",
            " dense_12 (Dense)            (None, 1)                 11        \n",
            "                                                                 \n",
            "=================================================================\n",
            "Total params: 31\n",
            "Trainable params: 31\n",
            "Non-trainable params: 0\n",
            "_________________________________________________________________\n"
          ]
        }
      ]
    },
    {
      "cell_type": "markdown",
      "source": [
        "> 🔑 **Note:** One of your main goals should be to minimize the time between your experiments. The more experiments you do, the more things you'll figure out which don't work; and in turn, get close to figuing out what does work. Remember the machine learning practitioner's motto \"experiment, experiment, experiment\""
      ],
      "metadata": {
        "id": "HaAe0TjiwEi1"
      }
    }
  ]
}