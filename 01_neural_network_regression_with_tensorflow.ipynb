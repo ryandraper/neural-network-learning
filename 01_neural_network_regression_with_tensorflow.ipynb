{
  "nbformat": 4,
  "nbformat_minor": 0,
  "metadata": {
    "colab": {
      "provenance": [],
      "toc_visible": true,
      "mount_file_id": "1EufQ1fRQtjIvX_IWMJqnQD587d06x_4a",
      "authorship_tag": "ABX9TyPAzt+BJOkiwlYgFdVehMw8",
      "include_colab_link": true
    },
    "kernelspec": {
      "name": "python3",
      "display_name": "Python 3"
    },
    "language_info": {
      "name": "python"
    }
  },
  "cells": [
    {
      "cell_type": "markdown",
      "metadata": {
        "id": "view-in-github",
        "colab_type": "text"
      },
      "source": [
        "<a href=\"https://colab.research.google.com/github/ryandraper/neural-network-learning/blob/main/01_neural_network_regression_with_tensorflow.ipynb\" target=\"_parent\"><img src=\"https://colab.research.google.com/assets/colab-badge.svg\" alt=\"Open In Colab\"/></a>"
      ]
    },
    {
      "cell_type": "markdown",
      "source": [
        "# Introduction to Regression with Neural Networks in TensorFlow\n",
        "\n",
        "There are many definitions for a regresssion problem but in our case, we're going to simplify it: predicting a numerical variable based on some other combination of variables, even shorter... predicting a number."
      ],
      "metadata": {
        "id": "hUGfDLVawrXn"
      }
    },
    {
      "cell_type": "code",
      "source": [
        "# Import a TensorFlow\n",
        "import tensorflow as tf\n",
        "print(tf.__version__)"
      ],
      "metadata": {
        "colab": {
          "base_uri": "https://localhost:8080/"
        },
        "id": "hMz3ac_xy_mi",
        "outputId": "8508c796-730b-4b38-c351-fd1d839655ff"
      },
      "execution_count": 1,
      "outputs": [
        {
          "output_type": "stream",
          "name": "stdout",
          "text": [
            "2.11.0\n"
          ]
        }
      ]
    },
    {
      "cell_type": "markdown",
      "source": [
        "## Creating data to view and fit\n"
      ],
      "metadata": {
        "id": "Z3zgLc78zQ3C"
      }
    },
    {
      "cell_type": "code",
      "source": [
        "import numpy as np\n",
        "import matplotlib.pyplot as plt\n",
        "\n",
        "# Create features\n",
        "X = np.array([-7.0, -4.0, -1.0, 2.0, 5.0, 8.0, 11.0, 14.0])\n",
        "\n",
        "# Create labels\n",
        "y = np.array([3.0, 6.0, 9.0, 12.0, 15.0, 18.0, 21.0, 24.0])\n",
        "\n",
        "# Visualize it\n",
        "plt.scatter(X, y);"
      ],
      "metadata": {
        "colab": {
          "base_uri": "https://localhost:8080/",
          "height": 269
        },
        "id": "M8WILX85zhRm",
        "outputId": "369dbfbf-f9a9-4759-a14a-12003b6e4c96"
      },
      "execution_count": 2,
      "outputs": [
        {
          "output_type": "display_data",
          "data": {
            "text/plain": [
              "<Figure size 432x288 with 1 Axes>"
            ],
            "image/png": "[encoded data removed]"
          },
          "metadata": {
            "needs_background": "light"
          }
        }
      ]
    },
    {
      "cell_type": "code",
      "source": [
        "y ==X + 10\n"
      ],
      "metadata": {
        "colab": {
          "base_uri": "https://localhost:8080/"
        },
        "id": "mNK0oR_uz0o7",
        "outputId": "fbe2580f-35e3-4ce6-eae8-349987f984e0"
      },
      "execution_count": 3,
      "outputs": [
        {
          "output_type": "execute_result",
          "data": {
            "text/plain": [
              "array([ True,  True,  True,  True,  True,  True,  True,  True])"
            ]
          },
          "metadata": {},
          "execution_count": 3
        }
      ]
    },
    {
      "cell_type": "markdown",
      "source": [
        "## Input and Output Shapes"
      ],
      "metadata": {
        "id": "w4UtSOOr0F60"
      }
    },
    {
      "cell_type": "code",
      "source": [
        "# Create a demo tensor for our housing price prediction problem\n",
        "house_info = tf.constant([\"bedroom\", \"bathroom\", \"garage\"])\n",
        "house_price = tf.constant([939700])\n",
        "house_info, house_price"
      ],
      "metadata": {
        "colab": {
          "base_uri": "https://localhost:8080/"
        },
        "id": "V4NqDq0i0fur",
        "outputId": "c77e1c47-2372-41df-8c94-479f9707da5b"
      },
      "execution_count": 4,
      "outputs": [
        {
          "output_type": "execute_result",
          "data": {
            "text/plain": [
              "(<tf.Tensor: shape=(3,), dtype=string, numpy=array([b'bedroom', b'bathroom', b'garage'], dtype=object)>,\n",
              " <tf.Tensor: shape=(1,), dtype=int32, numpy=array([939700], dtype=int32)>)"
            ]
          },
          "metadata": {},
          "execution_count": 4
        }
      ]
    },
    {
      "cell_type": "code",
      "source": [
        "input_shape = X.shape\n",
        "output_shape = y.shape\n",
        "input_shape, output_shape"
      ],
      "metadata": {
        "colab": {
          "base_uri": "https://localhost:8080/"
        },
        "id": "bPYsPT-l05AK",
        "outputId": "cdb7e3b8-c619-419c-841d-fb6f203ebeb5"
      },
      "execution_count": 5,
      "outputs": [
        {
          "output_type": "execute_result",
          "data": {
            "text/plain": [
              "((8,), (8,))"
            ]
          },
          "metadata": {},
          "execution_count": 5
        }
      ]
    },
    {
      "cell_type": "code",
      "source": [
        "X[0], y[0]"
      ],
      "metadata": {
        "colab": {
          "base_uri": "https://localhost:8080/"
        },
        "id": "IGVgzn-q1Ec_",
        "outputId": "45d60720-1725-4e40-d10d-321f177b61d6"
      },
      "execution_count": 6,
      "outputs": [
        {
          "output_type": "execute_result",
          "data": {
            "text/plain": [
              "(-7.0, 3.0)"
            ]
          },
          "metadata": {},
          "execution_count": 6
        }
      ]
    },
    {
      "cell_type": "code",
      "source": [
        "X[1], y[1]"
      ],
      "metadata": {
        "colab": {
          "base_uri": "https://localhost:8080/"
        },
        "id": "VlUhFRsu1MKj",
        "outputId": "9f73d6b2-d8ee-4d81-f87e-0e8d32ca1fa9"
      },
      "execution_count": 7,
      "outputs": [
        {
          "output_type": "execute_result",
          "data": {
            "text/plain": [
              "(-4.0, 6.0)"
            ]
          },
          "metadata": {},
          "execution_count": 7
        }
      ]
    },
    {
      "cell_type": "code",
      "source": [
        "input_shape = X[0].shape\n",
        "output_shape = y[0].shape\n",
        "input_shape, output_shape"
      ],
      "metadata": {
        "colab": {
          "base_uri": "https://localhost:8080/"
        },
        "id": "QQLCgljh1O0i",
        "outputId": "b75cc52c-9613-42b7-a4ab-d184d0e9e056"
      },
      "execution_count": 8,
      "outputs": [
        {
          "output_type": "execute_result",
          "data": {
            "text/plain": [
              "((), ())"
            ]
          },
          "metadata": {},
          "execution_count": 8
        }
      ]
    },
    {
      "cell_type": "code",
      "source": [
        "X[0].ndim"
      ],
      "metadata": {
        "colab": {
          "base_uri": "https://localhost:8080/"
        },
        "id": "HGJb8fF21anN",
        "outputId": "22293316-7a72-4a17-ba00-cee470d93927"
      },
      "execution_count": 9,
      "outputs": [
        {
          "output_type": "execute_result",
          "data": {
            "text/plain": [
              "0"
            ]
          },
          "metadata": {},
          "execution_count": 9
        }
      ]
    },
    {
      "cell_type": "code",
      "source": [
        "X[0], y[0]"
      ],
      "metadata": {
        "colab": {
          "base_uri": "https://localhost:8080/"
        },
        "id": "QLUfSb5n1kfl",
        "outputId": "db2b9f77-5f80-4318-93dc-31b736fd8b31"
      },
      "execution_count": 10,
      "outputs": [
        {
          "output_type": "execute_result",
          "data": {
            "text/plain": [
              "(-7.0, 3.0)"
            ]
          },
          "metadata": {},
          "execution_count": 10
        }
      ]
    },
    {
      "cell_type": "code",
      "source": [
        "# Turn our numpy arrays into tensors\n",
        "X = tf.cast(tf.constant(X), dtype=tf.float32)\n",
        "y = tf.cast(tf.constant(y), dtype=tf.float32)\n",
        "X, y\n"
      ],
      "metadata": {
        "colab": {
          "base_uri": "https://localhost:8080/"
        },
        "id": "2GhYn5K31k39",
        "outputId": "ae1f3434-7aa0-4c1a-cde3-b6f9b62c9fd3"
      },
      "execution_count": 11,
      "outputs": [
        {
          "output_type": "execute_result",
          "data": {
            "text/plain": [
              "(<tf.Tensor: shape=(8,), dtype=float32, numpy=array([-7., -4., -1.,  2.,  5.,  8., 11., 14.], dtype=float32)>,\n",
              " <tf.Tensor: shape=(8,), dtype=float32, numpy=array([ 3.,  6.,  9., 12., 15., 18., 21., 24.], dtype=float32)>)"
            ]
          },
          "metadata": {},
          "execution_count": 11
        }
      ]
    },
    {
      "cell_type": "code",
      "source": [
        "input_shape = X[0].shape\n",
        "output_shape = y[0].shape\n",
        "input_shape, output_shape\n"
      ],
      "metadata": {
        "colab": {
          "base_uri": "https://localhost:8080/"
        },
        "id": "_yQyjxuEg6wQ",
        "outputId": "c7fa090b-6685-4fc3-e6fd-08d1fb70fc71"
      },
      "execution_count": 12,
      "outputs": [
        {
          "output_type": "execute_result",
          "data": {
            "text/plain": [
              "(TensorShape([]), TensorShape([]))"
            ]
          },
          "metadata": {},
          "execution_count": 12
        }
      ]
    },
    {
      "cell_type": "code",
      "source": [
        "plt.scatter(X,y)"
      ],
      "metadata": {
        "colab": {
          "base_uri": "https://localhost:8080/",
          "height": 287
        },
        "id": "2byQ35Y9hFhZ",
        "outputId": "a88997b4-205b-48c0-8fbc-a1f5801e9024"
      },
      "execution_count": 13,
      "outputs": [
        {
          "output_type": "execute_result",
          "data": {
            "text/plain": [
              "<matplotlib.collections.PathCollection at 0x7f066d478310>"
            ]
          },
          "metadata": {},
          "execution_count": 13
        },
        {
          "output_type": "display_data",
          "data": {
            "text/plain": [
              "<Figure size 432x288 with 1 Axes>"
            ],
            "image/png": "[encoded data removed]"
          },
          "metadata": {
            "needs_background": "light"
          }
        }
      ]
    },
    {
      "cell_type": "markdown",
      "source": [
        "## Steps in modelling with TensorFlow\n",
        "\n",
        "1. Creating a model - define the input and output layers, as well as the hidden layers of a deep learning model.\n",
        "2. Compiling a model - define the loss function (the function that tells our model how wrong it is) and the optimizer (tells our model how to improve the patterns its learning) and evalutaion metris (what we can use to interpret the performance of our model).\n",
        "3. Fitting a model - letting the model try to find patterns between X&y (features and labels)"
      ],
      "metadata": {
        "id": "xpMuLhEzhHf8"
      }
    },
    {
      "cell_type": "code",
      "source": [
        "# Set random seed\n",
        "tf.random.set_seed(42)\n",
        "\n",
        "#1. Create a model using hte Sequential API\n",
        "model = tf.keras.Sequential([\n",
        "    tf.keras.layers.Dense(1)\n",
        "])\n",
        "# model.add(tf.keras.layers.Dense(1)) # other way of adding layer\n",
        "\n",
        "#2. Compile the model\n",
        "model.compile(loss=tf.keras.losses.mae, # mae is short for mean absolute error\n",
        "              optimizer=tf.keras.optimizers.SGD(), #sgd is short for stochastic gradient descent)\n",
        "              metrics=[\"mae\"]\n",
        "              )\n",
        "\n",
        "#3. Fit the model\n",
        "model.fit(tf.expand_dims(X, axis=-1), y, epochs=5)\n",
        "\n",
        "#"
      ],
      "metadata": {
        "colab": {
          "base_uri": "https://localhost:8080/"
        },
        "id": "5bgVHvNdiDGA",
        "outputId": "230eeb23-59cf-4e42-91c7-12ce1cfed287"
      },
      "execution_count": 14,
      "outputs": [
        {
          "output_type": "stream",
          "name": "stdout",
          "text": [
            "Epoch 1/5\n",
            "1/1 [==============================] - 1s 596ms/step - loss: 11.1263 - mae: 11.1263\n",
            "Epoch 2/5\n",
            "1/1 [==============================] - 0s 14ms/step - loss: 10.9938 - mae: 10.9938\n",
            "Epoch 3/5\n",
            "1/1 [==============================] - 0s 11ms/step - loss: 10.8613 - mae: 10.8613\n",
            "Epoch 4/5\n",
            "1/1 [==============================] - 0s 10ms/step - loss: 10.7288 - mae: 10.7288\n",
            "Epoch 5/5\n",
            "1/1 [==============================] - 0s 20ms/step - loss: 10.5963 - mae: 10.5963\n"
          ]
        },
        {
          "output_type": "execute_result",
          "data": {
            "text/plain": [
              "<keras.callbacks.History at 0x7f066d2ee490>"
            ]
          },
          "metadata": {},
          "execution_count": 14
        }
      ]
    },
    {
      "cell_type": "code",
      "source": [
        "# Check out x and y\n",
        "X, y"
      ],
      "metadata": {
        "colab": {
          "base_uri": "https://localhost:8080/"
        },
        "id": "_ELGWhApihhU",
        "outputId": "0e4796cc-0486-43c3-e7e3-4ac0dddfe06b"
      },
      "execution_count": 15,
      "outputs": [
        {
          "output_type": "execute_result",
          "data": {
            "text/plain": [
              "(<tf.Tensor: shape=(8,), dtype=float32, numpy=array([-7., -4., -1.,  2.,  5.,  8., 11., 14.], dtype=float32)>,\n",
              " <tf.Tensor: shape=(8,), dtype=float32, numpy=array([ 3.,  6.,  9., 12., 15., 18., 21., 24.], dtype=float32)>)"
            ]
          },
          "metadata": {},
          "execution_count": 15
        }
      ]
    },
    {
      "cell_type": "code",
      "source": [
        "# Try and make a prediction using our model\n",
        "y_pred = model.predict([-4])\n",
        "y_pred"
      ],
      "metadata": {
        "colab": {
          "base_uri": "https://localhost:8080/"
        },
        "id": "PuSKFfBfl5gZ",
        "outputId": "78549dff-5bea-4c5d-9ae7-8f624afde3d6"
      },
      "execution_count": 16,
      "outputs": [
        {
          "output_type": "stream",
          "name": "stdout",
          "text": [
            "1/1 [==============================] - 0s 134ms/step\n"
          ]
        },
        {
          "output_type": "execute_result",
          "data": {
            "text/plain": [
              "array([[-3.362823]], dtype=float32)"
            ]
          },
          "metadata": {},
          "execution_count": 16
        }
      ]
    },
    {
      "cell_type": "markdown",
      "source": [
        "## Improving our model\n",
        "\n",
        "We can improve our model, by altering the steps we took to create our model.\n",
        "\n",
        "1. **Creating a model** - here we might add more layers, increase the number of hidden units (also called neurons) within each of the hidden layers, change the activiation function of each layer.\n",
        "2. **Compiling a model** - here we might change the optimization function or perhaps the  **learning rate** of the optimization function.\n",
        "3. **Fitting a model** - here we might fit a model for more **epochs** (leave it training for longer) or on more data (give the model more examples to learn from)."
      ],
      "metadata": {
        "id": "5NDhM2R0mCdy"
      }
    },
    {
      "cell_type": "code",
      "source": [
        "# Let's rebuild our model\n",
        "\n",
        "#1. Create the model\n",
        "model = tf.keras.Sequential([\n",
        "    tf.keras.layers.Dense(1)\n",
        "])\n",
        "\n",
        "#2. Compile the model\n",
        "model.compile(loss=tf.keras.losses.mae,\n",
        "              optimizer=tf.keras.optimizers.SGD(),\n",
        "              metrics=[\"mae\"])\n",
        "\n",
        "#3. Fit the model (this time we'll train for longer)\n",
        "model.fit(tf.expand_dims(X, axis=-1), y, epochs=100)"
      ],
      "metadata": {
        "colab": {
          "base_uri": "https://localhost:8080/"
        },
        "id": "x1hqoQwvnKsr",
        "outputId": "41c6bc7e-d1ed-47f2-d46f-4704c51fb56b"
      },
      "execution_count": 17,
      "outputs": [
        {
          "output_type": "stream",
          "name": "stdout",
          "text": [
            "Epoch 1/100\n",
            "1/1 [==============================] - 1s 633ms/step - loss: 10.5798 - mae: 10.5798\n",
            "Epoch 2/100\n",
            "1/1 [==============================] - 0s 14ms/step - loss: 10.4473 - mae: 10.4473\n",
            "Epoch 3/100\n",
            "1/1 [==============================] - 0s 12ms/step - loss: 10.3148 - mae: 10.3148\n",
            "Epoch 4/100\n",
            "1/1 [==============================] - 0s 13ms/step - loss: 10.1823 - mae: 10.1823\n",
            "Epoch 5/100\n",
            "1/1 [==============================] - 0s 11ms/step - loss: 10.0498 - mae: 10.0498\n",
            "Epoch 6/100\n",
            "1/1 [==============================] - 0s 11ms/step - loss: 9.9173 - mae: 9.9173\n",
            "Epoch 7/100\n",
            "1/1 [==============================] - 0s 21ms/step - loss: 9.7848 - mae: 9.7848\n",
            "Epoch 8/100\n",
            "1/1 [==============================] - 0s 19ms/step - loss: 9.6523 - mae: 9.6523\n",
            "Epoch 9/100\n",
            "1/1 [==============================] - 0s 14ms/step - loss: 9.5198 - mae: 9.5198\n",
            "Epoch 10/100\n",
            "1/1 [==============================] - 0s 14ms/step - loss: 9.3873 - mae: 9.3873\n",
            "Epoch 11/100\n",
            "1/1 [==============================] - 0s 14ms/step - loss: 9.2548 - mae: 9.2548\n",
            "Epoch 12/100\n",
            "1/1 [==============================] - 0s 12ms/step - loss: 9.1223 - mae: 9.1223\n",
            "Epoch 13/100\n",
            "1/1 [==============================] - 0s 11ms/step - loss: 8.9898 - mae: 8.9898\n",
            "Epoch 14/100\n",
            "1/1 [==============================] - 0s 11ms/step - loss: 8.8573 - mae: 8.8573\n",
            "Epoch 15/100\n",
            "1/1 [==============================] - 0s 12ms/step - loss: 8.7248 - mae: 8.7248\n",
            "Epoch 16/100\n",
            "1/1 [==============================] - 0s 10ms/step - loss: 8.5923 - mae: 8.5923\n",
            "Epoch 17/100\n",
            "1/1 [==============================] - 0s 12ms/step - loss: 8.4598 - mae: 8.4598\n",
            "Epoch 18/100\n",
            "1/1 [==============================] - 0s 13ms/step - loss: 8.3273 - mae: 8.3273\n",
            "Epoch 19/100\n",
            "1/1 [==============================] - 0s 11ms/step - loss: 8.1948 - mae: 8.1948\n",
            "Epoch 20/100\n",
            "1/1 [==============================] - 0s 13ms/step - loss: 8.0623 - mae: 8.0623\n",
            "Epoch 21/100\n",
            "1/1 [==============================] - 0s 10ms/step - loss: 7.9298 - mae: 7.9298\n",
            "Epoch 22/100\n",
            "1/1 [==============================] - 0s 11ms/step - loss: 7.7973 - mae: 7.7973\n",
            "Epoch 23/100\n",
            "1/1 [==============================] - 0s 11ms/step - loss: 7.6648 - mae: 7.6648\n",
            "Epoch 24/100\n",
            "1/1 [==============================] - 0s 10ms/step - loss: 7.5323 - mae: 7.5323\n",
            "Epoch 25/100\n",
            "1/1 [==============================] - 0s 18ms/step - loss: 7.3998 - mae: 7.3998\n",
            "Epoch 26/100\n",
            "1/1 [==============================] - 0s 13ms/step - loss: 7.3125 - mae: 7.3125\n",
            "Epoch 27/100\n",
            "1/1 [==============================] - 0s 11ms/step - loss: 7.3069 - mae: 7.3069\n",
            "Epoch 28/100\n",
            "1/1 [==============================] - 0s 12ms/step - loss: 7.3012 - mae: 7.3012\n",
            "Epoch 29/100\n",
            "1/1 [==============================] - 0s 13ms/step - loss: 7.2956 - mae: 7.2956\n",
            "Epoch 30/100\n",
            "1/1 [==============================] - 0s 14ms/step - loss: 7.2900 - mae: 7.2900\n",
            "Epoch 31/100\n",
            "1/1 [==============================] - 0s 11ms/step - loss: 7.2844 - mae: 7.2844\n",
            "Epoch 32/100\n",
            "1/1 [==============================] - 0s 10ms/step - loss: 7.2787 - mae: 7.2787\n",
            "Epoch 33/100\n",
            "1/1 [==============================] - 0s 9ms/step - loss: 7.2731 - mae: 7.2731\n",
            "Epoch 34/100\n",
            "1/1 [==============================] - 0s 10ms/step - loss: 7.2675 - mae: 7.2675\n",
            "Epoch 35/100\n",
            "1/1 [==============================] - 0s 11ms/step - loss: 7.2619 - mae: 7.2619\n",
            "Epoch 36/100\n",
            "1/1 [==============================] - 0s 11ms/step - loss: 7.2563 - mae: 7.2563\n",
            "Epoch 37/100\n",
            "1/1 [==============================] - 0s 12ms/step - loss: 7.2506 - mae: 7.2506\n",
            "Epoch 38/100\n",
            "1/1 [==============================] - 0s 11ms/step - loss: 7.2450 - mae: 7.2450\n",
            "Epoch 39/100\n",
            "1/1 [==============================] - 0s 11ms/step - loss: 7.2394 - mae: 7.2394\n",
            "Epoch 40/100\n",
            "1/1 [==============================] - 0s 11ms/step - loss: 7.2338 - mae: 7.2338\n",
            "Epoch 41/100\n",
            "1/1 [==============================] - 0s 10ms/step - loss: 7.2281 - mae: 7.2281\n",
            "Epoch 42/100\n",
            "1/1 [==============================] - 0s 10ms/step - loss: 7.2225 - mae: 7.2225\n",
            "Epoch 43/100\n",
            "1/1 [==============================] - 0s 10ms/step - loss: 7.2169 - mae: 7.2169\n",
            "Epoch 44/100\n",
            "1/1 [==============================] - 0s 13ms/step - loss: 7.2112 - mae: 7.2112\n",
            "Epoch 45/100\n",
            "1/1 [==============================] - 0s 16ms/step - loss: 7.2056 - mae: 7.2056\n",
            "Epoch 46/100\n",
            "1/1 [==============================] - 0s 16ms/step - loss: 7.2000 - mae: 7.2000\n",
            "Epoch 47/100\n",
            "1/1 [==============================] - 0s 10ms/step - loss: 7.1944 - mae: 7.1944\n",
            "Epoch 48/100\n",
            "1/1 [==============================] - 0s 13ms/step - loss: 7.1888 - mae: 7.1888\n",
            "Epoch 49/100\n",
            "1/1 [==============================] - 0s 10ms/step - loss: 7.1831 - mae: 7.1831\n",
            "Epoch 50/100\n",
            "1/1 [==============================] - 0s 14ms/step - loss: 7.1775 - mae: 7.1775\n",
            "Epoch 51/100\n",
            "1/1 [==============================] - 0s 10ms/step - loss: 7.1719 - mae: 7.1719\n",
            "Epoch 52/100\n",
            "1/1 [==============================] - 0s 15ms/step - loss: 7.1663 - mae: 7.1663\n",
            "Epoch 53/100\n",
            "1/1 [==============================] - 0s 12ms/step - loss: 7.1606 - mae: 7.1606\n",
            "Epoch 54/100\n",
            "1/1 [==============================] - 0s 13ms/step - loss: 7.1550 - mae: 7.1550\n",
            "Epoch 55/100\n",
            "1/1 [==============================] - 0s 10ms/step - loss: 7.1494 - mae: 7.1494\n",
            "Epoch 56/100\n",
            "1/1 [==============================] - 0s 10ms/step - loss: 7.1438 - mae: 7.1438\n",
            "Epoch 57/100\n",
            "1/1 [==============================] - 0s 11ms/step - loss: 7.1381 - mae: 7.1381\n",
            "Epoch 58/100\n",
            "1/1 [==============================] - 0s 10ms/step - loss: 7.1325 - mae: 7.1325\n",
            "Epoch 59/100\n",
            "1/1 [==============================] - 0s 10ms/step - loss: 7.1269 - mae: 7.1269\n",
            "Epoch 60/100\n",
            "1/1 [==============================] - 0s 11ms/step - loss: 7.1212 - mae: 7.1212\n",
            "Epoch 61/100\n",
            "1/1 [==============================] - 0s 10ms/step - loss: 7.1156 - mae: 7.1156\n",
            "Epoch 62/100\n",
            "1/1 [==============================] - 0s 10ms/step - loss: 7.1100 - mae: 7.1100\n",
            "Epoch 63/100\n",
            "1/1 [==============================] - 0s 11ms/step - loss: 7.1044 - mae: 7.1044\n",
            "Epoch 64/100\n",
            "1/1 [==============================] - 0s 11ms/step - loss: 7.0988 - mae: 7.0988\n",
            "Epoch 65/100\n",
            "1/1 [==============================] - 0s 13ms/step - loss: 7.0931 - mae: 7.0931\n",
            "Epoch 66/100\n",
            "1/1 [==============================] - 0s 10ms/step - loss: 7.0875 - mae: 7.0875\n",
            "Epoch 67/100\n",
            "1/1 [==============================] - 0s 10ms/step - loss: 7.0819 - mae: 7.0819\n",
            "Epoch 68/100\n",
            "1/1 [==============================] - 0s 10ms/step - loss: 7.0763 - mae: 7.0763\n",
            "Epoch 69/100\n",
            "1/1 [==============================] - 0s 11ms/step - loss: 7.0706 - mae: 7.0706\n",
            "Epoch 70/100\n",
            "1/1 [==============================] - 0s 10ms/step - loss: 7.0650 - mae: 7.0650\n",
            "Epoch 71/100\n",
            "1/1 [==============================] - 0s 11ms/step - loss: 7.0594 - mae: 7.0594\n",
            "Epoch 72/100\n",
            "1/1 [==============================] - 0s 10ms/step - loss: 7.0538 - mae: 7.0538\n",
            "Epoch 73/100\n",
            "1/1 [==============================] - 0s 13ms/step - loss: 7.0481 - mae: 7.0481\n",
            "Epoch 74/100\n",
            "1/1 [==============================] - 0s 11ms/step - loss: 7.0425 - mae: 7.0425\n",
            "Epoch 75/100\n",
            "1/1 [==============================] - 0s 11ms/step - loss: 7.0369 - mae: 7.0369\n",
            "Epoch 76/100\n",
            "1/1 [==============================] - 0s 11ms/step - loss: 7.0312 - mae: 7.0312\n",
            "Epoch 77/100\n",
            "1/1 [==============================] - 0s 11ms/step - loss: 7.0256 - mae: 7.0256\n",
            "Epoch 78/100\n",
            "1/1 [==============================] - 0s 13ms/step - loss: 7.0200 - mae: 7.0200\n",
            "Epoch 79/100\n",
            "1/1 [==============================] - 0s 13ms/step - loss: 7.0144 - mae: 7.0144\n",
            "Epoch 80/100\n",
            "1/1 [==============================] - 0s 12ms/step - loss: 7.0087 - mae: 7.0087\n",
            "Epoch 81/100\n",
            "1/1 [==============================] - 0s 21ms/step - loss: 7.0031 - mae: 7.0031\n",
            "Epoch 82/100\n",
            "1/1 [==============================] - 0s 12ms/step - loss: 6.9975 - mae: 6.9975\n",
            "Epoch 83/100\n",
            "1/1 [==============================] - 0s 16ms/step - loss: 6.9919 - mae: 6.9919\n",
            "Epoch 84/100\n",
            "1/1 [==============================] - 0s 12ms/step - loss: 6.9863 - mae: 6.9863\n",
            "Epoch 85/100\n",
            "1/1 [==============================] - 0s 10ms/step - loss: 6.9806 - mae: 6.9806\n",
            "Epoch 86/100\n",
            "1/1 [==============================] - 0s 11ms/step - loss: 6.9750 - mae: 6.9750\n",
            "Epoch 87/100\n",
            "1/1 [==============================] - 0s 12ms/step - loss: 6.9694 - mae: 6.9694\n",
            "Epoch 88/100\n",
            "1/1 [==============================] - 0s 11ms/step - loss: 6.9638 - mae: 6.9638\n",
            "Epoch 89/100\n",
            "1/1 [==============================] - 0s 12ms/step - loss: 6.9581 - mae: 6.9581\n",
            "Epoch 90/100\n",
            "1/1 [==============================] - 0s 11ms/step - loss: 6.9525 - mae: 6.9525\n",
            "Epoch 91/100\n",
            "1/1 [==============================] - 0s 11ms/step - loss: 6.9469 - mae: 6.9469\n",
            "Epoch 92/100\n",
            "1/1 [==============================] - 0s 12ms/step - loss: 6.9413 - mae: 6.9413\n",
            "Epoch 93/100\n",
            "1/1 [==============================] - 0s 11ms/step - loss: 6.9356 - mae: 6.9356\n",
            "Epoch 94/100\n",
            "1/1 [==============================] - 0s 11ms/step - loss: 6.9300 - mae: 6.9300\n",
            "Epoch 95/100\n",
            "1/1 [==============================] - 0s 11ms/step - loss: 6.9244 - mae: 6.9244\n",
            "Epoch 96/100\n",
            "1/1 [==============================] - 0s 11ms/step - loss: 6.9188 - mae: 6.9188\n",
            "Epoch 97/100\n",
            "1/1 [==============================] - 0s 12ms/step - loss: 6.9131 - mae: 6.9131\n",
            "Epoch 98/100\n",
            "1/1 [==============================] - 0s 12ms/step - loss: 6.9075 - mae: 6.9075\n",
            "Epoch 99/100\n",
            "1/1 [==============================] - 0s 11ms/step - loss: 6.9019 - mae: 6.9019\n",
            "Epoch 100/100\n",
            "1/1 [==============================] - 0s 11ms/step - loss: 6.8963 - mae: 6.8963\n"
          ]
        },
        {
          "output_type": "execute_result",
          "data": {
            "text/plain": [
              "<keras.callbacks.History at 0x7f066dcbef10>"
            ]
          },
          "metadata": {},
          "execution_count": 17
        }
      ]
    },
    {
      "cell_type": "code",
      "source": [
        "# Remind ourselves of the data\n",
        "X, y"
      ],
      "metadata": {
        "colab": {
          "base_uri": "https://localhost:8080/"
        },
        "id": "368PRSAYpYCR",
        "outputId": "b1db77cc-5000-4489-b38f-846d37fe0b5f"
      },
      "execution_count": 18,
      "outputs": [
        {
          "output_type": "execute_result",
          "data": {
            "text/plain": [
              "(<tf.Tensor: shape=(8,), dtype=float32, numpy=array([-7., -4., -1.,  2.,  5.,  8., 11., 14.], dtype=float32)>,\n",
              " <tf.Tensor: shape=(8,), dtype=float32, numpy=array([ 3.,  6.,  9., 12., 15., 18., 21., 24.], dtype=float32)>)"
            ]
          },
          "metadata": {},
          "execution_count": 18
        }
      ]
    },
    {
      "cell_type": "code",
      "source": [
        "# Let's see if our model's prediction has improved...\n",
        "model.predict([17.0])"
      ],
      "metadata": {
        "colab": {
          "base_uri": "https://localhost:8080/"
        },
        "id": "q7TD78-kqItf",
        "outputId": "f7d6d7d6-c31b-4157-d3e9-439fb7d2c6e9"
      },
      "execution_count": 19,
      "outputs": [
        {
          "output_type": "stream",
          "name": "stdout",
          "text": [
            "1/1 [==============================] - 0s 89ms/step\n"
          ]
        },
        {
          "output_type": "execute_result",
          "data": {
            "text/plain": [
              "array([[29.871492]], dtype=float32)"
            ]
          },
          "metadata": {},
          "execution_count": 19
        }
      ]
    },
    {
      "cell_type": "code",
      "source": [
        "# Let's rebuild our model\n",
        "\n",
        "#1. Create the model (this time with an extra hidden layer with 100 hidden units)\n",
        "model = tf.keras.Sequential([\n",
        "    tf.keras.layers.Dense(50, activation=None),\n",
        "    tf.keras.layers.Dense(1),\n",
        "])\n",
        "\n",
        "#2. Compile the model\n",
        "model.compile(loss=\"mae\", # other way of specifying loss function\n",
        "              optimizer=tf.keras.optimizers.SGD(),\n",
        "              metrics=[\"mae\"])\n",
        "\n",
        "#3. Fit the model (this time we'll train for longer)\n",
        "model.fit(tf.expand_dims(X, axis=-1), y, epochs=100)"
      ],
      "metadata": {
        "colab": {
          "base_uri": "https://localhost:8080/"
        },
        "id": "fLR5l76OqPEb",
        "outputId": "30600241-1cd5-4887-903e-bd7496a39461"
      },
      "execution_count": 20,
      "outputs": [
        {
          "output_type": "stream",
          "name": "stdout",
          "text": [
            "Epoch 1/100\n",
            "1/1 [==============================] - 0s 464ms/step - loss: 14.2795 - mae: 14.2795\n",
            "Epoch 2/100\n",
            "1/1 [==============================] - 0s 16ms/step - loss: 13.8096 - mae: 13.8096\n",
            "Epoch 3/100\n",
            "1/1 [==============================] - 0s 13ms/step - loss: 13.3426 - mae: 13.3426\n",
            "Epoch 4/100\n",
            "1/1 [==============================] - 0s 11ms/step - loss: 12.8762 - mae: 12.8762\n",
            "Epoch 5/100\n",
            "1/1 [==============================] - 0s 14ms/step - loss: 12.4077 - mae: 12.4077\n",
            "Epoch 6/100\n",
            "1/1 [==============================] - 0s 14ms/step - loss: 11.9349 - mae: 11.9349\n",
            "Epoch 7/100\n",
            "1/1 [==============================] - 0s 10ms/step - loss: 11.4553 - mae: 11.4553\n",
            "Epoch 8/100\n",
            "1/1 [==============================] - 0s 13ms/step - loss: 10.9665 - mae: 10.9665\n",
            "Epoch 9/100\n",
            "1/1 [==============================] - 0s 20ms/step - loss: 10.4658 - mae: 10.4658\n",
            "Epoch 10/100\n",
            "1/1 [==============================] - 0s 11ms/step - loss: 9.9508 - mae: 9.9508\n",
            "Epoch 11/100\n",
            "1/1 [==============================] - 0s 11ms/step - loss: 9.4188 - mae: 9.4188\n",
            "Epoch 12/100\n",
            "1/1 [==============================] - 0s 11ms/step - loss: 8.8671 - mae: 8.8671\n",
            "Epoch 13/100\n",
            "1/1 [==============================] - 0s 10ms/step - loss: 8.2929 - mae: 8.2929\n",
            "Epoch 14/100\n",
            "1/1 [==============================] - 0s 16ms/step - loss: 7.6932 - mae: 7.6932\n",
            "Epoch 15/100\n",
            "1/1 [==============================] - 0s 12ms/step - loss: 7.1867 - mae: 7.1867\n",
            "Epoch 16/100\n",
            "1/1 [==============================] - 0s 11ms/step - loss: 7.1676 - mae: 7.1676\n",
            "Epoch 17/100\n",
            "1/1 [==============================] - 0s 16ms/step - loss: 7.1486 - mae: 7.1486\n",
            "Epoch 18/100\n",
            "1/1 [==============================] - 0s 10ms/step - loss: 7.1295 - mae: 7.1295\n",
            "Epoch 19/100\n",
            "1/1 [==============================] - 0s 12ms/step - loss: 7.1103 - mae: 7.1103\n",
            "Epoch 20/100\n",
            "1/1 [==============================] - 0s 11ms/step - loss: 7.0911 - mae: 7.0911\n",
            "Epoch 21/100\n",
            "1/1 [==============================] - 0s 13ms/step - loss: 7.0718 - mae: 7.0718\n",
            "Epoch 22/100\n",
            "1/1 [==============================] - 0s 11ms/step - loss: 7.0524 - mae: 7.0524\n",
            "Epoch 23/100\n",
            "1/1 [==============================] - 0s 13ms/step - loss: 7.0330 - mae: 7.0330\n",
            "Epoch 24/100\n",
            "1/1 [==============================] - 0s 11ms/step - loss: 7.0135 - mae: 7.0135\n",
            "Epoch 25/100\n",
            "1/1 [==============================] - 0s 11ms/step - loss: 6.9939 - mae: 6.9939\n",
            "Epoch 26/100\n",
            "1/1 [==============================] - 0s 11ms/step - loss: 6.9743 - mae: 6.9743\n",
            "Epoch 27/100\n",
            "1/1 [==============================] - 0s 11ms/step - loss: 6.9546 - mae: 6.9546\n",
            "Epoch 28/100\n",
            "1/1 [==============================] - 0s 10ms/step - loss: 6.9348 - mae: 6.9348\n",
            "Epoch 29/100\n",
            "1/1 [==============================] - 0s 10ms/step - loss: 6.9149 - mae: 6.9149\n",
            "Epoch 30/100\n",
            "1/1 [==============================] - 0s 11ms/step - loss: 6.8949 - mae: 6.8949\n",
            "Epoch 31/100\n",
            "1/1 [==============================] - 0s 11ms/step - loss: 6.8749 - mae: 6.8749\n",
            "Epoch 32/100\n",
            "1/1 [==============================] - 0s 11ms/step - loss: 6.8547 - mae: 6.8547\n",
            "Epoch 33/100\n",
            "1/1 [==============================] - 0s 11ms/step - loss: 6.8344 - mae: 6.8344\n",
            "Epoch 34/100\n",
            "1/1 [==============================] - 0s 16ms/step - loss: 6.8141 - mae: 6.8141\n",
            "Epoch 35/100\n",
            "1/1 [==============================] - 0s 12ms/step - loss: 6.7936 - mae: 6.7936\n",
            "Epoch 36/100\n",
            "1/1 [==============================] - 0s 12ms/step - loss: 6.7730 - mae: 6.7730\n",
            "Epoch 37/100\n",
            "1/1 [==============================] - 0s 12ms/step - loss: 6.7524 - mae: 6.7524\n",
            "Epoch 38/100\n",
            "1/1 [==============================] - 0s 12ms/step - loss: 6.7316 - mae: 6.7316\n",
            "Epoch 39/100\n",
            "1/1 [==============================] - 0s 13ms/step - loss: 6.7106 - mae: 6.7106\n",
            "Epoch 40/100\n",
            "1/1 [==============================] - 0s 12ms/step - loss: 6.6896 - mae: 6.6896\n",
            "Epoch 41/100\n",
            "1/1 [==============================] - 0s 12ms/step - loss: 6.6684 - mae: 6.6684\n",
            "Epoch 42/100\n",
            "1/1 [==============================] - 0s 12ms/step - loss: 6.6471 - mae: 6.6471\n",
            "Epoch 43/100\n",
            "1/1 [==============================] - 0s 18ms/step - loss: 6.6257 - mae: 6.6257\n",
            "Epoch 44/100\n",
            "1/1 [==============================] - 0s 12ms/step - loss: 6.6041 - mae: 6.6041\n",
            "Epoch 45/100\n",
            "1/1 [==============================] - 0s 11ms/step - loss: 6.5824 - mae: 6.5824\n",
            "Epoch 46/100\n",
            "1/1 [==============================] - 0s 11ms/step - loss: 6.5744 - mae: 6.5744\n",
            "Epoch 47/100\n",
            "1/1 [==============================] - 0s 14ms/step - loss: 6.5577 - mae: 6.5577\n",
            "Epoch 48/100\n",
            "1/1 [==============================] - 0s 17ms/step - loss: 6.5361 - mae: 6.5361\n",
            "Epoch 49/100\n",
            "1/1 [==============================] - 0s 16ms/step - loss: 6.5144 - mae: 6.5144\n",
            "Epoch 50/100\n",
            "1/1 [==============================] - 0s 18ms/step - loss: 6.4926 - mae: 6.4926\n",
            "Epoch 51/100\n",
            "1/1 [==============================] - 0s 15ms/step - loss: 6.4706 - mae: 6.4706\n",
            "Epoch 52/100\n",
            "1/1 [==============================] - 0s 13ms/step - loss: 6.4484 - mae: 6.4484\n",
            "Epoch 53/100\n",
            "1/1 [==============================] - 0s 11ms/step - loss: 6.4261 - mae: 6.4261\n",
            "Epoch 54/100\n",
            "1/1 [==============================] - 0s 11ms/step - loss: 6.4036 - mae: 6.4036\n",
            "Epoch 55/100\n",
            "1/1 [==============================] - 0s 11ms/step - loss: 6.3809 - mae: 6.3809\n",
            "Epoch 56/100\n",
            "1/1 [==============================] - 0s 11ms/step - loss: 6.3581 - mae: 6.3581\n",
            "Epoch 57/100\n",
            "1/1 [==============================] - 0s 11ms/step - loss: 6.3350 - mae: 6.3350\n",
            "Epoch 58/100\n",
            "1/1 [==============================] - 0s 12ms/step - loss: 6.3118 - mae: 6.3118\n",
            "Epoch 59/100\n",
            "1/1 [==============================] - 0s 13ms/step - loss: 6.2884 - mae: 6.2884\n",
            "Epoch 60/100\n",
            "1/1 [==============================] - 0s 11ms/step - loss: 6.2648 - mae: 6.2648\n",
            "Epoch 61/100\n",
            "1/1 [==============================] - 0s 11ms/step - loss: 6.2410 - mae: 6.2410\n",
            "Epoch 62/100\n",
            "1/1 [==============================] - 0s 10ms/step - loss: 6.2170 - mae: 6.2170\n",
            "Epoch 63/100\n",
            "1/1 [==============================] - 0s 11ms/step - loss: 6.1929 - mae: 6.1929\n",
            "Epoch 64/100\n",
            "1/1 [==============================] - 0s 11ms/step - loss: 6.1685 - mae: 6.1685\n",
            "Epoch 65/100\n",
            "1/1 [==============================] - 0s 11ms/step - loss: 6.1552 - mae: 6.1552\n",
            "Epoch 66/100\n",
            "1/1 [==============================] - 0s 12ms/step - loss: 6.1434 - mae: 6.1434\n",
            "Epoch 67/100\n",
            "1/1 [==============================] - 0s 11ms/step - loss: 6.1190 - mae: 6.1190\n",
            "Epoch 68/100\n",
            "1/1 [==============================] - 0s 12ms/step - loss: 6.0943 - mae: 6.0943\n",
            "Epoch 69/100\n",
            "1/1 [==============================] - 0s 12ms/step - loss: 6.0694 - mae: 6.0694\n",
            "Epoch 70/100\n",
            "1/1 [==============================] - 0s 13ms/step - loss: 6.0443 - mae: 6.0443\n",
            "Epoch 71/100\n",
            "1/1 [==============================] - 0s 12ms/step - loss: 6.0190 - mae: 6.0190\n",
            "Epoch 72/100\n",
            "1/1 [==============================] - 0s 13ms/step - loss: 5.9934 - mae: 5.9934\n",
            "Epoch 73/100\n",
            "1/1 [==============================] - 0s 11ms/step - loss: 5.9676 - mae: 5.9676\n",
            "Epoch 74/100\n",
            "1/1 [==============================] - 0s 11ms/step - loss: 5.9415 - mae: 5.9415\n",
            "Epoch 75/100\n",
            "1/1 [==============================] - 0s 15ms/step - loss: 5.9152 - mae: 5.9152\n",
            "Epoch 76/100\n",
            "1/1 [==============================] - 0s 14ms/step - loss: 5.8886 - mae: 5.8886\n",
            "Epoch 77/100\n",
            "1/1 [==============================] - 0s 11ms/step - loss: 5.8617 - mae: 5.8617\n",
            "Epoch 78/100\n",
            "1/1 [==============================] - 0s 11ms/step - loss: 5.8346 - mae: 5.8346\n",
            "Epoch 79/100\n",
            "1/1 [==============================] - 0s 11ms/step - loss: 5.8073 - mae: 5.8073\n",
            "Epoch 80/100\n",
            "1/1 [==============================] - 0s 11ms/step - loss: 5.7796 - mae: 5.7796\n",
            "Epoch 81/100\n",
            "1/1 [==============================] - 0s 10ms/step - loss: 5.7628 - mae: 5.7628\n",
            "Epoch 82/100\n",
            "1/1 [==============================] - 0s 11ms/step - loss: 5.7523 - mae: 5.7523\n",
            "Epoch 83/100\n",
            "1/1 [==============================] - 0s 10ms/step - loss: 5.7244 - mae: 5.7244\n",
            "Epoch 84/100\n",
            "1/1 [==============================] - 0s 11ms/step - loss: 5.6962 - mae: 5.6962\n",
            "Epoch 85/100\n",
            "1/1 [==============================] - 0s 15ms/step - loss: 5.6678 - mae: 5.6678\n",
            "Epoch 86/100\n",
            "1/1 [==============================] - 0s 12ms/step - loss: 5.6390 - mae: 5.6390\n",
            "Epoch 87/100\n",
            "1/1 [==============================] - 0s 15ms/step - loss: 5.6099 - mae: 5.6099\n",
            "Epoch 88/100\n",
            "1/1 [==============================] - 0s 15ms/step - loss: 5.5805 - mae: 5.5805\n",
            "Epoch 89/100\n",
            "1/1 [==============================] - 0s 20ms/step - loss: 5.5508 - mae: 5.5508\n",
            "Epoch 90/100\n",
            "1/1 [==============================] - 0s 19ms/step - loss: 5.5208 - mae: 5.5208\n",
            "Epoch 91/100\n",
            "1/1 [==============================] - 0s 10ms/step - loss: 5.4905 - mae: 5.4905\n",
            "Epoch 92/100\n",
            "1/1 [==============================] - 0s 10ms/step - loss: 5.4598 - mae: 5.4598\n",
            "Epoch 93/100\n",
            "1/1 [==============================] - 0s 10ms/step - loss: 5.4288 - mae: 5.4288\n",
            "Epoch 94/100\n",
            "1/1 [==============================] - 0s 10ms/step - loss: 5.3974 - mae: 5.3974\n",
            "Epoch 95/100\n",
            "1/1 [==============================] - 0s 12ms/step - loss: 5.3658 - mae: 5.3658\n",
            "Epoch 96/100\n",
            "1/1 [==============================] - 0s 12ms/step - loss: 5.4034 - mae: 5.4034\n",
            "Epoch 97/100\n",
            "1/1 [==============================] - 0s 14ms/step - loss: 5.4738 - mae: 5.4738\n",
            "Epoch 98/100\n",
            "1/1 [==============================] - 0s 13ms/step - loss: 5.2979 - mae: 5.2979\n",
            "Epoch 99/100\n",
            "1/1 [==============================] - 0s 11ms/step - loss: 5.2653 - mae: 5.2653\n",
            "Epoch 100/100\n",
            "1/1 [==============================] - 0s 11ms/step - loss: 5.2323 - mae: 5.2323\n"
          ]
        },
        {
          "output_type": "execute_result",
          "data": {
            "text/plain": [
              "<keras.callbacks.History at 0x7f0674ac8850>"
            ]
          },
          "metadata": {},
          "execution_count": 20
        }
      ]
    },
    {
      "cell_type": "markdown",
      "source": [
        "changing to Adam and changing the learning rate actually gave me a worse result from the videos, but I'm using a newer version of tensorflow"
      ],
      "metadata": {
        "id": "2DgkvxBJtYtB"
      }
    },
    {
      "cell_type": "code",
      "source": [
        "# Let's remind ourselves of the data\n",
        "X, y"
      ],
      "metadata": {
        "colab": {
          "base_uri": "https://localhost:8080/"
        },
        "id": "J_NmllkssBFP",
        "outputId": "195aa395-d0f5-463d-984c-6c12ff02f38f"
      },
      "execution_count": 21,
      "outputs": [
        {
          "output_type": "execute_result",
          "data": {
            "text/plain": [
              "(<tf.Tensor: shape=(8,), dtype=float32, numpy=array([-7., -4., -1.,  2.,  5.,  8., 11., 14.], dtype=float32)>,\n",
              " <tf.Tensor: shape=(8,), dtype=float32, numpy=array([ 3.,  6.,  9., 12., 15., 18., 21., 24.], dtype=float32)>)"
            ]
          },
          "metadata": {},
          "execution_count": 21
        }
      ]
    },
    {
      "cell_type": "code",
      "source": [
        "# Let's see if our model's prediction has improved...\n",
        "model.predict([17.0])"
      ],
      "metadata": {
        "colab": {
          "base_uri": "https://localhost:8080/"
        },
        "id": "qcgfyHNfqnfd",
        "outputId": "a0060e29-1aa0-4fdc-b452-010e73dc0e62"
      },
      "execution_count": 22,
      "outputs": [
        {
          "output_type": "stream",
          "name": "stdout",
          "text": [
            "1/1 [==============================] - 0s 112ms/step\n"
          ]
        },
        {
          "output_type": "execute_result",
          "data": {
            "text/plain": [
              "array([[29.882504]], dtype=float32)"
            ]
          },
          "metadata": {},
          "execution_count": 22
        }
      ]
    },
    {
      "cell_type": "markdown",
      "source": [
        "Looks like even though the loss and mae is better with this model but the result isn't actually better. This may be 'overfitting'"
      ],
      "metadata": {
        "id": "oY777N-ysGtR"
      }
    },
    {
      "cell_type": "code",
      "source": [],
      "metadata": {
        "id": "zt83NQ9xqsNJ"
      },
      "execution_count": 22,
      "outputs": []
    },
    {
      "cell_type": "markdown",
      "source": [
        "## Evaluating a model\n",
        "\n",
        "In practice, a typical workflow you'll go through when building a neural network is:\n",
        "`Build a model -> fit it -> evaluate it -> tweak a model -> fit it -> evaluate it`"
      ],
      "metadata": {
        "id": "lmIbHzbyr6bL"
      }
    },
    {
      "cell_type": "markdown",
      "source": [
        "When it comes to evaluation... there are 3 words you should memorize:\n",
        "\n",
        "> \"Visualize, visualize, visualize\"\n",
        "\n",
        "It's a good idea to visualize:\n",
        "* The data - what data are we working with? What does it look like?\n",
        "* The model itself - what does our model look like?\n",
        "* The training of a model - how does a model perform while it learns?\n",
        "* The predictions of the model - how do the predictions of a model line up against the ground truth (the original labels)?"
      ],
      "metadata": {
        "id": "7LA-L9t2uXb-"
      }
    },
    {
      "cell_type": "code",
      "source": [
        "# Make a bigger dataset\n",
        "X = tf.range(-100, 100, 4)\n",
        "X"
      ],
      "metadata": {
        "colab": {
          "base_uri": "https://localhost:8080/"
        },
        "id": "3QU8TEqVu6O0",
        "outputId": "c600a10b-0f47-4cdc-f1dc-2f2ba0e5d061"
      },
      "execution_count": 23,
      "outputs": [
        {
          "output_type": "execute_result",
          "data": {
            "text/plain": [
              "<tf.Tensor: shape=(50,), dtype=int32, numpy=\n",
              "array([-100,  -96,  -92,  -88,  -84,  -80,  -76,  -72,  -68,  -64,  -60,\n",
              "        -56,  -52,  -48,  -44,  -40,  -36,  -32,  -28,  -24,  -20,  -16,\n",
              "        -12,   -8,   -4,    0,    4,    8,   12,   16,   20,   24,   28,\n",
              "         32,   36,   40,   44,   48,   52,   56,   60,   64,   68,   72,\n",
              "         76,   80,   84,   88,   92,   96], dtype=int32)>"
            ]
          },
          "metadata": {},
          "execution_count": 23
        }
      ]
    },
    {
      "cell_type": "code",
      "source": [
        "# Make labels for the dataset\n",
        "y = X + 10\n",
        "y"
      ],
      "metadata": {
        "colab": {
          "base_uri": "https://localhost:8080/"
        },
        "id": "4h9J85aPvCbg",
        "outputId": "7f65cee4-1e4c-40a5-a71d-d294c5d91dad"
      },
      "execution_count": 24,
      "outputs": [
        {
          "output_type": "execute_result",
          "data": {
            "text/plain": [
              "<tf.Tensor: shape=(50,), dtype=int32, numpy=\n",
              "array([-90, -86, -82, -78, -74, -70, -66, -62, -58, -54, -50, -46, -42,\n",
              "       -38, -34, -30, -26, -22, -18, -14, -10,  -6,  -2,   2,   6,  10,\n",
              "        14,  18,  22,  26,  30,  34,  38,  42,  46,  50,  54,  58,  62,\n",
              "        66,  70,  74,  78,  82,  86,  90,  94,  98, 102, 106], dtype=int32)>"
            ]
          },
          "metadata": {},
          "execution_count": 24
        }
      ]
    },
    {
      "cell_type": "code",
      "source": [
        "# Visualize the data\n",
        "import matplotlib.pyplot as plt\n",
        "plt.scatter(X, y)"
      ],
      "metadata": {
        "colab": {
          "base_uri": "https://localhost:8080/",
          "height": 283
        },
        "id": "98LQNzONwuOD",
        "outputId": "ff6fb037-34b1-4843-9db9-d3f7f81e4c00"
      },
      "execution_count": 25,
      "outputs": [
        {
          "output_type": "execute_result",
          "data": {
            "text/plain": [
              "<matplotlib.collections.PathCollection at 0x7f066d69ddc0>"
            ]
          },
          "metadata": {},
          "execution_count": 25
        },
        {
          "output_type": "display_data",
          "data": {
            "text/plain": [
              "<Figure size 432x288 with 1 Axes>"
            ],
            "image/png": "[encoded data removed]"
          },
          "metadata": {
            "needs_background": "light"
          }
        }
      ]
    },
    {
      "cell_type": "markdown",
      "source": [
        "### The 3 sets...\n",
        "\n",
        "* **Training set** - the model learns from this data, which is typically 70-80% of the total data you have available.\n",
        "* **Validation set** - the model gets tuned on this data, which is typically 10-15% of the data available.\n",
        "* **Test set** - the model gets evaluated on this data to test what it has learned, this set is typically 10-15% of the total data available."
      ],
      "metadata": {
        "id": "-PKlYN66w4_9"
      }
    },
    {
      "cell_type": "code",
      "source": [
        "# Check the length of how many samples we have\n",
        "len(X)"
      ],
      "metadata": {
        "colab": {
          "base_uri": "https://localhost:8080/"
        },
        "id": "VeRtNDXJyKRw",
        "outputId": "9e5266e7-fa21-408a-ad0f-97f27b1506fb"
      },
      "execution_count": 26,
      "outputs": [
        {
          "output_type": "execute_result",
          "data": {
            "text/plain": [
              "50"
            ]
          },
          "metadata": {},
          "execution_count": 26
        }
      ]
    },
    {
      "cell_type": "code",
      "source": [
        "# Split the data into train and test sets\n",
        "X_train = X[:40] # first 40 are training samplse (80% of the data)\n",
        "y_train = y[:40]\n",
        "\n",
        "X_test = X[40:] # last 10 are testing samples (20% of the data)\n",
        "y_test = y[40:]\n",
        "\n",
        "len(X_train), len(X_test), len(y_train), len(y_test)"
      ],
      "metadata": {
        "colab": {
          "base_uri": "https://localhost:8080/"
        },
        "id": "zlXJowzCO4ma",
        "outputId": "fc4d8ad3-edaa-4f83-906c-2add63cc1fc7"
      },
      "execution_count": 27,
      "outputs": [
        {
          "output_type": "execute_result",
          "data": {
            "text/plain": [
              "(40, 10, 40, 10)"
            ]
          },
          "metadata": {},
          "execution_count": 27
        }
      ]
    },
    {
      "cell_type": "markdown",
      "source": [
        "### Visualizing the data\n",
        "\n",
        "Now we've got our data in training and test sets...let's visualize it again!\n"
      ],
      "metadata": {
        "id": "4FFmd23eQC3p"
      }
    },
    {
      "cell_type": "code",
      "source": [
        "plt.figure(figsize=(10, 7))\n",
        "# Plot training data in blue\n",
        "plt.scatter(X_train, y_train, c=\"b\", label=\"training data\")\n",
        "# Plot test data in green\n",
        "plt.scatter(X_test, y_test, c=\"g\", label=\"test data\")\n",
        "plt.legend()"
      ],
      "metadata": {
        "colab": {
          "base_uri": "https://localhost:8080/",
          "height": 446
        },
        "id": "d6r8Ut4EQMIB",
        "outputId": "65068c30-045d-4338-96db-368b071c89a0"
      },
      "execution_count": 28,
      "outputs": [
        {
          "output_type": "execute_result",
          "data": {
            "text/plain": [
              "<matplotlib.legend.Legend at 0x7f066d5ffdf0>"
            ]
          },
          "metadata": {},
          "execution_count": 28
        },
        {
          "output_type": "display_data",
          "data": {
            "text/plain": [
              "<Figure size 720x504 with 1 Axes>"
            ],
            "image/png": "[encoded data removed]"
          },
          "metadata": {
            "needs_background": "light"
          }
        }
      ]
    },
    {
      "cell_type": "code",
      "source": [
        "# Let's have a look at how to build a neural network for our data\n",
        "\n",
        "#1. Create the model \n",
        "model = tf.keras.Sequential([\n",
        "    tf.keras.layers.Dense(1)\n",
        "])\n",
        "\n",
        "#2. Compile the model\n",
        "model.compile(loss=\"mae\", \n",
        "              optimizer=tf.keras.optimizers.SGD(),\n",
        "              metrics=[\"mae\"])\n",
        "\n",
        "#3. Fit the model (this time we'll train for longer)\n",
        "# model.fit(tf.expand_dims(X_train, axis=-1), y_train, epochs=100)"
      ],
      "metadata": {
        "id": "9HXpg_MhQeH3"
      },
      "execution_count": 29,
      "outputs": []
    },
    {
      "cell_type": "code",
      "source": [
        "### Visualizing the model\n",
        "# model.summary()"
      ],
      "metadata": {
        "id": "3s1i9AQkRcg1"
      },
      "execution_count": 30,
      "outputs": []
    },
    {
      "cell_type": "code",
      "source": [
        "# Let's create a model which builds automatically by defining the input_shape argument in the first layer\n",
        "tf.random.set_seed(42)\n",
        "\n",
        "# Create a model (same as above)\n",
        "model = tf.keras.Sequential([\n",
        "    tf.keras.layers.Dense(10, input_shape=[1], name=\"input_layer\", activation=None),\n",
        "    tf.keras.layers.Dense(1, name=\"output_layer\")\n",
        "], name=\"test\")\n",
        "\n",
        "# 2. Compile the model\n",
        "model.compile(loss=tf.keras.losses.mae,\n",
        "              optimizer=tf.keras.optimizers.SGD(),\n",
        "              metrics=[\"mae\"])\n",
        "\n",
        "model.summary()"
      ],
      "metadata": {
        "colab": {
          "base_uri": "https://localhost:8080/"
        },
        "id": "KJ8nghMCR3J1",
        "outputId": "fc8a3d88-3a08-47fc-d6a7-63b1d5442298"
      },
      "execution_count": 31,
      "outputs": [
        {
          "output_type": "stream",
          "name": "stdout",
          "text": [
            "Model: \"test\"\n",
            "_________________________________________________________________\n",
            " Layer (type)                Output Shape              Param #   \n",
            "=================================================================\n",
            " input_layer (Dense)         (None, 10)                20        \n",
            "                                                                 \n",
            " output_layer (Dense)        (None, 1)                 11        \n",
            "                                                                 \n",
            "=================================================================\n",
            "Total params: 31\n",
            "Trainable params: 31\n",
            "Non-trainable params: 0\n",
            "_________________________________________________________________\n"
          ]
        }
      ]
    },
    {
      "cell_type": "markdown",
      "source": [
        "* Total params - total number of parameters in the model.\n",
        "* Trainable parameters - these are the parameters (patterns) the model can update as it trains. \n",
        "* Non-trainable params - these parameters aren't updated during training (this is typical when you bring in already learned patterns or parameters from other models during **transfer learning**).\n",
        "\n",
        "📖 **Resource**: For a more in depth overview of trainable parameters within a layer, check out MITs introduction to deep learning http://introtodeeplearning.com/\n",
        "\n",
        "🛠 **Exercise**: play around with the model definition and look at the summary output"
      ],
      "metadata": {
        "id": "WxQCM0HkR04K"
      }
    },
    {
      "cell_type": "code",
      "source": [
        "# Let's fit our model to the training data\n",
        "model.fit(tf.expand_dims(X_train, axis=-1), y_train, epochs=100, verbose=0)"
      ],
      "metadata": {
        "colab": {
          "base_uri": "https://localhost:8080/"
        },
        "id": "9bB-R-JCTCwe",
        "outputId": "587bef1f-cd1e-42de-8d44-ef776f4d4626"
      },
      "execution_count": 32,
      "outputs": [
        {
          "output_type": "execute_result",
          "data": {
            "text/plain": [
              "<keras.callbacks.History at 0x7f066d6163a0>"
            ]
          },
          "metadata": {},
          "execution_count": 32
        }
      ]
    },
    {
      "cell_type": "code",
      "source": [
        "# get a summary of our model\n",
        "model.summary()"
      ],
      "metadata": {
        "colab": {
          "base_uri": "https://localhost:8080/"
        },
        "id": "sA827uxLUwmg",
        "outputId": "9e1a058b-6e8a-4873-c4e5-aa9b96d59c2a"
      },
      "execution_count": 33,
      "outputs": [
        {
          "output_type": "stream",
          "name": "stdout",
          "text": [
            "Model: \"test\"\n",
            "_________________________________________________________________\n",
            " Layer (type)                Output Shape              Param #   \n",
            "=================================================================\n",
            " input_layer (Dense)         (None, 10)                20        \n",
            "                                                                 \n",
            " output_layer (Dense)        (None, 1)                 11        \n",
            "                                                                 \n",
            "=================================================================\n",
            "Total params: 31\n",
            "Trainable params: 31\n",
            "Non-trainable params: 0\n",
            "_________________________________________________________________\n"
          ]
        }
      ]
    },
    {
      "cell_type": "code",
      "source": [
        "from tensorflow.keras.utils import plot_model\n",
        "\n",
        "plot_model(model=model, show_shapes=True) "
      ],
      "metadata": {
        "colab": {
          "base_uri": "https://localhost:8080/",
          "height": 312
        },
        "id": "5X24JkiOltA_",
        "outputId": "39ed26e7-9b85-49be-ce7d-78e0a1f665fd"
      },
      "execution_count": 34,
      "outputs": [
        {
          "output_type": "execute_result",
          "data": {
            "image/png": "[encoded data removed]",
            "text/plain": [
              "<IPython.core.display.Image object>"
            ]
          },
          "metadata": {},
          "execution_count": 34
        }
      ]
    },
    {
      "cell_type": "markdown",
      "source": [
        "### Visualizing our model's predictions\n",
        "\n",
        "To visualize predictinos, it's a good idea to plot them against the ground truth labels.\n",
        "\n",
        "Often you'll see this in the form of `y_test` or `y_true` versus `y_pred` (ground truth versus your model)"
      ],
      "metadata": {
        "id": "agxVL5cUmO2-"
      }
    },
    {
      "cell_type": "code",
      "source": [
        "# Make some predictions\n",
        "y_pred = model.predict(X_test)\n",
        "y_pred"
      ],
      "metadata": {
        "colab": {
          "base_uri": "https://localhost:8080/"
        },
        "id": "bYsWjE1UphGx",
        "outputId": "ee19a96b-a9fb-4439-971a-ae157ab75b58"
      },
      "execution_count": 35,
      "outputs": [
        {
          "output_type": "stream",
          "name": "stdout",
          "text": [
            "1/1 [==============================] - 0s 68ms/step\n"
          ]
        },
        {
          "output_type": "execute_result",
          "data": {
            "text/plain": [
              "array([[ 91.2984  ],\n",
              "       [ 97.25995 ],\n",
              "       [103.22153 ],\n",
              "       [109.18308 ],\n",
              "       [115.144646],\n",
              "       [121.10621 ],\n",
              "       [127.067764],\n",
              "       [133.02933 ],\n",
              "       [138.99088 ],\n",
              "       [144.95245 ]], dtype=float32)"
            ]
          },
          "metadata": {},
          "execution_count": 35
        }
      ]
    },
    {
      "cell_type": "code",
      "source": [
        "y_test"
      ],
      "metadata": {
        "colab": {
          "base_uri": "https://localhost:8080/"
        },
        "id": "qUN_fowCpm5P",
        "outputId": "a412b371-12ab-4481-ce9f-5c08f96706a2"
      },
      "execution_count": 36,
      "outputs": [
        {
          "output_type": "execute_result",
          "data": {
            "text/plain": [
              "<tf.Tensor: shape=(10,), dtype=int32, numpy=array([ 70,  74,  78,  82,  86,  90,  94,  98, 102, 106], dtype=int32)>"
            ]
          },
          "metadata": {},
          "execution_count": 36
        }
      ]
    },
    {
      "cell_type": "markdown",
      "source": [
        "🔑 Note: If you feel like you're going to reuse some kind of functionality in the future, it's a good idea to "
      ],
      "metadata": {
        "id": "zYrsRjBOp1Fn"
      }
    },
    {
      "cell_type": "code",
      "source": [
        "# Let's create a plotting function\n",
        "def plot_predictions(train_data=X_train,\n",
        "                     train_labels=y_train,\n",
        "                     test_data=X_test,\n",
        "                     test_labels=y_test,\n",
        "                     predictions=y_pred):\n",
        "  \"\"\"\n",
        "  Plots training data, test data and compares predictions to ground truth labels\n",
        "  \"\"\"\n",
        "  plt.figure(figsize=(10,7))\n",
        "  #Plot training data in blue\n",
        "  plt.scatter(train_data, train_labels, c=\"b\",label=\"Training data\")\n",
        "  #Plot testing data in green\n",
        "  plt.scatter(test_data, test_labels, c=\"g\", label=\"Testing data\")\n",
        "  #Plot model's predictions in red\n",
        "  plt.scatter(test_data, predictions, c=\"r\", label=\"Predictions\")\n",
        "  #Show the legend\n",
        "  plt.legend();"
      ],
      "metadata": {
        "id": "j4EOnNJtpsr6"
      },
      "execution_count": 37,
      "outputs": []
    },
    {
      "cell_type": "code",
      "source": [
        "plot_predictions(train_data=X_train,\n",
        "                 train_labels=y_train,\n",
        "                 test_data=X_test,\n",
        "                 test_labels=y_test,\n",
        "                 predictions=y_pred)\n"
      ],
      "metadata": {
        "colab": {
          "base_uri": "https://localhost:8080/",
          "height": 428
        },
        "id": "Zo4Pc7QHgHOn",
        "outputId": "a26e30ef-8b79-42e8-d317-0741a51b2241"
      },
      "execution_count": 38,
      "outputs": [
        {
          "output_type": "display_data",
          "data": {
            "text/plain": [
              "<Figure size 720x504 with 1 Axes>"
            ],
            "image/png": "[encoded data removed]"
          },
          "metadata": {
            "needs_background": "light"
          }
        }
      ]
    },
    {
      "cell_type": "markdown",
      "source": [
        "### Evaluating our model's predictions with regression evaluation metrics\n",
        "\n",
        "Depending on the problem you're working on, there will be different evaluation metrics to evaluate your model's performance.\n",
        "\n",
        "Since we're working on a regression, two of the main metrics:\n",
        "* MAE - mean absolute error, \"on average, how wrong is each of my model's predictions\"\n",
        "* MSE - mean square error - \"square the mean error\""
      ],
      "metadata": {
        "id": "wS6YRs5OgJvP"
      }
    },
    {
      "cell_type": "code",
      "source": [
        "# Evaluate the model on the test set\n",
        "model.evaluate(X_test, y_test)"
      ],
      "metadata": {
        "colab": {
          "base_uri": "https://localhost:8080/"
        },
        "id": "r1CAv5cqi0Yf",
        "outputId": "b035b22b-79de-4fd5-dd38-4fdadc0781b9"
      },
      "execution_count": 39,
      "outputs": [
        {
          "output_type": "stream",
          "name": "stdout",
          "text": [
            "1/1 [==============================] - 0s 192ms/step - loss: 30.1254 - mae: 30.1254\n"
          ]
        },
        {
          "output_type": "execute_result",
          "data": {
            "text/plain": [
              "[30.12542152404785, 30.12542152404785]"
            ]
          },
          "metadata": {},
          "execution_count": 39
        }
      ]
    },
    {
      "cell_type": "code",
      "source": [
        "tf.constant(y_pred)"
      ],
      "metadata": {
        "colab": {
          "base_uri": "https://localhost:8080/"
        },
        "id": "PrUkQ8DikTQ-",
        "outputId": "6543f2b7-1a87-4146-fd25-eefb579b09e7"
      },
      "execution_count": 40,
      "outputs": [
        {
          "output_type": "execute_result",
          "data": {
            "text/plain": [
              "<tf.Tensor: shape=(10, 1), dtype=float32, numpy=\n",
              "array([[ 91.2984  ],\n",
              "       [ 97.25995 ],\n",
              "       [103.22153 ],\n",
              "       [109.18308 ],\n",
              "       [115.144646],\n",
              "       [121.10621 ],\n",
              "       [127.067764],\n",
              "       [133.02933 ],\n",
              "       [138.99088 ],\n",
              "       [144.95245 ]], dtype=float32)>"
            ]
          },
          "metadata": {},
          "execution_count": 40
        }
      ]
    },
    {
      "cell_type": "code",
      "source": [
        "tf.squeeze(y_pred)"
      ],
      "metadata": {
        "colab": {
          "base_uri": "https://localhost:8080/"
        },
        "id": "F46cSX2UkdBZ",
        "outputId": "867b4d5e-db5f-49c0-a176-ad93d6e121c4"
      },
      "execution_count": 41,
      "outputs": [
        {
          "output_type": "execute_result",
          "data": {
            "text/plain": [
              "<tf.Tensor: shape=(10,), dtype=float32, numpy=\n",
              "array([ 91.2984  ,  97.25995 , 103.22153 , 109.18308 , 115.144646,\n",
              "       121.10621 , 127.067764, 133.02933 , 138.99088 , 144.95245 ],\n",
              "      dtype=float32)>"
            ]
          },
          "metadata": {},
          "execution_count": 41
        }
      ]
    },
    {
      "cell_type": "code",
      "source": [
        "y_test"
      ],
      "metadata": {
        "colab": {
          "base_uri": "https://localhost:8080/"
        },
        "id": "9GjrKY4GkPps",
        "outputId": "c0e86b74-4bd3-4fff-d28d-bacd4d86aff8"
      },
      "execution_count": 42,
      "outputs": [
        {
          "output_type": "execute_result",
          "data": {
            "text/plain": [
              "<tf.Tensor: shape=(10,), dtype=int32, numpy=array([ 70,  74,  78,  82,  86,  90,  94,  98, 102, 106], dtype=int32)>"
            ]
          },
          "metadata": {},
          "execution_count": 42
        }
      ]
    },
    {
      "cell_type": "code",
      "source": [
        "# Calculate the mean absolute error\n",
        "mae = tf.metrics.mean_absolute_error(y_true=y_test, y_pred=tf.constant(y_pred))\n",
        "mae"
      ],
      "metadata": {
        "colab": {
          "base_uri": "https://localhost:8080/"
        },
        "id": "aGEuV2oAi8j8",
        "outputId": "b7e53f2b-06a8-4557-9007-cdde8b49bbde"
      },
      "execution_count": 43,
      "outputs": [
        {
          "output_type": "execute_result",
          "data": {
            "text/plain": [
              "<tf.Tensor: shape=(10,), dtype=float32, numpy=\n",
              "array([10.25968 , 12.103979, 15.777222, 21.183083, 27.144648, 33.10621 ,\n",
              "       39.067764, 45.029327, 50.990875, 56.952454], dtype=float32)>"
            ]
          },
          "metadata": {},
          "execution_count": 43
        }
      ]
    },
    {
      "cell_type": "code",
      "source": [],
      "metadata": {
        "id": "vxJHTvyfjua0"
      },
      "execution_count": 43,
      "outputs": []
    },
    {
      "cell_type": "code",
      "source": [
        "mae = tf.metrics.mean_absolute_error(y_true=y_test,\n",
        "                                     y_pred=tf.squeeze(y_pred))\n",
        "mae"
      ],
      "metadata": {
        "colab": {
          "base_uri": "https://localhost:8080/"
        },
        "id": "HaPgy5klkks6",
        "outputId": "ccc624ac-6e1f-4d65-81de-326725225134"
      },
      "execution_count": 44,
      "outputs": [
        {
          "output_type": "execute_result",
          "data": {
            "text/plain": [
              "<tf.Tensor: shape=(), dtype=float32, numpy=30.125423>"
            ]
          },
          "metadata": {},
          "execution_count": 44
        }
      ]
    },
    {
      "cell_type": "code",
      "source": [
        "# Calculate the mean square error\n",
        "mse = tf.metrics.mean_squared_error(y_true=y_test,\n",
        "                                    y_pred=tf.squeeze(y_pred))\n",
        "mse"
      ],
      "metadata": {
        "colab": {
          "base_uri": "https://localhost:8080/"
        },
        "id": "1UURf70Vktdo",
        "outputId": "dbf1d66c-7c8b-4209-b4cf-9705544d2e66"
      },
      "execution_count": 45,
      "outputs": [
        {
          "output_type": "execute_result",
          "data": {
            "text/plain": [
              "<tf.Tensor: shape=(), dtype=float32, numpy=939.28485>"
            ]
          },
          "metadata": {},
          "execution_count": 45
        }
      ]
    },
    {
      "cell_type": "code",
      "source": [
        "# Make some functions to reuse MAE and MSE\n",
        "def mae(y_true, y_pred):\n",
        "  return tf.metrics.mean_absolute_error(y_true=y_true,\n",
        "                                        y_pred=tf.squeeze(y_pred))\n",
        "\n",
        "\n",
        "def mse(y_true, y_pred):\n",
        "  return tf.metrics.mean_squared_error(y_true=y_true,\n",
        "                                        y_pred=tf.squeeze(y_pred))"
      ],
      "metadata": {
        "id": "RxkaoNXQk-vZ"
      },
      "execution_count": 46,
      "outputs": []
    },
    {
      "cell_type": "markdown",
      "source": [
        "## Running experiments to improve our model\n",
        "\n",
        "```\n",
        "Build a model -> fit it -> evaluate it -> tweak it -> fit it -> evaluate it -> tweak it ->....\n",
        "```\n",
        "\n",
        "1. Get more data - get more examples for your model to train on (more opportunities to learn patterns or relationships between features and lables).\n",
        "2. Make your model larger (using a more complex model) - this might come in the form of more layers or more hidden units in each layer.\n",
        "3. Train for longer - give your model more of a chance to find patterns in the data.\n",
        "\n",
        "Let's do 3 modelling experiments:\n",
        "\n",
        "1. `model_1` - same as the original model, 1 layer, trained for 100 epochs.\n",
        "2. `model_2` - 2 layers, trained for 100 epochs\n",
        "3. `model_3` - 2 layers, trained for 500 epochs\n",
        "\n",
        "**Build model_1**\n"
      ],
      "metadata": {
        "id": "P73X1QDMmODZ"
      }
    },
    {
      "cell_type": "code",
      "source": [
        "# Set random seed\n",
        "tf.random.set_seed(42)\n",
        "\n",
        "# 1. Create the plot_model\n",
        "model_1 = tf.keras.Sequential([\n",
        "    tf.keras.layers.Dense(1)\n",
        "])\n",
        "\n",
        "# 2. Compile the model\n",
        "model_1.compile(loss=tf.keras.losses.mae,\n",
        "                optimizer=tf.keras.optimizers.SGD(),\n",
        "                metrics=[\"mae\"])\n",
        "\n",
        "# 3. Fit the model\n",
        "model_1.fit(tf.expand_dims(X_train, axis=-1), y_train, epochs=100)"
      ],
      "metadata": {
        "colab": {
          "base_uri": "https://localhost:8080/"
        },
        "id": "D3bzYlPOnSDV",
        "outputId": "e55f8291-26b8-4dd0-884e-59fee042c4f5"
      },
      "execution_count": 47,
      "outputs": [
        {
          "output_type": "stream",
          "name": "stdout",
          "text": [
            "Epoch 1/100\n",
            "2/2 [==============================] - 0s 13ms/step - loss: 39.9925 - mae: 39.9925\n",
            "Epoch 2/100\n",
            "2/2 [==============================] - 0s 7ms/step - loss: 11.6180 - mae: 11.6180\n",
            "Epoch 3/100\n",
            "2/2 [==============================] - 0s 16ms/step - loss: 11.6273 - mae: 11.6273\n",
            "Epoch 4/100\n",
            "2/2 [==============================] - 0s 7ms/step - loss: 9.3815 - mae: 9.3815\n",
            "Epoch 5/100\n",
            "2/2 [==============================] - 0s 8ms/step - loss: 10.2611 - mae: 10.2611\n",
            "Epoch 6/100\n",
            "2/2 [==============================] - 0s 10ms/step - loss: 9.5138 - mae: 9.5138\n",
            "Epoch 7/100\n",
            "2/2 [==============================] - 0s 8ms/step - loss: 8.6413 - mae: 8.6413\n",
            "Epoch 8/100\n",
            "2/2 [==============================] - 0s 7ms/step - loss: 9.0580 - mae: 9.0580\n",
            "Epoch 9/100\n",
            "2/2 [==============================] - 0s 9ms/step - loss: 18.9138 - mae: 18.9138\n",
            "Epoch 10/100\n",
            "2/2 [==============================] - 0s 13ms/step - loss: 10.2103 - mae: 10.2103\n",
            "Epoch 11/100\n",
            "2/2 [==============================] - 0s 8ms/step - loss: 8.4404 - mae: 8.4404\n",
            "Epoch 12/100\n",
            "2/2 [==============================] - 0s 7ms/step - loss: 10.7424 - mae: 10.7424\n",
            "Epoch 13/100\n",
            "2/2 [==============================] - 0s 8ms/step - loss: 9.8341 - mae: 9.8341\n",
            "Epoch 14/100\n",
            "2/2 [==============================] - 0s 7ms/step - loss: 16.1818 - mae: 16.1818\n",
            "Epoch 15/100\n",
            "2/2 [==============================] - 0s 7ms/step - loss: 11.2827 - mae: 11.2827\n",
            "Epoch 16/100\n",
            "2/2 [==============================] - 0s 7ms/step - loss: 8.5861 - mae: 8.5861\n",
            "Epoch 17/100\n",
            "2/2 [==============================] - 0s 10ms/step - loss: 13.7339 - mae: 13.7339\n",
            "Epoch 18/100\n",
            "2/2 [==============================] - 0s 10ms/step - loss: 11.5845 - mae: 11.5845\n",
            "Epoch 19/100\n",
            "2/2 [==============================] - 0s 9ms/step - loss: 17.7845 - mae: 17.7845\n",
            "Epoch 20/100\n",
            "2/2 [==============================] - 0s 10ms/step - loss: 14.9201 - mae: 14.9201\n",
            "Epoch 21/100\n",
            "2/2 [==============================] - 0s 8ms/step - loss: 10.8139 - mae: 10.8139\n",
            "Epoch 22/100\n",
            "2/2 [==============================] - 0s 9ms/step - loss: 8.5606 - mae: 8.5606\n",
            "Epoch 23/100\n",
            "2/2 [==============================] - 0s 8ms/step - loss: 9.7521 - mae: 9.7521\n",
            "Epoch 24/100\n",
            "2/2 [==============================] - 0s 8ms/step - loss: 10.9206 - mae: 10.9206\n",
            "Epoch 25/100\n",
            "2/2 [==============================] - 0s 7ms/step - loss: 9.1506 - mae: 9.1506\n",
            "Epoch 26/100\n",
            "2/2 [==============================] - 0s 9ms/step - loss: 13.1550 - mae: 13.1550\n",
            "Epoch 27/100\n",
            "2/2 [==============================] - 0s 9ms/step - loss: 10.4576 - mae: 10.4576\n",
            "Epoch 28/100\n",
            "2/2 [==============================] - 0s 11ms/step - loss: 13.4996 - mae: 13.4996\n",
            "Epoch 29/100\n",
            "2/2 [==============================] - 0s 8ms/step - loss: 10.0128 - mae: 10.0128\n",
            "Epoch 30/100\n",
            "2/2 [==============================] - 0s 10ms/step - loss: 16.0336 - mae: 16.0336\n",
            "Epoch 31/100\n",
            "2/2 [==============================] - 0s 11ms/step - loss: 23.9270 - mae: 23.9270\n",
            "Epoch 32/100\n",
            "2/2 [==============================] - 0s 8ms/step - loss: 8.0120 - mae: 8.0120\n",
            "Epoch 33/100\n",
            "2/2 [==============================] - 0s 7ms/step - loss: 9.7282 - mae: 9.7282\n",
            "Epoch 34/100\n",
            "2/2 [==============================] - 0s 7ms/step - loss: 12.0839 - mae: 12.0839\n",
            "Epoch 35/100\n",
            "2/2 [==============================] - 0s 7ms/step - loss: 11.5524 - mae: 11.5524\n",
            "Epoch 36/100\n",
            "2/2 [==============================] - 0s 7ms/step - loss: 12.7482 - mae: 12.7482\n",
            "Epoch 37/100\n",
            "2/2 [==============================] - 0s 10ms/step - loss: 9.4803 - mae: 9.4803\n",
            "Epoch 38/100\n",
            "2/2 [==============================] - 0s 7ms/step - loss: 10.1427 - mae: 10.1427\n",
            "Epoch 39/100\n",
            "2/2 [==============================] - 0s 8ms/step - loss: 10.1820 - mae: 10.1820\n",
            "Epoch 40/100\n",
            "2/2 [==============================] - 0s 9ms/step - loss: 10.9157 - mae: 10.9157\n",
            "Epoch 41/100\n",
            "2/2 [==============================] - 0s 6ms/step - loss: 7.9090 - mae: 7.9090\n",
            "Epoch 42/100\n",
            "2/2 [==============================] - 0s 7ms/step - loss: 10.0957 - mae: 10.0957\n",
            "Epoch 43/100\n",
            "2/2 [==============================] - 0s 8ms/step - loss: 8.7045 - mae: 8.7045\n",
            "Epoch 44/100\n",
            "2/2 [==============================] - 0s 8ms/step - loss: 12.2088 - mae: 12.2088\n",
            "Epoch 45/100\n",
            "2/2 [==============================] - 0s 8ms/step - loss: 13.7986 - mae: 13.7986\n",
            "Epoch 46/100\n",
            "2/2 [==============================] - 0s 9ms/step - loss: 8.4714 - mae: 8.4714\n",
            "Epoch 47/100\n",
            "2/2 [==============================] - 0s 8ms/step - loss: 9.1371 - mae: 9.1371\n",
            "Epoch 48/100\n",
            "2/2 [==============================] - 0s 9ms/step - loss: 10.6235 - mae: 10.6235\n",
            "Epoch 49/100\n",
            "2/2 [==============================] - 0s 7ms/step - loss: 7.7541 - mae: 7.7541\n",
            "Epoch 50/100\n",
            "2/2 [==============================] - 0s 8ms/step - loss: 9.5450 - mae: 9.5450\n",
            "Epoch 51/100\n",
            "2/2 [==============================] - 0s 8ms/step - loss: 9.1621 - mae: 9.1621\n",
            "Epoch 52/100\n",
            "2/2 [==============================] - 0s 9ms/step - loss: 16.3658 - mae: 16.3658\n",
            "Epoch 53/100\n",
            "2/2 [==============================] - 0s 8ms/step - loss: 14.1318 - mae: 14.1318\n",
            "Epoch 54/100\n",
            "2/2 [==============================] - 0s 9ms/step - loss: 21.1247 - mae: 21.1247\n",
            "Epoch 55/100\n",
            "2/2 [==============================] - 0s 8ms/step - loss: 16.3994 - mae: 16.3994\n",
            "Epoch 56/100\n",
            "2/2 [==============================] - 0s 9ms/step - loss: 9.9372 - mae: 9.9372\n",
            "Epoch 57/100\n",
            "2/2 [==============================] - 0s 9ms/step - loss: 9.6179 - mae: 9.6179\n",
            "Epoch 58/100\n",
            "2/2 [==============================] - 0s 8ms/step - loss: 8.9510 - mae: 8.9510\n",
            "Epoch 59/100\n",
            "2/2 [==============================] - 0s 9ms/step - loss: 10.1362 - mae: 10.1362\n",
            "Epoch 60/100\n",
            "2/2 [==============================] - 0s 8ms/step - loss: 8.4573 - mae: 8.4573\n",
            "Epoch 61/100\n",
            "2/2 [==============================] - 0s 8ms/step - loss: 9.3130 - mae: 9.3130\n",
            "Epoch 62/100\n",
            "2/2 [==============================] - 0s 9ms/step - loss: 7.0767 - mae: 7.0767\n",
            "Epoch 63/100\n",
            "2/2 [==============================] - 0s 8ms/step - loss: 8.6259 - mae: 8.6259\n",
            "Epoch 64/100\n",
            "2/2 [==============================] - 0s 11ms/step - loss: 9.2053 - mae: 9.2053\n",
            "Epoch 65/100\n",
            "2/2 [==============================] - 0s 8ms/step - loss: 10.4379 - mae: 10.4379\n",
            "Epoch 66/100\n",
            "2/2 [==============================] - 0s 7ms/step - loss: 15.7078 - mae: 15.7078\n",
            "Epoch 67/100\n",
            "2/2 [==============================] - 0s 7ms/step - loss: 10.0868 - mae: 10.0868\n",
            "Epoch 68/100\n",
            "2/2 [==============================] - 0s 9ms/step - loss: 9.0452 - mae: 9.0452\n",
            "Epoch 69/100\n",
            "2/2 [==============================] - 0s 9ms/step - loss: 12.5794 - mae: 12.5794\n",
            "Epoch 70/100\n",
            "2/2 [==============================] - 0s 10ms/step - loss: 8.9543 - mae: 8.9543\n",
            "Epoch 71/100\n",
            "2/2 [==============================] - 0s 8ms/step - loss: 9.9285 - mae: 9.9285\n",
            "Epoch 72/100\n",
            "2/2 [==============================] - 0s 8ms/step - loss: 9.9694 - mae: 9.9694\n",
            "Epoch 73/100\n",
            "2/2 [==============================] - 0s 8ms/step - loss: 12.4291 - mae: 12.4291\n",
            "Epoch 74/100\n",
            "2/2 [==============================] - 0s 8ms/step - loss: 10.5934 - mae: 10.5934\n",
            "Epoch 75/100\n",
            "2/2 [==============================] - 0s 8ms/step - loss: 9.6272 - mae: 9.6272\n",
            "Epoch 76/100\n",
            "2/2 [==============================] - 0s 7ms/step - loss: 11.0903 - mae: 11.0903\n",
            "Epoch 77/100\n",
            "2/2 [==============================] - 0s 7ms/step - loss: 8.2760 - mae: 8.2760\n",
            "Epoch 78/100\n",
            "2/2 [==============================] - 0s 7ms/step - loss: 8.9609 - mae: 8.9609\n",
            "Epoch 79/100\n",
            "2/2 [==============================] - 0s 8ms/step - loss: 19.8132 - mae: 19.8132\n",
            "Epoch 80/100\n",
            "2/2 [==============================] - 0s 10ms/step - loss: 17.8021 - mae: 17.8021\n",
            "Epoch 81/100\n",
            "2/2 [==============================] - 0s 8ms/step - loss: 7.0917 - mae: 7.0917\n",
            "Epoch 82/100\n",
            "2/2 [==============================] - 0s 8ms/step - loss: 10.4035 - mae: 10.4035\n",
            "Epoch 83/100\n",
            "2/2 [==============================] - 0s 8ms/step - loss: 9.8248 - mae: 9.8248\n",
            "Epoch 84/100\n",
            "2/2 [==============================] - 0s 9ms/step - loss: 7.9471 - mae: 7.9471\n",
            "Epoch 85/100\n",
            "2/2 [==============================] - 0s 9ms/step - loss: 9.4593 - mae: 9.4593\n",
            "Epoch 86/100\n",
            "2/2 [==============================] - 0s 9ms/step - loss: 9.5025 - mae: 9.5025\n",
            "Epoch 87/100\n",
            "2/2 [==============================] - 0s 8ms/step - loss: 11.4504 - mae: 11.4504\n",
            "Epoch 88/100\n",
            "2/2 [==============================] - 0s 8ms/step - loss: 9.9491 - mae: 9.9491\n",
            "Epoch 89/100\n",
            "2/2 [==============================] - 0s 8ms/step - loss: 7.2576 - mae: 7.2576\n",
            "Epoch 90/100\n",
            "2/2 [==============================] - 0s 9ms/step - loss: 12.7110 - mae: 12.7110\n",
            "Epoch 91/100\n",
            "2/2 [==============================] - 0s 8ms/step - loss: 7.3205 - mae: 7.3205\n",
            "Epoch 92/100\n",
            "2/2 [==============================] - 0s 9ms/step - loss: 7.6849 - mae: 7.6849\n",
            "Epoch 93/100\n",
            "2/2 [==============================] - 0s 10ms/step - loss: 7.1225 - mae: 7.1225\n",
            "Epoch 94/100\n",
            "2/2 [==============================] - 0s 9ms/step - loss: 12.5577 - mae: 12.5577\n",
            "Epoch 95/100\n",
            "2/2 [==============================] - 0s 8ms/step - loss: 9.9335 - mae: 9.9335\n",
            "Epoch 96/100\n",
            "2/2 [==============================] - 0s 8ms/step - loss: 9.1404 - mae: 9.1404\n",
            "Epoch 97/100\n",
            "2/2 [==============================] - 0s 8ms/step - loss: 12.0792 - mae: 12.0792\n",
            "Epoch 98/100\n",
            "2/2 [==============================] - 0s 10ms/step - loss: 9.0794 - mae: 9.0794\n",
            "Epoch 99/100\n",
            "2/2 [==============================] - 0s 8ms/step - loss: 8.4992 - mae: 8.4992\n",
            "Epoch 100/100\n",
            "2/2 [==============================] - 0s 10ms/step - loss: 14.4501 - mae: 14.4501\n"
          ]
        },
        {
          "output_type": "execute_result",
          "data": {
            "text/plain": [
              "<keras.callbacks.History at 0x7f06749cc8b0>"
            ]
          },
          "metadata": {},
          "execution_count": 47
        }
      ]
    },
    {
      "cell_type": "code",
      "source": [
        "# Make and plot predictions for model_1\n",
        "y_preds_1 = model_1.predict(X_test)\n",
        "plot_predictions(predictions=y_preds_1)"
      ],
      "metadata": {
        "colab": {
          "base_uri": "https://localhost:8080/",
          "height": 484
        },
        "id": "QHNWSTfQnWGS",
        "outputId": "122f262c-c2d8-432b-bcae-876ee65b2b1e"
      },
      "execution_count": 48,
      "outputs": [
        {
          "output_type": "stream",
          "name": "stderr",
          "text": [
            "WARNING:tensorflow:5 out of the last 5 calls to <function Model.make_predict_function.<locals>.predict_function at 0x7f06749789d0> triggered tf.function retracing. Tracing is expensive and the excessive number of tracings could be due to (1) creating @tf.function repeatedly in a loop, (2) passing tensors with different shapes, (3) passing Python objects instead of tensors. For (1), please define your @tf.function outside of the loop. For (2), @tf.function has reduce_retracing=True option that can avoid unnecessary retracing. For (3), please refer to https://www.tensorflow.org/guide/function#controlling_retracing and https://www.tensorflow.org/api_docs/python/tf/function for  more details.\n"
          ]
        },
        {
          "output_type": "stream",
          "name": "stdout",
          "text": [
            "1/1 [==============================] - 0s 72ms/step\n"
          ]
        },
        {
          "output_type": "display_data",
          "data": {
            "text/plain": [
              "<Figure size 720x504 with 1 Axes>"
            ],
            "image/png": "[encoded data removed]"
          },
          "metadata": {
            "needs_background": "light"
          }
        }
      ]
    },
    {
      "cell_type": "code",
      "source": [
        "# Calculate model_1 evaluation metrics\n",
        "mae_1 = mae(y_test, y_preds_1)\n",
        "mse_1 = mse(y_test, y_preds_1)\n",
        "mae_1, mse_1"
      ],
      "metadata": {
        "colab": {
          "base_uri": "https://localhost:8080/"
        },
        "id": "1-mL92RWpVZw",
        "outputId": "fc00c388-185b-459b-f025-aadac4a6c136"
      },
      "execution_count": 49,
      "outputs": [
        {
          "output_type": "execute_result",
          "data": {
            "text/plain": [
              "(<tf.Tensor: shape=(), dtype=float32, numpy=30.640097>,\n",
              " <tf.Tensor: shape=(), dtype=float32, numpy=949.2533>)"
            ]
          },
          "metadata": {},
          "execution_count": 49
        }
      ]
    },
    {
      "cell_type": "markdown",
      "source": [
        "**Build model_2**\n",
        "\n",
        "* 2 dense layers, trained for 100 epochs"
      ],
      "metadata": {
        "id": "kmYoW3iWp8rn"
      }
    },
    {
      "cell_type": "code",
      "source": [
        "# Set the random seed\n",
        "tf.random.set_seed(42)\n",
        "\n",
        "# 1. Create the model\n",
        "model_2 = tf.keras.Sequential([\n",
        "    tf.keras.layers.Dense(10),\n",
        "    tf.keras.layers.Dense(1)\n",
        "])\n",
        "\n",
        "# 2. Compile the model\n",
        "model_2.compile(loss=tf.keras.losses.mae,\n",
        "                optimizer=tf.keras.optimizers.SGD(),\n",
        "                metrics=[\"mae\"])\n",
        "\n",
        "# Fit the model\n",
        "model_2.fit(tf.expand_dims(X_train, axis=-1), y_train, epochs=100)"
      ],
      "metadata": {
        "colab": {
          "base_uri": "https://localhost:8080/"
        },
        "id": "lo5p3pkrrr8X",
        "outputId": "1b85efcb-02fc-4397-dbcb-e102d7c65213"
      },
      "execution_count": 50,
      "outputs": [
        {
          "output_type": "stream",
          "name": "stdout",
          "text": [
            "Epoch 1/100\n",
            "2/2 [==============================] - 0s 13ms/step - loss: 59.0865 - mae: 59.0865\n",
            "Epoch 2/100\n",
            "2/2 [==============================] - 0s 9ms/step - loss: 36.4257 - mae: 36.4257\n",
            "Epoch 3/100\n",
            "2/2 [==============================] - 0s 10ms/step - loss: 39.3387 - mae: 39.3387\n",
            "Epoch 4/100\n",
            "2/2 [==============================] - 0s 10ms/step - loss: 32.0510 - mae: 32.0510\n",
            "Epoch 5/100\n",
            "2/2 [==============================] - 0s 7ms/step - loss: 16.6992 - mae: 16.6992\n",
            "Epoch 6/100\n",
            "2/2 [==============================] - 0s 9ms/step - loss: 11.3398 - mae: 11.3398\n",
            "Epoch 7/100\n",
            "2/2 [==============================] - 0s 7ms/step - loss: 12.4047 - mae: 12.4047\n",
            "Epoch 8/100\n",
            "2/2 [==============================] - 0s 7ms/step - loss: 11.0186 - mae: 11.0186\n",
            "Epoch 9/100\n",
            "2/2 [==============================] - 0s 8ms/step - loss: 39.1536 - mae: 39.1536\n",
            "Epoch 10/100\n",
            "2/2 [==============================] - 0s 7ms/step - loss: 26.7173 - mae: 26.7173\n",
            "Epoch 11/100\n",
            "2/2 [==============================] - 0s 8ms/step - loss: 11.8065 - mae: 11.8065\n",
            "Epoch 12/100\n",
            "2/2 [==============================] - 0s 8ms/step - loss: 23.5782 - mae: 23.5782\n",
            "Epoch 13/100\n",
            "2/2 [==============================] - 0s 7ms/step - loss: 21.2945 - mae: 21.2945\n",
            "Epoch 14/100\n",
            "2/2 [==============================] - 0s 8ms/step - loss: 23.7813 - mae: 23.7813\n",
            "Epoch 15/100\n",
            "2/2 [==============================] - 0s 8ms/step - loss: 15.8268 - mae: 15.8268\n",
            "Epoch 16/100\n",
            "2/2 [==============================] - 0s 7ms/step - loss: 10.4617 - mae: 10.4617\n",
            "Epoch 17/100\n",
            "2/2 [==============================] - 0s 7ms/step - loss: 19.7501 - mae: 19.7501\n",
            "Epoch 18/100\n",
            "2/2 [==============================] - 0s 8ms/step - loss: 13.3621 - mae: 13.3621\n",
            "Epoch 19/100\n",
            "2/2 [==============================] - 0s 10ms/step - loss: 16.3709 - mae: 16.3709\n",
            "Epoch 20/100\n",
            "2/2 [==============================] - 0s 7ms/step - loss: 8.2568 - mae: 8.2568\n",
            "Epoch 21/100\n",
            "2/2 [==============================] - 0s 8ms/step - loss: 14.4670 - mae: 14.4670\n",
            "Epoch 22/100\n",
            "2/2 [==============================] - 0s 8ms/step - loss: 12.8847 - mae: 12.8847\n",
            "Epoch 23/100\n",
            "2/2 [==============================] - 0s 7ms/step - loss: 15.5190 - mae: 15.5190\n",
            "Epoch 24/100\n",
            "2/2 [==============================] - 0s 6ms/step - loss: 15.3096 - mae: 15.3096\n",
            "Epoch 25/100\n",
            "2/2 [==============================] - 0s 8ms/step - loss: 14.3706 - mae: 14.3706\n",
            "Epoch 26/100\n",
            "2/2 [==============================] - 0s 8ms/step - loss: 19.3981 - mae: 19.3981\n",
            "Epoch 27/100\n",
            "2/2 [==============================] - 0s 7ms/step - loss: 11.4321 - mae: 11.4321\n",
            "Epoch 28/100\n",
            "2/2 [==============================] - 0s 9ms/step - loss: 28.9266 - mae: 28.9266\n",
            "Epoch 29/100\n",
            "2/2 [==============================] - 0s 9ms/step - loss: 9.2560 - mae: 9.2560\n",
            "Epoch 30/100\n",
            "2/2 [==============================] - 0s 8ms/step - loss: 29.6958 - mae: 29.6958\n",
            "Epoch 31/100\n",
            "2/2 [==============================] - 0s 8ms/step - loss: 53.8653 - mae: 53.8653\n",
            "Epoch 32/100\n",
            "2/2 [==============================] - 0s 8ms/step - loss: 9.5435 - mae: 9.5435\n",
            "Epoch 33/100\n",
            "2/2 [==============================] - 0s 10ms/step - loss: 12.1295 - mae: 12.1295\n",
            "Epoch 34/100\n",
            "2/2 [==============================] - 0s 9ms/step - loss: 23.7324 - mae: 23.7324\n",
            "Epoch 35/100\n",
            "2/2 [==============================] - 0s 10ms/step - loss: 12.6527 - mae: 12.6527\n",
            "Epoch 36/100\n",
            "2/2 [==============================] - 0s 10ms/step - loss: 21.5952 - mae: 21.5952\n",
            "Epoch 37/100\n",
            "2/2 [==============================] - 0s 8ms/step - loss: 11.3308 - mae: 11.3308\n",
            "Epoch 38/100\n",
            "2/2 [==============================] - 0s 7ms/step - loss: 13.3749 - mae: 13.3749\n",
            "Epoch 39/100\n",
            "2/2 [==============================] - 0s 8ms/step - loss: 10.7501 - mae: 10.7501\n",
            "Epoch 40/100\n",
            "2/2 [==============================] - 0s 8ms/step - loss: 16.1815 - mae: 16.1815\n",
            "Epoch 41/100\n",
            "2/2 [==============================] - 0s 7ms/step - loss: 12.1882 - mae: 12.1882\n",
            "Epoch 42/100\n",
            "2/2 [==============================] - 0s 8ms/step - loss: 10.2211 - mae: 10.2211\n",
            "Epoch 43/100\n",
            "2/2 [==============================] - 0s 8ms/step - loss: 9.9002 - mae: 9.9002\n",
            "Epoch 44/100\n",
            "2/2 [==============================] - 0s 11ms/step - loss: 31.5557 - mae: 31.5557\n",
            "Epoch 45/100\n",
            "2/2 [==============================] - 0s 8ms/step - loss: 12.2748 - mae: 12.2748\n",
            "Epoch 46/100\n",
            "2/2 [==============================] - 0s 8ms/step - loss: 16.9634 - mae: 16.9634\n",
            "Epoch 47/100\n",
            "2/2 [==============================] - 0s 10ms/step - loss: 15.9594 - mae: 15.9594\n",
            "Epoch 48/100\n",
            "2/2 [==============================] - 0s 8ms/step - loss: 8.8954 - mae: 8.8954\n",
            "Epoch 49/100\n",
            "2/2 [==============================] - 0s 12ms/step - loss: 13.4195 - mae: 13.4195\n",
            "Epoch 50/100\n",
            "2/2 [==============================] - 0s 8ms/step - loss: 14.9641 - mae: 14.9641\n",
            "Epoch 51/100\n",
            "2/2 [==============================] - 0s 10ms/step - loss: 13.5403 - mae: 13.5403\n",
            "Epoch 52/100\n",
            "2/2 [==============================] - 0s 11ms/step - loss: 17.9814 - mae: 17.9814\n",
            "Epoch 53/100\n",
            "2/2 [==============================] - 0s 10ms/step - loss: 22.4794 - mae: 22.4794\n",
            "Epoch 54/100\n",
            "2/2 [==============================] - 0s 10ms/step - loss: 27.5135 - mae: 27.5135\n",
            "Epoch 55/100\n",
            "2/2 [==============================] - 0s 8ms/step - loss: 27.2350 - mae: 27.2350\n",
            "Epoch 56/100\n",
            "2/2 [==============================] - 0s 10ms/step - loss: 11.6031 - mae: 11.6031\n",
            "Epoch 57/100\n",
            "2/2 [==============================] - 0s 9ms/step - loss: 13.7112 - mae: 13.7112\n",
            "Epoch 58/100\n",
            "2/2 [==============================] - 0s 9ms/step - loss: 10.1474 - mae: 10.1474\n",
            "Epoch 59/100\n",
            "2/2 [==============================] - 0s 8ms/step - loss: 14.6693 - mae: 14.6693\n",
            "Epoch 60/100\n",
            "2/2 [==============================] - 0s 9ms/step - loss: 10.0892 - mae: 10.0892\n",
            "Epoch 61/100\n",
            "2/2 [==============================] - 0s 8ms/step - loss: 15.1762 - mae: 15.1762\n",
            "Epoch 62/100\n",
            "2/2 [==============================] - 0s 10ms/step - loss: 12.0620 - mae: 12.0620\n",
            "Epoch 63/100\n",
            "2/2 [==============================] - 0s 9ms/step - loss: 10.3671 - mae: 10.3671\n",
            "Epoch 64/100\n",
            "2/2 [==============================] - 0s 10ms/step - loss: 24.2125 - mae: 24.2125\n",
            "Epoch 65/100\n",
            "2/2 [==============================] - 0s 9ms/step - loss: 10.5468 - mae: 10.5468\n",
            "Epoch 66/100\n",
            "2/2 [==============================] - 0s 8ms/step - loss: 21.2195 - mae: 21.2195\n",
            "Epoch 67/100\n",
            "2/2 [==============================] - 0s 9ms/step - loss: 10.5416 - mae: 10.5416\n",
            "Epoch 68/100\n",
            "2/2 [==============================] - 0s 7ms/step - loss: 14.3797 - mae: 14.3797\n",
            "Epoch 69/100\n",
            "2/2 [==============================] - 0s 8ms/step - loss: 10.6294 - mae: 10.6294\n",
            "Epoch 70/100\n",
            "2/2 [==============================] - 0s 9ms/step - loss: 12.7141 - mae: 12.7141\n",
            "Epoch 71/100\n",
            "2/2 [==============================] - 0s 13ms/step - loss: 13.1393 - mae: 13.1393\n",
            "Epoch 72/100\n",
            "2/2 [==============================] - 0s 7ms/step - loss: 19.6225 - mae: 19.6225\n",
            "Epoch 73/100\n",
            "2/2 [==============================] - 0s 8ms/step - loss: 11.2069 - mae: 11.2069\n",
            "Epoch 74/100\n",
            "2/2 [==============================] - 0s 7ms/step - loss: 21.8910 - mae: 21.8910\n",
            "Epoch 75/100\n",
            "2/2 [==============================] - 0s 8ms/step - loss: 7.2114 - mae: 7.2114\n",
            "Epoch 76/100\n",
            "2/2 [==============================] - 0s 8ms/step - loss: 9.4291 - mae: 9.4291\n",
            "Epoch 77/100\n",
            "2/2 [==============================] - 0s 7ms/step - loss: 22.0632 - mae: 22.0632\n",
            "Epoch 78/100\n",
            "2/2 [==============================] - 0s 8ms/step - loss: 17.6755 - mae: 17.6755\n",
            "Epoch 79/100\n",
            "2/2 [==============================] - 0s 8ms/step - loss: 14.8522 - mae: 14.8522\n",
            "Epoch 80/100\n",
            "2/2 [==============================] - 0s 9ms/step - loss: 25.1497 - mae: 25.1497\n",
            "Epoch 81/100\n",
            "2/2 [==============================] - 0s 9ms/step - loss: 10.9284 - mae: 10.9284\n",
            "Epoch 82/100\n",
            "2/2 [==============================] - 0s 8ms/step - loss: 12.7572 - mae: 12.7572\n",
            "Epoch 83/100\n",
            "2/2 [==============================] - 0s 8ms/step - loss: 17.5344 - mae: 17.5344\n",
            "Epoch 84/100\n",
            "2/2 [==============================] - 0s 8ms/step - loss: 7.3019 - mae: 7.3019\n",
            "Epoch 85/100\n",
            "2/2 [==============================] - 0s 8ms/step - loss: 15.0555 - mae: 15.0555\n",
            "Epoch 86/100\n",
            "2/2 [==============================] - 0s 9ms/step - loss: 15.3607 - mae: 15.3607\n",
            "Epoch 87/100\n",
            "2/2 [==============================] - 0s 9ms/step - loss: 19.2500 - mae: 19.2500\n",
            "Epoch 88/100\n",
            "2/2 [==============================] - 0s 8ms/step - loss: 29.4595 - mae: 29.4595\n",
            "Epoch 89/100\n",
            "2/2 [==============================] - 0s 8ms/step - loss: 10.1403 - mae: 10.1403\n",
            "Epoch 90/100\n",
            "2/2 [==============================] - 0s 8ms/step - loss: 21.2201 - mae: 21.2201\n",
            "Epoch 91/100\n",
            "2/2 [==============================] - 0s 8ms/step - loss: 10.5162 - mae: 10.5162\n",
            "Epoch 92/100\n",
            "2/2 [==============================] - 0s 8ms/step - loss: 18.1216 - mae: 18.1216\n",
            "Epoch 93/100\n",
            "2/2 [==============================] - 0s 7ms/step - loss: 6.5600 - mae: 6.5600\n",
            "Epoch 94/100\n",
            "2/2 [==============================] - 0s 8ms/step - loss: 11.1713 - mae: 11.1713\n",
            "Epoch 95/100\n",
            "2/2 [==============================] - 0s 8ms/step - loss: 24.5395 - mae: 24.5395\n",
            "Epoch 96/100\n",
            "2/2 [==============================] - 0s 8ms/step - loss: 10.7800 - mae: 10.7800\n",
            "Epoch 97/100\n",
            "2/2 [==============================] - 0s 11ms/step - loss: 15.4728 - mae: 15.4728\n",
            "Epoch 98/100\n",
            "2/2 [==============================] - 0s 8ms/step - loss: 9.0462 - mae: 9.0462\n",
            "Epoch 99/100\n",
            "2/2 [==============================] - 0s 10ms/step - loss: 10.8662 - mae: 10.8662\n",
            "Epoch 100/100\n",
            "2/2 [==============================] - 0s 8ms/step - loss: 27.0441 - mae: 27.0441\n"
          ]
        },
        {
          "output_type": "execute_result",
          "data": {
            "text/plain": [
              "<keras.callbacks.History at 0x7f06748f0400>"
            ]
          },
          "metadata": {},
          "execution_count": 50
        }
      ]
    },
    {
      "cell_type": "code",
      "source": [
        "# Make and plot predictions of model_2\n",
        "y_preds_2 = model_2.predict(X_test)\n",
        "plot_predictions(predictions=y_preds_2)"
      ],
      "metadata": {
        "colab": {
          "base_uri": "https://localhost:8080/",
          "height": 484
        },
        "id": "HSMDY_-ysHOb",
        "outputId": "8c44bac4-c0da-4eff-eeb1-59cc6358a481"
      },
      "execution_count": 51,
      "outputs": [
        {
          "output_type": "stream",
          "name": "stderr",
          "text": [
            "WARNING:tensorflow:6 out of the last 6 calls to <function Model.make_predict_function.<locals>.predict_function at 0x7f06747f0670> triggered tf.function retracing. Tracing is expensive and the excessive number of tracings could be due to (1) creating @tf.function repeatedly in a loop, (2) passing tensors with different shapes, (3) passing Python objects instead of tensors. For (1), please define your @tf.function outside of the loop. For (2), @tf.function has reduce_retracing=True option that can avoid unnecessary retracing. For (3), please refer to https://www.tensorflow.org/guide/function#controlling_retracing and https://www.tensorflow.org/api_docs/python/tf/function for  more details.\n"
          ]
        },
        {
          "output_type": "stream",
          "name": "stdout",
          "text": [
            "1/1 [==============================] - 0s 66ms/step\n"
          ]
        },
        {
          "output_type": "display_data",
          "data": {
            "text/plain": [
              "<Figure size 720x504 with 1 Axes>"
            ],
            "image/png": "[encoded data removed]"
          },
          "metadata": {
            "needs_background": "light"
          }
        }
      ]
    },
    {
      "cell_type": "code",
      "source": [
        "# Calculate model_2 evaluation metrics\n",
        "mae_2 = mae(y_test, y_preds_2)\n",
        "mse_2 = mse(y_test, y_preds_2)\n",
        "mae_2, mse_2"
      ],
      "metadata": {
        "colab": {
          "base_uri": "https://localhost:8080/"
        },
        "id": "aAhnoRsPsaKh",
        "outputId": "7acea2aa-d8e8-47a2-f974-ebc60f559d70"
      },
      "execution_count": 52,
      "outputs": [
        {
          "output_type": "execute_result",
          "data": {
            "text/plain": [
              "(<tf.Tensor: shape=(), dtype=float32, numpy=9.963391>,\n",
              " <tf.Tensor: shape=(), dtype=float32, numpy=106.48625>)"
            ]
          },
          "metadata": {},
          "execution_count": 52
        }
      ]
    },
    {
      "cell_type": "markdown",
      "source": [
        "**Build `model_3`**\n",
        "\n",
        "* 2 layers, trained for 500 epochs"
      ],
      "metadata": {
        "id": "giiE3VMpstnj"
      }
    },
    {
      "cell_type": "code",
      "source": [
        "# Set the random seed\n",
        "tf.random.set_seed(42)\n",
        "\n",
        "# 1. Create the model\n",
        "model_3 = tf.keras.Sequential([\n",
        "    tf.keras.layers.Dense(10),\n",
        "    tf.keras.layers.Dense(1)\n",
        "])\n",
        "\n",
        "# 2. Compile the model\n",
        "model_3.compile(loss=tf.keras.losses.mae,\n",
        "                optimizer=tf.keras.optimizers.SGD(),\n",
        "                metrics=[\"mae\"])\n",
        "\n",
        "# Fit the model\n",
        "model_3.fit(tf.expand_dims(X_train, axis=-1), y_train, epochs=500)"
      ],
      "metadata": {
        "colab": {
          "base_uri": "https://localhost:8080/"
        },
        "id": "Nb-JkD85tBJL",
        "outputId": "28697a36-426a-4849-9228-2e58cbe3524c"
      },
      "execution_count": 53,
      "outputs": [
        {
          "output_type": "stream",
          "name": "stdout",
          "text": [
            "Epoch 1/500\n",
            "2/2 [==============================] - 1s 23ms/step - loss: 53.1200 - mae: 53.1200\n",
            "Epoch 2/500\n",
            "2/2 [==============================] - 0s 7ms/step - loss: 11.6391 - mae: 11.6391\n",
            "Epoch 3/500\n",
            "2/2 [==============================] - 0s 11ms/step - loss: 30.8422 - mae: 30.8422\n",
            "Epoch 4/500\n",
            "2/2 [==============================] - 0s 11ms/step - loss: 14.4401 - mae: 14.4401\n",
            "Epoch 5/500\n",
            "2/2 [==============================] - 0s 9ms/step - loss: 20.3413 - mae: 20.3413\n",
            "Epoch 6/500\n",
            "2/2 [==============================] - 0s 8ms/step - loss: 8.1765 - mae: 8.1765\n",
            "Epoch 7/500\n",
            "2/2 [==============================] - 0s 8ms/step - loss: 17.1507 - mae: 17.1507\n",
            "Epoch 8/500\n",
            "2/2 [==============================] - 0s 12ms/step - loss: 17.1454 - mae: 17.1454\n",
            "Epoch 9/500\n",
            "2/2 [==============================] - 0s 8ms/step - loss: 30.1053 - mae: 30.1053\n",
            "Epoch 10/500\n",
            "2/2 [==============================] - 0s 12ms/step - loss: 12.0749 - mae: 12.0749\n",
            "Epoch 11/500\n",
            "2/2 [==============================] - 0s 11ms/step - loss: 9.0027 - mae: 9.0027\n",
            "Epoch 12/500\n",
            "2/2 [==============================] - 0s 13ms/step - loss: 21.1264 - mae: 21.1264\n",
            "Epoch 13/500\n",
            "2/2 [==============================] - 0s 16ms/step - loss: 12.3617 - mae: 12.3617\n",
            "Epoch 14/500\n",
            "2/2 [==============================] - 0s 9ms/step - loss: 36.5667 - mae: 36.5667\n",
            "Epoch 15/500\n",
            "2/2 [==============================] - 0s 14ms/step - loss: 23.9991 - mae: 23.9991\n",
            "Epoch 16/500\n",
            "2/2 [==============================] - 0s 8ms/step - loss: 10.2639 - mae: 10.2639\n",
            "Epoch 17/500\n",
            "2/2 [==============================] - 0s 8ms/step - loss: 19.1975 - mae: 19.1975\n",
            "Epoch 18/500\n",
            "2/2 [==============================] - 0s 9ms/step - loss: 12.5453 - mae: 12.5453\n",
            "Epoch 19/500\n",
            "2/2 [==============================] - 0s 8ms/step - loss: 18.7084 - mae: 18.7084\n",
            "Epoch 20/500\n",
            "2/2 [==============================] - 0s 8ms/step - loss: 8.2533 - mae: 8.2533\n",
            "Epoch 21/500\n",
            "2/2 [==============================] - 0s 8ms/step - loss: 14.4634 - mae: 14.4634\n",
            "Epoch 22/500\n",
            "2/2 [==============================] - 0s 11ms/step - loss: 12.8820 - mae: 12.8820\n",
            "Epoch 23/500\n",
            "2/2 [==============================] - 0s 8ms/step - loss: 15.5155 - mae: 15.5155\n",
            "Epoch 24/500\n",
            "2/2 [==============================] - 0s 12ms/step - loss: 15.3069 - mae: 15.3069\n",
            "Epoch 25/500\n",
            "2/2 [==============================] - 0s 8ms/step - loss: 14.3677 - mae: 14.3677\n",
            "Epoch 26/500\n",
            "2/2 [==============================] - 0s 7ms/step - loss: 19.3961 - mae: 19.3961\n",
            "Epoch 27/500\n",
            "2/2 [==============================] - 0s 7ms/step - loss: 11.4303 - mae: 11.4303\n",
            "Epoch 28/500\n",
            "2/2 [==============================] - 0s 8ms/step - loss: 28.9303 - mae: 28.9303\n",
            "Epoch 29/500\n",
            "2/2 [==============================] - 0s 8ms/step - loss: 9.2537 - mae: 9.2537\n",
            "Epoch 30/500\n",
            "2/2 [==============================] - 0s 8ms/step - loss: 29.6985 - mae: 29.6985\n",
            "Epoch 31/500\n",
            "2/2 [==============================] - 0s 8ms/step - loss: 53.8700 - mae: 53.8700\n",
            "Epoch 32/500\n",
            "2/2 [==============================] - 0s 11ms/step - loss: 9.5410 - mae: 9.5410\n",
            "Epoch 33/500\n",
            "2/2 [==============================] - 0s 8ms/step - loss: 12.1269 - mae: 12.1269\n",
            "Epoch 34/500\n",
            "2/2 [==============================] - 0s 8ms/step - loss: 23.7319 - mae: 23.7319\n",
            "Epoch 35/500\n",
            "2/2 [==============================] - 0s 12ms/step - loss: 12.6504 - mae: 12.6504\n",
            "Epoch 36/500\n",
            "2/2 [==============================] - 0s 8ms/step - loss: 21.5957 - mae: 21.5957\n",
            "Epoch 37/500\n",
            "2/2 [==============================] - 0s 7ms/step - loss: 11.3272 - mae: 11.3272\n",
            "Epoch 38/500\n",
            "2/2 [==============================] - 0s 9ms/step - loss: 13.3712 - mae: 13.3712\n",
            "Epoch 39/500\n",
            "2/2 [==============================] - 0s 7ms/step - loss: 10.7462 - mae: 10.7462\n",
            "Epoch 40/500\n",
            "2/2 [==============================] - 0s 8ms/step - loss: 16.1766 - mae: 16.1766\n",
            "Epoch 41/500\n",
            "2/2 [==============================] - 0s 8ms/step - loss: 12.1827 - mae: 12.1827\n",
            "Epoch 42/500\n",
            "2/2 [==============================] - 0s 8ms/step - loss: 10.2159 - mae: 10.2159\n",
            "Epoch 43/500\n",
            "2/2 [==============================] - 0s 9ms/step - loss: 9.8968 - mae: 9.8968\n",
            "Epoch 44/500\n",
            "2/2 [==============================] - 0s 10ms/step - loss: 31.5453 - mae: 31.5453\n",
            "Epoch 45/500\n",
            "2/2 [==============================] - 0s 8ms/step - loss: 12.2691 - mae: 12.2691\n",
            "Epoch 46/500\n",
            "2/2 [==============================] - 0s 9ms/step - loss: 16.9530 - mae: 16.9530\n",
            "Epoch 47/500\n",
            "2/2 [==============================] - 0s 10ms/step - loss: 15.9622 - mae: 15.9622\n",
            "Epoch 48/500\n",
            "2/2 [==============================] - 0s 10ms/step - loss: 8.8966 - mae: 8.8966\n",
            "Epoch 49/500\n",
            "2/2 [==============================] - 0s 10ms/step - loss: 13.4215 - mae: 13.4215\n",
            "Epoch 50/500\n",
            "2/2 [==============================] - 0s 9ms/step - loss: 14.9675 - mae: 14.9675\n",
            "Epoch 51/500\n",
            "2/2 [==============================] - 0s 10ms/step - loss: 13.5417 - mae: 13.5417\n",
            "Epoch 52/500\n",
            "2/2 [==============================] - 0s 10ms/step - loss: 17.9825 - mae: 17.9825\n",
            "Epoch 53/500\n",
            "2/2 [==============================] - 0s 10ms/step - loss: 22.4858 - mae: 22.4858\n",
            "Epoch 54/500\n",
            "2/2 [==============================] - 0s 10ms/step - loss: 27.4987 - mae: 27.4987\n",
            "Epoch 55/500\n",
            "2/2 [==============================] - 0s 10ms/step - loss: 27.2177 - mae: 27.2177\n",
            "Epoch 56/500\n",
            "2/2 [==============================] - 0s 10ms/step - loss: 11.5948 - mae: 11.5948\n",
            "Epoch 57/500\n",
            "2/2 [==============================] - 0s 8ms/step - loss: 13.7005 - mae: 13.7005\n",
            "Epoch 58/500\n",
            "2/2 [==============================] - 0s 7ms/step - loss: 10.1399 - mae: 10.1399\n",
            "Epoch 59/500\n",
            "2/2 [==============================] - 0s 8ms/step - loss: 14.6557 - mae: 14.6557\n",
            "Epoch 60/500\n",
            "2/2 [==============================] - 0s 8ms/step - loss: 10.0814 - mae: 10.0814\n",
            "Epoch 61/500\n",
            "2/2 [==============================] - 0s 8ms/step - loss: 15.1625 - mae: 15.1625\n",
            "Epoch 62/500\n",
            "2/2 [==============================] - 0s 7ms/step - loss: 12.0512 - mae: 12.0512\n",
            "Epoch 63/500\n",
            "2/2 [==============================] - 0s 8ms/step - loss: 10.3599 - mae: 10.3599\n",
            "Epoch 64/500\n",
            "2/2 [==============================] - 0s 8ms/step - loss: 24.1897 - mae: 24.1897\n",
            "Epoch 65/500\n",
            "2/2 [==============================] - 0s 8ms/step - loss: 10.5388 - mae: 10.5388\n",
            "Epoch 66/500\n",
            "2/2 [==============================] - 0s 12ms/step - loss: 21.1976 - mae: 21.1976\n",
            "Epoch 67/500\n",
            "2/2 [==============================] - 0s 9ms/step - loss: 10.5319 - mae: 10.5319\n",
            "Epoch 68/500\n",
            "2/2 [==============================] - 0s 10ms/step - loss: 14.3625 - mae: 14.3625\n",
            "Epoch 69/500\n",
            "2/2 [==============================] - 0s 8ms/step - loss: 10.6178 - mae: 10.6178\n",
            "Epoch 70/500\n",
            "2/2 [==============================] - 0s 7ms/step - loss: 12.7008 - mae: 12.7008\n",
            "Epoch 71/500\n",
            "2/2 [==============================] - 0s 7ms/step - loss: 13.1261 - mae: 13.1261\n",
            "Epoch 72/500\n",
            "2/2 [==============================] - 0s 8ms/step - loss: 19.5966 - mae: 19.5966\n",
            "Epoch 73/500\n",
            "2/2 [==============================] - 0s 8ms/step - loss: 11.1973 - mae: 11.1973\n",
            "Epoch 74/500\n",
            "2/2 [==============================] - 0s 8ms/step - loss: 21.8601 - mae: 21.8601\n",
            "Epoch 75/500\n",
            "2/2 [==============================] - 0s 8ms/step - loss: 7.2114 - mae: 7.2114\n",
            "Epoch 76/500\n",
            "2/2 [==============================] - 0s 7ms/step - loss: 9.4315 - mae: 9.4315\n",
            "Epoch 77/500\n",
            "2/2 [==============================] - 0s 7ms/step - loss: 22.0759 - mae: 22.0759\n",
            "Epoch 78/500\n",
            "2/2 [==============================] - 0s 8ms/step - loss: 17.6505 - mae: 17.6505\n",
            "Epoch 79/500\n",
            "2/2 [==============================] - 0s 7ms/step - loss: 14.8342 - mae: 14.8342\n",
            "Epoch 80/500\n",
            "2/2 [==============================] - 0s 8ms/step - loss: 25.1155 - mae: 25.1155\n",
            "Epoch 81/500\n",
            "2/2 [==============================] - 0s 7ms/step - loss: 10.9086 - mae: 10.9086\n",
            "Epoch 82/500\n",
            "2/2 [==============================] - 0s 7ms/step - loss: 12.7666 - mae: 12.7666\n",
            "Epoch 83/500\n",
            "2/2 [==============================] - 0s 9ms/step - loss: 17.5467 - mae: 17.5467\n",
            "Epoch 84/500\n",
            "2/2 [==============================] - 0s 8ms/step - loss: 7.3003 - mae: 7.3003\n",
            "Epoch 85/500\n",
            "2/2 [==============================] - 0s 8ms/step - loss: 15.0646 - mae: 15.0646\n",
            "Epoch 86/500\n",
            "2/2 [==============================] - 0s 7ms/step - loss: 15.3678 - mae: 15.3678\n",
            "Epoch 87/500\n",
            "2/2 [==============================] - 0s 8ms/step - loss: 19.2670 - mae: 19.2670\n",
            "Epoch 88/500\n",
            "2/2 [==============================] - 0s 8ms/step - loss: 29.4136 - mae: 29.4136\n",
            "Epoch 89/500\n",
            "2/2 [==============================] - 0s 8ms/step - loss: 10.1293 - mae: 10.1293\n",
            "Epoch 90/500\n",
            "2/2 [==============================] - 0s 11ms/step - loss: 21.1814 - mae: 21.1814\n",
            "Epoch 91/500\n",
            "2/2 [==============================] - 0s 7ms/step - loss: 10.5028 - mae: 10.5028\n",
            "Epoch 92/500\n",
            "2/2 [==============================] - 0s 7ms/step - loss: 18.0857 - mae: 18.0857\n",
            "Epoch 93/500\n",
            "2/2 [==============================] - 0s 8ms/step - loss: 6.5579 - mae: 6.5579\n",
            "Epoch 94/500\n",
            "2/2 [==============================] - 0s 8ms/step - loss: 11.1575 - mae: 11.1575\n",
            "Epoch 95/500\n",
            "2/2 [==============================] - 0s 12ms/step - loss: 24.4928 - mae: 24.4928\n",
            "Epoch 96/500\n",
            "2/2 [==============================] - 0s 7ms/step - loss: 10.7648 - mae: 10.7648\n",
            "Epoch 97/500\n",
            "2/2 [==============================] - 0s 8ms/step - loss: 15.4393 - mae: 15.4393\n",
            "Epoch 98/500\n",
            "2/2 [==============================] - 0s 12ms/step - loss: 9.0307 - mae: 9.0307\n",
            "Epoch 99/500\n",
            "2/2 [==============================] - 0s 10ms/step - loss: 10.8536 - mae: 10.8536\n",
            "Epoch 100/500\n",
            "2/2 [==============================] - 0s 11ms/step - loss: 26.9951 - mae: 26.9951\n",
            "Epoch 101/500\n",
            "2/2 [==============================] - 0s 12ms/step - loss: 15.0005 - mae: 15.0005\n",
            "Epoch 102/500\n",
            "2/2 [==============================] - 0s 8ms/step - loss: 10.6063 - mae: 10.6063\n",
            "Epoch 103/500\n",
            "2/2 [==============================] - 0s 8ms/step - loss: 9.1199 - mae: 9.1199\n",
            "Epoch 104/500\n",
            "2/2 [==============================] - 0s 16ms/step - loss: 23.4286 - mae: 23.4286\n",
            "Epoch 105/500\n",
            "2/2 [==============================] - 0s 18ms/step - loss: 10.7121 - mae: 10.7121\n",
            "Epoch 106/500\n",
            "2/2 [==============================] - 0s 10ms/step - loss: 11.1763 - mae: 11.1763\n",
            "Epoch 107/500\n",
            "2/2 [==============================] - 0s 11ms/step - loss: 20.9813 - mae: 20.9813\n",
            "Epoch 108/500\n",
            "2/2 [==============================] - 0s 10ms/step - loss: 6.3271 - mae: 6.3271\n",
            "Epoch 109/500\n",
            "2/2 [==============================] - 0s 9ms/step - loss: 10.4862 - mae: 10.4862\n",
            "Epoch 110/500\n",
            "2/2 [==============================] - 0s 10ms/step - loss: 10.4488 - mae: 10.4488\n",
            "Epoch 111/500\n",
            "2/2 [==============================] - 0s 13ms/step - loss: 16.5135 - mae: 16.5135\n",
            "Epoch 112/500\n",
            "2/2 [==============================] - 0s 10ms/step - loss: 9.4541 - mae: 9.4541\n",
            "Epoch 113/500\n",
            "2/2 [==============================] - 0s 9ms/step - loss: 17.3813 - mae: 17.3813\n",
            "Epoch 114/500\n",
            "2/2 [==============================] - 0s 11ms/step - loss: 16.7498 - mae: 16.7498\n",
            "Epoch 115/500\n",
            "2/2 [==============================] - 0s 8ms/step - loss: 10.9775 - mae: 10.9775\n",
            "Epoch 116/500\n",
            "2/2 [==============================] - 0s 13ms/step - loss: 22.7315 - mae: 22.7315\n",
            "Epoch 117/500\n",
            "2/2 [==============================] - 0s 10ms/step - loss: 9.4420 - mae: 9.4420\n",
            "Epoch 118/500\n",
            "2/2 [==============================] - 0s 10ms/step - loss: 10.4856 - mae: 10.4856\n",
            "Epoch 119/500\n",
            "2/2 [==============================] - 0s 10ms/step - loss: 8.0206 - mae: 8.0206\n",
            "Epoch 120/500\n",
            "2/2 [==============================] - 0s 8ms/step - loss: 38.2792 - mae: 38.2792\n",
            "Epoch 121/500\n",
            "2/2 [==============================] - 0s 10ms/step - loss: 11.3725 - mae: 11.3725\n",
            "Epoch 122/500\n",
            "2/2 [==============================] - 0s 8ms/step - loss: 25.5288 - mae: 25.5288\n",
            "Epoch 123/500\n",
            "2/2 [==============================] - 0s 8ms/step - loss: 29.4680 - mae: 29.4680\n",
            "Epoch 124/500\n",
            "2/2 [==============================] - 0s 10ms/step - loss: 16.9164 - mae: 16.9164\n",
            "Epoch 125/500\n",
            "2/2 [==============================] - 0s 8ms/step - loss: 9.4223 - mae: 9.4223\n",
            "Epoch 126/500\n",
            "2/2 [==============================] - 0s 7ms/step - loss: 9.5138 - mae: 9.5138\n",
            "Epoch 127/500\n",
            "2/2 [==============================] - 0s 7ms/step - loss: 12.1899 - mae: 12.1899\n",
            "Epoch 128/500\n",
            "2/2 [==============================] - 0s 7ms/step - loss: 15.1839 - mae: 15.1839\n",
            "Epoch 129/500\n",
            "2/2 [==============================] - 0s 7ms/step - loss: 9.5962 - mae: 9.5962\n",
            "Epoch 130/500\n",
            "2/2 [==============================] - 0s 8ms/step - loss: 20.5539 - mae: 20.5539\n",
            "Epoch 131/500\n",
            "2/2 [==============================] - 0s 8ms/step - loss: 9.3005 - mae: 9.3005\n",
            "Epoch 132/500\n",
            "2/2 [==============================] - 0s 9ms/step - loss: 16.6223 - mae: 16.6223\n",
            "Epoch 133/500\n",
            "2/2 [==============================] - 0s 9ms/step - loss: 7.6830 - mae: 7.6830\n",
            "Epoch 134/500\n",
            "2/2 [==============================] - 0s 10ms/step - loss: 18.9895 - mae: 18.9895\n",
            "Epoch 135/500\n",
            "2/2 [==============================] - 0s 8ms/step - loss: 10.7036 - mae: 10.7036\n",
            "Epoch 136/500\n",
            "2/2 [==============================] - 0s 9ms/step - loss: 18.5992 - mae: 18.5992\n",
            "Epoch 137/500\n",
            "2/2 [==============================] - 0s 8ms/step - loss: 23.6196 - mae: 23.6196\n",
            "Epoch 138/500\n",
            "2/2 [==============================] - 0s 8ms/step - loss: 9.3328 - mae: 9.3328\n",
            "Epoch 139/500\n",
            "2/2 [==============================] - 0s 7ms/step - loss: 9.0473 - mae: 9.0473\n",
            "Epoch 140/500\n",
            "2/2 [==============================] - 0s 10ms/step - loss: 17.0441 - mae: 17.0441\n",
            "Epoch 141/500\n",
            "2/2 [==============================] - 0s 8ms/step - loss: 8.3358 - mae: 8.3358\n",
            "Epoch 142/500\n",
            "2/2 [==============================] - 0s 7ms/step - loss: 34.1443 - mae: 34.1443\n",
            "Epoch 143/500\n",
            "2/2 [==============================] - 0s 7ms/step - loss: 23.1892 - mae: 23.1892\n",
            "Epoch 144/500\n",
            "2/2 [==============================] - 0s 7ms/step - loss: 10.4831 - mae: 10.4831\n",
            "Epoch 145/500\n",
            "2/2 [==============================] - 0s 7ms/step - loss: 25.8793 - mae: 25.8793\n",
            "Epoch 146/500\n",
            "2/2 [==============================] - 0s 7ms/step - loss: 9.8719 - mae: 9.8719\n",
            "Epoch 147/500\n",
            "2/2 [==============================] - 0s 8ms/step - loss: 15.0326 - mae: 15.0326\n",
            "Epoch 148/500\n",
            "2/2 [==============================] - 0s 8ms/step - loss: 17.4770 - mae: 17.4770\n",
            "Epoch 149/500\n",
            "2/2 [==============================] - 0s 8ms/step - loss: 8.7717 - mae: 8.7717\n",
            "Epoch 150/500\n",
            "2/2 [==============================] - 0s 8ms/step - loss: 7.7423 - mae: 7.7423\n",
            "Epoch 151/500\n",
            "2/2 [==============================] - 0s 7ms/step - loss: 19.8670 - mae: 19.8670\n",
            "Epoch 152/500\n",
            "2/2 [==============================] - 0s 7ms/step - loss: 10.2459 - mae: 10.2459\n",
            "Epoch 153/500\n",
            "2/2 [==============================] - 0s 11ms/step - loss: 29.2236 - mae: 29.2236\n",
            "Epoch 154/500\n",
            "2/2 [==============================] - 0s 9ms/step - loss: 10.6503 - mae: 10.6503\n",
            "Epoch 155/500\n",
            "2/2 [==============================] - 0s 8ms/step - loss: 15.5402 - mae: 15.5402\n",
            "Epoch 156/500\n",
            "2/2 [==============================] - 0s 8ms/step - loss: 17.2020 - mae: 17.2020\n",
            "Epoch 157/500\n",
            "2/2 [==============================] - 0s 15ms/step - loss: 32.3443 - mae: 32.3443\n",
            "Epoch 158/500\n",
            "2/2 [==============================] - 0s 13ms/step - loss: 10.5879 - mae: 10.5879\n",
            "Epoch 159/500\n",
            "2/2 [==============================] - 0s 14ms/step - loss: 8.8626 - mae: 8.8626\n",
            "Epoch 160/500\n",
            "2/2 [==============================] - 0s 13ms/step - loss: 21.7754 - mae: 21.7754\n",
            "Epoch 161/500\n",
            "2/2 [==============================] - 0s 8ms/step - loss: 11.0654 - mae: 11.0654\n",
            "Epoch 162/500\n",
            "2/2 [==============================] - 0s 9ms/step - loss: 21.3126 - mae: 21.3126\n",
            "Epoch 163/500\n",
            "2/2 [==============================] - 0s 12ms/step - loss: 18.7994 - mae: 18.7994\n",
            "Epoch 164/500\n",
            "2/2 [==============================] - 0s 10ms/step - loss: 12.6439 - mae: 12.6439\n",
            "Epoch 165/500\n",
            "2/2 [==============================] - 0s 9ms/step - loss: 12.7488 - mae: 12.7488\n",
            "Epoch 166/500\n",
            "2/2 [==============================] - 0s 8ms/step - loss: 18.9450 - mae: 18.9450\n",
            "Epoch 167/500\n",
            "2/2 [==============================] - 0s 8ms/step - loss: 26.7212 - mae: 26.7212\n",
            "Epoch 168/500\n",
            "2/2 [==============================] - 0s 7ms/step - loss: 9.9680 - mae: 9.9680\n",
            "Epoch 169/500\n",
            "2/2 [==============================] - 0s 7ms/step - loss: 22.9715 - mae: 22.9715\n",
            "Epoch 170/500\n",
            "2/2 [==============================] - 0s 8ms/step - loss: 10.1010 - mae: 10.1010\n",
            "Epoch 171/500\n",
            "2/2 [==============================] - 0s 12ms/step - loss: 17.8820 - mae: 17.8820\n",
            "Epoch 172/500\n",
            "2/2 [==============================] - 0s 8ms/step - loss: 29.2397 - mae: 29.2397\n",
            "Epoch 173/500\n",
            "2/2 [==============================] - 0s 9ms/step - loss: 16.8561 - mae: 16.8561\n",
            "Epoch 174/500\n",
            "2/2 [==============================] - 0s 7ms/step - loss: 11.1915 - mae: 11.1915\n",
            "Epoch 175/500\n",
            "2/2 [==============================] - 0s 9ms/step - loss: 27.4844 - mae: 27.4844\n",
            "Epoch 176/500\n",
            "2/2 [==============================] - 0s 10ms/step - loss: 8.4080 - mae: 8.4080\n",
            "Epoch 177/500\n",
            "2/2 [==============================] - 0s 10ms/step - loss: 9.3721 - mae: 9.3721\n",
            "Epoch 178/500\n",
            "2/2 [==============================] - 0s 11ms/step - loss: 18.4572 - mae: 18.4572\n",
            "Epoch 179/500\n",
            "2/2 [==============================] - 0s 9ms/step - loss: 10.4680 - mae: 10.4680\n",
            "Epoch 180/500\n",
            "2/2 [==============================] - 0s 9ms/step - loss: 7.9813 - mae: 7.9813\n",
            "Epoch 181/500\n",
            "2/2 [==============================] - 0s 8ms/step - loss: 17.6495 - mae: 17.6495\n",
            "Epoch 182/500\n",
            "2/2 [==============================] - 0s 11ms/step - loss: 11.1495 - mae: 11.1495\n",
            "Epoch 183/500\n",
            "2/2 [==============================] - 0s 7ms/step - loss: 12.3318 - mae: 12.3318\n",
            "Epoch 184/500\n",
            "2/2 [==============================] - 0s 8ms/step - loss: 27.1841 - mae: 27.1841\n",
            "Epoch 185/500\n",
            "2/2 [==============================] - 0s 10ms/step - loss: 8.1943 - mae: 8.1943\n",
            "Epoch 186/500\n",
            "2/2 [==============================] - 0s 11ms/step - loss: 22.6888 - mae: 22.6888\n",
            "Epoch 187/500\n",
            "2/2 [==============================] - 0s 10ms/step - loss: 19.2467 - mae: 19.2467\n",
            "Epoch 188/500\n",
            "2/2 [==============================] - 0s 8ms/step - loss: 13.6749 - mae: 13.6749\n",
            "Epoch 189/500\n",
            "2/2 [==============================] - 0s 12ms/step - loss: 15.0704 - mae: 15.0704\n",
            "Epoch 190/500\n",
            "2/2 [==============================] - 0s 11ms/step - loss: 20.6134 - mae: 20.6134\n",
            "Epoch 191/500\n",
            "2/2 [==============================] - 0s 9ms/step - loss: 22.2448 - mae: 22.2448\n",
            "Epoch 192/500\n",
            "2/2 [==============================] - 0s 11ms/step - loss: 10.0465 - mae: 10.0465\n",
            "Epoch 193/500\n",
            "2/2 [==============================] - 0s 10ms/step - loss: 28.6172 - mae: 28.6172\n",
            "Epoch 194/500\n",
            "2/2 [==============================] - 0s 12ms/step - loss: 7.0786 - mae: 7.0786\n",
            "Epoch 195/500\n",
            "2/2 [==============================] - 0s 9ms/step - loss: 7.8198 - mae: 7.8198\n",
            "Epoch 196/500\n",
            "2/2 [==============================] - 0s 10ms/step - loss: 26.0578 - mae: 26.0578\n",
            "Epoch 197/500\n",
            "2/2 [==============================] - 0s 11ms/step - loss: 11.5857 - mae: 11.5857\n",
            "Epoch 198/500\n",
            "2/2 [==============================] - 0s 10ms/step - loss: 18.8495 - mae: 18.8495\n",
            "Epoch 199/500\n",
            "2/2 [==============================] - 0s 12ms/step - loss: 16.3897 - mae: 16.3897\n",
            "Epoch 200/500\n",
            "2/2 [==============================] - 0s 10ms/step - loss: 14.1380 - mae: 14.1380\n",
            "Epoch 201/500\n",
            "2/2 [==============================] - 0s 9ms/step - loss: 7.0306 - mae: 7.0306\n",
            "Epoch 202/500\n",
            "2/2 [==============================] - 0s 10ms/step - loss: 21.8015 - mae: 21.8015\n",
            "Epoch 203/500\n",
            "2/2 [==============================] - 0s 8ms/step - loss: 5.3839 - mae: 5.3839\n",
            "Epoch 204/500\n",
            "2/2 [==============================] - 0s 10ms/step - loss: 21.7913 - mae: 21.7913\n",
            "Epoch 205/500\n",
            "2/2 [==============================] - 0s 8ms/step - loss: 9.9053 - mae: 9.9053\n",
            "Epoch 206/500\n",
            "2/2 [==============================] - 0s 7ms/step - loss: 12.1360 - mae: 12.1360\n",
            "Epoch 207/500\n",
            "2/2 [==============================] - 0s 7ms/step - loss: 14.8901 - mae: 14.8901\n",
            "Epoch 208/500\n",
            "2/2 [==============================] - 0s 7ms/step - loss: 15.3417 - mae: 15.3417\n",
            "Epoch 209/500\n",
            "2/2 [==============================] - 0s 7ms/step - loss: 15.4514 - mae: 15.4514\n",
            "Epoch 210/500\n",
            "2/2 [==============================] - 0s 9ms/step - loss: 18.5209 - mae: 18.5209\n",
            "Epoch 211/500\n",
            "2/2 [==============================] - 0s 10ms/step - loss: 10.0961 - mae: 10.0961\n",
            "Epoch 212/500\n",
            "2/2 [==============================] - 0s 8ms/step - loss: 19.0217 - mae: 19.0217\n",
            "Epoch 213/500\n",
            "2/2 [==============================] - 0s 12ms/step - loss: 14.8869 - mae: 14.8869\n",
            "Epoch 214/500\n",
            "2/2 [==============================] - 0s 10ms/step - loss: 14.4964 - mae: 14.4964\n",
            "Epoch 215/500\n",
            "2/2 [==============================] - 0s 8ms/step - loss: 23.0909 - mae: 23.0909\n",
            "Epoch 216/500\n",
            "2/2 [==============================] - 0s 10ms/step - loss: 13.7494 - mae: 13.7494\n",
            "Epoch 217/500\n",
            "2/2 [==============================] - 0s 11ms/step - loss: 10.2164 - mae: 10.2164\n",
            "Epoch 218/500\n",
            "2/2 [==============================] - 0s 12ms/step - loss: 12.3570 - mae: 12.3570\n",
            "Epoch 219/500\n",
            "2/2 [==============================] - 0s 9ms/step - loss: 6.5277 - mae: 6.5277\n",
            "Epoch 220/500\n",
            "2/2 [==============================] - 0s 8ms/step - loss: 7.1685 - mae: 7.1685\n",
            "Epoch 221/500\n",
            "2/2 [==============================] - 0s 9ms/step - loss: 37.2037 - mae: 37.2037\n",
            "Epoch 222/500\n",
            "2/2 [==============================] - 0s 8ms/step - loss: 36.9549 - mae: 36.9549\n",
            "Epoch 223/500\n",
            "2/2 [==============================] - 0s 7ms/step - loss: 6.7057 - mae: 6.7057\n",
            "Epoch 224/500\n",
            "2/2 [==============================] - 0s 8ms/step - loss: 13.8795 - mae: 13.8795\n",
            "Epoch 225/500\n",
            "2/2 [==============================] - 0s 8ms/step - loss: 16.0584 - mae: 16.0584\n",
            "Epoch 226/500\n",
            "2/2 [==============================] - 0s 11ms/step - loss: 15.2669 - mae: 15.2669\n",
            "Epoch 227/500\n",
            "2/2 [==============================] - 0s 9ms/step - loss: 15.6037 - mae: 15.6037\n",
            "Epoch 228/500\n",
            "2/2 [==============================] - 0s 8ms/step - loss: 13.6599 - mae: 13.6599\n",
            "Epoch 229/500\n",
            "2/2 [==============================] - 0s 7ms/step - loss: 17.7504 - mae: 17.7504\n",
            "Epoch 230/500\n",
            "2/2 [==============================] - 0s 9ms/step - loss: 15.2248 - mae: 15.2248\n",
            "Epoch 231/500\n",
            "2/2 [==============================] - 0s 7ms/step - loss: 21.0917 - mae: 21.0917\n",
            "Epoch 232/500\n",
            "2/2 [==============================] - 0s 10ms/step - loss: 25.5456 - mae: 25.5456\n",
            "Epoch 233/500\n",
            "2/2 [==============================] - 0s 10ms/step - loss: 16.5415 - mae: 16.5415\n",
            "Epoch 234/500\n",
            "2/2 [==============================] - 0s 6ms/step - loss: 7.3886 - mae: 7.3886\n",
            "Epoch 235/500\n",
            "2/2 [==============================] - 0s 11ms/step - loss: 17.1735 - mae: 17.1735\n",
            "Epoch 236/500\n",
            "2/2 [==============================] - 0s 9ms/step - loss: 7.2467 - mae: 7.2467\n",
            "Epoch 237/500\n",
            "2/2 [==============================] - 0s 8ms/step - loss: 9.3429 - mae: 9.3429\n",
            "Epoch 238/500\n",
            "2/2 [==============================] - 0s 9ms/step - loss: 8.1982 - mae: 8.1982\n",
            "Epoch 239/500\n",
            "2/2 [==============================] - 0s 8ms/step - loss: 17.1523 - mae: 17.1523\n",
            "Epoch 240/500\n",
            "2/2 [==============================] - 0s 9ms/step - loss: 8.9628 - mae: 8.9628\n",
            "Epoch 241/500\n",
            "2/2 [==============================] - 0s 9ms/step - loss: 13.2533 - mae: 13.2533\n",
            "Epoch 242/500\n",
            "2/2 [==============================] - 0s 9ms/step - loss: 8.8720 - mae: 8.8720\n",
            "Epoch 243/500\n",
            "2/2 [==============================] - 0s 12ms/step - loss: 18.8466 - mae: 18.8466\n",
            "Epoch 244/500\n",
            "2/2 [==============================] - 0s 10ms/step - loss: 14.0791 - mae: 14.0791\n",
            "Epoch 245/500\n",
            "2/2 [==============================] - 0s 8ms/step - loss: 14.7035 - mae: 14.7035\n",
            "Epoch 246/500\n",
            "2/2 [==============================] - 0s 9ms/step - loss: 15.8402 - mae: 15.8402\n",
            "Epoch 247/500\n",
            "2/2 [==============================] - 0s 12ms/step - loss: 17.7275 - mae: 17.7275\n",
            "Epoch 248/500\n",
            "2/2 [==============================] - 0s 10ms/step - loss: 13.2836 - mae: 13.2836\n",
            "Epoch 249/500\n",
            "2/2 [==============================] - 0s 10ms/step - loss: 14.5503 - mae: 14.5503\n",
            "Epoch 250/500\n",
            "2/2 [==============================] - 0s 10ms/step - loss: 23.2885 - mae: 23.2885\n",
            "Epoch 251/500\n",
            "2/2 [==============================] - 0s 8ms/step - loss: 9.3345 - mae: 9.3345\n",
            "Epoch 252/500\n",
            "2/2 [==============================] - 0s 9ms/step - loss: 36.4591 - mae: 36.4591\n",
            "Epoch 253/500\n",
            "2/2 [==============================] - 0s 9ms/step - loss: 21.6895 - mae: 21.6895\n",
            "Epoch 254/500\n",
            "2/2 [==============================] - 0s 7ms/step - loss: 7.3242 - mae: 7.3242\n",
            "Epoch 255/500\n",
            "2/2 [==============================] - 0s 7ms/step - loss: 24.5382 - mae: 24.5382\n",
            "Epoch 256/500\n",
            "2/2 [==============================] - 0s 11ms/step - loss: 11.9780 - mae: 11.9780\n",
            "Epoch 257/500\n",
            "2/2 [==============================] - 0s 11ms/step - loss: 14.4892 - mae: 14.4892\n",
            "Epoch 258/500\n",
            "2/2 [==============================] - 0s 8ms/step - loss: 5.8645 - mae: 5.8645\n",
            "Epoch 259/500\n",
            "2/2 [==============================] - 0s 7ms/step - loss: 14.8558 - mae: 14.8558\n",
            "Epoch 260/500\n",
            "2/2 [==============================] - 0s 11ms/step - loss: 15.0014 - mae: 15.0014\n",
            "Epoch 261/500\n",
            "2/2 [==============================] - 0s 7ms/step - loss: 17.4981 - mae: 17.4981\n",
            "Epoch 262/500\n",
            "2/2 [==============================] - 0s 8ms/step - loss: 15.5356 - mae: 15.5356\n",
            "Epoch 263/500\n",
            "2/2 [==============================] - 0s 9ms/step - loss: 10.1180 - mae: 10.1180\n",
            "Epoch 264/500\n",
            "2/2 [==============================] - 0s 9ms/step - loss: 18.1561 - mae: 18.1561\n",
            "Epoch 265/500\n",
            "2/2 [==============================] - 0s 9ms/step - loss: 14.3883 - mae: 14.3883\n",
            "Epoch 266/500\n",
            "2/2 [==============================] - 0s 10ms/step - loss: 11.0674 - mae: 11.0674\n",
            "Epoch 267/500\n",
            "2/2 [==============================] - 0s 8ms/step - loss: 6.0331 - mae: 6.0331\n",
            "Epoch 268/500\n",
            "2/2 [==============================] - 0s 10ms/step - loss: 18.6914 - mae: 18.6914\n",
            "Epoch 269/500\n",
            "2/2 [==============================] - 0s 11ms/step - loss: 42.3385 - mae: 42.3385\n",
            "Epoch 270/500\n",
            "2/2 [==============================] - 0s 13ms/step - loss: 14.1298 - mae: 14.1298\n",
            "Epoch 271/500\n",
            "2/2 [==============================] - 0s 10ms/step - loss: 15.4553 - mae: 15.4553\n",
            "Epoch 272/500\n",
            "2/2 [==============================] - 0s 9ms/step - loss: 22.2771 - mae: 22.2771\n",
            "Epoch 273/500\n",
            "2/2 [==============================] - 0s 7ms/step - loss: 22.4945 - mae: 22.4945\n",
            "Epoch 274/500\n",
            "2/2 [==============================] - 0s 9ms/step - loss: 13.3679 - mae: 13.3679\n",
            "Epoch 275/500\n",
            "2/2 [==============================] - 0s 8ms/step - loss: 29.4399 - mae: 29.4399\n",
            "Epoch 276/500\n",
            "2/2 [==============================] - 0s 7ms/step - loss: 8.1319 - mae: 8.1319\n",
            "Epoch 277/500\n",
            "2/2 [==============================] - 0s 8ms/step - loss: 30.6431 - mae: 30.6431\n",
            "Epoch 278/500\n",
            "2/2 [==============================] - 0s 8ms/step - loss: 11.4872 - mae: 11.4872\n",
            "Epoch 279/500\n",
            "2/2 [==============================] - 0s 9ms/step - loss: 16.2264 - mae: 16.2264\n",
            "Epoch 280/500\n",
            "2/2 [==============================] - 0s 7ms/step - loss: 21.4952 - mae: 21.4952\n",
            "Epoch 281/500\n",
            "2/2 [==============================] - 0s 8ms/step - loss: 23.1455 - mae: 23.1455\n",
            "Epoch 282/500\n",
            "2/2 [==============================] - 0s 8ms/step - loss: 8.0715 - mae: 8.0715\n",
            "Epoch 283/500\n",
            "2/2 [==============================] - 0s 13ms/step - loss: 8.3372 - mae: 8.3372\n",
            "Epoch 284/500\n",
            "2/2 [==============================] - 0s 8ms/step - loss: 25.8939 - mae: 25.8939\n",
            "Epoch 285/500\n",
            "2/2 [==============================] - 0s 9ms/step - loss: 14.4254 - mae: 14.4254\n",
            "Epoch 286/500\n",
            "2/2 [==============================] - 0s 10ms/step - loss: 4.5493 - mae: 4.5493\n",
            "Epoch 287/500\n",
            "2/2 [==============================] - 0s 9ms/step - loss: 12.9617 - mae: 12.9617\n",
            "Epoch 288/500\n",
            "2/2 [==============================] - 0s 11ms/step - loss: 24.7257 - mae: 24.7257\n",
            "Epoch 289/500\n",
            "2/2 [==============================] - 0s 9ms/step - loss: 9.7238 - mae: 9.7238\n",
            "Epoch 290/500\n",
            "2/2 [==============================] - 0s 10ms/step - loss: 11.8093 - mae: 11.8093\n",
            "Epoch 291/500\n",
            "2/2 [==============================] - 0s 9ms/step - loss: 10.1084 - mae: 10.1084\n",
            "Epoch 292/500\n",
            "2/2 [==============================] - 0s 10ms/step - loss: 16.7205 - mae: 16.7205\n",
            "Epoch 293/500\n",
            "2/2 [==============================] - 0s 10ms/step - loss: 17.5388 - mae: 17.5388\n",
            "Epoch 294/500\n",
            "2/2 [==============================] - 0s 9ms/step - loss: 30.0503 - mae: 30.0503\n",
            "Epoch 295/500\n",
            "2/2 [==============================] - 0s 12ms/step - loss: 8.0654 - mae: 8.0654\n",
            "Epoch 296/500\n",
            "2/2 [==============================] - 0s 12ms/step - loss: 16.2628 - mae: 16.2628\n",
            "Epoch 297/500\n",
            "2/2 [==============================] - 0s 10ms/step - loss: 14.4796 - mae: 14.4796\n",
            "Epoch 298/500\n",
            "2/2 [==============================] - 0s 10ms/step - loss: 27.0008 - mae: 27.0008\n",
            "Epoch 299/500\n",
            "2/2 [==============================] - 0s 7ms/step - loss: 11.0716 - mae: 11.0716\n",
            "Epoch 300/500\n",
            "2/2 [==============================] - 0s 12ms/step - loss: 7.6891 - mae: 7.6891\n",
            "Epoch 301/500\n",
            "2/2 [==============================] - 0s 10ms/step - loss: 21.9769 - mae: 21.9769\n",
            "Epoch 302/500\n",
            "2/2 [==============================] - 0s 9ms/step - loss: 7.5687 - mae: 7.5687\n",
            "Epoch 303/500\n",
            "2/2 [==============================] - 0s 10ms/step - loss: 18.5885 - mae: 18.5885\n",
            "Epoch 304/500\n",
            "2/2 [==============================] - 0s 7ms/step - loss: 12.3827 - mae: 12.3827\n",
            "Epoch 305/500\n",
            "2/2 [==============================] - 0s 9ms/step - loss: 7.5830 - mae: 7.5830\n",
            "Epoch 306/500\n",
            "2/2 [==============================] - 0s 9ms/step - loss: 21.7458 - mae: 21.7458\n",
            "Epoch 307/500\n",
            "2/2 [==============================] - 0s 11ms/step - loss: 8.2844 - mae: 8.2844\n",
            "Epoch 308/500\n",
            "2/2 [==============================] - 0s 10ms/step - loss: 20.9379 - mae: 20.9379\n",
            "Epoch 309/500\n",
            "2/2 [==============================] - 0s 10ms/step - loss: 19.2489 - mae: 19.2489\n",
            "Epoch 310/500\n",
            "2/2 [==============================] - 0s 10ms/step - loss: 6.0359 - mae: 6.0359\n",
            "Epoch 311/500\n",
            "2/2 [==============================] - 0s 9ms/step - loss: 7.9005 - mae: 7.9005\n",
            "Epoch 312/500\n",
            "2/2 [==============================] - 0s 8ms/step - loss: 30.5675 - mae: 30.5675\n",
            "Epoch 313/500\n",
            "2/2 [==============================] - 0s 9ms/step - loss: 5.2193 - mae: 5.2193\n",
            "Epoch 314/500\n",
            "2/2 [==============================] - 0s 9ms/step - loss: 12.7115 - mae: 12.7115\n",
            "Epoch 315/500\n",
            "2/2 [==============================] - 0s 9ms/step - loss: 13.0545 - mae: 13.0545\n",
            "Epoch 316/500\n",
            "2/2 [==============================] - 0s 7ms/step - loss: 4.7971 - mae: 4.7971\n",
            "Epoch 317/500\n",
            "2/2 [==============================] - 0s 7ms/step - loss: 27.7268 - mae: 27.7268\n",
            "Epoch 318/500\n",
            "2/2 [==============================] - 0s 8ms/step - loss: 11.3851 - mae: 11.3851\n",
            "Epoch 319/500\n",
            "2/2 [==============================] - 0s 9ms/step - loss: 6.4113 - mae: 6.4113\n",
            "Epoch 320/500\n",
            "2/2 [==============================] - 0s 9ms/step - loss: 22.8715 - mae: 22.8715\n",
            "Epoch 321/500\n",
            "2/2 [==============================] - 0s 10ms/step - loss: 4.5619 - mae: 4.5619\n",
            "Epoch 322/500\n",
            "2/2 [==============================] - 0s 7ms/step - loss: 18.2123 - mae: 18.2123\n",
            "Epoch 323/500\n",
            "2/2 [==============================] - 0s 7ms/step - loss: 6.6816 - mae: 6.6816\n",
            "Epoch 324/500\n",
            "2/2 [==============================] - 0s 8ms/step - loss: 12.7850 - mae: 12.7850\n",
            "Epoch 325/500\n",
            "2/2 [==============================] - 0s 8ms/step - loss: 9.4774 - mae: 9.4774\n",
            "Epoch 326/500\n",
            "2/2 [==============================] - 0s 7ms/step - loss: 20.3748 - mae: 20.3748\n",
            "Epoch 327/500\n",
            "2/2 [==============================] - 0s 8ms/step - loss: 26.8767 - mae: 26.8767\n",
            "Epoch 328/500\n",
            "2/2 [==============================] - 0s 8ms/step - loss: 11.9821 - mae: 11.9821\n",
            "Epoch 329/500\n",
            "2/2 [==============================] - 0s 7ms/step - loss: 16.7656 - mae: 16.7656\n",
            "Epoch 330/500\n",
            "2/2 [==============================] - 0s 7ms/step - loss: 7.1672 - mae: 7.1672\n",
            "Epoch 331/500\n",
            "2/2 [==============================] - 0s 8ms/step - loss: 21.6133 - mae: 21.6133\n",
            "Epoch 332/500\n",
            "2/2 [==============================] - 0s 7ms/step - loss: 12.4276 - mae: 12.4276\n",
            "Epoch 333/500\n",
            "2/2 [==============================] - 0s 10ms/step - loss: 11.9402 - mae: 11.9402\n",
            "Epoch 334/500\n",
            "2/2 [==============================] - 0s 9ms/step - loss: 8.3530 - mae: 8.3530\n",
            "Epoch 335/500\n",
            "2/2 [==============================] - 0s 9ms/step - loss: 12.5097 - mae: 12.5097\n",
            "Epoch 336/500\n",
            "2/2 [==============================] - 0s 8ms/step - loss: 32.1993 - mae: 32.1993\n",
            "Epoch 337/500\n",
            "2/2 [==============================] - 0s 9ms/step - loss: 10.4380 - mae: 10.4380\n",
            "Epoch 338/500\n",
            "2/2 [==============================] - 0s 7ms/step - loss: 19.6565 - mae: 19.6565\n",
            "Epoch 339/500\n",
            "2/2 [==============================] - 0s 9ms/step - loss: 35.1599 - mae: 35.1599\n",
            "Epoch 340/500\n",
            "2/2 [==============================] - 0s 11ms/step - loss: 10.0576 - mae: 10.0576\n",
            "Epoch 341/500\n",
            "2/2 [==============================] - 0s 9ms/step - loss: 13.7286 - mae: 13.7286\n",
            "Epoch 342/500\n",
            "2/2 [==============================] - 0s 9ms/step - loss: 15.3853 - mae: 15.3853\n",
            "Epoch 343/500\n",
            "2/2 [==============================] - 0s 10ms/step - loss: 11.0261 - mae: 11.0261\n",
            "Epoch 344/500\n",
            "2/2 [==============================] - 0s 8ms/step - loss: 9.9801 - mae: 9.9801\n",
            "Epoch 345/500\n",
            "2/2 [==============================] - 0s 7ms/step - loss: 30.9946 - mae: 30.9946\n",
            "Epoch 346/500\n",
            "2/2 [==============================] - 0s 9ms/step - loss: 10.7018 - mae: 10.7018\n",
            "Epoch 347/500\n",
            "2/2 [==============================] - 0s 8ms/step - loss: 25.6900 - mae: 25.6900\n",
            "Epoch 348/500\n",
            "2/2 [==============================] - 0s 7ms/step - loss: 13.0016 - mae: 13.0016\n",
            "Epoch 349/500\n",
            "2/2 [==============================] - 0s 8ms/step - loss: 13.1532 - mae: 13.1532\n",
            "Epoch 350/500\n",
            "2/2 [==============================] - 0s 8ms/step - loss: 15.4501 - mae: 15.4501\n",
            "Epoch 351/500\n",
            "2/2 [==============================] - 0s 7ms/step - loss: 32.9443 - mae: 32.9443\n",
            "Epoch 352/500\n",
            "2/2 [==============================] - 0s 9ms/step - loss: 14.1990 - mae: 14.1990\n",
            "Epoch 353/500\n",
            "2/2 [==============================] - 0s 11ms/step - loss: 15.9165 - mae: 15.9165\n",
            "Epoch 354/500\n",
            "2/2 [==============================] - 0s 7ms/step - loss: 19.0762 - mae: 19.0762\n",
            "Epoch 355/500\n",
            "2/2 [==============================] - 0s 8ms/step - loss: 34.1633 - mae: 34.1633\n",
            "Epoch 356/500\n",
            "2/2 [==============================] - 0s 7ms/step - loss: 7.7420 - mae: 7.7420\n",
            "Epoch 357/500\n",
            "2/2 [==============================] - 0s 7ms/step - loss: 25.2235 - mae: 25.2235\n",
            "Epoch 358/500\n",
            "2/2 [==============================] - 0s 9ms/step - loss: 22.6983 - mae: 22.6983\n",
            "Epoch 359/500\n",
            "2/2 [==============================] - 0s 8ms/step - loss: 8.9282 - mae: 8.9282\n",
            "Epoch 360/500\n",
            "2/2 [==============================] - 0s 7ms/step - loss: 21.4915 - mae: 21.4915\n",
            "Epoch 361/500\n",
            "2/2 [==============================] - 0s 8ms/step - loss: 20.5721 - mae: 20.5721\n",
            "Epoch 362/500\n",
            "2/2 [==============================] - 0s 8ms/step - loss: 7.1274 - mae: 7.1274\n",
            "Epoch 363/500\n",
            "2/2 [==============================] - 0s 7ms/step - loss: 25.7446 - mae: 25.7446\n",
            "Epoch 364/500\n",
            "2/2 [==============================] - 0s 13ms/step - loss: 32.1437 - mae: 32.1437\n",
            "Epoch 365/500\n",
            "2/2 [==============================] - 0s 10ms/step - loss: 10.0251 - mae: 10.0251\n",
            "Epoch 366/500\n",
            "2/2 [==============================] - 0s 9ms/step - loss: 9.7209 - mae: 9.7209\n",
            "Epoch 367/500\n",
            "2/2 [==============================] - 0s 7ms/step - loss: 30.4479 - mae: 30.4479\n",
            "Epoch 368/500\n",
            "2/2 [==============================] - 0s 7ms/step - loss: 10.5572 - mae: 10.5572\n",
            "Epoch 369/500\n",
            "2/2 [==============================] - 0s 8ms/step - loss: 15.0468 - mae: 15.0468\n",
            "Epoch 370/500\n",
            "2/2 [==============================] - 0s 9ms/step - loss: 14.6978 - mae: 14.6978\n",
            "Epoch 371/500\n",
            "2/2 [==============================] - 0s 8ms/step - loss: 23.4425 - mae: 23.4425\n",
            "Epoch 372/500\n",
            "2/2 [==============================] - 0s 8ms/step - loss: 12.9965 - mae: 12.9965\n",
            "Epoch 373/500\n",
            "2/2 [==============================] - 0s 8ms/step - loss: 8.9217 - mae: 8.9217\n",
            "Epoch 374/500\n",
            "2/2 [==============================] - 0s 8ms/step - loss: 5.9048 - mae: 5.9048\n",
            "Epoch 375/500\n",
            "2/2 [==============================] - 0s 8ms/step - loss: 14.7978 - mae: 14.7978\n",
            "Epoch 376/500\n",
            "2/2 [==============================] - 0s 8ms/step - loss: 16.5470 - mae: 16.5470\n",
            "Epoch 377/500\n",
            "2/2 [==============================] - 0s 8ms/step - loss: 5.3819 - mae: 5.3819\n",
            "Epoch 378/500\n",
            "2/2 [==============================] - 0s 9ms/step - loss: 20.0174 - mae: 20.0174\n",
            "Epoch 379/500\n",
            "2/2 [==============================] - 0s 8ms/step - loss: 30.7624 - mae: 30.7624\n",
            "Epoch 380/500\n",
            "2/2 [==============================] - 0s 7ms/step - loss: 26.7691 - mae: 26.7691\n",
            "Epoch 381/500\n",
            "2/2 [==============================] - 0s 8ms/step - loss: 6.5640 - mae: 6.5640\n",
            "Epoch 382/500\n",
            "2/2 [==============================] - 0s 8ms/step - loss: 7.5933 - mae: 7.5933\n",
            "Epoch 383/500\n",
            "2/2 [==============================] - 0s 8ms/step - loss: 15.4272 - mae: 15.4272\n",
            "Epoch 384/500\n",
            "2/2 [==============================] - 0s 9ms/step - loss: 15.9646 - mae: 15.9646\n",
            "Epoch 385/500\n",
            "2/2 [==============================] - 0s 8ms/step - loss: 11.5997 - mae: 11.5997\n",
            "Epoch 386/500\n",
            "2/2 [==============================] - 0s 8ms/step - loss: 19.8734 - mae: 19.8734\n",
            "Epoch 387/500\n",
            "2/2 [==============================] - 0s 8ms/step - loss: 24.5623 - mae: 24.5623\n",
            "Epoch 388/500\n",
            "2/2 [==============================] - 0s 10ms/step - loss: 8.2614 - mae: 8.2614\n",
            "Epoch 389/500\n",
            "2/2 [==============================] - 0s 12ms/step - loss: 10.7705 - mae: 10.7705\n",
            "Epoch 390/500\n",
            "2/2 [==============================] - 0s 7ms/step - loss: 4.8359 - mae: 4.8359\n",
            "Epoch 391/500\n",
            "2/2 [==============================] - 0s 10ms/step - loss: 18.8563 - mae: 18.8563\n",
            "Epoch 392/500\n",
            "2/2 [==============================] - 0s 8ms/step - loss: 26.9276 - mae: 26.9276\n",
            "Epoch 393/500\n",
            "2/2 [==============================] - 0s 7ms/step - loss: 12.2833 - mae: 12.2833\n",
            "Epoch 394/500\n",
            "2/2 [==============================] - 0s 7ms/step - loss: 11.8637 - mae: 11.8637\n",
            "Epoch 395/500\n",
            "2/2 [==============================] - 0s 8ms/step - loss: 25.3291 - mae: 25.3291\n",
            "Epoch 396/500\n",
            "2/2 [==============================] - 0s 8ms/step - loss: 18.1901 - mae: 18.1901\n",
            "Epoch 397/500\n",
            "2/2 [==============================] - 0s 8ms/step - loss: 11.8390 - mae: 11.8390\n",
            "Epoch 398/500\n",
            "2/2 [==============================] - 0s 9ms/step - loss: 19.7076 - mae: 19.7076\n",
            "Epoch 399/500\n",
            "2/2 [==============================] - 0s 6ms/step - loss: 24.8466 - mae: 24.8466\n",
            "Epoch 400/500\n",
            "2/2 [==============================] - 0s 7ms/step - loss: 14.5390 - mae: 14.5390\n",
            "Epoch 401/500\n",
            "2/2 [==============================] - 0s 9ms/step - loss: 14.5678 - mae: 14.5678\n",
            "Epoch 402/500\n",
            "2/2 [==============================] - 0s 8ms/step - loss: 24.0324 - mae: 24.0324\n",
            "Epoch 403/500\n",
            "2/2 [==============================] - 0s 8ms/step - loss: 16.9334 - mae: 16.9334\n",
            "Epoch 404/500\n",
            "2/2 [==============================] - 0s 7ms/step - loss: 9.8419 - mae: 9.8419\n",
            "Epoch 405/500\n",
            "2/2 [==============================] - 0s 7ms/step - loss: 6.9943 - mae: 6.9943\n",
            "Epoch 406/500\n",
            "2/2 [==============================] - 0s 7ms/step - loss: 20.2069 - mae: 20.2069\n",
            "Epoch 407/500\n",
            "2/2 [==============================] - 0s 8ms/step - loss: 9.1519 - mae: 9.1519\n",
            "Epoch 408/500\n",
            "2/2 [==============================] - 0s 8ms/step - loss: 21.9566 - mae: 21.9566\n",
            "Epoch 409/500\n",
            "2/2 [==============================] - 0s 7ms/step - loss: 27.6892 - mae: 27.6892\n",
            "Epoch 410/500\n",
            "2/2 [==============================] - 0s 7ms/step - loss: 10.8141 - mae: 10.8141\n",
            "Epoch 411/500\n",
            "2/2 [==============================] - 0s 7ms/step - loss: 14.9048 - mae: 14.9048\n",
            "Epoch 412/500\n",
            "2/2 [==============================] - 0s 7ms/step - loss: 21.7696 - mae: 21.7696\n",
            "Epoch 413/500\n",
            "2/2 [==============================] - 0s 7ms/step - loss: 12.6039 - mae: 12.6039\n",
            "Epoch 414/500\n",
            "2/2 [==============================] - 0s 7ms/step - loss: 6.1469 - mae: 6.1469\n",
            "Epoch 415/500\n",
            "2/2 [==============================] - 0s 7ms/step - loss: 13.2436 - mae: 13.2436\n",
            "Epoch 416/500\n",
            "2/2 [==============================] - 0s 7ms/step - loss: 27.4694 - mae: 27.4694\n",
            "Epoch 417/500\n",
            "2/2 [==============================] - 0s 8ms/step - loss: 10.5385 - mae: 10.5385\n",
            "Epoch 418/500\n",
            "2/2 [==============================] - 0s 8ms/step - loss: 12.8779 - mae: 12.8779\n",
            "Epoch 419/500\n",
            "2/2 [==============================] - 0s 7ms/step - loss: 15.9360 - mae: 15.9360\n",
            "Epoch 420/500\n",
            "2/2 [==============================] - 0s 14ms/step - loss: 24.8265 - mae: 24.8265\n",
            "Epoch 421/500\n",
            "2/2 [==============================] - 0s 7ms/step - loss: 17.2099 - mae: 17.2099\n",
            "Epoch 422/500\n",
            "2/2 [==============================] - 0s 13ms/step - loss: 7.8946 - mae: 7.8946\n",
            "Epoch 423/500\n",
            "2/2 [==============================] - 0s 8ms/step - loss: 25.4688 - mae: 25.4688\n",
            "Epoch 424/500\n",
            "2/2 [==============================] - 0s 8ms/step - loss: 14.9051 - mae: 14.9051\n",
            "Epoch 425/500\n",
            "2/2 [==============================] - 0s 7ms/step - loss: 7.1789 - mae: 7.1789\n",
            "Epoch 426/500\n",
            "2/2 [==============================] - 0s 8ms/step - loss: 20.0792 - mae: 20.0792\n",
            "Epoch 427/500\n",
            "2/2 [==============================] - 0s 7ms/step - loss: 6.3223 - mae: 6.3223\n",
            "Epoch 428/500\n",
            "2/2 [==============================] - 0s 7ms/step - loss: 12.5847 - mae: 12.5847\n",
            "Epoch 429/500\n",
            "2/2 [==============================] - 0s 8ms/step - loss: 12.0047 - mae: 12.0047\n",
            "Epoch 430/500\n",
            "2/2 [==============================] - 0s 8ms/step - loss: 10.7393 - mae: 10.7393\n",
            "Epoch 431/500\n",
            "2/2 [==============================] - 0s 7ms/step - loss: 12.3004 - mae: 12.3004\n",
            "Epoch 432/500\n",
            "2/2 [==============================] - 0s 8ms/step - loss: 7.8037 - mae: 7.8037\n",
            "Epoch 433/500\n",
            "2/2 [==============================] - 0s 9ms/step - loss: 15.0207 - mae: 15.0207\n",
            "Epoch 434/500\n",
            "2/2 [==============================] - 0s 8ms/step - loss: 18.2200 - mae: 18.2200\n",
            "Epoch 435/500\n",
            "2/2 [==============================] - 0s 7ms/step - loss: 9.0273 - mae: 9.0273\n",
            "Epoch 436/500\n",
            "2/2 [==============================] - 0s 8ms/step - loss: 28.2592 - mae: 28.2592\n",
            "Epoch 437/500\n",
            "2/2 [==============================] - 0s 9ms/step - loss: 4.6266 - mae: 4.6266\n",
            "Epoch 438/500\n",
            "2/2 [==============================] - 0s 8ms/step - loss: 14.2058 - mae: 14.2058\n",
            "Epoch 439/500\n",
            "2/2 [==============================] - 0s 8ms/step - loss: 32.5226 - mae: 32.5226\n",
            "Epoch 440/500\n",
            "2/2 [==============================] - 0s 8ms/step - loss: 13.2522 - mae: 13.2522\n",
            "Epoch 441/500\n",
            "2/2 [==============================] - 0s 8ms/step - loss: 16.3329 - mae: 16.3329\n",
            "Epoch 442/500\n",
            "2/2 [==============================] - 0s 7ms/step - loss: 19.8250 - mae: 19.8250\n",
            "Epoch 443/500\n",
            "2/2 [==============================] - 0s 7ms/step - loss: 24.1783 - mae: 24.1783\n",
            "Epoch 444/500\n",
            "2/2 [==============================] - 0s 8ms/step - loss: 11.4942 - mae: 11.4942\n",
            "Epoch 445/500\n",
            "2/2 [==============================] - 0s 8ms/step - loss: 14.8054 - mae: 14.8054\n",
            "Epoch 446/500\n",
            "2/2 [==============================] - 0s 11ms/step - loss: 17.8330 - mae: 17.8330\n",
            "Epoch 447/500\n",
            "2/2 [==============================] - 0s 9ms/step - loss: 5.6986 - mae: 5.6986\n",
            "Epoch 448/500\n",
            "2/2 [==============================] - 0s 8ms/step - loss: 9.5940 - mae: 9.5940\n",
            "Epoch 449/500\n",
            "2/2 [==============================] - 0s 8ms/step - loss: 14.2389 - mae: 14.2389\n",
            "Epoch 450/500\n",
            "2/2 [==============================] - 0s 9ms/step - loss: 17.0117 - mae: 17.0117\n",
            "Epoch 451/500\n",
            "2/2 [==============================] - 0s 7ms/step - loss: 14.4082 - mae: 14.4082\n",
            "Epoch 452/500\n",
            "2/2 [==============================] - 0s 8ms/step - loss: 30.8187 - mae: 30.8187\n",
            "Epoch 453/500\n",
            "2/2 [==============================] - 0s 8ms/step - loss: 9.1563 - mae: 9.1563\n",
            "Epoch 454/500\n",
            "2/2 [==============================] - 0s 8ms/step - loss: 27.1840 - mae: 27.1840\n",
            "Epoch 455/500\n",
            "2/2 [==============================] - 0s 8ms/step - loss: 11.4483 - mae: 11.4483\n",
            "Epoch 456/500\n",
            "2/2 [==============================] - 0s 7ms/step - loss: 15.5795 - mae: 15.5795\n",
            "Epoch 457/500\n",
            "2/2 [==============================] - 0s 8ms/step - loss: 19.4980 - mae: 19.4980\n",
            "Epoch 458/500\n",
            "2/2 [==============================] - 0s 7ms/step - loss: 22.5499 - mae: 22.5499\n",
            "Epoch 459/500\n",
            "2/2 [==============================] - 0s 7ms/step - loss: 16.0238 - mae: 16.0238\n",
            "Epoch 460/500\n",
            "2/2 [==============================] - 0s 8ms/step - loss: 5.4259 - mae: 5.4259\n",
            "Epoch 461/500\n",
            "2/2 [==============================] - 0s 7ms/step - loss: 17.5909 - mae: 17.5909\n",
            "Epoch 462/500\n",
            "2/2 [==============================] - 0s 7ms/step - loss: 14.2624 - mae: 14.2624\n",
            "Epoch 463/500\n",
            "2/2 [==============================] - 0s 8ms/step - loss: 21.3822 - mae: 21.3822\n",
            "Epoch 464/500\n",
            "2/2 [==============================] - 0s 8ms/step - loss: 22.9592 - mae: 22.9592\n",
            "Epoch 465/500\n",
            "2/2 [==============================] - 0s 7ms/step - loss: 12.4484 - mae: 12.4484\n",
            "Epoch 466/500\n",
            "2/2 [==============================] - 0s 8ms/step - loss: 9.4111 - mae: 9.4111\n",
            "Epoch 467/500\n",
            "2/2 [==============================] - 0s 8ms/step - loss: 21.5520 - mae: 21.5520\n",
            "Epoch 468/500\n",
            "2/2 [==============================] - 0s 8ms/step - loss: 23.8195 - mae: 23.8195\n",
            "Epoch 469/500\n",
            "2/2 [==============================] - 0s 8ms/step - loss: 21.2333 - mae: 21.2333\n",
            "Epoch 470/500\n",
            "2/2 [==============================] - 0s 8ms/step - loss: 9.7150 - mae: 9.7150\n",
            "Epoch 471/500\n",
            "2/2 [==============================] - 0s 8ms/step - loss: 15.9385 - mae: 15.9385\n",
            "Epoch 472/500\n",
            "2/2 [==============================] - 0s 8ms/step - loss: 14.9388 - mae: 14.9388\n",
            "Epoch 473/500\n",
            "2/2 [==============================] - 0s 7ms/step - loss: 18.3056 - mae: 18.3056\n",
            "Epoch 474/500\n",
            "2/2 [==============================] - 0s 7ms/step - loss: 41.9222 - mae: 41.9222\n",
            "Epoch 475/500\n",
            "2/2 [==============================] - 0s 7ms/step - loss: 17.8537 - mae: 17.8537\n",
            "Epoch 476/500\n",
            "2/2 [==============================] - 0s 7ms/step - loss: 13.2412 - mae: 13.2412\n",
            "Epoch 477/500\n",
            "2/2 [==============================] - 0s 7ms/step - loss: 29.3047 - mae: 29.3047\n",
            "Epoch 478/500\n",
            "2/2 [==============================] - 0s 7ms/step - loss: 5.8126 - mae: 5.8126\n",
            "Epoch 479/500\n",
            "2/2 [==============================] - 0s 8ms/step - loss: 7.1873 - mae: 7.1873\n",
            "Epoch 480/500\n",
            "2/2 [==============================] - 0s 10ms/step - loss: 19.1874 - mae: 19.1874\n",
            "Epoch 481/500\n",
            "2/2 [==============================] - 0s 9ms/step - loss: 13.1660 - mae: 13.1660\n",
            "Epoch 482/500\n",
            "2/2 [==============================] - 0s 7ms/step - loss: 6.9194 - mae: 6.9194\n",
            "Epoch 483/500\n",
            "2/2 [==============================] - 0s 7ms/step - loss: 13.2874 - mae: 13.2874\n",
            "Epoch 484/500\n",
            "2/2 [==============================] - 0s 11ms/step - loss: 14.1956 - mae: 14.1956\n",
            "Epoch 485/500\n",
            "2/2 [==============================] - 0s 7ms/step - loss: 9.3124 - mae: 9.3124\n",
            "Epoch 486/500\n",
            "2/2 [==============================] - 0s 8ms/step - loss: 18.4624 - mae: 18.4624\n",
            "Epoch 487/500\n",
            "2/2 [==============================] - 0s 8ms/step - loss: 6.3073 - mae: 6.3073\n",
            "Epoch 488/500\n",
            "2/2 [==============================] - 0s 8ms/step - loss: 29.6204 - mae: 29.6204\n",
            "Epoch 489/500\n",
            "2/2 [==============================] - 0s 8ms/step - loss: 12.7368 - mae: 12.7368\n",
            "Epoch 490/500\n",
            "2/2 [==============================] - 0s 8ms/step - loss: 13.1478 - mae: 13.1478\n",
            "Epoch 491/500\n",
            "2/2 [==============================] - 0s 8ms/step - loss: 24.4358 - mae: 24.4358\n",
            "Epoch 492/500\n",
            "2/2 [==============================] - 0s 8ms/step - loss: 18.4669 - mae: 18.4669\n",
            "Epoch 493/500\n",
            "2/2 [==============================] - 0s 8ms/step - loss: 4.7985 - mae: 4.7985\n",
            "Epoch 494/500\n",
            "2/2 [==============================] - 0s 8ms/step - loss: 11.8442 - mae: 11.8442\n",
            "Epoch 495/500\n",
            "2/2 [==============================] - 0s 8ms/step - loss: 13.7999 - mae: 13.7999\n",
            "Epoch 496/500\n",
            "2/2 [==============================] - 0s 7ms/step - loss: 12.0841 - mae: 12.0841\n",
            "Epoch 497/500\n",
            "2/2 [==============================] - 0s 7ms/step - loss: 17.1146 - mae: 17.1146\n",
            "Epoch 498/500\n",
            "2/2 [==============================] - 0s 8ms/step - loss: 9.1361 - mae: 9.1361\n",
            "Epoch 499/500\n",
            "2/2 [==============================] - 0s 7ms/step - loss: 20.6968 - mae: 20.6968\n",
            "Epoch 500/500\n",
            "2/2 [==============================] - 0s 7ms/step - loss: 14.3735 - mae: 14.3735\n"
          ]
        },
        {
          "output_type": "execute_result",
          "data": {
            "text/plain": [
              "<keras.callbacks.History at 0x7f06747652e0>"
            ]
          },
          "metadata": {},
          "execution_count": 53
        }
      ]
    },
    {
      "cell_type": "code",
      "source": [
        "# Make and plot predictions of model_3\n",
        "y_preds_3 = model_3.predict(X_test)\n",
        "plot_predictions(predictions=y_preds_3)"
      ],
      "metadata": {
        "colab": {
          "base_uri": "https://localhost:8080/",
          "height": 446
        },
        "id": "_zuMV69ZtTwv",
        "outputId": "77cc2a0d-142c-4c88-8084-b28c8e313ecb"
      },
      "execution_count": 54,
      "outputs": [
        {
          "output_type": "stream",
          "name": "stdout",
          "text": [
            "1/1 [==============================] - 0s 61ms/step\n"
          ]
        },
        {
          "output_type": "display_data",
          "data": {
            "text/plain": [
              "<Figure size 720x504 with 1 Axes>"
            ],
            "image/png": "[encoded data removed]"
          },
          "metadata": {
            "needs_background": "light"
          }
        }
      ]
    },
    {
      "cell_type": "code",
      "source": [
        "# Calculate model_3 evaluation metrics\n",
        "mae_3 = mae(y_test, y_preds_3)\n",
        "mse_3 = mse(y_test, y_preds_3)\n",
        "mae_3, mse_3"
      ],
      "metadata": {
        "colab": {
          "base_uri": "https://localhost:8080/"
        },
        "id": "l-aWXScktHfe",
        "outputId": "1de2ad1f-6564-41c8-c491-ead7f2ce6c9e"
      },
      "execution_count": 55,
      "outputs": [
        {
          "output_type": "execute_result",
          "data": {
            "text/plain": [
              "(<tf.Tensor: shape=(), dtype=float32, numpy=67.90025>,\n",
              " <tf.Tensor: shape=(), dtype=float32, numpy=4695.0454>)"
            ]
          },
          "metadata": {},
          "execution_count": 55
        }
      ]
    },
    {
      "cell_type": "markdown",
      "source": [
        "🔑 **Note:** You want to start with small experiments (small models) and make sure they work and then increase their scale when necessary."
      ],
      "metadata": {
        "id": "etlZvTMwu7Cj"
      }
    },
    {
      "cell_type": "markdown",
      "source": [
        "### Comparing the results of our experiments\n",
        "\n",
        "We've run a few experiments, let's compare the results"
      ],
      "metadata": {
        "id": "YkDRbla3tYw3"
      }
    },
    {
      "cell_type": "code",
      "source": [
        "# Let's compare our model's results using a pandas DataFrame\n",
        "import pandas as pd\n",
        "\n",
        "model_results = [[\"model_1\", mae_1.numpy(), mse_1.numpy()],\n",
        "                 [\"model_2\", mae_2.numpy(), mse_2.numpy()],\n",
        "                 [\"model_3\", mae_3.numpy(), mse_3.numpy()]]\n",
        "\n",
        "all_results = pd.DataFrame(model_results, columns=[\"model\", \"mae\", \"mse\"])\n",
        "all_results"
      ],
      "metadata": {
        "colab": {
          "base_uri": "https://localhost:8080/",
          "height": 143
        },
        "id": "BlpgMWL0uvhH",
        "outputId": "3a8f903f-585a-42f9-ba99-b59729ca3b1d"
      },
      "execution_count": 56,
      "outputs": [
        {
          "output_type": "execute_result",
          "data": {
            "text/plain": [
              "     model        mae          mse\n",
              "0  model_1  30.640097   949.253296\n",
              "1  model_2   9.963391   106.486252\n",
              "2  model_3  67.900253  4695.045410"
            ],
            "text/html": [
              "\n",
              "  <div id=\"df-d0eae645-6d1e-49d8-badf-58b2de39b59b\">\n",
              "    <div class=\"colab-df-container\">\n",
              "      <div>\n",
              "<style scoped>\n",
              "    .dataframe tbody tr th:only-of-type {\n",
              "        vertical-align: middle;\n",
              "    }\n",
              "\n",
              "    .dataframe tbody tr th {\n",
              "        vertical-align: top;\n",
              "    }\n",
              "\n",
              "    .dataframe thead th {\n",
              "        text-align: right;\n",
              "    }\n",
              "</style>\n",
              "<table border=\"1\" class=\"dataframe\">\n",
              "  <thead>\n",
              "    <tr style=\"text-align: right;\">\n",
              "      <th></th>\n",
              "      <th>model</th>\n",
              "      <th>mae</th>\n",
              "      <th>mse</th>\n",
              "    </tr>\n",
              "  </thead>\n",
              "  <tbody>\n",
              "    <tr>\n",
              "      <th>0</th>\n",
              "      <td>model_1</td>\n",
              "      <td>30.640097</td>\n",
              "      <td>949.253296</td>\n",
              "    </tr>\n",
              "    <tr>\n",
              "      <th>1</th>\n",
              "      <td>model_2</td>\n",
              "      <td>9.963391</td>\n",
              "      <td>106.486252</td>\n",
              "    </tr>\n",
              "    <tr>\n",
              "      <th>2</th>\n",
              "      <td>model_3</td>\n",
              "      <td>67.900253</td>\n",
              "      <td>4695.045410</td>\n",
              "    </tr>\n",
              "  </tbody>\n",
              "</table>\n",
              "</div>\n",
              "      <button class=\"colab-df-convert\" onclick=\"convertToInteractive('df-d0eae645-6d1e-49d8-badf-58b2de39b59b')\"\n",
              "              title=\"Convert this dataframe to an interactive table.\"\n",
              "              style=\"display:none;\">\n",
              "        \n",
              "  <svg xmlns=\"http://www.w3.org/2000/svg\" height=\"24px\"viewBox=\"0 0 24 24\"\n",
              "       width=\"24px\">\n",
              "    <path d=\"M0 0h24v24H0V0z\" fill=\"none\"/>\n",
              "    <path d=\"M18.56 5.44l.94 2.06.94-2.06 2.06-.94-2.06-.94-.94-2.06-.94 2.06-2.06.94zm-11 1L8.5 8.5l.94-2.06 2.06-.94-2.06-.94L8.5 2.5l-.94 2.06-2.06.94zm10 10l.94 2.06.94-2.06 2.06-.94-2.06-.94-.94-2.06-.94 2.06-2.06.94z\"/><path d=\"M17.41 7.96l-1.37-1.37c-.4-.4-.92-.59-1.43-.59-.52 0-1.04.2-1.43.59L10.3 9.45l-7.72 7.72c-.78.78-.78 2.05 0 2.83L4 21.41c.39.39.9.59 1.41.59.51 0 1.02-.2 1.41-.59l7.78-7.78 2.81-2.81c.8-.78.8-2.07 0-2.86zM5.41 20L4 18.59l7.72-7.72 1.47 1.35L5.41 20z\"/>\n",
              "  </svg>\n",
              "      </button>\n",
              "      \n",
              "  <style>\n",
              "    .colab-df-container {\n",
              "      display:flex;\n",
              "      flex-wrap:wrap;\n",
              "      gap: 12px;\n",
              "    }\n",
              "\n",
              "    .colab-df-convert {\n",
              "      background-color: #E8F0FE;\n",
              "      border: none;\n",
              "      border-radius: 50%;\n",
              "      cursor: pointer;\n",
              "      display: none;\n",
              "      fill: #1967D2;\n",
              "      height: 32px;\n",
              "      padding: 0 0 0 0;\n",
              "      width: 32px;\n",
              "    }\n",
              "\n",
              "    .colab-df-convert:hover {\n",
              "      background-color: #E2EBFA;\n",
              "      box-shadow: 0px 1px 2px rgba(60, 64, 67, 0.3), 0px 1px 3px 1px rgba(60, 64, 67, 0.15);\n",
              "      fill: #174EA6;\n",
              "    }\n",
              "\n",
              "    [theme=dark] .colab-df-convert {\n",
              "      background-color: #3B4455;\n",
              "      fill: #D2E3FC;\n",
              "    }\n",
              "\n",
              "    [theme=dark] .colab-df-convert:hover {\n",
              "      background-color: #434B5C;\n",
              "      box-shadow: 0px 1px 3px 1px rgba(0, 0, 0, 0.15);\n",
              "      filter: drop-shadow(0px 1px 2px rgba(0, 0, 0, 0.3));\n",
              "      fill: #FFFFFF;\n",
              "    }\n",
              "  </style>\n",
              "\n",
              "      <script>\n",
              "        const buttonEl =\n",
              "          document.querySelector('#df-d0eae645-6d1e-49d8-badf-58b2de39b59b button.colab-df-convert');\n",
              "        buttonEl.style.display =\n",
              "          google.colab.kernel.accessAllowed ? 'block' : 'none';\n",
              "\n",
              "        async function convertToInteractive(key) {\n",
              "          const element = document.querySelector('#df-d0eae645-6d1e-49d8-badf-58b2de39b59b');\n",
              "          const dataTable =\n",
              "            await google.colab.kernel.invokeFunction('convertToInteractive',\n",
              "                                                     [key], {});\n",
              "          if (!dataTable) return;\n",
              "\n",
              "          const docLinkHtml = 'Like what you see? Visit the ' +\n",
              "            '<a target=\"_blank\" href=https://colab.research.google.com/notebooks/data_table.ipynb>data table notebook</a>'\n",
              "            + ' to learn more about interactive tables.';\n",
              "          element.innerHTML = '';\n",
              "          dataTable['output_type'] = 'display_data';\n",
              "          await google.colab.output.renderOutput(dataTable, element);\n",
              "          const docLink = document.createElement('div');\n",
              "          docLink.innerHTML = docLinkHtml;\n",
              "          element.appendChild(docLink);\n",
              "        }\n",
              "      </script>\n",
              "    </div>\n",
              "  </div>\n",
              "  "
            ]
          },
          "metadata": {},
          "execution_count": 56
        }
      ]
    },
    {
      "cell_type": "markdown",
      "source": [
        "Looke like `model_2` performed the best"
      ],
      "metadata": {
        "id": "MBx8uyR2wQjJ"
      }
    },
    {
      "cell_type": "code",
      "source": [
        "model_2.summary()"
      ],
      "metadata": {
        "colab": {
          "base_uri": "https://localhost:8080/"
        },
        "id": "W7y22LFFvyZ-",
        "outputId": "6944b1b8-3496-46e7-8228-11e9bd210df6"
      },
      "execution_count": 57,
      "outputs": [
        {
          "output_type": "stream",
          "name": "stdout",
          "text": [
            "Model: \"sequential_5\"\n",
            "_________________________________________________________________\n",
            " Layer (type)                Output Shape              Param #   \n",
            "=================================================================\n",
            " dense_6 (Dense)             (None, 10)                20        \n",
            "                                                                 \n",
            " dense_7 (Dense)             (None, 1)                 11        \n",
            "                                                                 \n",
            "=================================================================\n",
            "Total params: 31\n",
            "Trainable params: 31\n",
            "Non-trainable params: 0\n",
            "_________________________________________________________________\n"
          ]
        }
      ]
    },
    {
      "cell_type": "markdown",
      "source": [
        "> 🔑 **Note:** One of your main goals should be to minimize the time between your experiments. The more experiments you do, the more things you'll figure out which don't work; and in turn, get close to figuing out what does work. Remember the machine learning practitioner's motto \"experiment, experiment, experiment\""
      ],
      "metadata": {
        "id": "HaAe0TjiwEi1"
      }
    },
    {
      "cell_type": "markdown",
      "source": [
        "### Tracking your experiments\n",
        "\n",
        "One really good habit in machine learning modelling is to track the results of your experiments.\n",
        "\n",
        "And when doing so, it can be tedious if you're running lots of experiments.\n",
        "\n",
        "Luckily, there are tools to help us!\n",
        "\n",
        "📖 Resource: As you build more models, you'll want to look into using:\n",
        "\n",
        "* TensorBoard - a component of TensorFlow library to help track modelling experiments (we'll see this one later)\n",
        "* Weights & Biases - wandb.com a tool for tracking all kinds of machine learning experiments (plugs straight into TensorBoard)"
      ],
      "metadata": {
        "id": "rCdJfVXSxHbI"
      }
    },
    {
      "cell_type": "markdown",
      "source": [
        "## Saving our models\n",
        "\n",
        "Saving our models allows us to use them outside of Google Colab (or wherever they were trained) such as in a web app or a mobile app.\n",
        "\n",
        "There are two main formats we can save our model's to:\n",
        "\n",
        "1. The SavedModel format\n",
        "2. The HDF5 format"
      ],
      "metadata": {
        "id": "a5fx0NS_xt2B"
      }
    },
    {
      "cell_type": "code",
      "source": [
        "# Save model to the SavedModel format\n",
        "model_2.save(\"best_model_SavedModel_format\")"
      ],
      "metadata": {
        "colab": {
          "base_uri": "https://localhost:8080/"
        },
        "id": "hE7Mc_3jyg5p",
        "outputId": "18301a2d-7352-4d24-8d4d-2c00ae2319b8"
      },
      "execution_count": 58,
      "outputs": [
        {
          "output_type": "stream",
          "name": "stderr",
          "text": [
            "WARNING:absl:Found untraced functions such as _update_step_xla while saving (showing 1 of 1). These functions will not be directly callable after loading.\n"
          ]
        }
      ]
    },
    {
      "cell_type": "code",
      "source": [
        "# Save model to the HDF5 format\n",
        "model_2.save(\"best_model_HDF5_format.h5\")"
      ],
      "metadata": {
        "id": "pHqmYou8ysVa"
      },
      "execution_count": 59,
      "outputs": []
    },
    {
      "cell_type": "markdown",
      "source": [
        "## Loading in  a saved model\n",
        "\n"
      ],
      "metadata": {
        "id": "nc_9fnafzhQW"
      }
    },
    {
      "cell_type": "code",
      "source": [
        "# Load in the SavedModel format model\n",
        "loaded_SavedModel_format = tf.keras.models.load_model(\"/content/best_model_SavedModel_format\")\n",
        "loaded_SavedModel_format.summary()\n"
      ],
      "metadata": {
        "colab": {
          "base_uri": "https://localhost:8080/"
        },
        "id": "w3GHXmcuCsLU",
        "outputId": "f045a104-d802-4ca0-81a0-4b5e8eaa6c7f"
      },
      "execution_count": 60,
      "outputs": [
        {
          "output_type": "stream",
          "name": "stdout",
          "text": [
            "Model: \"sequential_5\"\n",
            "_________________________________________________________________\n",
            " Layer (type)                Output Shape              Param #   \n",
            "=================================================================\n",
            " dense_6 (Dense)             (None, 10)                20        \n",
            "                                                                 \n",
            " dense_7 (Dense)             (None, 1)                 11        \n",
            "                                                                 \n",
            "=================================================================\n",
            "Total params: 31\n",
            "Trainable params: 31\n",
            "Non-trainable params: 0\n",
            "_________________________________________________________________\n"
          ]
        }
      ]
    },
    {
      "cell_type": "code",
      "source": [
        "# Compare model_2 predictions with SavedModel format model predictions\n",
        "model_2_preds = model_2.predict(X_test)\n",
        "loaded_SavedModel_format_preds = loaded_SavedModel_format.predict(X_test)\n",
        "model_2_preds == loaded_SavedModel_format_preds"
      ],
      "metadata": {
        "colab": {
          "base_uri": "https://localhost:8080/"
        },
        "id": "Bg7YvxYnC7Fm",
        "outputId": "8ee05d06-0824-4e98-a91d-ee44f6c17186"
      },
      "execution_count": 63,
      "outputs": [
        {
          "output_type": "stream",
          "name": "stdout",
          "text": [
            "1/1 [==============================] - 0s 46ms/step\n",
            "1/1 [==============================] - 0s 50ms/step\n"
          ]
        },
        {
          "output_type": "execute_result",
          "data": {
            "text/plain": [
              "array([[ True],\n",
              "       [ True],\n",
              "       [ True],\n",
              "       [ True],\n",
              "       [ True],\n",
              "       [ True],\n",
              "       [ True],\n",
              "       [ True],\n",
              "       [ True],\n",
              "       [ True]])"
            ]
          },
          "metadata": {},
          "execution_count": 63
        }
      ]
    },
    {
      "cell_type": "code",
      "source": [
        "# Load in a model using the .h5 format\n",
        "loaded_h5_model = tf.keras.models.load_model(\"/content/best_model_HDF5_format.h5\")\n",
        "loaded_h5_model.summary()"
      ],
      "metadata": {
        "colab": {
          "base_uri": "https://localhost:8080/"
        },
        "id": "gGJC8F8UEOuq",
        "outputId": "98b91589-8407-4dc5-aafa-2f3ef89d5806"
      },
      "execution_count": 65,
      "outputs": [
        {
          "output_type": "stream",
          "name": "stdout",
          "text": [
            "Model: \"sequential_5\"\n",
            "_________________________________________________________________\n",
            " Layer (type)                Output Shape              Param #   \n",
            "=================================================================\n",
            " dense_6 (Dense)             (None, 10)                20        \n",
            "                                                                 \n",
            " dense_7 (Dense)             (None, 1)                 11        \n",
            "                                                                 \n",
            "=================================================================\n",
            "Total params: 31\n",
            "Trainable params: 31\n",
            "Non-trainable params: 0\n",
            "_________________________________________________________________\n"
          ]
        }
      ]
    },
    {
      "cell_type": "code",
      "source": [
        "# Check to see if loaded .h5 model predictions match model_2\n",
        "model_2_preds = model_2.predict(X_test)\n",
        "loaded_h5_model_preds = loaded_h5_model.predict(X_test)\n",
        "model_2_preds == loaded_h5_model_preds"
      ],
      "metadata": {
        "colab": {
          "base_uri": "https://localhost:8080/"
        },
        "id": "sxmYApm2EgBN",
        "outputId": "f17aff8e-7e6f-4fcc-b387-624341e48a97"
      },
      "execution_count": 66,
      "outputs": [
        {
          "output_type": "stream",
          "name": "stdout",
          "text": [
            "1/1 [==============================] - 0s 27ms/step\n",
            "1/1 [==============================] - 0s 61ms/step\n"
          ]
        },
        {
          "output_type": "execute_result",
          "data": {
            "text/plain": [
              "array([[ True],\n",
              "       [ True],\n",
              "       [ True],\n",
              "       [ True],\n",
              "       [ True],\n",
              "       [ True],\n",
              "       [ True],\n",
              "       [ True],\n",
              "       [ True],\n",
              "       [ True]])"
            ]
          },
          "metadata": {},
          "execution_count": 66
        }
      ]
    },
    {
      "cell_type": "code",
      "source": [
        "# Compare the mae of model_2_preds and SavedModel preds\n",
        "mae(y_true=y_test, y_pred=model_2_preds) == mae(y_true=y_test, y_pred=loaded_SavedModel_format_preds)"
      ],
      "metadata": {
        "colab": {
          "base_uri": "https://localhost:8080/"
        },
        "id": "_4xeGYOrDk1T",
        "outputId": "e2ff7d1f-1f46-487d-a28c-76e6cd8ee4a7"
      },
      "execution_count": 64,
      "outputs": [
        {
          "output_type": "execute_result",
          "data": {
            "text/plain": [
              "<tf.Tensor: shape=(), dtype=bool, numpy=True>"
            ]
          },
          "metadata": {},
          "execution_count": 64
        }
      ]
    },
    {
      "cell_type": "markdown",
      "source": [
        "## Download a model (or any other file) from Google Colab\n",
        "\n",
        "If you want to download your files from Google Colab:\n",
        "\n",
        "1. Right click and download from Colab\n",
        "2. Use code (see the cell below).\n",
        "3. Save it to Google Drive by connecting Google Drive and copying it there (See 2nd code cell below)."
      ],
      "metadata": {
        "id": "H6Mla4XXD7vx"
      }
    },
    {
      "cell_type": "code",
      "source": [
        "# Download a file from Google Colab\n",
        "from google.colab import files\n",
        "files.download(\"/content/best_model_HDF5_format.h5\")"
      ],
      "metadata": {
        "colab": {
          "base_uri": "https://localhost:8080/",
          "height": 17
        },
        "id": "CHipWLt5FsyT",
        "outputId": "6fc2db55-cd84-4e91-f31e-c60c322fb473"
      },
      "execution_count": 67,
      "outputs": [
        {
          "output_type": "display_data",
          "data": {
            "text/plain": [
              "<IPython.core.display.Javascript object>"
            ],
            "application/javascript": [
              "\n",
              "    async function download(id, filename, size) {\n",
              "      if (!google.colab.kernel.accessAllowed) {\n",
              "        return;\n",
              "      }\n",
              "      const div = document.createElement('div');\n",
              "      const label = document.createElement('label');\n",
              "      label.textContent = `Downloading \"${filename}\": `;\n",
              "      div.appendChild(label);\n",
              "      const progress = document.createElement('progress');\n",
              "      progress.max = size;\n",
              "      div.appendChild(progress);\n",
              "      document.body.appendChild(div);\n",
              "\n",
              "      const buffers = [];\n",
              "      let downloaded = 0;\n",
              "\n",
              "      const channel = await google.colab.kernel.comms.open(id);\n",
              "      // Send a message to notify the kernel that we're ready.\n",
              "      channel.send({})\n",
              "\n",
              "      for await (const message of channel.messages) {\n",
              "        // Send a message to notify the kernel that we're ready.\n",
              "        channel.send({})\n",
              "        if (message.buffers) {\n",
              "          for (const buffer of message.buffers) {\n",
              "            buffers.push(buffer);\n",
              "            downloaded += buffer.byteLength;\n",
              "            progress.value = downloaded;\n",
              "          }\n",
              "        }\n",
              "      }\n",
              "      const blob = new Blob(buffers, {type: 'application/binary'});\n",
              "      const a = document.createElement('a');\n",
              "      a.href = window.URL.createObjectURL(blob);\n",
              "      a.download = filename;\n",
              "      div.appendChild(a);\n",
              "      a.click();\n",
              "      div.remove();\n",
              "    }\n",
              "  "
            ]
          },
          "metadata": {}
        },
        {
          "output_type": "display_data",
          "data": {
            "text/plain": [
              "<IPython.core.display.Javascript object>"
            ],
            "application/javascript": [
              "download(\"download_aed1b8dd-3801-40dc-9099-2cb14eeb6cbc\", \"best_model_HDF5_format.h5\", 22120)"
            ]
          },
          "metadata": {}
        }
      ]
    },
    {
      "cell_type": "code",
      "source": [
        "# Save a file from Google Colab to Google Drive (requires mounting Google Drive)\n",
        "!cp /content/best_model_HDF5_format.h5 /content/drive/MyDrive/DEV\\ SHOW"
      ],
      "metadata": {
        "id": "ABjEeXRiF6aL"
      },
      "execution_count": 69,
      "outputs": []
    },
    {
      "cell_type": "code",
      "source": [
        "!ls /content/drive/MyDrive/DEV\\ SHOW"
      ],
      "metadata": {
        "colab": {
          "base_uri": "https://localhost:8080/"
        },
        "id": "Ufn-qVCkGlCF",
        "outputId": "7f73f460-f7a0-4156-837d-2aad87719258"
      },
      "execution_count": 71,
      "outputs": [
        {
          "output_type": "stream",
          "name": "stdout",
          "text": [
            "'Apex Exception Handling.gslides'   best_model_HDF5_format.h5\n"
          ]
        }
      ]
    },
    {
      "cell_type": "markdown",
      "source": [
        "## A larger example"
      ],
      "metadata": {
        "id": "iB1km7CJGrft"
      }
    },
    {
      "cell_type": "code",
      "source": [
        "# Import required libraries\n",
        "import tensorflow as tf\n",
        "import pandas as pd\n",
        "import matplotlib.pyplot as plt\n",
        "\n"
      ],
      "metadata": {
        "id": "GAQ93zZKHPpG"
      },
      "execution_count": 72,
      "outputs": []
    },
    {
      "cell_type": "code",
      "source": [
        "# Read in the insurance dataset\n",
        "insurance = pd.read_csv(\"https://raw.githubusercontent.com/stedy/Machine-Learning-with-R-datasets/master/insurance.csv\")\n",
        "insurance"
      ],
      "metadata": {
        "colab": {
          "base_uri": "https://localhost:8080/",
          "height": 424
        },
        "id": "3gXsOu7YH6ZH",
        "outputId": "e8758342-d1d8-4642-cc75-1642ecea835f"
      },
      "execution_count": 73,
      "outputs": [
        {
          "output_type": "execute_result",
          "data": {
            "text/plain": [
              "      age     sex     bmi  children smoker     region      charges\n",
              "0      19  female  27.900         0    yes  southwest  16884.92400\n",
              "1      18    male  33.770         1     no  southeast   1725.55230\n",
              "2      28    male  33.000         3     no  southeast   4449.46200\n",
              "3      33    male  22.705         0     no  northwest  21984.47061\n",
              "4      32    male  28.880         0     no  northwest   3866.85520\n",
              "...   ...     ...     ...       ...    ...        ...          ...\n",
              "1333   50    male  30.970         3     no  northwest  10600.54830\n",
              "1334   18  female  31.920         0     no  northeast   2205.98080\n",
              "1335   18  female  36.850         0     no  southeast   1629.83350\n",
              "1336   21  female  25.800         0     no  southwest   2007.94500\n",
              "1337   61  female  29.070         0    yes  northwest  29141.36030\n",
              "\n",
              "[1338 rows x 7 columns]"
            ],
            "text/html": [
              "\n",
              "  <div id=\"df-fc4acc59-79f8-42ca-8848-ab7ea1f6e7e4\">\n",
              "    <div class=\"colab-df-container\">\n",
              "      <div>\n",
              "<style scoped>\n",
              "    .dataframe tbody tr th:only-of-type {\n",
              "        vertical-align: middle;\n",
              "    }\n",
              "\n",
              "    .dataframe tbody tr th {\n",
              "        vertical-align: top;\n",
              "    }\n",
              "\n",
              "    .dataframe thead th {\n",
              "        text-align: right;\n",
              "    }\n",
              "</style>\n",
              "<table border=\"1\" class=\"dataframe\">\n",
              "  <thead>\n",
              "    <tr style=\"text-align: right;\">\n",
              "      <th></th>\n",
              "      <th>age</th>\n",
              "      <th>sex</th>\n",
              "      <th>bmi</th>\n",
              "      <th>children</th>\n",
              "      <th>smoker</th>\n",
              "      <th>region</th>\n",
              "      <th>charges</th>\n",
              "    </tr>\n",
              "  </thead>\n",
              "  <tbody>\n",
              "    <tr>\n",
              "      <th>0</th>\n",
              "      <td>19</td>\n",
              "      <td>female</td>\n",
              "      <td>27.900</td>\n",
              "      <td>0</td>\n",
              "      <td>yes</td>\n",
              "      <td>southwest</td>\n",
              "      <td>16884.92400</td>\n",
              "    </tr>\n",
              "    <tr>\n",
              "      <th>1</th>\n",
              "      <td>18</td>\n",
              "      <td>male</td>\n",
              "      <td>33.770</td>\n",
              "      <td>1</td>\n",
              "      <td>no</td>\n",
              "      <td>southeast</td>\n",
              "      <td>1725.55230</td>\n",
              "    </tr>\n",
              "    <tr>\n",
              "      <th>2</th>\n",
              "      <td>28</td>\n",
              "      <td>male</td>\n",
              "      <td>33.000</td>\n",
              "      <td>3</td>\n",
              "      <td>no</td>\n",
              "      <td>southeast</td>\n",
              "      <td>4449.46200</td>\n",
              "    </tr>\n",
              "    <tr>\n",
              "      <th>3</th>\n",
              "      <td>33</td>\n",
              "      <td>male</td>\n",
              "      <td>22.705</td>\n",
              "      <td>0</td>\n",
              "      <td>no</td>\n",
              "      <td>northwest</td>\n",
              "      <td>21984.47061</td>\n",
              "    </tr>\n",
              "    <tr>\n",
              "      <th>4</th>\n",
              "      <td>32</td>\n",
              "      <td>male</td>\n",
              "      <td>28.880</td>\n",
              "      <td>0</td>\n",
              "      <td>no</td>\n",
              "      <td>northwest</td>\n",
              "      <td>3866.85520</td>\n",
              "    </tr>\n",
              "    <tr>\n",
              "      <th>...</th>\n",
              "      <td>...</td>\n",
              "      <td>...</td>\n",
              "      <td>...</td>\n",
              "      <td>...</td>\n",
              "      <td>...</td>\n",
              "      <td>...</td>\n",
              "      <td>...</td>\n",
              "    </tr>\n",
              "    <tr>\n",
              "      <th>1333</th>\n",
              "      <td>50</td>\n",
              "      <td>male</td>\n",
              "      <td>30.970</td>\n",
              "      <td>3</td>\n",
              "      <td>no</td>\n",
              "      <td>northwest</td>\n",
              "      <td>10600.54830</td>\n",
              "    </tr>\n",
              "    <tr>\n",
              "      <th>1334</th>\n",
              "      <td>18</td>\n",
              "      <td>female</td>\n",
              "      <td>31.920</td>\n",
              "      <td>0</td>\n",
              "      <td>no</td>\n",
              "      <td>northeast</td>\n",
              "      <td>2205.98080</td>\n",
              "    </tr>\n",
              "    <tr>\n",
              "      <th>1335</th>\n",
              "      <td>18</td>\n",
              "      <td>female</td>\n",
              "      <td>36.850</td>\n",
              "      <td>0</td>\n",
              "      <td>no</td>\n",
              "      <td>southeast</td>\n",
              "      <td>1629.83350</td>\n",
              "    </tr>\n",
              "    <tr>\n",
              "      <th>1336</th>\n",
              "      <td>21</td>\n",
              "      <td>female</td>\n",
              "      <td>25.800</td>\n",
              "      <td>0</td>\n",
              "      <td>no</td>\n",
              "      <td>southwest</td>\n",
              "      <td>2007.94500</td>\n",
              "    </tr>\n",
              "    <tr>\n",
              "      <th>1337</th>\n",
              "      <td>61</td>\n",
              "      <td>female</td>\n",
              "      <td>29.070</td>\n",
              "      <td>0</td>\n",
              "      <td>yes</td>\n",
              "      <td>northwest</td>\n",
              "      <td>29141.36030</td>\n",
              "    </tr>\n",
              "  </tbody>\n",
              "</table>\n",
              "<p>1338 rows × 7 columns</p>\n",
              "</div>\n",
              "      <button class=\"colab-df-convert\" onclick=\"convertToInteractive('df-fc4acc59-79f8-42ca-8848-ab7ea1f6e7e4')\"\n",
              "              title=\"Convert this dataframe to an interactive table.\"\n",
              "              style=\"display:none;\">\n",
              "        \n",
              "  <svg xmlns=\"http://www.w3.org/2000/svg\" height=\"24px\"viewBox=\"0 0 24 24\"\n",
              "       width=\"24px\">\n",
              "    <path d=\"M0 0h24v24H0V0z\" fill=\"none\"/>\n",
              "    <path d=\"M18.56 5.44l.94 2.06.94-2.06 2.06-.94-2.06-.94-.94-2.06-.94 2.06-2.06.94zm-11 1L8.5 8.5l.94-2.06 2.06-.94-2.06-.94L8.5 2.5l-.94 2.06-2.06.94zm10 10l.94 2.06.94-2.06 2.06-.94-2.06-.94-.94-2.06-.94 2.06-2.06.94z\"/><path d=\"M17.41 7.96l-1.37-1.37c-.4-.4-.92-.59-1.43-.59-.52 0-1.04.2-1.43.59L10.3 9.45l-7.72 7.72c-.78.78-.78 2.05 0 2.83L4 21.41c.39.39.9.59 1.41.59.51 0 1.02-.2 1.41-.59l7.78-7.78 2.81-2.81c.8-.78.8-2.07 0-2.86zM5.41 20L4 18.59l7.72-7.72 1.47 1.35L5.41 20z\"/>\n",
              "  </svg>\n",
              "      </button>\n",
              "      \n",
              "  <style>\n",
              "    .colab-df-container {\n",
              "      display:flex;\n",
              "      flex-wrap:wrap;\n",
              "      gap: 12px;\n",
              "    }\n",
              "\n",
              "    .colab-df-convert {\n",
              "      background-color: #E8F0FE;\n",
              "      border: none;\n",
              "      border-radius: 50%;\n",
              "      cursor: pointer;\n",
              "      display: none;\n",
              "      fill: #1967D2;\n",
              "      height: 32px;\n",
              "      padding: 0 0 0 0;\n",
              "      width: 32px;\n",
              "    }\n",
              "\n",
              "    .colab-df-convert:hover {\n",
              "      background-color: #E2EBFA;\n",
              "      box-shadow: 0px 1px 2px rgba(60, 64, 67, 0.3), 0px 1px 3px 1px rgba(60, 64, 67, 0.15);\n",
              "      fill: #174EA6;\n",
              "    }\n",
              "\n",
              "    [theme=dark] .colab-df-convert {\n",
              "      background-color: #3B4455;\n",
              "      fill: #D2E3FC;\n",
              "    }\n",
              "\n",
              "    [theme=dark] .colab-df-convert:hover {\n",
              "      background-color: #434B5C;\n",
              "      box-shadow: 0px 1px 3px 1px rgba(0, 0, 0, 0.15);\n",
              "      filter: drop-shadow(0px 1px 2px rgba(0, 0, 0, 0.3));\n",
              "      fill: #FFFFFF;\n",
              "    }\n",
              "  </style>\n",
              "\n",
              "      <script>\n",
              "        const buttonEl =\n",
              "          document.querySelector('#df-fc4acc59-79f8-42ca-8848-ab7ea1f6e7e4 button.colab-df-convert');\n",
              "        buttonEl.style.display =\n",
              "          google.colab.kernel.accessAllowed ? 'block' : 'none';\n",
              "\n",
              "        async function convertToInteractive(key) {\n",
              "          const element = document.querySelector('#df-fc4acc59-79f8-42ca-8848-ab7ea1f6e7e4');\n",
              "          const dataTable =\n",
              "            await google.colab.kernel.invokeFunction('convertToInteractive',\n",
              "                                                     [key], {});\n",
              "          if (!dataTable) return;\n",
              "\n",
              "          const docLinkHtml = 'Like what you see? Visit the ' +\n",
              "            '<a target=\"_blank\" href=https://colab.research.google.com/notebooks/data_table.ipynb>data table notebook</a>'\n",
              "            + ' to learn more about interactive tables.';\n",
              "          element.innerHTML = '';\n",
              "          dataTable['output_type'] = 'display_data';\n",
              "          await google.colab.output.renderOutput(dataTable, element);\n",
              "          const docLink = document.createElement('div');\n",
              "          docLink.innerHTML = docLinkHtml;\n",
              "          element.appendChild(docLink);\n",
              "        }\n",
              "      </script>\n",
              "    </div>\n",
              "  </div>\n",
              "  "
            ]
          },
          "metadata": {},
          "execution_count": 73
        }
      ]
    },
    {
      "cell_type": "code",
      "source": [
        "insurance_one_hot = pd.get_dummies(insurance)\n",
        "insurance_one_hot.head()"
      ],
      "metadata": {
        "colab": {
          "base_uri": "https://localhost:8080/",
          "height": 270
        },
        "id": "d7YjoC53IBmu",
        "outputId": "83096e39-1e0c-4917-d7dc-e5f2a6720312"
      },
      "execution_count": 79,
      "outputs": [
        {
          "output_type": "execute_result",
          "data": {
            "text/plain": [
              "   age     bmi  children      charges  sex_female  sex_male  smoker_no  \\\n",
              "0   19  27.900         0  16884.92400           1         0          0   \n",
              "1   18  33.770         1   1725.55230           0         1          1   \n",
              "2   28  33.000         3   4449.46200           0         1          1   \n",
              "3   33  22.705         0  21984.47061           0         1          1   \n",
              "4   32  28.880         0   3866.85520           0         1          1   \n",
              "\n",
              "   smoker_yes  region_northeast  region_northwest  region_southeast  \\\n",
              "0           1                 0                 0                 0   \n",
              "1           0                 0                 0                 1   \n",
              "2           0                 0                 0                 1   \n",
              "3           0                 0                 1                 0   \n",
              "4           0                 0                 1                 0   \n",
              "\n",
              "   region_southwest  \n",
              "0                 1  \n",
              "1                 0  \n",
              "2                 0  \n",
              "3                 0  \n",
              "4                 0  "
            ],
            "text/html": [
              "\n",
              "  <div id=\"df-74a4ac0b-0698-4f04-b194-f4d475946042\">\n",
              "    <div class=\"colab-df-container\">\n",
              "      <div>\n",
              "<style scoped>\n",
              "    .dataframe tbody tr th:only-of-type {\n",
              "        vertical-align: middle;\n",
              "    }\n",
              "\n",
              "    .dataframe tbody tr th {\n",
              "        vertical-align: top;\n",
              "    }\n",
              "\n",
              "    .dataframe thead th {\n",
              "        text-align: right;\n",
              "    }\n",
              "</style>\n",
              "<table border=\"1\" class=\"dataframe\">\n",
              "  <thead>\n",
              "    <tr style=\"text-align: right;\">\n",
              "      <th></th>\n",
              "      <th>age</th>\n",
              "      <th>bmi</th>\n",
              "      <th>children</th>\n",
              "      <th>charges</th>\n",
              "      <th>sex_female</th>\n",
              "      <th>sex_male</th>\n",
              "      <th>smoker_no</th>\n",
              "      <th>smoker_yes</th>\n",
              "      <th>region_northeast</th>\n",
              "      <th>region_northwest</th>\n",
              "      <th>region_southeast</th>\n",
              "      <th>region_southwest</th>\n",
              "    </tr>\n",
              "  </thead>\n",
              "  <tbody>\n",
              "    <tr>\n",
              "      <th>0</th>\n",
              "      <td>19</td>\n",
              "      <td>27.900</td>\n",
              "      <td>0</td>\n",
              "      <td>16884.92400</td>\n",
              "      <td>1</td>\n",
              "      <td>0</td>\n",
              "      <td>0</td>\n",
              "      <td>1</td>\n",
              "      <td>0</td>\n",
              "      <td>0</td>\n",
              "      <td>0</td>\n",
              "      <td>1</td>\n",
              "    </tr>\n",
              "    <tr>\n",
              "      <th>1</th>\n",
              "      <td>18</td>\n",
              "      <td>33.770</td>\n",
              "      <td>1</td>\n",
              "      <td>1725.55230</td>\n",
              "      <td>0</td>\n",
              "      <td>1</td>\n",
              "      <td>1</td>\n",
              "      <td>0</td>\n",
              "      <td>0</td>\n",
              "      <td>0</td>\n",
              "      <td>1</td>\n",
              "      <td>0</td>\n",
              "    </tr>\n",
              "    <tr>\n",
              "      <th>2</th>\n",
              "      <td>28</td>\n",
              "      <td>33.000</td>\n",
              "      <td>3</td>\n",
              "      <td>4449.46200</td>\n",
              "      <td>0</td>\n",
              "      <td>1</td>\n",
              "      <td>1</td>\n",
              "      <td>0</td>\n",
              "      <td>0</td>\n",
              "      <td>0</td>\n",
              "      <td>1</td>\n",
              "      <td>0</td>\n",
              "    </tr>\n",
              "    <tr>\n",
              "      <th>3</th>\n",
              "      <td>33</td>\n",
              "      <td>22.705</td>\n",
              "      <td>0</td>\n",
              "      <td>21984.47061</td>\n",
              "      <td>0</td>\n",
              "      <td>1</td>\n",
              "      <td>1</td>\n",
              "      <td>0</td>\n",
              "      <td>0</td>\n",
              "      <td>1</td>\n",
              "      <td>0</td>\n",
              "      <td>0</td>\n",
              "    </tr>\n",
              "    <tr>\n",
              "      <th>4</th>\n",
              "      <td>32</td>\n",
              "      <td>28.880</td>\n",
              "      <td>0</td>\n",
              "      <td>3866.85520</td>\n",
              "      <td>0</td>\n",
              "      <td>1</td>\n",
              "      <td>1</td>\n",
              "      <td>0</td>\n",
              "      <td>0</td>\n",
              "      <td>1</td>\n",
              "      <td>0</td>\n",
              "      <td>0</td>\n",
              "    </tr>\n",
              "  </tbody>\n",
              "</table>\n",
              "</div>\n",
              "      <button class=\"colab-df-convert\" onclick=\"convertToInteractive('df-74a4ac0b-0698-4f04-b194-f4d475946042')\"\n",
              "              title=\"Convert this dataframe to an interactive table.\"\n",
              "              style=\"display:none;\">\n",
              "        \n",
              "  <svg xmlns=\"http://www.w3.org/2000/svg\" height=\"24px\"viewBox=\"0 0 24 24\"\n",
              "       width=\"24px\">\n",
              "    <path d=\"M0 0h24v24H0V0z\" fill=\"none\"/>\n",
              "    <path d=\"M18.56 5.44l.94 2.06.94-2.06 2.06-.94-2.06-.94-.94-2.06-.94 2.06-2.06.94zm-11 1L8.5 8.5l.94-2.06 2.06-.94-2.06-.94L8.5 2.5l-.94 2.06-2.06.94zm10 10l.94 2.06.94-2.06 2.06-.94-2.06-.94-.94-2.06-.94 2.06-2.06.94z\"/><path d=\"M17.41 7.96l-1.37-1.37c-.4-.4-.92-.59-1.43-.59-.52 0-1.04.2-1.43.59L10.3 9.45l-7.72 7.72c-.78.78-.78 2.05 0 2.83L4 21.41c.39.39.9.59 1.41.59.51 0 1.02-.2 1.41-.59l7.78-7.78 2.81-2.81c.8-.78.8-2.07 0-2.86zM5.41 20L4 18.59l7.72-7.72 1.47 1.35L5.41 20z\"/>\n",
              "  </svg>\n",
              "      </button>\n",
              "      \n",
              "  <style>\n",
              "    .colab-df-container {\n",
              "      display:flex;\n",
              "      flex-wrap:wrap;\n",
              "      gap: 12px;\n",
              "    }\n",
              "\n",
              "    .colab-df-convert {\n",
              "      background-color: #E8F0FE;\n",
              "      border: none;\n",
              "      border-radius: 50%;\n",
              "      cursor: pointer;\n",
              "      display: none;\n",
              "      fill: #1967D2;\n",
              "      height: 32px;\n",
              "      padding: 0 0 0 0;\n",
              "      width: 32px;\n",
              "    }\n",
              "\n",
              "    .colab-df-convert:hover {\n",
              "      background-color: #E2EBFA;\n",
              "      box-shadow: 0px 1px 2px rgba(60, 64, 67, 0.3), 0px 1px 3px 1px rgba(60, 64, 67, 0.15);\n",
              "      fill: #174EA6;\n",
              "    }\n",
              "\n",
              "    [theme=dark] .colab-df-convert {\n",
              "      background-color: #3B4455;\n",
              "      fill: #D2E3FC;\n",
              "    }\n",
              "\n",
              "    [theme=dark] .colab-df-convert:hover {\n",
              "      background-color: #434B5C;\n",
              "      box-shadow: 0px 1px 3px 1px rgba(0, 0, 0, 0.15);\n",
              "      filter: drop-shadow(0px 1px 2px rgba(0, 0, 0, 0.3));\n",
              "      fill: #FFFFFF;\n",
              "    }\n",
              "  </style>\n",
              "\n",
              "      <script>\n",
              "        const buttonEl =\n",
              "          document.querySelector('#df-74a4ac0b-0698-4f04-b194-f4d475946042 button.colab-df-convert');\n",
              "        buttonEl.style.display =\n",
              "          google.colab.kernel.accessAllowed ? 'block' : 'none';\n",
              "\n",
              "        async function convertToInteractive(key) {\n",
              "          const element = document.querySelector('#df-74a4ac0b-0698-4f04-b194-f4d475946042');\n",
              "          const dataTable =\n",
              "            await google.colab.kernel.invokeFunction('convertToInteractive',\n",
              "                                                     [key], {});\n",
              "          if (!dataTable) return;\n",
              "\n",
              "          const docLinkHtml = 'Like what you see? Visit the ' +\n",
              "            '<a target=\"_blank\" href=https://colab.research.google.com/notebooks/data_table.ipynb>data table notebook</a>'\n",
              "            + ' to learn more about interactive tables.';\n",
              "          element.innerHTML = '';\n",
              "          dataTable['output_type'] = 'display_data';\n",
              "          await google.colab.output.renderOutput(dataTable, element);\n",
              "          const docLink = document.createElement('div');\n",
              "          docLink.innerHTML = docLinkHtml;\n",
              "          element.appendChild(docLink);\n",
              "        }\n",
              "      </script>\n",
              "    </div>\n",
              "  </div>\n",
              "  "
            ]
          },
          "metadata": {},
          "execution_count": 79
        }
      ]
    },
    {
      "cell_type": "code",
      "source": [
        "# Create X & y values (features and labels)\n",
        "X = insurance_one_hot.drop(\"charges\", axis=1)\n",
        "y = insurance_one_hot[\"charges\"]\n",
        " #View X\n",
        "X.head()"
      ],
      "metadata": {
        "colab": {
          "base_uri": "https://localhost:8080/",
          "height": 270
        },
        "id": "-qsYG9iHIpyA",
        "outputId": "3e2d3855-92b4-4ce7-9fa7-f89574bb616a"
      },
      "execution_count": 81,
      "outputs": [
        {
          "output_type": "execute_result",
          "data": {
            "text/plain": [
              "   age     bmi  children  sex_female  sex_male  smoker_no  smoker_yes  \\\n",
              "0   19  27.900         0           1         0          0           1   \n",
              "1   18  33.770         1           0         1          1           0   \n",
              "2   28  33.000         3           0         1          1           0   \n",
              "3   33  22.705         0           0         1          1           0   \n",
              "4   32  28.880         0           0         1          1           0   \n",
              "\n",
              "   region_northeast  region_northwest  region_southeast  region_southwest  \n",
              "0                 0                 0                 0                 1  \n",
              "1                 0                 0                 1                 0  \n",
              "2                 0                 0                 1                 0  \n",
              "3                 0                 1                 0                 0  \n",
              "4                 0                 1                 0                 0  "
            ],
            "text/html": [
              "\n",
              "  <div id=\"df-940898a0-1592-48d4-9580-9effa4959d52\">\n",
              "    <div class=\"colab-df-container\">\n",
              "      <div>\n",
              "<style scoped>\n",
              "    .dataframe tbody tr th:only-of-type {\n",
              "        vertical-align: middle;\n",
              "    }\n",
              "\n",
              "    .dataframe tbody tr th {\n",
              "        vertical-align: top;\n",
              "    }\n",
              "\n",
              "    .dataframe thead th {\n",
              "        text-align: right;\n",
              "    }\n",
              "</style>\n",
              "<table border=\"1\" class=\"dataframe\">\n",
              "  <thead>\n",
              "    <tr style=\"text-align: right;\">\n",
              "      <th></th>\n",
              "      <th>age</th>\n",
              "      <th>bmi</th>\n",
              "      <th>children</th>\n",
              "      <th>sex_female</th>\n",
              "      <th>sex_male</th>\n",
              "      <th>smoker_no</th>\n",
              "      <th>smoker_yes</th>\n",
              "      <th>region_northeast</th>\n",
              "      <th>region_northwest</th>\n",
              "      <th>region_southeast</th>\n",
              "      <th>region_southwest</th>\n",
              "    </tr>\n",
              "  </thead>\n",
              "  <tbody>\n",
              "    <tr>\n",
              "      <th>0</th>\n",
              "      <td>19</td>\n",
              "      <td>27.900</td>\n",
              "      <td>0</td>\n",
              "      <td>1</td>\n",
              "      <td>0</td>\n",
              "      <td>0</td>\n",
              "      <td>1</td>\n",
              "      <td>0</td>\n",
              "      <td>0</td>\n",
              "      <td>0</td>\n",
              "      <td>1</td>\n",
              "    </tr>\n",
              "    <tr>\n",
              "      <th>1</th>\n",
              "      <td>18</td>\n",
              "      <td>33.770</td>\n",
              "      <td>1</td>\n",
              "      <td>0</td>\n",
              "      <td>1</td>\n",
              "      <td>1</td>\n",
              "      <td>0</td>\n",
              "      <td>0</td>\n",
              "      <td>0</td>\n",
              "      <td>1</td>\n",
              "      <td>0</td>\n",
              "    </tr>\n",
              "    <tr>\n",
              "      <th>2</th>\n",
              "      <td>28</td>\n",
              "      <td>33.000</td>\n",
              "      <td>3</td>\n",
              "      <td>0</td>\n",
              "      <td>1</td>\n",
              "      <td>1</td>\n",
              "      <td>0</td>\n",
              "      <td>0</td>\n",
              "      <td>0</td>\n",
              "      <td>1</td>\n",
              "      <td>0</td>\n",
              "    </tr>\n",
              "    <tr>\n",
              "      <th>3</th>\n",
              "      <td>33</td>\n",
              "      <td>22.705</td>\n",
              "      <td>0</td>\n",
              "      <td>0</td>\n",
              "      <td>1</td>\n",
              "      <td>1</td>\n",
              "      <td>0</td>\n",
              "      <td>0</td>\n",
              "      <td>1</td>\n",
              "      <td>0</td>\n",
              "      <td>0</td>\n",
              "    </tr>\n",
              "    <tr>\n",
              "      <th>4</th>\n",
              "      <td>32</td>\n",
              "      <td>28.880</td>\n",
              "      <td>0</td>\n",
              "      <td>0</td>\n",
              "      <td>1</td>\n",
              "      <td>1</td>\n",
              "      <td>0</td>\n",
              "      <td>0</td>\n",
              "      <td>1</td>\n",
              "      <td>0</td>\n",
              "      <td>0</td>\n",
              "    </tr>\n",
              "  </tbody>\n",
              "</table>\n",
              "</div>\n",
              "      <button class=\"colab-df-convert\" onclick=\"convertToInteractive('df-940898a0-1592-48d4-9580-9effa4959d52')\"\n",
              "              title=\"Convert this dataframe to an interactive table.\"\n",
              "              style=\"display:none;\">\n",
              "        \n",
              "  <svg xmlns=\"http://www.w3.org/2000/svg\" height=\"24px\"viewBox=\"0 0 24 24\"\n",
              "       width=\"24px\">\n",
              "    <path d=\"M0 0h24v24H0V0z\" fill=\"none\"/>\n",
              "    <path d=\"M18.56 5.44l.94 2.06.94-2.06 2.06-.94-2.06-.94-.94-2.06-.94 2.06-2.06.94zm-11 1L8.5 8.5l.94-2.06 2.06-.94-2.06-.94L8.5 2.5l-.94 2.06-2.06.94zm10 10l.94 2.06.94-2.06 2.06-.94-2.06-.94-.94-2.06-.94 2.06-2.06.94z\"/><path d=\"M17.41 7.96l-1.37-1.37c-.4-.4-.92-.59-1.43-.59-.52 0-1.04.2-1.43.59L10.3 9.45l-7.72 7.72c-.78.78-.78 2.05 0 2.83L4 21.41c.39.39.9.59 1.41.59.51 0 1.02-.2 1.41-.59l7.78-7.78 2.81-2.81c.8-.78.8-2.07 0-2.86zM5.41 20L4 18.59l7.72-7.72 1.47 1.35L5.41 20z\"/>\n",
              "  </svg>\n",
              "      </button>\n",
              "      \n",
              "  <style>\n",
              "    .colab-df-container {\n",
              "      display:flex;\n",
              "      flex-wrap:wrap;\n",
              "      gap: 12px;\n",
              "    }\n",
              "\n",
              "    .colab-df-convert {\n",
              "      background-color: #E8F0FE;\n",
              "      border: none;\n",
              "      border-radius: 50%;\n",
              "      cursor: pointer;\n",
              "      display: none;\n",
              "      fill: #1967D2;\n",
              "      height: 32px;\n",
              "      padding: 0 0 0 0;\n",
              "      width: 32px;\n",
              "    }\n",
              "\n",
              "    .colab-df-convert:hover {\n",
              "      background-color: #E2EBFA;\n",
              "      box-shadow: 0px 1px 2px rgba(60, 64, 67, 0.3), 0px 1px 3px 1px rgba(60, 64, 67, 0.15);\n",
              "      fill: #174EA6;\n",
              "    }\n",
              "\n",
              "    [theme=dark] .colab-df-convert {\n",
              "      background-color: #3B4455;\n",
              "      fill: #D2E3FC;\n",
              "    }\n",
              "\n",
              "    [theme=dark] .colab-df-convert:hover {\n",
              "      background-color: #434B5C;\n",
              "      box-shadow: 0px 1px 3px 1px rgba(0, 0, 0, 0.15);\n",
              "      filter: drop-shadow(0px 1px 2px rgba(0, 0, 0, 0.3));\n",
              "      fill: #FFFFFF;\n",
              "    }\n",
              "  </style>\n",
              "\n",
              "      <script>\n",
              "        const buttonEl =\n",
              "          document.querySelector('#df-940898a0-1592-48d4-9580-9effa4959d52 button.colab-df-convert');\n",
              "        buttonEl.style.display =\n",
              "          google.colab.kernel.accessAllowed ? 'block' : 'none';\n",
              "\n",
              "        async function convertToInteractive(key) {\n",
              "          const element = document.querySelector('#df-940898a0-1592-48d4-9580-9effa4959d52');\n",
              "          const dataTable =\n",
              "            await google.colab.kernel.invokeFunction('convertToInteractive',\n",
              "                                                     [key], {});\n",
              "          if (!dataTable) return;\n",
              "\n",
              "          const docLinkHtml = 'Like what you see? Visit the ' +\n",
              "            '<a target=\"_blank\" href=https://colab.research.google.com/notebooks/data_table.ipynb>data table notebook</a>'\n",
              "            + ' to learn more about interactive tables.';\n",
              "          element.innerHTML = '';\n",
              "          dataTable['output_type'] = 'display_data';\n",
              "          await google.colab.output.renderOutput(dataTable, element);\n",
              "          const docLink = document.createElement('div');\n",
              "          docLink.innerHTML = docLinkHtml;\n",
              "          element.appendChild(docLink);\n",
              "        }\n",
              "      </script>\n",
              "    </div>\n",
              "  </div>\n",
              "  "
            ]
          },
          "metadata": {},
          "execution_count": 81
        }
      ]
    },
    {
      "cell_type": "code",
      "source": [
        "# View y\n",
        "y.head()"
      ],
      "metadata": {
        "colab": {
          "base_uri": "https://localhost:8080/"
        },
        "id": "ibwRpq6kK3NA",
        "outputId": "9f2730fd-b84d-42e6-fdc3-a0e1f85e4f8b"
      },
      "execution_count": 82,
      "outputs": [
        {
          "output_type": "execute_result",
          "data": {
            "text/plain": [
              "0    16884.92400\n",
              "1     1725.55230\n",
              "2     4449.46200\n",
              "3    21984.47061\n",
              "4     3866.85520\n",
              "Name: charges, dtype: float64"
            ]
          },
          "metadata": {},
          "execution_count": 82
        }
      ]
    },
    {
      "cell_type": "code",
      "source": [
        "# Create training and test sets\n",
        "from sklearn.model_selection import train_test_split\n",
        "X_train, X_test, y_train, y_test = train_test_split(X, y, test_size=0.2, random_state=42)\n",
        "len(X), len(X_train), len(X_test)"
      ],
      "metadata": {
        "colab": {
          "base_uri": "https://localhost:8080/"
        },
        "id": "f4yA-gO7Kh9N",
        "outputId": "f49c7f67-1377-463d-8067-f862f6ccda3f"
      },
      "execution_count": 83,
      "outputs": [
        {
          "output_type": "execute_result",
          "data": {
            "text/plain": [
              "(1338, 1070, 268)"
            ]
          },
          "metadata": {},
          "execution_count": 83
        }
      ]
    },
    {
      "cell_type": "code",
      "source": [
        "# Build a neural network (sort of like the model_2 above)\n",
        "tf.random.set_seed(42)\n",
        "\n",
        "# 1. Create a model\n",
        "insurance_model = tf.keras.Sequential([\n",
        "    tf.keras.layers.Dense(10),\n",
        "    tf.keras.layers.Dense(1)\n",
        "])\n",
        "\n",
        "# 2. Compile the model\n",
        "insurance_model.compile(loss=tf.keras.losses.mae,\n",
        "                        optimizer=tf.keras.optimizers.SGD(),\n",
        "                        metrics=[\"mae\"])\n",
        "\n",
        "# 3. Fit the model\n",
        "insurance_model.fit(X_train, y_train, epochs=100)"
      ],
      "metadata": {
        "colab": {
          "base_uri": "https://localhost:8080/"
        },
        "id": "dJ1RQNIhKizT",
        "outputId": "5199e761-458f-4bc6-e60f-4bde0b16bfe3"
      },
      "execution_count": 96,
      "outputs": [
        {
          "output_type": "stream",
          "name": "stdout",
          "text": [
            "Epoch 1/100\n",
            "34/34 [==============================] - 1s 4ms/step - loss: 8700.7715 - mae: 8700.7715\n",
            "Epoch 2/100\n",
            "34/34 [==============================] - 0s 4ms/step - loss: 7876.3364 - mae: 7876.3364\n",
            "Epoch 3/100\n",
            "34/34 [==============================] - 0s 4ms/step - loss: 7556.7935 - mae: 7556.7935\n",
            "Epoch 4/100\n",
            "34/34 [==============================] - 0s 3ms/step - loss: 7765.2559 - mae: 7765.2559\n",
            "Epoch 5/100\n",
            "34/34 [==============================] - 0s 3ms/step - loss: 7693.7783 - mae: 7693.7783\n",
            "Epoch 6/100\n",
            "34/34 [==============================] - 0s 3ms/step - loss: 7541.6250 - mae: 7541.6250\n",
            "Epoch 7/100\n",
            "34/34 [==============================] - 0s 3ms/step - loss: 7528.7339 - mae: 7528.7339\n",
            "Epoch 8/100\n",
            "34/34 [==============================] - 0s 4ms/step - loss: 7762.9458 - mae: 7762.9458\n",
            "Epoch 9/100\n",
            "34/34 [==============================] - 0s 3ms/step - loss: 7494.7822 - mae: 7494.7822\n",
            "Epoch 10/100\n",
            "34/34 [==============================] - 0s 4ms/step - loss: 7562.7144 - mae: 7562.7144\n",
            "Epoch 11/100\n",
            "34/34 [==============================] - 0s 3ms/step - loss: 7606.4292 - mae: 7606.4292\n",
            "Epoch 12/100\n",
            "34/34 [==============================] - 0s 3ms/step - loss: 7603.9111 - mae: 7603.9111\n",
            "Epoch 13/100\n",
            "34/34 [==============================] - 0s 3ms/step - loss: 7620.2217 - mae: 7620.2217\n",
            "Epoch 14/100\n",
            "34/34 [==============================] - 0s 3ms/step - loss: 7574.1528 - mae: 7574.1528\n",
            "Epoch 15/100\n",
            "34/34 [==============================] - 0s 3ms/step - loss: 7498.9136 - mae: 7498.9136\n",
            "Epoch 16/100\n",
            "34/34 [==============================] - 0s 3ms/step - loss: 7696.2437 - mae: 7696.2437\n",
            "Epoch 17/100\n",
            "34/34 [==============================] - 0s 3ms/step - loss: 7566.7939 - mae: 7566.7939\n",
            "Epoch 18/100\n",
            "34/34 [==============================] - 0s 3ms/step - loss: 7791.4512 - mae: 7791.4512\n",
            "Epoch 19/100\n",
            "34/34 [==============================] - 0s 3ms/step - loss: 7590.5518 - mae: 7590.5518\n",
            "Epoch 20/100\n",
            "34/34 [==============================] - 0s 3ms/step - loss: 7937.6421 - mae: 7937.6421\n",
            "Epoch 21/100\n",
            "34/34 [==============================] - 0s 3ms/step - loss: 7449.8950 - mae: 7449.8950\n",
            "Epoch 22/100\n",
            "34/34 [==============================] - 0s 3ms/step - loss: 7845.0381 - mae: 7845.0381\n",
            "Epoch 23/100\n",
            "34/34 [==============================] - 0s 2ms/step - loss: 7606.9409 - mae: 7606.9409\n",
            "Epoch 24/100\n",
            "34/34 [==============================] - 0s 3ms/step - loss: 7539.7554 - mae: 7539.7554\n",
            "Epoch 25/100\n",
            "34/34 [==============================] - 0s 3ms/step - loss: 7624.5996 - mae: 7624.5996\n",
            "Epoch 26/100\n",
            "34/34 [==============================] - 0s 3ms/step - loss: 7701.6982 - mae: 7701.6982\n",
            "Epoch 27/100\n",
            "34/34 [==============================] - 0s 3ms/step - loss: 7410.5566 - mae: 7410.5566\n",
            "Epoch 28/100\n",
            "34/34 [==============================] - 0s 3ms/step - loss: 7463.8730 - mae: 7463.8730\n",
            "Epoch 29/100\n",
            "34/34 [==============================] - 0s 3ms/step - loss: 7674.5386 - mae: 7674.5386\n",
            "Epoch 30/100\n",
            "34/34 [==============================] - 0s 3ms/step - loss: 7704.8853 - mae: 7704.8853\n",
            "Epoch 31/100\n",
            "34/34 [==============================] - 0s 3ms/step - loss: 7555.5747 - mae: 7555.5747\n",
            "Epoch 32/100\n",
            "34/34 [==============================] - 0s 3ms/step - loss: 7587.3394 - mae: 7587.3394\n",
            "Epoch 33/100\n",
            "34/34 [==============================] - 0s 3ms/step - loss: 7456.9824 - mae: 7456.9824\n",
            "Epoch 34/100\n",
            "34/34 [==============================] - 0s 2ms/step - loss: 7515.7866 - mae: 7515.7866\n",
            "Epoch 35/100\n",
            "34/34 [==============================] - 0s 2ms/step - loss: 7617.4849 - mae: 7617.4849\n",
            "Epoch 36/100\n",
            "34/34 [==============================] - 0s 2ms/step - loss: 7576.3394 - mae: 7576.3394\n",
            "Epoch 37/100\n",
            "34/34 [==============================] - 0s 2ms/step - loss: 7398.3418 - mae: 7398.3418\n",
            "Epoch 38/100\n",
            "34/34 [==============================] - 0s 2ms/step - loss: 7426.9731 - mae: 7426.9731\n",
            "Epoch 39/100\n",
            "34/34 [==============================] - 0s 2ms/step - loss: 7517.8379 - mae: 7517.8379\n",
            "Epoch 40/100\n",
            "34/34 [==============================] - 0s 2ms/step - loss: 7430.3936 - mae: 7430.3936\n",
            "Epoch 41/100\n",
            "34/34 [==============================] - 0s 2ms/step - loss: 7637.9019 - mae: 7637.9019\n",
            "Epoch 42/100\n",
            "34/34 [==============================] - 0s 2ms/step - loss: 7354.4883 - mae: 7354.4883\n",
            "Epoch 43/100\n",
            "34/34 [==============================] - 0s 2ms/step - loss: 7608.4512 - mae: 7608.4512\n",
            "Epoch 44/100\n",
            "34/34 [==============================] - 0s 2ms/step - loss: 7481.9434 - mae: 7481.9434\n",
            "Epoch 45/100\n",
            "34/34 [==============================] - 0s 2ms/step - loss: 7485.9624 - mae: 7485.9624\n",
            "Epoch 46/100\n",
            "34/34 [==============================] - 0s 2ms/step - loss: 7449.4692 - mae: 7449.4692\n",
            "Epoch 47/100\n",
            "34/34 [==============================] - 0s 2ms/step - loss: 7337.2881 - mae: 7337.2881\n",
            "Epoch 48/100\n",
            "34/34 [==============================] - 0s 2ms/step - loss: 7498.0991 - mae: 7498.0991\n",
            "Epoch 49/100\n",
            "34/34 [==============================] - 0s 2ms/step - loss: 7538.4961 - mae: 7538.4961\n",
            "Epoch 50/100\n",
            "34/34 [==============================] - 0s 2ms/step - loss: 7481.7437 - mae: 7481.7437\n",
            "Epoch 51/100\n",
            "34/34 [==============================] - 0s 2ms/step - loss: 7377.4272 - mae: 7377.4272\n",
            "Epoch 52/100\n",
            "34/34 [==============================] - 0s 2ms/step - loss: 7542.8408 - mae: 7542.8408\n",
            "Epoch 53/100\n",
            "34/34 [==============================] - 0s 2ms/step - loss: 7589.7065 - mae: 7589.7065\n",
            "Epoch 54/100\n",
            "34/34 [==============================] - 0s 2ms/step - loss: 7302.1484 - mae: 7302.1484\n",
            "Epoch 55/100\n",
            "34/34 [==============================] - 0s 2ms/step - loss: 7399.3364 - mae: 7399.3364\n",
            "Epoch 56/100\n",
            "34/34 [==============================] - 0s 2ms/step - loss: 7429.3032 - mae: 7429.3032\n",
            "Epoch 57/100\n",
            "34/34 [==============================] - 0s 2ms/step - loss: 7456.1763 - mae: 7456.1763\n",
            "Epoch 58/100\n",
            "34/34 [==============================] - 0s 2ms/step - loss: 7577.9683 - mae: 7577.9683\n",
            "Epoch 59/100\n",
            "34/34 [==============================] - 0s 2ms/step - loss: 7633.1045 - mae: 7633.1045\n",
            "Epoch 60/100\n",
            "34/34 [==============================] - 0s 2ms/step - loss: 7409.0083 - mae: 7409.0083\n",
            "Epoch 61/100\n",
            "34/34 [==============================] - 0s 2ms/step - loss: 7423.1133 - mae: 7423.1133\n",
            "Epoch 62/100\n",
            "34/34 [==============================] - 0s 2ms/step - loss: 7404.6860 - mae: 7404.6860\n",
            "Epoch 63/100\n",
            "34/34 [==============================] - 0s 2ms/step - loss: 7404.3301 - mae: 7404.3301\n",
            "Epoch 64/100\n",
            "34/34 [==============================] - 0s 2ms/step - loss: 7302.1460 - mae: 7302.1460\n",
            "Epoch 65/100\n",
            "34/34 [==============================] - 0s 2ms/step - loss: 7365.0835 - mae: 7365.0835\n",
            "Epoch 66/100\n",
            "34/34 [==============================] - 0s 2ms/step - loss: 7382.9185 - mae: 7382.9185\n",
            "Epoch 67/100\n",
            "34/34 [==============================] - 0s 2ms/step - loss: 7335.4517 - mae: 7335.4517\n",
            "Epoch 68/100\n",
            "34/34 [==============================] - 0s 2ms/step - loss: 7507.1665 - mae: 7507.1665\n",
            "Epoch 69/100\n",
            "34/34 [==============================] - 0s 2ms/step - loss: 7434.5732 - mae: 7434.5732\n",
            "Epoch 70/100\n",
            "34/34 [==============================] - 0s 2ms/step - loss: 7513.6646 - mae: 7513.6646\n",
            "Epoch 71/100\n",
            "34/34 [==============================] - 0s 2ms/step - loss: 7279.6128 - mae: 7279.6128\n",
            "Epoch 72/100\n",
            "34/34 [==============================] - 0s 2ms/step - loss: 7354.8989 - mae: 7354.8989\n",
            "Epoch 73/100\n",
            "34/34 [==============================] - 0s 2ms/step - loss: 7227.9565 - mae: 7227.9565\n",
            "Epoch 74/100\n",
            "34/34 [==============================] - 0s 2ms/step - loss: 7419.8979 - mae: 7419.8979\n",
            "Epoch 75/100\n",
            "34/34 [==============================] - 0s 2ms/step - loss: 7196.9658 - mae: 7196.9658\n",
            "Epoch 76/100\n",
            "34/34 [==============================] - 0s 2ms/step - loss: 7017.0371 - mae: 7017.0371\n",
            "Epoch 77/100\n",
            "34/34 [==============================] - 0s 2ms/step - loss: 7467.9058 - mae: 7467.9058\n",
            "Epoch 78/100\n",
            "34/34 [==============================] - 0s 2ms/step - loss: 7095.6577 - mae: 7095.6577\n",
            "Epoch 79/100\n",
            "34/34 [==============================] - 0s 2ms/step - loss: 7498.5229 - mae: 7498.5229\n",
            "Epoch 80/100\n",
            "34/34 [==============================] - 0s 2ms/step - loss: 7399.0420 - mae: 7399.0420\n",
            "Epoch 81/100\n",
            "34/34 [==============================] - 0s 2ms/step - loss: 7206.6299 - mae: 7206.6299\n",
            "Epoch 82/100\n",
            "34/34 [==============================] - 0s 2ms/step - loss: 7274.4941 - mae: 7274.4941\n",
            "Epoch 83/100\n",
            "34/34 [==============================] - 0s 2ms/step - loss: 7399.4365 - mae: 7399.4365\n",
            "Epoch 84/100\n",
            "34/34 [==============================] - 0s 2ms/step - loss: 7409.9541 - mae: 7409.9541\n",
            "Epoch 85/100\n",
            "34/34 [==============================] - 0s 2ms/step - loss: 7320.9395 - mae: 7320.9395\n",
            "Epoch 86/100\n",
            "34/34 [==============================] - 0s 2ms/step - loss: 7319.0840 - mae: 7319.0840\n",
            "Epoch 87/100\n",
            "34/34 [==============================] - 0s 2ms/step - loss: 7256.2061 - mae: 7256.2061\n",
            "Epoch 88/100\n",
            "34/34 [==============================] - 0s 2ms/step - loss: 7276.5713 - mae: 7276.5713\n",
            "Epoch 89/100\n",
            "34/34 [==============================] - 0s 2ms/step - loss: 7506.0752 - mae: 7506.0752\n",
            "Epoch 90/100\n",
            "34/34 [==============================] - 0s 2ms/step - loss: 7264.5107 - mae: 7264.5107\n",
            "Epoch 91/100\n",
            "34/34 [==============================] - 0s 2ms/step - loss: 7243.1797 - mae: 7243.1797\n",
            "Epoch 92/100\n",
            "34/34 [==============================] - 0s 2ms/step - loss: 7266.2754 - mae: 7266.2754\n",
            "Epoch 93/100\n",
            "34/34 [==============================] - 0s 2ms/step - loss: 7462.0586 - mae: 7462.0586\n",
            "Epoch 94/100\n",
            "34/34 [==============================] - 0s 2ms/step - loss: 7140.5449 - mae: 7140.5449\n",
            "Epoch 95/100\n",
            "34/34 [==============================] - 0s 2ms/step - loss: 7350.4238 - mae: 7350.4238\n",
            "Epoch 96/100\n",
            "34/34 [==============================] - 0s 2ms/step - loss: 7108.3145 - mae: 7108.3145\n",
            "Epoch 97/100\n",
            "34/34 [==============================] - 0s 2ms/step - loss: 7241.6406 - mae: 7241.6406\n",
            "Epoch 98/100\n",
            "34/34 [==============================] - 0s 2ms/step - loss: 7280.2285 - mae: 7280.2285\n",
            "Epoch 99/100\n",
            "34/34 [==============================] - 0s 2ms/step - loss: 7308.6440 - mae: 7308.6440\n",
            "Epoch 100/100\n",
            "34/34 [==============================] - 0s 2ms/step - loss: 7317.7271 - mae: 7317.7271\n"
          ]
        },
        {
          "output_type": "execute_result",
          "data": {
            "text/plain": [
              "<keras.callbacks.History at 0x7f0674745c70>"
            ]
          },
          "metadata": {},
          "execution_count": 96
        }
      ]
    },
    {
      "cell_type": "code",
      "source": [
        "# Check the results of the insurance model on the test data\n",
        "insurance_model.evaluate(X_test, y_test)"
      ],
      "metadata": {
        "colab": {
          "base_uri": "https://localhost:8080/"
        },
        "id": "2vRT9USgMnPM",
        "outputId": "bc005be0-1bd4-4034-a1dc-732c7f871a5d"
      },
      "execution_count": 97,
      "outputs": [
        {
          "output_type": "stream",
          "name": "stdout",
          "text": [
            "9/9 [==============================] - 0s 3ms/step - loss: 8851.7646 - mae: 8851.7646\n"
          ]
        },
        {
          "output_type": "execute_result",
          "data": {
            "text/plain": [
              "[8851.7646484375, 8851.7646484375]"
            ]
          },
          "metadata": {},
          "execution_count": 97
        }
      ]
    },
    {
      "cell_type": "code",
      "source": [
        "y_train.median(), y_train.mean()"
      ],
      "metadata": {
        "colab": {
          "base_uri": "https://localhost:8080/"
        },
        "id": "Qmg5sAcyNDAN",
        "outputId": "7222075d-df98-433d-9e44-984841a37476"
      },
      "execution_count": 98,
      "outputs": [
        {
          "output_type": "execute_result",
          "data": {
            "text/plain": [
              "(9575.4421, 13346.089736364485)"
            ]
          },
          "metadata": {},
          "execution_count": 98
        }
      ]
    },
    {
      "cell_type": "markdown",
      "source": [
        "Right now it looks like our model isn't performing too well...let's try and improve it\n",
        "\n",
        "To (try) to improve our model, we'll run 2 experiments:\n",
        "1. add an extra layer with more hidden units\n",
        "2. Train for longer\n",
        "3. (insert you own experiment here)"
      ],
      "metadata": {
        "id": "XKCrZaU1NbbF"
      }
    },
    {
      "cell_type": "code",
      "source": [
        "# Build a neural network (sort of like the model_2 above)\n",
        "tf.random.set_seed(42)\n",
        "\n",
        "# 1. Create a model\n",
        "insurance_model_2 = tf.keras.Sequential([\n",
        "    tf.keras.layers.Dense(100),\n",
        "    tf.keras.layers.Dense(10),\n",
        "    tf.keras.layers.Dense(1)\n",
        "])\n",
        "\n",
        "# 2. Compile the model - had to use Adam() as SGD() was giving us: loss: nan - mae: nan \n",
        "insurance_model_2.compile(loss=tf.keras.losses.mae,\n",
        "                        optimizer=tf.keras.optimizers.Adam(),\n",
        "                        metrics=[\"mae\"])\n",
        "\n",
        "# 3. Fit the model\n",
        "insurance_model_2.fit(X_train, y_train, epochs=100, verbose=1)"
      ],
      "metadata": {
        "colab": {
          "base_uri": "https://localhost:8080/"
        },
        "id": "PL8Pt_ymNzNO",
        "outputId": "9e236332-f20c-499f-bee7-98a4ee4097b4"
      },
      "execution_count": 100,
      "outputs": [
        {
          "output_type": "stream",
          "name": "stdout",
          "text": [
            "Epoch 1/100\n",
            "34/34 [==============================] - 1s 3ms/step - loss: 13287.9463 - mae: 13287.9463\n",
            "Epoch 2/100\n",
            "34/34 [==============================] - 0s 3ms/step - loss: 13086.9473 - mae: 13086.9473\n",
            "Epoch 3/100\n",
            "34/34 [==============================] - 0s 2ms/step - loss: 12674.9160 - mae: 12674.9160\n",
            "Epoch 4/100\n",
            "34/34 [==============================] - 0s 2ms/step - loss: 11890.5107 - mae: 11890.5107\n",
            "Epoch 5/100\n",
            "34/34 [==============================] - 0s 2ms/step - loss: 10645.5322 - mae: 10645.5322\n",
            "Epoch 6/100\n",
            "34/34 [==============================] - 0s 3ms/step - loss: 9169.8662 - mae: 9169.8662\n",
            "Epoch 7/100\n",
            "34/34 [==============================] - 0s 2ms/step - loss: 7953.7749 - mae: 7953.7749\n",
            "Epoch 8/100\n",
            "34/34 [==============================] - 0s 3ms/step - loss: 7492.2988 - mae: 7492.2988\n",
            "Epoch 9/100\n",
            "34/34 [==============================] - 0s 3ms/step - loss: 7429.7920 - mae: 7429.7920\n",
            "Epoch 10/100\n",
            "34/34 [==============================] - 0s 2ms/step - loss: 7410.1357 - mae: 7410.1357\n",
            "Epoch 11/100\n",
            "34/34 [==============================] - 0s 2ms/step - loss: 7391.3730 - mae: 7391.3730\n",
            "Epoch 12/100\n",
            "34/34 [==============================] - 0s 2ms/step - loss: 7368.4907 - mae: 7368.4907\n",
            "Epoch 13/100\n",
            "34/34 [==============================] - 0s 2ms/step - loss: 7347.5806 - mae: 7347.5806\n",
            "Epoch 14/100\n",
            "34/34 [==============================] - 0s 3ms/step - loss: 7324.7407 - mae: 7324.7407\n",
            "Epoch 15/100\n",
            "34/34 [==============================] - 0s 2ms/step - loss: 7304.8545 - mae: 7304.8545\n",
            "Epoch 16/100\n",
            "34/34 [==============================] - 0s 3ms/step - loss: 7281.7925 - mae: 7281.7925\n",
            "Epoch 17/100\n",
            "34/34 [==============================] - 0s 3ms/step - loss: 7261.0039 - mae: 7261.0039\n",
            "Epoch 18/100\n",
            "34/34 [==============================] - 0s 2ms/step - loss: 7236.6094 - mae: 7236.6094\n",
            "Epoch 19/100\n",
            "34/34 [==============================] - 0s 2ms/step - loss: 7213.2012 - mae: 7213.2012\n",
            "Epoch 20/100\n",
            "34/34 [==============================] - 0s 3ms/step - loss: 7188.4336 - mae: 7188.4336\n",
            "Epoch 21/100\n",
            "34/34 [==============================] - 0s 2ms/step - loss: 7168.8354 - mae: 7168.8354\n",
            "Epoch 22/100\n",
            "34/34 [==============================] - 0s 2ms/step - loss: 7138.9736 - mae: 7138.9736\n",
            "Epoch 23/100\n",
            "34/34 [==============================] - 0s 2ms/step - loss: 7112.3345 - mae: 7112.3345\n",
            "Epoch 24/100\n",
            "34/34 [==============================] - 0s 2ms/step - loss: 7085.3965 - mae: 7085.3965\n",
            "Epoch 25/100\n",
            "34/34 [==============================] - 0s 3ms/step - loss: 7064.3423 - mae: 7064.3423\n",
            "Epoch 26/100\n",
            "34/34 [==============================] - 0s 2ms/step - loss: 7031.4199 - mae: 7031.4199\n",
            "Epoch 27/100\n",
            "34/34 [==============================] - 0s 2ms/step - loss: 7000.2646 - mae: 7000.2646\n",
            "Epoch 28/100\n",
            "34/34 [==============================] - 0s 2ms/step - loss: 6969.1348 - mae: 6969.1348\n",
            "Epoch 29/100\n",
            "34/34 [==============================] - 0s 3ms/step - loss: 6938.5186 - mae: 6938.5186\n",
            "Epoch 30/100\n",
            "34/34 [==============================] - 0s 2ms/step - loss: 6907.4717 - mae: 6907.4717\n",
            "Epoch 31/100\n",
            "34/34 [==============================] - 0s 2ms/step - loss: 6873.8594 - mae: 6873.8594\n",
            "Epoch 32/100\n",
            "34/34 [==============================] - 0s 2ms/step - loss: 6841.6177 - mae: 6841.6177\n",
            "Epoch 33/100\n",
            "34/34 [==============================] - 0s 2ms/step - loss: 6806.6084 - mae: 6806.6084\n",
            "Epoch 34/100\n",
            "34/34 [==============================] - 0s 2ms/step - loss: 6772.6782 - mae: 6772.6782\n",
            "Epoch 35/100\n",
            "34/34 [==============================] - 0s 2ms/step - loss: 6734.3535 - mae: 6734.3535\n",
            "Epoch 36/100\n",
            "34/34 [==============================] - 0s 3ms/step - loss: 6697.3418 - mae: 6697.3418\n",
            "Epoch 37/100\n",
            "34/34 [==============================] - 0s 2ms/step - loss: 6658.1372 - mae: 6658.1372\n",
            "Epoch 38/100\n",
            "34/34 [==============================] - 0s 2ms/step - loss: 6625.9731 - mae: 6625.9731\n",
            "Epoch 39/100\n",
            "34/34 [==============================] - 0s 2ms/step - loss: 6585.9707 - mae: 6585.9707\n",
            "Epoch 40/100\n",
            "34/34 [==============================] - 0s 3ms/step - loss: 6553.4937 - mae: 6553.4937\n",
            "Epoch 41/100\n",
            "34/34 [==============================] - 0s 2ms/step - loss: 6526.9619 - mae: 6526.9619\n",
            "Epoch 42/100\n",
            "34/34 [==============================] - 0s 2ms/step - loss: 6504.0581 - mae: 6504.0581\n",
            "Epoch 43/100\n",
            "34/34 [==============================] - 0s 2ms/step - loss: 6482.0898 - mae: 6482.0898\n",
            "Epoch 44/100\n",
            "34/34 [==============================] - 0s 2ms/step - loss: 6462.9341 - mae: 6462.9341\n",
            "Epoch 45/100\n",
            "34/34 [==============================] - 0s 2ms/step - loss: 6453.4629 - mae: 6453.4629\n",
            "Epoch 46/100\n",
            "34/34 [==============================] - 0s 3ms/step - loss: 6437.2617 - mae: 6437.2617\n",
            "Epoch 47/100\n",
            "34/34 [==============================] - 0s 2ms/step - loss: 6419.6914 - mae: 6419.6914\n",
            "Epoch 48/100\n",
            "34/34 [==============================] - 0s 2ms/step - loss: 6404.8291 - mae: 6404.8291\n",
            "Epoch 49/100\n",
            "34/34 [==============================] - 0s 2ms/step - loss: 6393.7202 - mae: 6393.7202\n",
            "Epoch 50/100\n",
            "34/34 [==============================] - 0s 2ms/step - loss: 6378.3521 - mae: 6378.3521\n",
            "Epoch 51/100\n",
            "34/34 [==============================] - 0s 3ms/step - loss: 6364.2876 - mae: 6364.2876\n",
            "Epoch 52/100\n",
            "34/34 [==============================] - 0s 2ms/step - loss: 6350.9297 - mae: 6350.9297\n",
            "Epoch 53/100\n",
            "34/34 [==============================] - 0s 2ms/step - loss: 6335.3599 - mae: 6335.3599\n",
            "Epoch 54/100\n",
            "34/34 [==============================] - 0s 2ms/step - loss: 6320.5420 - mae: 6320.5420\n",
            "Epoch 55/100\n",
            "34/34 [==============================] - 0s 2ms/step - loss: 6306.0654 - mae: 6306.0654\n",
            "Epoch 56/100\n",
            "34/34 [==============================] - 0s 2ms/step - loss: 6291.2051 - mae: 6291.2051\n",
            "Epoch 57/100\n",
            "34/34 [==============================] - 0s 3ms/step - loss: 6276.3857 - mae: 6276.3857\n",
            "Epoch 58/100\n",
            "34/34 [==============================] - 0s 2ms/step - loss: 6261.7114 - mae: 6261.7114\n",
            "Epoch 59/100\n",
            "34/34 [==============================] - 0s 2ms/step - loss: 6244.3716 - mae: 6244.3716\n",
            "Epoch 60/100\n",
            "34/34 [==============================] - 0s 3ms/step - loss: 6232.1484 - mae: 6232.1484\n",
            "Epoch 61/100\n",
            "34/34 [==============================] - 0s 4ms/step - loss: 6210.0908 - mae: 6210.0908\n",
            "Epoch 62/100\n",
            "34/34 [==============================] - 0s 5ms/step - loss: 6196.9824 - mae: 6196.9824\n",
            "Epoch 63/100\n",
            "34/34 [==============================] - 0s 4ms/step - loss: 6176.2686 - mae: 6176.2686\n",
            "Epoch 64/100\n",
            "34/34 [==============================] - 0s 4ms/step - loss: 6157.6602 - mae: 6157.6602\n",
            "Epoch 65/100\n",
            "34/34 [==============================] - 0s 4ms/step - loss: 6139.4810 - mae: 6139.4810\n",
            "Epoch 66/100\n",
            "34/34 [==============================] - 0s 3ms/step - loss: 6119.4243 - mae: 6119.4243\n",
            "Epoch 67/100\n",
            "34/34 [==============================] - 0s 3ms/step - loss: 6105.8350 - mae: 6105.8350\n",
            "Epoch 68/100\n",
            "34/34 [==============================] - 0s 3ms/step - loss: 6079.9790 - mae: 6079.9790\n",
            "Epoch 69/100\n",
            "34/34 [==============================] - 0s 4ms/step - loss: 6062.0024 - mae: 6062.0024\n",
            "Epoch 70/100\n",
            "34/34 [==============================] - 0s 4ms/step - loss: 6039.1226 - mae: 6039.1226\n",
            "Epoch 71/100\n",
            "34/34 [==============================] - 0s 4ms/step - loss: 6017.1768 - mae: 6017.1768\n",
            "Epoch 72/100\n",
            "34/34 [==============================] - 0s 4ms/step - loss: 5993.1108 - mae: 5993.1108\n",
            "Epoch 73/100\n",
            "34/34 [==============================] - 0s 4ms/step - loss: 5977.2549 - mae: 5977.2549\n",
            "Epoch 74/100\n",
            "34/34 [==============================] - 0s 4ms/step - loss: 5945.2456 - mae: 5945.2456\n",
            "Epoch 75/100\n",
            "34/34 [==============================] - 0s 4ms/step - loss: 5921.8521 - mae: 5921.8521\n",
            "Epoch 76/100\n",
            "34/34 [==============================] - 0s 4ms/step - loss: 5901.6958 - mae: 5901.6958\n",
            "Epoch 77/100\n",
            "34/34 [==============================] - 0s 4ms/step - loss: 5868.1357 - mae: 5868.1357\n",
            "Epoch 78/100\n",
            "34/34 [==============================] - 0s 4ms/step - loss: 5840.1582 - mae: 5840.1582\n",
            "Epoch 79/100\n",
            "34/34 [==============================] - 0s 4ms/step - loss: 5811.0537 - mae: 5811.0537\n",
            "Epoch 80/100\n",
            "34/34 [==============================] - 0s 4ms/step - loss: 5779.3687 - mae: 5779.3687\n",
            "Epoch 81/100\n",
            "34/34 [==============================] - 0s 4ms/step - loss: 5750.2349 - mae: 5750.2349\n",
            "Epoch 82/100\n",
            "34/34 [==============================] - 0s 3ms/step - loss: 5716.2085 - mae: 5716.2085\n",
            "Epoch 83/100\n",
            "34/34 [==============================] - 0s 4ms/step - loss: 5684.2036 - mae: 5684.2036\n",
            "Epoch 84/100\n",
            "34/34 [==============================] - 0s 4ms/step - loss: 5645.8574 - mae: 5645.8574\n",
            "Epoch 85/100\n",
            "34/34 [==============================] - 0s 4ms/step - loss: 5616.1118 - mae: 5616.1118\n",
            "Epoch 86/100\n",
            "34/34 [==============================] - 0s 4ms/step - loss: 5575.0459 - mae: 5575.0459\n",
            "Epoch 87/100\n",
            "34/34 [==============================] - 0s 4ms/step - loss: 5531.6807 - mae: 5531.6807\n",
            "Epoch 88/100\n",
            "34/34 [==============================] - 0s 4ms/step - loss: 5489.5508 - mae: 5489.5508\n",
            "Epoch 89/100\n",
            "34/34 [==============================] - 0s 4ms/step - loss: 5443.9248 - mae: 5443.9248\n",
            "Epoch 90/100\n",
            "34/34 [==============================] - 0s 4ms/step - loss: 5394.3486 - mae: 5394.3486\n",
            "Epoch 91/100\n",
            "34/34 [==============================] - 0s 3ms/step - loss: 5351.1704 - mae: 5351.1704\n",
            "Epoch 92/100\n",
            "34/34 [==============================] - 0s 4ms/step - loss: 5297.3047 - mae: 5297.3047\n",
            "Epoch 93/100\n",
            "34/34 [==============================] - 0s 4ms/step - loss: 5245.0835 - mae: 5245.0835\n",
            "Epoch 94/100\n",
            "34/34 [==============================] - 0s 4ms/step - loss: 5190.5151 - mae: 5190.5151\n",
            "Epoch 95/100\n",
            "34/34 [==============================] - 0s 4ms/step - loss: 5131.0405 - mae: 5131.0405\n",
            "Epoch 96/100\n",
            "34/34 [==============================] - 0s 4ms/step - loss: 5077.9614 - mae: 5077.9614\n",
            "Epoch 97/100\n",
            "34/34 [==============================] - 0s 4ms/step - loss: 5015.1479 - mae: 5015.1479\n",
            "Epoch 98/100\n",
            "34/34 [==============================] - 0s 3ms/step - loss: 4947.9990 - mae: 4947.9990\n",
            "Epoch 99/100\n",
            "34/34 [==============================] - 0s 2ms/step - loss: 4872.8228 - mae: 4872.8228\n",
            "Epoch 100/100\n",
            "34/34 [==============================] - 0s 2ms/step - loss: 4815.5098 - mae: 4815.5098\n"
          ]
        },
        {
          "output_type": "execute_result",
          "data": {
            "text/plain": [
              "<keras.callbacks.History at 0x7f0677645730>"
            ]
          },
          "metadata": {},
          "execution_count": 100
        }
      ]
    },
    {
      "cell_type": "code",
      "source": [
        "# evaluate the larger model\n",
        "insurance_model_2.evaluate(X_test, y_test)"
      ],
      "metadata": {
        "colab": {
          "base_uri": "https://localhost:8080/"
        },
        "id": "d6YKiqklOZJo",
        "outputId": "cce3bd38-e90e-4a8d-c38e-f3ef5ca408d4"
      },
      "execution_count": 95,
      "outputs": [
        {
          "output_type": "stream",
          "name": "stdout",
          "text": [
            "9/9 [==============================] - 0s 2ms/step - loss: 4790.5093 - mae: 4790.5093\n"
          ]
        },
        {
          "output_type": "execute_result",
          "data": {
            "text/plain": [
              "[4790.50927734375, 4790.50927734375]"
            ]
          },
          "metadata": {},
          "execution_count": 95
        }
      ]
    },
    {
      "cell_type": "code",
      "source": [
        "# Build a neural network (sort of like the model_2 above)\n",
        "tf.random.set_seed(42)\n",
        "\n",
        "# 1. Create a model\n",
        "insurance_model_3 = tf.keras.Sequential([\n",
        "    tf.keras.layers.Dense(100),\n",
        "    tf.keras.layers.Dense(10),\n",
        "    tf.keras.layers.Dense(1)\n",
        "])\n",
        "\n",
        "# 2. Compile the model - had to use Adam() as SGD() was giving us: loss: nan - mae: nan \n",
        "insurance_model_3.compile(loss=tf.keras.losses.mae,\n",
        "                        optimizer=tf.keras.optimizers.Adam(),\n",
        "                        metrics=[\"mae\"])\n",
        "\n",
        "# 3. Fit the model\n",
        "history = insurance_model_3.fit(X_train, y_train, epochs=200, verbose=1)"
      ],
      "metadata": {
        "colab": {
          "base_uri": "https://localhost:8080/"
        },
        "id": "ZqG9bNW3Ojox",
        "outputId": "004478fd-724e-4505-f0fe-80c0612e48f9"
      },
      "execution_count": 101,
      "outputs": [
        {
          "output_type": "stream",
          "name": "stdout",
          "text": [
            "Epoch 1/200\n",
            "34/34 [==============================] - 2s 8ms/step - loss: 13288.9941 - mae: 13288.9941\n",
            "Epoch 2/200\n",
            "34/34 [==============================] - 0s 4ms/step - loss: 13098.5420 - mae: 13098.5420\n",
            "Epoch 3/200\n",
            "34/34 [==============================] - 0s 8ms/step - loss: 12709.5625 - mae: 12709.5625\n",
            "Epoch 4/200\n",
            "34/34 [==============================] - 0s 11ms/step - loss: 11954.6289 - mae: 11954.6289\n",
            "Epoch 5/200\n",
            "34/34 [==============================] - 0s 7ms/step - loss: 10729.4189 - mae: 10729.4189\n",
            "Epoch 6/200\n",
            "34/34 [==============================] - 0s 7ms/step - loss: 9244.1514 - mae: 9244.1514\n",
            "Epoch 7/200\n",
            "34/34 [==============================] - 0s 7ms/step - loss: 7980.4609 - mae: 7980.4609\n",
            "Epoch 8/200\n",
            "34/34 [==============================] - 0s 7ms/step - loss: 7485.3071 - mae: 7485.3071\n",
            "Epoch 9/200\n",
            "34/34 [==============================] - 0s 6ms/step - loss: 7418.6582 - mae: 7418.6582\n",
            "Epoch 10/200\n",
            "34/34 [==============================] - 0s 4ms/step - loss: 7399.4297 - mae: 7399.4297\n",
            "Epoch 11/200\n",
            "34/34 [==============================] - 0s 4ms/step - loss: 7380.9648 - mae: 7380.9648\n",
            "Epoch 12/200\n",
            "34/34 [==============================] - 0s 4ms/step - loss: 7359.0703 - mae: 7359.0703\n",
            "Epoch 13/200\n",
            "34/34 [==============================] - 0s 4ms/step - loss: 7338.8740 - mae: 7338.8740\n",
            "Epoch 14/200\n",
            "34/34 [==============================] - 0s 4ms/step - loss: 7316.4814 - mae: 7316.4814\n",
            "Epoch 15/200\n",
            "34/34 [==============================] - 0s 4ms/step - loss: 7297.8955 - mae: 7297.8955\n",
            "Epoch 16/200\n",
            "34/34 [==============================] - 0s 4ms/step - loss: 7275.4858 - mae: 7275.4858\n",
            "Epoch 17/200\n",
            "34/34 [==============================] - 0s 4ms/step - loss: 7255.2222 - mae: 7255.2222\n",
            "Epoch 18/200\n",
            "34/34 [==============================] - 0s 4ms/step - loss: 7232.2812 - mae: 7232.2812\n",
            "Epoch 19/200\n",
            "34/34 [==============================] - 0s 4ms/step - loss: 7209.7188 - mae: 7209.7188\n",
            "Epoch 20/200\n",
            "34/34 [==============================] - 0s 4ms/step - loss: 7186.0752 - mae: 7186.0752\n",
            "Epoch 21/200\n",
            "34/34 [==============================] - 0s 4ms/step - loss: 7167.7217 - mae: 7167.7217\n",
            "Epoch 22/200\n",
            "34/34 [==============================] - 0s 4ms/step - loss: 7139.4561 - mae: 7139.4561\n",
            "Epoch 23/200\n",
            "34/34 [==============================] - 0s 4ms/step - loss: 7113.9946 - mae: 7113.9946\n",
            "Epoch 24/200\n",
            "34/34 [==============================] - 0s 4ms/step - loss: 7088.9771 - mae: 7088.9771\n",
            "Epoch 25/200\n",
            "34/34 [==============================] - 0s 4ms/step - loss: 7069.8096 - mae: 7069.8096\n",
            "Epoch 26/200\n",
            "34/34 [==============================] - 0s 3ms/step - loss: 7038.8052 - mae: 7038.8052\n",
            "Epoch 27/200\n",
            "34/34 [==============================] - 0s 4ms/step - loss: 7010.0044 - mae: 7010.0044\n",
            "Epoch 28/200\n",
            "34/34 [==============================] - 0s 4ms/step - loss: 6981.5938 - mae: 6981.5938\n",
            "Epoch 29/200\n",
            "34/34 [==============================] - 0s 4ms/step - loss: 6953.2334 - mae: 6953.2334\n",
            "Epoch 30/200\n",
            "34/34 [==============================] - 0s 4ms/step - loss: 6925.2344 - mae: 6925.2344\n",
            "Epoch 31/200\n",
            "34/34 [==============================] - 0s 4ms/step - loss: 6894.2612 - mae: 6894.2612\n",
            "Epoch 32/200\n",
            "34/34 [==============================] - 0s 4ms/step - loss: 6865.9097 - mae: 6865.9097\n",
            "Epoch 33/200\n",
            "34/34 [==============================] - 0s 3ms/step - loss: 6834.4766 - mae: 6834.4766\n",
            "Epoch 34/200\n",
            "34/34 [==============================] - 0s 2ms/step - loss: 6802.3887 - mae: 6802.3887\n",
            "Epoch 35/200\n",
            "34/34 [==============================] - 0s 3ms/step - loss: 6767.5840 - mae: 6767.5840\n",
            "Epoch 36/200\n",
            "34/34 [==============================] - 0s 2ms/step - loss: 6733.0718 - mae: 6733.0718\n",
            "Epoch 37/200\n",
            "34/34 [==============================] - 0s 3ms/step - loss: 6696.4263 - mae: 6696.4263\n",
            "Epoch 38/200\n",
            "34/34 [==============================] - 0s 2ms/step - loss: 6665.2769 - mae: 6665.2769\n",
            "Epoch 39/200\n",
            "34/34 [==============================] - 0s 2ms/step - loss: 6627.6753 - mae: 6627.6753\n",
            "Epoch 40/200\n",
            "34/34 [==============================] - 0s 2ms/step - loss: 6592.9355 - mae: 6592.9355\n",
            "Epoch 41/200\n",
            "34/34 [==============================] - 0s 2ms/step - loss: 6563.1211 - mae: 6563.1211\n",
            "Epoch 42/200\n",
            "34/34 [==============================] - 0s 2ms/step - loss: 6538.1235 - mae: 6538.1235\n",
            "Epoch 43/200\n",
            "34/34 [==============================] - 0s 3ms/step - loss: 6510.1377 - mae: 6510.1377\n",
            "Epoch 44/200\n",
            "34/34 [==============================] - 0s 2ms/step - loss: 6488.7412 - mae: 6488.7412\n",
            "Epoch 45/200\n",
            "34/34 [==============================] - 0s 2ms/step - loss: 6479.7017 - mae: 6479.7017\n",
            "Epoch 46/200\n",
            "34/34 [==============================] - 0s 3ms/step - loss: 6459.7163 - mae: 6459.7163\n",
            "Epoch 47/200\n",
            "34/34 [==============================] - 0s 2ms/step - loss: 6442.9800 - mae: 6442.9800\n",
            "Epoch 48/200\n",
            "34/34 [==============================] - 0s 3ms/step - loss: 6429.4741 - mae: 6429.4741\n",
            "Epoch 49/200\n",
            "34/34 [==============================] - 0s 2ms/step - loss: 6416.0308 - mae: 6416.0308\n",
            "Epoch 50/200\n",
            "34/34 [==============================] - 0s 2ms/step - loss: 6402.0054 - mae: 6402.0054\n",
            "Epoch 51/200\n",
            "34/34 [==============================] - 0s 3ms/step - loss: 6388.3008 - mae: 6388.3008\n",
            "Epoch 52/200\n",
            "34/34 [==============================] - 0s 2ms/step - loss: 6376.4644 - mae: 6376.4644\n",
            "Epoch 53/200\n",
            "34/34 [==============================] - 0s 2ms/step - loss: 6361.1606 - mae: 6361.1606\n",
            "Epoch 54/200\n",
            "34/34 [==============================] - 0s 2ms/step - loss: 6347.5103 - mae: 6347.5103\n",
            "Epoch 55/200\n",
            "34/34 [==============================] - 0s 2ms/step - loss: 6333.7300 - mae: 6333.7300\n",
            "Epoch 56/200\n",
            "34/34 [==============================] - 0s 3ms/step - loss: 6319.0093 - mae: 6319.0093\n",
            "Epoch 57/200\n",
            "34/34 [==============================] - 0s 3ms/step - loss: 6305.6753 - mae: 6305.6753\n",
            "Epoch 58/200\n",
            "34/34 [==============================] - 0s 2ms/step - loss: 6291.2910 - mae: 6291.2910\n",
            "Epoch 59/200\n",
            "34/34 [==============================] - 0s 2ms/step - loss: 6275.4019 - mae: 6275.4019\n",
            "Epoch 60/200\n",
            "34/34 [==============================] - 0s 2ms/step - loss: 6264.2441 - mae: 6264.2441\n",
            "Epoch 61/200\n",
            "34/34 [==============================] - 0s 2ms/step - loss: 6243.7788 - mae: 6243.7788\n",
            "Epoch 62/200\n",
            "34/34 [==============================] - 0s 2ms/step - loss: 6230.9717 - mae: 6230.9717\n",
            "Epoch 63/200\n",
            "34/34 [==============================] - 0s 2ms/step - loss: 6212.4927 - mae: 6212.4927\n",
            "Epoch 64/200\n",
            "34/34 [==============================] - 0s 2ms/step - loss: 6194.4829 - mae: 6194.4829\n",
            "Epoch 65/200\n",
            "34/34 [==============================] - 0s 2ms/step - loss: 6176.6528 - mae: 6176.6528\n",
            "Epoch 66/200\n",
            "34/34 [==============================] - 0s 2ms/step - loss: 6158.6406 - mae: 6158.6406\n",
            "Epoch 67/200\n",
            "34/34 [==============================] - 0s 2ms/step - loss: 6145.4541 - mae: 6145.4541\n",
            "Epoch 68/200\n",
            "34/34 [==============================] - 0s 2ms/step - loss: 6122.0566 - mae: 6122.0566\n",
            "Epoch 69/200\n",
            "34/34 [==============================] - 0s 3ms/step - loss: 6104.6108 - mae: 6104.6108\n",
            "Epoch 70/200\n",
            "34/34 [==============================] - 0s 2ms/step - loss: 6083.5947 - mae: 6083.5947\n",
            "Epoch 71/200\n",
            "34/34 [==============================] - 0s 2ms/step - loss: 6063.0063 - mae: 6063.0063\n",
            "Epoch 72/200\n",
            "34/34 [==============================] - 0s 2ms/step - loss: 6042.0610 - mae: 6042.0610\n",
            "Epoch 73/200\n",
            "34/34 [==============================] - 0s 2ms/step - loss: 6027.6582 - mae: 6027.6582\n",
            "Epoch 74/200\n",
            "34/34 [==============================] - 0s 2ms/step - loss: 5997.3076 - mae: 5997.3076\n",
            "Epoch 75/200\n",
            "34/34 [==============================] - 0s 2ms/step - loss: 5974.7012 - mae: 5974.7012\n",
            "Epoch 76/200\n",
            "34/34 [==============================] - 0s 2ms/step - loss: 5958.4692 - mae: 5958.4692\n",
            "Epoch 77/200\n",
            "34/34 [==============================] - 0s 2ms/step - loss: 5925.7046 - mae: 5925.7046\n",
            "Epoch 78/200\n",
            "34/34 [==============================] - 0s 2ms/step - loss: 5900.4844 - mae: 5900.4844\n",
            "Epoch 79/200\n",
            "34/34 [==============================] - 0s 2ms/step - loss: 5874.3584 - mae: 5874.3584\n",
            "Epoch 80/200\n",
            "34/34 [==============================] - 0s 3ms/step - loss: 5844.5859 - mae: 5844.5859\n",
            "Epoch 81/200\n",
            "34/34 [==============================] - 0s 3ms/step - loss: 5817.8950 - mae: 5817.8950\n",
            "Epoch 82/200\n",
            "34/34 [==============================] - 0s 2ms/step - loss: 5786.7222 - mae: 5786.7222\n",
            "Epoch 83/200\n",
            "34/34 [==============================] - 0s 2ms/step - loss: 5757.2056 - mae: 5757.2056\n",
            "Epoch 84/200\n",
            "34/34 [==============================] - 0s 2ms/step - loss: 5720.8706 - mae: 5720.8706\n",
            "Epoch 85/200\n",
            "34/34 [==============================] - 0s 2ms/step - loss: 5692.7305 - mae: 5692.7305\n",
            "Epoch 86/200\n",
            "34/34 [==============================] - 0s 2ms/step - loss: 5657.1201 - mae: 5657.1201\n",
            "Epoch 87/200\n",
            "34/34 [==============================] - 0s 2ms/step - loss: 5616.5688 - mae: 5616.5688\n",
            "Epoch 88/200\n",
            "34/34 [==============================] - 0s 2ms/step - loss: 5578.5840 - mae: 5578.5840\n",
            "Epoch 89/200\n",
            "34/34 [==============================] - 0s 3ms/step - loss: 5537.2339 - mae: 5537.2339\n",
            "Epoch 90/200\n",
            "34/34 [==============================] - 0s 2ms/step - loss: 5492.2510 - mae: 5492.2510\n",
            "Epoch 91/200\n",
            "34/34 [==============================] - 0s 2ms/step - loss: 5454.0835 - mae: 5454.0835\n",
            "Epoch 92/200\n",
            "34/34 [==============================] - 0s 3ms/step - loss: 5401.3589 - mae: 5401.3589\n",
            "Epoch 93/200\n",
            "34/34 [==============================] - 0s 2ms/step - loss: 5354.9941 - mae: 5354.9941\n",
            "Epoch 94/200\n",
            "34/34 [==============================] - 0s 2ms/step - loss: 5304.6260 - mae: 5304.6260\n",
            "Epoch 95/200\n",
            "34/34 [==============================] - 0s 2ms/step - loss: 5250.2075 - mae: 5250.2075\n",
            "Epoch 96/200\n",
            "34/34 [==============================] - 0s 2ms/step - loss: 5201.9893 - mae: 5201.9893\n",
            "Epoch 97/200\n",
            "34/34 [==============================] - 0s 2ms/step - loss: 5143.5728 - mae: 5143.5728\n",
            "Epoch 98/200\n",
            "34/34 [==============================] - 0s 2ms/step - loss: 5077.0752 - mae: 5077.0752\n",
            "Epoch 99/200\n",
            "34/34 [==============================] - 0s 3ms/step - loss: 5013.2827 - mae: 5013.2827\n",
            "Epoch 100/200\n",
            "34/34 [==============================] - 0s 2ms/step - loss: 4955.3071 - mae: 4955.3071\n",
            "Epoch 101/200\n",
            "34/34 [==============================] - 0s 2ms/step - loss: 4878.1143 - mae: 4878.1143\n",
            "Epoch 102/200\n",
            "34/34 [==============================] - 0s 3ms/step - loss: 4799.3779 - mae: 4799.3779\n",
            "Epoch 103/200\n",
            "34/34 [==============================] - 0s 2ms/step - loss: 4727.0645 - mae: 4727.0645\n",
            "Epoch 104/200\n",
            "34/34 [==============================] - 0s 3ms/step - loss: 4643.0796 - mae: 4643.0796\n",
            "Epoch 105/200\n",
            "34/34 [==============================] - 0s 2ms/step - loss: 4552.1030 - mae: 4552.1030\n",
            "Epoch 106/200\n",
            "34/34 [==============================] - 0s 2ms/step - loss: 4467.0005 - mae: 4467.0005\n",
            "Epoch 107/200\n",
            "34/34 [==============================] - 0s 3ms/step - loss: 4383.0996 - mae: 4383.0996\n",
            "Epoch 108/200\n",
            "34/34 [==============================] - 0s 2ms/step - loss: 4300.8975 - mae: 4300.8975\n",
            "Epoch 109/200\n",
            "34/34 [==============================] - 0s 2ms/step - loss: 4216.0278 - mae: 4216.0278\n",
            "Epoch 110/200\n",
            "34/34 [==============================] - 0s 2ms/step - loss: 4138.8237 - mae: 4138.8237\n",
            "Epoch 111/200\n",
            "34/34 [==============================] - 0s 3ms/step - loss: 4069.2131 - mae: 4069.2131\n",
            "Epoch 112/200\n",
            "34/34 [==============================] - 0s 3ms/step - loss: 4012.9705 - mae: 4012.9705\n",
            "Epoch 113/200\n",
            "34/34 [==============================] - 0s 3ms/step - loss: 3964.1917 - mae: 3964.1917\n",
            "Epoch 114/200\n",
            "34/34 [==============================] - 0s 2ms/step - loss: 3940.0813 - mae: 3940.0813\n",
            "Epoch 115/200\n",
            "34/34 [==============================] - 0s 2ms/step - loss: 3895.3320 - mae: 3895.3320\n",
            "Epoch 116/200\n",
            "34/34 [==============================] - 0s 2ms/step - loss: 3888.1152 - mae: 3888.1152\n",
            "Epoch 117/200\n",
            "34/34 [==============================] - 0s 2ms/step - loss: 3869.7649 - mae: 3869.7649\n",
            "Epoch 118/200\n",
            "34/34 [==============================] - 0s 2ms/step - loss: 3854.9602 - mae: 3854.9602\n",
            "Epoch 119/200\n",
            "34/34 [==============================] - 0s 2ms/step - loss: 3839.5432 - mae: 3839.5432\n",
            "Epoch 120/200\n",
            "34/34 [==============================] - 0s 2ms/step - loss: 3824.6165 - mae: 3824.6165\n",
            "Epoch 121/200\n",
            "34/34 [==============================] - 0s 2ms/step - loss: 3816.1379 - mae: 3816.1379\n",
            "Epoch 122/200\n",
            "34/34 [==============================] - 0s 2ms/step - loss: 3812.0781 - mae: 3812.0781\n",
            "Epoch 123/200\n",
            "34/34 [==============================] - 0s 2ms/step - loss: 3805.5532 - mae: 3805.5532\n",
            "Epoch 124/200\n",
            "34/34 [==============================] - 0s 2ms/step - loss: 3800.5911 - mae: 3800.5911\n",
            "Epoch 125/200\n",
            "34/34 [==============================] - 0s 3ms/step - loss: 3790.6484 - mae: 3790.6484\n",
            "Epoch 126/200\n",
            "34/34 [==============================] - 0s 2ms/step - loss: 3800.7393 - mae: 3800.7393\n",
            "Epoch 127/200\n",
            "34/34 [==============================] - 0s 2ms/step - loss: 3793.6404 - mae: 3793.6404\n",
            "Epoch 128/200\n",
            "34/34 [==============================] - 0s 2ms/step - loss: 3788.6475 - mae: 3788.6475\n",
            "Epoch 129/200\n",
            "34/34 [==============================] - 0s 2ms/step - loss: 3799.3445 - mae: 3799.3445\n",
            "Epoch 130/200\n",
            "34/34 [==============================] - 0s 2ms/step - loss: 3786.0181 - mae: 3786.0181\n",
            "Epoch 131/200\n",
            "34/34 [==============================] - 0s 2ms/step - loss: 3779.1741 - mae: 3779.1741\n",
            "Epoch 132/200\n",
            "34/34 [==============================] - 0s 2ms/step - loss: 3772.5317 - mae: 3772.5317\n",
            "Epoch 133/200\n",
            "34/34 [==============================] - 0s 2ms/step - loss: 3768.8752 - mae: 3768.8752\n",
            "Epoch 134/200\n",
            "34/34 [==============================] - 0s 3ms/step - loss: 3769.1494 - mae: 3769.1494\n",
            "Epoch 135/200\n",
            "34/34 [==============================] - 0s 3ms/step - loss: 3765.7522 - mae: 3765.7522\n",
            "Epoch 136/200\n",
            "34/34 [==============================] - 0s 3ms/step - loss: 3764.3958 - mae: 3764.3958\n",
            "Epoch 137/200\n",
            "34/34 [==============================] - 0s 2ms/step - loss: 3771.3108 - mae: 3771.3108\n",
            "Epoch 138/200\n",
            "34/34 [==============================] - 0s 3ms/step - loss: 3783.4824 - mae: 3783.4824\n",
            "Epoch 139/200\n",
            "34/34 [==============================] - 0s 2ms/step - loss: 3759.9492 - mae: 3759.9492\n",
            "Epoch 140/200\n",
            "34/34 [==============================] - 0s 2ms/step - loss: 3759.4053 - mae: 3759.4053\n",
            "Epoch 141/200\n",
            "34/34 [==============================] - 0s 4ms/step - loss: 3761.1150 - mae: 3761.1150\n",
            "Epoch 142/200\n",
            "34/34 [==============================] - 0s 5ms/step - loss: 3760.6379 - mae: 3760.6379\n",
            "Epoch 143/200\n",
            "34/34 [==============================] - 0s 4ms/step - loss: 3752.5442 - mae: 3752.5442\n",
            "Epoch 144/200\n",
            "34/34 [==============================] - 0s 5ms/step - loss: 3749.0046 - mae: 3749.0046\n",
            "Epoch 145/200\n",
            "34/34 [==============================] - 0s 4ms/step - loss: 3748.6851 - mae: 3748.6851\n",
            "Epoch 146/200\n",
            "34/34 [==============================] - 0s 4ms/step - loss: 3752.0603 - mae: 3752.0603\n",
            "Epoch 147/200\n",
            "34/34 [==============================] - 0s 4ms/step - loss: 3749.7505 - mae: 3749.7505\n",
            "Epoch 148/200\n",
            "34/34 [==============================] - 0s 3ms/step - loss: 3758.9612 - mae: 3758.9612\n",
            "Epoch 149/200\n",
            "34/34 [==============================] - 0s 4ms/step - loss: 3742.0212 - mae: 3742.0212\n",
            "Epoch 150/200\n",
            "34/34 [==============================] - 0s 4ms/step - loss: 3736.7461 - mae: 3736.7461\n",
            "Epoch 151/200\n",
            "34/34 [==============================] - 0s 5ms/step - loss: 3739.7183 - mae: 3739.7183\n",
            "Epoch 152/200\n",
            "34/34 [==============================] - 0s 4ms/step - loss: 3741.1428 - mae: 3741.1428\n",
            "Epoch 153/200\n",
            "34/34 [==============================] - 0s 4ms/step - loss: 3742.4805 - mae: 3742.4805\n",
            "Epoch 154/200\n",
            "34/34 [==============================] - 0s 4ms/step - loss: 3735.2004 - mae: 3735.2004\n",
            "Epoch 155/200\n",
            "34/34 [==============================] - 0s 3ms/step - loss: 3736.3105 - mae: 3736.3105\n",
            "Epoch 156/200\n",
            "34/34 [==============================] - 0s 4ms/step - loss: 3734.7871 - mae: 3734.7871\n",
            "Epoch 157/200\n",
            "34/34 [==============================] - 0s 4ms/step - loss: 3732.7185 - mae: 3732.7185\n",
            "Epoch 158/200\n",
            "34/34 [==============================] - 0s 4ms/step - loss: 3727.8943 - mae: 3727.8943\n",
            "Epoch 159/200\n",
            "34/34 [==============================] - 0s 4ms/step - loss: 3724.5261 - mae: 3724.5261\n",
            "Epoch 160/200\n",
            "34/34 [==============================] - 0s 4ms/step - loss: 3731.3572 - mae: 3731.3572\n",
            "Epoch 161/200\n",
            "34/34 [==============================] - 0s 5ms/step - loss: 3727.0928 - mae: 3727.0928\n",
            "Epoch 162/200\n",
            "34/34 [==============================] - 0s 4ms/step - loss: 3724.2339 - mae: 3724.2339\n",
            "Epoch 163/200\n",
            "34/34 [==============================] - 0s 4ms/step - loss: 3720.9136 - mae: 3720.9136\n",
            "Epoch 164/200\n",
            "34/34 [==============================] - 0s 4ms/step - loss: 3725.6323 - mae: 3725.6323\n",
            "Epoch 165/200\n",
            "34/34 [==============================] - 0s 4ms/step - loss: 3716.3381 - mae: 3716.3381\n",
            "Epoch 166/200\n",
            "34/34 [==============================] - 0s 4ms/step - loss: 3718.6375 - mae: 3718.6375\n",
            "Epoch 167/200\n",
            "34/34 [==============================] - 0s 4ms/step - loss: 3719.0256 - mae: 3719.0256\n",
            "Epoch 168/200\n",
            "34/34 [==============================] - 0s 3ms/step - loss: 3715.7996 - mae: 3715.7996\n",
            "Epoch 169/200\n",
            "34/34 [==============================] - 0s 3ms/step - loss: 3711.6426 - mae: 3711.6426\n",
            "Epoch 170/200\n",
            "34/34 [==============================] - 0s 4ms/step - loss: 3706.4158 - mae: 3706.4158\n",
            "Epoch 171/200\n",
            "34/34 [==============================] - 0s 4ms/step - loss: 3706.6992 - mae: 3706.6992\n",
            "Epoch 172/200\n",
            "34/34 [==============================] - 0s 4ms/step - loss: 3708.8628 - mae: 3708.8628\n",
            "Epoch 173/200\n",
            "34/34 [==============================] - 0s 4ms/step - loss: 3702.1929 - mae: 3702.1929\n",
            "Epoch 174/200\n",
            "34/34 [==============================] - 0s 5ms/step - loss: 3707.3643 - mae: 3707.3643\n",
            "Epoch 175/200\n",
            "34/34 [==============================] - 0s 4ms/step - loss: 3708.4810 - mae: 3708.4810\n",
            "Epoch 176/200\n",
            "34/34 [==============================] - 0s 4ms/step - loss: 3705.8687 - mae: 3705.8687\n",
            "Epoch 177/200\n",
            "34/34 [==============================] - 0s 2ms/step - loss: 3697.3613 - mae: 3697.3613\n",
            "Epoch 178/200\n",
            "34/34 [==============================] - 0s 2ms/step - loss: 3697.9375 - mae: 3697.9375\n",
            "Epoch 179/200\n",
            "34/34 [==============================] - 0s 2ms/step - loss: 3706.9287 - mae: 3706.9287\n",
            "Epoch 180/200\n",
            "34/34 [==============================] - 0s 2ms/step - loss: 3707.4553 - mae: 3707.4553\n",
            "Epoch 181/200\n",
            "34/34 [==============================] - 0s 2ms/step - loss: 3694.4902 - mae: 3694.4902\n",
            "Epoch 182/200\n",
            "34/34 [==============================] - 0s 2ms/step - loss: 3691.9839 - mae: 3691.9839\n",
            "Epoch 183/200\n",
            "34/34 [==============================] - 0s 2ms/step - loss: 3689.9072 - mae: 3689.9072\n",
            "Epoch 184/200\n",
            "34/34 [==============================] - 0s 3ms/step - loss: 3697.1421 - mae: 3697.1421\n",
            "Epoch 185/200\n",
            "34/34 [==============================] - 0s 2ms/step - loss: 3692.2654 - mae: 3692.2654\n",
            "Epoch 186/200\n",
            "34/34 [==============================] - 0s 2ms/step - loss: 3695.4050 - mae: 3695.4050\n",
            "Epoch 187/200\n",
            "34/34 [==============================] - 0s 2ms/step - loss: 3686.5071 - mae: 3686.5071\n",
            "Epoch 188/200\n",
            "34/34 [==============================] - 0s 2ms/step - loss: 3692.9934 - mae: 3692.9934\n",
            "Epoch 189/200\n",
            "34/34 [==============================] - 0s 3ms/step - loss: 3682.1560 - mae: 3682.1560\n",
            "Epoch 190/200\n",
            "34/34 [==============================] - 0s 2ms/step - loss: 3681.6709 - mae: 3681.6709\n",
            "Epoch 191/200\n",
            "34/34 [==============================] - 0s 2ms/step - loss: 3699.8396 - mae: 3699.8396\n",
            "Epoch 192/200\n",
            "34/34 [==============================] - 0s 2ms/step - loss: 3684.1030 - mae: 3684.1030\n",
            "Epoch 193/200\n",
            "34/34 [==============================] - 0s 2ms/step - loss: 3672.7495 - mae: 3672.7495\n",
            "Epoch 194/200\n",
            "34/34 [==============================] - 0s 2ms/step - loss: 3672.8787 - mae: 3672.8787\n",
            "Epoch 195/200\n",
            "34/34 [==============================] - 0s 3ms/step - loss: 3671.4453 - mae: 3671.4453\n",
            "Epoch 196/200\n",
            "34/34 [==============================] - 0s 2ms/step - loss: 3679.9214 - mae: 3679.9214\n",
            "Epoch 197/200\n",
            "34/34 [==============================] - 0s 3ms/step - loss: 3664.5752 - mae: 3664.5752\n",
            "Epoch 198/200\n",
            "34/34 [==============================] - 0s 2ms/step - loss: 3670.1196 - mae: 3670.1196\n",
            "Epoch 199/200\n",
            "34/34 [==============================] - 0s 2ms/step - loss: 3678.6699 - mae: 3678.6699\n",
            "Epoch 200/200\n",
            "34/34 [==============================] - 0s 2ms/step - loss: 3665.5583 - mae: 3665.5583\n"
          ]
        }
      ]
    },
    {
      "cell_type": "code",
      "source": [
        "# evaluate the larger model\n",
        "insurance_model_3.evaluate(X_test, y_test)"
      ],
      "metadata": {
        "colab": {
          "base_uri": "https://localhost:8080/"
        },
        "id": "HwbUyejCQaFR",
        "outputId": "158b800a-d0da-490a-baaa-19b2b8903502"
      },
      "execution_count": 102,
      "outputs": [
        {
          "output_type": "stream",
          "name": "stdout",
          "text": [
            "9/9 [==============================] - 0s 2ms/step - loss: 3488.6794 - mae: 3488.6794\n"
          ]
        },
        {
          "output_type": "execute_result",
          "data": {
            "text/plain": [
              "[3488.679443359375, 3488.679443359375]"
            ]
          },
          "metadata": {},
          "execution_count": 102
        }
      ]
    },
    {
      "cell_type": "code",
      "source": [
        "# Plot history (also known as a loss curve or a training curve)\n",
        "pd.DataFrame(history.history).plot()\n",
        "plt.ylabel(\"loss\")\n",
        "plt.xlabel(\"epochs\")"
      ],
      "metadata": {
        "colab": {
          "base_uri": "https://localhost:8080/",
          "height": 297
        },
        "id": "ypUDFAjzQpo3",
        "outputId": "730a9323-7e72-4ee6-987e-28abc4db18ab"
      },
      "execution_count": 103,
      "outputs": [
        {
          "output_type": "execute_result",
          "data": {
            "text/plain": [
              "Text(0.5, 0, 'epochs')"
            ]
          },
          "metadata": {},
          "execution_count": 103
        },
        {
          "output_type": "display_data",
          "data": {
            "text/plain": [
              "<Figure size 432x288 with 1 Axes>"
            ],
            "image/png": "[encoded data removed]"
          },
          "metadata": {
            "needs_background": "light"
          }
        }
      ]
    },
    {
      "cell_type": "markdown",
      "source": [
        "🤔 **Question:** How long should you train for?\n",
        "\n",
        "It depends. Really... It depends on the problem you're working on. However, many people have asked this question before... so TensorFlow  has a solution! It's called the early stopping callback, which is a TF component you can add to your model to stop training once it stops improving a certain metric"
      ],
      "metadata": {
        "id": "Xrm4jTlHRC96"
      }
    },
    {
      "cell_type": "markdown",
      "source": [
        "## Preprocessing data (normalization and standardization)\n",
        "\n",
        "In terms of scaling values, neural networks tend to prefer normalization.\n",
        "\n",
        "If you're not sure on which to use, you could try to use both."
      ],
      "metadata": {
        "id": "8884Ce4vSRcv"
      }
    },
    {
      "cell_type": "code",
      "source": [
        "X"
      ],
      "metadata": {
        "colab": {
          "base_uri": "https://localhost:8080/",
          "height": 488
        },
        "id": "NxpWVj9ETr59",
        "outputId": "39bf0ea1-a1e8-4a92-ec67-ba4417b377b0"
      },
      "execution_count": 104,
      "outputs": [
        {
          "output_type": "execute_result",
          "data": {
            "text/plain": [
              "      age     bmi  children  sex_female  sex_male  smoker_no  smoker_yes  \\\n",
              "0      19  27.900         0           1         0          0           1   \n",
              "1      18  33.770         1           0         1          1           0   \n",
              "2      28  33.000         3           0         1          1           0   \n",
              "3      33  22.705         0           0         1          1           0   \n",
              "4      32  28.880         0           0         1          1           0   \n",
              "...   ...     ...       ...         ...       ...        ...         ...   \n",
              "1333   50  30.970         3           0         1          1           0   \n",
              "1334   18  31.920         0           1         0          1           0   \n",
              "1335   18  36.850         0           1         0          1           0   \n",
              "1336   21  25.800         0           1         0          1           0   \n",
              "1337   61  29.070         0           1         0          0           1   \n",
              "\n",
              "      region_northeast  region_northwest  region_southeast  region_southwest  \n",
              "0                    0                 0                 0                 1  \n",
              "1                    0                 0                 1                 0  \n",
              "2                    0                 0                 1                 0  \n",
              "3                    0                 1                 0                 0  \n",
              "4                    0                 1                 0                 0  \n",
              "...                ...               ...               ...               ...  \n",
              "1333                 0                 1                 0                 0  \n",
              "1334                 1                 0                 0                 0  \n",
              "1335                 0                 0                 1                 0  \n",
              "1336                 0                 0                 0                 1  \n",
              "1337                 0                 1                 0                 0  \n",
              "\n",
              "[1338 rows x 11 columns]"
            ],
            "text/html": [
              "\n",
              "  <div id=\"df-b768f681-7e2a-436e-91a5-53ab1d50f8dc\">\n",
              "    <div class=\"colab-df-container\">\n",
              "      <div>\n",
              "<style scoped>\n",
              "    .dataframe tbody tr th:only-of-type {\n",
              "        vertical-align: middle;\n",
              "    }\n",
              "\n",
              "    .dataframe tbody tr th {\n",
              "        vertical-align: top;\n",
              "    }\n",
              "\n",
              "    .dataframe thead th {\n",
              "        text-align: right;\n",
              "    }\n",
              "</style>\n",
              "<table border=\"1\" class=\"dataframe\">\n",
              "  <thead>\n",
              "    <tr style=\"text-align: right;\">\n",
              "      <th></th>\n",
              "      <th>age</th>\n",
              "      <th>bmi</th>\n",
              "      <th>children</th>\n",
              "      <th>sex_female</th>\n",
              "      <th>sex_male</th>\n",
              "      <th>smoker_no</th>\n",
              "      <th>smoker_yes</th>\n",
              "      <th>region_northeast</th>\n",
              "      <th>region_northwest</th>\n",
              "      <th>region_southeast</th>\n",
              "      <th>region_southwest</th>\n",
              "    </tr>\n",
              "  </thead>\n",
              "  <tbody>\n",
              "    <tr>\n",
              "      <th>0</th>\n",
              "      <td>19</td>\n",
              "      <td>27.900</td>\n",
              "      <td>0</td>\n",
              "      <td>1</td>\n",
              "      <td>0</td>\n",
              "      <td>0</td>\n",
              "      <td>1</td>\n",
              "      <td>0</td>\n",
              "      <td>0</td>\n",
              "      <td>0</td>\n",
              "      <td>1</td>\n",
              "    </tr>\n",
              "    <tr>\n",
              "      <th>1</th>\n",
              "      <td>18</td>\n",
              "      <td>33.770</td>\n",
              "      <td>1</td>\n",
              "      <td>0</td>\n",
              "      <td>1</td>\n",
              "      <td>1</td>\n",
              "      <td>0</td>\n",
              "      <td>0</td>\n",
              "      <td>0</td>\n",
              "      <td>1</td>\n",
              "      <td>0</td>\n",
              "    </tr>\n",
              "    <tr>\n",
              "      <th>2</th>\n",
              "      <td>28</td>\n",
              "      <td>33.000</td>\n",
              "      <td>3</td>\n",
              "      <td>0</td>\n",
              "      <td>1</td>\n",
              "      <td>1</td>\n",
              "      <td>0</td>\n",
              "      <td>0</td>\n",
              "      <td>0</td>\n",
              "      <td>1</td>\n",
              "      <td>0</td>\n",
              "    </tr>\n",
              "    <tr>\n",
              "      <th>3</th>\n",
              "      <td>33</td>\n",
              "      <td>22.705</td>\n",
              "      <td>0</td>\n",
              "      <td>0</td>\n",
              "      <td>1</td>\n",
              "      <td>1</td>\n",
              "      <td>0</td>\n",
              "      <td>0</td>\n",
              "      <td>1</td>\n",
              "      <td>0</td>\n",
              "      <td>0</td>\n",
              "    </tr>\n",
              "    <tr>\n",
              "      <th>4</th>\n",
              "      <td>32</td>\n",
              "      <td>28.880</td>\n",
              "      <td>0</td>\n",
              "      <td>0</td>\n",
              "      <td>1</td>\n",
              "      <td>1</td>\n",
              "      <td>0</td>\n",
              "      <td>0</td>\n",
              "      <td>1</td>\n",
              "      <td>0</td>\n",
              "      <td>0</td>\n",
              "    </tr>\n",
              "    <tr>\n",
              "      <th>...</th>\n",
              "      <td>...</td>\n",
              "      <td>...</td>\n",
              "      <td>...</td>\n",
              "      <td>...</td>\n",
              "      <td>...</td>\n",
              "      <td>...</td>\n",
              "      <td>...</td>\n",
              "      <td>...</td>\n",
              "      <td>...</td>\n",
              "      <td>...</td>\n",
              "      <td>...</td>\n",
              "    </tr>\n",
              "    <tr>\n",
              "      <th>1333</th>\n",
              "      <td>50</td>\n",
              "      <td>30.970</td>\n",
              "      <td>3</td>\n",
              "      <td>0</td>\n",
              "      <td>1</td>\n",
              "      <td>1</td>\n",
              "      <td>0</td>\n",
              "      <td>0</td>\n",
              "      <td>1</td>\n",
              "      <td>0</td>\n",
              "      <td>0</td>\n",
              "    </tr>\n",
              "    <tr>\n",
              "      <th>1334</th>\n",
              "      <td>18</td>\n",
              "      <td>31.920</td>\n",
              "      <td>0</td>\n",
              "      <td>1</td>\n",
              "      <td>0</td>\n",
              "      <td>1</td>\n",
              "      <td>0</td>\n",
              "      <td>1</td>\n",
              "      <td>0</td>\n",
              "      <td>0</td>\n",
              "      <td>0</td>\n",
              "    </tr>\n",
              "    <tr>\n",
              "      <th>1335</th>\n",
              "      <td>18</td>\n",
              "      <td>36.850</td>\n",
              "      <td>0</td>\n",
              "      <td>1</td>\n",
              "      <td>0</td>\n",
              "      <td>1</td>\n",
              "      <td>0</td>\n",
              "      <td>0</td>\n",
              "      <td>0</td>\n",
              "      <td>1</td>\n",
              "      <td>0</td>\n",
              "    </tr>\n",
              "    <tr>\n",
              "      <th>1336</th>\n",
              "      <td>21</td>\n",
              "      <td>25.800</td>\n",
              "      <td>0</td>\n",
              "      <td>1</td>\n",
              "      <td>0</td>\n",
              "      <td>1</td>\n",
              "      <td>0</td>\n",
              "      <td>0</td>\n",
              "      <td>0</td>\n",
              "      <td>0</td>\n",
              "      <td>1</td>\n",
              "    </tr>\n",
              "    <tr>\n",
              "      <th>1337</th>\n",
              "      <td>61</td>\n",
              "      <td>29.070</td>\n",
              "      <td>0</td>\n",
              "      <td>1</td>\n",
              "      <td>0</td>\n",
              "      <td>0</td>\n",
              "      <td>1</td>\n",
              "      <td>0</td>\n",
              "      <td>1</td>\n",
              "      <td>0</td>\n",
              "      <td>0</td>\n",
              "    </tr>\n",
              "  </tbody>\n",
              "</table>\n",
              "<p>1338 rows × 11 columns</p>\n",
              "</div>\n",
              "      <button class=\"colab-df-convert\" onclick=\"convertToInteractive('df-b768f681-7e2a-436e-91a5-53ab1d50f8dc')\"\n",
              "              title=\"Convert this dataframe to an interactive table.\"\n",
              "              style=\"display:none;\">\n",
              "        \n",
              "  <svg xmlns=\"http://www.w3.org/2000/svg\" height=\"24px\"viewBox=\"0 0 24 24\"\n",
              "       width=\"24px\">\n",
              "    <path d=\"M0 0h24v24H0V0z\" fill=\"none\"/>\n",
              "    <path d=\"M18.56 5.44l.94 2.06.94-2.06 2.06-.94-2.06-.94-.94-2.06-.94 2.06-2.06.94zm-11 1L8.5 8.5l.94-2.06 2.06-.94-2.06-.94L8.5 2.5l-.94 2.06-2.06.94zm10 10l.94 2.06.94-2.06 2.06-.94-2.06-.94-.94-2.06-.94 2.06-2.06.94z\"/><path d=\"M17.41 7.96l-1.37-1.37c-.4-.4-.92-.59-1.43-.59-.52 0-1.04.2-1.43.59L10.3 9.45l-7.72 7.72c-.78.78-.78 2.05 0 2.83L4 21.41c.39.39.9.59 1.41.59.51 0 1.02-.2 1.41-.59l7.78-7.78 2.81-2.81c.8-.78.8-2.07 0-2.86zM5.41 20L4 18.59l7.72-7.72 1.47 1.35L5.41 20z\"/>\n",
              "  </svg>\n",
              "      </button>\n",
              "      \n",
              "  <style>\n",
              "    .colab-df-container {\n",
              "      display:flex;\n",
              "      flex-wrap:wrap;\n",
              "      gap: 12px;\n",
              "    }\n",
              "\n",
              "    .colab-df-convert {\n",
              "      background-color: #E8F0FE;\n",
              "      border: none;\n",
              "      border-radius: 50%;\n",
              "      cursor: pointer;\n",
              "      display: none;\n",
              "      fill: #1967D2;\n",
              "      height: 32px;\n",
              "      padding: 0 0 0 0;\n",
              "      width: 32px;\n",
              "    }\n",
              "\n",
              "    .colab-df-convert:hover {\n",
              "      background-color: #E2EBFA;\n",
              "      box-shadow: 0px 1px 2px rgba(60, 64, 67, 0.3), 0px 1px 3px 1px rgba(60, 64, 67, 0.15);\n",
              "      fill: #174EA6;\n",
              "    }\n",
              "\n",
              "    [theme=dark] .colab-df-convert {\n",
              "      background-color: #3B4455;\n",
              "      fill: #D2E3FC;\n",
              "    }\n",
              "\n",
              "    [theme=dark] .colab-df-convert:hover {\n",
              "      background-color: #434B5C;\n",
              "      box-shadow: 0px 1px 3px 1px rgba(0, 0, 0, 0.15);\n",
              "      filter: drop-shadow(0px 1px 2px rgba(0, 0, 0, 0.3));\n",
              "      fill: #FFFFFF;\n",
              "    }\n",
              "  </style>\n",
              "\n",
              "      <script>\n",
              "        const buttonEl =\n",
              "          document.querySelector('#df-b768f681-7e2a-436e-91a5-53ab1d50f8dc button.colab-df-convert');\n",
              "        buttonEl.style.display =\n",
              "          google.colab.kernel.accessAllowed ? 'block' : 'none';\n",
              "\n",
              "        async function convertToInteractive(key) {\n",
              "          const element = document.querySelector('#df-b768f681-7e2a-436e-91a5-53ab1d50f8dc');\n",
              "          const dataTable =\n",
              "            await google.colab.kernel.invokeFunction('convertToInteractive',\n",
              "                                                     [key], {});\n",
              "          if (!dataTable) return;\n",
              "\n",
              "          const docLinkHtml = 'Like what you see? Visit the ' +\n",
              "            '<a target=\"_blank\" href=https://colab.research.google.com/notebooks/data_table.ipynb>data table notebook</a>'\n",
              "            + ' to learn more about interactive tables.';\n",
              "          element.innerHTML = '';\n",
              "          dataTable['output_type'] = 'display_data';\n",
              "          await google.colab.output.renderOutput(dataTable, element);\n",
              "          const docLink = document.createElement('div');\n",
              "          docLink.innerHTML = docLinkHtml;\n",
              "          element.appendChild(docLink);\n",
              "        }\n",
              "      </script>\n",
              "    </div>\n",
              "  </div>\n",
              "  "
            ]
          },
          "metadata": {},
          "execution_count": 104
        }
      ]
    },
    {
      "cell_type": "code",
      "source": [
        "X[\"age\"].plot(kind=\"hist\")"
      ],
      "metadata": {
        "colab": {
          "base_uri": "https://localhost:8080/",
          "height": 283
        },
        "id": "E5ij_fs7fbTG",
        "outputId": "9e617e60-f955-41d9-c650-837c085e4fbf"
      },
      "execution_count": 106,
      "outputs": [
        {
          "output_type": "execute_result",
          "data": {
            "text/plain": [
              "<AxesSubplot:ylabel='Frequency'>"
            ]
          },
          "metadata": {},
          "execution_count": 106
        },
        {
          "output_type": "display_data",
          "data": {
            "text/plain": [
              "<Figure size 432x288 with 1 Axes>"
            ],
            "image/png": "[encoded data removed]"
          },
          "metadata": {
            "needs_background": "light"
          }
        }
      ]
    },
    {
      "cell_type": "code",
      "source": [
        "X[\"bmi\"].plot(kind=\"hist\")"
      ],
      "metadata": {
        "colab": {
          "base_uri": "https://localhost:8080/",
          "height": 283
        },
        "id": "5wOG8jmBfgkD",
        "outputId": "2ca9e3a7-368f-4b3c-9765-03b0b4a1b1a8"
      },
      "execution_count": 107,
      "outputs": [
        {
          "output_type": "execute_result",
          "data": {
            "text/plain": [
              "<AxesSubplot:ylabel='Frequency'>"
            ]
          },
          "metadata": {},
          "execution_count": 107
        },
        {
          "output_type": "display_data",
          "data": {
            "text/plain": [
              "<Figure size 432x288 with 1 Axes>"
            ],
            "image/png": "[encoded data removed]"
          },
          "metadata": {
            "needs_background": "light"
          }
        }
      ]
    },
    {
      "cell_type": "code",
      "source": [
        "X[\"children\"].value_counts()"
      ],
      "metadata": {
        "colab": {
          "base_uri": "https://localhost:8080/"
        },
        "id": "FyYvFU7FfqW8",
        "outputId": "8abc3be1-f1bf-4465-e66d-3cd3c466bf7f"
      },
      "execution_count": 108,
      "outputs": [
        {
          "output_type": "execute_result",
          "data": {
            "text/plain": [
              "0    574\n",
              "1    324\n",
              "2    240\n",
              "3    157\n",
              "4     25\n",
              "5     18\n",
              "Name: children, dtype: int64"
            ]
          },
          "metadata": {},
          "execution_count": 108
        }
      ]
    },
    {
      "cell_type": "code",
      "source": [
        "import pandas as pd\n",
        "import matplotlib.pyplot as plt\n",
        "import tensorflow as tf\n",
        "\n",
        "# Read in the insurance dataframe\n",
        "insurance = pd.read_csv(\"https://raw.githubusercontent.com/stedy/Machine-Learning-with-R-datasets/master/insurance.csv\")\n",
        "insurance"
      ],
      "metadata": {
        "colab": {
          "base_uri": "https://localhost:8080/",
          "height": 424
        },
        "id": "f82CsrIAfvKZ",
        "outputId": "1c1afece-5b04-4757-b41a-821ad11eb472"
      },
      "execution_count": 109,
      "outputs": [
        {
          "output_type": "execute_result",
          "data": {
            "text/plain": [
              "      age     sex     bmi  children smoker     region      charges\n",
              "0      19  female  27.900         0    yes  southwest  16884.92400\n",
              "1      18    male  33.770         1     no  southeast   1725.55230\n",
              "2      28    male  33.000         3     no  southeast   4449.46200\n",
              "3      33    male  22.705         0     no  northwest  21984.47061\n",
              "4      32    male  28.880         0     no  northwest   3866.85520\n",
              "...   ...     ...     ...       ...    ...        ...          ...\n",
              "1333   50    male  30.970         3     no  northwest  10600.54830\n",
              "1334   18  female  31.920         0     no  northeast   2205.98080\n",
              "1335   18  female  36.850         0     no  southeast   1629.83350\n",
              "1336   21  female  25.800         0     no  southwest   2007.94500\n",
              "1337   61  female  29.070         0    yes  northwest  29141.36030\n",
              "\n",
              "[1338 rows x 7 columns]"
            ],
            "text/html": [
              "\n",
              "  <div id=\"df-a848db33-f93f-462e-9cda-befa21117b9f\">\n",
              "    <div class=\"colab-df-container\">\n",
              "      <div>\n",
              "<style scoped>\n",
              "    .dataframe tbody tr th:only-of-type {\n",
              "        vertical-align: middle;\n",
              "    }\n",
              "\n",
              "    .dataframe tbody tr th {\n",
              "        vertical-align: top;\n",
              "    }\n",
              "\n",
              "    .dataframe thead th {\n",
              "        text-align: right;\n",
              "    }\n",
              "</style>\n",
              "<table border=\"1\" class=\"dataframe\">\n",
              "  <thead>\n",
              "    <tr style=\"text-align: right;\">\n",
              "      <th></th>\n",
              "      <th>age</th>\n",
              "      <th>sex</th>\n",
              "      <th>bmi</th>\n",
              "      <th>children</th>\n",
              "      <th>smoker</th>\n",
              "      <th>region</th>\n",
              "      <th>charges</th>\n",
              "    </tr>\n",
              "  </thead>\n",
              "  <tbody>\n",
              "    <tr>\n",
              "      <th>0</th>\n",
              "      <td>19</td>\n",
              "      <td>female</td>\n",
              "      <td>27.900</td>\n",
              "      <td>0</td>\n",
              "      <td>yes</td>\n",
              "      <td>southwest</td>\n",
              "      <td>16884.92400</td>\n",
              "    </tr>\n",
              "    <tr>\n",
              "      <th>1</th>\n",
              "      <td>18</td>\n",
              "      <td>male</td>\n",
              "      <td>33.770</td>\n",
              "      <td>1</td>\n",
              "      <td>no</td>\n",
              "      <td>southeast</td>\n",
              "      <td>1725.55230</td>\n",
              "    </tr>\n",
              "    <tr>\n",
              "      <th>2</th>\n",
              "      <td>28</td>\n",
              "      <td>male</td>\n",
              "      <td>33.000</td>\n",
              "      <td>3</td>\n",
              "      <td>no</td>\n",
              "      <td>southeast</td>\n",
              "      <td>4449.46200</td>\n",
              "    </tr>\n",
              "    <tr>\n",
              "      <th>3</th>\n",
              "      <td>33</td>\n",
              "      <td>male</td>\n",
              "      <td>22.705</td>\n",
              "      <td>0</td>\n",
              "      <td>no</td>\n",
              "      <td>northwest</td>\n",
              "      <td>21984.47061</td>\n",
              "    </tr>\n",
              "    <tr>\n",
              "      <th>4</th>\n",
              "      <td>32</td>\n",
              "      <td>male</td>\n",
              "      <td>28.880</td>\n",
              "      <td>0</td>\n",
              "      <td>no</td>\n",
              "      <td>northwest</td>\n",
              "      <td>3866.85520</td>\n",
              "    </tr>\n",
              "    <tr>\n",
              "      <th>...</th>\n",
              "      <td>...</td>\n",
              "      <td>...</td>\n",
              "      <td>...</td>\n",
              "      <td>...</td>\n",
              "      <td>...</td>\n",
              "      <td>...</td>\n",
              "      <td>...</td>\n",
              "    </tr>\n",
              "    <tr>\n",
              "      <th>1333</th>\n",
              "      <td>50</td>\n",
              "      <td>male</td>\n",
              "      <td>30.970</td>\n",
              "      <td>3</td>\n",
              "      <td>no</td>\n",
              "      <td>northwest</td>\n",
              "      <td>10600.54830</td>\n",
              "    </tr>\n",
              "    <tr>\n",
              "      <th>1334</th>\n",
              "      <td>18</td>\n",
              "      <td>female</td>\n",
              "      <td>31.920</td>\n",
              "      <td>0</td>\n",
              "      <td>no</td>\n",
              "      <td>northeast</td>\n",
              "      <td>2205.98080</td>\n",
              "    </tr>\n",
              "    <tr>\n",
              "      <th>1335</th>\n",
              "      <td>18</td>\n",
              "      <td>female</td>\n",
              "      <td>36.850</td>\n",
              "      <td>0</td>\n",
              "      <td>no</td>\n",
              "      <td>southeast</td>\n",
              "      <td>1629.83350</td>\n",
              "    </tr>\n",
              "    <tr>\n",
              "      <th>1336</th>\n",
              "      <td>21</td>\n",
              "      <td>female</td>\n",
              "      <td>25.800</td>\n",
              "      <td>0</td>\n",
              "      <td>no</td>\n",
              "      <td>southwest</td>\n",
              "      <td>2007.94500</td>\n",
              "    </tr>\n",
              "    <tr>\n",
              "      <th>1337</th>\n",
              "      <td>61</td>\n",
              "      <td>female</td>\n",
              "      <td>29.070</td>\n",
              "      <td>0</td>\n",
              "      <td>yes</td>\n",
              "      <td>northwest</td>\n",
              "      <td>29141.36030</td>\n",
              "    </tr>\n",
              "  </tbody>\n",
              "</table>\n",
              "<p>1338 rows × 7 columns</p>\n",
              "</div>\n",
              "      <button class=\"colab-df-convert\" onclick=\"convertToInteractive('df-a848db33-f93f-462e-9cda-befa21117b9f')\"\n",
              "              title=\"Convert this dataframe to an interactive table.\"\n",
              "              style=\"display:none;\">\n",
              "        \n",
              "  <svg xmlns=\"http://www.w3.org/2000/svg\" height=\"24px\"viewBox=\"0 0 24 24\"\n",
              "       width=\"24px\">\n",
              "    <path d=\"M0 0h24v24H0V0z\" fill=\"none\"/>\n",
              "    <path d=\"M18.56 5.44l.94 2.06.94-2.06 2.06-.94-2.06-.94-.94-2.06-.94 2.06-2.06.94zm-11 1L8.5 8.5l.94-2.06 2.06-.94-2.06-.94L8.5 2.5l-.94 2.06-2.06.94zm10 10l.94 2.06.94-2.06 2.06-.94-2.06-.94-.94-2.06-.94 2.06-2.06.94z\"/><path d=\"M17.41 7.96l-1.37-1.37c-.4-.4-.92-.59-1.43-.59-.52 0-1.04.2-1.43.59L10.3 9.45l-7.72 7.72c-.78.78-.78 2.05 0 2.83L4 21.41c.39.39.9.59 1.41.59.51 0 1.02-.2 1.41-.59l7.78-7.78 2.81-2.81c.8-.78.8-2.07 0-2.86zM5.41 20L4 18.59l7.72-7.72 1.47 1.35L5.41 20z\"/>\n",
              "  </svg>\n",
              "      </button>\n",
              "      \n",
              "  <style>\n",
              "    .colab-df-container {\n",
              "      display:flex;\n",
              "      flex-wrap:wrap;\n",
              "      gap: 12px;\n",
              "    }\n",
              "\n",
              "    .colab-df-convert {\n",
              "      background-color: #E8F0FE;\n",
              "      border: none;\n",
              "      border-radius: 50%;\n",
              "      cursor: pointer;\n",
              "      display: none;\n",
              "      fill: #1967D2;\n",
              "      height: 32px;\n",
              "      padding: 0 0 0 0;\n",
              "      width: 32px;\n",
              "    }\n",
              "\n",
              "    .colab-df-convert:hover {\n",
              "      background-color: #E2EBFA;\n",
              "      box-shadow: 0px 1px 2px rgba(60, 64, 67, 0.3), 0px 1px 3px 1px rgba(60, 64, 67, 0.15);\n",
              "      fill: #174EA6;\n",
              "    }\n",
              "\n",
              "    [theme=dark] .colab-df-convert {\n",
              "      background-color: #3B4455;\n",
              "      fill: #D2E3FC;\n",
              "    }\n",
              "\n",
              "    [theme=dark] .colab-df-convert:hover {\n",
              "      background-color: #434B5C;\n",
              "      box-shadow: 0px 1px 3px 1px rgba(0, 0, 0, 0.15);\n",
              "      filter: drop-shadow(0px 1px 2px rgba(0, 0, 0, 0.3));\n",
              "      fill: #FFFFFF;\n",
              "    }\n",
              "  </style>\n",
              "\n",
              "      <script>\n",
              "        const buttonEl =\n",
              "          document.querySelector('#df-a848db33-f93f-462e-9cda-befa21117b9f button.colab-df-convert');\n",
              "        buttonEl.style.display =\n",
              "          google.colab.kernel.accessAllowed ? 'block' : 'none';\n",
              "\n",
              "        async function convertToInteractive(key) {\n",
              "          const element = document.querySelector('#df-a848db33-f93f-462e-9cda-befa21117b9f');\n",
              "          const dataTable =\n",
              "            await google.colab.kernel.invokeFunction('convertToInteractive',\n",
              "                                                     [key], {});\n",
              "          if (!dataTable) return;\n",
              "\n",
              "          const docLinkHtml = 'Like what you see? Visit the ' +\n",
              "            '<a target=\"_blank\" href=https://colab.research.google.com/notebooks/data_table.ipynb>data table notebook</a>'\n",
              "            + ' to learn more about interactive tables.';\n",
              "          element.innerHTML = '';\n",
              "          dataTable['output_type'] = 'display_data';\n",
              "          await google.colab.output.renderOutput(dataTable, element);\n",
              "          const docLink = document.createElement('div');\n",
              "          docLink.innerHTML = docLinkHtml;\n",
              "          element.appendChild(docLink);\n",
              "        }\n",
              "      </script>\n",
              "    </div>\n",
              "  </div>\n",
              "  "
            ]
          },
          "metadata": {},
          "execution_count": 109
        }
      ]
    },
    {
      "cell_type": "markdown",
      "source": [
        "To prepare our data, we can borrow a few classes from SciKit-Learn"
      ],
      "metadata": {
        "id": "WJ5NWtCChEJ_"
      }
    },
    {
      "cell_type": "code",
      "source": [
        "from sklearn.compose import make_column_transformer\n",
        "from sklearn.preprocessing import MinMaxScaler, OneHotEncoder\n",
        "from sklearn.model_selection import train_test_split\n",
        "# Create a column transformer\n",
        "ct = make_column_transformer(\n",
        "    (MinMaxScaler(), [\"age\", \"bmi\", \"children\"]),\n",
        "    (OneHotEncoder(handle_unknown=\"ignore\"), [\"sex\", \"smoker\", \"region\"])\n",
        ")\n",
        "\n",
        "# Create X & y\n",
        "X = insurance.drop(\"charges\", axis=1)\n",
        "y = insurance[\"charges\"]\n",
        "\n",
        "#  Build our train and test sets\n",
        "X_train, X_test, y_train, y_test = train_test_split(X, y, test_size=0.2, random_state=42)\n",
        "\n",
        "# Fit the column transformer to our training data\n",
        "ct.fit(X_train)\n",
        "\n",
        "# Transform training and test data with normalization (MinMaxScaler) and OneHotEncoder\n",
        "X_train_normal = ct.transform(X_train)\n",
        "X_test_normal = ct.transform(X_test)"
      ],
      "metadata": {
        "id": "F98Po2oehUFX"
      },
      "execution_count": 110,
      "outputs": []
    },
    {
      "cell_type": "code",
      "source": [
        "# What does our data look like now\n",
        "X_train.loc[0]"
      ],
      "metadata": {
        "colab": {
          "base_uri": "https://localhost:8080/"
        },
        "id": "nJ7hCh2CjMxV",
        "outputId": "829ad04e-e501-430d-fd35-b6e9e5b84eb9"
      },
      "execution_count": 111,
      "outputs": [
        {
          "output_type": "execute_result",
          "data": {
            "text/plain": [
              "age                19\n",
              "sex            female\n",
              "bmi              27.9\n",
              "children            0\n",
              "smoker            yes\n",
              "region      southwest\n",
              "Name: 0, dtype: object"
            ]
          },
          "metadata": {},
          "execution_count": 111
        }
      ]
    },
    {
      "cell_type": "code",
      "source": [
        "X_train_normal[0]\n"
      ],
      "metadata": {
        "colab": {
          "base_uri": "https://localhost:8080/"
        },
        "id": "etP92smcjTMM",
        "outputId": "d3536590-8157-4b95-fafb-09fee45c2101"
      },
      "execution_count": 114,
      "outputs": [
        {
          "output_type": "execute_result",
          "data": {
            "text/plain": [
              "array([[0.60869565, 0.10734463, 0.4       , ..., 1.        , 0.        ,\n",
              "        0.        ],\n",
              "       [0.63043478, 0.22491256, 0.        , ..., 0.        , 0.        ,\n",
              "        0.        ],\n",
              "       [0.73913043, 0.23944041, 0.        , ..., 0.        , 1.        ,\n",
              "        0.        ],\n",
              "       ...,\n",
              "       [0.86956522, 0.24791499, 0.        , ..., 0.        , 0.        ,\n",
              "        0.        ],\n",
              "       [0.41304348, 0.85122411, 0.4       , ..., 0.        , 0.        ,\n",
              "        1.        ],\n",
              "       [0.80434783, 0.37503363, 0.        , ..., 0.        , 0.        ,\n",
              "        1.        ]])"
            ]
          },
          "metadata": {},
          "execution_count": 114
        }
      ]
    },
    {
      "cell_type": "code",
      "source": [
        "X_train.shape, X_train_normal.shape"
      ],
      "metadata": {
        "colab": {
          "base_uri": "https://localhost:8080/"
        },
        "id": "o3B73ILEjXcA",
        "outputId": "35f100b9-a3f0-49da-b9b9-2d26738198db"
      },
      "execution_count": 115,
      "outputs": [
        {
          "output_type": "execute_result",
          "data": {
            "text/plain": [
              "((1070, 6), (1070, 11))"
            ]
          },
          "metadata": {},
          "execution_count": 115
        }
      ]
    },
    {
      "cell_type": "markdown",
      "source": [
        "Beautiful! Our data has been normalized and one hot encoded. Now let's build a neural network model on it and see how it goes."
      ],
      "metadata": {
        "id": "IA9iPneMjqMX"
      }
    },
    {
      "cell_type": "code",
      "source": [
        "# Build a neural network model to fit on our normalized data\n",
        "tf.random.set_seed(42)\n",
        "\n",
        "# 1. Create the model\n",
        "insurance_model_4 = tf.keras.Sequential([\n",
        "    tf.keras.layers.Dense(100),\n",
        "    tf.keras.layers.Dense(10),\n",
        "    tf.keras.layers.Dense(1)\n",
        "])\n",
        "\n",
        "# 2. Compile the model\n",
        "insurance_model_4.compile(loss=tf.keras.losses.mae,\n",
        "                          optimizer=tf.keras.optimizers.Adam(),\n",
        "                          metrics=[\"mae\"])\n",
        "\n",
        "# 3. Fit the model\n",
        "insurance_model_4.fit(X_train_normal, y_train, epochs=100 )"
      ],
      "metadata": {
        "colab": {
          "base_uri": "https://localhost:8080/"
        },
        "id": "GvyYXHZVj6iM",
        "outputId": "740b49c7-ade4-463a-fb58-5730d2e03f33"
      },
      "execution_count": 116,
      "outputs": [
        {
          "output_type": "stream",
          "name": "stdout",
          "text": [
            "Epoch 1/100\n",
            "34/34 [==============================] - 3s 5ms/step - loss: 13344.3682 - mae: 13344.3682\n",
            "Epoch 2/100\n",
            "34/34 [==============================] - 0s 5ms/step - loss: 13337.3184 - mae: 13337.3184\n",
            "Epoch 3/100\n",
            "34/34 [==============================] - 0s 5ms/step - loss: 13319.0977 - mae: 13319.0977\n",
            "Epoch 4/100\n",
            "34/34 [==============================] - 0s 7ms/step - loss: 13278.9463 - mae: 13278.9463\n",
            "Epoch 5/100\n",
            "34/34 [==============================] - 0s 7ms/step - loss: 13205.4844 - mae: 13205.4844\n",
            "Epoch 6/100\n",
            "34/34 [==============================] - 0s 6ms/step - loss: 13087.7861 - mae: 13087.7861\n",
            "Epoch 7/100\n",
            "34/34 [==============================] - 0s 9ms/step - loss: 12915.4199 - mae: 12915.4199\n",
            "Epoch 8/100\n",
            "34/34 [==============================] - 0s 7ms/step - loss: 12678.1035 - mae: 12678.1035\n",
            "Epoch 9/100\n",
            "34/34 [==============================] - 0s 9ms/step - loss: 12365.5508 - mae: 12365.5508\n",
            "Epoch 10/100\n",
            "34/34 [==============================] - 0s 7ms/step - loss: 11972.3652 - mae: 11972.3652\n",
            "Epoch 11/100\n",
            "34/34 [==============================] - 0s 9ms/step - loss: 11505.6846 - mae: 11505.6846\n",
            "Epoch 12/100\n",
            "34/34 [==============================] - 0s 6ms/step - loss: 11001.0303 - mae: 11001.0303\n",
            "Epoch 13/100\n",
            "34/34 [==============================] - 0s 4ms/step - loss: 10499.6533 - mae: 10499.6533\n",
            "Epoch 14/100\n",
            "34/34 [==============================] - 0s 7ms/step - loss: 10000.0557 - mae: 10000.0557\n",
            "Epoch 15/100\n",
            "34/34 [==============================] - 0s 7ms/step - loss: 9527.4824 - mae: 9527.4824\n",
            "Epoch 16/100\n",
            "34/34 [==============================] - 0s 10ms/step - loss: 9105.5576 - mae: 9105.5576\n",
            "Epoch 17/100\n",
            "34/34 [==============================] - 0s 11ms/step - loss: 8754.4639 - mae: 8754.4639\n",
            "Epoch 18/100\n",
            "34/34 [==============================] - 0s 9ms/step - loss: 8471.2285 - mae: 8471.2285\n",
            "Epoch 19/100\n",
            "34/34 [==============================] - 0s 9ms/step - loss: 8251.8809 - mae: 8251.8809\n",
            "Epoch 20/100\n",
            "34/34 [==============================] - 0s 6ms/step - loss: 8101.4307 - mae: 8101.4307\n",
            "Epoch 21/100\n",
            "34/34 [==============================] - 0s 5ms/step - loss: 7990.5278 - mae: 7990.5278\n",
            "Epoch 22/100\n",
            "34/34 [==============================] - 0s 8ms/step - loss: 7915.1685 - mae: 7915.1685\n",
            "Epoch 23/100\n",
            "34/34 [==============================] - 0s 6ms/step - loss: 7856.2568 - mae: 7856.2568\n",
            "Epoch 24/100\n",
            "34/34 [==============================] - 0s 4ms/step - loss: 7803.8008 - mae: 7803.8008\n",
            "Epoch 25/100\n",
            "34/34 [==============================] - 0s 4ms/step - loss: 7765.3530 - mae: 7765.3530\n",
            "Epoch 26/100\n",
            "34/34 [==============================] - 0s 4ms/step - loss: 7713.8120 - mae: 7713.8120\n",
            "Epoch 27/100\n",
            "34/34 [==============================] - 0s 4ms/step - loss: 7671.9482 - mae: 7671.9482\n",
            "Epoch 28/100\n",
            "34/34 [==============================] - 0s 4ms/step - loss: 7629.7856 - mae: 7629.7856\n",
            "Epoch 29/100\n",
            "34/34 [==============================] - 0s 4ms/step - loss: 7587.5161 - mae: 7587.5161\n",
            "Epoch 30/100\n",
            "34/34 [==============================] - 0s 4ms/step - loss: 7544.6958 - mae: 7544.6958\n",
            "Epoch 31/100\n",
            "34/34 [==============================] - 0s 4ms/step - loss: 7501.4336 - mae: 7501.4336\n",
            "Epoch 32/100\n",
            "34/34 [==============================] - 0s 4ms/step - loss: 7457.9536 - mae: 7457.9536\n",
            "Epoch 33/100\n",
            "34/34 [==============================] - 0s 4ms/step - loss: 7414.4048 - mae: 7414.4048\n",
            "Epoch 34/100\n",
            "34/34 [==============================] - 0s 4ms/step - loss: 7366.8896 - mae: 7366.8896\n",
            "Epoch 35/100\n",
            "34/34 [==============================] - 0s 4ms/step - loss: 7320.9946 - mae: 7320.9946\n",
            "Epoch 36/100\n",
            "34/34 [==============================] - 0s 4ms/step - loss: 7271.6763 - mae: 7271.6763\n",
            "Epoch 37/100\n",
            "34/34 [==============================] - 0s 4ms/step - loss: 7222.3867 - mae: 7222.3867\n",
            "Epoch 38/100\n",
            "34/34 [==============================] - 0s 4ms/step - loss: 7172.2788 - mae: 7172.2788\n",
            "Epoch 39/100\n",
            "34/34 [==============================] - 0s 4ms/step - loss: 7118.5088 - mae: 7118.5088\n",
            "Epoch 40/100\n",
            "34/34 [==============================] - 0s 4ms/step - loss: 7064.2915 - mae: 7064.2915\n",
            "Epoch 41/100\n",
            "34/34 [==============================] - 0s 4ms/step - loss: 7009.1826 - mae: 7009.1826\n",
            "Epoch 42/100\n",
            "34/34 [==============================] - 0s 4ms/step - loss: 6951.3018 - mae: 6951.3018\n",
            "Epoch 43/100\n",
            "34/34 [==============================] - 0s 3ms/step - loss: 6890.1313 - mae: 6890.1313\n",
            "Epoch 44/100\n",
            "34/34 [==============================] - 0s 2ms/step - loss: 6825.5039 - mae: 6825.5039\n",
            "Epoch 45/100\n",
            "34/34 [==============================] - 0s 2ms/step - loss: 6760.0293 - mae: 6760.0293\n",
            "Epoch 46/100\n",
            "34/34 [==============================] - 0s 3ms/step - loss: 6692.9194 - mae: 6692.9194\n",
            "Epoch 47/100\n",
            "34/34 [==============================] - 0s 2ms/step - loss: 6623.7100 - mae: 6623.7100\n",
            "Epoch 48/100\n",
            "34/34 [==============================] - 0s 3ms/step - loss: 6546.6431 - mae: 6546.6431\n",
            "Epoch 49/100\n",
            "34/34 [==============================] - 0s 3ms/step - loss: 6469.7207 - mae: 6469.7207\n",
            "Epoch 50/100\n",
            "34/34 [==============================] - 0s 2ms/step - loss: 6385.8042 - mae: 6385.8042\n",
            "Epoch 51/100\n",
            "34/34 [==============================] - 0s 2ms/step - loss: 6303.5088 - mae: 6303.5088\n",
            "Epoch 52/100\n",
            "34/34 [==============================] - 0s 3ms/step - loss: 6212.8525 - mae: 6212.8525\n",
            "Epoch 53/100\n",
            "34/34 [==============================] - 0s 2ms/step - loss: 6119.5239 - mae: 6119.5239\n",
            "Epoch 54/100\n",
            "34/34 [==============================] - 0s 2ms/step - loss: 6023.5991 - mae: 6023.5991\n",
            "Epoch 55/100\n",
            "34/34 [==============================] - 0s 3ms/step - loss: 5919.1377 - mae: 5919.1377\n",
            "Epoch 56/100\n",
            "34/34 [==============================] - 0s 3ms/step - loss: 5813.8018 - mae: 5813.8018\n",
            "Epoch 57/100\n",
            "34/34 [==============================] - 0s 3ms/step - loss: 5701.0762 - mae: 5701.0762\n",
            "Epoch 58/100\n",
            "34/34 [==============================] - 0s 2ms/step - loss: 5583.9517 - mae: 5583.9517\n",
            "Epoch 59/100\n",
            "34/34 [==============================] - 0s 2ms/step - loss: 5468.5303 - mae: 5468.5303\n",
            "Epoch 60/100\n",
            "34/34 [==============================] - 0s 2ms/step - loss: 5348.6938 - mae: 5348.6938\n",
            "Epoch 61/100\n",
            "34/34 [==============================] - 0s 3ms/step - loss: 5222.6831 - mae: 5222.6831\n",
            "Epoch 62/100\n",
            "34/34 [==============================] - 0s 2ms/step - loss: 5096.3579 - mae: 5096.3579\n",
            "Epoch 63/100\n",
            "34/34 [==============================] - 0s 3ms/step - loss: 4969.0425 - mae: 4969.0425\n",
            "Epoch 64/100\n",
            "34/34 [==============================] - 0s 2ms/step - loss: 4838.0078 - mae: 4838.0078\n",
            "Epoch 65/100\n",
            "34/34 [==============================] - 0s 2ms/step - loss: 4710.0186 - mae: 4710.0186\n",
            "Epoch 66/100\n",
            "34/34 [==============================] - 0s 2ms/step - loss: 4579.9014 - mae: 4579.9014\n",
            "Epoch 67/100\n",
            "34/34 [==============================] - 0s 3ms/step - loss: 4464.6895 - mae: 4464.6895\n",
            "Epoch 68/100\n",
            "34/34 [==============================] - 0s 2ms/step - loss: 4355.1108 - mae: 4355.1108\n",
            "Epoch 69/100\n",
            "34/34 [==============================] - 0s 3ms/step - loss: 4250.5601 - mae: 4250.5601\n",
            "Epoch 70/100\n",
            "34/34 [==============================] - 0s 3ms/step - loss: 4153.0376 - mae: 4153.0376\n",
            "Epoch 71/100\n",
            "34/34 [==============================] - 0s 2ms/step - loss: 4062.4360 - mae: 4062.4360\n",
            "Epoch 72/100\n",
            "34/34 [==============================] - 0s 2ms/step - loss: 3982.3237 - mae: 3982.3237\n",
            "Epoch 73/100\n",
            "34/34 [==============================] - 0s 3ms/step - loss: 3911.9321 - mae: 3911.9321\n",
            "Epoch 74/100\n",
            "34/34 [==============================] - 0s 2ms/step - loss: 3853.9939 - mae: 3853.9939\n",
            "Epoch 75/100\n",
            "34/34 [==============================] - 0s 2ms/step - loss: 3807.1304 - mae: 3807.1304\n",
            "Epoch 76/100\n",
            "34/34 [==============================] - 0s 2ms/step - loss: 3770.0527 - mae: 3770.0527\n",
            "Epoch 77/100\n",
            "34/34 [==============================] - 0s 2ms/step - loss: 3740.2268 - mae: 3740.2268\n",
            "Epoch 78/100\n",
            "34/34 [==============================] - 0s 3ms/step - loss: 3718.9233 - mae: 3718.9233\n",
            "Epoch 79/100\n",
            "34/34 [==============================] - 0s 2ms/step - loss: 3702.4636 - mae: 3702.4636\n",
            "Epoch 80/100\n",
            "34/34 [==============================] - 0s 3ms/step - loss: 3690.8281 - mae: 3690.8281\n",
            "Epoch 81/100\n",
            "34/34 [==============================] - 0s 2ms/step - loss: 3682.8105 - mae: 3682.8105\n",
            "Epoch 82/100\n",
            "34/34 [==============================] - 0s 3ms/step - loss: 3678.0610 - mae: 3678.0610\n",
            "Epoch 83/100\n",
            "34/34 [==============================] - 0s 3ms/step - loss: 3670.6260 - mae: 3670.6260\n",
            "Epoch 84/100\n",
            "34/34 [==============================] - 0s 2ms/step - loss: 3667.1038 - mae: 3667.1038\n",
            "Epoch 85/100\n",
            "34/34 [==============================] - 0s 3ms/step - loss: 3664.1287 - mae: 3664.1287\n",
            "Epoch 86/100\n",
            "34/34 [==============================] - 0s 2ms/step - loss: 3662.0906 - mae: 3662.0906\n",
            "Epoch 87/100\n",
            "34/34 [==============================] - 0s 3ms/step - loss: 3658.9802 - mae: 3658.9802\n",
            "Epoch 88/100\n",
            "34/34 [==============================] - 0s 3ms/step - loss: 3656.3989 - mae: 3656.3989\n",
            "Epoch 89/100\n",
            "34/34 [==============================] - 0s 2ms/step - loss: 3654.3721 - mae: 3654.3721\n",
            "Epoch 90/100\n",
            "34/34 [==============================] - 0s 3ms/step - loss: 3652.7664 - mae: 3652.7664\n",
            "Epoch 91/100\n",
            "34/34 [==============================] - 0s 3ms/step - loss: 3649.9133 - mae: 3649.9133\n",
            "Epoch 92/100\n",
            "34/34 [==============================] - 0s 3ms/step - loss: 3649.1155 - mae: 3649.1155\n",
            "Epoch 93/100\n",
            "34/34 [==============================] - 0s 3ms/step - loss: 3646.7800 - mae: 3646.7800\n",
            "Epoch 94/100\n",
            "34/34 [==============================] - 0s 3ms/step - loss: 3645.1504 - mae: 3645.1504\n",
            "Epoch 95/100\n",
            "34/34 [==============================] - 0s 3ms/step - loss: 3646.4824 - mae: 3646.4824\n",
            "Epoch 96/100\n",
            "34/34 [==============================] - 0s 2ms/step - loss: 3642.9521 - mae: 3642.9521\n",
            "Epoch 97/100\n",
            "34/34 [==============================] - 0s 2ms/step - loss: 3640.4883 - mae: 3640.4883\n",
            "Epoch 98/100\n",
            "34/34 [==============================] - 0s 3ms/step - loss: 3638.5542 - mae: 3638.5542\n",
            "Epoch 99/100\n",
            "34/34 [==============================] - 0s 3ms/step - loss: 3637.9934 - mae: 3637.9934\n",
            "Epoch 100/100\n",
            "34/34 [==============================] - 0s 2ms/step - loss: 3636.3811 - mae: 3636.3811\n"
          ]
        },
        {
          "output_type": "execute_result",
          "data": {
            "text/plain": [
              "<keras.callbacks.History at 0x7f065efbf7f0>"
            ]
          },
          "metadata": {},
          "execution_count": 116
        }
      ]
    },
    {
      "cell_type": "code",
      "source": [
        "# evaluate our insurance model trained on normalized data\n",
        "insurance_model_4.evaluate(X_test_normal, y_test)"
      ],
      "metadata": {
        "colab": {
          "base_uri": "https://localhost:8080/"
        },
        "id": "Ses1mapdktRG",
        "outputId": "4d38df04-8fb4-4f0a-eeb3-7ac1e193fed2"
      },
      "execution_count": 117,
      "outputs": [
        {
          "output_type": "stream",
          "name": "stdout",
          "text": [
            "9/9 [==============================] - 0s 4ms/step - loss: 3440.7212 - mae: 3440.7209\n"
          ]
        },
        {
          "output_type": "execute_result",
          "data": {
            "text/plain": [
              "[3440.72119140625, 3440.720947265625]"
            ]
          },
          "metadata": {},
          "execution_count": 117
        }
      ]
    },
    {
      "cell_type": "code",
      "source": [
        "# reminder: model 2 evaluation\n",
        "# 9/9 [==============================] - 0s 2ms/step - loss: 4790.5093 - mae: 4790.5093\n"
      ],
      "metadata": {
        "id": "jKcovcL7lC0u"
      },
      "execution_count": null,
      "outputs": []
    },
    {
      "cell_type": "markdown",
      "source": [
        "One hot encoding and normalization improved our mae by about 30%"
      ],
      "metadata": {
        "id": "yQK85EKVlX3i"
      }
    },
    {
      "cell_type": "code",
      "source": [],
      "metadata": {
        "id": "B3uOkvdYlbMk"
      },
      "execution_count": null,
      "outputs": []
    }
  ]
}