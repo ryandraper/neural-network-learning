{
  "nbformat": 4,
  "nbformat_minor": 0,
  "metadata": {
    "colab": {
      "provenance": [],
      "authorship_tag": "ABX9TyO9uC+WBJzNrEzRjvpMrrvS",
      "include_colab_link": true
    },
    "kernelspec": {
      "name": "python3",
      "display_name": "Python 3"
    },
    "language_info": {
      "name": "python"
    }
  },
  "cells": [
    {
      "cell_type": "markdown",
      "metadata": {
        "id": "view-in-github",
        "colab_type": "text"
      },
      "source": [
        "<a href=\"https://colab.research.google.com/github/ryandraper/neural-network-learning/blob/main/02_neural_network_classification_with_tensorflow_video.ipynb\" target=\"_parent\"><img src=\"https://colab.research.google.com/assets/colab-badge.svg\" alt=\"Open In Colab\"/></a>"
      ]
    },
    {
      "cell_type": "markdown",
      "source": [
        "# Introduction to neural network Classification with TensorFlow\n",
        "\n",
        "In this notebook we're going to learn how to write neural networks for classification problems.\n",
        "\n",
        "A classification is where you try to classify something as one thing or another.\n",
        "A few types of classification problems:\n",
        "* Binary classification\n",
        "* Multiclass classification\n",
        "* Multilabel classification"
      ],
      "metadata": {
        "id": "hCPfjAE7hJWr"
      }
    },
    {
      "cell_type": "markdown",
      "source": [
        "# Creating data to view and fit\n"
      ],
      "metadata": {
        "id": "HLv46iM6hmN6"
      }
    },
    {
      "cell_type": "code",
      "source": [
        "from sklearn.datasets import make_circles\n",
        "\n",
        "# Make 1000 examples\n",
        "n_samples = 1000\n",
        "\n",
        "# Create circles\n",
        "X, y = make_circles(n_samples,\n",
        "                    noise=0.03,\n",
        "                    random_state=42)"
      ],
      "metadata": {
        "id": "3F00_xdzhp0m"
      },
      "execution_count": 67,
      "outputs": []
    },
    {
      "cell_type": "code",
      "source": [
        "# Check out features\n",
        "X"
      ],
      "metadata": {
        "colab": {
          "base_uri": "https://localhost:8080/"
        },
        "id": "IOl95tUjL1Hd",
        "outputId": "181d6413-191d-48eb-b55c-1968c33f781b"
      },
      "execution_count": 68,
      "outputs": [
        {
          "output_type": "execute_result",
          "data": {
            "text/plain": [
              "array([[ 0.75424625,  0.23148074],\n",
              "       [-0.75615888,  0.15325888],\n",
              "       [-0.81539193,  0.17328203],\n",
              "       ...,\n",
              "       [-0.13690036, -0.81001183],\n",
              "       [ 0.67036156, -0.76750154],\n",
              "       [ 0.28105665,  0.96382443]])"
            ]
          },
          "metadata": {},
          "execution_count": 68
        }
      ]
    },
    {
      "cell_type": "code",
      "source": [
        "# Change the labels\n",
        "y[:10]"
      ],
      "metadata": {
        "colab": {
          "base_uri": "https://localhost:8080/"
        },
        "id": "vLP2vdhZL3bi",
        "outputId": "99b33f1f-98dc-4a07-da6c-d787d9a6a4a6"
      },
      "execution_count": 69,
      "outputs": [
        {
          "output_type": "execute_result",
          "data": {
            "text/plain": [
              "array([1, 1, 1, 1, 0, 1, 1, 1, 1, 0])"
            ]
          },
          "metadata": {},
          "execution_count": 69
        }
      ]
    },
    {
      "cell_type": "markdown",
      "source": [
        "Our data is a little hard to understand right now... let's visualize it\n"
      ],
      "metadata": {
        "id": "WInuc2nPMUh4"
      }
    },
    {
      "cell_type": "code",
      "source": [
        "import pandas as pd\n",
        "circles = pd.DataFrame({\"X0\":X[:,0], \"X1\":X[:,1], \"label\":y})\n",
        "circles"
      ],
      "metadata": {
        "colab": {
          "base_uri": "https://localhost:8080/",
          "height": 424
        },
        "id": "JL_7tazKL6P2",
        "outputId": "1e17e494-f206-4c4a-a026-4905fdb09661"
      },
      "execution_count": 70,
      "outputs": [
        {
          "output_type": "execute_result",
          "data": {
            "text/plain": [
              "           X0        X1  label\n",
              "0    0.754246  0.231481      1\n",
              "1   -0.756159  0.153259      1\n",
              "2   -0.815392  0.173282      1\n",
              "3   -0.393731  0.692883      1\n",
              "4    0.442208 -0.896723      0\n",
              "..        ...       ...    ...\n",
              "995  0.244054  0.944125      0\n",
              "996 -0.978655 -0.272373      0\n",
              "997 -0.136900 -0.810012      1\n",
              "998  0.670362 -0.767502      0\n",
              "999  0.281057  0.963824      0\n",
              "\n",
              "[1000 rows x 3 columns]"
            ],
            "text/html": [
              "\n",
              "  <div id=\"df-2e2446ed-7ac8-4763-adfd-ab0002a8433b\">\n",
              "    <div class=\"colab-df-container\">\n",
              "      <div>\n",
              "<style scoped>\n",
              "    .dataframe tbody tr th:only-of-type {\n",
              "        vertical-align: middle;\n",
              "    }\n",
              "\n",
              "    .dataframe tbody tr th {\n",
              "        vertical-align: top;\n",
              "    }\n",
              "\n",
              "    .dataframe thead th {\n",
              "        text-align: right;\n",
              "    }\n",
              "</style>\n",
              "<table border=\"1\" class=\"dataframe\">\n",
              "  <thead>\n",
              "    <tr style=\"text-align: right;\">\n",
              "      <th></th>\n",
              "      <th>X0</th>\n",
              "      <th>X1</th>\n",
              "      <th>label</th>\n",
              "    </tr>\n",
              "  </thead>\n",
              "  <tbody>\n",
              "    <tr>\n",
              "      <th>0</th>\n",
              "      <td>0.754246</td>\n",
              "      <td>0.231481</td>\n",
              "      <td>1</td>\n",
              "    </tr>\n",
              "    <tr>\n",
              "      <th>1</th>\n",
              "      <td>-0.756159</td>\n",
              "      <td>0.153259</td>\n",
              "      <td>1</td>\n",
              "    </tr>\n",
              "    <tr>\n",
              "      <th>2</th>\n",
              "      <td>-0.815392</td>\n",
              "      <td>0.173282</td>\n",
              "      <td>1</td>\n",
              "    </tr>\n",
              "    <tr>\n",
              "      <th>3</th>\n",
              "      <td>-0.393731</td>\n",
              "      <td>0.692883</td>\n",
              "      <td>1</td>\n",
              "    </tr>\n",
              "    <tr>\n",
              "      <th>4</th>\n",
              "      <td>0.442208</td>\n",
              "      <td>-0.896723</td>\n",
              "      <td>0</td>\n",
              "    </tr>\n",
              "    <tr>\n",
              "      <th>...</th>\n",
              "      <td>...</td>\n",
              "      <td>...</td>\n",
              "      <td>...</td>\n",
              "    </tr>\n",
              "    <tr>\n",
              "      <th>995</th>\n",
              "      <td>0.244054</td>\n",
              "      <td>0.944125</td>\n",
              "      <td>0</td>\n",
              "    </tr>\n",
              "    <tr>\n",
              "      <th>996</th>\n",
              "      <td>-0.978655</td>\n",
              "      <td>-0.272373</td>\n",
              "      <td>0</td>\n",
              "    </tr>\n",
              "    <tr>\n",
              "      <th>997</th>\n",
              "      <td>-0.136900</td>\n",
              "      <td>-0.810012</td>\n",
              "      <td>1</td>\n",
              "    </tr>\n",
              "    <tr>\n",
              "      <th>998</th>\n",
              "      <td>0.670362</td>\n",
              "      <td>-0.767502</td>\n",
              "      <td>0</td>\n",
              "    </tr>\n",
              "    <tr>\n",
              "      <th>999</th>\n",
              "      <td>0.281057</td>\n",
              "      <td>0.963824</td>\n",
              "      <td>0</td>\n",
              "    </tr>\n",
              "  </tbody>\n",
              "</table>\n",
              "<p>1000 rows × 3 columns</p>\n",
              "</div>\n",
              "      <button class=\"colab-df-convert\" onclick=\"convertToInteractive('df-2e2446ed-7ac8-4763-adfd-ab0002a8433b')\"\n",
              "              title=\"Convert this dataframe to an interactive table.\"\n",
              "              style=\"display:none;\">\n",
              "        \n",
              "  <svg xmlns=\"http://www.w3.org/2000/svg\" height=\"24px\"viewBox=\"0 0 24 24\"\n",
              "       width=\"24px\">\n",
              "    <path d=\"M0 0h24v24H0V0z\" fill=\"none\"/>\n",
              "    <path d=\"M18.56 5.44l.94 2.06.94-2.06 2.06-.94-2.06-.94-.94-2.06-.94 2.06-2.06.94zm-11 1L8.5 8.5l.94-2.06 2.06-.94-2.06-.94L8.5 2.5l-.94 2.06-2.06.94zm10 10l.94 2.06.94-2.06 2.06-.94-2.06-.94-.94-2.06-.94 2.06-2.06.94z\"/><path d=\"M17.41 7.96l-1.37-1.37c-.4-.4-.92-.59-1.43-.59-.52 0-1.04.2-1.43.59L10.3 9.45l-7.72 7.72c-.78.78-.78 2.05 0 2.83L4 21.41c.39.39.9.59 1.41.59.51 0 1.02-.2 1.41-.59l7.78-7.78 2.81-2.81c.8-.78.8-2.07 0-2.86zM5.41 20L4 18.59l7.72-7.72 1.47 1.35L5.41 20z\"/>\n",
              "  </svg>\n",
              "      </button>\n",
              "      \n",
              "  <style>\n",
              "    .colab-df-container {\n",
              "      display:flex;\n",
              "      flex-wrap:wrap;\n",
              "      gap: 12px;\n",
              "    }\n",
              "\n",
              "    .colab-df-convert {\n",
              "      background-color: #E8F0FE;\n",
              "      border: none;\n",
              "      border-radius: 50%;\n",
              "      cursor: pointer;\n",
              "      display: none;\n",
              "      fill: #1967D2;\n",
              "      height: 32px;\n",
              "      padding: 0 0 0 0;\n",
              "      width: 32px;\n",
              "    }\n",
              "\n",
              "    .colab-df-convert:hover {\n",
              "      background-color: #E2EBFA;\n",
              "      box-shadow: 0px 1px 2px rgba(60, 64, 67, 0.3), 0px 1px 3px 1px rgba(60, 64, 67, 0.15);\n",
              "      fill: #174EA6;\n",
              "    }\n",
              "\n",
              "    [theme=dark] .colab-df-convert {\n",
              "      background-color: #3B4455;\n",
              "      fill: #D2E3FC;\n",
              "    }\n",
              "\n",
              "    [theme=dark] .colab-df-convert:hover {\n",
              "      background-color: #434B5C;\n",
              "      box-shadow: 0px 1px 3px 1px rgba(0, 0, 0, 0.15);\n",
              "      filter: drop-shadow(0px 1px 2px rgba(0, 0, 0, 0.3));\n",
              "      fill: #FFFFFF;\n",
              "    }\n",
              "  </style>\n",
              "\n",
              "      <script>\n",
              "        const buttonEl =\n",
              "          document.querySelector('#df-2e2446ed-7ac8-4763-adfd-ab0002a8433b button.colab-df-convert');\n",
              "        buttonEl.style.display =\n",
              "          google.colab.kernel.accessAllowed ? 'block' : 'none';\n",
              "\n",
              "        async function convertToInteractive(key) {\n",
              "          const element = document.querySelector('#df-2e2446ed-7ac8-4763-adfd-ab0002a8433b');\n",
              "          const dataTable =\n",
              "            await google.colab.kernel.invokeFunction('convertToInteractive',\n",
              "                                                     [key], {});\n",
              "          if (!dataTable) return;\n",
              "\n",
              "          const docLinkHtml = 'Like what you see? Visit the ' +\n",
              "            '<a target=\"_blank\" href=https://colab.research.google.com/notebooks/data_table.ipynb>data table notebook</a>'\n",
              "            + ' to learn more about interactive tables.';\n",
              "          element.innerHTML = '';\n",
              "          dataTable['output_type'] = 'display_data';\n",
              "          await google.colab.output.renderOutput(dataTable, element);\n",
              "          const docLink = document.createElement('div');\n",
              "          docLink.innerHTML = docLinkHtml;\n",
              "          element.appendChild(docLink);\n",
              "        }\n",
              "      </script>\n",
              "    </div>\n",
              "  </div>\n",
              "  "
            ]
          },
          "metadata": {},
          "execution_count": 70
        }
      ]
    },
    {
      "cell_type": "code",
      "source": [
        "# Visualize with a plot\n",
        "import matplotlib.pyplot as plt\n",
        "plt.scatter(X[:, 0], X[:, 1], c=y, cmap=plt.cm.RdYlBu);"
      ],
      "metadata": {
        "colab": {
          "base_uri": "https://localhost:8080/",
          "height": 265
        },
        "id": "CvR4gX8XMoOS",
        "outputId": "2d5650b4-f233-4a8e-8ca6-536a8b9829ba"
      },
      "execution_count": 71,
      "outputs": [
        {
          "output_type": "display_data",
          "data": {
            "text/plain": [
              "<Figure size 432x288 with 1 Axes>"
            ],
            "image/png": "[encoded data removed]"
          },
          "metadata": {
            "needs_background": "light"
          }
        }
      ]
    },
    {
      "cell_type": "markdown",
      "source": [
        "## Input and output shapes"
      ],
      "metadata": {
        "id": "NXCd5LDWM2Ct"
      }
    },
    {
      "cell_type": "code",
      "source": [
        "# Check the shapes of our features and lables\n",
        "X.shape, y.shape"
      ],
      "metadata": {
        "colab": {
          "base_uri": "https://localhost:8080/"
        },
        "id": "Gx30-caINs91",
        "outputId": "9dc2c0f4-d21a-4336-db35-7a48de5e3c4a"
      },
      "execution_count": 72,
      "outputs": [
        {
          "output_type": "execute_result",
          "data": {
            "text/plain": [
              "((1000, 2), (1000,))"
            ]
          },
          "metadata": {},
          "execution_count": 72
        }
      ]
    },
    {
      "cell_type": "code",
      "source": [
        "# How many samples we're working with\n",
        "len(X), len(y)"
      ],
      "metadata": {
        "colab": {
          "base_uri": "https://localhost:8080/"
        },
        "id": "PTQ2V1FbNwIs",
        "outputId": "37aef989-7efb-4938-a686-e3995ee202df"
      },
      "execution_count": 73,
      "outputs": [
        {
          "output_type": "execute_result",
          "data": {
            "text/plain": [
              "(1000, 1000)"
            ]
          },
          "metadata": {},
          "execution_count": 73
        }
      ]
    },
    {
      "cell_type": "code",
      "source": [
        "X[0], y[0]"
      ],
      "metadata": {
        "colab": {
          "base_uri": "https://localhost:8080/"
        },
        "id": "6_5mlC7EN1zv",
        "outputId": "5a16170b-fff3-47e4-b154-5ff8f2526a7f"
      },
      "execution_count": 74,
      "outputs": [
        {
          "output_type": "execute_result",
          "data": {
            "text/plain": [
              "(array([0.75424625, 0.23148074]), 1)"
            ]
          },
          "metadata": {},
          "execution_count": 74
        }
      ]
    },
    {
      "cell_type": "markdown",
      "source": [
        "## Steps in modelling\n",
        "\n",
        "The steps in modelling with TensorFlow are typically:\n",
        "\n",
        "1. Create or import a model\n",
        "2. Compile the model\n",
        "3. Fit the model\n",
        "4. Evaluate the model\n",
        "5. Tweak\n",
        "6. Evaluate... "
      ],
      "metadata": {
        "id": "nt7lYWOHN7It"
      }
    },
    {
      "cell_type": "code",
      "source": [
        "import tensorflow as tf"
      ],
      "metadata": {
        "id": "WCwxrtNwPJ_X"
      },
      "execution_count": 75,
      "outputs": []
    },
    {
      "cell_type": "code",
      "source": [
        "# Set the random seed\n",
        "tf.random.set_seed(42)\n",
        "\n",
        "# 1. Creat the model using Sequential API\n",
        "model_1 = tf.keras.Sequential([\n",
        "    tf.keras.layers.Dense(1)\n",
        "])\n",
        "\n",
        "# 2. Compile the model\n",
        "model_1.compile(loss=tf.keras.losses.BinaryCrossentropy(),\n",
        "                optimizer=tf.keras.optimizers.SGD(),\n",
        "                metrics=[\"accuracy\"])\n",
        "\n",
        "# 3. Fit the model\n",
        "model_1.fit(X, y, epochs=5)"
      ],
      "metadata": {
        "colab": {
          "base_uri": "https://localhost:8080/"
        },
        "id": "57L6PLL1O2ks",
        "outputId": "fe4a05ce-5616-4d23-b8b5-ac8c76e47e0b"
      },
      "execution_count": 76,
      "outputs": [
        {
          "output_type": "stream",
          "name": "stdout",
          "text": [
            "Epoch 1/5\n",
            "32/32 [==============================] - 1s 5ms/step - loss: 6.0485 - accuracy: 0.4850\n",
            "Epoch 2/5\n",
            "32/32 [==============================] - 0s 5ms/step - loss: 5.1415 - accuracy: 0.4730\n",
            "Epoch 3/5\n",
            "32/32 [==============================] - 0s 4ms/step - loss: 4.2674 - accuracy: 0.4770\n",
            "Epoch 4/5\n",
            "32/32 [==============================] - 0s 5ms/step - loss: 2.3567 - accuracy: 0.4850\n",
            "Epoch 5/5\n",
            "32/32 [==============================] - 0s 4ms/step - loss: 0.7430 - accuracy: 0.4970\n"
          ]
        },
        {
          "output_type": "execute_result",
          "data": {
            "text/plain": [
              "<keras.callbacks.History at 0x7f0ca52780a0>"
            ]
          },
          "metadata": {},
          "execution_count": 76
        }
      ]
    },
    {
      "cell_type": "code",
      "source": [
        "# Let's try and improve our model by training for longer...\n",
        "model_1.fit(X, y, epochs=200, verbose=0)\n"
      ],
      "metadata": {
        "colab": {
          "base_uri": "https://localhost:8080/"
        },
        "id": "V_8OzBE9PAPP",
        "outputId": "d0aea6be-22a2-495a-81a3-6867afd353ff"
      },
      "execution_count": 77,
      "outputs": [
        {
          "output_type": "execute_result",
          "data": {
            "text/plain": [
              "<keras.callbacks.History at 0x7f0ca5263eb0>"
            ]
          },
          "metadata": {},
          "execution_count": 77
        }
      ]
    },
    {
      "cell_type": "code",
      "source": [
        "model_1.evaluate(X,y)"
      ],
      "metadata": {
        "colab": {
          "base_uri": "https://localhost:8080/"
        },
        "id": "i2J7f0P_QY-s",
        "outputId": "dc960daf-7816-4e57-dffa-a98dfbd08a07"
      },
      "execution_count": 78,
      "outputs": [
        {
          "output_type": "stream",
          "name": "stdout",
          "text": [
            "32/32 [==============================] - 0s 3ms/step - loss: 0.6935 - accuracy: 0.5000\n"
          ]
        },
        {
          "output_type": "execute_result",
          "data": {
            "text/plain": [
              "[0.6934831142425537, 0.5]"
            ]
          },
          "metadata": {},
          "execution_count": 78
        }
      ]
    },
    {
      "cell_type": "markdown",
      "source": [
        "Since we're working on a binary classification problem and our model is getting around 50% accuracy... it's performing as if it's guessing. \n",
        "So let's step things up a notch and add an extra layer."
      ],
      "metadata": {
        "id": "A9pJt4h9QnrP"
      }
    },
    {
      "cell_type": "code",
      "source": [
        "# Set the random seed\n",
        "tf.random.set_seed(42)\n",
        "\n",
        "# 1. Creat the model using Sequential API\n",
        "model_2 = tf.keras.Sequential([\n",
        "    tf.keras.layers.Dense(1),\n",
        "    tf.keras.layers.Dense(1)\n",
        "])\n",
        "\n",
        "# 2. Compile the model\n",
        "model_2.compile(loss=tf.keras.losses.BinaryCrossentropy(),\n",
        "                optimizer=tf.keras.optimizers.SGD(),\n",
        "                metrics=[\"accuracy\"])\n",
        "\n",
        "# 3. Fit the model\n",
        "model_2.fit(X, y, epochs=5)"
      ],
      "metadata": {
        "colab": {
          "base_uri": "https://localhost:8080/"
        },
        "id": "gBRzqFKtQgOw",
        "outputId": "167dc013-5861-45df-eb48-a2f9f44c8544"
      },
      "execution_count": 79,
      "outputs": [
        {
          "output_type": "stream",
          "name": "stdout",
          "text": [
            "Epoch 1/5\n",
            "32/32 [==============================] - 2s 4ms/step - loss: 1.2735 - accuracy: 0.4600\n",
            "Epoch 2/5\n",
            "32/32 [==============================] - 0s 3ms/step - loss: 0.7022 - accuracy: 0.4880\n",
            "Epoch 3/5\n",
            "32/32 [==============================] - 0s 3ms/step - loss: 0.6958 - accuracy: 0.4600\n",
            "Epoch 4/5\n",
            "32/32 [==============================] - 0s 3ms/step - loss: 0.6941 - accuracy: 0.4810\n",
            "Epoch 5/5\n",
            "32/32 [==============================] - 0s 3ms/step - loss: 0.6940 - accuracy: 0.4960\n"
          ]
        },
        {
          "output_type": "execute_result",
          "data": {
            "text/plain": [
              "<keras.callbacks.History at 0x7f0ca527ce80>"
            ]
          },
          "metadata": {},
          "execution_count": 79
        }
      ]
    },
    {
      "cell_type": "code",
      "source": [
        "# 4. Evaluate the model\n",
        "model_2.evaluate(X, y)"
      ],
      "metadata": {
        "colab": {
          "base_uri": "https://localhost:8080/"
        },
        "id": "81_3KWqdQ6Gd",
        "outputId": "51a0efb6-0103-4d68-aca4-130c97898b1d"
      },
      "execution_count": 80,
      "outputs": [
        {
          "output_type": "stream",
          "name": "stdout",
          "text": [
            "32/32 [==============================] - 0s 2ms/step - loss: 0.6932 - accuracy: 0.5140\n"
          ]
        },
        {
          "output_type": "execute_result",
          "data": {
            "text/plain": [
              "[0.6931634545326233, 0.5139999985694885]"
            ]
          },
          "metadata": {},
          "execution_count": 80
        }
      ]
    },
    {
      "cell_type": "markdown",
      "source": [
        "## Improving our Model\n",
        "\n",
        "Let's look into our bag of tricks to see how we can improve our model.\n",
        "\n",
        "1. Create a model - we might want to add more layers or increase number of hidden units within a layer. \n",
        "2. Compiling a model - here we might want to choose a different optimization function such as Adam\n",
        "3. Fitting a model - perhaps we might fit our model for more epochs (leave it training for longer)"
      ],
      "metadata": {
        "id": "rM7Mu4gJRUrf"
      }
    },
    {
      "cell_type": "code",
      "source": [
        "# Set the random seed\n",
        "tf.random.set_seed(42)\n",
        "\n",
        "# 1. Create the model (this time 3 layers)\n",
        "model_3 = tf.keras.Sequential([\n",
        "    tf.keras.layers.Dense(100), # add 100 dense neurons\n",
        "    tf.keras.layers.Dense(10),\n",
        "    tf.keras.layers.Dense(1),\n",
        "])\n",
        "\n",
        "# 2. Compile the model\n",
        "model_3.compile(loss=tf.keras.losses.BinaryCrossentropy(),\n",
        "                optimizer=tf.keras.optimizers.Adam(),\n",
        "                metrics=[\"accuracy\"])\n",
        "\n",
        "# 3. Fit the model\n",
        "model_3.fit(X, y, epochs=100, verbose=0)"
      ],
      "metadata": {
        "colab": {
          "base_uri": "https://localhost:8080/"
        },
        "id": "Md4-gCVZRlMp",
        "outputId": "bf50d1e8-32a7-4ef2-d945-568ab656db54"
      },
      "execution_count": 81,
      "outputs": [
        {
          "output_type": "execute_result",
          "data": {
            "text/plain": [
              "<keras.callbacks.History at 0x7f0ca5ede820>"
            ]
          },
          "metadata": {},
          "execution_count": 81
        }
      ]
    },
    {
      "cell_type": "code",
      "source": [
        "#4 4. evaluate the model\n",
        "model_3.evaluate(X, y)"
      ],
      "metadata": {
        "colab": {
          "base_uri": "https://localhost:8080/"
        },
        "id": "UcjFIZJyNn4u",
        "outputId": "739b67ac-04d2-4540-d2b4-78d65488c024"
      },
      "execution_count": 82,
      "outputs": [
        {
          "output_type": "stream",
          "name": "stdout",
          "text": [
            "32/32 [==============================] - 0s 3ms/step - loss: 0.6932 - accuracy: 0.5290\n"
          ]
        },
        {
          "output_type": "execute_result",
          "data": {
            "text/plain": [
              "[0.6931790709495544, 0.5289999842643738]"
            ]
          },
          "metadata": {},
          "execution_count": 82
        }
      ]
    },
    {
      "cell_type": "code",
      "source": [
        "model_3.predict(X)"
      ],
      "metadata": {
        "colab": {
          "base_uri": "https://localhost:8080/"
        },
        "id": "GzZ8JoZnOF3G",
        "outputId": "1d757582-27a5-462d-92bc-fb81b4758d21"
      },
      "execution_count": 83,
      "outputs": [
        {
          "output_type": "stream",
          "name": "stdout",
          "text": [
            "32/32 [==============================] - 0s 2ms/step\n"
          ]
        },
        {
          "output_type": "execute_result",
          "data": {
            "text/plain": [
              "array([[0.50225484],\n",
              "       [0.50474495],\n",
              "       [0.504953  ],\n",
              "       [0.5066387 ],\n",
              "       [0.49745005],\n",
              "       [0.506723  ],\n",
              "       [0.5064463 ],\n",
              "       [0.5018216 ],\n",
              "       [0.49910378],\n",
              "       [0.50769436],\n",
              "       [0.5011939 ],\n",
              "       [0.50553864],\n",
              "       [0.5067779 ],\n",
              "       [0.4995922 ],\n",
              "       [0.4986289 ],\n",
              "       [0.4985656 ],\n",
              "       [0.50271213],\n",
              "       [0.49858147],\n",
              "       [0.5036448 ],\n",
              "       [0.5002303 ],\n",
              "       [0.5035418 ],\n",
              "       [0.5077279 ],\n",
              "       [0.49785304],\n",
              "       [0.50250643],\n",
              "       [0.5064889 ],\n",
              "       [0.5053088 ],\n",
              "       [0.50672054],\n",
              "       [0.5002774 ],\n",
              "       [0.49840963],\n",
              "       [0.49910563],\n",
              "       [0.49885064],\n",
              "       [0.5077523 ],\n",
              "       [0.5063099 ],\n",
              "       [0.5007317 ],\n",
              "       [0.49764043],\n",
              "       [0.50736046],\n",
              "       [0.50638485],\n",
              "       [0.50514346],\n",
              "       [0.49851805],\n",
              "       [0.5042317 ],\n",
              "       [0.50000817],\n",
              "       [0.5063749 ],\n",
              "       [0.50068367],\n",
              "       [0.49984372],\n",
              "       [0.5013777 ],\n",
              "       [0.50262976],\n",
              "       [0.4981965 ],\n",
              "       [0.50588423],\n",
              "       [0.49770445],\n",
              "       [0.49992472],\n",
              "       [0.5046019 ],\n",
              "       [0.49849114],\n",
              "       [0.50372887],\n",
              "       [0.50458515],\n",
              "       [0.5022554 ],\n",
              "       [0.5025972 ],\n",
              "       [0.5062555 ],\n",
              "       [0.5013559 ],\n",
              "       [0.5061958 ],\n",
              "       [0.50062543],\n",
              "       [0.50124764],\n",
              "       [0.50364333],\n",
              "       [0.50313455],\n",
              "       [0.50668114],\n",
              "       [0.5058232 ],\n",
              "       [0.5063424 ],\n",
              "       [0.50644064],\n",
              "       [0.49895766],\n",
              "       [0.504916  ],\n",
              "       [0.5032548 ],\n",
              "       [0.5067494 ],\n",
              "       [0.50024426],\n",
              "       [0.5052146 ],\n",
              "       [0.5045042 ],\n",
              "       [0.5016262 ],\n",
              "       [0.5020226 ],\n",
              "       [0.50645304],\n",
              "       [0.503059  ],\n",
              "       [0.5057045 ],\n",
              "       [0.50082123],\n",
              "       [0.5061826 ],\n",
              "       [0.504579  ],\n",
              "       [0.50252116],\n",
              "       [0.5049044 ],\n",
              "       [0.5001557 ],\n",
              "       [0.50371146],\n",
              "       [0.50093895],\n",
              "       [0.5055905 ],\n",
              "       [0.50403756],\n",
              "       [0.49988657],\n",
              "       [0.4976355 ],\n",
              "       [0.49836954],\n",
              "       [0.502296  ],\n",
              "       [0.50632536],\n",
              "       [0.50234294],\n",
              "       [0.49745533],\n",
              "       [0.50345033],\n",
              "       [0.50616795],\n",
              "       [0.50462085],\n",
              "       [0.5001274 ],\n",
              "       [0.50526   ],\n",
              "       [0.49841192],\n",
              "       [0.4987896 ],\n",
              "       [0.503856  ],\n",
              "       [0.5064702 ],\n",
              "       [0.50689244],\n",
              "       [0.50385356],\n",
              "       [0.4993141 ],\n",
              "       [0.507536  ],\n",
              "       [0.49853924],\n",
              "       [0.50252044],\n",
              "       [0.5006573 ],\n",
              "       [0.50063515],\n",
              "       [0.5008229 ],\n",
              "       [0.50586194],\n",
              "       [0.49776742],\n",
              "       [0.5074654 ],\n",
              "       [0.5001906 ],\n",
              "       [0.5028614 ],\n",
              "       [0.5016524 ],\n",
              "       [0.49846083],\n",
              "       [0.49751776],\n",
              "       [0.5058034 ],\n",
              "       [0.50401175],\n",
              "       [0.50546974],\n",
              "       [0.5040774 ],\n",
              "       [0.5048193 ],\n",
              "       [0.4982546 ],\n",
              "       [0.49891418],\n",
              "       [0.501717  ],\n",
              "       [0.5056813 ],\n",
              "       [0.4992731 ],\n",
              "       [0.50321704],\n",
              "       [0.50081617],\n",
              "       [0.5023676 ],\n",
              "       [0.504329  ],\n",
              "       [0.5071342 ],\n",
              "       [0.50623685],\n",
              "       [0.5021891 ],\n",
              "       [0.50532585],\n",
              "       [0.503367  ],\n",
              "       [0.5044266 ],\n",
              "       [0.50552547],\n",
              "       [0.5026157 ],\n",
              "       [0.4984522 ],\n",
              "       [0.4983667 ],\n",
              "       [0.50106865],\n",
              "       [0.504682  ],\n",
              "       [0.5006117 ],\n",
              "       [0.4999712 ],\n",
              "       [0.50658625],\n",
              "       [0.5077201 ],\n",
              "       [0.50010455],\n",
              "       [0.49776843],\n",
              "       [0.49899945],\n",
              "       [0.49875885],\n",
              "       [0.5006654 ],\n",
              "       [0.50594836],\n",
              "       [0.50451636],\n",
              "       [0.49841297],\n",
              "       [0.50565034],\n",
              "       [0.5032299 ],\n",
              "       [0.50644463],\n",
              "       [0.50684553],\n",
              "       [0.49900192],\n",
              "       [0.5066471 ],\n",
              "       [0.50150585],\n",
              "       [0.5064194 ],\n",
              "       [0.5006104 ],\n",
              "       [0.5007919 ],\n",
              "       [0.49810195],\n",
              "       [0.4996098 ],\n",
              "       [0.5069546 ],\n",
              "       [0.50056136],\n",
              "       [0.49961343],\n",
              "       [0.4981455 ],\n",
              "       [0.5039951 ],\n",
              "       [0.503868  ],\n",
              "       [0.50138354],\n",
              "       [0.5065147 ],\n",
              "       [0.50005096],\n",
              "       [0.50667024],\n",
              "       [0.49770114],\n",
              "       [0.5024148 ],\n",
              "       [0.49982002],\n",
              "       [0.50763726],\n",
              "       [0.49832022],\n",
              "       [0.49778566],\n",
              "       [0.49901113],\n",
              "       [0.5041815 ],\n",
              "       [0.4990916 ],\n",
              "       [0.50030684],\n",
              "       [0.5068181 ],\n",
              "       [0.5068059 ],\n",
              "       [0.506515  ],\n",
              "       [0.4977442 ],\n",
              "       [0.49937108],\n",
              "       [0.50656956],\n",
              "       [0.50609595],\n",
              "       [0.5053914 ],\n",
              "       [0.5024779 ],\n",
              "       [0.502786  ],\n",
              "       [0.50624937],\n",
              "       [0.50400704],\n",
              "       [0.5000161 ],\n",
              "       [0.5056118 ],\n",
              "       [0.50773454],\n",
              "       [0.49838614],\n",
              "       [0.5004168 ],\n",
              "       [0.5004579 ],\n",
              "       [0.50493795],\n",
              "       [0.50782233],\n",
              "       [0.49860254],\n",
              "       [0.50019836],\n",
              "       [0.50648236],\n",
              "       [0.49928823],\n",
              "       [0.5067156 ],\n",
              "       [0.5044537 ],\n",
              "       [0.49841997],\n",
              "       [0.5056758 ],\n",
              "       [0.50121605],\n",
              "       [0.50488394],\n",
              "       [0.4999556 ],\n",
              "       [0.5036976 ],\n",
              "       [0.49832466],\n",
              "       [0.5008354 ],\n",
              "       [0.5032606 ],\n",
              "       [0.49848467],\n",
              "       [0.49841022],\n",
              "       [0.50296146],\n",
              "       [0.4990626 ],\n",
              "       [0.50090665],\n",
              "       [0.49980438],\n",
              "       [0.5050722 ],\n",
              "       [0.5028197 ],\n",
              "       [0.50262284],\n",
              "       [0.50567865],\n",
              "       [0.49932358],\n",
              "       [0.5073393 ],\n",
              "       [0.49954578],\n",
              "       [0.5009221 ],\n",
              "       [0.5067017 ],\n",
              "       [0.50182617],\n",
              "       [0.50158304],\n",
              "       [0.5013049 ],\n",
              "       [0.5071475 ],\n",
              "       [0.4976944 ],\n",
              "       [0.5054214 ],\n",
              "       [0.50559545],\n",
              "       [0.502226  ],\n",
              "       [0.50558275],\n",
              "       [0.5005784 ],\n",
              "       [0.5022019 ],\n",
              "       [0.49866253],\n",
              "       [0.49761358],\n",
              "       [0.5000445 ],\n",
              "       [0.501975  ],\n",
              "       [0.4982759 ],\n",
              "       [0.49839023],\n",
              "       [0.501035  ],\n",
              "       [0.50511265],\n",
              "       [0.4990172 ],\n",
              "       [0.50617766],\n",
              "       [0.5036033 ],\n",
              "       [0.4984693 ],\n",
              "       [0.49881756],\n",
              "       [0.5018224 ],\n",
              "       [0.49775687],\n",
              "       [0.5064474 ],\n",
              "       [0.4975642 ],\n",
              "       [0.49995586],\n",
              "       [0.507251  ],\n",
              "       [0.49850473],\n",
              "       [0.50453126],\n",
              "       [0.50237775],\n",
              "       [0.50177443],\n",
              "       [0.50716394],\n",
              "       [0.5059908 ],\n",
              "       [0.50554323],\n",
              "       [0.50234014],\n",
              "       [0.50511634],\n",
              "       [0.50199646],\n",
              "       [0.50510466],\n",
              "       [0.5019707 ],\n",
              "       [0.5065558 ],\n",
              "       [0.50566536],\n",
              "       [0.49856588],\n",
              "       [0.4982845 ],\n",
              "       [0.50566554],\n",
              "       [0.49928793],\n",
              "       [0.49901402],\n",
              "       [0.5017197 ],\n",
              "       [0.5011312 ],\n",
              "       [0.49883163],\n",
              "       [0.49805593],\n",
              "       [0.4988064 ],\n",
              "       [0.49858674],\n",
              "       [0.49791843],\n",
              "       [0.50115377],\n",
              "       [0.5077106 ],\n",
              "       [0.50303304],\n",
              "       [0.4980795 ],\n",
              "       [0.49968708],\n",
              "       [0.49770728],\n",
              "       [0.5027062 ],\n",
              "       [0.49891984],\n",
              "       [0.49900618],\n",
              "       [0.5047969 ],\n",
              "       [0.49877524],\n",
              "       [0.5044924 ],\n",
              "       [0.5056316 ],\n",
              "       [0.50244147],\n",
              "       [0.5049458 ],\n",
              "       [0.50570357],\n",
              "       [0.49833015],\n",
              "       [0.4983639 ],\n",
              "       [0.5055145 ],\n",
              "       [0.49851847],\n",
              "       [0.50521606],\n",
              "       [0.50638723],\n",
              "       [0.50540406],\n",
              "       [0.5076128 ],\n",
              "       [0.5012179 ],\n",
              "       [0.506452  ],\n",
              "       [0.5027215 ],\n",
              "       [0.501427  ],\n",
              "       [0.49874982],\n",
              "       [0.49971026],\n",
              "       [0.5058411 ],\n",
              "       [0.5073842 ],\n",
              "       [0.5058428 ],\n",
              "       [0.50040376],\n",
              "       [0.5051951 ],\n",
              "       [0.5061717 ],\n",
              "       [0.50054616],\n",
              "       [0.5004162 ],\n",
              "       [0.5060419 ],\n",
              "       [0.50357455],\n",
              "       [0.4984865 ],\n",
              "       [0.5026612 ],\n",
              "       [0.4992625 ],\n",
              "       [0.4972402 ],\n",
              "       [0.5077097 ],\n",
              "       [0.5072671 ],\n",
              "       [0.49765512],\n",
              "       [0.49748382],\n",
              "       [0.5037046 ],\n",
              "       [0.4985111 ],\n",
              "       [0.5062344 ],\n",
              "       [0.49878773],\n",
              "       [0.5077294 ],\n",
              "       [0.5028577 ],\n",
              "       [0.49873415],\n",
              "       [0.50526035],\n",
              "       [0.50176823],\n",
              "       [0.50763696],\n",
              "       [0.5013645 ],\n",
              "       [0.49744397],\n",
              "       [0.49951953],\n",
              "       [0.50750226],\n",
              "       [0.49767092],\n",
              "       [0.50516754],\n",
              "       [0.50763595],\n",
              "       [0.49831414],\n",
              "       [0.50774556],\n",
              "       [0.5023794 ],\n",
              "       [0.50294733],\n",
              "       [0.5072455 ],\n",
              "       [0.49736866],\n",
              "       [0.49905747],\n",
              "       [0.5076012 ],\n",
              "       [0.50589466],\n",
              "       [0.5077201 ],\n",
              "       [0.5077851 ],\n",
              "       [0.5011009 ],\n",
              "       [0.50432724],\n",
              "       [0.49946484],\n",
              "       [0.50547016],\n",
              "       [0.49849123],\n",
              "       [0.5009624 ],\n",
              "       [0.5049881 ],\n",
              "       [0.5077954 ],\n",
              "       [0.50211436],\n",
              "       [0.5052701 ],\n",
              "       [0.5060808 ],\n",
              "       [0.4985758 ],\n",
              "       [0.50126714],\n",
              "       [0.5073792 ],\n",
              "       [0.50037843],\n",
              "       [0.5030048 ],\n",
              "       [0.50739294],\n",
              "       [0.5032575 ],\n",
              "       [0.50608027],\n",
              "       [0.5067429 ],\n",
              "       [0.5052124 ],\n",
              "       [0.5044451 ],\n",
              "       [0.4977326 ],\n",
              "       [0.49800712],\n",
              "       [0.50390226],\n",
              "       [0.5007784 ],\n",
              "       [0.5020737 ],\n",
              "       [0.49897447],\n",
              "       [0.5030172 ],\n",
              "       [0.5026478 ],\n",
              "       [0.50609297],\n",
              "       [0.5060439 ],\n",
              "       [0.49865577],\n",
              "       [0.4995601 ],\n",
              "       [0.50397974],\n",
              "       [0.50121254],\n",
              "       [0.5019227 ],\n",
              "       [0.49825722],\n",
              "       [0.50254166],\n",
              "       [0.503382  ],\n",
              "       [0.50076663],\n",
              "       [0.50588804],\n",
              "       [0.5065542 ],\n",
              "       [0.50017595],\n",
              "       [0.5020182 ],\n",
              "       [0.4982083 ],\n",
              "       [0.5020446 ],\n",
              "       [0.5056059 ],\n",
              "       [0.4996318 ],\n",
              "       [0.50469995],\n",
              "       [0.4976123 ],\n",
              "       [0.4981367 ],\n",
              "       [0.50571823],\n",
              "       [0.5044121 ],\n",
              "       [0.50677085],\n",
              "       [0.5032503 ],\n",
              "       [0.5022564 ],\n",
              "       [0.49808615],\n",
              "       [0.49859428],\n",
              "       [0.49849084],\n",
              "       [0.50288504],\n",
              "       [0.50146425],\n",
              "       [0.50753087],\n",
              "       [0.49791807],\n",
              "       [0.498498  ],\n",
              "       [0.50600344],\n",
              "       [0.5059464 ],\n",
              "       [0.5046292 ],\n",
              "       [0.49972302],\n",
              "       [0.50690013],\n",
              "       [0.50336814],\n",
              "       [0.5049143 ],\n",
              "       [0.5064482 ],\n",
              "       [0.5076006 ],\n",
              "       [0.5067932 ],\n",
              "       [0.5065755 ],\n",
              "       [0.50519323],\n",
              "       [0.49882743],\n",
              "       [0.4972756 ],\n",
              "       [0.50777316],\n",
              "       [0.5046174 ],\n",
              "       [0.5066705 ],\n",
              "       [0.49857798],\n",
              "       [0.50674146],\n",
              "       [0.4978988 ],\n",
              "       [0.4974637 ],\n",
              "       [0.5050979 ],\n",
              "       [0.506888  ],\n",
              "       [0.5054655 ],\n",
              "       [0.49960482],\n",
              "       [0.49739417],\n",
              "       [0.50689375],\n",
              "       [0.5069778 ],\n",
              "       [0.49739876],\n",
              "       [0.50206345],\n",
              "       [0.49850622],\n",
              "       [0.49774477],\n",
              "       [0.5059882 ],\n",
              "       [0.49851397],\n",
              "       [0.5059207 ],\n",
              "       [0.49908197],\n",
              "       [0.50039726],\n",
              "       [0.49870905],\n",
              "       [0.4987576 ],\n",
              "       [0.5060612 ],\n",
              "       [0.50569415],\n",
              "       [0.50592315],\n",
              "       [0.5063264 ],\n",
              "       [0.50163144],\n",
              "       [0.4973631 ],\n",
              "       [0.5027597 ],\n",
              "       [0.50318915],\n",
              "       [0.5034204 ],\n",
              "       [0.4993478 ],\n",
              "       [0.5077226 ],\n",
              "       [0.50039357],\n",
              "       [0.49838644],\n",
              "       [0.5057685 ],\n",
              "       [0.50371426],\n",
              "       [0.5066816 ],\n",
              "       [0.49774233],\n",
              "       [0.50742376],\n",
              "       [0.4981158 ],\n",
              "       [0.49769175],\n",
              "       [0.4989101 ],\n",
              "       [0.49856687],\n",
              "       [0.5066336 ],\n",
              "       [0.50758904],\n",
              "       [0.49729583],\n",
              "       [0.4983684 ],\n",
              "       [0.50190777],\n",
              "       [0.4993325 ],\n",
              "       [0.5063727 ],\n",
              "       [0.49754402],\n",
              "       [0.4995196 ],\n",
              "       [0.5040748 ],\n",
              "       [0.5038787 ],\n",
              "       [0.5029421 ],\n",
              "       [0.49929854],\n",
              "       [0.50158525],\n",
              "       [0.4997974 ],\n",
              "       [0.50352114],\n",
              "       [0.5061512 ],\n",
              "       [0.5079141 ],\n",
              "       [0.50032943],\n",
              "       [0.5020599 ],\n",
              "       [0.49832556],\n",
              "       [0.50655466],\n",
              "       [0.49940032],\n",
              "       [0.4990962 ],\n",
              "       [0.49794242],\n",
              "       [0.5035354 ],\n",
              "       [0.5000999 ],\n",
              "       [0.5071306 ],\n",
              "       [0.50624305],\n",
              "       [0.50628823],\n",
              "       [0.5039234 ],\n",
              "       [0.5049688 ],\n",
              "       [0.50646675],\n",
              "       [0.50228894],\n",
              "       [0.499438  ],\n",
              "       [0.4978654 ],\n",
              "       [0.50781554],\n",
              "       [0.50531024],\n",
              "       [0.5048969 ],\n",
              "       [0.49822104],\n",
              "       [0.50734276],\n",
              "       [0.50317454],\n",
              "       [0.5051262 ],\n",
              "       [0.50006187],\n",
              "       [0.5073223 ],\n",
              "       [0.49893066],\n",
              "       [0.5015817 ],\n",
              "       [0.5004603 ],\n",
              "       [0.50547004],\n",
              "       [0.5072756 ],\n",
              "       [0.50720084],\n",
              "       [0.49915487],\n",
              "       [0.50632685],\n",
              "       [0.5041325 ],\n",
              "       [0.4990939 ],\n",
              "       [0.4985011 ],\n",
              "       [0.49792242],\n",
              "       [0.50333166],\n",
              "       [0.50374323],\n",
              "       [0.49868745],\n",
              "       [0.50704783],\n",
              "       [0.50094295],\n",
              "       [0.5001271 ],\n",
              "       [0.5047696 ],\n",
              "       [0.5036186 ],\n",
              "       [0.49774376],\n",
              "       [0.50676215],\n",
              "       [0.5007357 ],\n",
              "       [0.49918145],\n",
              "       [0.49946007],\n",
              "       [0.5076817 ],\n",
              "       [0.5070833 ],\n",
              "       [0.50240684],\n",
              "       [0.50412   ],\n",
              "       [0.49867576],\n",
              "       [0.49863476],\n",
              "       [0.5075198 ],\n",
              "       [0.4988251 ],\n",
              "       [0.49754548],\n",
              "       [0.50654495],\n",
              "       [0.50016826],\n",
              "       [0.50199467],\n",
              "       [0.50086516],\n",
              "       [0.5021185 ],\n",
              "       [0.5013497 ],\n",
              "       [0.49751195],\n",
              "       [0.50301415],\n",
              "       [0.50607187],\n",
              "       [0.5032418 ],\n",
              "       [0.5075387 ],\n",
              "       [0.5046463 ],\n",
              "       [0.50031763],\n",
              "       [0.5067802 ],\n",
              "       [0.5039352 ],\n",
              "       [0.49903402],\n",
              "       [0.5076298 ],\n",
              "       [0.5020164 ],\n",
              "       [0.5058784 ],\n",
              "       [0.5045784 ],\n",
              "       [0.50462854],\n",
              "       [0.50155497],\n",
              "       [0.5075118 ],\n",
              "       [0.49996814],\n",
              "       [0.50403523],\n",
              "       [0.5066212 ],\n",
              "       [0.49958768],\n",
              "       [0.5073818 ],\n",
              "       [0.50716263],\n",
              "       [0.5065573 ],\n",
              "       [0.50594133],\n",
              "       [0.5073378 ],\n",
              "       [0.50122076],\n",
              "       [0.503374  ],\n",
              "       [0.50586545],\n",
              "       [0.5054522 ],\n",
              "       [0.50646514],\n",
              "       [0.49978504],\n",
              "       [0.50190294],\n",
              "       [0.5003306 ],\n",
              "       [0.5034247 ],\n",
              "       [0.49844632],\n",
              "       [0.5074299 ],\n",
              "       [0.4990906 ],\n",
              "       [0.5074164 ],\n",
              "       [0.50162977],\n",
              "       [0.50161517],\n",
              "       [0.5035849 ],\n",
              "       [0.5001612 ],\n",
              "       [0.4988052 ],\n",
              "       [0.50182116],\n",
              "       [0.4992469 ],\n",
              "       [0.4992354 ],\n",
              "       [0.5025419 ],\n",
              "       [0.50540066],\n",
              "       [0.49852622],\n",
              "       [0.5057863 ],\n",
              "       [0.5024927 ],\n",
              "       [0.49908635],\n",
              "       [0.49774563],\n",
              "       [0.4992188 ],\n",
              "       [0.4978321 ],\n",
              "       [0.5056628 ],\n",
              "       [0.50287044],\n",
              "       [0.4995227 ],\n",
              "       [0.49791524],\n",
              "       [0.49869144],\n",
              "       [0.49974483],\n",
              "       [0.49947718],\n",
              "       [0.50582916],\n",
              "       [0.49972802],\n",
              "       [0.50689673],\n",
              "       [0.49949625],\n",
              "       [0.49913302],\n",
              "       [0.50130063],\n",
              "       [0.49950957],\n",
              "       [0.50005674],\n",
              "       [0.5051746 ],\n",
              "       [0.4997243 ],\n",
              "       [0.50770754],\n",
              "       [0.498737  ],\n",
              "       [0.50774115],\n",
              "       [0.5017748 ],\n",
              "       [0.5005706 ],\n",
              "       [0.5038449 ],\n",
              "       [0.5069293 ],\n",
              "       [0.50606406],\n",
              "       [0.5062522 ],\n",
              "       [0.5064287 ],\n",
              "       [0.49781108],\n",
              "       [0.4973377 ],\n",
              "       [0.5039332 ],\n",
              "       [0.5051713 ],\n",
              "       [0.5026444 ],\n",
              "       [0.50661165],\n",
              "       [0.5072562 ],\n",
              "       [0.5040802 ],\n",
              "       [0.5078326 ],\n",
              "       [0.4973086 ],\n",
              "       [0.4986472 ],\n",
              "       [0.50648504],\n",
              "       [0.5066378 ],\n",
              "       [0.49983913],\n",
              "       [0.50343823],\n",
              "       [0.50111884],\n",
              "       [0.5012773 ],\n",
              "       [0.50264645],\n",
              "       [0.49815366],\n",
              "       [0.5070355 ],\n",
              "       [0.5044052 ],\n",
              "       [0.50116396],\n",
              "       [0.5041278 ],\n",
              "       [0.50452465],\n",
              "       [0.50648636],\n",
              "       [0.5051533 ],\n",
              "       [0.49858636],\n",
              "       [0.50389737],\n",
              "       [0.5058912 ],\n",
              "       [0.5015463 ],\n",
              "       [0.49760067],\n",
              "       [0.5076744 ],\n",
              "       [0.50202626],\n",
              "       [0.50626004],\n",
              "       [0.49835172],\n",
              "       [0.5034834 ],\n",
              "       [0.49876937],\n",
              "       [0.49988875],\n",
              "       [0.50784874],\n",
              "       [0.507585  ],\n",
              "       [0.50525117],\n",
              "       [0.49878263],\n",
              "       [0.50452393],\n",
              "       [0.5065477 ],\n",
              "       [0.49865136],\n",
              "       [0.49889156],\n",
              "       [0.4998964 ],\n",
              "       [0.5072295 ],\n",
              "       [0.5074418 ],\n",
              "       [0.49934208],\n",
              "       [0.5060697 ],\n",
              "       [0.5077077 ],\n",
              "       [0.4991992 ],\n",
              "       [0.50695646],\n",
              "       [0.50599885],\n",
              "       [0.50273055],\n",
              "       [0.50173837],\n",
              "       [0.49736062],\n",
              "       [0.50730824],\n",
              "       [0.5073162 ],\n",
              "       [0.50680023],\n",
              "       [0.49772778],\n",
              "       [0.5048217 ],\n",
              "       [0.49757954],\n",
              "       [0.4987643 ],\n",
              "       [0.50335   ],\n",
              "       [0.49872866],\n",
              "       [0.50005233],\n",
              "       [0.49871066],\n",
              "       [0.50714064],\n",
              "       [0.5066529 ],\n",
              "       [0.49761143],\n",
              "       [0.50240535],\n",
              "       [0.50327885],\n",
              "       [0.50486034],\n",
              "       [0.49865192],\n",
              "       [0.50624907],\n",
              "       [0.5064752 ],\n",
              "       [0.49853176],\n",
              "       [0.50379586],\n",
              "       [0.501469  ],\n",
              "       [0.49842888],\n",
              "       [0.5062735 ],\n",
              "       [0.4986171 ],\n",
              "       [0.50374824],\n",
              "       [0.49770045],\n",
              "       [0.500123  ],\n",
              "       [0.50122243],\n",
              "       [0.5032703 ],\n",
              "       [0.500641  ],\n",
              "       [0.49816102],\n",
              "       [0.50039107],\n",
              "       [0.50703394],\n",
              "       [0.5062398 ],\n",
              "       [0.5056623 ],\n",
              "       [0.49892858],\n",
              "       [0.50584334],\n",
              "       [0.5064955 ],\n",
              "       [0.49793577],\n",
              "       [0.50052184],\n",
              "       [0.49975488],\n",
              "       [0.50562   ],\n",
              "       [0.5023036 ],\n",
              "       [0.5065959 ],\n",
              "       [0.5000155 ],\n",
              "       [0.50648075],\n",
              "       [0.49741045],\n",
              "       [0.498325  ],\n",
              "       [0.50589985],\n",
              "       [0.49822968],\n",
              "       [0.5036184 ],\n",
              "       [0.5039889 ],\n",
              "       [0.5064479 ],\n",
              "       [0.50648624],\n",
              "       [0.50236726],\n",
              "       [0.49760765],\n",
              "       [0.49782655],\n",
              "       [0.5059502 ],\n",
              "       [0.49902466],\n",
              "       [0.50103366],\n",
              "       [0.49889907],\n",
              "       [0.4988005 ],\n",
              "       [0.501299  ],\n",
              "       [0.50660765],\n",
              "       [0.5003866 ],\n",
              "       [0.49852133],\n",
              "       [0.4984953 ],\n",
              "       [0.5062561 ],\n",
              "       [0.4991673 ],\n",
              "       [0.5013585 ],\n",
              "       [0.5064995 ],\n",
              "       [0.49972385],\n",
              "       [0.50382555],\n",
              "       [0.4996087 ],\n",
              "       [0.50505686],\n",
              "       [0.50173825],\n",
              "       [0.5056073 ],\n",
              "       [0.5050149 ],\n",
              "       [0.50614834],\n",
              "       [0.5077986 ],\n",
              "       [0.5020322 ],\n",
              "       [0.5029609 ],\n",
              "       [0.5029553 ],\n",
              "       [0.5072363 ],\n",
              "       [0.506714  ],\n",
              "       [0.49836946],\n",
              "       [0.49921688],\n",
              "       [0.49955356],\n",
              "       [0.4987372 ],\n",
              "       [0.5049351 ],\n",
              "       [0.50632375],\n",
              "       [0.5041199 ],\n",
              "       [0.5051394 ],\n",
              "       [0.50429785],\n",
              "       [0.50491196],\n",
              "       [0.5063927 ],\n",
              "       [0.49842593],\n",
              "       [0.5039737 ],\n",
              "       [0.49849066],\n",
              "       [0.5064858 ],\n",
              "       [0.49738547],\n",
              "       [0.5019352 ],\n",
              "       [0.49734226],\n",
              "       [0.5032316 ],\n",
              "       [0.49956855],\n",
              "       [0.50605917],\n",
              "       [0.5007706 ],\n",
              "       [0.5032058 ],\n",
              "       [0.50671774],\n",
              "       [0.49849406],\n",
              "       [0.505857  ],\n",
              "       [0.5043956 ],\n",
              "       [0.50335264],\n",
              "       [0.5052948 ],\n",
              "       [0.5064033 ],\n",
              "       [0.50682944],\n",
              "       [0.5017038 ],\n",
              "       [0.505306  ],\n",
              "       [0.50460774],\n",
              "       [0.49729452],\n",
              "       [0.50067973],\n",
              "       [0.50345296],\n",
              "       [0.50258875],\n",
              "       [0.5027161 ],\n",
              "       [0.4999008 ],\n",
              "       [0.5067987 ],\n",
              "       [0.50770915],\n",
              "       [0.50242877],\n",
              "       [0.49877852],\n",
              "       [0.5057491 ],\n",
              "       [0.49983397],\n",
              "       [0.50258666],\n",
              "       [0.49762142],\n",
              "       [0.5020151 ],\n",
              "       [0.49754918],\n",
              "       [0.50675493],\n",
              "       [0.49740085],\n",
              "       [0.5055028 ],\n",
              "       [0.50042516],\n",
              "       [0.5072759 ],\n",
              "       [0.5046563 ],\n",
              "       [0.49905375],\n",
              "       [0.5065642 ],\n",
              "       [0.5074118 ],\n",
              "       [0.50019675],\n",
              "       [0.50212014],\n",
              "       [0.4996989 ],\n",
              "       [0.49962586],\n",
              "       [0.50478905],\n",
              "       [0.5009116 ],\n",
              "       [0.5016186 ],\n",
              "       [0.5078439 ],\n",
              "       [0.5033284 ],\n",
              "       [0.50010955],\n",
              "       [0.49777982],\n",
              "       [0.5072904 ],\n",
              "       [0.5035778 ],\n",
              "       [0.50618327],\n",
              "       [0.50226045],\n",
              "       [0.5040487 ],\n",
              "       [0.49850926],\n",
              "       [0.4993798 ],\n",
              "       [0.50409293],\n",
              "       [0.5054867 ],\n",
              "       [0.50542796],\n",
              "       [0.5016327 ],\n",
              "       [0.5059448 ],\n",
              "       [0.5045088 ],\n",
              "       [0.5053109 ],\n",
              "       [0.49886766],\n",
              "       [0.49831808],\n",
              "       [0.5007693 ],\n",
              "       [0.50053847],\n",
              "       [0.49885517],\n",
              "       [0.5033066 ],\n",
              "       [0.50706244],\n",
              "       [0.50751126],\n",
              "       [0.5038492 ],\n",
              "       [0.50498784],\n",
              "       [0.49752462],\n",
              "       [0.5061402 ],\n",
              "       [0.49918884],\n",
              "       [0.5004925 ],\n",
              "       [0.50283384],\n",
              "       [0.5068258 ],\n",
              "       [0.5041546 ],\n",
              "       [0.4978175 ],\n",
              "       [0.5005663 ],\n",
              "       [0.4987412 ],\n",
              "       [0.50032234],\n",
              "       [0.5039009 ],\n",
              "       [0.50565207],\n",
              "       [0.5067734 ],\n",
              "       [0.5027061 ],\n",
              "       [0.50293225],\n",
              "       [0.50153023],\n",
              "       [0.49784973],\n",
              "       [0.49811837],\n",
              "       [0.4980914 ],\n",
              "       [0.5061545 ],\n",
              "       [0.49939746],\n",
              "       [0.49844342],\n",
              "       [0.5040675 ],\n",
              "       [0.4989065 ],\n",
              "       [0.5028689 ],\n",
              "       [0.50503093],\n",
              "       [0.50149393],\n",
              "       [0.5004177 ],\n",
              "       [0.5055822 ],\n",
              "       [0.49755076],\n",
              "       [0.50312847],\n",
              "       [0.5074889 ],\n",
              "       [0.49982265],\n",
              "       [0.50059927],\n",
              "       [0.50652754],\n",
              "       [0.5007392 ],\n",
              "       [0.49980614],\n",
              "       [0.50026613],\n",
              "       [0.5012721 ],\n",
              "       [0.50035524],\n",
              "       [0.5048089 ],\n",
              "       [0.5044767 ],\n",
              "       [0.49889   ],\n",
              "       [0.5041023 ],\n",
              "       [0.5064156 ],\n",
              "       [0.50703216],\n",
              "       [0.50228316],\n",
              "       [0.5058817 ],\n",
              "       [0.49929217],\n",
              "       [0.5062498 ],\n",
              "       [0.50159216],\n",
              "       [0.5043015 ],\n",
              "       [0.49917844],\n",
              "       [0.50384575],\n",
              "       [0.49918777],\n",
              "       [0.5040582 ],\n",
              "       [0.5043695 ],\n",
              "       [0.50208163],\n",
              "       [0.5004041 ],\n",
              "       [0.49832705],\n",
              "       [0.50791174],\n",
              "       [0.50271225],\n",
              "       [0.49942893],\n",
              "       [0.5070763 ],\n",
              "       [0.49755582],\n",
              "       [0.5009402 ],\n",
              "       [0.49754003],\n",
              "       [0.50025153],\n",
              "       [0.49893224],\n",
              "       [0.5033975 ],\n",
              "       [0.50092113],\n",
              "       [0.50681555],\n",
              "       [0.5076364 ],\n",
              "       [0.50691754],\n",
              "       [0.49890947],\n",
              "       [0.5065024 ],\n",
              "       [0.4976447 ],\n",
              "       [0.50612116],\n",
              "       [0.49845394],\n",
              "       [0.49949726],\n",
              "       [0.5064317 ],\n",
              "       [0.49919176],\n",
              "       [0.50684893],\n",
              "       [0.50624853],\n",
              "       [0.5017445 ],\n",
              "       [0.5059621 ],\n",
              "       [0.5053982 ],\n",
              "       [0.50663096],\n",
              "       [0.5031311 ],\n",
              "       [0.49896324],\n",
              "       [0.49763557],\n",
              "       [0.506655  ]], dtype=float32)"
            ]
          },
          "metadata": {},
          "execution_count": 83
        }
      ]
    },
    {
      "cell_type": "markdown",
      "source": [
        "To visualize our model's predictions, let's create a function `plot_decision_boundary()`, this function will: \n",
        "\n",
        "* Take in a trained model, features (X) and labels (y)\n",
        "* Create a meshgrid of the different X values\n",
        "* Make predictions across the meshgrid\n",
        "* Plot the predictios as well as a line between zones (where each unique class falls)\n"
      ],
      "metadata": {
        "id": "3g-kthGoOumZ"
      }
    },
    {
      "cell_type": "code",
      "source": [
        "import numpy as np\n",
        " \n",
        "def plot_decision_boundary(model, X, y):\n",
        "  \"\"\"\n",
        "  Plots the decision boundary created by a model predicting on X.\n",
        "  \"\"\"\n",
        "\n",
        "  # Define the axis boundaries of the plot and create a meshgrid\n",
        "  x_min, x_max = X[:, 0].min() - 0.1, X[:, 0].max() + 0.1\n",
        "  y_min, y_max = X[:, 0].min() - 0.1, X[:, 0].max() + 0.1\n",
        "  xx, yy = np.meshgrid(np.linspace(x_min, x_max, 100),\n",
        "                       np.linspace(y_min, y_max, 100))\n",
        "  \n",
        "  # Create X values (we're going to make prediction on these)\n",
        "  x_in = np.c_[xx.ravel(), yy.ravel()]\n",
        "\n",
        "  y_pred = model.predict(x_in)\n",
        "\n",
        "  # Check for multi_class\n",
        "  if len(y_pred[0]) > 1:\n",
        "    print(\"doing multiclass classification\")\n",
        "    # We have to reshape our predictoin to get them ready for plotting\n",
        "    y_pred = np.argmax(y_pred, axis=1).reshape(xx.shape)\n",
        "  else:\n",
        "    print(\"doing binary classification\")\n",
        "    y_pred = np.round(y_pred).reshape(xx.shape)\n",
        "\n",
        "  # Plot the decision boundary\n",
        "  plt.contourf(xx, yy, y_pred, cmap=plt.cm.RdYlBu, alpha=0.7)\n",
        "  plt.scatter(X[:, 0], X[:, 1], c=y, s=40, cmap=plt.cm.RdYlBu)\n",
        "  plt.xlim(xx.min(), xx.max())\n",
        "  plt.ylim(yy.min(), yy.max())\n",
        "  "
      ],
      "metadata": {
        "id": "RteZQKQ6PRgm"
      },
      "execution_count": 84,
      "outputs": []
    },
    {
      "cell_type": "code",
      "source": [
        "# Check out the predictions our model is making\n",
        "plot_decision_boundary(model=model_3,\n",
        "              X=X,\n",
        "              y=y)"
      ],
      "metadata": {
        "colab": {
          "base_uri": "https://localhost:8080/",
          "height": 301
        },
        "id": "7ejNQWW4PzYO",
        "outputId": "cdaf0918-b84e-4942-8788-781a62bdcb1d"
      },
      "execution_count": 85,
      "outputs": [
        {
          "output_type": "stream",
          "name": "stdout",
          "text": [
            "313/313 [==============================] - 1s 3ms/step\n",
            "doing binary classification\n"
          ]
        },
        {
          "output_type": "display_data",
          "data": {
            "text/plain": [
              "<Figure size 432x288 with 1 Axes>"
            ],
            "image/png": "[encoded data removed]"
          },
          "metadata": {
            "needs_background": "light"
          }
        }
      ]
    },
    {
      "cell_type": "code",
      "source": [
        "# Let's see if our model can be used for a reqgression problem...\n",
        "\n",
        "\n",
        "\n",
        "# Set random seed\n",
        "tf.random.set_seed(42)\n",
        "\n",
        "# Create some regression data\n",
        "X_regression = np.arange(0, 1000, 5)\n",
        "y_regression = np.arange(100, 1100, 5)\n",
        "\n",
        "# Split it into training and test sets\n",
        "X_reg_train = X_regression[:150]\n",
        "X_reg_test = X_regression[150:]\n",
        "y_reg_train = y_regression[:150]\n",
        "y_reg_test = y_regression[150:]\n",
        "\n",
        "# Fit our model to the data\n",
        "# Note: Before TensorFlow 2.7.0, this line would work\n",
        "# model_3.fit(X_reg_train, y_reg_train, epochs=100)\n",
        "\n",
        "# After TensorFlow 2.7.0, see here for more: https://github.com/mrdbourke/tensorflow-deep-learning/discussions/278\n",
        "model_3.fit(tf.expand_dims(X_reg_train, axis=-1), \n",
        "            y_reg_train,\n",
        "            epochs=100)"
      ],
      "metadata": {
        "colab": {
          "base_uri": "https://localhost:8080/"
        },
        "id": "JZv6uWX_RgpF",
        "outputId": "afb3eb15-d96a-4c2b-a777-cb5f6312bb98"
      },
      "execution_count": 87,
      "outputs": [
        {
          "output_type": "stream",
          "name": "stdout",
          "text": [
            "Epoch 1/100\n",
            "5/5 [==============================] - 4s 9ms/step - loss: 385.1251 - mae: 385.1251\n",
            "Epoch 2/100\n",
            "5/5 [==============================] - 0s 6ms/step - loss: 266.5859 - mae: 266.5859\n",
            "Epoch 3/100\n",
            "5/5 [==============================] - 0s 6ms/step - loss: 151.0780 - mae: 151.0780\n",
            "Epoch 4/100\n",
            "5/5 [==============================] - 0s 6ms/step - loss: 51.7363 - mae: 51.7363\n",
            "Epoch 5/100\n",
            "5/5 [==============================] - 0s 7ms/step - loss: 80.6819 - mae: 80.6819\n",
            "Epoch 6/100\n",
            "5/5 [==============================] - 0s 9ms/step - loss: 81.4674 - mae: 81.4674\n",
            "Epoch 7/100\n",
            "5/5 [==============================] - 0s 17ms/step - loss: 49.8353 - mae: 49.8353\n",
            "Epoch 8/100\n",
            "5/5 [==============================] - 0s 9ms/step - loss: 52.6721 - mae: 52.6721\n",
            "Epoch 9/100\n",
            "5/5 [==============================] - 0s 13ms/step - loss: 47.9437 - mae: 47.9437\n",
            "Epoch 10/100\n",
            "5/5 [==============================] - 0s 16ms/step - loss: 45.7846 - mae: 45.7846\n",
            "Epoch 11/100\n",
            "5/5 [==============================] - 0s 25ms/step - loss: 47.2033 - mae: 47.2033\n",
            "Epoch 12/100\n",
            "5/5 [==============================] - 0s 20ms/step - loss: 42.6955 - mae: 42.6955\n",
            "Epoch 13/100\n",
            "5/5 [==============================] - 0s 18ms/step - loss: 42.9008 - mae: 42.9008\n",
            "Epoch 14/100\n",
            "5/5 [==============================] - 0s 24ms/step - loss: 41.6608 - mae: 41.6608\n",
            "Epoch 15/100\n",
            "5/5 [==============================] - 0s 19ms/step - loss: 42.3135 - mae: 42.3135\n",
            "Epoch 16/100\n",
            "5/5 [==============================] - 0s 6ms/step - loss: 41.5358 - mae: 41.5358\n",
            "Epoch 17/100\n",
            "5/5 [==============================] - 0s 9ms/step - loss: 41.7610 - mae: 41.7610\n",
            "Epoch 18/100\n",
            "5/5 [==============================] - 0s 12ms/step - loss: 41.0840 - mae: 41.0840\n",
            "Epoch 19/100\n",
            "5/5 [==============================] - 0s 10ms/step - loss: 41.1939 - mae: 41.1939\n",
            "Epoch 20/100\n",
            "5/5 [==============================] - 0s 5ms/step - loss: 41.0756 - mae: 41.0756\n",
            "Epoch 21/100\n",
            "5/5 [==============================] - 0s 4ms/step - loss: 41.2265 - mae: 41.2265\n",
            "Epoch 22/100\n",
            "5/5 [==============================] - 0s 4ms/step - loss: 41.1313 - mae: 41.1313\n",
            "Epoch 23/100\n",
            "5/5 [==============================] - 0s 5ms/step - loss: 41.0745 - mae: 41.0745\n",
            "Epoch 24/100\n",
            "5/5 [==============================] - 0s 4ms/step - loss: 41.0177 - mae: 41.0177\n",
            "Epoch 25/100\n",
            "5/5 [==============================] - 0s 4ms/step - loss: 40.9784 - mae: 40.9784\n",
            "Epoch 26/100\n",
            "5/5 [==============================] - 0s 5ms/step - loss: 41.0189 - mae: 41.0189\n",
            "Epoch 27/100\n",
            "5/5 [==============================] - 0s 6ms/step - loss: 40.8507 - mae: 40.8507\n",
            "Epoch 28/100\n",
            "5/5 [==============================] - 0s 6ms/step - loss: 41.1790 - mae: 41.1790\n",
            "Epoch 29/100\n",
            "5/5 [==============================] - 0s 6ms/step - loss: 41.0130 - mae: 41.0130\n",
            "Epoch 30/100\n",
            "5/5 [==============================] - 0s 5ms/step - loss: 40.9397 - mae: 40.9397\n",
            "Epoch 31/100\n",
            "5/5 [==============================] - 0s 4ms/step - loss: 41.5930 - mae: 41.5930\n",
            "Epoch 32/100\n",
            "5/5 [==============================] - 0s 5ms/step - loss: 41.0031 - mae: 41.0031\n",
            "Epoch 33/100\n",
            "5/5 [==============================] - 0s 6ms/step - loss: 41.1402 - mae: 41.1402\n",
            "Epoch 34/100\n",
            "5/5 [==============================] - 0s 5ms/step - loss: 41.0083 - mae: 41.0083\n",
            "Epoch 35/100\n",
            "5/5 [==============================] - 0s 5ms/step - loss: 40.5636 - mae: 40.5636\n",
            "Epoch 36/100\n",
            "5/5 [==============================] - 0s 5ms/step - loss: 41.0544 - mae: 41.0544\n",
            "Epoch 37/100\n",
            "5/5 [==============================] - 0s 7ms/step - loss: 40.7001 - mae: 40.7001\n",
            "Epoch 38/100\n",
            "5/5 [==============================] - 0s 4ms/step - loss: 40.5018 - mae: 40.5018\n",
            "Epoch 39/100\n",
            "5/5 [==============================] - 0s 5ms/step - loss: 40.5849 - mae: 40.5849\n",
            "Epoch 40/100\n",
            "5/5 [==============================] - 0s 4ms/step - loss: 40.4657 - mae: 40.4657\n",
            "Epoch 41/100\n",
            "5/5 [==============================] - 0s 4ms/step - loss: 40.4193 - mae: 40.4193\n",
            "Epoch 42/100\n",
            "5/5 [==============================] - 0s 4ms/step - loss: 40.3453 - mae: 40.3453\n",
            "Epoch 43/100\n",
            "5/5 [==============================] - 0s 4ms/step - loss: 40.4442 - mae: 40.4442\n",
            "Epoch 44/100\n",
            "5/5 [==============================] - 0s 5ms/step - loss: 40.2230 - mae: 40.2230\n",
            "Epoch 45/100\n",
            "5/5 [==============================] - 0s 6ms/step - loss: 40.3174 - mae: 40.3174\n",
            "Epoch 46/100\n",
            "5/5 [==============================] - 0s 5ms/step - loss: 40.3316 - mae: 40.3316\n",
            "Epoch 47/100\n",
            "5/5 [==============================] - 0s 5ms/step - loss: 40.3081 - mae: 40.3081\n",
            "Epoch 48/100\n",
            "5/5 [==============================] - 0s 5ms/step - loss: 40.1260 - mae: 40.1260\n",
            "Epoch 49/100\n",
            "5/5 [==============================] - 0s 5ms/step - loss: 40.6435 - mae: 40.6435\n",
            "Epoch 50/100\n",
            "5/5 [==============================] - 0s 5ms/step - loss: 40.1120 - mae: 40.1120\n",
            "Epoch 51/100\n",
            "5/5 [==============================] - 0s 4ms/step - loss: 40.2598 - mae: 40.2598\n",
            "Epoch 52/100\n",
            "5/5 [==============================] - 0s 5ms/step - loss: 40.8160 - mae: 40.8160\n",
            "Epoch 53/100\n",
            "5/5 [==============================] - 0s 5ms/step - loss: 40.7184 - mae: 40.7184\n",
            "Epoch 54/100\n",
            "5/5 [==============================] - 0s 4ms/step - loss: 40.8792 - mae: 40.8792\n",
            "Epoch 55/100\n",
            "5/5 [==============================] - 0s 4ms/step - loss: 41.3642 - mae: 41.3642\n",
            "Epoch 56/100\n",
            "5/5 [==============================] - 0s 9ms/step - loss: 41.6103 - mae: 41.6103\n",
            "Epoch 57/100\n",
            "5/5 [==============================] - 0s 6ms/step - loss: 40.7587 - mae: 40.7587\n",
            "Epoch 58/100\n",
            "5/5 [==============================] - 0s 6ms/step - loss: 40.7726 - mae: 40.7726\n",
            "Epoch 59/100\n",
            "5/5 [==============================] - 0s 4ms/step - loss: 40.8827 - mae: 40.8827\n",
            "Epoch 60/100\n",
            "5/5 [==============================] - 0s 4ms/step - loss: 40.4418 - mae: 40.4418\n",
            "Epoch 61/100\n",
            "5/5 [==============================] - 0s 5ms/step - loss: 40.0347 - mae: 40.0347\n",
            "Epoch 62/100\n",
            "5/5 [==============================] - 0s 5ms/step - loss: 41.0327 - mae: 41.0327\n",
            "Epoch 63/100\n",
            "5/5 [==============================] - 0s 4ms/step - loss: 39.8257 - mae: 39.8257\n",
            "Epoch 64/100\n",
            "5/5 [==============================] - 0s 6ms/step - loss: 40.1573 - mae: 40.1573\n",
            "Epoch 65/100\n",
            "5/5 [==============================] - 0s 7ms/step - loss: 39.6413 - mae: 39.6413\n",
            "Epoch 66/100\n",
            "5/5 [==============================] - 0s 8ms/step - loss: 40.0298 - mae: 40.0298\n",
            "Epoch 67/100\n",
            "5/5 [==============================] - 0s 7ms/step - loss: 39.4757 - mae: 39.4757\n",
            "Epoch 68/100\n",
            "5/5 [==============================] - 0s 7ms/step - loss: 39.5689 - mae: 39.5689\n",
            "Epoch 69/100\n",
            "5/5 [==============================] - 0s 6ms/step - loss: 39.6979 - mae: 39.6979\n",
            "Epoch 70/100\n",
            "5/5 [==============================] - 0s 7ms/step - loss: 39.8692 - mae: 39.8692\n",
            "Epoch 71/100\n",
            "5/5 [==============================] - 0s 7ms/step - loss: 39.9686 - mae: 39.9686\n",
            "Epoch 72/100\n",
            "5/5 [==============================] - 0s 13ms/step - loss: 39.1348 - mae: 39.1348\n",
            "Epoch 73/100\n",
            "5/5 [==============================] - 0s 7ms/step - loss: 39.5024 - mae: 39.5024\n",
            "Epoch 74/100\n",
            "5/5 [==============================] - 0s 6ms/step - loss: 39.2832 - mae: 39.2832\n",
            "Epoch 75/100\n",
            "5/5 [==============================] - 0s 7ms/step - loss: 39.6230 - mae: 39.6230\n",
            "Epoch 76/100\n",
            "5/5 [==============================] - 0s 8ms/step - loss: 39.3027 - mae: 39.3027\n",
            "Epoch 77/100\n",
            "5/5 [==============================] - 0s 7ms/step - loss: 39.1086 - mae: 39.1086\n",
            "Epoch 78/100\n",
            "5/5 [==============================] - 0s 7ms/step - loss: 39.5756 - mae: 39.5756\n",
            "Epoch 79/100\n",
            "5/5 [==============================] - 0s 8ms/step - loss: 39.1734 - mae: 39.1734\n",
            "Epoch 80/100\n",
            "5/5 [==============================] - 0s 7ms/step - loss: 38.6102 - mae: 38.6102\n",
            "Epoch 81/100\n",
            "5/5 [==============================] - 0s 8ms/step - loss: 39.4252 - mae: 39.4252\n",
            "Epoch 82/100\n",
            "5/5 [==============================] - 0s 6ms/step - loss: 39.7482 - mae: 39.7482\n",
            "Epoch 83/100\n",
            "5/5 [==============================] - 0s 6ms/step - loss: 39.2030 - mae: 39.2030\n",
            "Epoch 84/100\n",
            "5/5 [==============================] - 0s 6ms/step - loss: 38.8782 - mae: 38.8782\n",
            "Epoch 85/100\n",
            "5/5 [==============================] - 0s 5ms/step - loss: 38.7754 - mae: 38.7754\n",
            "Epoch 86/100\n",
            "5/5 [==============================] - 0s 6ms/step - loss: 38.6157 - mae: 38.6157\n",
            "Epoch 87/100\n",
            "5/5 [==============================] - 0s 7ms/step - loss: 38.6897 - mae: 38.6897\n",
            "Epoch 88/100\n",
            "5/5 [==============================] - 0s 8ms/step - loss: 38.5841 - mae: 38.5841\n",
            "Epoch 89/100\n",
            "5/5 [==============================] - 0s 5ms/step - loss: 38.5459 - mae: 38.5459\n",
            "Epoch 90/100\n",
            "5/5 [==============================] - 0s 7ms/step - loss: 38.4075 - mae: 38.4075\n",
            "Epoch 91/100\n",
            "5/5 [==============================] - 0s 7ms/step - loss: 38.2623 - mae: 38.2623\n",
            "Epoch 92/100\n",
            "5/5 [==============================] - 0s 9ms/step - loss: 38.3489 - mae: 38.3489\n",
            "Epoch 93/100\n",
            "5/5 [==============================] - 0s 8ms/step - loss: 38.6883 - mae: 38.6883\n",
            "Epoch 94/100\n",
            "5/5 [==============================] - 0s 6ms/step - loss: 38.0843 - mae: 38.0843\n",
            "Epoch 95/100\n",
            "5/5 [==============================] - 0s 5ms/step - loss: 38.1478 - mae: 38.1478\n",
            "Epoch 96/100\n",
            "5/5 [==============================] - 0s 5ms/step - loss: 38.4854 - mae: 38.4854\n",
            "Epoch 97/100\n",
            "5/5 [==============================] - 0s 6ms/step - loss: 38.1078 - mae: 38.1078\n",
            "Epoch 98/100\n",
            "5/5 [==============================] - 0s 8ms/step - loss: 38.4978 - mae: 38.4978\n",
            "Epoch 99/100\n",
            "5/5 [==============================] - 0s 8ms/step - loss: 38.3110 - mae: 38.3110\n",
            "Epoch 100/100\n",
            "5/5 [==============================] - 0s 6ms/step - loss: 37.9204 - mae: 37.9204\n"
          ]
        },
        {
          "output_type": "execute_result",
          "data": {
            "text/plain": [
              "<keras.callbacks.History at 0x7f0ca51a3970>"
            ]
          },
          "metadata": {},
          "execution_count": 87
        }
      ]
    },
    {
      "cell_type": "markdown",
      "source": [
        "Oh wait... we compiled our umodel for a binary classification problem.\n",
        "\n",
        "But... we're now working on a regression problem, let's change the model to suit our data."
      ],
      "metadata": {
        "id": "4WHqTOFAjP1l"
      }
    },
    {
      "cell_type": "code",
      "source": [
        "# Setup random seed\n",
        "tf.random.set_seed(42)\n",
        "\n",
        "# Recreate the model\n",
        "model_3 = tf.keras.Sequential([\n",
        "  tf.keras.layers.Dense(100),\n",
        "  tf.keras.layers.Dense(10),\n",
        "  tf.keras.layers.Dense(1)\n",
        "])\n",
        "\n",
        "# Change the loss and metrics of our compiled model\n",
        "model_3.compile(loss=tf.keras.losses.mae, # change the loss function to be regression-specific\n",
        "                optimizer=tf.keras.optimizers.Adam(),\n",
        "                metrics=['mae']) # change the metric to be regression-specific\n",
        "\n",
        "# Fit the recompiled model\n",
        "model_3.fit(tf.expand_dims(X_reg_train, axis=-1), \n",
        "            y_reg_train, \n",
        "            epochs=100)"
      ],
      "metadata": {
        "colab": {
          "base_uri": "https://localhost:8080/"
        },
        "id": "bsh81efSj4yx",
        "outputId": "1e9aa97c-9ba2-4269-b9d2-f1bd902aafe2"
      },
      "execution_count": 92,
      "outputs": [
        {
          "output_type": "stream",
          "name": "stdout",
          "text": [
            "Epoch 1/100\n",
            "5/5 [==============================] - 1s 6ms/step - loss: 429.0098 - mae: 429.0098\n",
            "Epoch 2/100\n",
            "5/5 [==============================] - 0s 6ms/step - loss: 310.3429 - mae: 310.3429\n",
            "Epoch 3/100\n",
            "5/5 [==============================] - 0s 4ms/step - loss: 195.6850 - mae: 195.6850\n",
            "Epoch 4/100\n",
            "5/5 [==============================] - 0s 5ms/step - loss: 76.3960 - mae: 76.3960\n",
            "Epoch 5/100\n",
            "5/5 [==============================] - 0s 4ms/step - loss: 69.0121 - mae: 69.0121\n",
            "Epoch 6/100\n",
            "5/5 [==============================] - 0s 7ms/step - loss: 89.8321 - mae: 89.8321\n",
            "Epoch 7/100\n",
            "5/5 [==============================] - 0s 12ms/step - loss: 61.7048 - mae: 61.7048\n",
            "Epoch 8/100\n",
            "5/5 [==============================] - 0s 10ms/step - loss: 45.1224 - mae: 45.1224\n",
            "Epoch 9/100\n",
            "5/5 [==============================] - 0s 7ms/step - loss: 46.1873 - mae: 46.1873\n",
            "Epoch 10/100\n",
            "5/5 [==============================] - 0s 8ms/step - loss: 42.9720 - mae: 42.9720\n",
            "Epoch 11/100\n",
            "5/5 [==============================] - 0s 7ms/step - loss: 44.5269 - mae: 44.5269\n",
            "Epoch 12/100\n",
            "5/5 [==============================] - 0s 6ms/step - loss: 42.0743 - mae: 42.0743\n",
            "Epoch 13/100\n",
            "5/5 [==============================] - 0s 9ms/step - loss: 41.6632 - mae: 41.6632\n",
            "Epoch 14/100\n",
            "5/5 [==============================] - 0s 9ms/step - loss: 41.4253 - mae: 41.4253\n",
            "Epoch 15/100\n",
            "5/5 [==============================] - 0s 14ms/step - loss: 41.7114 - mae: 41.7114\n",
            "Epoch 16/100\n",
            "5/5 [==============================] - 0s 12ms/step - loss: 41.5208 - mae: 41.5208\n",
            "Epoch 17/100\n",
            "5/5 [==============================] - 0s 11ms/step - loss: 41.6265 - mae: 41.6265\n",
            "Epoch 18/100\n",
            "5/5 [==============================] - 0s 10ms/step - loss: 41.1664 - mae: 41.1664\n",
            "Epoch 19/100\n",
            "5/5 [==============================] - 0s 6ms/step - loss: 41.2000 - mae: 41.2000\n",
            "Epoch 20/100\n",
            "5/5 [==============================] - 0s 6ms/step - loss: 41.1220 - mae: 41.1220\n",
            "Epoch 21/100\n",
            "5/5 [==============================] - 0s 7ms/step - loss: 41.2124 - mae: 41.2124\n",
            "Epoch 22/100\n",
            "5/5 [==============================] - 0s 7ms/step - loss: 41.0778 - mae: 41.0778\n",
            "Epoch 23/100\n",
            "5/5 [==============================] - 0s 7ms/step - loss: 41.1697 - mae: 41.1697\n",
            "Epoch 24/100\n",
            "5/5 [==============================] - 0s 8ms/step - loss: 41.0406 - mae: 41.0406\n",
            "Epoch 25/100\n",
            "5/5 [==============================] - 0s 18ms/step - loss: 41.0612 - mae: 41.0612\n",
            "Epoch 26/100\n",
            "5/5 [==============================] - 0s 11ms/step - loss: 41.1321 - mae: 41.1321\n",
            "Epoch 27/100\n",
            "5/5 [==============================] - 0s 6ms/step - loss: 40.8646 - mae: 40.8646\n",
            "Epoch 28/100\n",
            "5/5 [==============================] - 0s 9ms/step - loss: 41.2671 - mae: 41.2671\n",
            "Epoch 29/100\n",
            "5/5 [==============================] - 0s 8ms/step - loss: 41.0660 - mae: 41.0660\n",
            "Epoch 30/100\n",
            "5/5 [==============================] - 0s 11ms/step - loss: 40.9614 - mae: 40.9614\n",
            "Epoch 31/100\n",
            "5/5 [==============================] - 0s 9ms/step - loss: 41.5197 - mae: 41.5197\n",
            "Epoch 32/100\n",
            "5/5 [==============================] - 0s 9ms/step - loss: 41.0372 - mae: 41.0372\n",
            "Epoch 33/100\n",
            "5/5 [==============================] - 0s 8ms/step - loss: 41.1874 - mae: 41.1874\n",
            "Epoch 34/100\n",
            "5/5 [==============================] - 0s 7ms/step - loss: 41.0677 - mae: 41.0677\n",
            "Epoch 35/100\n",
            "5/5 [==============================] - 0s 11ms/step - loss: 40.6095 - mae: 40.6095\n",
            "Epoch 36/100\n",
            "5/5 [==============================] - 0s 7ms/step - loss: 41.0636 - mae: 41.0636\n",
            "Epoch 37/100\n",
            "5/5 [==============================] - 0s 7ms/step - loss: 40.8571 - mae: 40.8571\n",
            "Epoch 38/100\n",
            "5/5 [==============================] - 0s 4ms/step - loss: 40.3655 - mae: 40.3655\n",
            "Epoch 39/100\n",
            "5/5 [==============================] - 0s 5ms/step - loss: 40.9254 - mae: 40.9254\n",
            "Epoch 40/100\n",
            "5/5 [==============================] - 0s 4ms/step - loss: 40.5518 - mae: 40.5518\n",
            "Epoch 41/100\n",
            "5/5 [==============================] - 0s 5ms/step - loss: 40.7173 - mae: 40.7173\n",
            "Epoch 42/100\n",
            "5/5 [==============================] - 0s 4ms/step - loss: 40.5740 - mae: 40.5740\n",
            "Epoch 43/100\n",
            "5/5 [==============================] - 0s 4ms/step - loss: 40.6280 - mae: 40.6280\n",
            "Epoch 44/100\n",
            "5/5 [==============================] - 0s 6ms/step - loss: 40.3159 - mae: 40.3159\n",
            "Epoch 45/100\n",
            "5/5 [==============================] - 0s 4ms/step - loss: 40.5041 - mae: 40.5041\n",
            "Epoch 46/100\n",
            "5/5 [==============================] - 0s 5ms/step - loss: 40.3928 - mae: 40.3928\n",
            "Epoch 47/100\n",
            "5/5 [==============================] - 0s 5ms/step - loss: 40.4220 - mae: 40.4220\n",
            "Epoch 48/100\n",
            "5/5 [==============================] - 0s 4ms/step - loss: 40.1909 - mae: 40.1909\n",
            "Epoch 49/100\n",
            "5/5 [==============================] - 0s 4ms/step - loss: 40.6724 - mae: 40.6724\n",
            "Epoch 50/100\n",
            "5/5 [==============================] - 0s 5ms/step - loss: 40.1937 - mae: 40.1937\n",
            "Epoch 51/100\n",
            "5/5 [==============================] - 0s 5ms/step - loss: 40.5789 - mae: 40.5789\n",
            "Epoch 52/100\n",
            "5/5 [==============================] - 0s 4ms/step - loss: 40.9479 - mae: 40.9479\n",
            "Epoch 53/100\n",
            "5/5 [==============================] - 0s 5ms/step - loss: 40.9012 - mae: 40.9012\n",
            "Epoch 54/100\n",
            "5/5 [==============================] - 0s 4ms/step - loss: 40.9037 - mae: 40.9037\n",
            "Epoch 55/100\n",
            "5/5 [==============================] - 0s 5ms/step - loss: 41.1173 - mae: 41.1173\n",
            "Epoch 56/100\n",
            "5/5 [==============================] - 0s 5ms/step - loss: 41.7936 - mae: 41.7936\n",
            "Epoch 57/100\n",
            "5/5 [==============================] - 0s 4ms/step - loss: 40.7751 - mae: 40.7751\n",
            "Epoch 58/100\n",
            "5/5 [==============================] - 0s 5ms/step - loss: 40.7614 - mae: 40.7614\n",
            "Epoch 59/100\n",
            "5/5 [==============================] - 0s 7ms/step - loss: 40.8350 - mae: 40.8350\n",
            "Epoch 60/100\n",
            "5/5 [==============================] - 0s 5ms/step - loss: 40.3573 - mae: 40.3573\n",
            "Epoch 61/100\n",
            "5/5 [==============================] - 0s 4ms/step - loss: 40.1499 - mae: 40.1499\n",
            "Epoch 62/100\n",
            "5/5 [==============================] - 0s 5ms/step - loss: 40.7872 - mae: 40.7872\n",
            "Epoch 63/100\n",
            "5/5 [==============================] - 0s 7ms/step - loss: 39.7386 - mae: 39.7386\n",
            "Epoch 64/100\n",
            "5/5 [==============================] - 0s 6ms/step - loss: 40.0202 - mae: 40.0202\n",
            "Epoch 65/100\n",
            "5/5 [==============================] - 0s 5ms/step - loss: 39.9219 - mae: 39.9219\n",
            "Epoch 66/100\n",
            "5/5 [==============================] - 0s 5ms/step - loss: 40.1449 - mae: 40.1449\n",
            "Epoch 67/100\n",
            "5/5 [==============================] - 0s 5ms/step - loss: 39.8174 - mae: 39.8174\n",
            "Epoch 68/100\n",
            "5/5 [==============================] - 0s 5ms/step - loss: 39.7923 - mae: 39.7923\n",
            "Epoch 69/100\n",
            "5/5 [==============================] - 0s 4ms/step - loss: 40.1614 - mae: 40.1614\n",
            "Epoch 70/100\n",
            "5/5 [==============================] - 0s 5ms/step - loss: 40.5649 - mae: 40.5649\n",
            "Epoch 71/100\n",
            "5/5 [==============================] - 0s 4ms/step - loss: 40.0237 - mae: 40.0237\n",
            "Epoch 72/100\n",
            "5/5 [==============================] - 0s 4ms/step - loss: 39.4355 - mae: 39.4355\n",
            "Epoch 73/100\n",
            "5/5 [==============================] - 0s 5ms/step - loss: 39.8392 - mae: 39.8392\n",
            "Epoch 74/100\n",
            "5/5 [==============================] - 0s 4ms/step - loss: 39.7030 - mae: 39.7030\n",
            "Epoch 75/100\n",
            "5/5 [==============================] - 0s 5ms/step - loss: 39.5091 - mae: 39.5091\n",
            "Epoch 76/100\n",
            "5/5 [==============================] - 0s 4ms/step - loss: 39.1624 - mae: 39.1624\n",
            "Epoch 77/100\n",
            "5/5 [==============================] - 0s 8ms/step - loss: 39.6494 - mae: 39.6494\n",
            "Epoch 78/100\n",
            "5/5 [==============================] - 0s 7ms/step - loss: 39.4323 - mae: 39.4323\n",
            "Epoch 79/100\n",
            "5/5 [==============================] - 0s 5ms/step - loss: 39.0643 - mae: 39.0643\n",
            "Epoch 80/100\n",
            "5/5 [==============================] - 0s 4ms/step - loss: 39.2652 - mae: 39.2652\n",
            "Epoch 81/100\n",
            "5/5 [==============================] - 0s 4ms/step - loss: 39.1506 - mae: 39.1506\n",
            "Epoch 82/100\n",
            "5/5 [==============================] - 0s 5ms/step - loss: 38.8480 - mae: 38.8480\n",
            "Epoch 83/100\n",
            "5/5 [==============================] - 0s 5ms/step - loss: 39.1777 - mae: 39.1777\n",
            "Epoch 84/100\n",
            "5/5 [==============================] - 0s 5ms/step - loss: 38.9118 - mae: 38.9118\n",
            "Epoch 85/100\n",
            "5/5 [==============================] - 0s 4ms/step - loss: 39.0119 - mae: 39.0119\n",
            "Epoch 86/100\n",
            "5/5 [==============================] - 0s 5ms/step - loss: 38.6164 - mae: 38.6164\n",
            "Epoch 87/100\n",
            "5/5 [==============================] - 0s 5ms/step - loss: 39.0509 - mae: 39.0509\n",
            "Epoch 88/100\n",
            "5/5 [==============================] - 0s 5ms/step - loss: 38.6938 - mae: 38.6938\n",
            "Epoch 89/100\n",
            "5/5 [==============================] - 0s 5ms/step - loss: 39.0512 - mae: 39.0512\n",
            "Epoch 90/100\n",
            "5/5 [==============================] - 0s 4ms/step - loss: 38.7081 - mae: 38.7081\n",
            "Epoch 91/100\n",
            "5/5 [==============================] - 0s 5ms/step - loss: 38.3619 - mae: 38.3619\n",
            "Epoch 92/100\n",
            "5/5 [==============================] - 0s 5ms/step - loss: 38.8360 - mae: 38.8360\n",
            "Epoch 93/100\n",
            "5/5 [==============================] - 0s 4ms/step - loss: 38.9177 - mae: 38.9177\n",
            "Epoch 94/100\n",
            "5/5 [==============================] - 0s 6ms/step - loss: 38.1866 - mae: 38.1866\n",
            "Epoch 95/100\n",
            "5/5 [==============================] - 0s 6ms/step - loss: 38.5422 - mae: 38.5422\n",
            "Epoch 96/100\n",
            "5/5 [==============================] - 0s 5ms/step - loss: 38.5844 - mae: 38.5844\n",
            "Epoch 97/100\n",
            "5/5 [==============================] - 0s 4ms/step - loss: 38.1895 - mae: 38.1895\n",
            "Epoch 98/100\n",
            "5/5 [==============================] - 0s 4ms/step - loss: 39.1550 - mae: 39.1550\n",
            "Epoch 99/100\n",
            "5/5 [==============================] - 0s 4ms/step - loss: 38.4383 - mae: 38.4383\n",
            "Epoch 100/100\n",
            "5/5 [==============================] - 0s 4ms/step - loss: 38.0411 - mae: 38.0411\n"
          ]
        },
        {
          "output_type": "execute_result",
          "data": {
            "text/plain": [
              "<keras.callbacks.History at 0x7f0ca7796070>"
            ]
          },
          "metadata": {},
          "execution_count": 92
        }
      ]
    },
    {
      "cell_type": "code",
      "source": [
        "\n",
        "# Make predictions with our trained model\n",
        "y_reg_preds = model_3.predict(y_reg_test)\n",
        "\n",
        "# Plot the model's predictions against our regression data\n",
        "plt.figure(figsize=(10, 7))\n",
        "plt.scatter(X_reg_train, y_reg_train, c='b', label='Training data')\n",
        "plt.scatter(X_reg_test, y_reg_test, c='g', label='Testing data')\n",
        "plt.scatter(X_reg_test, y_reg_preds.squeeze(), c='r', label='Predictions')\n",
        "plt.legend();"
      ],
      "metadata": {
        "id": "LaD9Kobjkjfi",
        "colab": {
          "base_uri": "https://localhost:8080/",
          "height": 446
        },
        "outputId": "c1742c58-8396-41ee-cc98-024c30b94e35"
      },
      "execution_count": 93,
      "outputs": [
        {
          "output_type": "stream",
          "name": "stdout",
          "text": [
            "2/2 [==============================] - 0s 10ms/step\n"
          ]
        },
        {
          "output_type": "display_data",
          "data": {
            "text/plain": [
              "<Figure size 720x504 with 1 Axes>"
            ],
            "image/png": "[encoded data removed]"
          },
          "metadata": {
            "needs_background": "light"
          }
        }
      ]
    },
    {
      "cell_type": "markdown",
      "source": [
        "## The missing piece: Non-linearity"
      ],
      "metadata": {
        "id": "Ypga9JUIlPac"
      }
    },
    {
      "cell_type": "code",
      "source": [
        "# Set the random seed\n",
        "tf.random.set_seed(42)\n",
        "\n",
        "# 1. Create the model\n",
        "model_4 = tf.keras.Sequential([\n",
        "    tf.keras.layers.Dense(1, activation=tf.keras.activations.linear)\n",
        "])\n",
        "\n",
        "# 2. Compile the model\n",
        "model_4.compile(loss = \"binary_crossentropy\",\n",
        "                optimizer=tf.keras.optimizers.Adam(lr=0.001),\n",
        "                metrics=[\"accuracy\"])\n",
        "\n",
        "# 3. Fit the model\n",
        "history = model_4.fit(X, y, epochs=100)"
      ],
      "metadata": {
        "colab": {
          "base_uri": "https://localhost:8080/"
        },
        "id": "MdT40yZpnx0K",
        "outputId": "64e60b0e-e0f3-470b-e132-3a1882ca4a96"
      },
      "execution_count": 94,
      "outputs": [
        {
          "output_type": "stream",
          "name": "stderr",
          "text": [
            "WARNING:absl:`lr` is deprecated, please use `learning_rate` instead, or use the legacy optimizer, e.g.,tf.keras.optimizers.legacy.Adam.\n"
          ]
        },
        {
          "output_type": "stream",
          "name": "stdout",
          "text": [
            "Epoch 1/100\n",
            "32/32 [==============================] - 1s 3ms/step - loss: 6.1002 - accuracy: 0.4850\n",
            "Epoch 2/100\n",
            "32/32 [==============================] - 0s 3ms/step - loss: 6.0678 - accuracy: 0.4850\n",
            "Epoch 3/100\n",
            "32/32 [==============================] - 0s 3ms/step - loss: 6.0519 - accuracy: 0.4840\n",
            "Epoch 4/100\n",
            "32/32 [==============================] - 0s 3ms/step - loss: 6.0507 - accuracy: 0.4830\n",
            "Epoch 5/100\n",
            "32/32 [==============================] - 0s 3ms/step - loss: 6.0497 - accuracy: 0.4830\n",
            "Epoch 6/100\n",
            "32/32 [==============================] - 0s 3ms/step - loss: 6.0490 - accuracy: 0.4830\n",
            "Epoch 7/100\n",
            "32/32 [==============================] - 0s 3ms/step - loss: 6.0483 - accuracy: 0.4830\n",
            "Epoch 8/100\n",
            "32/32 [==============================] - 0s 4ms/step - loss: 6.0475 - accuracy: 0.4830\n",
            "Epoch 9/100\n",
            "32/32 [==============================] - 0s 3ms/step - loss: 6.0468 - accuracy: 0.4840\n",
            "Epoch 10/100\n",
            "32/32 [==============================] - 0s 3ms/step - loss: 6.0461 - accuracy: 0.4830\n",
            "Epoch 11/100\n",
            "32/32 [==============================] - 0s 3ms/step - loss: 6.0388 - accuracy: 0.4830\n",
            "Epoch 12/100\n",
            "32/32 [==============================] - 0s 3ms/step - loss: 6.0248 - accuracy: 0.4820\n",
            "Epoch 13/100\n",
            "32/32 [==============================] - 0s 3ms/step - loss: 6.0163 - accuracy: 0.4810\n",
            "Epoch 14/100\n",
            "32/32 [==============================] - 0s 3ms/step - loss: 5.9678 - accuracy: 0.4810\n",
            "Epoch 15/100\n",
            "32/32 [==============================] - 0s 3ms/step - loss: 5.9438 - accuracy: 0.4830\n",
            "Epoch 16/100\n",
            "32/32 [==============================] - 0s 5ms/step - loss: 5.9411 - accuracy: 0.4830\n",
            "Epoch 17/100\n",
            "32/32 [==============================] - 0s 3ms/step - loss: 5.9400 - accuracy: 0.4830\n",
            "Epoch 18/100\n",
            "32/32 [==============================] - 0s 3ms/step - loss: 5.9393 - accuracy: 0.4830\n",
            "Epoch 19/100\n",
            "32/32 [==============================] - 0s 4ms/step - loss: 5.9389 - accuracy: 0.4830\n",
            "Epoch 20/100\n",
            "32/32 [==============================] - 0s 4ms/step - loss: 5.9385 - accuracy: 0.4830\n",
            "Epoch 21/100\n",
            "32/32 [==============================] - 0s 3ms/step - loss: 5.9382 - accuracy: 0.4830\n",
            "Epoch 22/100\n",
            "32/32 [==============================] - 0s 3ms/step - loss: 5.9379 - accuracy: 0.4830\n",
            "Epoch 23/100\n",
            "32/32 [==============================] - 0s 3ms/step - loss: 5.9377 - accuracy: 0.4830\n",
            "Epoch 24/100\n",
            "32/32 [==============================] - 0s 3ms/step - loss: 5.9374 - accuracy: 0.4830\n",
            "Epoch 25/100\n",
            "32/32 [==============================] - 0s 3ms/step - loss: 5.9371 - accuracy: 0.4830\n",
            "Epoch 26/100\n",
            "32/32 [==============================] - 0s 3ms/step - loss: 5.9369 - accuracy: 0.4830\n",
            "Epoch 27/100\n",
            "32/32 [==============================] - 0s 3ms/step - loss: 5.9367 - accuracy: 0.4830\n",
            "Epoch 28/100\n",
            "32/32 [==============================] - 0s 3ms/step - loss: 5.9364 - accuracy: 0.4830\n",
            "Epoch 29/100\n",
            "32/32 [==============================] - 0s 3ms/step - loss: 5.9362 - accuracy: 0.4830\n",
            "Epoch 30/100\n",
            "32/32 [==============================] - 0s 3ms/step - loss: 5.9360 - accuracy: 0.4830\n",
            "Epoch 31/100\n",
            "32/32 [==============================] - 0s 3ms/step - loss: 5.9358 - accuracy: 0.4830\n",
            "Epoch 32/100\n",
            "32/32 [==============================] - 0s 3ms/step - loss: 5.9356 - accuracy: 0.4830\n",
            "Epoch 33/100\n",
            "32/32 [==============================] - 0s 4ms/step - loss: 5.9354 - accuracy: 0.4830\n",
            "Epoch 34/100\n",
            "32/32 [==============================] - 0s 3ms/step - loss: 5.9282 - accuracy: 0.4830\n",
            "Epoch 35/100\n",
            "32/32 [==============================] - 0s 3ms/step - loss: 5.9250 - accuracy: 0.4820\n",
            "Epoch 36/100\n",
            "32/32 [==============================] - 0s 3ms/step - loss: 5.9242 - accuracy: 0.4820\n",
            "Epoch 37/100\n",
            "32/32 [==============================] - 0s 4ms/step - loss: 5.9238 - accuracy: 0.4820\n",
            "Epoch 38/100\n",
            "32/32 [==============================] - 0s 3ms/step - loss: 5.9235 - accuracy: 0.4820\n",
            "Epoch 39/100\n",
            "32/32 [==============================] - 0s 4ms/step - loss: 5.9163 - accuracy: 0.4810\n",
            "Epoch 40/100\n",
            "32/32 [==============================] - 0s 3ms/step - loss: 5.9126 - accuracy: 0.4810\n",
            "Epoch 41/100\n",
            "32/32 [==============================] - 0s 3ms/step - loss: 5.9122 - accuracy: 0.4810\n",
            "Epoch 42/100\n",
            "32/32 [==============================] - 0s 3ms/step - loss: 5.9118 - accuracy: 0.4810\n",
            "Epoch 43/100\n",
            "32/32 [==============================] - 0s 3ms/step - loss: 5.9033 - accuracy: 0.4810\n",
            "Epoch 44/100\n",
            "32/32 [==============================] - 0s 3ms/step - loss: 5.9010 - accuracy: 0.4810\n",
            "Epoch 45/100\n",
            "32/32 [==============================] - 0s 3ms/step - loss: 5.9004 - accuracy: 0.4810\n",
            "Epoch 46/100\n",
            "32/32 [==============================] - 0s 4ms/step - loss: 5.9000 - accuracy: 0.4810\n",
            "Epoch 47/100\n",
            "32/32 [==============================] - 0s 3ms/step - loss: 5.8995 - accuracy: 0.4810\n",
            "Epoch 48/100\n",
            "32/32 [==============================] - 0s 3ms/step - loss: 5.8717 - accuracy: 0.4820\n",
            "Epoch 49/100\n",
            "32/32 [==============================] - 0s 3ms/step - loss: 5.8510 - accuracy: 0.4830\n",
            "Epoch 50/100\n",
            "32/32 [==============================] - 0s 5ms/step - loss: 5.8248 - accuracy: 0.4830\n",
            "Epoch 51/100\n",
            "32/32 [==============================] - 0s 3ms/step - loss: 5.8012 - accuracy: 0.4850\n",
            "Epoch 52/100\n",
            "32/32 [==============================] - 0s 3ms/step - loss: 5.7967 - accuracy: 0.4850\n",
            "Epoch 53/100\n",
            "32/32 [==============================] - 0s 3ms/step - loss: 5.7957 - accuracy: 0.4850\n",
            "Epoch 54/100\n",
            "32/32 [==============================] - 0s 3ms/step - loss: 5.7869 - accuracy: 0.4850\n",
            "Epoch 55/100\n",
            "32/32 [==============================] - 0s 3ms/step - loss: 5.7841 - accuracy: 0.4850\n",
            "Epoch 56/100\n",
            "32/32 [==============================] - 0s 3ms/step - loss: 5.7831 - accuracy: 0.4850\n",
            "Epoch 57/100\n",
            "32/32 [==============================] - 0s 5ms/step - loss: 5.7821 - accuracy: 0.4840\n",
            "Epoch 58/100\n",
            "32/32 [==============================] - 0s 5ms/step - loss: 5.7814 - accuracy: 0.4840\n",
            "Epoch 59/100\n",
            "32/32 [==============================] - 0s 4ms/step - loss: 5.7808 - accuracy: 0.4840\n",
            "Epoch 60/100\n",
            "32/32 [==============================] - 0s 8ms/step - loss: 5.7802 - accuracy: 0.4840\n",
            "Epoch 61/100\n",
            "32/32 [==============================] - 0s 9ms/step - loss: 5.7796 - accuracy: 0.4840\n",
            "Epoch 62/100\n",
            "32/32 [==============================] - 0s 9ms/step - loss: 5.7791 - accuracy: 0.4840\n",
            "Epoch 63/100\n",
            "32/32 [==============================] - 0s 10ms/step - loss: 5.7786 - accuracy: 0.4840\n",
            "Epoch 64/100\n",
            "32/32 [==============================] - 0s 9ms/step - loss: 5.7781 - accuracy: 0.4840\n",
            "Epoch 65/100\n",
            "32/32 [==============================] - 0s 9ms/step - loss: 5.7776 - accuracy: 0.4840\n",
            "Epoch 66/100\n",
            "32/32 [==============================] - 0s 10ms/step - loss: 5.7772 - accuracy: 0.4840\n",
            "Epoch 67/100\n",
            "32/32 [==============================] - 0s 6ms/step - loss: 5.7767 - accuracy: 0.4840\n",
            "Epoch 68/100\n",
            "32/32 [==============================] - 0s 14ms/step - loss: 5.7763 - accuracy: 0.4840\n",
            "Epoch 69/100\n",
            "32/32 [==============================] - 0s 8ms/step - loss: 5.7759 - accuracy: 0.4840\n",
            "Epoch 70/100\n",
            "32/32 [==============================] - 0s 6ms/step - loss: 5.7695 - accuracy: 0.4840\n",
            "Epoch 71/100\n",
            "32/32 [==============================] - 0s 8ms/step - loss: 5.7820 - accuracy: 0.4820\n",
            "Epoch 72/100\n",
            "32/32 [==============================] - 0s 4ms/step - loss: 5.7693 - accuracy: 0.4810\n",
            "Epoch 73/100\n",
            "32/32 [==============================] - 0s 4ms/step - loss: 5.7684 - accuracy: 0.4810\n",
            "Epoch 74/100\n",
            "32/32 [==============================] - 0s 3ms/step - loss: 5.7681 - accuracy: 0.4810\n",
            "Epoch 75/100\n",
            "32/32 [==============================] - 0s 4ms/step - loss: 5.7678 - accuracy: 0.4810\n",
            "Epoch 76/100\n",
            "32/32 [==============================] - 0s 3ms/step - loss: 5.7676 - accuracy: 0.4810\n",
            "Epoch 77/100\n",
            "32/32 [==============================] - 0s 3ms/step - loss: 5.7673 - accuracy: 0.4810\n",
            "Epoch 78/100\n",
            "32/32 [==============================] - 0s 3ms/step - loss: 5.7672 - accuracy: 0.4810\n",
            "Epoch 79/100\n",
            "32/32 [==============================] - 0s 3ms/step - loss: 5.7670 - accuracy: 0.4810\n",
            "Epoch 80/100\n",
            "32/32 [==============================] - 0s 3ms/step - loss: 5.7668 - accuracy: 0.4810\n",
            "Epoch 81/100\n",
            "32/32 [==============================] - 0s 3ms/step - loss: 5.7666 - accuracy: 0.4810\n",
            "Epoch 82/100\n",
            "32/32 [==============================] - 0s 3ms/step - loss: 5.7663 - accuracy: 0.4820\n",
            "Epoch 83/100\n",
            "32/32 [==============================] - 0s 3ms/step - loss: 5.7662 - accuracy: 0.4820\n",
            "Epoch 84/100\n",
            "32/32 [==============================] - 0s 3ms/step - loss: 5.7661 - accuracy: 0.4820\n",
            "Epoch 85/100\n",
            "32/32 [==============================] - 0s 3ms/step - loss: 5.7660 - accuracy: 0.4820\n",
            "Epoch 86/100\n",
            "32/32 [==============================] - 0s 3ms/step - loss: 5.7658 - accuracy: 0.4820\n",
            "Epoch 87/100\n",
            "32/32 [==============================] - 0s 3ms/step - loss: 5.7657 - accuracy: 0.4820\n",
            "Epoch 88/100\n",
            "32/32 [==============================] - 0s 3ms/step - loss: 5.7656 - accuracy: 0.4820\n",
            "Epoch 89/100\n",
            "32/32 [==============================] - 0s 3ms/step - loss: 5.7655 - accuracy: 0.4820\n",
            "Epoch 90/100\n",
            "32/32 [==============================] - 0s 3ms/step - loss: 5.7654 - accuracy: 0.4820\n",
            "Epoch 91/100\n",
            "32/32 [==============================] - 0s 3ms/step - loss: 5.7577 - accuracy: 0.4820\n",
            "Epoch 92/100\n",
            "32/32 [==============================] - 0s 3ms/step - loss: 5.7555 - accuracy: 0.4820\n",
            "Epoch 93/100\n",
            "32/32 [==============================] - 0s 3ms/step - loss: 5.7553 - accuracy: 0.4820\n",
            "Epoch 94/100\n",
            "32/32 [==============================] - 0s 3ms/step - loss: 5.7480 - accuracy: 0.4830\n",
            "Epoch 95/100\n",
            "32/32 [==============================] - 0s 4ms/step - loss: 5.7532 - accuracy: 0.4840\n",
            "Epoch 96/100\n",
            "32/32 [==============================] - 0s 3ms/step - loss: 5.7451 - accuracy: 0.4840\n",
            "Epoch 97/100\n",
            "32/32 [==============================] - 0s 3ms/step - loss: 5.7443 - accuracy: 0.4840\n",
            "Epoch 98/100\n",
            "32/32 [==============================] - 0s 3ms/step - loss: 5.7440 - accuracy: 0.4830\n",
            "Epoch 99/100\n",
            "32/32 [==============================] - 0s 3ms/step - loss: 5.7438 - accuracy: 0.4830\n",
            "Epoch 100/100\n",
            "32/32 [==============================] - 0s 3ms/step - loss: 5.7435 - accuracy: 0.4830\n"
          ]
        }
      ]
    },
    {
      "cell_type": "code",
      "source": [
        "# Check out our data\n",
        "plt.scatter(X[:, 0], X[:, 1], c=y, cmap=plt.cm.RdYlBu);"
      ],
      "metadata": {
        "colab": {
          "base_uri": "https://localhost:8080/",
          "height": 265
        },
        "id": "XcQ0zV1Hpc9W",
        "outputId": "9b2e19d4-6dc9-4776-f069-1d133218a07b"
      },
      "execution_count": 95,
      "outputs": [
        {
          "output_type": "display_data",
          "data": {
            "text/plain": [
              "<Figure size 432x288 with 1 Axes>"
            ],
            "image/png": "[encoded data removed]"
          },
          "metadata": {
            "needs_background": "light"
          }
        }
      ]
    },
    {
      "cell_type": "code",
      "source": [
        "# Check the decision boundary for our model\n",
        "plot_decision_boundary(model=model_4,\n",
        "                       X=X,\n",
        "                       y=y)"
      ],
      "metadata": {
        "colab": {
          "base_uri": "https://localhost:8080/",
          "height": 301
        },
        "id": "-tjtZpgKpz0F",
        "outputId": "cf7cc69b-b90e-4d9d-a2c0-faea5dfa5e5a"
      },
      "execution_count": 96,
      "outputs": [
        {
          "output_type": "stream",
          "name": "stdout",
          "text": [
            "313/313 [==============================] - 1s 4ms/step\n",
            "doing binary classification\n"
          ]
        },
        {
          "output_type": "display_data",
          "data": {
            "text/plain": [
              "<Figure size 432x288 with 1 Axes>"
            ],
            "image/png": "[encoded data removed]"
          },
          "metadata": {
            "needs_background": "light"
          }
        }
      ]
    },
    {
      "cell_type": "markdown",
      "source": [
        "Let's try to build our first neural network with a non-linear activation function."
      ],
      "metadata": {
        "id": "XHASqWPQp7Ap"
      }
    },
    {
      "cell_type": "code",
      "source": [
        "# Set random seed\n",
        "tf.random.set_seed(42)\n",
        "\n",
        "# Create a model with a non-linear activation\n",
        "model_5 = tf.keras.Sequential([\n",
        "  tf.keras.layers.Dense(1, activation=tf.keras.activations.relu), # can also do activation='relu'\n",
        "  tf.keras.layers.Dense(1) # output layer \n",
        "])\n",
        "\n",
        "# Compile the model\n",
        "model_5.compile(loss=tf.keras.losses.binary_crossentropy,\n",
        "              optimizer=tf.keras.optimizers.Adam(),\n",
        "              metrics=[\"accuracy\"])\n",
        "\n",
        "# Fit the model\n",
        "history = model_5.fit(X, y, epochs=100)"
      ],
      "metadata": {
        "colab": {
          "base_uri": "https://localhost:8080/"
        },
        "id": "7o3XY3Q6qn2P",
        "outputId": "8c6c0743-3567-4baa-c140-487b907f373f"
      },
      "execution_count": 97,
      "outputs": [
        {
          "output_type": "stream",
          "name": "stdout",
          "text": [
            "Epoch 1/100\n",
            "32/32 [==============================] - 2s 3ms/step - loss: 6.0746 - accuracy: 0.4860\n",
            "Epoch 2/100\n",
            "32/32 [==============================] - 0s 4ms/step - loss: 6.0646 - accuracy: 0.4860\n",
            "Epoch 3/100\n",
            "32/32 [==============================] - 0s 4ms/step - loss: 4.0763 - accuracy: 0.4850\n",
            "Epoch 4/100\n",
            "32/32 [==============================] - 0s 3ms/step - loss: 3.2854 - accuracy: 0.4860\n",
            "Epoch 5/100\n",
            "32/32 [==============================] - 0s 3ms/step - loss: 3.2228 - accuracy: 0.4870\n",
            "Epoch 6/100\n",
            "32/32 [==============================] - 0s 3ms/step - loss: 3.1568 - accuracy: 0.4860\n",
            "Epoch 7/100\n",
            "32/32 [==============================] - 0s 4ms/step - loss: 3.0477 - accuracy: 0.4860\n",
            "Epoch 8/100\n",
            "32/32 [==============================] - 0s 3ms/step - loss: 2.9432 - accuracy: 0.4810\n",
            "Epoch 9/100\n",
            "32/32 [==============================] - 0s 3ms/step - loss: 2.7858 - accuracy: 0.4800\n",
            "Epoch 10/100\n",
            "32/32 [==============================] - 0s 3ms/step - loss: 2.6530 - accuracy: 0.4790\n",
            "Epoch 11/100\n",
            "32/32 [==============================] - 0s 3ms/step - loss: 2.3598 - accuracy: 0.4760\n",
            "Epoch 12/100\n",
            "32/32 [==============================] - 0s 3ms/step - loss: 1.8479 - accuracy: 0.4760\n",
            "Epoch 13/100\n",
            "32/32 [==============================] - 0s 5ms/step - loss: 1.6210 - accuracy: 0.4750\n",
            "Epoch 14/100\n",
            "32/32 [==============================] - 0s 5ms/step - loss: 1.5809 - accuracy: 0.4710\n",
            "Epoch 15/100\n",
            "32/32 [==============================] - 0s 5ms/step - loss: 1.5598 - accuracy: 0.4690\n",
            "Epoch 16/100\n",
            "32/32 [==============================] - 0s 4ms/step - loss: 1.5420 - accuracy: 0.4730\n",
            "Epoch 17/100\n",
            "32/32 [==============================] - 0s 4ms/step - loss: 1.5258 - accuracy: 0.4750\n",
            "Epoch 18/100\n",
            "32/32 [==============================] - 0s 5ms/step - loss: 1.5105 - accuracy: 0.4750\n",
            "Epoch 19/100\n",
            "32/32 [==============================] - 0s 4ms/step - loss: 1.4964 - accuracy: 0.4720\n",
            "Epoch 20/100\n",
            "32/32 [==============================] - 0s 5ms/step - loss: 1.4829 - accuracy: 0.4690\n",
            "Epoch 21/100\n",
            "32/32 [==============================] - 0s 5ms/step - loss: 1.4700 - accuracy: 0.4710\n",
            "Epoch 22/100\n",
            "32/32 [==============================] - 0s 5ms/step - loss: 1.4579 - accuracy: 0.4690\n",
            "Epoch 23/100\n",
            "32/32 [==============================] - 0s 5ms/step - loss: 1.4463 - accuracy: 0.4690\n",
            "Epoch 24/100\n",
            "32/32 [==============================] - 0s 5ms/step - loss: 1.4352 - accuracy: 0.4700\n",
            "Epoch 25/100\n",
            "32/32 [==============================] - 0s 5ms/step - loss: 1.4243 - accuracy: 0.4700\n",
            "Epoch 26/100\n",
            "32/32 [==============================] - 0s 5ms/step - loss: 1.4137 - accuracy: 0.4690\n",
            "Epoch 27/100\n",
            "32/32 [==============================] - 0s 5ms/step - loss: 1.4036 - accuracy: 0.4680\n",
            "Epoch 28/100\n",
            "32/32 [==============================] - 0s 5ms/step - loss: 1.3937 - accuracy: 0.4670\n",
            "Epoch 29/100\n",
            "32/32 [==============================] - 0s 5ms/step - loss: 1.3843 - accuracy: 0.4660\n",
            "Epoch 30/100\n",
            "32/32 [==============================] - 0s 5ms/step - loss: 1.3753 - accuracy: 0.4680\n",
            "Epoch 31/100\n",
            "32/32 [==============================] - 0s 5ms/step - loss: 1.3663 - accuracy: 0.4670\n",
            "Epoch 32/100\n",
            "32/32 [==============================] - 0s 4ms/step - loss: 1.3578 - accuracy: 0.4670\n",
            "Epoch 33/100\n",
            "32/32 [==============================] - 0s 4ms/step - loss: 1.3495 - accuracy: 0.4670\n",
            "Epoch 34/100\n",
            "32/32 [==============================] - 0s 3ms/step - loss: 1.3414 - accuracy: 0.4670\n",
            "Epoch 35/100\n",
            "32/32 [==============================] - 0s 3ms/step - loss: 1.3335 - accuracy: 0.4660\n",
            "Epoch 36/100\n",
            "32/32 [==============================] - 0s 4ms/step - loss: 1.3258 - accuracy: 0.4650\n",
            "Epoch 37/100\n",
            "32/32 [==============================] - 0s 3ms/step - loss: 1.3183 - accuracy: 0.4650\n",
            "Epoch 38/100\n",
            "32/32 [==============================] - 0s 3ms/step - loss: 1.3109 - accuracy: 0.4640\n",
            "Epoch 39/100\n",
            "32/32 [==============================] - 0s 3ms/step - loss: 1.3037 - accuracy: 0.4640\n",
            "Epoch 40/100\n",
            "32/32 [==============================] - 0s 3ms/step - loss: 1.2966 - accuracy: 0.4640\n",
            "Epoch 41/100\n",
            "32/32 [==============================] - 0s 3ms/step - loss: 1.2897 - accuracy: 0.4640\n",
            "Epoch 42/100\n",
            "32/32 [==============================] - 0s 3ms/step - loss: 1.2829 - accuracy: 0.4630\n",
            "Epoch 43/100\n",
            "32/32 [==============================] - 0s 3ms/step - loss: 1.2764 - accuracy: 0.4630\n",
            "Epoch 44/100\n",
            "32/32 [==============================] - 0s 3ms/step - loss: 1.2698 - accuracy: 0.4640\n",
            "Epoch 45/100\n",
            "32/32 [==============================] - 0s 4ms/step - loss: 1.2632 - accuracy: 0.4630\n",
            "Epoch 46/100\n",
            "32/32 [==============================] - 0s 3ms/step - loss: 1.2568 - accuracy: 0.4640\n",
            "Epoch 47/100\n",
            "32/32 [==============================] - 0s 4ms/step - loss: 1.2505 - accuracy: 0.4650\n",
            "Epoch 48/100\n",
            "32/32 [==============================] - 0s 3ms/step - loss: 1.2441 - accuracy: 0.4640\n",
            "Epoch 49/100\n",
            "32/32 [==============================] - 0s 4ms/step - loss: 1.2376 - accuracy: 0.4640\n",
            "Epoch 50/100\n",
            "32/32 [==============================] - 0s 4ms/step - loss: 1.2314 - accuracy: 0.4650\n",
            "Epoch 51/100\n",
            "32/32 [==============================] - 0s 4ms/step - loss: 1.2253 - accuracy: 0.4630\n",
            "Epoch 52/100\n",
            "32/32 [==============================] - 0s 3ms/step - loss: 1.2194 - accuracy: 0.4640\n",
            "Epoch 53/100\n",
            "32/32 [==============================] - 0s 4ms/step - loss: 1.2135 - accuracy: 0.4640\n",
            "Epoch 54/100\n",
            "32/32 [==============================] - 0s 4ms/step - loss: 1.2076 - accuracy: 0.4640\n",
            "Epoch 55/100\n",
            "32/32 [==============================] - 0s 3ms/step - loss: 1.2019 - accuracy: 0.4640\n",
            "Epoch 56/100\n",
            "32/32 [==============================] - 0s 3ms/step - loss: 1.1962 - accuracy: 0.4640\n",
            "Epoch 57/100\n",
            "32/32 [==============================] - 0s 3ms/step - loss: 1.1906 - accuracy: 0.4640\n",
            "Epoch 58/100\n",
            "32/32 [==============================] - 0s 3ms/step - loss: 1.1850 - accuracy: 0.4640\n",
            "Epoch 59/100\n",
            "32/32 [==============================] - 0s 3ms/step - loss: 1.1796 - accuracy: 0.4660\n",
            "Epoch 60/100\n",
            "32/32 [==============================] - 0s 4ms/step - loss: 1.1742 - accuracy: 0.4650\n",
            "Epoch 61/100\n",
            "32/32 [==============================] - 0s 3ms/step - loss: 1.1688 - accuracy: 0.4640\n",
            "Epoch 62/100\n",
            "32/32 [==============================] - 0s 4ms/step - loss: 1.1636 - accuracy: 0.4640\n",
            "Epoch 63/100\n",
            "32/32 [==============================] - 0s 3ms/step - loss: 1.1583 - accuracy: 0.4660\n",
            "Epoch 64/100\n",
            "32/32 [==============================] - 0s 4ms/step - loss: 1.1530 - accuracy: 0.4650\n",
            "Epoch 65/100\n",
            "32/32 [==============================] - 0s 3ms/step - loss: 1.1478 - accuracy: 0.4650\n",
            "Epoch 66/100\n",
            "32/32 [==============================] - 0s 3ms/step - loss: 1.1426 - accuracy: 0.4670\n",
            "Epoch 67/100\n",
            "32/32 [==============================] - 0s 4ms/step - loss: 1.1374 - accuracy: 0.4660\n",
            "Epoch 68/100\n",
            "32/32 [==============================] - 0s 4ms/step - loss: 1.1322 - accuracy: 0.4670\n",
            "Epoch 69/100\n",
            "32/32 [==============================] - 0s 3ms/step - loss: 1.1270 - accuracy: 0.4660\n",
            "Epoch 70/100\n",
            "32/32 [==============================] - 0s 3ms/step - loss: 1.1220 - accuracy: 0.4660\n",
            "Epoch 71/100\n",
            "32/32 [==============================] - 0s 3ms/step - loss: 1.1170 - accuracy: 0.4660\n",
            "Epoch 72/100\n",
            "32/32 [==============================] - 0s 3ms/step - loss: 1.1120 - accuracy: 0.4670\n",
            "Epoch 73/100\n",
            "32/32 [==============================] - 0s 3ms/step - loss: 1.1070 - accuracy: 0.4670\n",
            "Epoch 74/100\n",
            "32/32 [==============================] - 0s 4ms/step - loss: 1.1022 - accuracy: 0.4670\n",
            "Epoch 75/100\n",
            "32/32 [==============================] - 0s 3ms/step - loss: 1.0974 - accuracy: 0.4680\n",
            "Epoch 76/100\n",
            "32/32 [==============================] - 0s 3ms/step - loss: 1.0927 - accuracy: 0.4670\n",
            "Epoch 77/100\n",
            "32/32 [==============================] - 0s 3ms/step - loss: 1.0880 - accuracy: 0.4670\n",
            "Epoch 78/100\n",
            "32/32 [==============================] - 0s 3ms/step - loss: 1.0832 - accuracy: 0.4670\n",
            "Epoch 79/100\n",
            "32/32 [==============================] - 0s 3ms/step - loss: 1.0783 - accuracy: 0.4670\n",
            "Epoch 80/100\n",
            "32/32 [==============================] - 0s 4ms/step - loss: 1.0736 - accuracy: 0.4670\n",
            "Epoch 81/100\n",
            "32/32 [==============================] - 0s 3ms/step - loss: 1.0690 - accuracy: 0.4670\n",
            "Epoch 82/100\n",
            "32/32 [==============================] - 0s 4ms/step - loss: 1.0645 - accuracy: 0.4670\n",
            "Epoch 83/100\n",
            "32/32 [==============================] - 0s 3ms/step - loss: 1.0600 - accuracy: 0.4660\n",
            "Epoch 84/100\n",
            "32/32 [==============================] - 0s 3ms/step - loss: 1.0556 - accuracy: 0.4670\n",
            "Epoch 85/100\n",
            "32/32 [==============================] - 0s 3ms/step - loss: 1.0513 - accuracy: 0.4670\n",
            "Epoch 86/100\n",
            "32/32 [==============================] - 0s 3ms/step - loss: 1.0471 - accuracy: 0.4680\n",
            "Epoch 87/100\n",
            "32/32 [==============================] - 0s 3ms/step - loss: 1.0426 - accuracy: 0.4680\n",
            "Epoch 88/100\n",
            "32/32 [==============================] - 0s 4ms/step - loss: 1.0380 - accuracy: 0.4680\n",
            "Epoch 89/100\n",
            "32/32 [==============================] - 0s 3ms/step - loss: 1.0335 - accuracy: 0.4690\n",
            "Epoch 90/100\n",
            "32/32 [==============================] - 0s 4ms/step - loss: 1.0289 - accuracy: 0.4700\n",
            "Epoch 91/100\n",
            "32/32 [==============================] - 0s 3ms/step - loss: 1.0242 - accuracy: 0.4700\n",
            "Epoch 92/100\n",
            "32/32 [==============================] - 0s 3ms/step - loss: 1.0195 - accuracy: 0.4690\n",
            "Epoch 93/100\n",
            "32/32 [==============================] - 0s 3ms/step - loss: 1.0147 - accuracy: 0.4700\n",
            "Epoch 94/100\n",
            "32/32 [==============================] - 0s 3ms/step - loss: 1.0101 - accuracy: 0.4700\n",
            "Epoch 95/100\n",
            "32/32 [==============================] - 0s 3ms/step - loss: 1.0052 - accuracy: 0.4720\n",
            "Epoch 96/100\n",
            "32/32 [==============================] - 0s 3ms/step - loss: 1.0004 - accuracy: 0.4720\n",
            "Epoch 97/100\n",
            "32/32 [==============================] - 0s 4ms/step - loss: 0.9958 - accuracy: 0.4720\n",
            "Epoch 98/100\n",
            "32/32 [==============================] - 0s 4ms/step - loss: 0.9910 - accuracy: 0.4730\n",
            "Epoch 99/100\n",
            "32/32 [==============================] - 0s 3ms/step - loss: 0.9863 - accuracy: 0.4700\n",
            "Epoch 100/100\n",
            "32/32 [==============================] - 0s 4ms/step - loss: 0.9814 - accuracy: 0.4730\n"
          ]
        }
      ]
    },
    {
      "cell_type": "code",
      "source": [
        "# Check the decision boundary for our model\n",
        "plot_decision_boundary(model=model_5,\n",
        "                       X=X,\n",
        "                       y=y)"
      ],
      "metadata": {
        "colab": {
          "base_uri": "https://localhost:8080/",
          "height": 301
        },
        "id": "fprRBci8q9to",
        "outputId": "3e73c7e8-800c-42c3-9523-3d1855ade5b4"
      },
      "execution_count": 98,
      "outputs": [
        {
          "output_type": "stream",
          "name": "stdout",
          "text": [
            "313/313 [==============================] - 1s 3ms/step\n",
            "doing binary classification\n"
          ]
        },
        {
          "output_type": "display_data",
          "data": {
            "text/plain": [
              "<Figure size 432x288 with 1 Axes>"
            ],
            "image/png": "[encoded data removed]"
          },
          "metadata": {
            "needs_background": "light"
          }
        }
      ]
    },
    {
      "cell_type": "code",
      "source": [
        "\n",
        "# Set random seed\n",
        "tf.random.set_seed(42)\n",
        "\n",
        "# Create a model\n",
        "model_6 = tf.keras.Sequential([\n",
        "  tf.keras.layers.Dense(4, activation=tf.keras.activations.relu), # hidden layer 1, 4 neurons, ReLU activation\n",
        "  tf.keras.layers.Dense(4, activation=tf.keras.activations.relu), # hidden layer 2, 4 neurons, ReLU activation\n",
        "  tf.keras.layers.Dense(1) # ouput layer\n",
        "])\n",
        "\n",
        "# Compile the model\n",
        "model_6.compile(loss=tf.keras.losses.binary_crossentropy,\n",
        "                optimizer=tf.keras.optimizers.Adam(lr=0.001), # Adam's default learning rate is 0.001\n",
        "                metrics=['accuracy'])\n",
        "\n",
        "# Fit the model\n",
        "history = model_6.fit(X, y, epochs=100)"
      ],
      "metadata": {
        "colab": {
          "base_uri": "https://localhost:8080/"
        },
        "id": "l8GcT5MUrEQt",
        "outputId": "48acf212-9c6e-436b-af4e-78e84c93d457"
      },
      "execution_count": 99,
      "outputs": [
        {
          "output_type": "stream",
          "name": "stderr",
          "text": [
            "WARNING:absl:`lr` is deprecated, please use `learning_rate` instead, or use the legacy optimizer, e.g.,tf.keras.optimizers.legacy.Adam.\n"
          ]
        },
        {
          "output_type": "stream",
          "name": "stdout",
          "text": [
            "Epoch 1/100\n",
            "32/32 [==============================] - 1s 4ms/step - loss: 4.2579 - accuracy: 0.5000\n",
            "Epoch 2/100\n",
            "32/32 [==============================] - 0s 4ms/step - loss: 3.9981 - accuracy: 0.5000\n",
            "Epoch 3/100\n",
            "32/32 [==============================] - 0s 3ms/step - loss: 3.7704 - accuracy: 0.5000\n",
            "Epoch 4/100\n",
            "32/32 [==============================] - 0s 5ms/step - loss: 3.3050 - accuracy: 0.5000\n",
            "Epoch 5/100\n",
            "32/32 [==============================] - 0s 6ms/step - loss: 1.8394 - accuracy: 0.4980\n",
            "Epoch 6/100\n",
            "32/32 [==============================] - 0s 6ms/step - loss: 0.8955 - accuracy: 0.4410\n",
            "Epoch 7/100\n",
            "32/32 [==============================] - 0s 6ms/step - loss: 0.8441 - accuracy: 0.3970\n",
            "Epoch 8/100\n",
            "32/32 [==============================] - 0s 5ms/step - loss: 0.8162 - accuracy: 0.3760\n",
            "Epoch 9/100\n",
            "32/32 [==============================] - 0s 6ms/step - loss: 0.7923 - accuracy: 0.3760\n",
            "Epoch 10/100\n",
            "32/32 [==============================] - 0s 14ms/step - loss: 0.7734 - accuracy: 0.3720\n",
            "Epoch 11/100\n",
            "32/32 [==============================] - 1s 20ms/step - loss: 0.7607 - accuracy: 0.3790\n",
            "Epoch 12/100\n",
            "32/32 [==============================] - 1s 25ms/step - loss: 0.7511 - accuracy: 0.3730\n",
            "Epoch 13/100\n",
            "32/32 [==============================] - 1s 21ms/step - loss: 0.7435 - accuracy: 0.3880\n",
            "Epoch 14/100\n",
            "32/32 [==============================] - 1s 19ms/step - loss: 0.7375 - accuracy: 0.4270\n",
            "Epoch 15/100\n",
            "32/32 [==============================] - 0s 7ms/step - loss: 0.7327 - accuracy: 0.4160\n",
            "Epoch 16/100\n",
            "32/32 [==============================] - 0s 5ms/step - loss: 0.7289 - accuracy: 0.4330\n",
            "Epoch 17/100\n",
            "32/32 [==============================] - 0s 5ms/step - loss: 0.7257 - accuracy: 0.4260\n",
            "Epoch 18/100\n",
            "32/32 [==============================] - 0s 5ms/step - loss: 0.7225 - accuracy: 0.4100\n",
            "Epoch 19/100\n",
            "32/32 [==============================] - 0s 5ms/step - loss: 0.7199 - accuracy: 0.4090\n",
            "Epoch 20/100\n",
            "32/32 [==============================] - 0s 4ms/step - loss: 0.7172 - accuracy: 0.4280\n",
            "Epoch 21/100\n",
            "32/32 [==============================] - 0s 3ms/step - loss: 0.7148 - accuracy: 0.4320\n",
            "Epoch 22/100\n",
            "32/32 [==============================] - 0s 3ms/step - loss: 0.7124 - accuracy: 0.4320\n",
            "Epoch 23/100\n",
            "32/32 [==============================] - 0s 3ms/step - loss: 0.7103 - accuracy: 0.4340\n",
            "Epoch 24/100\n",
            "32/32 [==============================] - 0s 3ms/step - loss: 0.7081 - accuracy: 0.4350\n",
            "Epoch 25/100\n",
            "32/32 [==============================] - 0s 4ms/step - loss: 0.7059 - accuracy: 0.4400\n",
            "Epoch 26/100\n",
            "32/32 [==============================] - 0s 4ms/step - loss: 0.7013 - accuracy: 0.4560\n",
            "Epoch 27/100\n",
            "32/32 [==============================] - 0s 4ms/step - loss: 0.6987 - accuracy: 0.5100\n",
            "Epoch 28/100\n",
            "32/32 [==============================] - 0s 4ms/step - loss: 0.6947 - accuracy: 0.5000\n",
            "Epoch 29/100\n",
            "32/32 [==============================] - 0s 3ms/step - loss: 0.6925 - accuracy: 0.4960\n",
            "Epoch 30/100\n",
            "32/32 [==============================] - 0s 4ms/step - loss: 0.6900 - accuracy: 0.5130\n",
            "Epoch 31/100\n",
            "32/32 [==============================] - 0s 3ms/step - loss: 0.6879 - accuracy: 0.5190\n",
            "Epoch 32/100\n",
            "32/32 [==============================] - 0s 4ms/step - loss: 0.6863 - accuracy: 0.5180\n",
            "Epoch 33/100\n",
            "32/32 [==============================] - 0s 4ms/step - loss: 0.6842 - accuracy: 0.5220\n",
            "Epoch 34/100\n",
            "32/32 [==============================] - 0s 4ms/step - loss: 0.6827 - accuracy: 0.5280\n",
            "Epoch 35/100\n",
            "32/32 [==============================] - 0s 3ms/step - loss: 0.6811 - accuracy: 0.5380\n",
            "Epoch 36/100\n",
            "32/32 [==============================] - 0s 4ms/step - loss: 0.6792 - accuracy: 0.5400\n",
            "Epoch 37/100\n",
            "32/32 [==============================] - 0s 4ms/step - loss: 0.6778 - accuracy: 0.5490\n",
            "Epoch 38/100\n",
            "32/32 [==============================] - 0s 3ms/step - loss: 0.6766 - accuracy: 0.5540\n",
            "Epoch 39/100\n",
            "32/32 [==============================] - 0s 3ms/step - loss: 0.6748 - accuracy: 0.5510\n",
            "Epoch 40/100\n",
            "32/32 [==============================] - 0s 4ms/step - loss: 0.6737 - accuracy: 0.5710\n",
            "Epoch 41/100\n",
            "32/32 [==============================] - 0s 3ms/step - loss: 0.6727 - accuracy: 0.5730\n",
            "Epoch 42/100\n",
            "32/32 [==============================] - 0s 4ms/step - loss: 0.6714 - accuracy: 0.5670\n",
            "Epoch 43/100\n",
            "32/32 [==============================] - 0s 4ms/step - loss: 0.6701 - accuracy: 0.5590\n",
            "Epoch 44/100\n",
            "32/32 [==============================] - 0s 4ms/step - loss: 0.6694 - accuracy: 0.5510\n",
            "Epoch 45/100\n",
            "32/32 [==============================] - 0s 4ms/step - loss: 0.6683 - accuracy: 0.5560\n",
            "Epoch 46/100\n",
            "32/32 [==============================] - 0s 4ms/step - loss: 0.6672 - accuracy: 0.5590\n",
            "Epoch 47/100\n",
            "32/32 [==============================] - 0s 3ms/step - loss: 0.6672 - accuracy: 0.5610\n",
            "Epoch 48/100\n",
            "32/32 [==============================] - 0s 4ms/step - loss: 0.6660 - accuracy: 0.5610\n",
            "Epoch 49/100\n",
            "32/32 [==============================] - 0s 4ms/step - loss: 0.6648 - accuracy: 0.5530\n",
            "Epoch 50/100\n",
            "32/32 [==============================] - 0s 4ms/step - loss: 0.6641 - accuracy: 0.5550\n",
            "Epoch 51/100\n",
            "32/32 [==============================] - 0s 3ms/step - loss: 0.6633 - accuracy: 0.5660\n",
            "Epoch 52/100\n",
            "32/32 [==============================] - 0s 4ms/step - loss: 0.6628 - accuracy: 0.5660\n",
            "Epoch 53/100\n",
            "32/32 [==============================] - 0s 4ms/step - loss: 0.6620 - accuracy: 0.5600\n",
            "Epoch 54/100\n",
            "32/32 [==============================] - 0s 4ms/step - loss: 0.6610 - accuracy: 0.5700\n",
            "Epoch 55/100\n",
            "32/32 [==============================] - 0s 4ms/step - loss: 0.6608 - accuracy: 0.5690\n",
            "Epoch 56/100\n",
            "32/32 [==============================] - 0s 3ms/step - loss: 0.6597 - accuracy: 0.5640\n",
            "Epoch 57/100\n",
            "32/32 [==============================] - 0s 4ms/step - loss: 0.6585 - accuracy: 0.5670\n",
            "Epoch 58/100\n",
            "32/32 [==============================] - 0s 4ms/step - loss: 0.6584 - accuracy: 0.5710\n",
            "Epoch 59/100\n",
            "32/32 [==============================] - 0s 3ms/step - loss: 0.6578 - accuracy: 0.5730\n",
            "Epoch 60/100\n",
            "32/32 [==============================] - 0s 3ms/step - loss: 0.6562 - accuracy: 0.5650\n",
            "Epoch 61/100\n",
            "32/32 [==============================] - 0s 4ms/step - loss: 0.6550 - accuracy: 0.5630\n",
            "Epoch 62/100\n",
            "32/32 [==============================] - 0s 4ms/step - loss: 0.6531 - accuracy: 0.5680\n",
            "Epoch 63/100\n",
            "32/32 [==============================] - 0s 4ms/step - loss: 0.6509 - accuracy: 0.5710\n",
            "Epoch 64/100\n",
            "32/32 [==============================] - 0s 4ms/step - loss: 0.6494 - accuracy: 0.5720\n",
            "Epoch 65/100\n",
            "32/32 [==============================] - 0s 3ms/step - loss: 0.6476 - accuracy: 0.5820\n",
            "Epoch 66/100\n",
            "32/32 [==============================] - 0s 4ms/step - loss: 0.6458 - accuracy: 0.5880\n",
            "Epoch 67/100\n",
            "32/32 [==============================] - 0s 3ms/step - loss: 0.6445 - accuracy: 0.5880\n",
            "Epoch 68/100\n",
            "32/32 [==============================] - 0s 4ms/step - loss: 0.6426 - accuracy: 0.5830\n",
            "Epoch 69/100\n",
            "32/32 [==============================] - 0s 4ms/step - loss: 0.6411 - accuracy: 0.5870\n",
            "Epoch 70/100\n",
            "32/32 [==============================] - 0s 4ms/step - loss: 0.6396 - accuracy: 0.6030\n",
            "Epoch 71/100\n",
            "32/32 [==============================] - 0s 4ms/step - loss: 0.6376 - accuracy: 0.6150\n",
            "Epoch 72/100\n",
            "32/32 [==============================] - 0s 3ms/step - loss: 0.6362 - accuracy: 0.6140\n",
            "Epoch 73/100\n",
            "32/32 [==============================] - 0s 4ms/step - loss: 0.6341 - accuracy: 0.6170\n",
            "Epoch 74/100\n",
            "32/32 [==============================] - 0s 4ms/step - loss: 0.6318 - accuracy: 0.6330\n",
            "Epoch 75/100\n",
            "32/32 [==============================] - 0s 3ms/step - loss: 0.6303 - accuracy: 0.6330\n",
            "Epoch 76/100\n",
            "32/32 [==============================] - 0s 4ms/step - loss: 0.6286 - accuracy: 0.6330\n",
            "Epoch 77/100\n",
            "32/32 [==============================] - 0s 4ms/step - loss: 0.6268 - accuracy: 0.6440\n",
            "Epoch 78/100\n",
            "32/32 [==============================] - 0s 4ms/step - loss: 0.6243 - accuracy: 0.6390\n",
            "Epoch 79/100\n",
            "32/32 [==============================] - 0s 4ms/step - loss: 0.6223 - accuracy: 0.6590\n",
            "Epoch 80/100\n",
            "32/32 [==============================] - 0s 3ms/step - loss: 0.6192 - accuracy: 0.6570\n",
            "Epoch 81/100\n",
            "32/32 [==============================] - 0s 4ms/step - loss: 0.6173 - accuracy: 0.6710\n",
            "Epoch 82/100\n",
            "32/32 [==============================] - 0s 4ms/step - loss: 0.6147 - accuracy: 0.6890\n",
            "Epoch 83/100\n",
            "32/32 [==============================] - 0s 3ms/step - loss: 0.6115 - accuracy: 0.7140\n",
            "Epoch 84/100\n",
            "32/32 [==============================] - 0s 3ms/step - loss: 0.6086 - accuracy: 0.7170\n",
            "Epoch 85/100\n",
            "32/32 [==============================] - 0s 4ms/step - loss: 0.6058 - accuracy: 0.7380\n",
            "Epoch 86/100\n",
            "32/32 [==============================] - 0s 3ms/step - loss: 0.6035 - accuracy: 0.7440\n",
            "Epoch 87/100\n",
            "32/32 [==============================] - 0s 3ms/step - loss: 0.5998 - accuracy: 0.7540\n",
            "Epoch 88/100\n",
            "32/32 [==============================] - 0s 4ms/step - loss: 0.5962 - accuracy: 0.7680\n",
            "Epoch 89/100\n",
            "32/32 [==============================] - 0s 4ms/step - loss: 0.5935 - accuracy: 0.7710\n",
            "Epoch 90/100\n",
            "32/32 [==============================] - 0s 3ms/step - loss: 0.5901 - accuracy: 0.7790\n",
            "Epoch 91/100\n",
            "32/32 [==============================] - 0s 4ms/step - loss: 0.5860 - accuracy: 0.7930\n",
            "Epoch 92/100\n",
            "32/32 [==============================] - 0s 3ms/step - loss: 0.5821 - accuracy: 0.7990\n",
            "Epoch 93/100\n",
            "32/32 [==============================] - 0s 3ms/step - loss: 0.5794 - accuracy: 0.7870\n",
            "Epoch 94/100\n",
            "32/32 [==============================] - 0s 4ms/step - loss: 0.5747 - accuracy: 0.7940\n",
            "Epoch 95/100\n",
            "32/32 [==============================] - 0s 3ms/step - loss: 0.5701 - accuracy: 0.8110\n",
            "Epoch 96/100\n",
            "32/32 [==============================] - 0s 4ms/step - loss: 0.5663 - accuracy: 0.8160\n",
            "Epoch 97/100\n",
            "32/32 [==============================] - 0s 4ms/step - loss: 0.5612 - accuracy: 0.8140\n",
            "Epoch 98/100\n",
            "32/32 [==============================] - 0s 3ms/step - loss: 0.5561 - accuracy: 0.8320\n",
            "Epoch 99/100\n",
            "32/32 [==============================] - 0s 5ms/step - loss: 0.5511 - accuracy: 0.8240\n",
            "Epoch 100/100\n",
            "32/32 [==============================] - 0s 5ms/step - loss: 0.5452 - accuracy: 0.8260\n"
          ]
        }
      ]
    },
    {
      "cell_type": "code",
      "source": [
        "# evalueate the model\n",
        "model_6.evaluate(X,y)"
      ],
      "metadata": {
        "colab": {
          "base_uri": "https://localhost:8080/"
        },
        "id": "gP5nDrf7s7e9",
        "outputId": "769ad2d5-92c8-48a8-b6b1-70b5add53842"
      },
      "execution_count": 100,
      "outputs": [
        {
          "output_type": "stream",
          "name": "stdout",
          "text": [
            "32/32 [==============================] - 0s 3ms/step - loss: 0.5407 - accuracy: 0.8380\n"
          ]
        },
        {
          "output_type": "execute_result",
          "data": {
            "text/plain": [
              "[0.5407008528709412, 0.8379999995231628]"
            ]
          },
          "metadata": {},
          "execution_count": 100
        }
      ]
    },
    {
      "cell_type": "code",
      "source": [
        "# Check the decision boundary for our model\n",
        "plot_decision_boundary(model=model_6,\n",
        "                       X=X,\n",
        "                       y=y)"
      ],
      "metadata": {
        "colab": {
          "base_uri": "https://localhost:8080/",
          "height": 301
        },
        "id": "Bh1zq6otsxAM",
        "outputId": "e6354051-e409-4692-841b-b10d7980c45e"
      },
      "execution_count": 101,
      "outputs": [
        {
          "output_type": "stream",
          "name": "stdout",
          "text": [
            "313/313 [==============================] - 1s 2ms/step\n",
            "doing binary classification\n"
          ]
        },
        {
          "output_type": "display_data",
          "data": {
            "text/plain": [
              "<Figure size 432x288 with 1 Axes>"
            ],
            "image/png": "[encoded data removed]"
          },
          "metadata": {
            "needs_background": "light"
          }
        }
      ]
    },
    {
      "cell_type": "code",
      "source": [
        "\n",
        "# Set the random seed\n",
        "tf.random.set_seed(42)\n",
        "\n",
        "# 1. Create the model\n",
        "model_7 = tf.keras.Sequential([\n",
        "    tf.keras.layers.Dense(4, activation=tf.keras.activations.relu),\n",
        "    tf.keras.layers.Dense(4, activation=tf.keras.activations.relu),\n",
        "    tf.keras.layers.Dense(1, activation=tf.keras.activations.sigmoid)\n",
        "])\n",
        "\n",
        "# 2. Compile the model\n",
        "model_7.compile(loss = \"binary_crossentropy\",\n",
        "                optimizer=tf.keras.optimizers.Adam(learning_rate=0.001),\n",
        "                metrics=[\"accuracy\"])\n",
        "\n",
        "# 3. Fit the model\n",
        "history = model_7.fit(X, y, epochs=100, verbose=1)"
      ],
      "metadata": {
        "colab": {
          "base_uri": "https://localhost:8080/"
        },
        "id": "vo9b_oaKtcp0",
        "outputId": "47aec0ac-b3dc-4739-c8a0-a30ba2d8fa86"
      },
      "execution_count": 102,
      "outputs": [
        {
          "output_type": "stream",
          "name": "stdout",
          "text": [
            "Epoch 1/100\n",
            "32/32 [==============================] - 1s 3ms/step - loss: 0.7044 - accuracy: 0.5080\n",
            "Epoch 2/100\n",
            "32/32 [==============================] - 0s 4ms/step - loss: 0.7017 - accuracy: 0.4990\n",
            "Epoch 3/100\n",
            "32/32 [==============================] - 0s 4ms/step - loss: 0.7000 - accuracy: 0.4990\n",
            "Epoch 4/100\n",
            "32/32 [==============================] - 0s 3ms/step - loss: 0.6988 - accuracy: 0.4800\n",
            "Epoch 5/100\n",
            "32/32 [==============================] - 0s 4ms/step - loss: 0.6981 - accuracy: 0.4770\n",
            "Epoch 6/100\n",
            "32/32 [==============================] - 0s 4ms/step - loss: 0.6975 - accuracy: 0.4630\n",
            "Epoch 7/100\n",
            "32/32 [==============================] - 0s 3ms/step - loss: 0.6968 - accuracy: 0.4690\n",
            "Epoch 8/100\n",
            "32/32 [==============================] - 0s 3ms/step - loss: 0.6964 - accuracy: 0.4670\n",
            "Epoch 9/100\n",
            "32/32 [==============================] - 0s 3ms/step - loss: 0.6959 - accuracy: 0.4580\n",
            "Epoch 10/100\n",
            "32/32 [==============================] - 0s 3ms/step - loss: 0.6956 - accuracy: 0.4530\n",
            "Epoch 11/100\n",
            "32/32 [==============================] - 0s 4ms/step - loss: 0.6952 - accuracy: 0.4480\n",
            "Epoch 12/100\n",
            "32/32 [==============================] - 0s 3ms/step - loss: 0.6950 - accuracy: 0.4490\n",
            "Epoch 13/100\n",
            "32/32 [==============================] - 0s 4ms/step - loss: 0.6947 - accuracy: 0.4710\n",
            "Epoch 14/100\n",
            "32/32 [==============================] - 0s 4ms/step - loss: 0.6943 - accuracy: 0.4820\n",
            "Epoch 15/100\n",
            "32/32 [==============================] - 0s 3ms/step - loss: 0.6941 - accuracy: 0.4860\n",
            "Epoch 16/100\n",
            "32/32 [==============================] - 0s 4ms/step - loss: 0.6939 - accuracy: 0.4870\n",
            "Epoch 17/100\n",
            "32/32 [==============================] - 0s 3ms/step - loss: 0.6938 - accuracy: 0.4870\n",
            "Epoch 18/100\n",
            "32/32 [==============================] - 0s 3ms/step - loss: 0.6937 - accuracy: 0.4850\n",
            "Epoch 19/100\n",
            "32/32 [==============================] - 0s 4ms/step - loss: 0.6936 - accuracy: 0.4820\n",
            "Epoch 20/100\n",
            "32/32 [==============================] - 0s 3ms/step - loss: 0.6935 - accuracy: 0.4810\n",
            "Epoch 21/100\n",
            "32/32 [==============================] - 0s 3ms/step - loss: 0.6935 - accuracy: 0.4800\n",
            "Epoch 22/100\n",
            "32/32 [==============================] - 0s 4ms/step - loss: 0.6934 - accuracy: 0.4920\n",
            "Epoch 23/100\n",
            "32/32 [==============================] - 0s 4ms/step - loss: 0.6933 - accuracy: 0.5000\n",
            "Epoch 24/100\n",
            "32/32 [==============================] - 0s 4ms/step - loss: 0.6932 - accuracy: 0.5000\n",
            "Epoch 25/100\n",
            "32/32 [==============================] - 0s 3ms/step - loss: 0.6932 - accuracy: 0.5000\n",
            "Epoch 26/100\n",
            "32/32 [==============================] - 0s 3ms/step - loss: 0.6932 - accuracy: 0.5000\n",
            "Epoch 27/100\n",
            "32/32 [==============================] - 0s 4ms/step - loss: 0.6933 - accuracy: 0.5000\n",
            "Epoch 28/100\n",
            "32/32 [==============================] - 0s 4ms/step - loss: 0.6932 - accuracy: 0.5000\n",
            "Epoch 29/100\n",
            "32/32 [==============================] - 0s 3ms/step - loss: 0.6932 - accuracy: 0.5000\n",
            "Epoch 30/100\n",
            "32/32 [==============================] - 0s 4ms/step - loss: 0.6932 - accuracy: 0.5000\n",
            "Epoch 31/100\n",
            "32/32 [==============================] - 0s 4ms/step - loss: 0.6932 - accuracy: 0.5000\n",
            "Epoch 32/100\n",
            "32/32 [==============================] - 0s 3ms/step - loss: 0.6932 - accuracy: 0.5000\n",
            "Epoch 33/100\n",
            "32/32 [==============================] - 0s 3ms/step - loss: 0.6932 - accuracy: 0.5000\n",
            "Epoch 34/100\n",
            "32/32 [==============================] - 0s 3ms/step - loss: 0.6932 - accuracy: 0.5000\n",
            "Epoch 35/100\n",
            "32/32 [==============================] - 0s 3ms/step - loss: 0.6932 - accuracy: 0.5000\n",
            "Epoch 36/100\n",
            "32/32 [==============================] - 0s 4ms/step - loss: 0.6932 - accuracy: 0.5000\n",
            "Epoch 37/100\n",
            "32/32 [==============================] - 0s 3ms/step - loss: 0.6932 - accuracy: 0.5000\n",
            "Epoch 38/100\n",
            "32/32 [==============================] - 0s 3ms/step - loss: 0.6932 - accuracy: 0.5000\n",
            "Epoch 39/100\n",
            "32/32 [==============================] - 0s 3ms/step - loss: 0.6932 - accuracy: 0.5000\n",
            "Epoch 40/100\n",
            "32/32 [==============================] - 0s 4ms/step - loss: 0.6932 - accuracy: 0.5000\n",
            "Epoch 41/100\n",
            "32/32 [==============================] - 0s 3ms/step - loss: 0.6932 - accuracy: 0.5000\n",
            "Epoch 42/100\n",
            "32/32 [==============================] - 0s 3ms/step - loss: 0.6932 - accuracy: 0.5000\n",
            "Epoch 43/100\n",
            "32/32 [==============================] - 0s 3ms/step - loss: 0.6932 - accuracy: 0.5000\n",
            "Epoch 44/100\n",
            "32/32 [==============================] - 0s 4ms/step - loss: 0.6932 - accuracy: 0.5000\n",
            "Epoch 45/100\n",
            "32/32 [==============================] - 0s 4ms/step - loss: 0.6932 - accuracy: 0.5000\n",
            "Epoch 46/100\n",
            "32/32 [==============================] - 0s 3ms/step - loss: 0.6932 - accuracy: 0.5000\n",
            "Epoch 47/100\n",
            "32/32 [==============================] - 0s 3ms/step - loss: 0.6932 - accuracy: 0.4660\n",
            "Epoch 48/100\n",
            "32/32 [==============================] - 0s 3ms/step - loss: 0.6932 - accuracy: 0.4680\n",
            "Epoch 49/100\n",
            "32/32 [==============================] - 0s 4ms/step - loss: 0.6932 - accuracy: 0.5000\n",
            "Epoch 50/100\n",
            "32/32 [==============================] - 0s 3ms/step - loss: 0.6932 - accuracy: 0.5000\n",
            "Epoch 51/100\n",
            "32/32 [==============================] - 0s 4ms/step - loss: 0.6932 - accuracy: 0.5000\n",
            "Epoch 52/100\n",
            "32/32 [==============================] - 0s 6ms/step - loss: 0.6932 - accuracy: 0.4920\n",
            "Epoch 53/100\n",
            "32/32 [==============================] - 0s 6ms/step - loss: 0.6932 - accuracy: 0.4880\n",
            "Epoch 54/100\n",
            "32/32 [==============================] - 0s 5ms/step - loss: 0.6932 - accuracy: 0.4900\n",
            "Epoch 55/100\n",
            "32/32 [==============================] - 0s 5ms/step - loss: 0.6932 - accuracy: 0.5000\n",
            "Epoch 56/100\n",
            "32/32 [==============================] - 0s 4ms/step - loss: 0.6932 - accuracy: 0.5000\n",
            "Epoch 57/100\n",
            "32/32 [==============================] - 0s 4ms/step - loss: 0.6932 - accuracy: 0.5000\n",
            "Epoch 58/100\n",
            "32/32 [==============================] - 0s 5ms/step - loss: 0.6932 - accuracy: 0.5000\n",
            "Epoch 59/100\n",
            "32/32 [==============================] - 0s 5ms/step - loss: 0.6933 - accuracy: 0.5000\n",
            "Epoch 60/100\n",
            "32/32 [==============================] - 0s 6ms/step - loss: 0.6932 - accuracy: 0.5000\n",
            "Epoch 61/100\n",
            "32/32 [==============================] - 0s 5ms/step - loss: 0.6932 - accuracy: 0.5000\n",
            "Epoch 62/100\n",
            "32/32 [==============================] - 0s 6ms/step - loss: 0.6932 - accuracy: 0.5000\n",
            "Epoch 63/100\n",
            "32/32 [==============================] - 0s 4ms/step - loss: 0.6932 - accuracy: 0.5000\n",
            "Epoch 64/100\n",
            "32/32 [==============================] - 0s 5ms/step - loss: 0.6932 - accuracy: 0.5000\n",
            "Epoch 65/100\n",
            "32/32 [==============================] - 0s 5ms/step - loss: 0.6932 - accuracy: 0.5000\n",
            "Epoch 66/100\n",
            "32/32 [==============================] - 0s 5ms/step - loss: 0.6932 - accuracy: 0.5000\n",
            "Epoch 67/100\n",
            "32/32 [==============================] - 0s 5ms/step - loss: 0.6932 - accuracy: 0.4920\n",
            "Epoch 68/100\n",
            "32/32 [==============================] - 0s 5ms/step - loss: 0.6932 - accuracy: 0.4900\n",
            "Epoch 69/100\n",
            "32/32 [==============================] - 0s 3ms/step - loss: 0.6932 - accuracy: 0.4960\n",
            "Epoch 70/100\n",
            "32/32 [==============================] - 0s 4ms/step - loss: 0.6932 - accuracy: 0.5000\n",
            "Epoch 71/100\n",
            "32/32 [==============================] - 0s 4ms/step - loss: 0.6932 - accuracy: 0.4940\n",
            "Epoch 72/100\n",
            "32/32 [==============================] - 0s 3ms/step - loss: 0.6932 - accuracy: 0.5000\n",
            "Epoch 73/100\n",
            "32/32 [==============================] - 0s 3ms/step - loss: 0.6932 - accuracy: 0.5000\n",
            "Epoch 74/100\n",
            "32/32 [==============================] - 0s 3ms/step - loss: 0.6932 - accuracy: 0.5000\n",
            "Epoch 75/100\n",
            "32/32 [==============================] - 0s 3ms/step - loss: 0.6932 - accuracy: 0.5000\n",
            "Epoch 76/100\n",
            "32/32 [==============================] - 0s 3ms/step - loss: 0.6932 - accuracy: 0.4760\n",
            "Epoch 77/100\n",
            "32/32 [==============================] - 0s 3ms/step - loss: 0.6932 - accuracy: 0.5000\n",
            "Epoch 78/100\n",
            "32/32 [==============================] - 0s 3ms/step - loss: 0.6932 - accuracy: 0.5000\n",
            "Epoch 79/100\n",
            "32/32 [==============================] - 0s 4ms/step - loss: 0.6932 - accuracy: 0.5000\n",
            "Epoch 80/100\n",
            "32/32 [==============================] - 0s 3ms/step - loss: 0.6932 - accuracy: 0.5000\n",
            "Epoch 81/100\n",
            "32/32 [==============================] - 0s 4ms/step - loss: 0.6932 - accuracy: 0.5000\n",
            "Epoch 82/100\n",
            "32/32 [==============================] - 0s 4ms/step - loss: 0.6932 - accuracy: 0.5000\n",
            "Epoch 83/100\n",
            "32/32 [==============================] - 0s 3ms/step - loss: 0.6932 - accuracy: 0.5000\n",
            "Epoch 84/100\n",
            "32/32 [==============================] - 0s 3ms/step - loss: 0.6932 - accuracy: 0.5000\n",
            "Epoch 85/100\n",
            "32/32 [==============================] - 0s 3ms/step - loss: 0.6932 - accuracy: 0.5000\n",
            "Epoch 86/100\n",
            "32/32 [==============================] - 0s 3ms/step - loss: 0.6932 - accuracy: 0.5000\n",
            "Epoch 87/100\n",
            "32/32 [==============================] - 0s 4ms/step - loss: 0.6932 - accuracy: 0.5000\n",
            "Epoch 88/100\n",
            "32/32 [==============================] - 0s 3ms/step - loss: 0.6932 - accuracy: 0.5000\n",
            "Epoch 89/100\n",
            "32/32 [==============================] - 0s 4ms/step - loss: 0.6932 - accuracy: 0.5000\n",
            "Epoch 90/100\n",
            "32/32 [==============================] - 0s 3ms/step - loss: 0.6932 - accuracy: 0.4580\n",
            "Epoch 91/100\n",
            "32/32 [==============================] - 0s 3ms/step - loss: 0.6932 - accuracy: 0.4680\n",
            "Epoch 92/100\n",
            "32/32 [==============================] - 0s 4ms/step - loss: 0.6932 - accuracy: 0.5000\n",
            "Epoch 93/100\n",
            "32/32 [==============================] - 0s 3ms/step - loss: 0.6932 - accuracy: 0.4660\n",
            "Epoch 94/100\n",
            "32/32 [==============================] - 0s 4ms/step - loss: 0.6932 - accuracy: 0.4880\n",
            "Epoch 95/100\n",
            "32/32 [==============================] - 0s 3ms/step - loss: 0.6932 - accuracy: 0.4840\n",
            "Epoch 96/100\n",
            "32/32 [==============================] - 0s 3ms/step - loss: 0.6932 - accuracy: 0.4680\n",
            "Epoch 97/100\n",
            "32/32 [==============================] - 0s 4ms/step - loss: 0.6932 - accuracy: 0.4840\n",
            "Epoch 98/100\n",
            "32/32 [==============================] - 0s 4ms/step - loss: 0.6932 - accuracy: 0.5000\n",
            "Epoch 99/100\n",
            "32/32 [==============================] - 0s 4ms/step - loss: 0.6932 - accuracy: 0.4940\n",
            "Epoch 100/100\n",
            "32/32 [==============================] - 0s 4ms/step - loss: 0.6932 - accuracy: 0.5000\n"
          ]
        }
      ]
    },
    {
      "cell_type": "code",
      "source": [
        "# evalueate the model\n",
        "model_7.evaluate(X,y)"
      ],
      "metadata": {
        "colab": {
          "base_uri": "https://localhost:8080/"
        },
        "id": "FjLPNNFouiyr",
        "outputId": "138e088c-1817-4a17-b275-e0c680e06e2e"
      },
      "execution_count": 103,
      "outputs": [
        {
          "output_type": "stream",
          "name": "stdout",
          "text": [
            "32/32 [==============================] - 0s 5ms/step - loss: 0.6931 - accuracy: 0.5000\n"
          ]
        },
        {
          "output_type": "execute_result",
          "data": {
            "text/plain": [
              "[0.6931495070457458, 0.5]"
            ]
          },
          "metadata": {},
          "execution_count": 103
        }
      ]
    },
    {
      "cell_type": "code",
      "source": [
        "# Check the decision boundary for our model\n",
        "plot_decision_boundary(model=model_7,\n",
        "                       X=X,\n",
        "                       y=y)"
      ],
      "metadata": {
        "colab": {
          "base_uri": "https://localhost:8080/",
          "height": 301
        },
        "id": "ee3agSu4unSl",
        "outputId": "a5d74b41-abae-4470-c558-f1678c7452f6"
      },
      "execution_count": 104,
      "outputs": [
        {
          "output_type": "stream",
          "name": "stdout",
          "text": [
            "313/313 [==============================] - 1s 2ms/step\n",
            "doing binary classification\n"
          ]
        },
        {
          "output_type": "display_data",
          "data": {
            "text/plain": [
              "<Figure size 432x288 with 1 Axes>"
            ],
            "image/png": "[encoded data removed]"
          },
          "metadata": {
            "needs_background": "light"
          }
        }
      ]
    },
    {
      "cell_type": "markdown",
      "source": [
        "🤔 Question: What's wrong with the predictions we've made? Are we really evaluating our model correctly here? Hint: what data did the model learn on and what did we predict on?\n",
        "\n",
        "Before we answer that, it's important to recognize what we've just covered.\n",
        "\n",
        "🔑 Note: The combination of linear (straight lines) and non-linear (non-straight lines) functions is one of the key fundamentals of neural networks.\n",
        "\n",
        "Now we're discussed the concept of linear and non-linear functions (or lines), let's see them in action."
      ],
      "metadata": {
        "id": "pOrIwrKsusDq"
      }
    },
    {
      "cell_type": "code",
      "source": [
        "# Create a toy tensor (similar to the data we pass into our models)\n",
        "A = tf.cast(tf.range(-10, 10), tf.float32)\n",
        "A"
      ],
      "metadata": {
        "colab": {
          "base_uri": "https://localhost:8080/"
        },
        "id": "9RgCFglMwvEK",
        "outputId": "b6e725ee-4d57-413b-a83c-ff4be80c42fe"
      },
      "execution_count": 105,
      "outputs": [
        {
          "output_type": "execute_result",
          "data": {
            "text/plain": [
              "<tf.Tensor: shape=(20,), dtype=float32, numpy=\n",
              "array([-10.,  -9.,  -8.,  -7.,  -6.,  -5.,  -4.,  -3.,  -2.,  -1.,   0.,\n",
              "         1.,   2.,   3.,   4.,   5.,   6.,   7.,   8.,   9.],\n",
              "      dtype=float32)>"
            ]
          },
          "metadata": {},
          "execution_count": 105
        }
      ]
    },
    {
      "cell_type": "code",
      "source": [
        "\n",
        "# Visualize our toy tensor\n",
        "plt.plot(A);\n"
      ],
      "metadata": {
        "colab": {
          "base_uri": "https://localhost:8080/",
          "height": 265
        },
        "id": "NNHez7lRztbr",
        "outputId": "0c7b0c62-968f-41df-cf3d-b00638b17cc8"
      },
      "execution_count": 107,
      "outputs": [
        {
          "output_type": "display_data",
          "data": {
            "text/plain": [
              "<Figure size 432x288 with 1 Axes>"
            ],
            "image/png": "[encoded data removed]"
          },
          "metadata": {
            "needs_background": "light"
          }
        }
      ]
    },
    {
      "cell_type": "markdown",
      "source": [
        "A straight (linear) line!\n",
        "\n",
        "Nice, now let's recreate the sigmoid function and see what it does to our data. You can also find a pre-built sigmoid function at tf.keras.activations.sigmoid."
      ],
      "metadata": {
        "id": "wZ0HCE9R1fG9"
      }
    },
    {
      "cell_type": "code",
      "source": [
        "# Sigmoid - https://www.tensorflow.org/api_docs/python/tf/keras/activations/sigmoid\n",
        "def sigmoid(x):\n",
        "  return 1 / (1 + tf.exp(-x))\n",
        "\n",
        "# Use the sigmoid function on our tensor\n",
        "sigmoid(A)"
      ],
      "metadata": {
        "colab": {
          "base_uri": "https://localhost:8080/"
        },
        "id": "tPVd88pd1kDW",
        "outputId": "39a60318-d377-45d6-8d18-da8377763d7d"
      },
      "execution_count": 108,
      "outputs": [
        {
          "output_type": "execute_result",
          "data": {
            "text/plain": [
              "<tf.Tensor: shape=(20,), dtype=float32, numpy=\n",
              "array([4.5397872e-05, 1.2339458e-04, 3.3535014e-04, 9.1105117e-04,\n",
              "       2.4726233e-03, 6.6928510e-03, 1.7986210e-02, 4.7425874e-02,\n",
              "       1.1920292e-01, 2.6894143e-01, 5.0000000e-01, 7.3105860e-01,\n",
              "       8.8079703e-01, 9.5257413e-01, 9.8201376e-01, 9.9330717e-01,\n",
              "       9.9752742e-01, 9.9908900e-01, 9.9966466e-01, 9.9987662e-01],\n",
              "      dtype=float32)>"
            ]
          },
          "metadata": {},
          "execution_count": 108
        }
      ]
    },
    {
      "cell_type": "code",
      "source": [
        "# Visualize our toy tensor transformed by sigmoid\n",
        "plt.plot(sigmoid(A));"
      ],
      "metadata": {
        "colab": {
          "base_uri": "https://localhost:8080/",
          "height": 265
        },
        "id": "6tbQH_4A1qqB",
        "outputId": "2c2d8415-8d90-4b7f-e5a4-3afcedc1bf98"
      },
      "execution_count": 109,
      "outputs": [
        {
          "output_type": "display_data",
          "data": {
            "text/plain": [
              "<Figure size 432x288 with 1 Axes>"
            ],
            "image/png": "[encoded data removed]"
          },
          "metadata": {
            "needs_background": "light"
          }
        }
      ]
    },
    {
      "cell_type": "markdown",
      "source": [
        "A non-straight (non-linear) line!\n",
        "\n",
        "Okay, how about the ReLU function (ReLU turns all negatives to 0 and positive numbers stay the same)?"
      ],
      "metadata": {
        "id": "8tHL1dn41y-N"
      }
    },
    {
      "cell_type": "code",
      "source": [
        "\n",
        "# ReLU - https://www.tensorflow.org/api_docs/python/tf/keras/activations/relu\n",
        "def relu(x):\n",
        "  return tf.maximum(0, x)\n",
        "\n",
        "# Pass toy tensor through ReLU function\n",
        "relu(A)"
      ],
      "metadata": {
        "colab": {
          "base_uri": "https://localhost:8080/"
        },
        "id": "vpAEMW042Map",
        "outputId": "58fa5f09-28f2-47da-e347-261eb5d72536"
      },
      "execution_count": 110,
      "outputs": [
        {
          "output_type": "execute_result",
          "data": {
            "text/plain": [
              "<tf.Tensor: shape=(20,), dtype=float32, numpy=\n",
              "array([0., 0., 0., 0., 0., 0., 0., 0., 0., 0., 0., 1., 2., 3., 4., 5., 6.,\n",
              "       7., 8., 9.], dtype=float32)>"
            ]
          },
          "metadata": {},
          "execution_count": 110
        }
      ]
    },
    {
      "cell_type": "code",
      "source": [
        "# Plot ReLU-modified tensor\n",
        "plt.plot(relu(A));"
      ],
      "metadata": {
        "colab": {
          "base_uri": "https://localhost:8080/",
          "height": 265
        },
        "id": "abbnSRst2PXF",
        "outputId": "a3d170d4-bbe2-4843-9213-35088654de25"
      },
      "execution_count": 111,
      "outputs": [
        {
          "output_type": "display_data",
          "data": {
            "text/plain": [
              "<Figure size 432x288 with 1 Axes>"
            ],
            "image/png": "[encoded data removed]"
          },
          "metadata": {
            "needs_background": "light"
          }
        }
      ]
    },
    {
      "cell_type": "markdown",
      "source": [
        "Another non-straight line!\n",
        "\n",
        "Well, how about TensorFlow's linear activation function?"
      ],
      "metadata": {
        "id": "iqFZhK5-2RsB"
      }
    },
    {
      "cell_type": "code",
      "source": [
        "# Linear - https://www.tensorflow.org/api_docs/python/tf/keras/activations/linear (returns input non-modified...)\n",
        "tf.keras.activations.linear(A)"
      ],
      "metadata": {
        "colab": {
          "base_uri": "https://localhost:8080/"
        },
        "id": "Yr5QwCHq3GPW",
        "outputId": "f6068357-1787-4334-c426-956adc3fade0"
      },
      "execution_count": 112,
      "outputs": [
        {
          "output_type": "execute_result",
          "data": {
            "text/plain": [
              "<tf.Tensor: shape=(20,), dtype=float32, numpy=\n",
              "array([-10.,  -9.,  -8.,  -7.,  -6.,  -5.,  -4.,  -3.,  -2.,  -1.,   0.,\n",
              "         1.,   2.,   3.,   4.,   5.,   6.,   7.,   8.,   9.],\n",
              "      dtype=float32)>"
            ]
          },
          "metadata": {},
          "execution_count": 112
        }
      ]
    },
    {
      "cell_type": "markdown",
      "source": [
        "Hmm, it looks like our inputs are unmodified...\n",
        "\n"
      ],
      "metadata": {
        "id": "EKaRem4e3Itt"
      }
    },
    {
      "cell_type": "code",
      "source": [
        "# Does the linear activation change anything?\n",
        "A == tf.keras.activations.linear(A)"
      ],
      "metadata": {
        "colab": {
          "base_uri": "https://localhost:8080/"
        },
        "id": "pLlMUxNt3MWf",
        "outputId": "0c8bddd4-ce1e-4e74-8636-1b572a360e88"
      },
      "execution_count": 113,
      "outputs": [
        {
          "output_type": "execute_result",
          "data": {
            "text/plain": [
              "<tf.Tensor: shape=(20,), dtype=bool, numpy=\n",
              "array([ True,  True,  True,  True,  True,  True,  True,  True,  True,\n",
              "        True,  True,  True,  True,  True,  True,  True,  True,  True,\n",
              "        True,  True])>"
            ]
          },
          "metadata": {},
          "execution_count": 113
        }
      ]
    },
    {
      "cell_type": "markdown",
      "source": [
        "Okay, so it makes sense now the model doesn't really learn anything when using only linear activation functions, because the linear activation function doesn't change our input data in anyway.\n",
        "\n",
        "Where as, with our non-linear functions, our data gets manipulated. A neural network uses these kind of transformations at a large scale to figure draw patterns between its inputs and outputs.\n",
        "\n",
        "Now rather than dive into the guts of neural networks, we're going to keep coding applying what we've learned to different problems but if you want a more in-depth look at what's going on behind the scenes, check out the Extra Curriculum section below.\n",
        "\n",
        "📖 Resource: For more on activation functions, check out the machine learning cheatsheet page on them.\n"
      ],
      "metadata": {
        "id": "mNWZTn7I3OQB"
      }
    },
    {
      "cell_type": "markdown",
      "source": [
        "## Evaluating and improving our classification model\n",
        "\n",
        "If you answered the question above, you might've picked up what we've been doing wrong.\n",
        "\n",
        "We've been evaluating our model on the same data it was trained on.\n",
        "\n",
        "A better approach would be to split our data into training, validation (optional) and test sets.\n",
        "\n",
        "Once we've done that, we'll train our model on the training set (let it find patterns in the data) and then see how well it learned the patterns by using it to predict values on the test set.\n",
        "\n",
        "Let's do it.\n",
        "\n"
      ],
      "metadata": {
        "id": "2ECx8MJj3Ymm"
      }
    },
    {
      "cell_type": "code",
      "source": [
        "# How many examples are in the whole dataset?\n",
        "len(X)"
      ],
      "metadata": {
        "colab": {
          "base_uri": "https://localhost:8080/"
        },
        "id": "t4srEuNn3k9a",
        "outputId": "7316c5ab-4589-48cf-a19c-82dd47ff790b"
      },
      "execution_count": 114,
      "outputs": [
        {
          "output_type": "execute_result",
          "data": {
            "text/plain": [
              "1000"
            ]
          },
          "metadata": {},
          "execution_count": 114
        }
      ]
    },
    {
      "cell_type": "code",
      "source": [
        "# Split into train and test sets\n",
        "X_train, y_train = X[:800], y[:800]\n",
        "X_test, y_test = X[800:], y[800:]\n",
        "\n",
        "X_train.shape, X_test.shape, y_train.shape, y_test.shape"
      ],
      "metadata": {
        "colab": {
          "base_uri": "https://localhost:8080/"
        },
        "id": "6j_79HkZ3ogn",
        "outputId": "1e9ca93a-515f-4ab1-a0fb-b6c629d2ad74"
      },
      "execution_count": 115,
      "outputs": [
        {
          "output_type": "execute_result",
          "data": {
            "text/plain": [
              "((800, 2), (200, 2), (800,), (200,))"
            ]
          },
          "metadata": {},
          "execution_count": 115
        }
      ]
    },
    {
      "cell_type": "code",
      "source": [
        "# Let's recreate a model to fit on the training data and evaluate on the testing data\n",
        "\n",
        "# Set the random seed\n",
        "tf.random.set_seed(42)\n",
        "\n",
        "# 1. Create the model (same as model_7)\n",
        "model_8 = tf.keras.Sequential([\n",
        "    tf.keras.layers.Dense(4, activation=\"relu\"),\n",
        "    tf.keras.layers.Dense(4, activation=\"relu\"),\n",
        "    tf.keras.layers.Dense(1, activation=\"sigmoid\")\n",
        "])\n",
        "\n",
        "# 2. Compile the model\n",
        "model_8.compile(loss=\"binary_crossentropy\",\n",
        "                optimizer=tf.keras.optimizers.Adam(lr=0.01),\n",
        "                metrics=[\"accuracy\"])\n",
        "\n",
        "# 3. Fit the model\n",
        "history = model_8.fit(X_train, y_train, epochs=25)"
      ],
      "metadata": {
        "colab": {
          "base_uri": "https://localhost:8080/"
        },
        "id": "5yp9WGYq5Poy",
        "outputId": "0a1b5f12-af23-456e-b42b-e6cbbc374848"
      },
      "execution_count": 116,
      "outputs": [
        {
          "output_type": "stream",
          "name": "stderr",
          "text": [
            "WARNING:absl:`lr` is deprecated, please use `learning_rate` instead, or use the legacy optimizer, e.g.,tf.keras.optimizers.legacy.Adam.\n"
          ]
        },
        {
          "output_type": "stream",
          "name": "stdout",
          "text": [
            "Epoch 1/25\n",
            "25/25 [==============================] - 1s 4ms/step - loss: 0.6904 - accuracy: 0.5025\n",
            "Epoch 2/25\n",
            "25/25 [==============================] - 0s 4ms/step - loss: 0.6898 - accuracy: 0.5088\n",
            "Epoch 3/25\n",
            "25/25 [==============================] - 0s 7ms/step - loss: 0.6893 - accuracy: 0.5125\n",
            "Epoch 4/25\n",
            "25/25 [==============================] - 0s 6ms/step - loss: 0.6888 - accuracy: 0.5238\n",
            "Epoch 5/25\n",
            "25/25 [==============================] - 0s 5ms/step - loss: 0.6884 - accuracy: 0.5275\n",
            "Epoch 6/25\n",
            "25/25 [==============================] - 0s 5ms/step - loss: 0.6880 - accuracy: 0.5250\n",
            "Epoch 7/25\n",
            "25/25 [==============================] - 0s 5ms/step - loss: 0.6873 - accuracy: 0.5300\n",
            "Epoch 8/25\n",
            "25/25 [==============================] - 0s 6ms/step - loss: 0.6870 - accuracy: 0.5350\n",
            "Epoch 9/25\n",
            "25/25 [==============================] - 0s 6ms/step - loss: 0.6865 - accuracy: 0.5350\n",
            "Epoch 10/25\n",
            "25/25 [==============================] - 0s 5ms/step - loss: 0.6859 - accuracy: 0.5362\n",
            "Epoch 11/25\n",
            "25/25 [==============================] - 0s 5ms/step - loss: 0.6854 - accuracy: 0.5412\n",
            "Epoch 12/25\n",
            "25/25 [==============================] - 0s 5ms/step - loss: 0.6851 - accuracy: 0.5412\n",
            "Epoch 13/25\n",
            "25/25 [==============================] - 0s 5ms/step - loss: 0.6844 - accuracy: 0.5500\n",
            "Epoch 14/25\n",
            "25/25 [==============================] - 0s 5ms/step - loss: 0.6838 - accuracy: 0.5512\n",
            "Epoch 15/25\n",
            "25/25 [==============================] - 0s 5ms/step - loss: 0.6834 - accuracy: 0.5512\n",
            "Epoch 16/25\n",
            "25/25 [==============================] - 0s 5ms/step - loss: 0.6826 - accuracy: 0.5475\n",
            "Epoch 17/25\n",
            "25/25 [==============================] - 0s 6ms/step - loss: 0.6822 - accuracy: 0.5550\n",
            "Epoch 18/25\n",
            "25/25 [==============================] - 0s 5ms/step - loss: 0.6815 - accuracy: 0.5537\n",
            "Epoch 19/25\n",
            "25/25 [==============================] - 0s 5ms/step - loss: 0.6811 - accuracy: 0.5475\n",
            "Epoch 20/25\n",
            "25/25 [==============================] - 0s 5ms/step - loss: 0.6803 - accuracy: 0.5525\n",
            "Epoch 21/25\n",
            "25/25 [==============================] - 0s 5ms/step - loss: 0.6797 - accuracy: 0.5550\n",
            "Epoch 22/25\n",
            "25/25 [==============================] - 0s 5ms/step - loss: 0.6789 - accuracy: 0.5575\n",
            "Epoch 23/25\n",
            "25/25 [==============================] - 0s 5ms/step - loss: 0.6782 - accuracy: 0.5600\n",
            "Epoch 24/25\n",
            "25/25 [==============================] - 0s 5ms/step - loss: 0.6774 - accuracy: 0.5625\n",
            "Epoch 25/25\n",
            "25/25 [==============================] - 0s 4ms/step - loss: 0.6766 - accuracy: 0.5612\n"
          ]
        }
      ]
    },
    {
      "cell_type": "code",
      "source": [
        "model_8.evaluate(X_test, y_test)"
      ],
      "metadata": {
        "colab": {
          "base_uri": "https://localhost:8080/"
        },
        "id": "9khea9726lZS",
        "outputId": "fe5d3015-abf8-400e-d2c3-168fc5b6ac44"
      },
      "execution_count": 117,
      "outputs": [
        {
          "output_type": "stream",
          "name": "stdout",
          "text": [
            "7/7 [==============================] - 0s 4ms/step - loss: 0.6867 - accuracy: 0.4950\n"
          ]
        },
        {
          "output_type": "execute_result",
          "data": {
            "text/plain": [
              "[0.6866721510887146, 0.4950000047683716]"
            ]
          },
          "metadata": {},
          "execution_count": 117
        }
      ]
    },
    {
      "cell_type": "code",
      "source": [
        "# Plot the decision boundaries for the training and test sets\n",
        "# Plot the decision boundaries for the training and test sets\n",
        "plt.figure(figsize=(12, 6))\n",
        "plt.subplot(1, 2, 1)\n",
        "plt.title(\"Train\")\n",
        "plot_decision_boundary(model_8, X=X_train, y=y_train)\n",
        "plt.subplot(1, 2, 2)\n",
        "plt.title(\"Test\")\n",
        "plot_decision_boundary(model_8, X=X_test, y=y_test)\n",
        "plt.show()"
      ],
      "metadata": {
        "colab": {
          "base_uri": "https://localhost:8080/",
          "height": 461
        },
        "id": "Gbc3Odwh6_yn",
        "outputId": "dea31c68-8485-46e6-edb2-add7cb3c4b77"
      },
      "execution_count": 118,
      "outputs": [
        {
          "output_type": "stream",
          "name": "stdout",
          "text": [
            "313/313 [==============================] - 1s 3ms/step\n",
            "doing binary classification\n",
            "313/313 [==============================] - 1s 3ms/step\n",
            "doing binary classification\n"
          ]
        },
        {
          "output_type": "display_data",
          "data": {
            "text/plain": [
              "<Figure size 864x432 with 2 Axes>"
            ],
            "image/png": "[encoded data removed]"
          },
          "metadata": {
            "needs_background": "light"
          }
        }
      ]
    },
    {
      "cell_type": "markdown",
      "source": [
        "# Plot the training curves (Loss curves)"
      ],
      "metadata": {
        "id": "C5aeTkQc-aEg"
      }
    },
    {
      "cell_type": "code",
      "source": [
        "# Convert the history object into a DataFrame\n",
        "pd.DataFrame(history.history)"
      ],
      "metadata": {
        "colab": {
          "base_uri": "https://localhost:8080/",
          "height": 833
        },
        "id": "1GrOxlHVCcLK",
        "outputId": "f1f28f0a-9122-4ad7-b9ad-40547250f1bb"
      },
      "execution_count": 120,
      "outputs": [
        {
          "output_type": "execute_result",
          "data": {
            "text/plain": [
              "        loss  accuracy\n",
              "0   0.690365   0.50250\n",
              "1   0.689812   0.50875\n",
              "2   0.689316   0.51250\n",
              "3   0.688823   0.52375\n",
              "4   0.688397   0.52750\n",
              "5   0.688007   0.52500\n",
              "6   0.687347   0.53000\n",
              "7   0.686990   0.53500\n",
              "8   0.686456   0.53500\n",
              "9   0.685920   0.53625\n",
              "10  0.685431   0.54125\n",
              "11  0.685126   0.54125\n",
              "12  0.684424   0.55000\n",
              "13  0.683798   0.55125\n",
              "14  0.683438   0.55125\n",
              "15  0.682629   0.54750\n",
              "16  0.682186   0.55500\n",
              "17  0.681513   0.55375\n",
              "18  0.681063   0.54750\n",
              "19  0.680324   0.55250\n",
              "20  0.679676   0.55500\n",
              "21  0.678885   0.55750\n",
              "22  0.678227   0.56000\n",
              "23  0.677402   0.56250\n",
              "24  0.676580   0.56125"
            ],
            "text/html": [
              "\n",
              "  <div id=\"df-1ed5e323-3217-49b8-a223-a75720b450ff\">\n",
              "    <div class=\"colab-df-container\">\n",
              "      <div>\n",
              "<style scoped>\n",
              "    .dataframe tbody tr th:only-of-type {\n",
              "        vertical-align: middle;\n",
              "    }\n",
              "\n",
              "    .dataframe tbody tr th {\n",
              "        vertical-align: top;\n",
              "    }\n",
              "\n",
              "    .dataframe thead th {\n",
              "        text-align: right;\n",
              "    }\n",
              "</style>\n",
              "<table border=\"1\" class=\"dataframe\">\n",
              "  <thead>\n",
              "    <tr style=\"text-align: right;\">\n",
              "      <th></th>\n",
              "      <th>loss</th>\n",
              "      <th>accuracy</th>\n",
              "    </tr>\n",
              "  </thead>\n",
              "  <tbody>\n",
              "    <tr>\n",
              "      <th>0</th>\n",
              "      <td>0.690365</td>\n",
              "      <td>0.50250</td>\n",
              "    </tr>\n",
              "    <tr>\n",
              "      <th>1</th>\n",
              "      <td>0.689812</td>\n",
              "      <td>0.50875</td>\n",
              "    </tr>\n",
              "    <tr>\n",
              "      <th>2</th>\n",
              "      <td>0.689316</td>\n",
              "      <td>0.51250</td>\n",
              "    </tr>\n",
              "    <tr>\n",
              "      <th>3</th>\n",
              "      <td>0.688823</td>\n",
              "      <td>0.52375</td>\n",
              "    </tr>\n",
              "    <tr>\n",
              "      <th>4</th>\n",
              "      <td>0.688397</td>\n",
              "      <td>0.52750</td>\n",
              "    </tr>\n",
              "    <tr>\n",
              "      <th>5</th>\n",
              "      <td>0.688007</td>\n",
              "      <td>0.52500</td>\n",
              "    </tr>\n",
              "    <tr>\n",
              "      <th>6</th>\n",
              "      <td>0.687347</td>\n",
              "      <td>0.53000</td>\n",
              "    </tr>\n",
              "    <tr>\n",
              "      <th>7</th>\n",
              "      <td>0.686990</td>\n",
              "      <td>0.53500</td>\n",
              "    </tr>\n",
              "    <tr>\n",
              "      <th>8</th>\n",
              "      <td>0.686456</td>\n",
              "      <td>0.53500</td>\n",
              "    </tr>\n",
              "    <tr>\n",
              "      <th>9</th>\n",
              "      <td>0.685920</td>\n",
              "      <td>0.53625</td>\n",
              "    </tr>\n",
              "    <tr>\n",
              "      <th>10</th>\n",
              "      <td>0.685431</td>\n",
              "      <td>0.54125</td>\n",
              "    </tr>\n",
              "    <tr>\n",
              "      <th>11</th>\n",
              "      <td>0.685126</td>\n",
              "      <td>0.54125</td>\n",
              "    </tr>\n",
              "    <tr>\n",
              "      <th>12</th>\n",
              "      <td>0.684424</td>\n",
              "      <td>0.55000</td>\n",
              "    </tr>\n",
              "    <tr>\n",
              "      <th>13</th>\n",
              "      <td>0.683798</td>\n",
              "      <td>0.55125</td>\n",
              "    </tr>\n",
              "    <tr>\n",
              "      <th>14</th>\n",
              "      <td>0.683438</td>\n",
              "      <td>0.55125</td>\n",
              "    </tr>\n",
              "    <tr>\n",
              "      <th>15</th>\n",
              "      <td>0.682629</td>\n",
              "      <td>0.54750</td>\n",
              "    </tr>\n",
              "    <tr>\n",
              "      <th>16</th>\n",
              "      <td>0.682186</td>\n",
              "      <td>0.55500</td>\n",
              "    </tr>\n",
              "    <tr>\n",
              "      <th>17</th>\n",
              "      <td>0.681513</td>\n",
              "      <td>0.55375</td>\n",
              "    </tr>\n",
              "    <tr>\n",
              "      <th>18</th>\n",
              "      <td>0.681063</td>\n",
              "      <td>0.54750</td>\n",
              "    </tr>\n",
              "    <tr>\n",
              "      <th>19</th>\n",
              "      <td>0.680324</td>\n",
              "      <td>0.55250</td>\n",
              "    </tr>\n",
              "    <tr>\n",
              "      <th>20</th>\n",
              "      <td>0.679676</td>\n",
              "      <td>0.55500</td>\n",
              "    </tr>\n",
              "    <tr>\n",
              "      <th>21</th>\n",
              "      <td>0.678885</td>\n",
              "      <td>0.55750</td>\n",
              "    </tr>\n",
              "    <tr>\n",
              "      <th>22</th>\n",
              "      <td>0.678227</td>\n",
              "      <td>0.56000</td>\n",
              "    </tr>\n",
              "    <tr>\n",
              "      <th>23</th>\n",
              "      <td>0.677402</td>\n",
              "      <td>0.56250</td>\n",
              "    </tr>\n",
              "    <tr>\n",
              "      <th>24</th>\n",
              "      <td>0.676580</td>\n",
              "      <td>0.56125</td>\n",
              "    </tr>\n",
              "  </tbody>\n",
              "</table>\n",
              "</div>\n",
              "      <button class=\"colab-df-convert\" onclick=\"convertToInteractive('df-1ed5e323-3217-49b8-a223-a75720b450ff')\"\n",
              "              title=\"Convert this dataframe to an interactive table.\"\n",
              "              style=\"display:none;\">\n",
              "        \n",
              "  <svg xmlns=\"http://www.w3.org/2000/svg\" height=\"24px\"viewBox=\"0 0 24 24\"\n",
              "       width=\"24px\">\n",
              "    <path d=\"M0 0h24v24H0V0z\" fill=\"none\"/>\n",
              "    <path d=\"M18.56 5.44l.94 2.06.94-2.06 2.06-.94-2.06-.94-.94-2.06-.94 2.06-2.06.94zm-11 1L8.5 8.5l.94-2.06 2.06-.94-2.06-.94L8.5 2.5l-.94 2.06-2.06.94zm10 10l.94 2.06.94-2.06 2.06-.94-2.06-.94-.94-2.06-.94 2.06-2.06.94z\"/><path d=\"M17.41 7.96l-1.37-1.37c-.4-.4-.92-.59-1.43-.59-.52 0-1.04.2-1.43.59L10.3 9.45l-7.72 7.72c-.78.78-.78 2.05 0 2.83L4 21.41c.39.39.9.59 1.41.59.51 0 1.02-.2 1.41-.59l7.78-7.78 2.81-2.81c.8-.78.8-2.07 0-2.86zM5.41 20L4 18.59l7.72-7.72 1.47 1.35L5.41 20z\"/>\n",
              "  </svg>\n",
              "      </button>\n",
              "      \n",
              "  <style>\n",
              "    .colab-df-container {\n",
              "      display:flex;\n",
              "      flex-wrap:wrap;\n",
              "      gap: 12px;\n",
              "    }\n",
              "\n",
              "    .colab-df-convert {\n",
              "      background-color: #E8F0FE;\n",
              "      border: none;\n",
              "      border-radius: 50%;\n",
              "      cursor: pointer;\n",
              "      display: none;\n",
              "      fill: #1967D2;\n",
              "      height: 32px;\n",
              "      padding: 0 0 0 0;\n",
              "      width: 32px;\n",
              "    }\n",
              "\n",
              "    .colab-df-convert:hover {\n",
              "      background-color: #E2EBFA;\n",
              "      box-shadow: 0px 1px 2px rgba(60, 64, 67, 0.3), 0px 1px 3px 1px rgba(60, 64, 67, 0.15);\n",
              "      fill: #174EA6;\n",
              "    }\n",
              "\n",
              "    [theme=dark] .colab-df-convert {\n",
              "      background-color: #3B4455;\n",
              "      fill: #D2E3FC;\n",
              "    }\n",
              "\n",
              "    [theme=dark] .colab-df-convert:hover {\n",
              "      background-color: #434B5C;\n",
              "      box-shadow: 0px 1px 3px 1px rgba(0, 0, 0, 0.15);\n",
              "      filter: drop-shadow(0px 1px 2px rgba(0, 0, 0, 0.3));\n",
              "      fill: #FFFFFF;\n",
              "    }\n",
              "  </style>\n",
              "\n",
              "      <script>\n",
              "        const buttonEl =\n",
              "          document.querySelector('#df-1ed5e323-3217-49b8-a223-a75720b450ff button.colab-df-convert');\n",
              "        buttonEl.style.display =\n",
              "          google.colab.kernel.accessAllowed ? 'block' : 'none';\n",
              "\n",
              "        async function convertToInteractive(key) {\n",
              "          const element = document.querySelector('#df-1ed5e323-3217-49b8-a223-a75720b450ff');\n",
              "          const dataTable =\n",
              "            await google.colab.kernel.invokeFunction('convertToInteractive',\n",
              "                                                     [key], {});\n",
              "          if (!dataTable) return;\n",
              "\n",
              "          const docLinkHtml = 'Like what you see? Visit the ' +\n",
              "            '<a target=\"_blank\" href=https://colab.research.google.com/notebooks/data_table.ipynb>data table notebook</a>'\n",
              "            + ' to learn more about interactive tables.';\n",
              "          element.innerHTML = '';\n",
              "          dataTable['output_type'] = 'display_data';\n",
              "          await google.colab.output.renderOutput(dataTable, element);\n",
              "          const docLink = document.createElement('div');\n",
              "          docLink.innerHTML = docLinkHtml;\n",
              "          element.appendChild(docLink);\n",
              "        }\n",
              "      </script>\n",
              "    </div>\n",
              "  </div>\n",
              "  "
            ]
          },
          "metadata": {},
          "execution_count": 120
        }
      ]
    },
    {
      "cell_type": "code",
      "source": [
        "# Plot the loss curves\n",
        "pd.DataFrame(history.history).plot()\n",
        "plt.title(\"Model_8 loss curves\");"
      ],
      "metadata": {
        "colab": {
          "base_uri": "https://localhost:8080/",
          "height": 281
        },
        "id": "-KwK7uRMC4h7",
        "outputId": "5effbb52-b9ce-45c2-a339-53ceb69e26cb"
      },
      "execution_count": 121,
      "outputs": [
        {
          "output_type": "display_data",
          "data": {
            "text/plain": [
              "<Figure size 432x288 with 1 Axes>"
            ],
            "image/png": "[encoded data removed]"
          },
          "metadata": {
            "needs_background": "light"
          }
        }
      ]
    },
    {
      "cell_type": "markdown",
      "source": [
        "🔑 **Note:** For many problems, the loss function going down means the model is improving (the predictions ground truth labels)."
      ],
      "metadata": {
        "id": "3QRTXsQODT77"
      }
    },
    {
      "cell_type": "markdown",
      "source": [
        "## Finding the best learning rate\n",
        "\n",
        "To find the ideal learning rate (the learning rate where the loss decreases the most during training) we're going to use the following steps:\n",
        "* A learning rate **callback** - you can think of a callback as an extra piece of functionality you can add to your model while it's training.\n",
        "* Another model (we could use the same one as above, but we're practicing building models here)\n",
        "* A modified loss curves plot."
      ],
      "metadata": {
        "id": "vBjL72REDOyM"
      }
    },
    {
      "cell_type": "code",
      "source": [
        "# set random seed\n",
        "tf.random.set_seed(42)\n",
        "\n",
        "# Create a model (same as model_8)\n",
        "model_9 = tf.keras.Sequential([\n",
        "    tf.keras.layers.Dense(4, activation=\"relu\"),\n",
        "    tf.keras.layers.Dense(4, activation=\"relu\"),\n",
        "    tf.keras.layers.Dense(1, activation=\"sigmoid\")\n",
        "])\n",
        "\n",
        "# Compile the model\n",
        "model_9.compile(loss=\"binary_crossentropy\",\n",
        "                optimizer=\"Adam\",\n",
        "                metrics=[\"accuracy\"])\n",
        "\n",
        "# Create a learning rate callback\n",
        "lr_scheduler = tf.keras.callbacks.LearningRateScheduler(lambda epoch: 1e-4 * 10**(epoch/20))\n",
        "\n",
        "# Fit the model (passing lr_scheduler callback)\n",
        "history_9 = model_9.fit(X_train,\n",
        "                        y_train,\n",
        "                        epochs=100,\n",
        "                        callbacks=[lr_scheduler])\n",
        "\n"
      ],
      "metadata": {
        "colab": {
          "base_uri": "https://localhost:8080/"
        },
        "id": "fUGr9EDKEetA",
        "outputId": "48262e1d-604a-427c-c084-e2f8239af0b7"
      },
      "execution_count": 122,
      "outputs": [
        {
          "output_type": "stream",
          "name": "stdout",
          "text": [
            "Epoch 1/100\n",
            "25/25 [==============================] - 3s 4ms/step - loss: 0.7217 - accuracy: 0.4988 - lr: 1.0000e-04\n",
            "Epoch 2/100\n",
            "25/25 [==============================] - 0s 4ms/step - loss: 0.7210 - accuracy: 0.4963 - lr: 1.1220e-04\n",
            "Epoch 3/100\n",
            "25/25 [==============================] - 0s 4ms/step - loss: 0.7202 - accuracy: 0.4963 - lr: 1.2589e-04\n",
            "Epoch 4/100\n",
            "25/25 [==============================] - 0s 3ms/step - loss: 0.7194 - accuracy: 0.4963 - lr: 1.4125e-04\n",
            "Epoch 5/100\n",
            "25/25 [==============================] - 0s 4ms/step - loss: 0.7185 - accuracy: 0.4913 - lr: 1.5849e-04\n",
            "Epoch 6/100\n",
            "25/25 [==============================] - 0s 3ms/step - loss: 0.7176 - accuracy: 0.4913 - lr: 1.7783e-04\n",
            "Epoch 7/100\n",
            "25/25 [==============================] - 0s 3ms/step - loss: 0.7165 - accuracy: 0.4863 - lr: 1.9953e-04\n",
            "Epoch 8/100\n",
            "25/25 [==============================] - 0s 3ms/step - loss: 0.7156 - accuracy: 0.4875 - lr: 2.2387e-04\n",
            "Epoch 9/100\n",
            "25/25 [==============================] - 0s 4ms/step - loss: 0.7144 - accuracy: 0.4863 - lr: 2.5119e-04\n",
            "Epoch 10/100\n",
            "25/25 [==============================] - 0s 3ms/step - loss: 0.7133 - accuracy: 0.4837 - lr: 2.8184e-04\n",
            "Epoch 11/100\n",
            "25/25 [==============================] - 0s 3ms/step - loss: 0.7124 - accuracy: 0.4800 - lr: 3.1623e-04\n",
            "Epoch 12/100\n",
            "25/25 [==============================] - 0s 4ms/step - loss: 0.7114 - accuracy: 0.4775 - lr: 3.5481e-04\n",
            "Epoch 13/100\n",
            "25/25 [==============================] - 0s 4ms/step - loss: 0.7105 - accuracy: 0.4825 - lr: 3.9811e-04\n",
            "Epoch 14/100\n",
            "25/25 [==============================] - 0s 4ms/step - loss: 0.7093 - accuracy: 0.4825 - lr: 4.4668e-04\n",
            "Epoch 15/100\n",
            "25/25 [==============================] - 0s 3ms/step - loss: 0.7084 - accuracy: 0.4762 - lr: 5.0119e-04\n",
            "Epoch 16/100\n",
            "25/25 [==============================] - 0s 4ms/step - loss: 0.7073 - accuracy: 0.4837 - lr: 5.6234e-04\n",
            "Epoch 17/100\n",
            "25/25 [==============================] - 0s 4ms/step - loss: 0.7062 - accuracy: 0.4775 - lr: 6.3096e-04\n",
            "Epoch 18/100\n",
            "25/25 [==============================] - 0s 3ms/step - loss: 0.7053 - accuracy: 0.4762 - lr: 7.0795e-04\n",
            "Epoch 19/100\n",
            "25/25 [==============================] - 0s 4ms/step - loss: 0.7045 - accuracy: 0.4625 - lr: 7.9433e-04\n",
            "Epoch 20/100\n",
            "25/25 [==============================] - 0s 3ms/step - loss: 0.7036 - accuracy: 0.4588 - lr: 8.9125e-04\n",
            "Epoch 21/100\n",
            "25/25 [==============================] - 0s 4ms/step - loss: 0.7028 - accuracy: 0.4512 - lr: 0.0010\n",
            "Epoch 22/100\n",
            "25/25 [==============================] - 0s 4ms/step - loss: 0.7019 - accuracy: 0.4575 - lr: 0.0011\n",
            "Epoch 23/100\n",
            "25/25 [==============================] - 0s 3ms/step - loss: 0.7012 - accuracy: 0.4462 - lr: 0.0013\n",
            "Epoch 24/100\n",
            "25/25 [==============================] - 0s 4ms/step - loss: 0.7004 - accuracy: 0.4412 - lr: 0.0014\n",
            "Epoch 25/100\n",
            "25/25 [==============================] - 0s 3ms/step - loss: 0.6997 - accuracy: 0.4100 - lr: 0.0016\n",
            "Epoch 26/100\n",
            "25/25 [==============================] - 0s 4ms/step - loss: 0.6989 - accuracy: 0.4150 - lr: 0.0018\n",
            "Epoch 27/100\n",
            "25/25 [==============================] - 0s 4ms/step - loss: 0.6982 - accuracy: 0.4550 - lr: 0.0020\n",
            "Epoch 28/100\n",
            "25/25 [==============================] - 0s 4ms/step - loss: 0.6972 - accuracy: 0.4913 - lr: 0.0022\n",
            "Epoch 29/100\n",
            "25/25 [==============================] - 0s 4ms/step - loss: 0.6957 - accuracy: 0.4900 - lr: 0.0025\n",
            "Epoch 30/100\n",
            "25/25 [==============================] - 0s 3ms/step - loss: 0.6947 - accuracy: 0.4938 - lr: 0.0028\n",
            "Epoch 31/100\n",
            "25/25 [==============================] - 0s 4ms/step - loss: 0.6941 - accuracy: 0.4812 - lr: 0.0032\n",
            "Epoch 32/100\n",
            "25/25 [==============================] - 0s 3ms/step - loss: 0.6932 - accuracy: 0.4863 - lr: 0.0035\n",
            "Epoch 33/100\n",
            "25/25 [==============================] - 0s 3ms/step - loss: 0.6919 - accuracy: 0.4863 - lr: 0.0040\n",
            "Epoch 34/100\n",
            "25/25 [==============================] - 0s 3ms/step - loss: 0.6901 - accuracy: 0.5150 - lr: 0.0045\n",
            "Epoch 35/100\n",
            "25/25 [==============================] - 0s 3ms/step - loss: 0.6885 - accuracy: 0.5200 - lr: 0.0050\n",
            "Epoch 36/100\n",
            "25/25 [==============================] - 0s 4ms/step - loss: 0.6861 - accuracy: 0.5113 - lr: 0.0056\n",
            "Epoch 37/100\n",
            "25/25 [==============================] - 0s 3ms/step - loss: 0.6827 - accuracy: 0.5188 - lr: 0.0063\n",
            "Epoch 38/100\n",
            "25/25 [==============================] - 0s 3ms/step - loss: 0.6804 - accuracy: 0.5462 - lr: 0.0071\n",
            "Epoch 39/100\n",
            "25/25 [==============================] - 0s 4ms/step - loss: 0.6766 - accuracy: 0.5450 - lr: 0.0079\n",
            "Epoch 40/100\n",
            "25/25 [==============================] - 0s 4ms/step - loss: 0.6766 - accuracy: 0.5462 - lr: 0.0089\n",
            "Epoch 41/100\n",
            "25/25 [==============================] - 0s 3ms/step - loss: 0.6680 - accuracy: 0.5537 - lr: 0.0100\n",
            "Epoch 42/100\n",
            "25/25 [==============================] - 0s 4ms/step - loss: 0.6705 - accuracy: 0.6025 - lr: 0.0112\n",
            "Epoch 43/100\n",
            "25/25 [==============================] - 0s 3ms/step - loss: 0.6558 - accuracy: 0.6237 - lr: 0.0126\n",
            "Epoch 44/100\n",
            "25/25 [==============================] - 0s 3ms/step - loss: 0.6479 - accuracy: 0.6425 - lr: 0.0141\n",
            "Epoch 45/100\n",
            "25/25 [==============================] - 0s 3ms/step - loss: 0.6361 - accuracy: 0.6375 - lr: 0.0158\n",
            "Epoch 46/100\n",
            "25/25 [==============================] - 0s 3ms/step - loss: 0.6235 - accuracy: 0.6500 - lr: 0.0178\n",
            "Epoch 47/100\n",
            "25/25 [==============================] - 0s 4ms/step - loss: 0.5775 - accuracy: 0.7275 - lr: 0.0200\n",
            "Epoch 48/100\n",
            "25/25 [==============================] - 0s 3ms/step - loss: 0.6066 - accuracy: 0.6463 - lr: 0.0224\n",
            "Epoch 49/100\n",
            "25/25 [==============================] - 0s 3ms/step - loss: 0.5878 - accuracy: 0.6675 - lr: 0.0251\n",
            "Epoch 50/100\n",
            "25/25 [==============================] - 0s 3ms/step - loss: 0.5313 - accuracy: 0.7200 - lr: 0.0282\n",
            "Epoch 51/100\n",
            "25/25 [==============================] - 0s 3ms/step - loss: 0.5407 - accuracy: 0.7275 - lr: 0.0316\n",
            "Epoch 52/100\n",
            "25/25 [==============================] - 0s 4ms/step - loss: 0.4576 - accuracy: 0.7750 - lr: 0.0355\n",
            "Epoch 53/100\n",
            "25/25 [==============================] - 0s 3ms/step - loss: 0.3912 - accuracy: 0.7912 - lr: 0.0398\n",
            "Epoch 54/100\n",
            "25/25 [==============================] - 0s 3ms/step - loss: 0.3883 - accuracy: 0.8000 - lr: 0.0447\n",
            "Epoch 55/100\n",
            "25/25 [==============================] - 0s 3ms/step - loss: 0.3892 - accuracy: 0.7887 - lr: 0.0501\n",
            "Epoch 56/100\n",
            "25/25 [==============================] - 0s 3ms/step - loss: 0.4170 - accuracy: 0.7763 - lr: 0.0562\n",
            "Epoch 57/100\n",
            "25/25 [==============================] - 0s 4ms/step - loss: 0.3639 - accuracy: 0.8325 - lr: 0.0631\n",
            "Epoch 58/100\n",
            "25/25 [==============================] - 0s 3ms/step - loss: 0.3228 - accuracy: 0.8537 - lr: 0.0708\n",
            "Epoch 59/100\n",
            "25/25 [==============================] - 0s 3ms/step - loss: 0.2549 - accuracy: 0.8938 - lr: 0.0794\n",
            "Epoch 60/100\n",
            "25/25 [==============================] - 0s 3ms/step - loss: 0.1948 - accuracy: 0.9212 - lr: 0.0891\n",
            "Epoch 61/100\n",
            "25/25 [==============================] - 0s 3ms/step - loss: 0.2086 - accuracy: 0.9112 - lr: 0.1000\n",
            "Epoch 62/100\n",
            "25/25 [==============================] - 0s 3ms/step - loss: 0.3165 - accuracy: 0.8562 - lr: 0.1122\n",
            "Epoch 63/100\n",
            "25/25 [==============================] - 0s 4ms/step - loss: 0.4624 - accuracy: 0.8050 - lr: 0.1259\n",
            "Epoch 64/100\n",
            "25/25 [==============================] - 0s 4ms/step - loss: 0.3915 - accuracy: 0.8300 - lr: 0.1413\n",
            "Epoch 65/100\n",
            "25/25 [==============================] - 0s 4ms/step - loss: 0.1991 - accuracy: 0.9287 - lr: 0.1585\n",
            "Epoch 66/100\n",
            "25/25 [==============================] - 0s 5ms/step - loss: 0.1902 - accuracy: 0.9275 - lr: 0.1778\n",
            "Epoch 67/100\n",
            "25/25 [==============================] - 0s 4ms/step - loss: 0.9064 - accuracy: 0.6725 - lr: 0.1995\n",
            "Epoch 68/100\n",
            "25/25 [==============================] - 0s 4ms/step - loss: 0.7286 - accuracy: 0.5138 - lr: 0.2239\n",
            "Epoch 69/100\n",
            "25/25 [==============================] - 0s 3ms/step - loss: 0.6122 - accuracy: 0.6237 - lr: 0.2512\n",
            "Epoch 70/100\n",
            "25/25 [==============================] - 0s 3ms/step - loss: 0.6369 - accuracy: 0.6025 - lr: 0.2818\n",
            "Epoch 71/100\n",
            "25/25 [==============================] - 0s 4ms/step - loss: 0.6437 - accuracy: 0.5688 - lr: 0.3162\n",
            "Epoch 72/100\n",
            "25/25 [==============================] - 0s 3ms/step - loss: 0.5673 - accuracy: 0.7038 - lr: 0.3548\n",
            "Epoch 73/100\n",
            "25/25 [==============================] - 0s 3ms/step - loss: 0.5694 - accuracy: 0.6925 - lr: 0.3981\n",
            "Epoch 74/100\n",
            "25/25 [==============================] - 0s 3ms/step - loss: 0.6198 - accuracy: 0.5987 - lr: 0.4467\n",
            "Epoch 75/100\n",
            "25/25 [==============================] - 0s 4ms/step - loss: 0.5305 - accuracy: 0.7300 - lr: 0.5012\n",
            "Epoch 76/100\n",
            "25/25 [==============================] - 0s 3ms/step - loss: 0.4851 - accuracy: 0.7688 - lr: 0.5623\n",
            "Epoch 77/100\n",
            "25/25 [==============================] - 0s 4ms/step - loss: 0.4834 - accuracy: 0.7625 - lr: 0.6310\n",
            "Epoch 78/100\n",
            "25/25 [==============================] - 0s 4ms/step - loss: 0.4885 - accuracy: 0.7525 - lr: 0.7079\n",
            "Epoch 79/100\n",
            "25/25 [==============================] - 0s 3ms/step - loss: 0.7175 - accuracy: 0.5462 - lr: 0.7943\n",
            "Epoch 80/100\n",
            "25/25 [==============================] - 0s 4ms/step - loss: 0.6817 - accuracy: 0.6212 - lr: 0.8913\n",
            "Epoch 81/100\n",
            "25/25 [==============================] - 0s 3ms/step - loss: 0.6834 - accuracy: 0.5625 - lr: 1.0000\n",
            "Epoch 82/100\n",
            "25/25 [==============================] - 0s 3ms/step - loss: 0.7051 - accuracy: 0.5275 - lr: 1.1220\n",
            "Epoch 83/100\n",
            "25/25 [==============================] - 0s 4ms/step - loss: 0.7010 - accuracy: 0.4888 - lr: 1.2589\n",
            "Epoch 84/100\n",
            "25/25 [==============================] - 0s 4ms/step - loss: 0.7010 - accuracy: 0.5138 - lr: 1.4125\n",
            "Epoch 85/100\n",
            "25/25 [==============================] - 0s 4ms/step - loss: 0.7300 - accuracy: 0.5013 - lr: 1.5849\n",
            "Epoch 86/100\n",
            "25/25 [==============================] - 0s 3ms/step - loss: 0.7386 - accuracy: 0.5063 - lr: 1.7783\n",
            "Epoch 87/100\n",
            "25/25 [==============================] - 0s 3ms/step - loss: 0.7593 - accuracy: 0.5063 - lr: 1.9953\n",
            "Epoch 88/100\n",
            "25/25 [==============================] - 0s 3ms/step - loss: 0.7580 - accuracy: 0.4963 - lr: 2.2387\n",
            "Epoch 89/100\n",
            "25/25 [==============================] - 0s 4ms/step - loss: 0.7781 - accuracy: 0.5063 - lr: 2.5119\n",
            "Epoch 90/100\n",
            "25/25 [==============================] - 0s 3ms/step - loss: 0.7696 - accuracy: 0.4787 - lr: 2.8184\n",
            "Epoch 91/100\n",
            "25/25 [==============================] - 0s 4ms/step - loss: 0.7824 - accuracy: 0.5113 - lr: 3.1623\n",
            "Epoch 92/100\n",
            "25/25 [==============================] - 0s 3ms/step - loss: 0.7448 - accuracy: 0.4812 - lr: 3.5481\n",
            "Epoch 93/100\n",
            "25/25 [==============================] - 0s 3ms/step - loss: 0.7345 - accuracy: 0.5163 - lr: 3.9811\n",
            "Epoch 94/100\n",
            "25/25 [==============================] - 0s 3ms/step - loss: 0.7543 - accuracy: 0.4938 - lr: 4.4668\n",
            "Epoch 95/100\n",
            "25/25 [==============================] - 0s 4ms/step - loss: 0.8071 - accuracy: 0.4863 - lr: 5.0119\n",
            "Epoch 96/100\n",
            "25/25 [==============================] - 0s 4ms/step - loss: 0.7698 - accuracy: 0.4638 - lr: 5.6234\n",
            "Epoch 97/100\n",
            "25/25 [==============================] - 0s 3ms/step - loss: 0.7990 - accuracy: 0.5013 - lr: 6.3096\n",
            "Epoch 98/100\n",
            "25/25 [==============================] - 0s 4ms/step - loss: 0.9540 - accuracy: 0.4963 - lr: 7.0795\n",
            "Epoch 99/100\n",
            "25/25 [==============================] - 0s 3ms/step - loss: 0.9215 - accuracy: 0.4913 - lr: 7.9433\n",
            "Epoch 100/100\n",
            "25/25 [==============================] - 0s 5ms/step - loss: 0.8556 - accuracy: 0.4663 - lr: 8.9125\n"
          ]
        }
      ]
    },
    {
      "cell_type": "code",
      "source": [
        "# Check out the history\n",
        "pd.DataFrame(history_9.history).plot(figsize=(10, 7), xlabel=\"Epochs\");"
      ],
      "metadata": {
        "colab": {
          "base_uri": "https://localhost:8080/",
          "height": 442
        },
        "id": "Z5d3dPlBFjAf",
        "outputId": "b7454cfa-6ea7-4368-9cc2-920d0a5ed70d"
      },
      "execution_count": 123,
      "outputs": [
        {
          "output_type": "display_data",
          "data": {
            "text/plain": [
              "<Figure size 720x504 with 1 Axes>"
            ],
            "image/png": "[encoded data removed]"
          },
          "metadata": {
            "needs_background": "light"
          }
        }
      ]
    },
    {
      "cell_type": "code",
      "source": [
        "# Plot the learning rate versus the loss\n",
        "lrs = 1e-4 * (10 ** (tf.range(100)/20))\n",
        "plt.figure(figsize=(10, 7))\n",
        "plt.semilogx(lrs, history_9.history[\"loss\"])\n",
        "plt.xlabel(\"Learning Rate\")\n",
        "plt.ylabel(\"Loss\")\n",
        "plt.title (\"Learning rate vs loss\");"
      ],
      "metadata": {
        "colab": {
          "base_uri": "https://localhost:8080/",
          "height": 462
        },
        "id": "ti-Fw6xYF2Rd",
        "outputId": "f7dc99f8-feae-487a-f19d-3164fddd313b"
      },
      "execution_count": 124,
      "outputs": [
        {
          "output_type": "display_data",
          "data": {
            "text/plain": [
              "<Figure size 720x504 with 1 Axes>"
            ],
            "image/png": "[encoded data removed]"
          },
          "metadata": {
            "needs_background": "light"
          }
        }
      ]
    },
    {
      "cell_type": "code",
      "source": [
        "# Example of other typical learning rates values:\n",
        "10**0, 10**-1, 10**-2, 10**-3, 1e-4"
      ],
      "metadata": {
        "colab": {
          "base_uri": "https://localhost:8080/"
        },
        "id": "3eRiXGbaGSJn",
        "outputId": "083d8104-b753-40e5-87b2-3d259b2c616f"
      },
      "execution_count": 125,
      "outputs": [
        {
          "output_type": "execute_result",
          "data": {
            "text/plain": [
              "(1, 0.1, 0.01, 0.001, 0.0001)"
            ]
          },
          "metadata": {},
          "execution_count": 125
        }
      ]
    },
    {
      "cell_type": "code",
      "source": [
        "10**-2\n"
      ],
      "metadata": {
        "colab": {
          "base_uri": "https://localhost:8080/"
        },
        "id": "86x781ZpHarM",
        "outputId": "adb228c1-0b42-406b-ab77-88d116414187"
      },
      "execution_count": 126,
      "outputs": [
        {
          "output_type": "execute_result",
          "data": {
            "text/plain": [
              "0.01"
            ]
          },
          "metadata": {},
          "execution_count": 126
        }
      ]
    },
    {
      "cell_type": "code",
      "source": [
        "# Let's try using a higher ideal learning rate with the same model as before\n",
        "\n",
        "# Set random seed\n",
        "tf.random.set_seed(42)\n",
        "\n",
        "# Create the model\n",
        "model_10 = tf.keras.Sequential([\n",
        "    tf.keras.layers.Dense(4, activation=\"relu\"),\n",
        "    tf.keras.layers.Dense(4, activation=\"relu\"),\n",
        "    tf.keras.layers.Dense(1, activation=\"sigmoid\")\n",
        "])\n",
        "\n",
        "# Compile the model with the ideal learning rate\n",
        "model_10.compile(loss=\"binary_crossentropy\",\n",
        "                 optimizer=tf.keras.optimizers.Adam(lr=0.02),\n",
        "                 metrics=[\"accuracy\"])\n",
        "\n",
        "# Fit the model for 20 epochs (5 less than before)\n",
        "history_10 = model_10.fit(X_train, y_train, epochs=25)"
      ],
      "metadata": {
        "colab": {
          "base_uri": "https://localhost:8080/"
        },
        "id": "nPsiwSAU8T4Z",
        "outputId": "d4dc51f4-11a5-4b9c-ea33-fc1f83dd9f62"
      },
      "execution_count": 130,
      "outputs": [
        {
          "output_type": "stream",
          "name": "stderr",
          "text": [
            "WARNING:absl:`lr` is deprecated, please use `learning_rate` instead, or use the legacy optimizer, e.g.,tf.keras.optimizers.legacy.Adam.\n"
          ]
        },
        {
          "output_type": "stream",
          "name": "stdout",
          "text": [
            "Epoch 1/25\n",
            "25/25 [==============================] - 3s 12ms/step - loss: 0.6902 - accuracy: 0.5263\n",
            "Epoch 2/25\n",
            "25/25 [==============================] - 0s 10ms/step - loss: 0.6857 - accuracy: 0.5250\n",
            "Epoch 3/25\n",
            "25/25 [==============================] - 0s 9ms/step - loss: 0.6835 - accuracy: 0.5250\n",
            "Epoch 4/25\n",
            "25/25 [==============================] - 0s 10ms/step - loss: 0.6823 - accuracy: 0.5300\n",
            "Epoch 5/25\n",
            "25/25 [==============================] - 0s 11ms/step - loss: 0.6813 - accuracy: 0.5325\n",
            "Epoch 6/25\n",
            "25/25 [==============================] - 0s 7ms/step - loss: 0.6806 - accuracy: 0.5312\n",
            "Epoch 7/25\n",
            "25/25 [==============================] - 0s 6ms/step - loss: 0.6800 - accuracy: 0.5362\n",
            "Epoch 8/25\n",
            "25/25 [==============================] - 0s 7ms/step - loss: 0.6796 - accuracy: 0.5337\n",
            "Epoch 9/25\n",
            "25/25 [==============================] - 0s 7ms/step - loss: 0.6792 - accuracy: 0.5387\n",
            "Epoch 10/25\n",
            "25/25 [==============================] - 0s 9ms/step - loss: 0.6786 - accuracy: 0.5375\n",
            "Epoch 11/25\n",
            "25/25 [==============================] - 0s 5ms/step - loss: 0.6781 - accuracy: 0.5375\n",
            "Epoch 12/25\n",
            "25/25 [==============================] - 0s 6ms/step - loss: 0.6777 - accuracy: 0.5400\n",
            "Epoch 13/25\n",
            "25/25 [==============================] - 0s 5ms/step - loss: 0.6770 - accuracy: 0.5450\n",
            "Epoch 14/25\n",
            "25/25 [==============================] - 0s 5ms/step - loss: 0.6765 - accuracy: 0.5475\n",
            "Epoch 15/25\n",
            "25/25 [==============================] - 0s 6ms/step - loss: 0.6759 - accuracy: 0.5400\n",
            "Epoch 16/25\n",
            "25/25 [==============================] - 0s 5ms/step - loss: 0.6739 - accuracy: 0.5400\n",
            "Epoch 17/25\n",
            "25/25 [==============================] - 0s 3ms/step - loss: 0.6733 - accuracy: 0.5462\n",
            "Epoch 18/25\n",
            "25/25 [==============================] - 0s 3ms/step - loss: 0.6722 - accuracy: 0.5550\n",
            "Epoch 19/25\n",
            "25/25 [==============================] - 0s 3ms/step - loss: 0.6719 - accuracy: 0.5625\n",
            "Epoch 20/25\n",
            "25/25 [==============================] - 0s 3ms/step - loss: 0.6708 - accuracy: 0.5725\n",
            "Epoch 21/25\n",
            "25/25 [==============================] - 0s 3ms/step - loss: 0.6700 - accuracy: 0.5800\n",
            "Epoch 22/25\n",
            "25/25 [==============================] - 0s 3ms/step - loss: 0.6690 - accuracy: 0.5913\n",
            "Epoch 23/25\n",
            "25/25 [==============================] - 0s 3ms/step - loss: 0.6684 - accuracy: 0.5925\n",
            "Epoch 24/25\n",
            "25/25 [==============================] - 0s 3ms/step - loss: 0.6677 - accuracy: 0.5962\n",
            "Epoch 25/25\n",
            "25/25 [==============================] - 0s 3ms/step - loss: 0.6668 - accuracy: 0.5962\n"
          ]
        }
      ]
    },
    {
      "cell_type": "markdown",
      "source": [
        "⚠ **Note:** somewhere along the way my data got all messed up compared to his, but I'm not going to try to fix it to match at this point because it doesn't really matter, I'm still learning the concepts."
      ],
      "metadata": {
        "id": "uC2wCxRL880N"
      }
    },
    {
      "cell_type": "code",
      "source": [],
      "metadata": {
        "id": "VnTN_eddA3Mw"
      },
      "execution_count": null,
      "outputs": []
    }
  ]
}