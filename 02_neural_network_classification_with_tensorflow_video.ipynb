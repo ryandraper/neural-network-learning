{
  "nbformat": 4,
  "nbformat_minor": 0,
  "metadata": {
    "colab": {
      "provenance": [],
      "authorship_tag": "ABX9TyNoY6xmWizOZ8aUZfNjwzA7",
      "include_colab_link": true
    },
    "kernelspec": {
      "name": "python3",
      "display_name": "Python 3"
    },
    "language_info": {
      "name": "python"
    }
  },
  "cells": [
    {
      "cell_type": "markdown",
      "metadata": {
        "id": "view-in-github",
        "colab_type": "text"
      },
      "source": [
        "<a href=\"https://colab.research.google.com/github/ryandraper/neural-network-learning/blob/main/02_neural_network_classification_with_tensorflow_video.ipynb\" target=\"_parent\"><img src=\"https://colab.research.google.com/assets/colab-badge.svg\" alt=\"Open In Colab\"/></a>"
      ]
    },
    {
      "cell_type": "markdown",
      "source": [
        "# Introduction to neural network Classification with TensorFlow\n",
        "\n",
        "In this notebook we're going to learn how to write neural networks for classification problems.\n",
        "\n",
        "A classification is where you try to classify something as one thing or another.\n",
        "A few types of classification problems:\n",
        "* Binary classification\n",
        "* Multiclass classification\n",
        "* Multilabel classification"
      ],
      "metadata": {
        "id": "hCPfjAE7hJWr"
      }
    },
    {
      "cell_type": "markdown",
      "source": [
        "# Creating data to view and fit\n"
      ],
      "metadata": {
        "id": "HLv46iM6hmN6"
      }
    },
    {
      "cell_type": "code",
      "source": [
        "from sklearn.datasets import make_circles\n",
        "\n",
        "# Make 1000 examples\n",
        "n_samples = 1000\n",
        "\n",
        "# Create circles\n",
        "X, y = make_circles(n_samples,\n",
        "                    noise=0.03,\n",
        "                    random_state=42)"
      ],
      "metadata": {
        "id": "3F00_xdzhp0m"
      },
      "execution_count": 1,
      "outputs": []
    },
    {
      "cell_type": "code",
      "source": [
        "# Check out features\n",
        "X"
      ],
      "metadata": {
        "colab": {
          "base_uri": "https://localhost:8080/"
        },
        "id": "IOl95tUjL1Hd",
        "outputId": "9f0e5115-7cd8-4d26-e2af-44803f3ecb82"
      },
      "execution_count": 2,
      "outputs": [
        {
          "output_type": "execute_result",
          "data": {
            "text/plain": [
              "array([[ 0.75424625,  0.23148074],\n",
              "       [-0.75615888,  0.15325888],\n",
              "       [-0.81539193,  0.17328203],\n",
              "       ...,\n",
              "       [-0.13690036, -0.81001183],\n",
              "       [ 0.67036156, -0.76750154],\n",
              "       [ 0.28105665,  0.96382443]])"
            ]
          },
          "metadata": {},
          "execution_count": 2
        }
      ]
    },
    {
      "cell_type": "code",
      "source": [
        "# Change the labels\n",
        "y[:10]"
      ],
      "metadata": {
        "colab": {
          "base_uri": "https://localhost:8080/"
        },
        "id": "vLP2vdhZL3bi",
        "outputId": "2917691e-2d1c-4e08-a08f-dfa5241bba4c"
      },
      "execution_count": 3,
      "outputs": [
        {
          "output_type": "execute_result",
          "data": {
            "text/plain": [
              "array([1, 1, 1, 1, 0, 1, 1, 1, 1, 0])"
            ]
          },
          "metadata": {},
          "execution_count": 3
        }
      ]
    },
    {
      "cell_type": "markdown",
      "source": [
        "Our data is a little hard to understand right now... let's visualize it\n"
      ],
      "metadata": {
        "id": "WInuc2nPMUh4"
      }
    },
    {
      "cell_type": "code",
      "source": [
        "import pandas as pd\n",
        "circles = pd.DataFrame({\"X0\":X[:,0], \"X1\":X[:,1], \"label\":y})\n",
        "circles"
      ],
      "metadata": {
        "colab": {
          "base_uri": "https://localhost:8080/",
          "height": 424
        },
        "id": "JL_7tazKL6P2",
        "outputId": "795f5fdf-4d64-4493-9812-21eed4c4dcfd"
      },
      "execution_count": 4,
      "outputs": [
        {
          "output_type": "execute_result",
          "data": {
            "text/plain": [
              "           X0        X1  label\n",
              "0    0.754246  0.231481      1\n",
              "1   -0.756159  0.153259      1\n",
              "2   -0.815392  0.173282      1\n",
              "3   -0.393731  0.692883      1\n",
              "4    0.442208 -0.896723      0\n",
              "..        ...       ...    ...\n",
              "995  0.244054  0.944125      0\n",
              "996 -0.978655 -0.272373      0\n",
              "997 -0.136900 -0.810012      1\n",
              "998  0.670362 -0.767502      0\n",
              "999  0.281057  0.963824      0\n",
              "\n",
              "[1000 rows x 3 columns]"
            ],
            "text/html": [
              "\n",
              "  <div id=\"df-a25e5e47-8eb1-4889-920c-40503b58f78b\">\n",
              "    <div class=\"colab-df-container\">\n",
              "      <div>\n",
              "<style scoped>\n",
              "    .dataframe tbody tr th:only-of-type {\n",
              "        vertical-align: middle;\n",
              "    }\n",
              "\n",
              "    .dataframe tbody tr th {\n",
              "        vertical-align: top;\n",
              "    }\n",
              "\n",
              "    .dataframe thead th {\n",
              "        text-align: right;\n",
              "    }\n",
              "</style>\n",
              "<table border=\"1\" class=\"dataframe\">\n",
              "  <thead>\n",
              "    <tr style=\"text-align: right;\">\n",
              "      <th></th>\n",
              "      <th>X0</th>\n",
              "      <th>X1</th>\n",
              "      <th>label</th>\n",
              "    </tr>\n",
              "  </thead>\n",
              "  <tbody>\n",
              "    <tr>\n",
              "      <th>0</th>\n",
              "      <td>0.754246</td>\n",
              "      <td>0.231481</td>\n",
              "      <td>1</td>\n",
              "    </tr>\n",
              "    <tr>\n",
              "      <th>1</th>\n",
              "      <td>-0.756159</td>\n",
              "      <td>0.153259</td>\n",
              "      <td>1</td>\n",
              "    </tr>\n",
              "    <tr>\n",
              "      <th>2</th>\n",
              "      <td>-0.815392</td>\n",
              "      <td>0.173282</td>\n",
              "      <td>1</td>\n",
              "    </tr>\n",
              "    <tr>\n",
              "      <th>3</th>\n",
              "      <td>-0.393731</td>\n",
              "      <td>0.692883</td>\n",
              "      <td>1</td>\n",
              "    </tr>\n",
              "    <tr>\n",
              "      <th>4</th>\n",
              "      <td>0.442208</td>\n",
              "      <td>-0.896723</td>\n",
              "      <td>0</td>\n",
              "    </tr>\n",
              "    <tr>\n",
              "      <th>...</th>\n",
              "      <td>...</td>\n",
              "      <td>...</td>\n",
              "      <td>...</td>\n",
              "    </tr>\n",
              "    <tr>\n",
              "      <th>995</th>\n",
              "      <td>0.244054</td>\n",
              "      <td>0.944125</td>\n",
              "      <td>0</td>\n",
              "    </tr>\n",
              "    <tr>\n",
              "      <th>996</th>\n",
              "      <td>-0.978655</td>\n",
              "      <td>-0.272373</td>\n",
              "      <td>0</td>\n",
              "    </tr>\n",
              "    <tr>\n",
              "      <th>997</th>\n",
              "      <td>-0.136900</td>\n",
              "      <td>-0.810012</td>\n",
              "      <td>1</td>\n",
              "    </tr>\n",
              "    <tr>\n",
              "      <th>998</th>\n",
              "      <td>0.670362</td>\n",
              "      <td>-0.767502</td>\n",
              "      <td>0</td>\n",
              "    </tr>\n",
              "    <tr>\n",
              "      <th>999</th>\n",
              "      <td>0.281057</td>\n",
              "      <td>0.963824</td>\n",
              "      <td>0</td>\n",
              "    </tr>\n",
              "  </tbody>\n",
              "</table>\n",
              "<p>1000 rows × 3 columns</p>\n",
              "</div>\n",
              "      <button class=\"colab-df-convert\" onclick=\"convertToInteractive('df-a25e5e47-8eb1-4889-920c-40503b58f78b')\"\n",
              "              title=\"Convert this dataframe to an interactive table.\"\n",
              "              style=\"display:none;\">\n",
              "        \n",
              "  <svg xmlns=\"http://www.w3.org/2000/svg\" height=\"24px\"viewBox=\"0 0 24 24\"\n",
              "       width=\"24px\">\n",
              "    <path d=\"M0 0h24v24H0V0z\" fill=\"none\"/>\n",
              "    <path d=\"M18.56 5.44l.94 2.06.94-2.06 2.06-.94-2.06-.94-.94-2.06-.94 2.06-2.06.94zm-11 1L8.5 8.5l.94-2.06 2.06-.94-2.06-.94L8.5 2.5l-.94 2.06-2.06.94zm10 10l.94 2.06.94-2.06 2.06-.94-2.06-.94-.94-2.06-.94 2.06-2.06.94z\"/><path d=\"M17.41 7.96l-1.37-1.37c-.4-.4-.92-.59-1.43-.59-.52 0-1.04.2-1.43.59L10.3 9.45l-7.72 7.72c-.78.78-.78 2.05 0 2.83L4 21.41c.39.39.9.59 1.41.59.51 0 1.02-.2 1.41-.59l7.78-7.78 2.81-2.81c.8-.78.8-2.07 0-2.86zM5.41 20L4 18.59l7.72-7.72 1.47 1.35L5.41 20z\"/>\n",
              "  </svg>\n",
              "      </button>\n",
              "      \n",
              "  <style>\n",
              "    .colab-df-container {\n",
              "      display:flex;\n",
              "      flex-wrap:wrap;\n",
              "      gap: 12px;\n",
              "    }\n",
              "\n",
              "    .colab-df-convert {\n",
              "      background-color: #E8F0FE;\n",
              "      border: none;\n",
              "      border-radius: 50%;\n",
              "      cursor: pointer;\n",
              "      display: none;\n",
              "      fill: #1967D2;\n",
              "      height: 32px;\n",
              "      padding: 0 0 0 0;\n",
              "      width: 32px;\n",
              "    }\n",
              "\n",
              "    .colab-df-convert:hover {\n",
              "      background-color: #E2EBFA;\n",
              "      box-shadow: 0px 1px 2px rgba(60, 64, 67, 0.3), 0px 1px 3px 1px rgba(60, 64, 67, 0.15);\n",
              "      fill: #174EA6;\n",
              "    }\n",
              "\n",
              "    [theme=dark] .colab-df-convert {\n",
              "      background-color: #3B4455;\n",
              "      fill: #D2E3FC;\n",
              "    }\n",
              "\n",
              "    [theme=dark] .colab-df-convert:hover {\n",
              "      background-color: #434B5C;\n",
              "      box-shadow: 0px 1px 3px 1px rgba(0, 0, 0, 0.15);\n",
              "      filter: drop-shadow(0px 1px 2px rgba(0, 0, 0, 0.3));\n",
              "      fill: #FFFFFF;\n",
              "    }\n",
              "  </style>\n",
              "\n",
              "      <script>\n",
              "        const buttonEl =\n",
              "          document.querySelector('#df-a25e5e47-8eb1-4889-920c-40503b58f78b button.colab-df-convert');\n",
              "        buttonEl.style.display =\n",
              "          google.colab.kernel.accessAllowed ? 'block' : 'none';\n",
              "\n",
              "        async function convertToInteractive(key) {\n",
              "          const element = document.querySelector('#df-a25e5e47-8eb1-4889-920c-40503b58f78b');\n",
              "          const dataTable =\n",
              "            await google.colab.kernel.invokeFunction('convertToInteractive',\n",
              "                                                     [key], {});\n",
              "          if (!dataTable) return;\n",
              "\n",
              "          const docLinkHtml = 'Like what you see? Visit the ' +\n",
              "            '<a target=\"_blank\" href=https://colab.research.google.com/notebooks/data_table.ipynb>data table notebook</a>'\n",
              "            + ' to learn more about interactive tables.';\n",
              "          element.innerHTML = '';\n",
              "          dataTable['output_type'] = 'display_data';\n",
              "          await google.colab.output.renderOutput(dataTable, element);\n",
              "          const docLink = document.createElement('div');\n",
              "          docLink.innerHTML = docLinkHtml;\n",
              "          element.appendChild(docLink);\n",
              "        }\n",
              "      </script>\n",
              "    </div>\n",
              "  </div>\n",
              "  "
            ]
          },
          "metadata": {},
          "execution_count": 4
        }
      ]
    },
    {
      "cell_type": "code",
      "source": [
        "# Visualize with a plot\n",
        "import matplotlib.pyplot as plt\n",
        "plt.scatter(X[:, 0], X[:, 1], c=y, cmap=plt.cm.RdYlBu);"
      ],
      "metadata": {
        "colab": {
          "base_uri": "https://localhost:8080/",
          "height": 265
        },
        "id": "CvR4gX8XMoOS",
        "outputId": "8497cd35-2798-4e44-fd3a-631fc03ee73e"
      },
      "execution_count": 5,
      "outputs": [
        {
          "output_type": "display_data",
          "data": {
            "text/plain": [
              "<Figure size 432x288 with 1 Axes>"
            ],
            "image/png": "[encoded data removed]"
          },
          "metadata": {
            "needs_background": "light"
          }
        }
      ]
    },
    {
      "cell_type": "markdown",
      "source": [
        "## Input and output shapes"
      ],
      "metadata": {
        "id": "NXCd5LDWM2Ct"
      }
    },
    {
      "cell_type": "code",
      "source": [
        "# Check the shapes of our features and lables\n",
        "X.shape, y.shape"
      ],
      "metadata": {
        "colab": {
          "base_uri": "https://localhost:8080/"
        },
        "id": "Gx30-caINs91",
        "outputId": "8def5fee-09db-4e55-82cb-85f98d94c41c"
      },
      "execution_count": 6,
      "outputs": [
        {
          "output_type": "execute_result",
          "data": {
            "text/plain": [
              "((1000, 2), (1000,))"
            ]
          },
          "metadata": {},
          "execution_count": 6
        }
      ]
    },
    {
      "cell_type": "code",
      "source": [
        "# How many samples we're working with\n",
        "len(X), len(y)"
      ],
      "metadata": {
        "colab": {
          "base_uri": "https://localhost:8080/"
        },
        "id": "PTQ2V1FbNwIs",
        "outputId": "f65712bc-6f3e-4c6f-8002-c0b9616c7e01"
      },
      "execution_count": 7,
      "outputs": [
        {
          "output_type": "execute_result",
          "data": {
            "text/plain": [
              "(1000, 1000)"
            ]
          },
          "metadata": {},
          "execution_count": 7
        }
      ]
    },
    {
      "cell_type": "code",
      "source": [
        "X[0], y[0]"
      ],
      "metadata": {
        "colab": {
          "base_uri": "https://localhost:8080/"
        },
        "id": "6_5mlC7EN1zv",
        "outputId": "afb2f7c6-c259-4aea-9711-75057c66eac4"
      },
      "execution_count": 8,
      "outputs": [
        {
          "output_type": "execute_result",
          "data": {
            "text/plain": [
              "(array([0.75424625, 0.23148074]), 1)"
            ]
          },
          "metadata": {},
          "execution_count": 8
        }
      ]
    },
    {
      "cell_type": "markdown",
      "source": [
        "## Steps in modelling\n",
        "\n",
        "The steps in modelling with TensorFlow are typically:\n",
        "\n",
        "1. Create or import a model\n",
        "2. Compile the model\n",
        "3. Fit the model\n",
        "4. Evaluate the model\n",
        "5. Tweak\n",
        "6. Evaluate... "
      ],
      "metadata": {
        "id": "nt7lYWOHN7It"
      }
    },
    {
      "cell_type": "code",
      "source": [
        "import tensorflow as tf"
      ],
      "metadata": {
        "id": "WCwxrtNwPJ_X"
      },
      "execution_count": 9,
      "outputs": []
    },
    {
      "cell_type": "code",
      "source": [
        "# Set the random seed\n",
        "tf.random.set_seed(42)\n",
        "\n",
        "# 1. Creat the model using Sequential API\n",
        "model_1 = tf.keras.Sequential([\n",
        "    tf.keras.layers.Dense(1)\n",
        "])\n",
        "\n",
        "# 2. Compile the model\n",
        "model_1.compile(loss=tf.keras.losses.BinaryCrossentropy(),\n",
        "                optimizer=tf.keras.optimizers.SGD(),\n",
        "                metrics=[\"accuracy\"])\n",
        "\n",
        "# 3. Fit the model\n",
        "model_1.fit(X, y, epochs=5)"
      ],
      "metadata": {
        "colab": {
          "base_uri": "https://localhost:8080/"
        },
        "id": "57L6PLL1O2ks",
        "outputId": "5a1dcb20-126a-4cf4-8103-aa0d10b5f444"
      },
      "execution_count": 10,
      "outputs": [
        {
          "output_type": "stream",
          "name": "stdout",
          "text": [
            "Epoch 1/5\n",
            "32/32 [==============================] - 2s 6ms/step - loss: 4.3613 - accuracy: 0.4720\n",
            "Epoch 2/5\n",
            "32/32 [==============================] - 0s 6ms/step - loss: 2.6108 - accuracy: 0.4790\n",
            "Epoch 3/5\n",
            "32/32 [==============================] - 0s 5ms/step - loss: 0.7299 - accuracy: 0.4910\n",
            "Epoch 4/5\n",
            "32/32 [==============================] - 0s 5ms/step - loss: 0.7042 - accuracy: 0.4970\n",
            "Epoch 5/5\n",
            "32/32 [==============================] - 0s 2ms/step - loss: 0.6977 - accuracy: 0.4960\n"
          ]
        },
        {
          "output_type": "execute_result",
          "data": {
            "text/plain": [
              "<keras.callbacks.History at 0x7f410eaea130>"
            ]
          },
          "metadata": {},
          "execution_count": 10
        }
      ]
    },
    {
      "cell_type": "code",
      "source": [
        "# Let's try and improve our model by training for longer...\n",
        "model_1.fit(X, y, epochs=200, verbose=0)\n"
      ],
      "metadata": {
        "colab": {
          "base_uri": "https://localhost:8080/"
        },
        "id": "V_8OzBE9PAPP",
        "outputId": "af0694c9-3a10-4f5d-dd07-a7750c7632b4"
      },
      "execution_count": 11,
      "outputs": [
        {
          "output_type": "execute_result",
          "data": {
            "text/plain": [
              "<keras.callbacks.History at 0x7f410e0ba040>"
            ]
          },
          "metadata": {},
          "execution_count": 11
        }
      ]
    },
    {
      "cell_type": "code",
      "source": [
        "model_1.evaluate(X,y)"
      ],
      "metadata": {
        "colab": {
          "base_uri": "https://localhost:8080/"
        },
        "id": "i2J7f0P_QY-s",
        "outputId": "540aba59-343d-4978-a894-04b1d56f9213"
      },
      "execution_count": 12,
      "outputs": [
        {
          "output_type": "stream",
          "name": "stdout",
          "text": [
            "32/32 [==============================] - 0s 2ms/step - loss: 0.6935 - accuracy: 0.5000\n"
          ]
        },
        {
          "output_type": "execute_result",
          "data": {
            "text/plain": [
              "[0.6934831142425537, 0.5]"
            ]
          },
          "metadata": {},
          "execution_count": 12
        }
      ]
    },
    {
      "cell_type": "markdown",
      "source": [
        "Since we're working on a binary classification problem and our model is getting around 50% accuracy... it's performing as if it's guessing. \n",
        "So let's step things up a notch and add an extra layer."
      ],
      "metadata": {
        "id": "A9pJt4h9QnrP"
      }
    },
    {
      "cell_type": "code",
      "source": [
        "# Set the random seed\n",
        "tf.random.set_seed(42)\n",
        "\n",
        "# 1. Creat the model using Sequential API\n",
        "model_2 = tf.keras.Sequential([\n",
        "    tf.keras.layers.Dense(1),\n",
        "    tf.keras.layers.Dense(1)\n",
        "])\n",
        "\n",
        "# 2. Compile the model\n",
        "model_2.compile(loss=tf.keras.losses.BinaryCrossentropy(),\n",
        "                optimizer=tf.keras.optimizers.SGD(),\n",
        "                metrics=[\"accuracy\"])\n",
        "\n",
        "# 3. Fit the model\n",
        "model_2.fit(X, y, epochs=5)"
      ],
      "metadata": {
        "colab": {
          "base_uri": "https://localhost:8080/"
        },
        "id": "gBRzqFKtQgOw",
        "outputId": "6ad043d4-c252-42bb-8d85-01a04fcc8c34"
      },
      "execution_count": 13,
      "outputs": [
        {
          "output_type": "stream",
          "name": "stdout",
          "text": [
            "Epoch 1/5\n",
            "32/32 [==============================] - 1s 3ms/step - loss: 1.3083 - accuracy: 0.4590\n",
            "Epoch 2/5\n",
            "32/32 [==============================] - 0s 3ms/step - loss: 0.7155 - accuracy: 0.4870\n",
            "Epoch 3/5\n",
            "32/32 [==============================] - 0s 3ms/step - loss: 0.7019 - accuracy: 0.4900\n",
            "Epoch 4/5\n",
            "32/32 [==============================] - 0s 3ms/step - loss: 0.6967 - accuracy: 0.4930\n",
            "Epoch 5/5\n",
            "32/32 [==============================] - 0s 2ms/step - loss: 0.6952 - accuracy: 0.5000\n"
          ]
        },
        {
          "output_type": "execute_result",
          "data": {
            "text/plain": [
              "<keras.callbacks.History at 0x7f41139ad8b0>"
            ]
          },
          "metadata": {},
          "execution_count": 13
        }
      ]
    },
    {
      "cell_type": "code",
      "source": [
        "# 4. Evaluate the model\n",
        "model_2.evaluate(X, y)"
      ],
      "metadata": {
        "colab": {
          "base_uri": "https://localhost:8080/"
        },
        "id": "81_3KWqdQ6Gd",
        "outputId": "cce70058-b473-4982-f3ac-9a2c35d7b866"
      },
      "execution_count": 14,
      "outputs": [
        {
          "output_type": "stream",
          "name": "stdout",
          "text": [
            "32/32 [==============================] - 0s 2ms/step - loss: 0.6937 - accuracy: 0.4940\n"
          ]
        },
        {
          "output_type": "execute_result",
          "data": {
            "text/plain": [
              "[0.693718433380127, 0.49399998784065247]"
            ]
          },
          "metadata": {},
          "execution_count": 14
        }
      ]
    },
    {
      "cell_type": "markdown",
      "source": [
        "## Improving our Model\n",
        "\n",
        "Let's look into our bag of tricks to see how we can improve our model.\n",
        "\n",
        "1. Create a model - we might want to add more layers or increase number of hidden units within a layer. \n",
        "2. Compiling a model - here we might want to choose a different optimization function such as Adam\n",
        "3. Fitting a model - perhaps we might fit our model for more epochs (leave it training for longer)"
      ],
      "metadata": {
        "id": "rM7Mu4gJRUrf"
      }
    },
    {
      "cell_type": "code",
      "source": [
        "# Set the random seed\n",
        "tf.random.set_seed(42)\n",
        "\n",
        "# 1. Create the model (this time 3 layers)\n",
        "model_3 = tf.keras.Sequential([\n",
        "    tf.keras.layers.Dense(100), # add 100 dense neurons\n",
        "    tf.keras.layers.Dense(10),\n",
        "    tf.keras.layers.Dense(1),\n",
        "])\n",
        "\n",
        "# 2. Compile the model\n",
        "model_3.compile(loss=tf.keras.losses.BinaryCrossentropy(),\n",
        "                optimizer=tf.keras.optimizers.Adam(),\n",
        "                metrics=[\"accuracy\"])\n",
        "\n",
        "# 3. Fit the model\n",
        "model_3.fit(X, y, epochs=100, verbose=0)"
      ],
      "metadata": {
        "colab": {
          "base_uri": "https://localhost:8080/"
        },
        "id": "Md4-gCVZRlMp",
        "outputId": "72292a8c-4f2c-4e4d-cb8f-386d6302b2b2"
      },
      "execution_count": 15,
      "outputs": [
        {
          "output_type": "execute_result",
          "data": {
            "text/plain": [
              "<keras.callbacks.History at 0x7f410f2e89d0>"
            ]
          },
          "metadata": {},
          "execution_count": 15
        }
      ]
    },
    {
      "cell_type": "code",
      "source": [
        "#4 4. evaluate the model\n",
        "model_3.evaluate(X, y)"
      ],
      "metadata": {
        "colab": {
          "base_uri": "https://localhost:8080/"
        },
        "id": "UcjFIZJyNn4u",
        "outputId": "0e33c237-af9e-4dd4-a827-06629e1b3b47"
      },
      "execution_count": 16,
      "outputs": [
        {
          "output_type": "stream",
          "name": "stdout",
          "text": [
            "32/32 [==============================] - 0s 2ms/step - loss: 0.6997 - accuracy: 0.5030\n"
          ]
        },
        {
          "output_type": "execute_result",
          "data": {
            "text/plain": [
              "[0.699674665927887, 0.503000020980835]"
            ]
          },
          "metadata": {},
          "execution_count": 16
        }
      ]
    },
    {
      "cell_type": "code",
      "source": [
        "model_3.predict(X)"
      ],
      "metadata": {
        "colab": {
          "base_uri": "https://localhost:8080/"
        },
        "id": "GzZ8JoZnOF3G",
        "outputId": "6ff4dd62-16f8-470e-9d0e-e0252b9b2494"
      },
      "execution_count": 17,
      "outputs": [
        {
          "output_type": "stream",
          "name": "stdout",
          "text": [
            "32/32 [==============================] - 0s 5ms/step\n"
          ]
        },
        {
          "output_type": "execute_result",
          "data": {
            "text/plain": [
              "array([[0.47867408],\n",
              "       [0.5672835 ],\n",
              "       [0.57217383],\n",
              "       [0.57794785],\n",
              "       [0.42881566],\n",
              "       [0.5822527 ],\n",
              "       [0.56121457],\n",
              "       [0.47247458],\n",
              "       [0.47296286],\n",
              "       [0.5812558 ],\n",
              "       [0.5175085 ],\n",
              "       [0.52769333],\n",
              "       [0.56937087],\n",
              "       [0.44530913],\n",
              "       [0.43796864],\n",
              "       [0.45257005],\n",
              "       [0.5480184 ],\n",
              "       [0.45589352],\n",
              "       [0.5555408 ],\n",
              "       [0.505147  ],\n",
              "       [0.49995115],\n",
              "       [0.5982329 ],\n",
              "       [0.45137495],\n",
              "       [0.4824434 ],\n",
              "       [0.5953715 ],\n",
              "       [0.58129734],\n",
              "       [0.5534582 ],\n",
              "       [0.45063144],\n",
              "       [0.4481977 ],\n",
              "       [0.4419326 ],\n",
              "       [0.47518116],\n",
              "       [0.5858467 ],\n",
              "       [0.558638  ],\n",
              "       [0.44974226],\n",
              "       [0.4512132 ],\n",
              "       [0.60201913],\n",
              "       [0.5812442 ],\n",
              "       [0.52720225],\n",
              "       [0.44921783],\n",
              "       [0.50435525],\n",
              "       [0.5006112 ],\n",
              "       [0.54620147],\n",
              "       [0.51366335],\n",
              "       [0.4447883 ],\n",
              "       [0.5270533 ],\n",
              "       [0.54598373],\n",
              "       [0.43667448],\n",
              "       [0.5448382 ],\n",
              "       [0.42020392],\n",
              "       [0.4926213 ],\n",
              "       [0.51919085],\n",
              "       [0.45725366],\n",
              "       [0.56215096],\n",
              "       [0.5189112 ],\n",
              "       [0.47216058],\n",
              "       [0.477375  ],\n",
              "       [0.5552423 ],\n",
              "       [0.45898926],\n",
              "       [0.5934459 ],\n",
              "       [0.50537723],\n",
              "       [0.5226254 ],\n",
              "       [0.49399647],\n",
              "       [0.4946585 ],\n",
              "       [0.59770215],\n",
              "       [0.5445571 ],\n",
              "       [0.58193946],\n",
              "       [0.57315695],\n",
              "       [0.46853083],\n",
              "       [0.51661813],\n",
              "       [0.4941515 ],\n",
              "       [0.5569617 ],\n",
              "       [0.44371888],\n",
              "       [0.5315687 ],\n",
              "       [0.56604755],\n",
              "       [0.5304438 ],\n",
              "       [0.5368663 ],\n",
              "       [0.56892866],\n",
              "       [0.48491493],\n",
              "       [0.5399502 ],\n",
              "       [0.518327  ],\n",
              "       [0.5746903 ],\n",
              "       [0.5105706 ],\n",
              "       [0.5446972 ],\n",
              "       [0.51791626],\n",
              "       [0.5036387 ],\n",
              "       [0.50130135],\n",
              "       [0.4576768 ],\n",
              "       [0.57744527],\n",
              "       [0.5612928 ],\n",
              "       [0.49976665],\n",
              "       [0.44223455],\n",
              "       [0.42708147],\n",
              "       [0.4768006 ],\n",
              "       [0.594826  ],\n",
              "       [0.53513765],\n",
              "       [0.41901043],\n",
              "       [0.55226487],\n",
              "       [0.54191875],\n",
              "       [0.5126496 ],\n",
              "       [0.4955573 ],\n",
              "       [0.5721835 ],\n",
              "       [0.466546  ],\n",
              "       [0.44164184],\n",
              "       [0.56425476],\n",
              "       [0.5647777 ],\n",
              "       [0.575424  ],\n",
              "       [0.5044952 ],\n",
              "       [0.4429667 ],\n",
              "       [0.59175366],\n",
              "       [0.4460023 ],\n",
              "       [0.48163933],\n",
              "       [0.505996  ],\n",
              "       [0.45871776],\n",
              "       [0.51040435],\n",
              "       [0.53434587],\n",
              "       [0.42391402],\n",
              "       [0.5976649 ],\n",
              "       [0.45215517],\n",
              "       [0.4891484 ],\n",
              "       [0.53029025],\n",
              "       [0.45149633],\n",
              "       [0.42294672],\n",
              "       [0.5798297 ],\n",
              "       [0.56832653],\n",
              "       [0.5863982 ],\n",
              "       [0.5084905 ],\n",
              "       [0.5242632 ],\n",
              "       [0.42753327],\n",
              "       [0.46621415],\n",
              "       [0.52590877],\n",
              "       [0.5404563 ],\n",
              "       [0.47703686],\n",
              "       [0.55676425],\n",
              "       [0.45754486],\n",
              "       [0.48226833],\n",
              "       [0.5056294 ],\n",
              "       [0.56749797],\n",
              "       [0.59311587],\n",
              "       [0.47262305],\n",
              "       [0.5243577 ],\n",
              "       [0.4894829 ],\n",
              "       [0.5697289 ],\n",
              "       [0.57564473],\n",
              "       [0.5481048 ],\n",
              "       [0.45210353],\n",
              "       [0.4424004 ],\n",
              "       [0.51423454],\n",
              "       [0.5759447 ],\n",
              "       [0.50358915],\n",
              "       [0.5008979 ],\n",
              "       [0.57002574],\n",
              "       [0.58949625],\n",
              "       [0.45159268],\n",
              "       [0.42634037],\n",
              "       [0.44250935],\n",
              "       [0.42980522],\n",
              "       [0.5162724 ],\n",
              "       [0.5769373 ],\n",
              "       [0.50955355],\n",
              "       [0.45358112],\n",
              "       [0.5433671 ],\n",
              "       [0.54747385],\n",
              "       [0.56811   ],\n",
              "       [0.57694507],\n",
              "       [0.4687947 ],\n",
              "       [0.5776738 ],\n",
              "       [0.52784646],\n",
              "       [0.5814229 ],\n",
              "       [0.51081705],\n",
              "       [0.5163354 ],\n",
              "       [0.46075538],\n",
              "       [0.43762922],\n",
              "       [0.55971146],\n",
              "       [0.4557957 ],\n",
              "       [0.43525782],\n",
              "       [0.45993695],\n",
              "       [0.5659301 ],\n",
              "       [0.56327474],\n",
              "       [0.5193648 ],\n",
              "       [0.57922894],\n",
              "       [0.4399524 ],\n",
              "       [0.5794657 ],\n",
              "       [0.44789842],\n",
              "       [0.48100564],\n",
              "       [0.48887882],\n",
              "       [0.58214474],\n",
              "       [0.46548837],\n",
              "       [0.45456612],\n",
              "       [0.4421931 ],\n",
              "       [0.5636209 ],\n",
              "       [0.4439911 ],\n",
              "       [0.4977016 ],\n",
              "       [0.5756085 ],\n",
              "       [0.5956504 ],\n",
              "       [0.5952651 ],\n",
              "       [0.4354407 ],\n",
              "       [0.48833227],\n",
              "       [0.5955123 ],\n",
              "       [0.55161726],\n",
              "       [0.5252092 ],\n",
              "       [0.47420463],\n",
              "       [0.48631984],\n",
              "       [0.58052033],\n",
              "       [0.5062745 ],\n",
              "       [0.49349618],\n",
              "       [0.53789854],\n",
              "       [0.5964551 ],\n",
              "       [0.44153836],\n",
              "       [0.44749948],\n",
              "       [0.5027494 ],\n",
              "       [0.5174694 ],\n",
              "       [0.5865483 ],\n",
              "       [0.44284397],\n",
              "       [0.497864  ],\n",
              "       [0.5694352 ],\n",
              "       [0.48753214],\n",
              "       [0.5778702 ],\n",
              "       [0.5727287 ],\n",
              "       [0.44638717],\n",
              "       [0.5740669 ],\n",
              "       [0.5220075 ],\n",
              "       [0.57109195],\n",
              "       [0.44926476],\n",
              "       [0.49503484],\n",
              "       [0.44856736],\n",
              "       [0.45015913],\n",
              "       [0.4948777 ],\n",
              "       [0.46996182],\n",
              "       [0.44497523],\n",
              "       [0.4885908 ],\n",
              "       [0.4809873 ],\n",
              "       [0.4596372 ],\n",
              "       [0.43933496],\n",
              "       [0.5249897 ],\n",
              "       [0.4802876 ],\n",
              "       [0.4781404 ],\n",
              "       [0.5866396 ],\n",
              "       [0.43924177],\n",
              "       [0.6011982 ],\n",
              "       [0.4924469 ],\n",
              "       [0.4529627 ],\n",
              "       [0.5941855 ],\n",
              "       [0.47087684],\n",
              "       [0.52499247],\n",
              "       [0.525194  ],\n",
              "       [0.56230986],\n",
              "       [0.42645591],\n",
              "       [0.52537227],\n",
              "       [0.53070265],\n",
              "       [0.53882855],\n",
              "       [0.5298725 ],\n",
              "       [0.45530093],\n",
              "       [0.5346644 ],\n",
              "       [0.45402616],\n",
              "       [0.43932608],\n",
              "       [0.5027848 ],\n",
              "       [0.4738024 ],\n",
              "       [0.44029182],\n",
              "       [0.43949088],\n",
              "       [0.4556441 ],\n",
              "       [0.5751486 ],\n",
              "       [0.43182397],\n",
              "       [0.5435927 ],\n",
              "       [0.56199414],\n",
              "       [0.4659385 ],\n",
              "       [0.46420884],\n",
              "       [0.5257682 ],\n",
              "       [0.44733053],\n",
              "       [0.56334585],\n",
              "       [0.4439933 ],\n",
              "       [0.44043243],\n",
              "       [0.5679319 ],\n",
              "       [0.4503124 ],\n",
              "       [0.5735421 ],\n",
              "       [0.47992894],\n",
              "       [0.46590027],\n",
              "       [0.6001017 ],\n",
              "       [0.5477254 ],\n",
              "       [0.5291044 ],\n",
              "       [0.5343575 ],\n",
              "       [0.5292416 ],\n",
              "       [0.5286534 ],\n",
              "       [0.57960385],\n",
              "       [0.5367465 ],\n",
              "       [0.5950014 ],\n",
              "       [0.5793912 ],\n",
              "       [0.4684374 ],\n",
              "       [0.4268863 ],\n",
              "       [0.5855453 ],\n",
              "       [0.44428802],\n",
              "       [0.4414422 ],\n",
              "       [0.52717745],\n",
              "       [0.4613817 ],\n",
              "       [0.42854476],\n",
              "       [0.4578317 ],\n",
              "       [0.42811555],\n",
              "       [0.44086364],\n",
              "       [0.42921978],\n",
              "       [0.45723417],\n",
              "       [0.59217894],\n",
              "       [0.49063775],\n",
              "       [0.4248872 ],\n",
              "       [0.44003248],\n",
              "       [0.42773902],\n",
              "       [0.5414752 ],\n",
              "       [0.44148037],\n",
              "       [0.48222348],\n",
              "       [0.5195986 ],\n",
              "       [0.44134894],\n",
              "       [0.5159476 ],\n",
              "       [0.5390701 ],\n",
              "       [0.48149654],\n",
              "       [0.526682  ],\n",
              "       [0.575842  ],\n",
              "       [0.42904046],\n",
              "       [0.42424092],\n",
              "       [0.5855526 ],\n",
              "       [0.469956  ],\n",
              "       [0.57491803],\n",
              "       [0.5912044 ],\n",
              "       [0.5266552 ],\n",
              "       [0.5847771 ],\n",
              "       [0.524156  ],\n",
              "       [0.5613755 ],\n",
              "       [0.5399279 ],\n",
              "       [0.46675465],\n",
              "       [0.47663188],\n",
              "       [0.4362114 ],\n",
              "       [0.5797516 ],\n",
              "       [0.5756466 ],\n",
              "       [0.5770071 ],\n",
              "       [0.5082551 ],\n",
              "       [0.5725874 ],\n",
              "       [0.55618924],\n",
              "       [0.44696337],\n",
              "       [0.5091749 ],\n",
              "       [0.5796952 ],\n",
              "       [0.5006879 ],\n",
              "       [0.45818353],\n",
              "       [0.48420683],\n",
              "       [0.43219274],\n",
              "       [0.4309616 ],\n",
              "       [0.596697  ],\n",
              "       [0.57088083],\n",
              "       [0.44099224],\n",
              "       [0.42697206],\n",
              "       [0.50238365],\n",
              "       [0.44951457],\n",
              "       [0.54270387],\n",
              "       [0.43976462],\n",
              "       [0.6009136 ],\n",
              "       [0.5518769 ],\n",
              "       [0.45361826],\n",
              "       [0.5215078 ],\n",
              "       [0.53330714],\n",
              "       [0.579904  ],\n",
              "       [0.5269758 ],\n",
              "       [0.42187026],\n",
              "       [0.49213547],\n",
              "       [0.5837139 ],\n",
              "       [0.4268673 ],\n",
              "       [0.5281398 ],\n",
              "       [0.5814962 ],\n",
              "       [0.42671257],\n",
              "       [0.5944544 ],\n",
              "       [0.47455177],\n",
              "       [0.5454391 ],\n",
              "       [0.59915805],\n",
              "       [0.43921942],\n",
              "       [0.47214547],\n",
              "       [0.59427404],\n",
              "       [0.5787053 ],\n",
              "       [0.5844938 ],\n",
              "       [0.5996463 ],\n",
              "       [0.4541285 ],\n",
              "       [0.5640881 ],\n",
              "       [0.43645948],\n",
              "       [0.5265398 ],\n",
              "       [0.44591329],\n",
              "       [0.5117792 ],\n",
              "       [0.57635015],\n",
              "       [0.58805865],\n",
              "       [0.5339755 ],\n",
              "       [0.58282906],\n",
              "       [0.5903479 ],\n",
              "       [0.44483516],\n",
              "       [0.46755335],\n",
              "       [0.57563597],\n",
              "       [0.45253947],\n",
              "       [0.5463616 ],\n",
              "       [0.5993064 ],\n",
              "       [0.48780796],\n",
              "       [0.57980233],\n",
              "       [0.5562048 ],\n",
              "       [0.53140783],\n",
              "       [0.5081649 ],\n",
              "       [0.43465292],\n",
              "       [0.42572704],\n",
              "       [0.5581589 ],\n",
              "       [0.45862994],\n",
              "       [0.4674634 ],\n",
              "       [0.4296039 ],\n",
              "       [0.49029595],\n",
              "       [0.4846841 ],\n",
              "       [0.5525637 ],\n",
              "       [0.5783187 ],\n",
              "       [0.44402906],\n",
              "       [0.49149254],\n",
              "       [0.500348  ],\n",
              "       [0.46240085],\n",
              "       [0.4758993 ],\n",
              "       [0.44065294],\n",
              "       [0.5381228 ],\n",
              "       [0.55710536],\n",
              "       [0.50971717],\n",
              "       [0.579963  ],\n",
              "       [0.5802137 ],\n",
              "       [0.49548495],\n",
              "       [0.4754115 ],\n",
              "       [0.42695642],\n",
              "       [0.46761227],\n",
              "       [0.57736146],\n",
              "       [0.43642217],\n",
              "       [0.51950884],\n",
              "       [0.42359588],\n",
              "       [0.45721447],\n",
              "       [0.53297484],\n",
              "       [0.50727654],\n",
              "       [0.5706262 ],\n",
              "       [0.555174  ],\n",
              "       [0.542384  ],\n",
              "       [0.46028125],\n",
              "       [0.46914563],\n",
              "       [0.4274641 ],\n",
              "       [0.54866266],\n",
              "       [0.45890525],\n",
              "       [0.60020906],\n",
              "       [0.45408133],\n",
              "       [0.45725095],\n",
              "       [0.55322   ],\n",
              "       [0.5890403 ],\n",
              "       [0.51940656],\n",
              "       [0.44638494],\n",
              "       [0.5783772 ],\n",
              "       [0.49555737],\n",
              "       [0.52467823],\n",
              "       [0.5623735 ],\n",
              "       [0.5969381 ],\n",
              "       [0.5807852 ],\n",
              "       [0.5790264 ],\n",
              "       [0.5302834 ],\n",
              "       [0.46290457],\n",
              "       [0.4347239 ],\n",
              "       [0.5944017 ],\n",
              "       [0.5721992 ],\n",
              "       [0.5691029 ],\n",
              "       [0.45406318],\n",
              "       [0.57988584],\n",
              "       [0.45186535],\n",
              "       [0.42903912],\n",
              "       [0.5200456 ],\n",
              "       [0.559272  ],\n",
              "       [0.5378453 ],\n",
              "       [0.44572157],\n",
              "       [0.43824255],\n",
              "       [0.5563316 ],\n",
              "       [0.56397426],\n",
              "       [0.42636234],\n",
              "       [0.47689557],\n",
              "       [0.42609495],\n",
              "       [0.43554792],\n",
              "       [0.53781366],\n",
              "       [0.43859148],\n",
              "       [0.5373542 ],\n",
              "       [0.48150295],\n",
              "       [0.45335078],\n",
              "       [0.44304267],\n",
              "       [0.4403331 ],\n",
              "       [0.5490029 ],\n",
              "       [0.53931797],\n",
              "       [0.54748535],\n",
              "       [0.5438422 ],\n",
              "       [0.46494204],\n",
              "       [0.43499473],\n",
              "       [0.486922  ],\n",
              "       [0.48623008],\n",
              "       [0.48928136],\n",
              "       [0.4881458 ],\n",
              "       [0.5963577 ],\n",
              "       [0.44433326],\n",
              "       [0.45568672],\n",
              "       [0.543077  ],\n",
              "       [0.5572237 ],\n",
              "       [0.55271256],\n",
              "       [0.42885062],\n",
              "       [0.5952587 ],\n",
              "       [0.4257391 ],\n",
              "       [0.43023175],\n",
              "       [0.4672609 ],\n",
              "       [0.4568567 ],\n",
              "       [0.58547777],\n",
              "       [0.5971525 ],\n",
              "       [0.43370113],\n",
              "       [0.44361067],\n",
              "       [0.5278929 ],\n",
              "       [0.4443215 ],\n",
              "       [0.5796387 ],\n",
              "       [0.44379655],\n",
              "       [0.4467215 ],\n",
              "       [0.5609306 ],\n",
              "       [0.56507593],\n",
              "       [0.4911089 ],\n",
              "       [0.48690763],\n",
              "       [0.46074352],\n",
              "       [0.49806198],\n",
              "       [0.5520978 ],\n",
              "       [0.593408  ],\n",
              "       [0.6045757 ],\n",
              "       [0.45287535],\n",
              "       [0.46928695],\n",
              "       [0.465991  ],\n",
              "       [0.57617486],\n",
              "       [0.47451618],\n",
              "       [0.48282412],\n",
              "       [0.42700598],\n",
              "       [0.49942115],\n",
              "       [0.49592182],\n",
              "       [0.60115504],\n",
              "       [0.55798936],\n",
              "       [0.5447867 ],\n",
              "       [0.5043967 ],\n",
              "       [0.51785   ],\n",
              "       [0.56053966],\n",
              "       [0.5423864 ],\n",
              "       [0.4809848 ],\n",
              "       [0.42701578],\n",
              "       [0.5915912 ],\n",
              "       [0.52372146],\n",
              "       [0.57000136],\n",
              "       [0.42597827],\n",
              "       [0.59999585],\n",
              "       [0.55384207],\n",
              "       [0.5792681 ],\n",
              "       [0.44390735],\n",
              "       [0.5677524 ],\n",
              "       [0.4403991 ],\n",
              "       [0.46781108],\n",
              "       [0.5030134 ],\n",
              "       [0.534641  ],\n",
              "       [0.5708634 ],\n",
              "       [0.5664356 ],\n",
              "       [0.43247795],\n",
              "       [0.5814861 ],\n",
              "       [0.5029624 ],\n",
              "       [0.47181892],\n",
              "       [0.4452023 ],\n",
              "       [0.4537075 ],\n",
              "       [0.5570716 ],\n",
              "       [0.49332976],\n",
              "       [0.4746579 ],\n",
              "       [0.5972973 ],\n",
              "       [0.45812893],\n",
              "       [0.495424  ],\n",
              "       [0.5684761 ],\n",
              "       [0.55946714],\n",
              "       [0.42120612],\n",
              "       [0.5825875 ],\n",
              "       [0.51684314],\n",
              "       [0.48371688],\n",
              "       [0.44322607],\n",
              "       [0.5883205 ],\n",
              "       [0.5691397 ],\n",
              "       [0.5350837 ],\n",
              "       [0.5022316 ],\n",
              "       [0.47148263],\n",
              "       [0.4422961 ],\n",
              "       [0.5819981 ],\n",
              "       [0.42678702],\n",
              "       [0.43593892],\n",
              "       [0.56253976],\n",
              "       [0.5026263 ],\n",
              "       [0.4693617 ],\n",
              "       [0.5101683 ],\n",
              "       [0.53074217],\n",
              "       [0.5191549 ],\n",
              "       [0.43120837],\n",
              "       [0.49096388],\n",
              "       [0.55593795],\n",
              "       [0.48613858],\n",
              "       [0.5964809 ],\n",
              "       [0.57530993],\n",
              "       [0.49913505],\n",
              "       [0.58059555],\n",
              "       [0.55829346],\n",
              "       [0.4710768 ],\n",
              "       [0.5885059 ],\n",
              "       [0.537102  ],\n",
              "       [0.5458892 ],\n",
              "       [0.5194574 ],\n",
              "       [0.5691302 ],\n",
              "       [0.4601518 ],\n",
              "       [0.57481813],\n",
              "       [0.49986008],\n",
              "       [0.56644136],\n",
              "       [0.57460266],\n",
              "       [0.44662517],\n",
              "       [0.59966296],\n",
              "       [0.5648791 ],\n",
              "       [0.5579988 ],\n",
              "       [0.54916704],\n",
              "       [0.5943943 ],\n",
              "       [0.52282745],\n",
              "       [0.5487978 ],\n",
              "       [0.5785534 ],\n",
              "       [0.5774222 ],\n",
              "       [0.58258754],\n",
              "       [0.446635  ],\n",
              "       [0.47265315],\n",
              "       [0.45123893],\n",
              "       [0.48770544],\n",
              "       [0.44585562],\n",
              "       [0.5884935 ],\n",
              "       [0.4756054 ],\n",
              "       [0.59313595],\n",
              "       [0.4632031 ],\n",
              "       [0.46927723],\n",
              "       [0.4918981 ],\n",
              "       [0.4515582 ],\n",
              "       [0.440464  ],\n",
              "       [0.47280878],\n",
              "       [0.4447069 ],\n",
              "       [0.4318185 ],\n",
              "       [0.5450436 ],\n",
              "       [0.5753858 ],\n",
              "       [0.46000233],\n",
              "       [0.5870074 ],\n",
              "       [0.47361544],\n",
              "       [0.44019344],\n",
              "       [0.42266193],\n",
              "       [0.4443637 ],\n",
              "       [0.4564189 ],\n",
              "       [0.5878998 ],\n",
              "       [0.4796115 ],\n",
              "       [0.44422585],\n",
              "       [0.45046595],\n",
              "       [0.4252711 ],\n",
              "       [0.44710356],\n",
              "       [0.48024142],\n",
              "       [0.5778784 ],\n",
              "       [0.48896044],\n",
              "       [0.59207857],\n",
              "       [0.48167524],\n",
              "       [0.47015563],\n",
              "       [0.46422023],\n",
              "       [0.44195417],\n",
              "       [0.4959714 ],\n",
              "       [0.5282957 ],\n",
              "       [0.44632915],\n",
              "       [0.5957463 ],\n",
              "       [0.45187378],\n",
              "       [0.58800364],\n",
              "       [0.5260199 ],\n",
              "       [0.45577562],\n",
              "       [0.55842185],\n",
              "       [0.56026626],\n",
              "       [0.59323686],\n",
              "       [0.5797522 ],\n",
              "       [0.54898155],\n",
              "       [0.43136314],\n",
              "       [0.42212936],\n",
              "       [0.55857706],\n",
              "       [0.53022134],\n",
              "       [0.54001653],\n",
              "       [0.5807801 ],\n",
              "       [0.5702858 ],\n",
              "       [0.5009707 ],\n",
              "       [0.590247  ],\n",
              "       [0.4323974 ],\n",
              "       [0.4370207 ],\n",
              "       [0.5931808 ],\n",
              "       [0.5734843 ],\n",
              "       [0.48802888],\n",
              "       [0.55303913],\n",
              "       [0.45650125],\n",
              "       [0.5170405 ],\n",
              "       [0.47716293],\n",
              "       [0.42370984],\n",
              "       [0.57812214],\n",
              "       [0.5717268 ],\n",
              "       [0.52031535],\n",
              "       [0.5614866 ],\n",
              "       [0.5172603 ],\n",
              "       [0.56217796],\n",
              "       [0.5730977 ],\n",
              "       [0.45438483],\n",
              "       [0.5658987 ],\n",
              "       [0.5481015 ],\n",
              "       [0.529101  ],\n",
              "       [0.42938784],\n",
              "       [0.589671  ],\n",
              "       [0.5300091 ],\n",
              "       [0.5636711 ],\n",
              "       [0.44865432],\n",
              "       [0.4970929 ],\n",
              "       [0.4577159 ],\n",
              "       [0.43824232],\n",
              "       [0.5890728 ],\n",
              "       [0.58245814],\n",
              "       [0.57110333],\n",
              "       [0.44198737],\n",
              "       [0.56627214],\n",
              "       [0.5731548 ],\n",
              "       [0.47430915],\n",
              "       [0.43093705],\n",
              "       [0.4982475 ],\n",
              "       [0.59630257],\n",
              "       [0.5717323 ],\n",
              "       [0.4771989 ],\n",
              "       [0.5503747 ],\n",
              "       [0.5862098 ],\n",
              "       [0.44373238],\n",
              "       [0.59697104],\n",
              "       [0.54885143],\n",
              "       [0.54812384],\n",
              "       [0.5330804 ],\n",
              "       [0.4310282 ],\n",
              "       [0.57053447],\n",
              "       [0.59703267],\n",
              "       [0.59727496],\n",
              "       [0.4212786 ],\n",
              "       [0.57754624],\n",
              "       [0.42930284],\n",
              "       [0.4442737 ],\n",
              "       [0.55043167],\n",
              "       [0.45225516],\n",
              "       [0.49419156],\n",
              "       [0.45704618],\n",
              "       [0.5690232 ],\n",
              "       [0.5685924 ],\n",
              "       [0.43623325],\n",
              "       [0.5352974 ],\n",
              "       [0.54893094],\n",
              "       [0.57117665],\n",
              "       [0.44784692],\n",
              "       [0.59496397],\n",
              "       [0.5666933 ],\n",
              "       [0.4455129 ],\n",
              "       [0.5556813 ],\n",
              "       [0.5207805 ],\n",
              "       [0.44249263],\n",
              "       [0.55729014],\n",
              "       [0.4595898 ],\n",
              "       [0.5560981 ],\n",
              "       [0.44370526],\n",
              "       [0.45155206],\n",
              "       [0.46215335],\n",
              "       [0.5560974 ],\n",
              "       [0.50552183],\n",
              "       [0.4280288 ],\n",
              "       [0.4453852 ],\n",
              "       [0.5626209 ],\n",
              "       [0.57974446],\n",
              "       [0.5904262 ],\n",
              "       [0.4682458 ],\n",
              "       [0.54782194],\n",
              "       [0.57634944],\n",
              "       [0.45302814],\n",
              "       [0.45601812],\n",
              "       [0.48735785],\n",
              "       [0.5857032 ],\n",
              "       [0.535621  ],\n",
              "       [0.5791395 ],\n",
              "       [0.50207925],\n",
              "       [0.56795985],\n",
              "       [0.4287057 ],\n",
              "       [0.44905648],\n",
              "       [0.58179414],\n",
              "       [0.4650803 ],\n",
              "       [0.56205654],\n",
              "       [0.558277  ],\n",
              "       [0.5615642 ],\n",
              "       [0.563247  ],\n",
              "       [0.5406999 ],\n",
              "       [0.4457742 ],\n",
              "       [0.44586584],\n",
              "       [0.59016424],\n",
              "       [0.43954432],\n",
              "       [0.5146029 ],\n",
              "       [0.42763162],\n",
              "       [0.47490123],\n",
              "       [0.46732852],\n",
              "       [0.5684712 ],\n",
              "       [0.45425215],\n",
              "       [0.43870494],\n",
              "       [0.44853622],\n",
              "       [0.5553979 ],\n",
              "       [0.47512105],\n",
              "       [0.51985854],\n",
              "       [0.5684712 ],\n",
              "       [0.48481247],\n",
              "       [0.5038542 ],\n",
              "       [0.44878778],\n",
              "       [0.52717876],\n",
              "       [0.52500343],\n",
              "       [0.53216296],\n",
              "       [0.57933563],\n",
              "       [0.58195376],\n",
              "       [0.59354424],\n",
              "       [0.4754571 ],\n",
              "       [0.48266816],\n",
              "       [0.48870194],\n",
              "       [0.5884759 ],\n",
              "       [0.57547057],\n",
              "       [0.45179594],\n",
              "       [0.47428668],\n",
              "       [0.48266667],\n",
              "       [0.43949047],\n",
              "       [0.57149047],\n",
              "       [0.5451292 ],\n",
              "       [0.5091714 ],\n",
              "       [0.5811659 ],\n",
              "       [0.56314325],\n",
              "       [0.5241665 ],\n",
              "       [0.580338  ],\n",
              "       [0.42476392],\n",
              "       [0.50541127],\n",
              "       [0.45316875],\n",
              "       [0.5924448 ],\n",
              "       [0.4374112 ],\n",
              "       [0.5279176 ],\n",
              "       [0.43395984],\n",
              "       [0.54895246],\n",
              "       [0.48345214],\n",
              "       [0.5909496 ],\n",
              "       [0.45199087],\n",
              "       [0.54815996],\n",
              "       [0.57043344],\n",
              "       [0.43860063],\n",
              "       [0.5478075 ],\n",
              "       [0.5625587 ],\n",
              "       [0.49670544],\n",
              "       [0.57622385],\n",
              "       [0.579911  ],\n",
              "       [0.55485314],\n",
              "       [0.5226853 ],\n",
              "       [0.5757801 ],\n",
              "       [0.51800734],\n",
              "       [0.42757505],\n",
              "       [0.4571896 ],\n",
              "       [0.49070176],\n",
              "       [0.47734502],\n",
              "       [0.5413696 ],\n",
              "       [0.48993313],\n",
              "       [0.59416103],\n",
              "       [0.5816611 ],\n",
              "       [0.47265172],\n",
              "       [0.46162495],\n",
              "       [0.5880019 ],\n",
              "       [0.4394295 ],\n",
              "       [0.53935194],\n",
              "       [0.44701985],\n",
              "       [0.5384136 ],\n",
              "       [0.4260019 ],\n",
              "       [0.5822845 ],\n",
              "       [0.43848342],\n",
              "       [0.53554   ],\n",
              "       [0.44653267],\n",
              "       [0.5757949 ],\n",
              "       [0.5117269 ],\n",
              "       [0.42886308],\n",
              "       [0.5698687 ],\n",
              "       [0.57385075],\n",
              "       [0.4537276 ],\n",
              "       [0.47508204],\n",
              "       [0.48765892],\n",
              "       [0.44922623],\n",
              "       [0.5122082 ],\n",
              "       [0.510223  ],\n",
              "       [0.46065238],\n",
              "       [0.593346  ],\n",
              "       [0.4884542 ],\n",
              "       [0.44361073],\n",
              "       [0.44656277],\n",
              "       [0.5971812 ],\n",
              "       [0.5562652 ],\n",
              "       [0.5909832 ],\n",
              "       [0.53399414],\n",
              "       [0.5002395 ],\n",
              "       [0.4569834 ],\n",
              "       [0.48717728],\n",
              "       [0.5585155 ],\n",
              "       [0.5764532 ],\n",
              "       [0.57581955],\n",
              "       [0.53183126],\n",
              "       [0.58004826],\n",
              "       [0.572984  ],\n",
              "       [0.5755581 ],\n",
              "       [0.42920977],\n",
              "       [0.42476434],\n",
              "       [0.45908806],\n",
              "       [0.50414294],\n",
              "       [0.46693355],\n",
              "       [0.55771   ],\n",
              "       [0.6000333 ],\n",
              "       [0.58871686],\n",
              "       [0.5047681 ],\n",
              "       [0.5703927 ],\n",
              "       [0.4327618 ],\n",
              "       [0.58284473],\n",
              "       [0.4301408 ],\n",
              "       [0.50358284],\n",
              "       [0.5439694 ],\n",
              "       [0.55772656],\n",
              "       [0.50907254],\n",
              "       [0.4442756 ],\n",
              "       [0.44906402],\n",
              "       [0.4417928 ],\n",
              "       [0.45492473],\n",
              "       [0.5053832 ],\n",
              "       [0.5303123 ],\n",
              "       [0.5966822 ],\n",
              "       [0.47838593],\n",
              "       [0.54254   ],\n",
              "       [0.46648344],\n",
              "       [0.4294894 ],\n",
              "       [0.42180106],\n",
              "       [0.4581099 ],\n",
              "       [0.53953433],\n",
              "       [0.48775074],\n",
              "       [0.44989765],\n",
              "       [0.50975466],\n",
              "       [0.47801945],\n",
              "       [0.5437333 ],\n",
              "       [0.58083564],\n",
              "       [0.45984158],\n",
              "       [0.51094866],\n",
              "       [0.53845984],\n",
              "       [0.4410482 ],\n",
              "       [0.55239624],\n",
              "       [0.59165   ],\n",
              "       [0.4882002 ],\n",
              "       [0.45667934],\n",
              "       [0.56765586],\n",
              "       [0.50546193],\n",
              "       [0.43836743],\n",
              "       [0.4539932 ],\n",
              "       [0.46280602],\n",
              "       [0.49824104],\n",
              "       [0.5773184 ],\n",
              "       [0.51500744],\n",
              "       [0.4658016 ],\n",
              "       [0.5083835 ],\n",
              "       [0.5798921 ],\n",
              "       [0.59283775],\n",
              "       [0.53405035],\n",
              "       [0.57935673],\n",
              "       [0.4327127 ],\n",
              "       [0.5781549 ],\n",
              "       [0.46948016],\n",
              "       [0.504321  ],\n",
              "       [0.43172705],\n",
              "       [0.50351495],\n",
              "       [0.47557405],\n",
              "       [0.5594963 ],\n",
              "       [0.57146007],\n",
              "       [0.46931204],\n",
              "       [0.51078117],\n",
              "       [0.4238762 ],\n",
              "       [0.5978801 ],\n",
              "       [0.54721993],\n",
              "       [0.44617024],\n",
              "       [0.5977498 ],\n",
              "       [0.44126797],\n",
              "       [0.51207834],\n",
              "       [0.43089265],\n",
              "       [0.44354773],\n",
              "       [0.47890213],\n",
              "       [0.5512477 ],\n",
              "       [0.5191397 ],\n",
              "       [0.5796735 ],\n",
              "       [0.5794783 ],\n",
              "       [0.58041656],\n",
              "       [0.46594128],\n",
              "       [0.55025166],\n",
              "       [0.44920126],\n",
              "       [0.5408802 ],\n",
              "       [0.42601293],\n",
              "       [0.49259216],\n",
              "       [0.594151  ],\n",
              "       [0.4359263 ],\n",
              "       [0.5624651 ],\n",
              "       [0.55280656],\n",
              "       [0.4640881 ],\n",
              "       [0.5776483 ],\n",
              "       [0.52309096],\n",
              "       [0.55390733],\n",
              "       [0.55495304],\n",
              "       [0.46994308],\n",
              "       [0.42262742],\n",
              "       [0.55282646]], dtype=float32)"
            ]
          },
          "metadata": {},
          "execution_count": 17
        }
      ]
    },
    {
      "cell_type": "markdown",
      "source": [
        "To visualize our model's predictions, let's create a function `plot_decision_boundary()`, this function will: \n",
        "\n",
        "* Take in a trained model, features (X) and labels (y)\n",
        "* Create a meshgrid of the different X values\n",
        "* Make predictions across the meshgrid\n",
        "* Plot the predictios as well as a line between zones (where each unique class falls)\n"
      ],
      "metadata": {
        "id": "3g-kthGoOumZ"
      }
    },
    {
      "cell_type": "code",
      "source": [
        "import numpy as np\n",
        " \n",
        "def plot_decision_boundary(model, X, y):\n",
        "  \"\"\"\n",
        "  Plots the decision boundary created by a model predicting on X.\n",
        "  \"\"\"\n",
        "\n",
        "  # Define the axis boundaries of the plot and create a meshgrid\n",
        "  x_min, x_max = X[:, 0].min() - 0.1, X[:, 0].max() + 0.1\n",
        "  y_min, y_max = X[:, 0].min() - 0.1, X[:, 0].max() + 0.1\n",
        "  xx, yy = np.meshgrid(np.linspace(x_min, x_max, 100),\n",
        "                       np.linspace(y_min, y_max, 100))\n",
        "  \n",
        "  # Create X values (we're going to make prediction on these)\n",
        "  x_in = np.c_[xx.ravel(), yy.ravel()]\n",
        "\n",
        "  y_pred = model.predict(x_in)\n",
        "\n",
        "  # Check for multi_class\n",
        "  if len(y_pred[0]) > 1:\n",
        "    print(\"doing multiclass classification\")\n",
        "    # We have to reshape our predictoin to get them ready for plotting\n",
        "    y_pred = np.argmax(y_pred, axis=1).reshape(xx.shape)\n",
        "  else:\n",
        "    print(\"doing binary classification\")\n",
        "    y_pred = np.round(y_pred).reshape(xx.shape)\n",
        "\n",
        "  # Plot the decision boundary\n",
        "  plt.contourf(xx, yy, y_pred, cmap=plt.cm.RdYlBu, alpha=0.7)\n",
        "  plt.scatter(X[:, 0], X[:, 1], c=y, s=40, cmap=plt.cm.RdYlBu)\n",
        "  plt.xlim(xx.min(), xx.max())\n",
        "  plt.ylim(yy.min(), yy.max())\n",
        "  "
      ],
      "metadata": {
        "id": "RteZQKQ6PRgm"
      },
      "execution_count": 18,
      "outputs": []
    },
    {
      "cell_type": "code",
      "source": [
        "# Check out the predictions our model is making\n",
        "plot_decision_boundary(model=model_3,\n",
        "              X=X,\n",
        "              y=y)"
      ],
      "metadata": {
        "colab": {
          "base_uri": "https://localhost:8080/",
          "height": 301
        },
        "id": "7ejNQWW4PzYO",
        "outputId": "1aa79e37-0310-434f-e784-9cf8129e23a8"
      },
      "execution_count": 19,
      "outputs": [
        {
          "output_type": "stream",
          "name": "stdout",
          "text": [
            "313/313 [==============================] - 1s 2ms/step\n",
            "doing binary classification\n"
          ]
        },
        {
          "output_type": "display_data",
          "data": {
            "text/plain": [
              "<Figure size 432x288 with 1 Axes>"
            ],
            "image/png": "[encoded data removed]"
          },
          "metadata": {
            "needs_background": "light"
          }
        }
      ]
    },
    {
      "cell_type": "code",
      "source": [
        "# Let's see if our model can be used for a reqgression problem...\n",
        "\n",
        "\n",
        "\n",
        "# Set random seed\n",
        "tf.random.set_seed(42)\n",
        "\n",
        "# Create some regression data\n",
        "X_regression = np.arange(0, 1000, 5)\n",
        "y_regression = np.arange(100, 1100, 5)\n",
        "\n",
        "# Split it into training and test sets\n",
        "X_reg_train = X_regression[:150]\n",
        "X_reg_test = X_regression[150:]\n",
        "y_reg_train = y_regression[:150]\n",
        "y_reg_test = y_regression[150:]\n",
        "\n",
        "# Fit our model to the data\n",
        "# Note: Before TensorFlow 2.7.0, this line would work\n",
        "# model_3.fit(X_reg_train, y_reg_train, epochs=100)\n",
        "\n",
        "# After TensorFlow 2.7.0, see here for more: https://github.com/mrdbourke/tensorflow-deep-learning/discussions/278\n",
        "model_3.fit(tf.expand_dims(X_reg_train, axis=-1), \n",
        "            y_reg_train,\n",
        "            epochs=100)"
      ],
      "metadata": {
        "colab": {
          "base_uri": "https://localhost:8080/",
          "height": 818
        },
        "id": "JZv6uWX_RgpF",
        "outputId": "e8a5217a-d572-493e-b2bb-2277f900912b"
      },
      "execution_count": 20,
      "outputs": [
        {
          "output_type": "stream",
          "name": "stdout",
          "text": [
            "Epoch 1/100\n"
          ]
        },
        {
          "output_type": "error",
          "ename": "ValueError",
          "evalue": "ignored",
          "traceback": [
            "\u001b[0;31m---------------------------------------------------------------------------\u001b[0m",
            "\u001b[0;31mValueError\u001b[0m                                Traceback (most recent call last)",
            "\u001b[0;32m<ipython-input-20-58974075c371>\u001b[0m in \u001b[0;36m<module>\u001b[0;34m\u001b[0m\n\u001b[1;32m     21\u001b[0m \u001b[0;34m\u001b[0m\u001b[0m\n\u001b[1;32m     22\u001b[0m \u001b[0;31m# After TensorFlow 2.7.0, see here for more: https://github.com/mrdbourke/tensorflow-deep-learning/discussions/278\u001b[0m\u001b[0;34m\u001b[0m\u001b[0;34m\u001b[0m\u001b[0;34m\u001b[0m\u001b[0m\n\u001b[0;32m---> 23\u001b[0;31m model_3.fit(tf.expand_dims(X_reg_train, axis=-1), \n\u001b[0m\u001b[1;32m     24\u001b[0m             \u001b[0my_reg_train\u001b[0m\u001b[0;34m,\u001b[0m\u001b[0;34m\u001b[0m\u001b[0;34m\u001b[0m\u001b[0m\n\u001b[1;32m     25\u001b[0m             epochs=100)\n",
            "\u001b[0;32m/usr/local/lib/python3.8/dist-packages/keras/utils/traceback_utils.py\u001b[0m in \u001b[0;36merror_handler\u001b[0;34m(*args, **kwargs)\u001b[0m\n\u001b[1;32m     68\u001b[0m             \u001b[0;31m# To get the full stack trace, call:\u001b[0m\u001b[0;34m\u001b[0m\u001b[0;34m\u001b[0m\u001b[0;34m\u001b[0m\u001b[0m\n\u001b[1;32m     69\u001b[0m             \u001b[0;31m# `tf.debugging.disable_traceback_filtering()`\u001b[0m\u001b[0;34m\u001b[0m\u001b[0;34m\u001b[0m\u001b[0;34m\u001b[0m\u001b[0m\n\u001b[0;32m---> 70\u001b[0;31m             \u001b[0;32mraise\u001b[0m \u001b[0me\u001b[0m\u001b[0;34m.\u001b[0m\u001b[0mwith_traceback\u001b[0m\u001b[0;34m(\u001b[0m\u001b[0mfiltered_tb\u001b[0m\u001b[0;34m)\u001b[0m \u001b[0;32mfrom\u001b[0m \u001b[0;32mNone\u001b[0m\u001b[0;34m\u001b[0m\u001b[0;34m\u001b[0m\u001b[0m\n\u001b[0m\u001b[1;32m     71\u001b[0m         \u001b[0;32mfinally\u001b[0m\u001b[0;34m:\u001b[0m\u001b[0;34m\u001b[0m\u001b[0;34m\u001b[0m\u001b[0m\n\u001b[1;32m     72\u001b[0m             \u001b[0;32mdel\u001b[0m \u001b[0mfiltered_tb\u001b[0m\u001b[0;34m\u001b[0m\u001b[0;34m\u001b[0m\u001b[0m\n",
            "\u001b[0;32m/usr/local/lib/python3.8/dist-packages/keras/engine/training.py\u001b[0m in \u001b[0;36mtf__train_function\u001b[0;34m(iterator)\u001b[0m\n\u001b[1;32m     13\u001b[0m                 \u001b[0;32mtry\u001b[0m\u001b[0;34m:\u001b[0m\u001b[0;34m\u001b[0m\u001b[0;34m\u001b[0m\u001b[0m\n\u001b[1;32m     14\u001b[0m                     \u001b[0mdo_return\u001b[0m \u001b[0;34m=\u001b[0m \u001b[0;32mTrue\u001b[0m\u001b[0;34m\u001b[0m\u001b[0;34m\u001b[0m\u001b[0m\n\u001b[0;32m---> 15\u001b[0;31m                     \u001b[0mretval_\u001b[0m \u001b[0;34m=\u001b[0m \u001b[0mag__\u001b[0m\u001b[0;34m.\u001b[0m\u001b[0mconverted_call\u001b[0m\u001b[0;34m(\u001b[0m\u001b[0mag__\u001b[0m\u001b[0;34m.\u001b[0m\u001b[0mld\u001b[0m\u001b[0;34m(\u001b[0m\u001b[0mstep_function\u001b[0m\u001b[0;34m)\u001b[0m\u001b[0;34m,\u001b[0m \u001b[0;34m(\u001b[0m\u001b[0mag__\u001b[0m\u001b[0;34m.\u001b[0m\u001b[0mld\u001b[0m\u001b[0;34m(\u001b[0m\u001b[0mself\u001b[0m\u001b[0;34m)\u001b[0m\u001b[0;34m,\u001b[0m \u001b[0mag__\u001b[0m\u001b[0;34m.\u001b[0m\u001b[0mld\u001b[0m\u001b[0;34m(\u001b[0m\u001b[0miterator\u001b[0m\u001b[0;34m)\u001b[0m\u001b[0;34m)\u001b[0m\u001b[0;34m,\u001b[0m \u001b[0;32mNone\u001b[0m\u001b[0;34m,\u001b[0m \u001b[0mfscope\u001b[0m\u001b[0;34m)\u001b[0m\u001b[0;34m\u001b[0m\u001b[0;34m\u001b[0m\u001b[0m\n\u001b[0m\u001b[1;32m     16\u001b[0m                 \u001b[0;32mexcept\u001b[0m\u001b[0;34m:\u001b[0m\u001b[0;34m\u001b[0m\u001b[0;34m\u001b[0m\u001b[0m\n\u001b[1;32m     17\u001b[0m                     \u001b[0mdo_return\u001b[0m \u001b[0;34m=\u001b[0m \u001b[0;32mFalse\u001b[0m\u001b[0;34m\u001b[0m\u001b[0;34m\u001b[0m\u001b[0m\n",
            "\u001b[0;31mValueError\u001b[0m: in user code:\n\n    File \"/usr/local/lib/python3.8/dist-packages/keras/engine/training.py\", line 1249, in train_function  *\n        return step_function(self, iterator)\n    File \"/usr/local/lib/python3.8/dist-packages/keras/engine/training.py\", line 1233, in step_function  **\n        outputs = model.distribute_strategy.run(run_step, args=(data,))\n    File \"/usr/local/lib/python3.8/dist-packages/keras/engine/training.py\", line 1222, in run_step  **\n        outputs = model.train_step(data)\n    File \"/usr/local/lib/python3.8/dist-packages/keras/engine/training.py\", line 1023, in train_step\n        y_pred = self(x, training=True)\n    File \"/usr/local/lib/python3.8/dist-packages/keras/utils/traceback_utils.py\", line 70, in error_handler\n        raise e.with_traceback(filtered_tb) from None\n    File \"/usr/local/lib/python3.8/dist-packages/keras/engine/input_spec.py\", line 277, in assert_input_compatibility\n        raise ValueError(\n\n    ValueError: Exception encountered when calling layer 'sequential_2' (type Sequential).\n    \n    Input 0 of layer \"dense_3\" is incompatible with the layer: expected axis -1 of input shape to have value 2, but received input with shape (None, 1)\n    \n    Call arguments received by layer 'sequential_2' (type Sequential):\n      • inputs=tf.Tensor(shape=(None, 1), dtype=int64)\n      • training=True\n      • mask=None\n"
          ]
        }
      ]
    },
    {
      "cell_type": "markdown",
      "source": [
        "Oh wait... we compiled our umodel for a binary classification problem.\n",
        "\n",
        "But... we're now working on a regression problem, let's change the model to suit our data."
      ],
      "metadata": {
        "id": "4WHqTOFAjP1l"
      }
    },
    {
      "cell_type": "code",
      "source": [
        "# Setup random seed\n",
        "tf.random.set_seed(42)\n",
        "\n",
        "# Recreate the model\n",
        "model_3 = tf.keras.Sequential([\n",
        "  tf.keras.layers.Dense(100),\n",
        "  tf.keras.layers.Dense(10),\n",
        "  tf.keras.layers.Dense(1)\n",
        "])\n",
        "\n",
        "# Change the loss and metrics of our compiled model\n",
        "model_3.compile(loss=tf.keras.losses.mae, # change the loss function to be regression-specific\n",
        "                optimizer=tf.keras.optimizers.Adam(),\n",
        "                metrics=['mae']) # change the metric to be regression-specific\n",
        "\n",
        "# Fit the recompiled model\n",
        "model_3.fit(tf.expand_dims(X_reg_train, axis=-1), \n",
        "            y_reg_train, \n",
        "            epochs=100)"
      ],
      "metadata": {
        "colab": {
          "base_uri": "https://localhost:8080/"
        },
        "id": "bsh81efSj4yx",
        "outputId": "d0a8c9db-8e4c-4c46-ebe2-0a5cc1139460"
      },
      "execution_count": 22,
      "outputs": [
        {
          "output_type": "stream",
          "name": "stdout",
          "text": [
            "Epoch 1/100\n",
            "5/5 [==============================] - 1s 6ms/step - loss: 272.9734 - mae: 272.9734\n",
            "Epoch 2/100\n",
            "5/5 [==============================] - 0s 5ms/step - loss: 154.8835 - mae: 154.8835\n",
            "Epoch 3/100\n",
            "5/5 [==============================] - 0s 4ms/step - loss: 56.8935 - mae: 56.8935\n",
            "Epoch 4/100\n",
            "5/5 [==============================] - 0s 6ms/step - loss: 75.6991 - mae: 75.6991\n",
            "Epoch 5/100\n",
            "5/5 [==============================] - 0s 4ms/step - loss: 73.3863 - mae: 73.3863\n",
            "Epoch 6/100\n",
            "5/5 [==============================] - 0s 4ms/step - loss: 46.6722 - mae: 46.6722\n",
            "Epoch 7/100\n",
            "5/5 [==============================] - 0s 6ms/step - loss: 46.5824 - mae: 46.5824\n",
            "Epoch 8/100\n",
            "5/5 [==============================] - 0s 6ms/step - loss: 41.7901 - mae: 41.7901\n",
            "Epoch 9/100\n",
            "5/5 [==============================] - 0s 5ms/step - loss: 42.5627 - mae: 42.5627\n",
            "Epoch 10/100\n",
            "5/5 [==============================] - 0s 5ms/step - loss: 41.9041 - mae: 41.9041\n",
            "Epoch 11/100\n",
            "5/5 [==============================] - 0s 5ms/step - loss: 41.9609 - mae: 41.9609\n",
            "Epoch 12/100\n",
            "5/5 [==============================] - 0s 5ms/step - loss: 41.1696 - mae: 41.1696\n",
            "Epoch 13/100\n",
            "5/5 [==============================] - 0s 4ms/step - loss: 41.8131 - mae: 41.8131\n",
            "Epoch 14/100\n",
            "5/5 [==============================] - 0s 4ms/step - loss: 41.4644 - mae: 41.4644\n",
            "Epoch 15/100\n",
            "5/5 [==============================] - 0s 6ms/step - loss: 41.4126 - mae: 41.4126\n",
            "Epoch 16/100\n",
            "5/5 [==============================] - 0s 6ms/step - loss: 41.2493 - mae: 41.2493\n",
            "Epoch 17/100\n",
            "5/5 [==============================] - 0s 4ms/step - loss: 41.3921 - mae: 41.3921\n",
            "Epoch 18/100\n",
            "5/5 [==============================] - 0s 5ms/step - loss: 41.4838 - mae: 41.4838\n",
            "Epoch 19/100\n",
            "5/5 [==============================] - 0s 4ms/step - loss: 41.0760 - mae: 41.0760\n",
            "Epoch 20/100\n",
            "5/5 [==============================] - 0s 5ms/step - loss: 41.1582 - mae: 41.1582\n",
            "Epoch 21/100\n",
            "5/5 [==============================] - 0s 6ms/step - loss: 41.1021 - mae: 41.1021\n",
            "Epoch 22/100\n",
            "5/5 [==============================] - 0s 4ms/step - loss: 41.3017 - mae: 41.3017\n",
            "Epoch 23/100\n",
            "5/5 [==============================] - 0s 4ms/step - loss: 41.1126 - mae: 41.1126\n",
            "Epoch 24/100\n",
            "5/5 [==============================] - 0s 5ms/step - loss: 41.1114 - mae: 41.1114\n",
            "Epoch 25/100\n",
            "5/5 [==============================] - 0s 4ms/step - loss: 41.0767 - mae: 41.0767\n",
            "Epoch 26/100\n",
            "5/5 [==============================] - 0s 5ms/step - loss: 40.8796 - mae: 40.8796\n",
            "Epoch 27/100\n",
            "5/5 [==============================] - 0s 5ms/step - loss: 41.0757 - mae: 41.0757\n",
            "Epoch 28/100\n",
            "5/5 [==============================] - 0s 5ms/step - loss: 41.0577 - mae: 41.0577\n",
            "Epoch 29/100\n",
            "5/5 [==============================] - 0s 5ms/step - loss: 41.0399 - mae: 41.0399\n",
            "Epoch 30/100\n",
            "5/5 [==============================] - 0s 4ms/step - loss: 40.8219 - mae: 40.8219\n",
            "Epoch 31/100\n",
            "5/5 [==============================] - 0s 5ms/step - loss: 41.4036 - mae: 41.4036\n",
            "Epoch 32/100\n",
            "5/5 [==============================] - 0s 5ms/step - loss: 41.0430 - mae: 41.0430\n",
            "Epoch 33/100\n",
            "5/5 [==============================] - 0s 5ms/step - loss: 41.0618 - mae: 41.0618\n",
            "Epoch 34/100\n",
            "5/5 [==============================] - 0s 7ms/step - loss: 41.2188 - mae: 41.2188\n",
            "Epoch 35/100\n",
            "5/5 [==============================] - 0s 5ms/step - loss: 40.6098 - mae: 40.6098\n",
            "Epoch 36/100\n",
            "5/5 [==============================] - 0s 4ms/step - loss: 41.1243 - mae: 41.1243\n",
            "Epoch 37/100\n",
            "5/5 [==============================] - 0s 4ms/step - loss: 40.6319 - mae: 40.6319\n",
            "Epoch 38/100\n",
            "5/5 [==============================] - 0s 5ms/step - loss: 40.4289 - mae: 40.4289\n",
            "Epoch 39/100\n",
            "5/5 [==============================] - 0s 5ms/step - loss: 40.6248 - mae: 40.6248\n",
            "Epoch 40/100\n",
            "5/5 [==============================] - 0s 4ms/step - loss: 40.4757 - mae: 40.4757\n",
            "Epoch 41/100\n",
            "5/5 [==============================] - 0s 5ms/step - loss: 40.4367 - mae: 40.4367\n",
            "Epoch 42/100\n",
            "5/5 [==============================] - 0s 6ms/step - loss: 40.4130 - mae: 40.4130\n",
            "Epoch 43/100\n",
            "5/5 [==============================] - 0s 5ms/step - loss: 40.4836 - mae: 40.4836\n",
            "Epoch 44/100\n",
            "5/5 [==============================] - 0s 5ms/step - loss: 40.3147 - mae: 40.3147\n",
            "Epoch 45/100\n",
            "5/5 [==============================] - 0s 5ms/step - loss: 40.3374 - mae: 40.3374\n",
            "Epoch 46/100\n",
            "5/5 [==============================] - 0s 6ms/step - loss: 40.3579 - mae: 40.3579\n",
            "Epoch 47/100\n",
            "5/5 [==============================] - 0s 5ms/step - loss: 40.2152 - mae: 40.2152\n",
            "Epoch 48/100\n",
            "5/5 [==============================] - 0s 4ms/step - loss: 40.2437 - mae: 40.2437\n",
            "Epoch 49/100\n",
            "5/5 [==============================] - 0s 5ms/step - loss: 41.0131 - mae: 41.0131\n",
            "Epoch 50/100\n",
            "5/5 [==============================] - 0s 5ms/step - loss: 40.4457 - mae: 40.4457\n",
            "Epoch 51/100\n",
            "5/5 [==============================] - 0s 5ms/step - loss: 40.7622 - mae: 40.7622\n",
            "Epoch 52/100\n",
            "5/5 [==============================] - 0s 4ms/step - loss: 41.4260 - mae: 41.4260\n",
            "Epoch 53/100\n",
            "5/5 [==============================] - 0s 7ms/step - loss: 41.3544 - mae: 41.3544\n",
            "Epoch 54/100\n",
            "5/5 [==============================] - 0s 5ms/step - loss: 41.2665 - mae: 41.2665\n",
            "Epoch 55/100\n",
            "5/5 [==============================] - 0s 4ms/step - loss: 41.7420 - mae: 41.7420\n",
            "Epoch 56/100\n",
            "5/5 [==============================] - 0s 5ms/step - loss: 42.5301 - mae: 42.5301\n",
            "Epoch 57/100\n",
            "5/5 [==============================] - 0s 4ms/step - loss: 41.0330 - mae: 41.0330\n",
            "Epoch 58/100\n",
            "5/5 [==============================] - 0s 5ms/step - loss: 40.2755 - mae: 40.2755\n",
            "Epoch 59/100\n",
            "5/5 [==============================] - 0s 7ms/step - loss: 41.2534 - mae: 41.2534\n",
            "Epoch 60/100\n",
            "5/5 [==============================] - 0s 4ms/step - loss: 40.0842 - mae: 40.0842\n",
            "Epoch 61/100\n",
            "5/5 [==============================] - 0s 4ms/step - loss: 39.5117 - mae: 39.5117\n",
            "Epoch 62/100\n",
            "5/5 [==============================] - 0s 8ms/step - loss: 40.5680 - mae: 40.5680\n",
            "Epoch 63/100\n",
            "5/5 [==============================] - 0s 5ms/step - loss: 40.0191 - mae: 40.0191\n",
            "Epoch 64/100\n",
            "5/5 [==============================] - 0s 5ms/step - loss: 39.7298 - mae: 39.7298\n",
            "Epoch 65/100\n",
            "5/5 [==============================] - 0s 4ms/step - loss: 40.1404 - mae: 40.1404\n",
            "Epoch 66/100\n",
            "5/5 [==============================] - 0s 5ms/step - loss: 39.9574 - mae: 39.9574\n",
            "Epoch 67/100\n",
            "5/5 [==============================] - 0s 5ms/step - loss: 39.9690 - mae: 39.9690\n",
            "Epoch 68/100\n",
            "5/5 [==============================] - 0s 5ms/step - loss: 39.7039 - mae: 39.7039\n",
            "Epoch 69/100\n",
            "5/5 [==============================] - 0s 6ms/step - loss: 39.8709 - mae: 39.8709\n",
            "Epoch 70/100\n",
            "5/5 [==============================] - 0s 5ms/step - loss: 40.2384 - mae: 40.2384\n",
            "Epoch 71/100\n",
            "5/5 [==============================] - 0s 5ms/step - loss: 40.4491 - mae: 40.4491\n",
            "Epoch 72/100\n",
            "5/5 [==============================] - 0s 5ms/step - loss: 39.1800 - mae: 39.1800\n",
            "Epoch 73/100\n",
            "5/5 [==============================] - 0s 4ms/step - loss: 39.7896 - mae: 39.7896\n",
            "Epoch 74/100\n",
            "5/5 [==============================] - 0s 5ms/step - loss: 39.3215 - mae: 39.3215\n",
            "Epoch 75/100\n",
            "5/5 [==============================] - 0s 4ms/step - loss: 39.6793 - mae: 39.6793\n",
            "Epoch 76/100\n",
            "5/5 [==============================] - 0s 6ms/step - loss: 39.5207 - mae: 39.5207\n",
            "Epoch 77/100\n",
            "5/5 [==============================] - 0s 5ms/step - loss: 38.9348 - mae: 38.9348\n",
            "Epoch 78/100\n",
            "5/5 [==============================] - 0s 4ms/step - loss: 39.5482 - mae: 39.5482\n",
            "Epoch 79/100\n",
            "5/5 [==============================] - 0s 4ms/step - loss: 39.3325 - mae: 39.3325\n",
            "Epoch 80/100\n",
            "5/5 [==============================] - 0s 5ms/step - loss: 38.8635 - mae: 38.8635\n",
            "Epoch 81/100\n",
            "5/5 [==============================] - 0s 5ms/step - loss: 39.0390 - mae: 39.0390\n",
            "Epoch 82/100\n",
            "5/5 [==============================] - 0s 5ms/step - loss: 38.9037 - mae: 38.9037\n",
            "Epoch 83/100\n",
            "5/5 [==============================] - 0s 14ms/step - loss: 38.9892 - mae: 38.9892\n",
            "Epoch 84/100\n",
            "5/5 [==============================] - 0s 22ms/step - loss: 38.8252 - mae: 38.8252\n",
            "Epoch 85/100\n",
            "5/5 [==============================] - 0s 20ms/step - loss: 38.9221 - mae: 38.9221\n",
            "Epoch 86/100\n",
            "5/5 [==============================] - 0s 11ms/step - loss: 38.5472 - mae: 38.5472\n",
            "Epoch 87/100\n",
            "5/5 [==============================] - 0s 12ms/step - loss: 38.8528 - mae: 38.8528\n",
            "Epoch 88/100\n",
            "5/5 [==============================] - 0s 17ms/step - loss: 38.6198 - mae: 38.6198\n",
            "Epoch 89/100\n",
            "5/5 [==============================] - 0s 15ms/step - loss: 38.6195 - mae: 38.6195\n",
            "Epoch 90/100\n",
            "5/5 [==============================] - 0s 20ms/step - loss: 38.4117 - mae: 38.4117\n",
            "Epoch 91/100\n",
            "5/5 [==============================] - 0s 13ms/step - loss: 38.3161 - mae: 38.3161\n",
            "Epoch 92/100\n",
            "5/5 [==============================] - 0s 9ms/step - loss: 38.4458 - mae: 38.4458\n",
            "Epoch 93/100\n",
            "5/5 [==============================] - 0s 11ms/step - loss: 38.8263 - mae: 38.8263\n",
            "Epoch 94/100\n",
            "5/5 [==============================] - 0s 15ms/step - loss: 38.1141 - mae: 38.1141\n",
            "Epoch 95/100\n",
            "5/5 [==============================] - 0s 9ms/step - loss: 38.1964 - mae: 38.1964\n",
            "Epoch 96/100\n",
            "5/5 [==============================] - 0s 5ms/step - loss: 38.6460 - mae: 38.6460\n",
            "Epoch 97/100\n",
            "5/5 [==============================] - 0s 5ms/step - loss: 38.1942 - mae: 38.1942\n",
            "Epoch 98/100\n",
            "5/5 [==============================] - 0s 5ms/step - loss: 38.5578 - mae: 38.5578\n",
            "Epoch 99/100\n",
            "5/5 [==============================] - 0s 5ms/step - loss: 38.4365 - mae: 38.4365\n",
            "Epoch 100/100\n",
            "5/5 [==============================] - 0s 7ms/step - loss: 37.9052 - mae: 37.9052\n"
          ]
        },
        {
          "output_type": "execute_result",
          "data": {
            "text/plain": [
              "<keras.callbacks.History at 0x7f410e810d00>"
            ]
          },
          "metadata": {},
          "execution_count": 22
        }
      ]
    },
    {
      "cell_type": "code",
      "source": [
        "\n",
        "# Make predictions with our trained model\n",
        "y_reg_preds = model_3.predict(y_reg_test)\n",
        "\n",
        "# Plot the model's predictions against our regression data\n",
        "plt.figure(figsize=(10, 7))\n",
        "plt.scatter(X_reg_train, y_reg_train, c='b', label='Training data')\n",
        "plt.scatter(X_reg_test, y_reg_test, c='g', label='Testing data')\n",
        "plt.scatter(X_reg_test, y_reg_preds.squeeze(), c='r', label='Predictions')\n",
        "plt.legend();"
      ],
      "metadata": {
        "id": "LaD9Kobjkjfi",
        "colab": {
          "base_uri": "https://localhost:8080/",
          "height": 446
        },
        "outputId": "573d91be-513e-4928-e24c-79980963879f"
      },
      "execution_count": 23,
      "outputs": [
        {
          "output_type": "stream",
          "name": "stdout",
          "text": [
            "2/2 [==============================] - 0s 7ms/step\n"
          ]
        },
        {
          "output_type": "display_data",
          "data": {
            "text/plain": [
              "<Figure size 720x504 with 1 Axes>"
            ],
            "image/png": "[encoded data removed]"
          },
          "metadata": {
            "needs_background": "light"
          }
        }
      ]
    },
    {
      "cell_type": "markdown",
      "source": [
        "## The missing piece: Non-linearity"
      ],
      "metadata": {
        "id": "Ypga9JUIlPac"
      }
    },
    {
      "cell_type": "code",
      "source": [
        "# Set the random seed\n",
        "tf.random.set_seed(42)\n",
        "\n",
        "# 1. Create the model\n",
        "model_4 = tf.keras.Sequential([\n",
        "    tf.keras.layers.Dense(1, activation=tf.keras.activations.linear)\n",
        "])\n",
        "\n",
        "# 2. Compile the model\n",
        "model_4.compile(loss = \"binary_crossentropy\",\n",
        "                optimizer=tf.keras.optimizers.Adam(lr=0.001),\n",
        "                metrics=[\"accuracy\"])\n",
        "\n",
        "# 3. Fit the model\n",
        "history = model_4.fit(X, y, epochs=100)"
      ],
      "metadata": {
        "colab": {
          "base_uri": "https://localhost:8080/"
        },
        "id": "MdT40yZpnx0K",
        "outputId": "5b9916ae-1a11-42ea-cc86-254ecd4d185c"
      },
      "execution_count": 24,
      "outputs": [
        {
          "output_type": "stream",
          "name": "stderr",
          "text": [
            "WARNING:absl:`lr` is deprecated, please use `learning_rate` instead, or use the legacy optimizer, e.g.,tf.keras.optimizers.legacy.Adam.\n"
          ]
        },
        {
          "output_type": "stream",
          "name": "stdout",
          "text": [
            "Epoch 1/100\n",
            "32/32 [==============================] - 1s 3ms/step - loss: 6.0391 - accuracy: 0.4830\n",
            "Epoch 2/100\n",
            "32/32 [==============================] - 0s 3ms/step - loss: 5.9916 - accuracy: 0.4830\n",
            "Epoch 3/100\n",
            "32/32 [==============================] - 0s 3ms/step - loss: 5.9858 - accuracy: 0.4830\n",
            "Epoch 4/100\n",
            "32/32 [==============================] - 0s 3ms/step - loss: 5.9849 - accuracy: 0.4830\n",
            "Epoch 5/100\n",
            "32/32 [==============================] - 0s 3ms/step - loss: 5.9840 - accuracy: 0.4830\n",
            "Epoch 6/100\n",
            "32/32 [==============================] - 0s 2ms/step - loss: 5.9832 - accuracy: 0.4840\n",
            "Epoch 7/100\n",
            "32/32 [==============================] - 0s 2ms/step - loss: 5.9823 - accuracy: 0.4840\n",
            "Epoch 8/100\n",
            "32/32 [==============================] - 0s 3ms/step - loss: 5.9814 - accuracy: 0.4840\n",
            "Epoch 9/100\n",
            "32/32 [==============================] - 0s 3ms/step - loss: 5.9806 - accuracy: 0.4840\n",
            "Epoch 10/100\n",
            "32/32 [==============================] - 0s 3ms/step - loss: 5.9798 - accuracy: 0.4840\n",
            "Epoch 11/100\n",
            "32/32 [==============================] - 0s 3ms/step - loss: 5.9790 - accuracy: 0.4840\n",
            "Epoch 12/100\n",
            "32/32 [==============================] - 0s 3ms/step - loss: 5.9781 - accuracy: 0.4840\n",
            "Epoch 13/100\n",
            "32/32 [==============================] - 0s 3ms/step - loss: 5.9773 - accuracy: 0.4840\n",
            "Epoch 14/100\n",
            "32/32 [==============================] - 0s 2ms/step - loss: 5.9765 - accuracy: 0.4840\n",
            "Epoch 15/100\n",
            "32/32 [==============================] - 0s 2ms/step - loss: 5.9757 - accuracy: 0.4840\n",
            "Epoch 16/100\n",
            "32/32 [==============================] - 0s 3ms/step - loss: 5.9749 - accuracy: 0.4840\n",
            "Epoch 17/100\n",
            "32/32 [==============================] - 0s 2ms/step - loss: 5.9725 - accuracy: 0.4800\n",
            "Epoch 18/100\n",
            "32/32 [==============================] - 0s 3ms/step - loss: 5.9578 - accuracy: 0.4810\n",
            "Epoch 19/100\n",
            "32/32 [==============================] - 0s 3ms/step - loss: 5.9562 - accuracy: 0.4810\n",
            "Epoch 20/100\n",
            "32/32 [==============================] - 0s 2ms/step - loss: 5.9556 - accuracy: 0.4810\n",
            "Epoch 21/100\n",
            "32/32 [==============================] - 0s 2ms/step - loss: 5.9550 - accuracy: 0.4810\n",
            "Epoch 22/100\n",
            "32/32 [==============================] - 0s 2ms/step - loss: 5.9546 - accuracy: 0.4810\n",
            "Epoch 23/100\n",
            "32/32 [==============================] - 0s 2ms/step - loss: 5.9470 - accuracy: 0.4810\n",
            "Epoch 24/100\n",
            "32/32 [==============================] - 0s 3ms/step - loss: 5.9137 - accuracy: 0.4790\n",
            "Epoch 25/100\n",
            "32/32 [==============================] - 0s 3ms/step - loss: 5.9039 - accuracy: 0.4800\n",
            "Epoch 26/100\n",
            "32/32 [==============================] - 0s 2ms/step - loss: 5.8743 - accuracy: 0.4810\n",
            "Epoch 27/100\n",
            "32/32 [==============================] - 0s 3ms/step - loss: 5.8612 - accuracy: 0.4810\n",
            "Epoch 28/100\n",
            "32/32 [==============================] - 0s 2ms/step - loss: 5.8365 - accuracy: 0.4810\n",
            "Epoch 29/100\n",
            "32/32 [==============================] - 0s 3ms/step - loss: 5.8306 - accuracy: 0.4820\n",
            "Epoch 30/100\n",
            "32/32 [==============================] - 0s 3ms/step - loss: 5.8290 - accuracy: 0.4820\n",
            "Epoch 31/100\n",
            "32/32 [==============================] - 0s 2ms/step - loss: 5.8278 - accuracy: 0.4820\n",
            "Epoch 32/100\n",
            "32/32 [==============================] - 0s 3ms/step - loss: 5.8266 - accuracy: 0.4820\n",
            "Epoch 33/100\n",
            "32/32 [==============================] - 0s 2ms/step - loss: 5.8256 - accuracy: 0.4820\n",
            "Epoch 34/100\n",
            "32/32 [==============================] - 0s 3ms/step - loss: 5.8248 - accuracy: 0.4820\n",
            "Epoch 35/100\n",
            "32/32 [==============================] - 0s 3ms/step - loss: 5.8237 - accuracy: 0.4820\n",
            "Epoch 36/100\n",
            "32/32 [==============================] - 0s 3ms/step - loss: 5.8230 - accuracy: 0.4820\n",
            "Epoch 37/100\n",
            "32/32 [==============================] - 0s 3ms/step - loss: 5.8144 - accuracy: 0.4830\n",
            "Epoch 38/100\n",
            "32/32 [==============================] - 0s 2ms/step - loss: 5.8000 - accuracy: 0.4840\n",
            "Epoch 39/100\n",
            "32/32 [==============================] - 0s 3ms/step - loss: 5.7995 - accuracy: 0.4840\n",
            "Epoch 40/100\n",
            "32/32 [==============================] - 0s 3ms/step - loss: 5.7984 - accuracy: 0.4840\n",
            "Epoch 41/100\n",
            "32/32 [==============================] - 0s 3ms/step - loss: 5.7974 - accuracy: 0.4840\n",
            "Epoch 42/100\n",
            "32/32 [==============================] - 0s 2ms/step - loss: 5.7965 - accuracy: 0.4840\n",
            "Epoch 43/100\n",
            "32/32 [==============================] - 0s 3ms/step - loss: 5.7957 - accuracy: 0.4840\n",
            "Epoch 44/100\n",
            "32/32 [==============================] - 0s 4ms/step - loss: 5.7950 - accuracy: 0.4840\n",
            "Epoch 45/100\n",
            "32/32 [==============================] - 0s 5ms/step - loss: 5.7942 - accuracy: 0.4840\n",
            "Epoch 46/100\n",
            "32/32 [==============================] - 0s 4ms/step - loss: 5.7935 - accuracy: 0.4840\n",
            "Epoch 47/100\n",
            "32/32 [==============================] - 0s 4ms/step - loss: 5.7929 - accuracy: 0.4840\n",
            "Epoch 48/100\n",
            "32/32 [==============================] - 0s 4ms/step - loss: 5.7922 - accuracy: 0.4840\n",
            "Epoch 49/100\n",
            "32/32 [==============================] - 0s 4ms/step - loss: 5.7915 - accuracy: 0.4840\n",
            "Epoch 50/100\n",
            "32/32 [==============================] - 0s 4ms/step - loss: 5.7671 - accuracy: 0.4830\n",
            "Epoch 51/100\n",
            "32/32 [==============================] - 0s 3ms/step - loss: 5.7629 - accuracy: 0.4810\n",
            "Epoch 52/100\n",
            "32/32 [==============================] - 0s 4ms/step - loss: 5.7386 - accuracy: 0.4820\n",
            "Epoch 53/100\n",
            "32/32 [==============================] - 0s 3ms/step - loss: 5.7248 - accuracy: 0.4830\n",
            "Epoch 54/100\n",
            "32/32 [==============================] - 0s 4ms/step - loss: 5.6936 - accuracy: 0.4820\n",
            "Epoch 55/100\n",
            "32/32 [==============================] - 0s 4ms/step - loss: 5.6875 - accuracy: 0.4810\n",
            "Epoch 56/100\n",
            "32/32 [==============================] - 0s 3ms/step - loss: 5.6854 - accuracy: 0.4810\n",
            "Epoch 57/100\n",
            "32/32 [==============================] - 0s 4ms/step - loss: 5.6839 - accuracy: 0.4810\n",
            "Epoch 58/100\n",
            "32/32 [==============================] - 0s 4ms/step - loss: 5.6825 - accuracy: 0.4810\n",
            "Epoch 59/100\n",
            "32/32 [==============================] - 0s 4ms/step - loss: 5.6816 - accuracy: 0.4810\n",
            "Epoch 60/100\n",
            "32/32 [==============================] - 0s 4ms/step - loss: 5.6723 - accuracy: 0.4810\n",
            "Epoch 61/100\n",
            "32/32 [==============================] - 0s 3ms/step - loss: 5.6701 - accuracy: 0.4820\n",
            "Epoch 62/100\n",
            "32/32 [==============================] - 0s 5ms/step - loss: 5.6645 - accuracy: 0.4820\n",
            "Epoch 63/100\n",
            "32/32 [==============================] - 0s 4ms/step - loss: 5.6634 - accuracy: 0.4820\n",
            "Epoch 64/100\n",
            "32/32 [==============================] - 0s 4ms/step - loss: 5.6624 - accuracy: 0.4820\n",
            "Epoch 65/100\n",
            "32/32 [==============================] - 0s 4ms/step - loss: 5.6617 - accuracy: 0.4820\n",
            "Epoch 66/100\n",
            "32/32 [==============================] - 0s 3ms/step - loss: 5.6607 - accuracy: 0.4820\n",
            "Epoch 67/100\n",
            "32/32 [==============================] - 0s 4ms/step - loss: 5.6599 - accuracy: 0.4820\n",
            "Epoch 68/100\n",
            "32/32 [==============================] - 0s 4ms/step - loss: 5.6591 - accuracy: 0.4820\n",
            "Epoch 69/100\n",
            "32/32 [==============================] - 0s 4ms/step - loss: 5.6584 - accuracy: 0.4820\n",
            "Epoch 70/100\n",
            "32/32 [==============================] - 0s 3ms/step - loss: 5.6576 - accuracy: 0.4820\n",
            "Epoch 71/100\n",
            "32/32 [==============================] - 0s 2ms/step - loss: 5.6569 - accuracy: 0.4820\n",
            "Epoch 72/100\n",
            "32/32 [==============================] - 0s 2ms/step - loss: 5.6561 - accuracy: 0.4820\n",
            "Epoch 73/100\n",
            "32/32 [==============================] - 0s 3ms/step - loss: 5.6472 - accuracy: 0.4820\n",
            "Epoch 74/100\n",
            "32/32 [==============================] - 0s 2ms/step - loss: 5.6051 - accuracy: 0.4830\n",
            "Epoch 75/100\n",
            "32/32 [==============================] - 0s 2ms/step - loss: 5.5890 - accuracy: 0.4840\n",
            "Epoch 76/100\n",
            "32/32 [==============================] - 0s 3ms/step - loss: 5.5004 - accuracy: 0.4870\n",
            "Epoch 77/100\n",
            "32/32 [==============================] - 0s 3ms/step - loss: 5.4630 - accuracy: 0.4850\n",
            "Epoch 78/100\n",
            "32/32 [==============================] - 0s 2ms/step - loss: 5.4271 - accuracy: 0.4850\n",
            "Epoch 79/100\n",
            "32/32 [==============================] - 0s 3ms/step - loss: 5.4108 - accuracy: 0.4860\n",
            "Epoch 80/100\n",
            "32/32 [==============================] - 0s 3ms/step - loss: 5.3795 - accuracy: 0.4860\n",
            "Epoch 81/100\n",
            "32/32 [==============================] - 0s 3ms/step - loss: 5.3715 - accuracy: 0.4860\n",
            "Epoch 82/100\n",
            "32/32 [==============================] - 0s 3ms/step - loss: 5.3681 - accuracy: 0.4860\n",
            "Epoch 83/100\n",
            "32/32 [==============================] - 0s 3ms/step - loss: 5.3386 - accuracy: 0.4860\n",
            "Epoch 84/100\n",
            "32/32 [==============================] - 0s 3ms/step - loss: 5.2813 - accuracy: 0.4820\n",
            "Epoch 85/100\n",
            "32/32 [==============================] - 0s 3ms/step - loss: 5.2670 - accuracy: 0.4780\n",
            "Epoch 86/100\n",
            "32/32 [==============================] - 0s 3ms/step - loss: 5.0318 - accuracy: 0.4790\n",
            "Epoch 87/100\n",
            "32/32 [==============================] - 0s 2ms/step - loss: 4.7883 - accuracy: 0.4770\n",
            "Epoch 88/100\n",
            "32/32 [==============================] - 0s 3ms/step - loss: 4.6734 - accuracy: 0.4700\n",
            "Epoch 89/100\n",
            "32/32 [==============================] - 0s 2ms/step - loss: 4.6177 - accuracy: 0.4680\n",
            "Epoch 90/100\n",
            "32/32 [==============================] - 0s 2ms/step - loss: 4.6120 - accuracy: 0.4670\n",
            "Epoch 91/100\n",
            "32/32 [==============================] - 0s 3ms/step - loss: 4.6094 - accuracy: 0.4670\n",
            "Epoch 92/100\n",
            "32/32 [==============================] - 0s 3ms/step - loss: 4.6075 - accuracy: 0.4670\n",
            "Epoch 93/100\n",
            "32/32 [==============================] - 0s 2ms/step - loss: 4.6060 - accuracy: 0.4650\n",
            "Epoch 94/100\n",
            "32/32 [==============================] - 0s 2ms/step - loss: 4.6043 - accuracy: 0.4650\n",
            "Epoch 95/100\n",
            "32/32 [==============================] - 0s 2ms/step - loss: 4.6029 - accuracy: 0.4660\n",
            "Epoch 96/100\n",
            "32/32 [==============================] - 0s 3ms/step - loss: 4.6015 - accuracy: 0.4660\n",
            "Epoch 97/100\n",
            "32/32 [==============================] - 0s 2ms/step - loss: 4.6002 - accuracy: 0.4670\n",
            "Epoch 98/100\n",
            "32/32 [==============================] - 0s 2ms/step - loss: 4.5990 - accuracy: 0.4670\n",
            "Epoch 99/100\n",
            "32/32 [==============================] - 0s 3ms/step - loss: 4.5977 - accuracy: 0.4670\n",
            "Epoch 100/100\n",
            "32/32 [==============================] - 0s 3ms/step - loss: 4.5785 - accuracy: 0.4650\n"
          ]
        }
      ]
    },
    {
      "cell_type": "code",
      "source": [
        "# Check out our data\n",
        "plt.scatter(X[:, 0], X[:, 1], c=y, cmap=plt.cm.RdYlBu);"
      ],
      "metadata": {
        "colab": {
          "base_uri": "https://localhost:8080/",
          "height": 265
        },
        "id": "XcQ0zV1Hpc9W",
        "outputId": "d09fa60c-1324-47ce-8da3-cf176283f904"
      },
      "execution_count": 25,
      "outputs": [
        {
          "output_type": "display_data",
          "data": {
            "text/plain": [
              "<Figure size 432x288 with 1 Axes>"
            ],
            "image/png": "[encoded data removed]"
          },
          "metadata": {
            "needs_background": "light"
          }
        }
      ]
    },
    {
      "cell_type": "code",
      "source": [
        "# Check the decision boundary for our model\n",
        "plot_decision_boundary(model=model_4,\n",
        "                       X=X,\n",
        "                       y=y)"
      ],
      "metadata": {
        "colab": {
          "base_uri": "https://localhost:8080/",
          "height": 301
        },
        "id": "-tjtZpgKpz0F",
        "outputId": "c6f3a509-ecce-4f5a-85ce-3791b0037363"
      },
      "execution_count": 26,
      "outputs": [
        {
          "output_type": "stream",
          "name": "stdout",
          "text": [
            "313/313 [==============================] - 1s 2ms/step\n",
            "doing binary classification\n"
          ]
        },
        {
          "output_type": "display_data",
          "data": {
            "text/plain": [
              "<Figure size 432x288 with 1 Axes>"
            ],
            "image/png": "[encoded data removed]"
          },
          "metadata": {
            "needs_background": "light"
          }
        }
      ]
    },
    {
      "cell_type": "markdown",
      "source": [
        "Let's try to build our first neural network with a non-linear activation function."
      ],
      "metadata": {
        "id": "XHASqWPQp7Ap"
      }
    },
    {
      "cell_type": "code",
      "source": [
        "# Set random seed\n",
        "tf.random.set_seed(42)\n",
        "\n",
        "# Create a model with a non-linear activation\n",
        "model_5 = tf.keras.Sequential([\n",
        "  tf.keras.layers.Dense(1, activation=tf.keras.activations.relu), # can also do activation='relu'\n",
        "  tf.keras.layers.Dense(1) # output layer \n",
        "])\n",
        "\n",
        "# Compile the model\n",
        "model_5.compile(loss=tf.keras.losses.binary_crossentropy,\n",
        "              optimizer=tf.keras.optimizers.Adam(),\n",
        "              metrics=[\"accuracy\"])\n",
        "\n",
        "# Fit the model\n",
        "history = model_5.fit(X, y, epochs=100)"
      ],
      "metadata": {
        "colab": {
          "base_uri": "https://localhost:8080/"
        },
        "id": "7o3XY3Q6qn2P",
        "outputId": "9a8ce8cc-abd2-40af-cbeb-56de933af764"
      },
      "execution_count": 27,
      "outputs": [
        {
          "output_type": "stream",
          "name": "stdout",
          "text": [
            "Epoch 1/100\n",
            "32/32 [==============================] - 1s 3ms/step - loss: 7.7125 - accuracy: 0.5000\n",
            "Epoch 2/100\n",
            "32/32 [==============================] - 0s 3ms/step - loss: 7.7125 - accuracy: 0.5000\n",
            "Epoch 3/100\n",
            "32/32 [==============================] - 0s 3ms/step - loss: 7.7125 - accuracy: 0.5000\n",
            "Epoch 4/100\n",
            "32/32 [==============================] - 0s 3ms/step - loss: 7.7125 - accuracy: 0.5000\n",
            "Epoch 5/100\n",
            "32/32 [==============================] - 0s 3ms/step - loss: 7.7125 - accuracy: 0.5000\n",
            "Epoch 6/100\n",
            "32/32 [==============================] - 0s 3ms/step - loss: 7.7125 - accuracy: 0.5000\n",
            "Epoch 7/100\n",
            "32/32 [==============================] - 0s 3ms/step - loss: 7.7125 - accuracy: 0.5000\n",
            "Epoch 8/100\n",
            "32/32 [==============================] - 0s 3ms/step - loss: 7.7125 - accuracy: 0.5000\n",
            "Epoch 9/100\n",
            "32/32 [==============================] - 0s 3ms/step - loss: 7.7125 - accuracy: 0.5000\n",
            "Epoch 10/100\n",
            "32/32 [==============================] - 0s 3ms/step - loss: 7.7125 - accuracy: 0.5000\n",
            "Epoch 11/100\n",
            "32/32 [==============================] - 0s 3ms/step - loss: 7.7125 - accuracy: 0.5000\n",
            "Epoch 12/100\n",
            "32/32 [==============================] - 0s 4ms/step - loss: 7.7125 - accuracy: 0.5000\n",
            "Epoch 13/100\n",
            "32/32 [==============================] - 0s 4ms/step - loss: 7.7125 - accuracy: 0.5000\n",
            "Epoch 14/100\n",
            "32/32 [==============================] - 0s 6ms/step - loss: 7.7125 - accuracy: 0.5000\n",
            "Epoch 15/100\n",
            "32/32 [==============================] - 0s 6ms/step - loss: 7.7125 - accuracy: 0.5000\n",
            "Epoch 16/100\n",
            "32/32 [==============================] - 0s 5ms/step - loss: 7.7125 - accuracy: 0.5000\n",
            "Epoch 17/100\n",
            "32/32 [==============================] - 0s 3ms/step - loss: 7.7125 - accuracy: 0.5000\n",
            "Epoch 18/100\n",
            "32/32 [==============================] - 0s 3ms/step - loss: 7.7125 - accuracy: 0.5000\n",
            "Epoch 19/100\n",
            "32/32 [==============================] - 0s 3ms/step - loss: 7.7125 - accuracy: 0.5000\n",
            "Epoch 20/100\n",
            "32/32 [==============================] - 0s 2ms/step - loss: 7.7125 - accuracy: 0.5000\n",
            "Epoch 21/100\n",
            "32/32 [==============================] - 0s 5ms/step - loss: 7.7125 - accuracy: 0.5000\n",
            "Epoch 22/100\n",
            "32/32 [==============================] - 0s 3ms/step - loss: 7.7125 - accuracy: 0.5000\n",
            "Epoch 23/100\n",
            "32/32 [==============================] - 0s 5ms/step - loss: 7.7125 - accuracy: 0.5000\n",
            "Epoch 24/100\n",
            "32/32 [==============================] - 0s 8ms/step - loss: 7.7125 - accuracy: 0.5000\n",
            "Epoch 25/100\n",
            "32/32 [==============================] - 0s 3ms/step - loss: 7.7125 - accuracy: 0.5000\n",
            "Epoch 26/100\n",
            "32/32 [==============================] - 0s 3ms/step - loss: 7.7125 - accuracy: 0.5000\n",
            "Epoch 27/100\n",
            "32/32 [==============================] - 0s 5ms/step - loss: 7.7125 - accuracy: 0.5000\n",
            "Epoch 28/100\n",
            "32/32 [==============================] - 0s 4ms/step - loss: 7.7125 - accuracy: 0.5000\n",
            "Epoch 29/100\n",
            "32/32 [==============================] - 0s 8ms/step - loss: 7.7125 - accuracy: 0.5000\n",
            "Epoch 30/100\n",
            "32/32 [==============================] - 0s 10ms/step - loss: 7.7125 - accuracy: 0.5000\n",
            "Epoch 31/100\n",
            "32/32 [==============================] - 0s 11ms/step - loss: 7.7125 - accuracy: 0.5000\n",
            "Epoch 32/100\n",
            "32/32 [==============================] - 0s 9ms/step - loss: 7.7125 - accuracy: 0.5000\n",
            "Epoch 33/100\n",
            "32/32 [==============================] - 0s 5ms/step - loss: 7.7125 - accuracy: 0.5000\n",
            "Epoch 34/100\n",
            "32/32 [==============================] - 0s 10ms/step - loss: 7.7125 - accuracy: 0.5000\n",
            "Epoch 35/100\n",
            "32/32 [==============================] - 0s 9ms/step - loss: 7.7125 - accuracy: 0.5000\n",
            "Epoch 36/100\n",
            "32/32 [==============================] - 0s 6ms/step - loss: 7.7125 - accuracy: 0.5000\n",
            "Epoch 37/100\n",
            "32/32 [==============================] - 0s 9ms/step - loss: 7.7125 - accuracy: 0.5000\n",
            "Epoch 38/100\n",
            "32/32 [==============================] - 0s 6ms/step - loss: 7.7125 - accuracy: 0.5000\n",
            "Epoch 39/100\n",
            "32/32 [==============================] - 0s 14ms/step - loss: 7.7125 - accuracy: 0.5000\n",
            "Epoch 40/100\n",
            "32/32 [==============================] - 0s 11ms/step - loss: 7.7125 - accuracy: 0.5000\n",
            "Epoch 41/100\n",
            "32/32 [==============================] - 0s 6ms/step - loss: 7.7125 - accuracy: 0.5000\n",
            "Epoch 42/100\n",
            "32/32 [==============================] - 0s 5ms/step - loss: 7.7125 - accuracy: 0.5000\n",
            "Epoch 43/100\n",
            "32/32 [==============================] - 0s 4ms/step - loss: 7.7125 - accuracy: 0.5000\n",
            "Epoch 44/100\n",
            "32/32 [==============================] - 0s 6ms/step - loss: 7.7125 - accuracy: 0.5000\n",
            "Epoch 45/100\n",
            "32/32 [==============================] - 0s 6ms/step - loss: 7.7125 - accuracy: 0.5000\n",
            "Epoch 46/100\n",
            "32/32 [==============================] - 0s 6ms/step - loss: 7.7125 - accuracy: 0.5000\n",
            "Epoch 47/100\n",
            "32/32 [==============================] - 0s 3ms/step - loss: 7.7125 - accuracy: 0.5000\n",
            "Epoch 48/100\n",
            "32/32 [==============================] - 0s 5ms/step - loss: 7.7125 - accuracy: 0.5000\n",
            "Epoch 49/100\n",
            "32/32 [==============================] - 0s 3ms/step - loss: 7.7125 - accuracy: 0.5000\n",
            "Epoch 50/100\n",
            "32/32 [==============================] - 0s 3ms/step - loss: 7.7125 - accuracy: 0.5000\n",
            "Epoch 51/100\n",
            "32/32 [==============================] - 0s 3ms/step - loss: 7.7125 - accuracy: 0.5000\n",
            "Epoch 52/100\n",
            "32/32 [==============================] - 0s 3ms/step - loss: 7.7125 - accuracy: 0.5000\n",
            "Epoch 53/100\n",
            "32/32 [==============================] - 0s 3ms/step - loss: 7.7125 - accuracy: 0.5000\n",
            "Epoch 54/100\n",
            "32/32 [==============================] - 0s 3ms/step - loss: 7.7125 - accuracy: 0.5000\n",
            "Epoch 55/100\n",
            "32/32 [==============================] - 0s 3ms/step - loss: 7.7125 - accuracy: 0.5000\n",
            "Epoch 56/100\n",
            "32/32 [==============================] - 0s 9ms/step - loss: 7.7125 - accuracy: 0.5000\n",
            "Epoch 57/100\n",
            "32/32 [==============================] - 0s 3ms/step - loss: 7.7125 - accuracy: 0.5000\n",
            "Epoch 58/100\n",
            "32/32 [==============================] - 0s 3ms/step - loss: 7.7125 - accuracy: 0.5000\n",
            "Epoch 59/100\n",
            "32/32 [==============================] - 0s 7ms/step - loss: 7.7125 - accuracy: 0.5000\n",
            "Epoch 60/100\n",
            "32/32 [==============================] - 0s 3ms/step - loss: 7.7125 - accuracy: 0.5000\n",
            "Epoch 61/100\n",
            "32/32 [==============================] - 0s 3ms/step - loss: 7.7125 - accuracy: 0.5000\n",
            "Epoch 62/100\n",
            "32/32 [==============================] - 0s 6ms/step - loss: 7.7125 - accuracy: 0.5000\n",
            "Epoch 63/100\n",
            "32/32 [==============================] - 0s 15ms/step - loss: 7.7125 - accuracy: 0.5000\n",
            "Epoch 64/100\n",
            "32/32 [==============================] - 0s 11ms/step - loss: 7.7125 - accuracy: 0.5000\n",
            "Epoch 65/100\n",
            "32/32 [==============================] - 0s 12ms/step - loss: 7.7125 - accuracy: 0.5000\n",
            "Epoch 66/100\n",
            "32/32 [==============================] - 0s 8ms/step - loss: 7.7125 - accuracy: 0.5000\n",
            "Epoch 67/100\n",
            "32/32 [==============================] - 0s 6ms/step - loss: 7.7125 - accuracy: 0.5000\n",
            "Epoch 68/100\n",
            "32/32 [==============================] - 0s 9ms/step - loss: 7.7125 - accuracy: 0.5000\n",
            "Epoch 69/100\n",
            "32/32 [==============================] - 0s 7ms/step - loss: 7.7125 - accuracy: 0.5000\n",
            "Epoch 70/100\n",
            "32/32 [==============================] - 0s 6ms/step - loss: 7.7125 - accuracy: 0.5000\n",
            "Epoch 71/100\n",
            "32/32 [==============================] - 0s 5ms/step - loss: 7.7125 - accuracy: 0.5000\n",
            "Epoch 72/100\n",
            "32/32 [==============================] - 0s 7ms/step - loss: 7.7125 - accuracy: 0.5000\n",
            "Epoch 73/100\n",
            "32/32 [==============================] - 0s 8ms/step - loss: 7.7125 - accuracy: 0.5000\n",
            "Epoch 74/100\n",
            "32/32 [==============================] - 0s 7ms/step - loss: 7.7125 - accuracy: 0.5000\n",
            "Epoch 75/100\n",
            "32/32 [==============================] - 0s 9ms/step - loss: 7.7125 - accuracy: 0.5000\n",
            "Epoch 76/100\n",
            "32/32 [==============================] - 0s 8ms/step - loss: 7.7125 - accuracy: 0.5000\n",
            "Epoch 77/100\n",
            "32/32 [==============================] - 0s 5ms/step - loss: 7.7125 - accuracy: 0.5000\n",
            "Epoch 78/100\n",
            "32/32 [==============================] - 0s 6ms/step - loss: 7.7125 - accuracy: 0.5000\n",
            "Epoch 79/100\n",
            "32/32 [==============================] - 0s 7ms/step - loss: 7.7125 - accuracy: 0.5000\n",
            "Epoch 80/100\n",
            "32/32 [==============================] - 0s 8ms/step - loss: 7.7125 - accuracy: 0.5000\n",
            "Epoch 81/100\n",
            "32/32 [==============================] - 0s 10ms/step - loss: 7.7125 - accuracy: 0.5000\n",
            "Epoch 82/100\n",
            "32/32 [==============================] - 0s 8ms/step - loss: 7.7125 - accuracy: 0.5000\n",
            "Epoch 83/100\n",
            "32/32 [==============================] - 0s 7ms/step - loss: 7.7125 - accuracy: 0.5000\n",
            "Epoch 84/100\n",
            "32/32 [==============================] - 0s 10ms/step - loss: 7.7125 - accuracy: 0.5000\n",
            "Epoch 85/100\n",
            "32/32 [==============================] - 0s 10ms/step - loss: 7.7125 - accuracy: 0.5000\n",
            "Epoch 86/100\n",
            "32/32 [==============================] - 0s 5ms/step - loss: 7.7125 - accuracy: 0.5000\n",
            "Epoch 87/100\n",
            "32/32 [==============================] - 0s 5ms/step - loss: 7.7125 - accuracy: 0.5000\n",
            "Epoch 88/100\n",
            "32/32 [==============================] - 0s 5ms/step - loss: 7.7125 - accuracy: 0.5000\n",
            "Epoch 89/100\n",
            "32/32 [==============================] - 0s 8ms/step - loss: 7.7125 - accuracy: 0.5000\n",
            "Epoch 90/100\n",
            "32/32 [==============================] - 0s 5ms/step - loss: 7.7125 - accuracy: 0.5000\n",
            "Epoch 91/100\n",
            "32/32 [==============================] - 0s 6ms/step - loss: 7.7125 - accuracy: 0.5000\n",
            "Epoch 92/100\n",
            "32/32 [==============================] - 0s 5ms/step - loss: 7.7125 - accuracy: 0.5000\n",
            "Epoch 93/100\n",
            "32/32 [==============================] - 0s 4ms/step - loss: 7.7125 - accuracy: 0.5000\n",
            "Epoch 94/100\n",
            "32/32 [==============================] - 0s 4ms/step - loss: 7.7125 - accuracy: 0.5000\n",
            "Epoch 95/100\n",
            "32/32 [==============================] - 0s 5ms/step - loss: 7.7125 - accuracy: 0.5000\n",
            "Epoch 96/100\n",
            "32/32 [==============================] - 0s 4ms/step - loss: 7.7125 - accuracy: 0.5000\n",
            "Epoch 97/100\n",
            "32/32 [==============================] - 0s 4ms/step - loss: 7.7125 - accuracy: 0.5000\n",
            "Epoch 98/100\n",
            "32/32 [==============================] - 0s 5ms/step - loss: 7.7125 - accuracy: 0.5000\n",
            "Epoch 99/100\n",
            "32/32 [==============================] - 0s 5ms/step - loss: 7.7125 - accuracy: 0.5000\n",
            "Epoch 100/100\n",
            "32/32 [==============================] - 0s 5ms/step - loss: 7.7125 - accuracy: 0.5000\n"
          ]
        }
      ]
    },
    {
      "cell_type": "code",
      "source": [
        "# Check the decision boundary for our model\n",
        "plot_decision_boundary(model=model_5,\n",
        "                       X=X,\n",
        "                       y=y)"
      ],
      "metadata": {
        "colab": {
          "base_uri": "https://localhost:8080/",
          "height": 301
        },
        "id": "fprRBci8q9to",
        "outputId": "d5388e83-cd63-4882-a1d1-978f96adec12"
      },
      "execution_count": 28,
      "outputs": [
        {
          "output_type": "stream",
          "name": "stdout",
          "text": [
            "313/313 [==============================] - 1s 2ms/step\n",
            "doing binary classification\n"
          ]
        },
        {
          "output_type": "display_data",
          "data": {
            "text/plain": [
              "<Figure size 432x288 with 1 Axes>"
            ],
            "image/png": "[encoded data removed]"
          },
          "metadata": {
            "needs_background": "light"
          }
        }
      ]
    },
    {
      "cell_type": "code",
      "source": [
        "\n",
        "# Set random seed\n",
        "tf.random.set_seed(42)\n",
        "\n",
        "# Create a model\n",
        "model_6 = tf.keras.Sequential([\n",
        "  tf.keras.layers.Dense(4, activation=tf.keras.activations.relu), # hidden layer 1, 4 neurons, ReLU activation\n",
        "  tf.keras.layers.Dense(4, activation=tf.keras.activations.relu), # hidden layer 2, 4 neurons, ReLU activation\n",
        "  tf.keras.layers.Dense(1) # ouput layer\n",
        "])\n",
        "\n",
        "# Compile the model\n",
        "model_6.compile(loss=tf.keras.losses.binary_crossentropy,\n",
        "                optimizer=tf.keras.optimizers.Adam(lr=0.001), # Adam's default learning rate is 0.001\n",
        "                metrics=['accuracy'])\n",
        "\n",
        "# Fit the model\n",
        "history = model_6.fit(X, y, epochs=100)"
      ],
      "metadata": {
        "colab": {
          "base_uri": "https://localhost:8080/"
        },
        "id": "l8GcT5MUrEQt",
        "outputId": "a1d21a86-07d8-44c8-e009-66e36593dd62"
      },
      "execution_count": 29,
      "outputs": [
        {
          "output_type": "stream",
          "name": "stderr",
          "text": [
            "WARNING:absl:`lr` is deprecated, please use `learning_rate` instead, or use the legacy optimizer, e.g.,tf.keras.optimizers.legacy.Adam.\n"
          ]
        },
        {
          "output_type": "stream",
          "name": "stdout",
          "text": [
            "Epoch 1/100\n",
            "32/32 [==============================] - 1s 3ms/step - loss: 7.7125 - accuracy: 0.5000\n",
            "Epoch 2/100\n",
            "32/32 [==============================] - 0s 3ms/step - loss: 7.7125 - accuracy: 0.5000\n",
            "Epoch 3/100\n",
            "32/32 [==============================] - 0s 3ms/step - loss: 7.7125 - accuracy: 0.5000\n",
            "Epoch 4/100\n",
            "32/32 [==============================] - 0s 3ms/step - loss: 7.7125 - accuracy: 0.5000\n",
            "Epoch 5/100\n",
            "32/32 [==============================] - 0s 2ms/step - loss: 7.7125 - accuracy: 0.5000\n",
            "Epoch 6/100\n",
            "32/32 [==============================] - 0s 4ms/step - loss: 7.7125 - accuracy: 0.5000\n",
            "Epoch 7/100\n",
            "32/32 [==============================] - 0s 3ms/step - loss: 7.7125 - accuracy: 0.5000\n",
            "Epoch 8/100\n",
            "32/32 [==============================] - 0s 3ms/step - loss: 7.7125 - accuracy: 0.5000\n",
            "Epoch 9/100\n",
            "32/32 [==============================] - 0s 3ms/step - loss: 7.7125 - accuracy: 0.5000\n",
            "Epoch 10/100\n",
            "32/32 [==============================] - 0s 3ms/step - loss: 7.7125 - accuracy: 0.5000\n",
            "Epoch 11/100\n",
            "32/32 [==============================] - 0s 3ms/step - loss: 7.7125 - accuracy: 0.5000\n",
            "Epoch 12/100\n",
            "32/32 [==============================] - 0s 4ms/step - loss: 7.7125 - accuracy: 0.5000\n",
            "Epoch 13/100\n",
            "32/32 [==============================] - 0s 4ms/step - loss: 7.7125 - accuracy: 0.5000\n",
            "Epoch 14/100\n",
            "32/32 [==============================] - 0s 3ms/step - loss: 7.7125 - accuracy: 0.5000\n",
            "Epoch 15/100\n",
            "32/32 [==============================] - 0s 3ms/step - loss: 7.7125 - accuracy: 0.5000\n",
            "Epoch 16/100\n",
            "32/32 [==============================] - 0s 3ms/step - loss: 7.7125 - accuracy: 0.5000\n",
            "Epoch 17/100\n",
            "32/32 [==============================] - 0s 3ms/step - loss: 7.7125 - accuracy: 0.5000\n",
            "Epoch 18/100\n",
            "32/32 [==============================] - 0s 3ms/step - loss: 7.7125 - accuracy: 0.5000\n",
            "Epoch 19/100\n",
            "32/32 [==============================] - 0s 3ms/step - loss: 7.7125 - accuracy: 0.5000\n",
            "Epoch 20/100\n",
            "32/32 [==============================] - 0s 3ms/step - loss: 7.7125 - accuracy: 0.5000\n",
            "Epoch 21/100\n",
            "32/32 [==============================] - 0s 3ms/step - loss: 7.7125 - accuracy: 0.5000\n",
            "Epoch 22/100\n",
            "32/32 [==============================] - 0s 2ms/step - loss: 7.7125 - accuracy: 0.5000\n",
            "Epoch 23/100\n",
            "32/32 [==============================] - 0s 3ms/step - loss: 7.7125 - accuracy: 0.5000\n",
            "Epoch 24/100\n",
            "32/32 [==============================] - 0s 3ms/step - loss: 7.7125 - accuracy: 0.5000\n",
            "Epoch 25/100\n",
            "32/32 [==============================] - 0s 3ms/step - loss: 7.7125 - accuracy: 0.5000\n",
            "Epoch 26/100\n",
            "32/32 [==============================] - 0s 3ms/step - loss: 7.7125 - accuracy: 0.5000\n",
            "Epoch 27/100\n",
            "32/32 [==============================] - 0s 3ms/step - loss: 7.7125 - accuracy: 0.5000\n",
            "Epoch 28/100\n",
            "32/32 [==============================] - 0s 3ms/step - loss: 7.7125 - accuracy: 0.5000\n",
            "Epoch 29/100\n",
            "32/32 [==============================] - 0s 3ms/step - loss: 7.7125 - accuracy: 0.5000\n",
            "Epoch 30/100\n",
            "32/32 [==============================] - 0s 3ms/step - loss: 7.7125 - accuracy: 0.5000\n",
            "Epoch 31/100\n",
            "32/32 [==============================] - 0s 3ms/step - loss: 7.7125 - accuracy: 0.5000\n",
            "Epoch 32/100\n",
            "32/32 [==============================] - 0s 3ms/step - loss: 7.7125 - accuracy: 0.5000\n",
            "Epoch 33/100\n",
            "32/32 [==============================] - 0s 3ms/step - loss: 7.7125 - accuracy: 0.5000\n",
            "Epoch 34/100\n",
            "32/32 [==============================] - 0s 3ms/step - loss: 7.7125 - accuracy: 0.5000\n",
            "Epoch 35/100\n",
            "32/32 [==============================] - 0s 3ms/step - loss: 7.7125 - accuracy: 0.5000\n",
            "Epoch 36/100\n",
            "32/32 [==============================] - 0s 3ms/step - loss: 7.7125 - accuracy: 0.5000\n",
            "Epoch 37/100\n",
            "32/32 [==============================] - 0s 3ms/step - loss: 7.7125 - accuracy: 0.5000\n",
            "Epoch 38/100\n",
            "32/32 [==============================] - 0s 3ms/step - loss: 7.7125 - accuracy: 0.5000\n",
            "Epoch 39/100\n",
            "32/32 [==============================] - 0s 3ms/step - loss: 7.7125 - accuracy: 0.5000\n",
            "Epoch 40/100\n",
            "32/32 [==============================] - 0s 3ms/step - loss: 7.7125 - accuracy: 0.5000\n",
            "Epoch 41/100\n",
            "32/32 [==============================] - 0s 3ms/step - loss: 7.7125 - accuracy: 0.5000\n",
            "Epoch 42/100\n",
            "32/32 [==============================] - 0s 3ms/step - loss: 7.7125 - accuracy: 0.5000\n",
            "Epoch 43/100\n",
            "32/32 [==============================] - 0s 3ms/step - loss: 7.7125 - accuracy: 0.5000\n",
            "Epoch 44/100\n",
            "32/32 [==============================] - 0s 3ms/step - loss: 7.7125 - accuracy: 0.5000\n",
            "Epoch 45/100\n",
            "32/32 [==============================] - 0s 3ms/step - loss: 7.7125 - accuracy: 0.5000\n",
            "Epoch 46/100\n",
            "32/32 [==============================] - 0s 3ms/step - loss: 7.7125 - accuracy: 0.5000\n",
            "Epoch 47/100\n",
            "32/32 [==============================] - 0s 3ms/step - loss: 7.7125 - accuracy: 0.5000\n",
            "Epoch 48/100\n",
            "32/32 [==============================] - 0s 3ms/step - loss: 7.7125 - accuracy: 0.5000\n",
            "Epoch 49/100\n",
            "32/32 [==============================] - 0s 3ms/step - loss: 7.7125 - accuracy: 0.5000\n",
            "Epoch 50/100\n",
            "32/32 [==============================] - 0s 3ms/step - loss: 7.7125 - accuracy: 0.5000\n",
            "Epoch 51/100\n",
            "32/32 [==============================] - 0s 3ms/step - loss: 7.7125 - accuracy: 0.5000\n",
            "Epoch 52/100\n",
            "32/32 [==============================] - 0s 3ms/step - loss: 7.7125 - accuracy: 0.5000\n",
            "Epoch 53/100\n",
            "32/32 [==============================] - 0s 3ms/step - loss: 7.7125 - accuracy: 0.5000\n",
            "Epoch 54/100\n",
            "32/32 [==============================] - 0s 3ms/step - loss: 7.7125 - accuracy: 0.5000\n",
            "Epoch 55/100\n",
            "32/32 [==============================] - 0s 2ms/step - loss: 7.7125 - accuracy: 0.5000\n",
            "Epoch 56/100\n",
            "32/32 [==============================] - 0s 4ms/step - loss: 7.7125 - accuracy: 0.5000\n",
            "Epoch 57/100\n",
            "32/32 [==============================] - 0s 3ms/step - loss: 7.7125 - accuracy: 0.5000\n",
            "Epoch 58/100\n",
            "32/32 [==============================] - 0s 3ms/step - loss: 7.7125 - accuracy: 0.5000\n",
            "Epoch 59/100\n",
            "32/32 [==============================] - 0s 3ms/step - loss: 7.7125 - accuracy: 0.5000\n",
            "Epoch 60/100\n",
            "32/32 [==============================] - 0s 3ms/step - loss: 7.7125 - accuracy: 0.5000\n",
            "Epoch 61/100\n",
            "32/32 [==============================] - 0s 3ms/step - loss: 7.7125 - accuracy: 0.5000\n",
            "Epoch 62/100\n",
            "32/32 [==============================] - 0s 3ms/step - loss: 7.7125 - accuracy: 0.5000\n",
            "Epoch 63/100\n",
            "32/32 [==============================] - 0s 2ms/step - loss: 7.7125 - accuracy: 0.5000\n",
            "Epoch 64/100\n",
            "32/32 [==============================] - 0s 2ms/step - loss: 7.7125 - accuracy: 0.5000\n",
            "Epoch 65/100\n",
            "32/32 [==============================] - 0s 3ms/step - loss: 7.7125 - accuracy: 0.5000\n",
            "Epoch 66/100\n",
            "32/32 [==============================] - 0s 5ms/step - loss: 7.7125 - accuracy: 0.5000\n",
            "Epoch 67/100\n",
            "32/32 [==============================] - 0s 5ms/step - loss: 7.7125 - accuracy: 0.5000\n",
            "Epoch 68/100\n",
            "32/32 [==============================] - 0s 4ms/step - loss: 7.7125 - accuracy: 0.5000\n",
            "Epoch 69/100\n",
            "32/32 [==============================] - 0s 4ms/step - loss: 7.7125 - accuracy: 0.5000\n",
            "Epoch 70/100\n",
            "32/32 [==============================] - 0s 4ms/step - loss: 7.7125 - accuracy: 0.5000\n",
            "Epoch 71/100\n",
            "32/32 [==============================] - 0s 4ms/step - loss: 7.7125 - accuracy: 0.5000\n",
            "Epoch 72/100\n",
            "32/32 [==============================] - 0s 4ms/step - loss: 7.7125 - accuracy: 0.5000\n",
            "Epoch 73/100\n",
            "32/32 [==============================] - 0s 4ms/step - loss: 7.7125 - accuracy: 0.5000\n",
            "Epoch 74/100\n",
            "32/32 [==============================] - 0s 4ms/step - loss: 7.7125 - accuracy: 0.5000\n",
            "Epoch 75/100\n",
            "32/32 [==============================] - 0s 5ms/step - loss: 7.7125 - accuracy: 0.5000\n",
            "Epoch 76/100\n",
            "32/32 [==============================] - 0s 6ms/step - loss: 7.7125 - accuracy: 0.5000\n",
            "Epoch 77/100\n",
            "32/32 [==============================] - 0s 5ms/step - loss: 7.7125 - accuracy: 0.5000\n",
            "Epoch 78/100\n",
            "32/32 [==============================] - 0s 4ms/step - loss: 7.7125 - accuracy: 0.5000\n",
            "Epoch 79/100\n",
            "32/32 [==============================] - 0s 4ms/step - loss: 7.7125 - accuracy: 0.5000\n",
            "Epoch 80/100\n",
            "32/32 [==============================] - 0s 5ms/step - loss: 7.7125 - accuracy: 0.5000\n",
            "Epoch 81/100\n",
            "32/32 [==============================] - 0s 4ms/step - loss: 7.7125 - accuracy: 0.5000\n",
            "Epoch 82/100\n",
            "32/32 [==============================] - 0s 4ms/step - loss: 7.7125 - accuracy: 0.5000\n",
            "Epoch 83/100\n",
            "32/32 [==============================] - 0s 6ms/step - loss: 7.7125 - accuracy: 0.5000\n",
            "Epoch 84/100\n",
            "32/32 [==============================] - 0s 5ms/step - loss: 7.7125 - accuracy: 0.5000\n",
            "Epoch 85/100\n",
            "32/32 [==============================] - 0s 6ms/step - loss: 7.7125 - accuracy: 0.5000\n",
            "Epoch 86/100\n",
            "32/32 [==============================] - 0s 5ms/step - loss: 7.7125 - accuracy: 0.5000\n",
            "Epoch 87/100\n",
            "32/32 [==============================] - 0s 3ms/step - loss: 7.7125 - accuracy: 0.5000\n",
            "Epoch 88/100\n",
            "32/32 [==============================] - 0s 3ms/step - loss: 7.7125 - accuracy: 0.5000\n",
            "Epoch 89/100\n",
            "32/32 [==============================] - 0s 3ms/step - loss: 7.7125 - accuracy: 0.5000\n",
            "Epoch 90/100\n",
            "32/32 [==============================] - 0s 3ms/step - loss: 7.7125 - accuracy: 0.5000\n",
            "Epoch 91/100\n",
            "32/32 [==============================] - 0s 3ms/step - loss: 7.7125 - accuracy: 0.5000\n",
            "Epoch 92/100\n",
            "32/32 [==============================] - 0s 3ms/step - loss: 7.7125 - accuracy: 0.5000\n",
            "Epoch 93/100\n",
            "32/32 [==============================] - 0s 3ms/step - loss: 7.7125 - accuracy: 0.5000\n",
            "Epoch 94/100\n",
            "32/32 [==============================] - 0s 2ms/step - loss: 7.7125 - accuracy: 0.5000\n",
            "Epoch 95/100\n",
            "32/32 [==============================] - 0s 3ms/step - loss: 7.7125 - accuracy: 0.5000\n",
            "Epoch 96/100\n",
            "32/32 [==============================] - 0s 3ms/step - loss: 7.7125 - accuracy: 0.5000\n",
            "Epoch 97/100\n",
            "32/32 [==============================] - 0s 3ms/step - loss: 7.7125 - accuracy: 0.5000\n",
            "Epoch 98/100\n",
            "32/32 [==============================] - 0s 3ms/step - loss: 7.7125 - accuracy: 0.5000\n",
            "Epoch 99/100\n",
            "32/32 [==============================] - 0s 3ms/step - loss: 7.7125 - accuracy: 0.5000\n",
            "Epoch 100/100\n",
            "32/32 [==============================] - 0s 3ms/step - loss: 7.7125 - accuracy: 0.5000\n"
          ]
        }
      ]
    },
    {
      "cell_type": "code",
      "source": [
        "# evalueate the model\n",
        "model_6.evaluate(X,y)"
      ],
      "metadata": {
        "colab": {
          "base_uri": "https://localhost:8080/"
        },
        "id": "gP5nDrf7s7e9",
        "outputId": "ef081544-48b0-41f2-b960-119ca5b934bf"
      },
      "execution_count": 30,
      "outputs": [
        {
          "output_type": "stream",
          "name": "stdout",
          "text": [
            "32/32 [==============================] - 0s 3ms/step - loss: 7.7125 - accuracy: 0.5000\n"
          ]
        },
        {
          "output_type": "execute_result",
          "data": {
            "text/plain": [
              "[7.712474346160889, 0.5]"
            ]
          },
          "metadata": {},
          "execution_count": 30
        }
      ]
    },
    {
      "cell_type": "code",
      "source": [
        "# Check the decision boundary for our model\n",
        "plot_decision_boundary(model=model_6,\n",
        "                       X=X,\n",
        "                       y=y)"
      ],
      "metadata": {
        "colab": {
          "base_uri": "https://localhost:8080/",
          "height": 301
        },
        "id": "Bh1zq6otsxAM",
        "outputId": "fc3911c6-4b7b-421d-830b-ab12cb93a4ff"
      },
      "execution_count": 31,
      "outputs": [
        {
          "output_type": "stream",
          "name": "stdout",
          "text": [
            "313/313 [==============================] - 1s 2ms/step\n",
            "doing binary classification\n"
          ]
        },
        {
          "output_type": "display_data",
          "data": {
            "text/plain": [
              "<Figure size 432x288 with 1 Axes>"
            ],
            "image/png": "[encoded data removed]"
          },
          "metadata": {
            "needs_background": "light"
          }
        }
      ]
    },
    {
      "cell_type": "code",
      "source": [
        "\n",
        "# Set the random seed\n",
        "tf.random.set_seed(42)\n",
        "\n",
        "# 1. Create the model\n",
        "model_7 = tf.keras.Sequential([\n",
        "    tf.keras.layers.Dense(4, activation=tf.keras.activations.relu),\n",
        "    tf.keras.layers.Dense(4, activation=tf.keras.activations.relu),\n",
        "    tf.keras.layers.Dense(1, activation=tf.keras.activations.sigmoid)\n",
        "])\n",
        "\n",
        "# 2. Compile the model\n",
        "model_7.compile(loss = \"binary_crossentropy\",\n",
        "                optimizer=tf.keras.optimizers.Adam(learning_rate=0.001),\n",
        "                metrics=[\"accuracy\"])\n",
        "\n",
        "# 3. Fit the model\n",
        "history = model_7.fit(X, y, epochs=100, verbose=1)"
      ],
      "metadata": {
        "colab": {
          "base_uri": "https://localhost:8080/"
        },
        "id": "vo9b_oaKtcp0",
        "outputId": "6581e281-a39b-48c9-b7e7-e4350dc64516"
      },
      "execution_count": 32,
      "outputs": [
        {
          "output_type": "stream",
          "name": "stdout",
          "text": [
            "Epoch 1/100\n",
            "32/32 [==============================] - 2s 3ms/step - loss: 0.7026 - accuracy: 0.4850\n",
            "Epoch 2/100\n",
            "32/32 [==============================] - 0s 3ms/step - loss: 0.6981 - accuracy: 0.4910\n",
            "Epoch 3/100\n",
            "32/32 [==============================] - 0s 4ms/step - loss: 0.6954 - accuracy: 0.4860\n",
            "Epoch 4/100\n",
            "32/32 [==============================] - 0s 3ms/step - loss: 0.6941 - accuracy: 0.4930\n",
            "Epoch 5/100\n",
            "32/32 [==============================] - 0s 4ms/step - loss: 0.6930 - accuracy: 0.4890\n",
            "Epoch 6/100\n",
            "32/32 [==============================] - 0s 3ms/step - loss: 0.6923 - accuracy: 0.4880\n",
            "Epoch 7/100\n",
            "32/32 [==============================] - 0s 10ms/step - loss: 0.6913 - accuracy: 0.5030\n",
            "Epoch 8/100\n",
            "32/32 [==============================] - 0s 7ms/step - loss: 0.6908 - accuracy: 0.5060\n",
            "Epoch 9/100\n",
            "32/32 [==============================] - 0s 5ms/step - loss: 0.6900 - accuracy: 0.5080\n",
            "Epoch 10/100\n",
            "32/32 [==============================] - 0s 3ms/step - loss: 0.6895 - accuracy: 0.5070\n",
            "Epoch 11/100\n",
            "32/32 [==============================] - 0s 5ms/step - loss: 0.6888 - accuracy: 0.5070\n",
            "Epoch 12/100\n",
            "32/32 [==============================] - 0s 3ms/step - loss: 0.6883 - accuracy: 0.5090\n",
            "Epoch 13/100\n",
            "32/32 [==============================] - 0s 4ms/step - loss: 0.6876 - accuracy: 0.5080\n",
            "Epoch 14/100\n",
            "32/32 [==============================] - 0s 3ms/step - loss: 0.6871 - accuracy: 0.5110\n",
            "Epoch 15/100\n",
            "32/32 [==============================] - 0s 3ms/step - loss: 0.6866 - accuracy: 0.5200\n",
            "Epoch 16/100\n",
            "32/32 [==============================] - 0s 3ms/step - loss: 0.6861 - accuracy: 0.5270\n",
            "Epoch 17/100\n",
            "32/32 [==============================] - 0s 3ms/step - loss: 0.6858 - accuracy: 0.5360\n",
            "Epoch 18/100\n",
            "32/32 [==============================] - 0s 3ms/step - loss: 0.6851 - accuracy: 0.5300\n",
            "Epoch 19/100\n",
            "32/32 [==============================] - 0s 6ms/step - loss: 0.6847 - accuracy: 0.5370\n",
            "Epoch 20/100\n",
            "32/32 [==============================] - 0s 6ms/step - loss: 0.6840 - accuracy: 0.5330\n",
            "Epoch 21/100\n",
            "32/32 [==============================] - 0s 7ms/step - loss: 0.6836 - accuracy: 0.5380\n",
            "Epoch 22/100\n",
            "32/32 [==============================] - 0s 3ms/step - loss: 0.6829 - accuracy: 0.5330\n",
            "Epoch 23/100\n",
            "32/32 [==============================] - 0s 5ms/step - loss: 0.6824 - accuracy: 0.5360\n",
            "Epoch 24/100\n",
            "32/32 [==============================] - 0s 8ms/step - loss: 0.6821 - accuracy: 0.5360\n",
            "Epoch 25/100\n",
            "32/32 [==============================] - 0s 4ms/step - loss: 0.6814 - accuracy: 0.5360\n",
            "Epoch 26/100\n",
            "32/32 [==============================] - 0s 6ms/step - loss: 0.6806 - accuracy: 0.5350\n",
            "Epoch 27/100\n",
            "32/32 [==============================] - 0s 4ms/step - loss: 0.6802 - accuracy: 0.5330\n",
            "Epoch 28/100\n",
            "32/32 [==============================] - 0s 3ms/step - loss: 0.6792 - accuracy: 0.5380\n",
            "Epoch 29/100\n",
            "32/32 [==============================] - 0s 3ms/step - loss: 0.6788 - accuracy: 0.5380\n",
            "Epoch 30/100\n",
            "32/32 [==============================] - 0s 6ms/step - loss: 0.6782 - accuracy: 0.5340\n",
            "Epoch 31/100\n",
            "32/32 [==============================] - 0s 3ms/step - loss: 0.6774 - accuracy: 0.5370\n",
            "Epoch 32/100\n",
            "32/32 [==============================] - 0s 3ms/step - loss: 0.6767 - accuracy: 0.5370\n",
            "Epoch 33/100\n",
            "32/32 [==============================] - 0s 3ms/step - loss: 0.6758 - accuracy: 0.5410\n",
            "Epoch 34/100\n",
            "32/32 [==============================] - 0s 3ms/step - loss: 0.6753 - accuracy: 0.5370\n",
            "Epoch 35/100\n",
            "32/32 [==============================] - 0s 3ms/step - loss: 0.6744 - accuracy: 0.5460\n",
            "Epoch 36/100\n",
            "32/32 [==============================] - 0s 3ms/step - loss: 0.6734 - accuracy: 0.5430\n",
            "Epoch 37/100\n",
            "32/32 [==============================] - 0s 5ms/step - loss: 0.6725 - accuracy: 0.5460\n",
            "Epoch 38/100\n",
            "32/32 [==============================] - 0s 8ms/step - loss: 0.6717 - accuracy: 0.5440\n",
            "Epoch 39/100\n",
            "32/32 [==============================] - 0s 8ms/step - loss: 0.6707 - accuracy: 0.5440\n",
            "Epoch 40/100\n",
            "32/32 [==============================] - 0s 5ms/step - loss: 0.6699 - accuracy: 0.5460\n",
            "Epoch 41/100\n",
            "32/32 [==============================] - 0s 5ms/step - loss: 0.6689 - accuracy: 0.5650\n",
            "Epoch 42/100\n",
            "32/32 [==============================] - 0s 5ms/step - loss: 0.6678 - accuracy: 0.5530\n",
            "Epoch 43/100\n",
            "32/32 [==============================] - 0s 4ms/step - loss: 0.6667 - accuracy: 0.5680\n",
            "Epoch 44/100\n",
            "32/32 [==============================] - 0s 6ms/step - loss: 0.6659 - accuracy: 0.5540\n",
            "Epoch 45/100\n",
            "32/32 [==============================] - 0s 5ms/step - loss: 0.6642 - accuracy: 0.5740\n",
            "Epoch 46/100\n",
            "32/32 [==============================] - 0s 12ms/step - loss: 0.6629 - accuracy: 0.5830\n",
            "Epoch 47/100\n",
            "32/32 [==============================] - 0s 5ms/step - loss: 0.6622 - accuracy: 0.5920\n",
            "Epoch 48/100\n",
            "32/32 [==============================] - 0s 9ms/step - loss: 0.6605 - accuracy: 0.5850\n",
            "Epoch 49/100\n",
            "32/32 [==============================] - 0s 9ms/step - loss: 0.6591 - accuracy: 0.5820\n",
            "Epoch 50/100\n",
            "32/32 [==============================] - 0s 9ms/step - loss: 0.6578 - accuracy: 0.5920\n",
            "Epoch 51/100\n",
            "32/32 [==============================] - 0s 8ms/step - loss: 0.6565 - accuracy: 0.6000\n",
            "Epoch 52/100\n",
            "32/32 [==============================] - 0s 5ms/step - loss: 0.6552 - accuracy: 0.6120\n",
            "Epoch 53/100\n",
            "32/32 [==============================] - 0s 5ms/step - loss: 0.6536 - accuracy: 0.6050\n",
            "Epoch 54/100\n",
            "32/32 [==============================] - 0s 5ms/step - loss: 0.6519 - accuracy: 0.6000\n",
            "Epoch 55/100\n",
            "32/32 [==============================] - 0s 6ms/step - loss: 0.6504 - accuracy: 0.6110\n",
            "Epoch 56/100\n",
            "32/32 [==============================] - 0s 6ms/step - loss: 0.6485 - accuracy: 0.6080\n",
            "Epoch 57/100\n",
            "32/32 [==============================] - 0s 7ms/step - loss: 0.6466 - accuracy: 0.6130\n",
            "Epoch 58/100\n",
            "32/32 [==============================] - 0s 4ms/step - loss: 0.6448 - accuracy: 0.6290\n",
            "Epoch 59/100\n",
            "32/32 [==============================] - 0s 3ms/step - loss: 0.6432 - accuracy: 0.6420\n",
            "Epoch 60/100\n",
            "32/32 [==============================] - 0s 6ms/step - loss: 0.6406 - accuracy: 0.6340\n",
            "Epoch 61/100\n",
            "32/32 [==============================] - 0s 6ms/step - loss: 0.6389 - accuracy: 0.6260\n",
            "Epoch 62/100\n",
            "32/32 [==============================] - 0s 5ms/step - loss: 0.6364 - accuracy: 0.6420\n",
            "Epoch 63/100\n",
            "32/32 [==============================] - 0s 5ms/step - loss: 0.6339 - accuracy: 0.6490\n",
            "Epoch 64/100\n",
            "32/32 [==============================] - 0s 5ms/step - loss: 0.6314 - accuracy: 0.6420\n",
            "Epoch 65/100\n",
            "32/32 [==============================] - 0s 6ms/step - loss: 0.6285 - accuracy: 0.6530\n",
            "Epoch 66/100\n",
            "32/32 [==============================] - 0s 6ms/step - loss: 0.6254 - accuracy: 0.6760\n",
            "Epoch 67/100\n",
            "32/32 [==============================] - 0s 7ms/step - loss: 0.6225 - accuracy: 0.6630\n",
            "Epoch 68/100\n",
            "32/32 [==============================] - 0s 3ms/step - loss: 0.6196 - accuracy: 0.6720\n",
            "Epoch 69/100\n",
            "32/32 [==============================] - 0s 3ms/step - loss: 0.6167 - accuracy: 0.6980\n",
            "Epoch 70/100\n",
            "32/32 [==============================] - 0s 3ms/step - loss: 0.6139 - accuracy: 0.6890\n",
            "Epoch 71/100\n",
            "32/32 [==============================] - 0s 4ms/step - loss: 0.6105 - accuracy: 0.7030\n",
            "Epoch 72/100\n",
            "32/32 [==============================] - 0s 4ms/step - loss: 0.6076 - accuracy: 0.7150\n",
            "Epoch 73/100\n",
            "32/32 [==============================] - 0s 3ms/step - loss: 0.6046 - accuracy: 0.7090\n",
            "Epoch 74/100\n",
            "32/32 [==============================] - 0s 4ms/step - loss: 0.6013 - accuracy: 0.7190\n",
            "Epoch 75/100\n",
            "32/32 [==============================] - 0s 3ms/step - loss: 0.5984 - accuracy: 0.7200\n",
            "Epoch 76/100\n",
            "32/32 [==============================] - 0s 3ms/step - loss: 0.5953 - accuracy: 0.7010\n",
            "Epoch 77/100\n",
            "32/32 [==============================] - 0s 4ms/step - loss: 0.5917 - accuracy: 0.7400\n",
            "Epoch 78/100\n",
            "32/32 [==============================] - 0s 4ms/step - loss: 0.5887 - accuracy: 0.7130\n",
            "Epoch 79/100\n",
            "32/32 [==============================] - 0s 4ms/step - loss: 0.5852 - accuracy: 0.7380\n",
            "Epoch 80/100\n",
            "32/32 [==============================] - 0s 3ms/step - loss: 0.5811 - accuracy: 0.7530\n",
            "Epoch 81/100\n",
            "32/32 [==============================] - 0s 3ms/step - loss: 0.5774 - accuracy: 0.7570\n",
            "Epoch 82/100\n",
            "32/32 [==============================] - 0s 4ms/step - loss: 0.5737 - accuracy: 0.7540\n",
            "Epoch 83/100\n",
            "32/32 [==============================] - 0s 4ms/step - loss: 0.5699 - accuracy: 0.7540\n",
            "Epoch 84/100\n",
            "32/32 [==============================] - 0s 3ms/step - loss: 0.5655 - accuracy: 0.7750\n",
            "Epoch 85/100\n",
            "32/32 [==============================] - 0s 4ms/step - loss: 0.5617 - accuracy: 0.7740\n",
            "Epoch 86/100\n",
            "32/32 [==============================] - 0s 3ms/step - loss: 0.5580 - accuracy: 0.7780\n",
            "Epoch 87/100\n",
            "32/32 [==============================] - 0s 4ms/step - loss: 0.5537 - accuracy: 0.7850\n",
            "Epoch 88/100\n",
            "32/32 [==============================] - 0s 5ms/step - loss: 0.5495 - accuracy: 0.7800\n",
            "Epoch 89/100\n",
            "32/32 [==============================] - 0s 3ms/step - loss: 0.5453 - accuracy: 0.7880\n",
            "Epoch 90/100\n",
            "32/32 [==============================] - 0s 3ms/step - loss: 0.5417 - accuracy: 0.7800\n",
            "Epoch 91/100\n",
            "32/32 [==============================] - 0s 3ms/step - loss: 0.5370 - accuracy: 0.7980\n",
            "Epoch 92/100\n",
            "32/32 [==============================] - 0s 3ms/step - loss: 0.5329 - accuracy: 0.8020\n",
            "Epoch 93/100\n",
            "32/32 [==============================] - 0s 4ms/step - loss: 0.5295 - accuracy: 0.7860\n",
            "Epoch 94/100\n",
            "32/32 [==============================] - 0s 3ms/step - loss: 0.5246 - accuracy: 0.8000\n",
            "Epoch 95/100\n",
            "32/32 [==============================] - 0s 4ms/step - loss: 0.5205 - accuracy: 0.7970\n",
            "Epoch 96/100\n",
            "32/32 [==============================] - 0s 3ms/step - loss: 0.5163 - accuracy: 0.8020\n",
            "Epoch 97/100\n",
            "32/32 [==============================] - 0s 3ms/step - loss: 0.5124 - accuracy: 0.7960\n",
            "Epoch 98/100\n",
            "32/32 [==============================] - 0s 5ms/step - loss: 0.5077 - accuracy: 0.8040\n",
            "Epoch 99/100\n",
            "32/32 [==============================] - 0s 6ms/step - loss: 0.5034 - accuracy: 0.8130\n",
            "Epoch 100/100\n",
            "32/32 [==============================] - 0s 5ms/step - loss: 0.4977 - accuracy: 0.8090\n"
          ]
        }
      ]
    },
    {
      "cell_type": "code",
      "source": [
        "# evalueate the model\n",
        "model_7.evaluate(X,y)"
      ],
      "metadata": {
        "colab": {
          "base_uri": "https://localhost:8080/"
        },
        "id": "FjLPNNFouiyr",
        "outputId": "78c4e79e-6b52-4ee3-d6a4-3db199b36da0"
      },
      "execution_count": 33,
      "outputs": [
        {
          "output_type": "stream",
          "name": "stdout",
          "text": [
            "32/32 [==============================] - 0s 4ms/step - loss: 0.4941 - accuracy: 0.8090\n"
          ]
        },
        {
          "output_type": "execute_result",
          "data": {
            "text/plain": [
              "[0.49407798051834106, 0.8090000152587891]"
            ]
          },
          "metadata": {},
          "execution_count": 33
        }
      ]
    },
    {
      "cell_type": "code",
      "source": [
        "# Check the decision boundary for our model\n",
        "plot_decision_boundary(model=model_7,\n",
        "                       X=X,\n",
        "                       y=y)"
      ],
      "metadata": {
        "colab": {
          "base_uri": "https://localhost:8080/",
          "height": 301
        },
        "id": "ee3agSu4unSl",
        "outputId": "4a859ed5-caa9-44d1-d105-14b19940e598"
      },
      "execution_count": 34,
      "outputs": [
        {
          "output_type": "stream",
          "name": "stdout",
          "text": [
            "313/313 [==============================] - 1s 2ms/step\n",
            "doing binary classification\n"
          ]
        },
        {
          "output_type": "display_data",
          "data": {
            "text/plain": [
              "<Figure size 432x288 with 1 Axes>"
            ],
            "image/png": "[encoded data removed]"
          },
          "metadata": {
            "needs_background": "light"
          }
        }
      ]
    },
    {
      "cell_type": "markdown",
      "source": [
        "🤔 Question: What's wrong with the predictions we've made? Are we really evaluating our model correctly here? Hint: what data did the model learn on and what did we predict on?\n",
        "\n",
        "Before we answer that, it's important to recognize what we've just covered.\n",
        "\n",
        "🔑 Note: The combination of linear (straight lines) and non-linear (non-straight lines) functions is one of the key fundamentals of neural networks.\n",
        "\n",
        "Now we're discussed the concept of linear and non-linear functions (or lines), let's see them in action."
      ],
      "metadata": {
        "id": "pOrIwrKsusDq"
      }
    },
    {
      "cell_type": "code",
      "source": [
        "# Create a toy tensor (similar to the data we pass into our models)\n",
        "A = tf.cast(tf.range(-10, 10), tf.float32)\n",
        "A"
      ],
      "metadata": {
        "colab": {
          "base_uri": "https://localhost:8080/"
        },
        "id": "9RgCFglMwvEK",
        "outputId": "a78366f7-d5df-4f3a-8951-b75172364f47"
      },
      "execution_count": 35,
      "outputs": [
        {
          "output_type": "execute_result",
          "data": {
            "text/plain": [
              "<tf.Tensor: shape=(20,), dtype=float32, numpy=\n",
              "array([-10.,  -9.,  -8.,  -7.,  -6.,  -5.,  -4.,  -3.,  -2.,  -1.,   0.,\n",
              "         1.,   2.,   3.,   4.,   5.,   6.,   7.,   8.,   9.],\n",
              "      dtype=float32)>"
            ]
          },
          "metadata": {},
          "execution_count": 35
        }
      ]
    },
    {
      "cell_type": "code",
      "source": [
        "\n",
        "# Visualize our toy tensor\n",
        "plt.plot(A);\n"
      ],
      "metadata": {
        "colab": {
          "base_uri": "https://localhost:8080/",
          "height": 265
        },
        "id": "NNHez7lRztbr",
        "outputId": "58b32a01-2b1f-44e6-c84c-977b6aa0025c"
      },
      "execution_count": 36,
      "outputs": [
        {
          "output_type": "display_data",
          "data": {
            "text/plain": [
              "<Figure size 432x288 with 1 Axes>"
            ],
            "image/png": "[encoded data removed]"
          },
          "metadata": {
            "needs_background": "light"
          }
        }
      ]
    },
    {
      "cell_type": "markdown",
      "source": [
        "A straight (linear) line!\n",
        "\n",
        "Nice, now let's recreate the sigmoid function and see what it does to our data. You can also find a pre-built sigmoid function at tf.keras.activations.sigmoid."
      ],
      "metadata": {
        "id": "wZ0HCE9R1fG9"
      }
    },
    {
      "cell_type": "code",
      "source": [
        "# Sigmoid - https://www.tensorflow.org/api_docs/python/tf/keras/activations/sigmoid\n",
        "def sigmoid(x):\n",
        "  return 1 / (1 + tf.exp(-x))\n",
        "\n",
        "# Use the sigmoid function on our tensor\n",
        "sigmoid(A)"
      ],
      "metadata": {
        "colab": {
          "base_uri": "https://localhost:8080/"
        },
        "id": "tPVd88pd1kDW",
        "outputId": "779d3fcb-7e7e-4296-fbb5-6ccac8ca91fa"
      },
      "execution_count": 37,
      "outputs": [
        {
          "output_type": "execute_result",
          "data": {
            "text/plain": [
              "<tf.Tensor: shape=(20,), dtype=float32, numpy=\n",
              "array([4.5397872e-05, 1.2339458e-04, 3.3535014e-04, 9.1105117e-04,\n",
              "       2.4726233e-03, 6.6928510e-03, 1.7986210e-02, 4.7425874e-02,\n",
              "       1.1920292e-01, 2.6894143e-01, 5.0000000e-01, 7.3105860e-01,\n",
              "       8.8079703e-01, 9.5257413e-01, 9.8201376e-01, 9.9330717e-01,\n",
              "       9.9752742e-01, 9.9908900e-01, 9.9966466e-01, 9.9987662e-01],\n",
              "      dtype=float32)>"
            ]
          },
          "metadata": {},
          "execution_count": 37
        }
      ]
    },
    {
      "cell_type": "code",
      "source": [
        "# Visualize our toy tensor transformed by sigmoid\n",
        "plt.plot(sigmoid(A));"
      ],
      "metadata": {
        "colab": {
          "base_uri": "https://localhost:8080/",
          "height": 265
        },
        "id": "6tbQH_4A1qqB",
        "outputId": "cbea91ed-98e1-43fc-9817-ede0735564bc"
      },
      "execution_count": 38,
      "outputs": [
        {
          "output_type": "display_data",
          "data": {
            "text/plain": [
              "<Figure size 432x288 with 1 Axes>"
            ],
            "image/png": "[encoded data removed]"
          },
          "metadata": {
            "needs_background": "light"
          }
        }
      ]
    },
    {
      "cell_type": "markdown",
      "source": [
        "A non-straight (non-linear) line!\n",
        "\n",
        "Okay, how about the ReLU function (ReLU turns all negatives to 0 and positive numbers stay the same)?"
      ],
      "metadata": {
        "id": "8tHL1dn41y-N"
      }
    },
    {
      "cell_type": "code",
      "source": [
        "\n",
        "# ReLU - https://www.tensorflow.org/api_docs/python/tf/keras/activations/relu\n",
        "def relu(x):\n",
        "  return tf.maximum(0, x)\n",
        "\n",
        "# Pass toy tensor through ReLU function\n",
        "relu(A)"
      ],
      "metadata": {
        "colab": {
          "base_uri": "https://localhost:8080/"
        },
        "id": "vpAEMW042Map",
        "outputId": "f3ab4b3d-b848-4906-ebfa-a1268f2bcf0f"
      },
      "execution_count": 39,
      "outputs": [
        {
          "output_type": "execute_result",
          "data": {
            "text/plain": [
              "<tf.Tensor: shape=(20,), dtype=float32, numpy=\n",
              "array([0., 0., 0., 0., 0., 0., 0., 0., 0., 0., 0., 1., 2., 3., 4., 5., 6.,\n",
              "       7., 8., 9.], dtype=float32)>"
            ]
          },
          "metadata": {},
          "execution_count": 39
        }
      ]
    },
    {
      "cell_type": "code",
      "source": [
        "# Plot ReLU-modified tensor\n",
        "plt.plot(relu(A));"
      ],
      "metadata": {
        "colab": {
          "base_uri": "https://localhost:8080/",
          "height": 265
        },
        "id": "abbnSRst2PXF",
        "outputId": "ec51f6f4-0544-46b5-bc8c-d4ec8ffe9e42"
      },
      "execution_count": 40,
      "outputs": [
        {
          "output_type": "display_data",
          "data": {
            "text/plain": [
              "<Figure size 432x288 with 1 Axes>"
            ],
            "image/png": "[encoded data removed]"
          },
          "metadata": {
            "needs_background": "light"
          }
        }
      ]
    },
    {
      "cell_type": "markdown",
      "source": [
        "Another non-straight line!\n",
        "\n",
        "Well, how about TensorFlow's linear activation function?"
      ],
      "metadata": {
        "id": "iqFZhK5-2RsB"
      }
    },
    {
      "cell_type": "code",
      "source": [
        "# Linear - https://www.tensorflow.org/api_docs/python/tf/keras/activations/linear (returns input non-modified...)\n",
        "tf.keras.activations.linear(A)"
      ],
      "metadata": {
        "colab": {
          "base_uri": "https://localhost:8080/"
        },
        "id": "Yr5QwCHq3GPW",
        "outputId": "76ee4168-193a-44be-89bf-860e9fb68fc0"
      },
      "execution_count": 41,
      "outputs": [
        {
          "output_type": "execute_result",
          "data": {
            "text/plain": [
              "<tf.Tensor: shape=(20,), dtype=float32, numpy=\n",
              "array([-10.,  -9.,  -8.,  -7.,  -6.,  -5.,  -4.,  -3.,  -2.,  -1.,   0.,\n",
              "         1.,   2.,   3.,   4.,   5.,   6.,   7.,   8.,   9.],\n",
              "      dtype=float32)>"
            ]
          },
          "metadata": {},
          "execution_count": 41
        }
      ]
    },
    {
      "cell_type": "markdown",
      "source": [
        "Hmm, it looks like our inputs are unmodified...\n",
        "\n"
      ],
      "metadata": {
        "id": "EKaRem4e3Itt"
      }
    },
    {
      "cell_type": "code",
      "source": [
        "# Does the linear activation change anything?\n",
        "A == tf.keras.activations.linear(A)"
      ],
      "metadata": {
        "colab": {
          "base_uri": "https://localhost:8080/"
        },
        "id": "pLlMUxNt3MWf",
        "outputId": "3575893b-fb17-40a8-c00d-f7de45d0b95d"
      },
      "execution_count": 42,
      "outputs": [
        {
          "output_type": "execute_result",
          "data": {
            "text/plain": [
              "<tf.Tensor: shape=(20,), dtype=bool, numpy=\n",
              "array([ True,  True,  True,  True,  True,  True,  True,  True,  True,\n",
              "        True,  True,  True,  True,  True,  True,  True,  True,  True,\n",
              "        True,  True])>"
            ]
          },
          "metadata": {},
          "execution_count": 42
        }
      ]
    },
    {
      "cell_type": "markdown",
      "source": [
        "Okay, so it makes sense now the model doesn't really learn anything when using only linear activation functions, because the linear activation function doesn't change our input data in anyway.\n",
        "\n",
        "Where as, with our non-linear functions, our data gets manipulated. A neural network uses these kind of transformations at a large scale to figure draw patterns between its inputs and outputs.\n",
        "\n",
        "Now rather than dive into the guts of neural networks, we're going to keep coding applying what we've learned to different problems but if you want a more in-depth look at what's going on behind the scenes, check out the Extra Curriculum section below.\n",
        "\n",
        "📖 Resource: For more on activation functions, check out the machine learning cheatsheet page on them.\n"
      ],
      "metadata": {
        "id": "mNWZTn7I3OQB"
      }
    },
    {
      "cell_type": "markdown",
      "source": [
        "## Evaluating and improving our classification model\n",
        "\n",
        "If you answered the question above, you might've picked up what we've been doing wrong.\n",
        "\n",
        "We've been evaluating our model on the same data it was trained on.\n",
        "\n",
        "A better approach would be to split our data into training, validation (optional) and test sets.\n",
        "\n",
        "Once we've done that, we'll train our model on the training set (let it find patterns in the data) and then see how well it learned the patterns by using it to predict values on the test set.\n",
        "\n",
        "Let's do it.\n",
        "\n"
      ],
      "metadata": {
        "id": "2ECx8MJj3Ymm"
      }
    },
    {
      "cell_type": "code",
      "source": [
        "# How many examples are in the whole dataset?\n",
        "len(X)"
      ],
      "metadata": {
        "colab": {
          "base_uri": "https://localhost:8080/"
        },
        "id": "t4srEuNn3k9a",
        "outputId": "58ab860b-8e3c-45c0-903c-bd7e944828c8"
      },
      "execution_count": 43,
      "outputs": [
        {
          "output_type": "execute_result",
          "data": {
            "text/plain": [
              "1000"
            ]
          },
          "metadata": {},
          "execution_count": 43
        }
      ]
    },
    {
      "cell_type": "code",
      "source": [
        "# Split into train and test sets\n",
        "X_train, y_train = X[:800], y[:800]\n",
        "X_test, y_test = X[800:], y[800:]\n",
        "\n",
        "X_train.shape, X_test.shape, y_train.shape, y_test.shape"
      ],
      "metadata": {
        "colab": {
          "base_uri": "https://localhost:8080/"
        },
        "id": "6j_79HkZ3ogn",
        "outputId": "d27ec498-cedc-43c2-bdfc-9bc549cf41bc"
      },
      "execution_count": 44,
      "outputs": [
        {
          "output_type": "execute_result",
          "data": {
            "text/plain": [
              "((800, 2), (200, 2), (800,), (200,))"
            ]
          },
          "metadata": {},
          "execution_count": 44
        }
      ]
    },
    {
      "cell_type": "code",
      "source": [
        "# Let's recreate a model to fit on the training data and evaluate on the testing data\n",
        "\n",
        "# Set the random seed\n",
        "tf.random.set_seed(42)\n",
        "\n",
        "# 1. Create the model (same as model_7)\n",
        "model_8 = tf.keras.Sequential([\n",
        "    tf.keras.layers.Dense(4, activation=\"relu\"),\n",
        "    tf.keras.layers.Dense(4, activation=\"relu\"),\n",
        "    tf.keras.layers.Dense(1, activation=\"sigmoid\")\n",
        "])\n",
        "\n",
        "# 2. Compile the model\n",
        "model_8.compile(loss=\"binary_crossentropy\",\n",
        "                optimizer=tf.keras.optimizers.Adam(lr=0.01),\n",
        "                metrics=[\"accuracy\"])\n",
        "\n",
        "# 3. Fit the model\n",
        "history = model_8.fit(X_train, y_train, epochs=25)"
      ],
      "metadata": {
        "colab": {
          "base_uri": "https://localhost:8080/"
        },
        "id": "5yp9WGYq5Poy",
        "outputId": "6f2488fa-4ff9-422c-eecc-016455296d76"
      },
      "execution_count": 45,
      "outputs": [
        {
          "output_type": "stream",
          "name": "stderr",
          "text": [
            "WARNING:absl:`lr` is deprecated, please use `learning_rate` instead, or use the legacy optimizer, e.g.,tf.keras.optimizers.legacy.Adam.\n"
          ]
        },
        {
          "output_type": "stream",
          "name": "stdout",
          "text": [
            "Epoch 1/25\n",
            "25/25 [==============================] - 1s 4ms/step - loss: 0.7199 - accuracy: 0.5100\n",
            "Epoch 2/25\n",
            "25/25 [==============================] - 0s 3ms/step - loss: 0.7122 - accuracy: 0.5175\n",
            "Epoch 3/25\n",
            "25/25 [==============================] - 0s 3ms/step - loss: 0.7077 - accuracy: 0.5075\n",
            "Epoch 4/25\n",
            "25/25 [==============================] - 0s 3ms/step - loss: 0.7051 - accuracy: 0.4938\n",
            "Epoch 5/25\n",
            "25/25 [==============================] - 0s 3ms/step - loss: 0.7030 - accuracy: 0.4825\n",
            "Epoch 6/25\n",
            "25/25 [==============================] - 0s 3ms/step - loss: 0.7018 - accuracy: 0.4875\n",
            "Epoch 7/25\n",
            "25/25 [==============================] - 0s 4ms/step - loss: 0.7004 - accuracy: 0.4988\n",
            "Epoch 8/25\n",
            "25/25 [==============================] - 0s 4ms/step - loss: 0.6997 - accuracy: 0.4975\n",
            "Epoch 9/25\n",
            "25/25 [==============================] - 0s 3ms/step - loss: 0.6988 - accuracy: 0.4988\n",
            "Epoch 10/25\n",
            "25/25 [==============================] - 0s 3ms/step - loss: 0.6982 - accuracy: 0.4963\n",
            "Epoch 11/25\n",
            "25/25 [==============================] - 0s 3ms/step - loss: 0.6976 - accuracy: 0.4938\n",
            "Epoch 12/25\n",
            "25/25 [==============================] - 0s 3ms/step - loss: 0.6971 - accuracy: 0.4963\n",
            "Epoch 13/25\n",
            "25/25 [==============================] - 0s 3ms/step - loss: 0.6965 - accuracy: 0.4925\n",
            "Epoch 14/25\n",
            "25/25 [==============================] - 0s 3ms/step - loss: 0.6959 - accuracy: 0.4875\n",
            "Epoch 15/25\n",
            "25/25 [==============================] - 0s 3ms/step - loss: 0.6954 - accuracy: 0.4900\n",
            "Epoch 16/25\n",
            "25/25 [==============================] - 0s 3ms/step - loss: 0.6948 - accuracy: 0.4913\n",
            "Epoch 17/25\n",
            "25/25 [==============================] - 0s 4ms/step - loss: 0.6942 - accuracy: 0.4913\n",
            "Epoch 18/25\n",
            "25/25 [==============================] - 0s 4ms/step - loss: 0.6935 - accuracy: 0.4950\n",
            "Epoch 19/25\n",
            "25/25 [==============================] - 0s 3ms/step - loss: 0.6929 - accuracy: 0.4938\n",
            "Epoch 20/25\n",
            "25/25 [==============================] - 0s 3ms/step - loss: 0.6923 - accuracy: 0.4925\n",
            "Epoch 21/25\n",
            "25/25 [==============================] - 0s 3ms/step - loss: 0.6918 - accuracy: 0.4975\n",
            "Epoch 22/25\n",
            "25/25 [==============================] - 0s 3ms/step - loss: 0.6913 - accuracy: 0.4950\n",
            "Epoch 23/25\n",
            "25/25 [==============================] - 0s 3ms/step - loss: 0.6908 - accuracy: 0.4975\n",
            "Epoch 24/25\n",
            "25/25 [==============================] - 0s 3ms/step - loss: 0.6902 - accuracy: 0.5000\n",
            "Epoch 25/25\n",
            "25/25 [==============================] - 0s 3ms/step - loss: 0.6899 - accuracy: 0.5013\n"
          ]
        }
      ]
    },
    {
      "cell_type": "code",
      "source": [
        "model_8.evaluate(X_test, y_test)"
      ],
      "metadata": {
        "colab": {
          "base_uri": "https://localhost:8080/"
        },
        "id": "9khea9726lZS",
        "outputId": "83e6ef3a-796e-4529-da7e-0539f6764c3d"
      },
      "execution_count": 46,
      "outputs": [
        {
          "output_type": "stream",
          "name": "stdout",
          "text": [
            "7/7 [==============================] - 0s 3ms/step - loss: 0.6896 - accuracy: 0.4750\n"
          ]
        },
        {
          "output_type": "execute_result",
          "data": {
            "text/plain": [
              "[0.6896059513092041, 0.4749999940395355]"
            ]
          },
          "metadata": {},
          "execution_count": 46
        }
      ]
    },
    {
      "cell_type": "code",
      "source": [
        "# Plot the decision boundaries for the training and test sets\n",
        "# Plot the decision boundaries for the training and test sets\n",
        "plt.figure(figsize=(12, 6))\n",
        "plt.subplot(1, 2, 1)\n",
        "plt.title(\"Train\")\n",
        "plot_decision_boundary(model_8, X=X_train, y=y_train)\n",
        "plt.subplot(1, 2, 2)\n",
        "plt.title(\"Test\")\n",
        "plot_decision_boundary(model_8, X=X_test, y=y_test)\n",
        "plt.show()"
      ],
      "metadata": {
        "colab": {
          "base_uri": "https://localhost:8080/",
          "height": 461
        },
        "id": "Gbc3Odwh6_yn",
        "outputId": "de3181f2-c52d-46d7-bc20-6b8e4a50f8d9"
      },
      "execution_count": 47,
      "outputs": [
        {
          "output_type": "stream",
          "name": "stdout",
          "text": [
            "313/313 [==============================] - 1s 2ms/step\n",
            "doing binary classification\n",
            "313/313 [==============================] - 1s 2ms/step\n",
            "doing binary classification\n"
          ]
        },
        {
          "output_type": "display_data",
          "data": {
            "text/plain": [
              "<Figure size 864x432 with 2 Axes>"
            ],
            "image/png": "[encoded data removed]"
          },
          "metadata": {
            "needs_background": "light"
          }
        }
      ]
    },
    {
      "cell_type": "markdown",
      "source": [
        "# Plot the training curves (Loss curves)"
      ],
      "metadata": {
        "id": "C5aeTkQc-aEg"
      }
    },
    {
      "cell_type": "code",
      "source": [
        "# Convert the history object into a DataFrame\n",
        "pd.DataFrame(history.history)"
      ],
      "metadata": {
        "colab": {
          "base_uri": "https://localhost:8080/",
          "height": 833
        },
        "id": "1GrOxlHVCcLK",
        "outputId": "db7229e9-a54e-409a-8b4a-257c9cdf4888"
      },
      "execution_count": 48,
      "outputs": [
        {
          "output_type": "execute_result",
          "data": {
            "text/plain": [
              "        loss  accuracy\n",
              "0   0.719933   0.51000\n",
              "1   0.712214   0.51750\n",
              "2   0.707680   0.50750\n",
              "3   0.705117   0.49375\n",
              "4   0.703049   0.48250\n",
              "5   0.701778   0.48750\n",
              "6   0.700394   0.49875\n",
              "7   0.699658   0.49750\n",
              "8   0.698834   0.49875\n",
              "9   0.698163   0.49625\n",
              "10  0.697556   0.49375\n",
              "11  0.697060   0.49625\n",
              "12  0.696485   0.49250\n",
              "13  0.695905   0.48750\n",
              "14  0.695383   0.49000\n",
              "15  0.694819   0.49125\n",
              "16  0.694226   0.49125\n",
              "17  0.693541   0.49500\n",
              "18  0.692915   0.49375\n",
              "19  0.692256   0.49250\n",
              "20  0.691750   0.49750\n",
              "21  0.691281   0.49500\n",
              "22  0.690815   0.49750\n",
              "23  0.690233   0.50000\n",
              "24  0.689918   0.50125"
            ],
            "text/html": [
              "\n",
              "  <div id=\"df-d415bd59-4e26-4b43-80be-8947f225ed14\">\n",
              "    <div class=\"colab-df-container\">\n",
              "      <div>\n",
              "<style scoped>\n",
              "    .dataframe tbody tr th:only-of-type {\n",
              "        vertical-align: middle;\n",
              "    }\n",
              "\n",
              "    .dataframe tbody tr th {\n",
              "        vertical-align: top;\n",
              "    }\n",
              "\n",
              "    .dataframe thead th {\n",
              "        text-align: right;\n",
              "    }\n",
              "</style>\n",
              "<table border=\"1\" class=\"dataframe\">\n",
              "  <thead>\n",
              "    <tr style=\"text-align: right;\">\n",
              "      <th></th>\n",
              "      <th>loss</th>\n",
              "      <th>accuracy</th>\n",
              "    </tr>\n",
              "  </thead>\n",
              "  <tbody>\n",
              "    <tr>\n",
              "      <th>0</th>\n",
              "      <td>0.719933</td>\n",
              "      <td>0.51000</td>\n",
              "    </tr>\n",
              "    <tr>\n",
              "      <th>1</th>\n",
              "      <td>0.712214</td>\n",
              "      <td>0.51750</td>\n",
              "    </tr>\n",
              "    <tr>\n",
              "      <th>2</th>\n",
              "      <td>0.707680</td>\n",
              "      <td>0.50750</td>\n",
              "    </tr>\n",
              "    <tr>\n",
              "      <th>3</th>\n",
              "      <td>0.705117</td>\n",
              "      <td>0.49375</td>\n",
              "    </tr>\n",
              "    <tr>\n",
              "      <th>4</th>\n",
              "      <td>0.703049</td>\n",
              "      <td>0.48250</td>\n",
              "    </tr>\n",
              "    <tr>\n",
              "      <th>5</th>\n",
              "      <td>0.701778</td>\n",
              "      <td>0.48750</td>\n",
              "    </tr>\n",
              "    <tr>\n",
              "      <th>6</th>\n",
              "      <td>0.700394</td>\n",
              "      <td>0.49875</td>\n",
              "    </tr>\n",
              "    <tr>\n",
              "      <th>7</th>\n",
              "      <td>0.699658</td>\n",
              "      <td>0.49750</td>\n",
              "    </tr>\n",
              "    <tr>\n",
              "      <th>8</th>\n",
              "      <td>0.698834</td>\n",
              "      <td>0.49875</td>\n",
              "    </tr>\n",
              "    <tr>\n",
              "      <th>9</th>\n",
              "      <td>0.698163</td>\n",
              "      <td>0.49625</td>\n",
              "    </tr>\n",
              "    <tr>\n",
              "      <th>10</th>\n",
              "      <td>0.697556</td>\n",
              "      <td>0.49375</td>\n",
              "    </tr>\n",
              "    <tr>\n",
              "      <th>11</th>\n",
              "      <td>0.697060</td>\n",
              "      <td>0.49625</td>\n",
              "    </tr>\n",
              "    <tr>\n",
              "      <th>12</th>\n",
              "      <td>0.696485</td>\n",
              "      <td>0.49250</td>\n",
              "    </tr>\n",
              "    <tr>\n",
              "      <th>13</th>\n",
              "      <td>0.695905</td>\n",
              "      <td>0.48750</td>\n",
              "    </tr>\n",
              "    <tr>\n",
              "      <th>14</th>\n",
              "      <td>0.695383</td>\n",
              "      <td>0.49000</td>\n",
              "    </tr>\n",
              "    <tr>\n",
              "      <th>15</th>\n",
              "      <td>0.694819</td>\n",
              "      <td>0.49125</td>\n",
              "    </tr>\n",
              "    <tr>\n",
              "      <th>16</th>\n",
              "      <td>0.694226</td>\n",
              "      <td>0.49125</td>\n",
              "    </tr>\n",
              "    <tr>\n",
              "      <th>17</th>\n",
              "      <td>0.693541</td>\n",
              "      <td>0.49500</td>\n",
              "    </tr>\n",
              "    <tr>\n",
              "      <th>18</th>\n",
              "      <td>0.692915</td>\n",
              "      <td>0.49375</td>\n",
              "    </tr>\n",
              "    <tr>\n",
              "      <th>19</th>\n",
              "      <td>0.692256</td>\n",
              "      <td>0.49250</td>\n",
              "    </tr>\n",
              "    <tr>\n",
              "      <th>20</th>\n",
              "      <td>0.691750</td>\n",
              "      <td>0.49750</td>\n",
              "    </tr>\n",
              "    <tr>\n",
              "      <th>21</th>\n",
              "      <td>0.691281</td>\n",
              "      <td>0.49500</td>\n",
              "    </tr>\n",
              "    <tr>\n",
              "      <th>22</th>\n",
              "      <td>0.690815</td>\n",
              "      <td>0.49750</td>\n",
              "    </tr>\n",
              "    <tr>\n",
              "      <th>23</th>\n",
              "      <td>0.690233</td>\n",
              "      <td>0.50000</td>\n",
              "    </tr>\n",
              "    <tr>\n",
              "      <th>24</th>\n",
              "      <td>0.689918</td>\n",
              "      <td>0.50125</td>\n",
              "    </tr>\n",
              "  </tbody>\n",
              "</table>\n",
              "</div>\n",
              "      <button class=\"colab-df-convert\" onclick=\"convertToInteractive('df-d415bd59-4e26-4b43-80be-8947f225ed14')\"\n",
              "              title=\"Convert this dataframe to an interactive table.\"\n",
              "              style=\"display:none;\">\n",
              "        \n",
              "  <svg xmlns=\"http://www.w3.org/2000/svg\" height=\"24px\"viewBox=\"0 0 24 24\"\n",
              "       width=\"24px\">\n",
              "    <path d=\"M0 0h24v24H0V0z\" fill=\"none\"/>\n",
              "    <path d=\"M18.56 5.44l.94 2.06.94-2.06 2.06-.94-2.06-.94-.94-2.06-.94 2.06-2.06.94zm-11 1L8.5 8.5l.94-2.06 2.06-.94-2.06-.94L8.5 2.5l-.94 2.06-2.06.94zm10 10l.94 2.06.94-2.06 2.06-.94-2.06-.94-.94-2.06-.94 2.06-2.06.94z\"/><path d=\"M17.41 7.96l-1.37-1.37c-.4-.4-.92-.59-1.43-.59-.52 0-1.04.2-1.43.59L10.3 9.45l-7.72 7.72c-.78.78-.78 2.05 0 2.83L4 21.41c.39.39.9.59 1.41.59.51 0 1.02-.2 1.41-.59l7.78-7.78 2.81-2.81c.8-.78.8-2.07 0-2.86zM5.41 20L4 18.59l7.72-7.72 1.47 1.35L5.41 20z\"/>\n",
              "  </svg>\n",
              "      </button>\n",
              "      \n",
              "  <style>\n",
              "    .colab-df-container {\n",
              "      display:flex;\n",
              "      flex-wrap:wrap;\n",
              "      gap: 12px;\n",
              "    }\n",
              "\n",
              "    .colab-df-convert {\n",
              "      background-color: #E8F0FE;\n",
              "      border: none;\n",
              "      border-radius: 50%;\n",
              "      cursor: pointer;\n",
              "      display: none;\n",
              "      fill: #1967D2;\n",
              "      height: 32px;\n",
              "      padding: 0 0 0 0;\n",
              "      width: 32px;\n",
              "    }\n",
              "\n",
              "    .colab-df-convert:hover {\n",
              "      background-color: #E2EBFA;\n",
              "      box-shadow: 0px 1px 2px rgba(60, 64, 67, 0.3), 0px 1px 3px 1px rgba(60, 64, 67, 0.15);\n",
              "      fill: #174EA6;\n",
              "    }\n",
              "\n",
              "    [theme=dark] .colab-df-convert {\n",
              "      background-color: #3B4455;\n",
              "      fill: #D2E3FC;\n",
              "    }\n",
              "\n",
              "    [theme=dark] .colab-df-convert:hover {\n",
              "      background-color: #434B5C;\n",
              "      box-shadow: 0px 1px 3px 1px rgba(0, 0, 0, 0.15);\n",
              "      filter: drop-shadow(0px 1px 2px rgba(0, 0, 0, 0.3));\n",
              "      fill: #FFFFFF;\n",
              "    }\n",
              "  </style>\n",
              "\n",
              "      <script>\n",
              "        const buttonEl =\n",
              "          document.querySelector('#df-d415bd59-4e26-4b43-80be-8947f225ed14 button.colab-df-convert');\n",
              "        buttonEl.style.display =\n",
              "          google.colab.kernel.accessAllowed ? 'block' : 'none';\n",
              "\n",
              "        async function convertToInteractive(key) {\n",
              "          const element = document.querySelector('#df-d415bd59-4e26-4b43-80be-8947f225ed14');\n",
              "          const dataTable =\n",
              "            await google.colab.kernel.invokeFunction('convertToInteractive',\n",
              "                                                     [key], {});\n",
              "          if (!dataTable) return;\n",
              "\n",
              "          const docLinkHtml = 'Like what you see? Visit the ' +\n",
              "            '<a target=\"_blank\" href=https://colab.research.google.com/notebooks/data_table.ipynb>data table notebook</a>'\n",
              "            + ' to learn more about interactive tables.';\n",
              "          element.innerHTML = '';\n",
              "          dataTable['output_type'] = 'display_data';\n",
              "          await google.colab.output.renderOutput(dataTable, element);\n",
              "          const docLink = document.createElement('div');\n",
              "          docLink.innerHTML = docLinkHtml;\n",
              "          element.appendChild(docLink);\n",
              "        }\n",
              "      </script>\n",
              "    </div>\n",
              "  </div>\n",
              "  "
            ]
          },
          "metadata": {},
          "execution_count": 48
        }
      ]
    },
    {
      "cell_type": "code",
      "source": [
        "# Plot the loss curves\n",
        "pd.DataFrame(history.history).plot()\n",
        "plt.title(\"Model_8 loss curves\");"
      ],
      "metadata": {
        "colab": {
          "base_uri": "https://localhost:8080/",
          "height": 281
        },
        "id": "-KwK7uRMC4h7",
        "outputId": "41c5d2cc-35c4-486a-fdd7-4a3fb24edd1d"
      },
      "execution_count": 49,
      "outputs": [
        {
          "output_type": "display_data",
          "data": {
            "text/plain": [
              "<Figure size 432x288 with 1 Axes>"
            ],
            "image/png": "[encoded data removed]"
          },
          "metadata": {
            "needs_background": "light"
          }
        }
      ]
    },
    {
      "cell_type": "markdown",
      "source": [
        "🔑 **Note:** For many problems, the loss function going down means the model is improving (the predictions ground truth labels)."
      ],
      "metadata": {
        "id": "3QRTXsQODT77"
      }
    },
    {
      "cell_type": "markdown",
      "source": [
        "## Finding the best learning rate\n",
        "\n",
        "To find the ideal learning rate (the learning rate where the loss decreases the most during training) we're going to use the following steps:\n",
        "* A learning rate **callback** - you can think of a callback as an extra piece of functionality you can add to your model while it's training.\n",
        "* Another model (we could use the same one as above, but we're practicing building models here)\n",
        "* A modified loss curves plot."
      ],
      "metadata": {
        "id": "vBjL72REDOyM"
      }
    },
    {
      "cell_type": "code",
      "source": [
        "# set random seed\n",
        "tf.random.set_seed(42)\n",
        "\n",
        "# Create a model (same as model_8)\n",
        "model_9 = tf.keras.Sequential([\n",
        "    tf.keras.layers.Dense(4, activation=\"relu\"),\n",
        "    tf.keras.layers.Dense(4, activation=\"relu\"),\n",
        "    tf.keras.layers.Dense(1, activation=\"sigmoid\")\n",
        "])\n",
        "\n",
        "# Compile the model\n",
        "model_9.compile(loss=\"binary_crossentropy\",\n",
        "                optimizer=\"Adam\",\n",
        "                metrics=[\"accuracy\"])\n",
        "\n",
        "# Create a learning rate callback\n",
        "lr_scheduler = tf.keras.callbacks.LearningRateScheduler(lambda epoch: 1e-4 * 10**(epoch/20))\n",
        "\n",
        "# Fit the model (passing lr_scheduler callback)\n",
        "history_9 = model_9.fit(X_train,\n",
        "                        y_train,\n",
        "                        epochs=100,\n",
        "                        callbacks=[lr_scheduler])\n",
        "\n"
      ],
      "metadata": {
        "colab": {
          "base_uri": "https://localhost:8080/"
        },
        "id": "fUGr9EDKEetA",
        "outputId": "7467b6bf-01ee-43ec-f629-c659cab4cf09"
      },
      "execution_count": 50,
      "outputs": [
        {
          "output_type": "stream",
          "name": "stdout",
          "text": [
            "Epoch 1/100\n",
            "25/25 [==============================] - 2s 5ms/step - loss: 0.6976 - accuracy: 0.4888 - lr: 1.0000e-04\n",
            "Epoch 2/100\n",
            "25/25 [==============================] - 0s 4ms/step - loss: 0.6974 - accuracy: 0.4900 - lr: 1.1220e-04\n",
            "Epoch 3/100\n",
            "25/25 [==============================] - 0s 4ms/step - loss: 0.6971 - accuracy: 0.4900 - lr: 1.2589e-04\n",
            "Epoch 4/100\n",
            "25/25 [==============================] - 0s 4ms/step - loss: 0.6969 - accuracy: 0.4900 - lr: 1.4125e-04\n",
            "Epoch 5/100\n",
            "25/25 [==============================] - 0s 4ms/step - loss: 0.6966 - accuracy: 0.4875 - lr: 1.5849e-04\n",
            "Epoch 6/100\n",
            "25/25 [==============================] - 0s 4ms/step - loss: 0.6964 - accuracy: 0.4837 - lr: 1.7783e-04\n",
            "Epoch 7/100\n",
            "25/25 [==============================] - 0s 4ms/step - loss: 0.6960 - accuracy: 0.4787 - lr: 1.9953e-04\n",
            "Epoch 8/100\n",
            "25/25 [==============================] - 0s 5ms/step - loss: 0.6957 - accuracy: 0.4812 - lr: 2.2387e-04\n",
            "Epoch 9/100\n",
            "25/25 [==============================] - 0s 5ms/step - loss: 0.6953 - accuracy: 0.4812 - lr: 2.5119e-04\n",
            "Epoch 10/100\n",
            "25/25 [==============================] - 0s 5ms/step - loss: 0.6949 - accuracy: 0.4812 - lr: 2.8184e-04\n",
            "Epoch 11/100\n",
            "25/25 [==============================] - 0s 4ms/step - loss: 0.6945 - accuracy: 0.4825 - lr: 3.1623e-04\n",
            "Epoch 12/100\n",
            "25/25 [==============================] - 0s 4ms/step - loss: 0.6941 - accuracy: 0.4787 - lr: 3.5481e-04\n",
            "Epoch 13/100\n",
            "25/25 [==============================] - 0s 3ms/step - loss: 0.6936 - accuracy: 0.4812 - lr: 3.9811e-04\n",
            "Epoch 14/100\n",
            "25/25 [==============================] - 0s 3ms/step - loss: 0.6931 - accuracy: 0.4825 - lr: 4.4668e-04\n",
            "Epoch 15/100\n",
            "25/25 [==============================] - 0s 3ms/step - loss: 0.6926 - accuracy: 0.4800 - lr: 5.0119e-04\n",
            "Epoch 16/100\n",
            "25/25 [==============================] - 0s 3ms/step - loss: 0.6919 - accuracy: 0.4850 - lr: 5.6234e-04\n",
            "Epoch 17/100\n",
            "25/25 [==============================] - 0s 4ms/step - loss: 0.6914 - accuracy: 0.4875 - lr: 6.3096e-04\n",
            "Epoch 18/100\n",
            "25/25 [==============================] - 0s 3ms/step - loss: 0.6906 - accuracy: 0.4888 - lr: 7.0795e-04\n",
            "Epoch 19/100\n",
            "25/25 [==============================] - 0s 3ms/step - loss: 0.6900 - accuracy: 0.4875 - lr: 7.9433e-04\n",
            "Epoch 20/100\n",
            "25/25 [==============================] - 0s 4ms/step - loss: 0.6890 - accuracy: 0.4900 - lr: 8.9125e-04\n",
            "Epoch 21/100\n",
            "25/25 [==============================] - 0s 3ms/step - loss: 0.6881 - accuracy: 0.4863 - lr: 0.0010\n",
            "Epoch 22/100\n",
            "25/25 [==============================] - 0s 3ms/step - loss: 0.6871 - accuracy: 0.5038 - lr: 0.0011\n",
            "Epoch 23/100\n",
            "25/25 [==============================] - 0s 3ms/step - loss: 0.6861 - accuracy: 0.5113 - lr: 0.0013\n",
            "Epoch 24/100\n",
            "25/25 [==============================] - 0s 2ms/step - loss: 0.6848 - accuracy: 0.5400 - lr: 0.0014\n",
            "Epoch 25/100\n",
            "25/25 [==============================] - 0s 3ms/step - loss: 0.6835 - accuracy: 0.5450 - lr: 0.0016\n",
            "Epoch 26/100\n",
            "25/25 [==============================] - 0s 3ms/step - loss: 0.6821 - accuracy: 0.5550 - lr: 0.0018\n",
            "Epoch 27/100\n",
            "25/25 [==============================] - 0s 3ms/step - loss: 0.6803 - accuracy: 0.5600 - lr: 0.0020\n",
            "Epoch 28/100\n",
            "25/25 [==============================] - 0s 3ms/step - loss: 0.6781 - accuracy: 0.5813 - lr: 0.0022\n",
            "Epoch 29/100\n",
            "25/25 [==============================] - 0s 3ms/step - loss: 0.6762 - accuracy: 0.5813 - lr: 0.0025\n",
            "Epoch 30/100\n",
            "25/25 [==============================] - 0s 2ms/step - loss: 0.6728 - accuracy: 0.6012 - lr: 0.0028\n",
            "Epoch 31/100\n",
            "25/25 [==============================] - 0s 3ms/step - loss: 0.6687 - accuracy: 0.6100 - lr: 0.0032\n",
            "Epoch 32/100\n",
            "25/25 [==============================] - 0s 3ms/step - loss: 0.6630 - accuracy: 0.6087 - lr: 0.0035\n",
            "Epoch 33/100\n",
            "25/25 [==============================] - 0s 3ms/step - loss: 0.6540 - accuracy: 0.6513 - lr: 0.0040\n",
            "Epoch 34/100\n",
            "25/25 [==============================] - 0s 3ms/step - loss: 0.6425 - accuracy: 0.7000 - lr: 0.0045\n",
            "Epoch 35/100\n",
            "25/25 [==============================] - 0s 2ms/step - loss: 0.6250 - accuracy: 0.8225 - lr: 0.0050\n",
            "Epoch 36/100\n",
            "25/25 [==============================] - 0s 3ms/step - loss: 0.6090 - accuracy: 0.7450 - lr: 0.0056\n",
            "Epoch 37/100\n",
            "25/25 [==============================] - 0s 3ms/step - loss: 0.5781 - accuracy: 0.8112 - lr: 0.0063\n",
            "Epoch 38/100\n",
            "25/25 [==============================] - 0s 2ms/step - loss: 0.5434 - accuracy: 0.7912 - lr: 0.0071\n",
            "Epoch 39/100\n",
            "25/25 [==============================] - 0s 3ms/step - loss: 0.5023 - accuracy: 0.8363 - lr: 0.0079\n",
            "Epoch 40/100\n",
            "25/25 [==============================] - 0s 3ms/step - loss: 0.4347 - accuracy: 0.8875 - lr: 0.0089\n",
            "Epoch 41/100\n",
            "25/25 [==============================] - 0s 3ms/step - loss: 0.3508 - accuracy: 0.9400 - lr: 0.0100\n",
            "Epoch 42/100\n",
            "25/25 [==============================] - 0s 3ms/step - loss: 0.2705 - accuracy: 0.9638 - lr: 0.0112\n",
            "Epoch 43/100\n",
            "25/25 [==============================] - 0s 3ms/step - loss: 0.1852 - accuracy: 0.9887 - lr: 0.0126\n",
            "Epoch 44/100\n",
            "25/25 [==============================] - 0s 4ms/step - loss: 0.1315 - accuracy: 0.9875 - lr: 0.0141\n",
            "Epoch 45/100\n",
            "25/25 [==============================] - 0s 3ms/step - loss: 0.1010 - accuracy: 0.9962 - lr: 0.0158\n",
            "Epoch 46/100\n",
            "25/25 [==============================] - 0s 3ms/step - loss: 0.0745 - accuracy: 0.9975 - lr: 0.0178\n",
            "Epoch 47/100\n",
            "25/25 [==============================] - 0s 3ms/step - loss: 0.0585 - accuracy: 0.9925 - lr: 0.0200\n",
            "Epoch 48/100\n",
            "25/25 [==============================] - 0s 3ms/step - loss: 0.0634 - accuracy: 0.9887 - lr: 0.0224\n",
            "Epoch 49/100\n",
            "25/25 [==============================] - 0s 4ms/step - loss: 0.0479 - accuracy: 0.9912 - lr: 0.0251\n",
            "Epoch 50/100\n",
            "25/25 [==============================] - 0s 3ms/step - loss: 0.0692 - accuracy: 0.9775 - lr: 0.0282\n",
            "Epoch 51/100\n",
            "25/25 [==============================] - 0s 3ms/step - loss: 0.0594 - accuracy: 0.9825 - lr: 0.0316\n",
            "Epoch 52/100\n",
            "25/25 [==============================] - 0s 3ms/step - loss: 0.0302 - accuracy: 0.9950 - lr: 0.0355\n",
            "Epoch 53/100\n",
            "25/25 [==============================] - 0s 4ms/step - loss: 0.0462 - accuracy: 0.9825 - lr: 0.0398\n",
            "Epoch 54/100\n",
            "25/25 [==============================] - 0s 3ms/step - loss: 0.0592 - accuracy: 0.9762 - lr: 0.0447\n",
            "Epoch 55/100\n",
            "25/25 [==============================] - 0s 3ms/step - loss: 0.1586 - accuracy: 0.9413 - lr: 0.0501\n",
            "Epoch 56/100\n",
            "25/25 [==============================] - 0s 3ms/step - loss: 0.1674 - accuracy: 0.9388 - lr: 0.0562\n",
            "Epoch 57/100\n",
            "25/25 [==============================] - 0s 3ms/step - loss: 0.1308 - accuracy: 0.9425 - lr: 0.0631\n",
            "Epoch 58/100\n",
            "25/25 [==============================] - 0s 2ms/step - loss: 0.0532 - accuracy: 0.9812 - lr: 0.0708\n",
            "Epoch 59/100\n",
            "25/25 [==============================] - 0s 3ms/step - loss: 0.2091 - accuracy: 0.9175 - lr: 0.0794\n",
            "Epoch 60/100\n",
            "25/25 [==============================] - 0s 3ms/step - loss: 0.2035 - accuracy: 0.9287 - lr: 0.0891\n",
            "Epoch 61/100\n",
            "25/25 [==============================] - 0s 3ms/step - loss: 0.0883 - accuracy: 0.9663 - lr: 0.1000\n",
            "Epoch 62/100\n",
            "25/25 [==============================] - 0s 3ms/step - loss: 0.0511 - accuracy: 0.9837 - lr: 0.1122\n",
            "Epoch 63/100\n",
            "25/25 [==============================] - 0s 3ms/step - loss: 0.0210 - accuracy: 0.9975 - lr: 0.1259\n",
            "Epoch 64/100\n",
            "25/25 [==============================] - 0s 3ms/step - loss: 0.0203 - accuracy: 0.9950 - lr: 0.1413\n",
            "Epoch 65/100\n",
            "25/25 [==============================] - 0s 3ms/step - loss: 0.1451 - accuracy: 0.9488 - lr: 0.1585\n",
            "Epoch 66/100\n",
            "25/25 [==============================] - 0s 3ms/step - loss: 0.8630 - accuracy: 0.6975 - lr: 0.1778\n",
            "Epoch 67/100\n",
            "25/25 [==============================] - 0s 3ms/step - loss: 0.6683 - accuracy: 0.5663 - lr: 0.1995\n",
            "Epoch 68/100\n",
            "25/25 [==============================] - 0s 3ms/step - loss: 0.6472 - accuracy: 0.5788 - lr: 0.2239\n",
            "Epoch 69/100\n",
            "25/25 [==============================] - 0s 3ms/step - loss: 0.6438 - accuracy: 0.5537 - lr: 0.2512\n",
            "Epoch 70/100\n",
            "25/25 [==============================] - 0s 3ms/step - loss: 0.6540 - accuracy: 0.5638 - lr: 0.2818\n",
            "Epoch 71/100\n",
            "25/25 [==============================] - 0s 3ms/step - loss: 0.5972 - accuracy: 0.6525 - lr: 0.3162\n",
            "Epoch 72/100\n",
            "25/25 [==============================] - 0s 2ms/step - loss: 0.5747 - accuracy: 0.6700 - lr: 0.3548\n",
            "Epoch 73/100\n",
            "25/25 [==============================] - 0s 3ms/step - loss: 0.6102 - accuracy: 0.6012 - lr: 0.3981\n",
            "Epoch 74/100\n",
            "25/25 [==============================] - 0s 3ms/step - loss: 0.6806 - accuracy: 0.5325 - lr: 0.4467\n",
            "Epoch 75/100\n",
            "25/25 [==============================] - 0s 3ms/step - loss: 0.6990 - accuracy: 0.5188 - lr: 0.5012\n",
            "Epoch 76/100\n",
            "25/25 [==============================] - 0s 3ms/step - loss: 0.7024 - accuracy: 0.5138 - lr: 0.5623\n",
            "Epoch 77/100\n",
            "25/25 [==============================] - 0s 3ms/step - loss: 0.7065 - accuracy: 0.4938 - lr: 0.6310\n",
            "Epoch 78/100\n",
            "25/25 [==============================] - 0s 3ms/step - loss: 0.7176 - accuracy: 0.5138 - lr: 0.7079\n",
            "Epoch 79/100\n",
            "25/25 [==============================] - 0s 3ms/step - loss: 0.7160 - accuracy: 0.4863 - lr: 0.7943\n",
            "Epoch 80/100\n",
            "25/25 [==============================] - 0s 4ms/step - loss: 0.7060 - accuracy: 0.4963 - lr: 0.8913\n",
            "Epoch 81/100\n",
            "25/25 [==============================] - 0s 3ms/step - loss: 0.7136 - accuracy: 0.4888 - lr: 1.0000\n",
            "Epoch 82/100\n",
            "25/25 [==============================] - 0s 3ms/step - loss: 0.7130 - accuracy: 0.5412 - lr: 1.1220\n",
            "Epoch 83/100\n",
            "25/25 [==============================] - 0s 3ms/step - loss: 0.7284 - accuracy: 0.4762 - lr: 1.2589\n",
            "Epoch 84/100\n",
            "25/25 [==============================] - 0s 3ms/step - loss: 0.7076 - accuracy: 0.5088 - lr: 1.4125\n",
            "Epoch 85/100\n",
            "25/25 [==============================] - 0s 3ms/step - loss: 0.7270 - accuracy: 0.5038 - lr: 1.5849\n",
            "Epoch 86/100\n",
            "25/25 [==============================] - 0s 3ms/step - loss: 0.7716 - accuracy: 0.5038 - lr: 1.7783\n",
            "Epoch 87/100\n",
            "25/25 [==============================] - 0s 3ms/step - loss: 0.7679 - accuracy: 0.5063 - lr: 1.9953\n",
            "Epoch 88/100\n",
            "25/25 [==============================] - 0s 3ms/step - loss: 0.7580 - accuracy: 0.5163 - lr: 2.2387\n",
            "Epoch 89/100\n",
            "25/25 [==============================] - 0s 3ms/step - loss: 0.7601 - accuracy: 0.4913 - lr: 2.5119\n",
            "Epoch 90/100\n",
            "25/25 [==============================] - 0s 3ms/step - loss: 0.7845 - accuracy: 0.5038 - lr: 2.8184\n",
            "Epoch 91/100\n",
            "25/25 [==============================] - 0s 4ms/step - loss: 0.8064 - accuracy: 0.5213 - lr: 3.1623\n",
            "Epoch 92/100\n",
            "25/25 [==============================] - 0s 4ms/step - loss: 0.7370 - accuracy: 0.4963 - lr: 3.5481\n",
            "Epoch 93/100\n",
            "25/25 [==============================] - 0s 3ms/step - loss: 0.7412 - accuracy: 0.4963 - lr: 3.9811\n",
            "Epoch 94/100\n",
            "25/25 [==============================] - 0s 3ms/step - loss: 0.7589 - accuracy: 0.4938 - lr: 4.4668\n",
            "Epoch 95/100\n",
            "25/25 [==============================] - 0s 3ms/step - loss: 0.8213 - accuracy: 0.4863 - lr: 5.0119\n",
            "Epoch 96/100\n",
            "25/25 [==============================] - 0s 3ms/step - loss: 0.7839 - accuracy: 0.4613 - lr: 5.6234\n",
            "Epoch 97/100\n",
            "25/25 [==============================] - 0s 3ms/step - loss: 0.8067 - accuracy: 0.5013 - lr: 6.3096\n",
            "Epoch 98/100\n",
            "25/25 [==============================] - 0s 3ms/step - loss: 0.9641 - accuracy: 0.4963 - lr: 7.0795\n",
            "Epoch 99/100\n",
            "25/25 [==============================] - 0s 3ms/step - loss: 0.9648 - accuracy: 0.4913 - lr: 7.9433\n",
            "Epoch 100/100\n",
            "25/25 [==============================] - 0s 3ms/step - loss: 0.8583 - accuracy: 0.4613 - lr: 8.9125\n"
          ]
        }
      ]
    },
    {
      "cell_type": "code",
      "source": [
        "# Check out the history\n",
        "pd.DataFrame(history_9.history).plot(figsize=(10, 7), xlabel=\"Epochs\");"
      ],
      "metadata": {
        "colab": {
          "base_uri": "https://localhost:8080/",
          "height": 442
        },
        "id": "Z5d3dPlBFjAf",
        "outputId": "545b5860-9363-460e-eb3c-b4e65754a349"
      },
      "execution_count": 51,
      "outputs": [
        {
          "output_type": "display_data",
          "data": {
            "text/plain": [
              "<Figure size 720x504 with 1 Axes>"
            ],
            "image/png": "[encoded data removed]"
          },
          "metadata": {
            "needs_background": "light"
          }
        }
      ]
    },
    {
      "cell_type": "code",
      "source": [
        "# Plot the learning rate versus the loss\n",
        "lrs = 1e-4 * (10 ** (tf.range(100)/20))\n",
        "plt.figure(figsize=(10, 7))\n",
        "plt.semilogx(lrs, history_9.history[\"loss\"])\n",
        "plt.xlabel(\"Learning Rate\")\n",
        "plt.ylabel(\"Loss\")\n",
        "plt.title (\"Learning rate vs loss\");"
      ],
      "metadata": {
        "colab": {
          "base_uri": "https://localhost:8080/",
          "height": 462
        },
        "id": "ti-Fw6xYF2Rd",
        "outputId": "38035fed-2e54-4536-a11b-2ea3804a615a"
      },
      "execution_count": 52,
      "outputs": [
        {
          "output_type": "display_data",
          "data": {
            "text/plain": [
              "<Figure size 720x504 with 1 Axes>"
            ],
            "image/png": "[encoded data removed]"
          },
          "metadata": {
            "needs_background": "light"
          }
        }
      ]
    },
    {
      "cell_type": "code",
      "source": [
        "# Example of other typical learning rates values:\n",
        "10**0, 10**-1, 10**-2, 10**-3, 1e-4"
      ],
      "metadata": {
        "colab": {
          "base_uri": "https://localhost:8080/"
        },
        "id": "3eRiXGbaGSJn",
        "outputId": "ea07d2b7-c777-49aa-9701-21a7efe77f6e"
      },
      "execution_count": 53,
      "outputs": [
        {
          "output_type": "execute_result",
          "data": {
            "text/plain": [
              "(1, 0.1, 0.01, 0.001, 0.0001)"
            ]
          },
          "metadata": {},
          "execution_count": 53
        }
      ]
    },
    {
      "cell_type": "code",
      "source": [
        "10**-2\n"
      ],
      "metadata": {
        "colab": {
          "base_uri": "https://localhost:8080/"
        },
        "id": "86x781ZpHarM",
        "outputId": "9dba340a-772d-434e-8726-ab21565acdb2"
      },
      "execution_count": 54,
      "outputs": [
        {
          "output_type": "execute_result",
          "data": {
            "text/plain": [
              "0.01"
            ]
          },
          "metadata": {},
          "execution_count": 54
        }
      ]
    },
    {
      "cell_type": "code",
      "source": [
        "# Let's try using a higher ideal learning rate with the same model as before\n",
        "\n",
        "# Set random seed\n",
        "tf.random.set_seed(42)\n",
        "\n",
        "# Create the model\n",
        "model_10 = tf.keras.Sequential([\n",
        "    tf.keras.layers.Dense(4, activation=\"relu\"),\n",
        "    tf.keras.layers.Dense(4, activation=\"relu\"),\n",
        "    tf.keras.layers.Dense(1, activation=\"sigmoid\")\n",
        "])\n",
        "\n",
        "# Compile the model with the ideal learning rate\n",
        "model_10.compile(loss=\"binary_crossentropy\",\n",
        "                 optimizer=tf.keras.optimizers.Adam(lr=0.02),\n",
        "                 metrics=[\"accuracy\"])\n",
        "\n",
        "# Fit the model for 20 epochs (5 less than before)\n",
        "history_10 = model_10.fit(X_train, y_train, epochs=25)"
      ],
      "metadata": {
        "colab": {
          "base_uri": "https://localhost:8080/"
        },
        "id": "nPsiwSAU8T4Z",
        "outputId": "f05b254b-1fe2-4bc9-e537-09702343f991"
      },
      "execution_count": 55,
      "outputs": [
        {
          "output_type": "stream",
          "name": "stderr",
          "text": [
            "WARNING:absl:`lr` is deprecated, please use `learning_rate` instead, or use the legacy optimizer, e.g.,tf.keras.optimizers.legacy.Adam.\n"
          ]
        },
        {
          "output_type": "stream",
          "name": "stdout",
          "text": [
            "Epoch 1/25\n",
            "25/25 [==============================] - 1s 5ms/step - loss: 0.7765 - accuracy: 0.5038\n",
            "Epoch 2/25\n",
            "25/25 [==============================] - 0s 4ms/step - loss: 0.7552 - accuracy: 0.4963\n",
            "Epoch 3/25\n",
            "25/25 [==============================] - 0s 4ms/step - loss: 0.7413 - accuracy: 0.4787\n",
            "Epoch 4/25\n",
            "25/25 [==============================] - 0s 4ms/step - loss: 0.7313 - accuracy: 0.4712\n",
            "Epoch 5/25\n",
            "25/25 [==============================] - 0s 4ms/step - loss: 0.7244 - accuracy: 0.4787\n",
            "Epoch 6/25\n",
            "25/25 [==============================] - 0s 4ms/step - loss: 0.7199 - accuracy: 0.4650\n",
            "Epoch 7/25\n",
            "25/25 [==============================] - 0s 4ms/step - loss: 0.7160 - accuracy: 0.4387\n",
            "Epoch 8/25\n",
            "25/25 [==============================] - 0s 4ms/step - loss: 0.7134 - accuracy: 0.4338\n",
            "Epoch 9/25\n",
            "25/25 [==============================] - 0s 5ms/step - loss: 0.7109 - accuracy: 0.4250\n",
            "Epoch 10/25\n",
            "25/25 [==============================] - 0s 5ms/step - loss: 0.7090 - accuracy: 0.4387\n",
            "Epoch 11/25\n",
            "25/25 [==============================] - 0s 5ms/step - loss: 0.7072 - accuracy: 0.4625\n",
            "Epoch 12/25\n",
            "25/25 [==============================] - 0s 4ms/step - loss: 0.7056 - accuracy: 0.4663\n",
            "Epoch 13/25\n",
            "25/25 [==============================] - 0s 5ms/step - loss: 0.7044 - accuracy: 0.4825\n",
            "Epoch 14/25\n",
            "25/25 [==============================] - 0s 5ms/step - loss: 0.7029 - accuracy: 0.4787\n",
            "Epoch 15/25\n",
            "25/25 [==============================] - 0s 5ms/step - loss: 0.7018 - accuracy: 0.4775\n",
            "Epoch 16/25\n",
            "25/25 [==============================] - 0s 4ms/step - loss: 0.7006 - accuracy: 0.4787\n",
            "Epoch 17/25\n",
            "25/25 [==============================] - 0s 4ms/step - loss: 0.6999 - accuracy: 0.4762\n",
            "Epoch 18/25\n",
            "25/25 [==============================] - 0s 5ms/step - loss: 0.6993 - accuracy: 0.4762\n",
            "Epoch 19/25\n",
            "25/25 [==============================] - 0s 5ms/step - loss: 0.6989 - accuracy: 0.4750\n",
            "Epoch 20/25\n",
            "25/25 [==============================] - 0s 4ms/step - loss: 0.6986 - accuracy: 0.4737\n",
            "Epoch 21/25\n",
            "25/25 [==============================] - 0s 5ms/step - loss: 0.6982 - accuracy: 0.4650\n",
            "Epoch 22/25\n",
            "25/25 [==============================] - 0s 4ms/step - loss: 0.6978 - accuracy: 0.4625\n",
            "Epoch 23/25\n",
            "25/25 [==============================] - 0s 4ms/step - loss: 0.6975 - accuracy: 0.4613\n",
            "Epoch 24/25\n",
            "25/25 [==============================] - 0s 4ms/step - loss: 0.6971 - accuracy: 0.4638\n",
            "Epoch 25/25\n",
            "25/25 [==============================] - 0s 4ms/step - loss: 0.6968 - accuracy: 0.4625\n"
          ]
        }
      ]
    },
    {
      "cell_type": "markdown",
      "source": [
        "⚠ **Note:** somewhere along the way my data got all messed up compared to his, but I'm not going to try to fix it to match at this point because it doesn't really matter, I'm still learning the concepts."
      ],
      "metadata": {
        "id": "uC2wCxRL880N"
      }
    },
    {
      "cell_type": "code",
      "source": [
        "# Evaluate model 10 on the test dataset\n",
        "model_10.evaluate(X_test, y_test)"
      ],
      "metadata": {
        "colab": {
          "base_uri": "https://localhost:8080/"
        },
        "id": "VnTN_eddA3Mw",
        "outputId": "0f41f1ba-03ee-4218-a32b-3351651c6f18"
      },
      "execution_count": 56,
      "outputs": [
        {
          "output_type": "stream",
          "name": "stdout",
          "text": [
            "7/7 [==============================] - 0s 3ms/step - loss: 0.7001 - accuracy: 0.4100\n"
          ]
        },
        {
          "output_type": "execute_result",
          "data": {
            "text/plain": [
              "[0.7001419067382812, 0.4099999964237213]"
            ]
          },
          "metadata": {},
          "execution_count": 56
        }
      ]
    },
    {
      "cell_type": "code",
      "source": [
        "model_8.evaluate(X_test, y_test)"
      ],
      "metadata": {
        "colab": {
          "base_uri": "https://localhost:8080/"
        },
        "id": "ZgfLYFJyBQ6v",
        "outputId": "c99e6b1f-b3b3-4ecf-d08b-4337b7669cf2"
      },
      "execution_count": 57,
      "outputs": [
        {
          "output_type": "stream",
          "name": "stdout",
          "text": [
            "7/7 [==============================] - 0s 3ms/step - loss: 0.6896 - accuracy: 0.4750\n"
          ]
        },
        {
          "output_type": "execute_result",
          "data": {
            "text/plain": [
              "[0.6896059513092041, 0.4749999940395355]"
            ]
          },
          "metadata": {},
          "execution_count": 57
        }
      ]
    },
    {
      "cell_type": "code",
      "source": [
        "# Plot the decision boundaries for the training and test sets\n",
        "plt.figure(figsize=(12,6))\n",
        "plt.subplot(1,2,1)\n",
        "plt.title(\"train\")\n",
        "plot_decision_boundary(model_10, X=X_train, y=y_train)\n",
        "plt.subplot(1,2,2)\n",
        "plt.title(\"test\")\n",
        "plot_decision_boundary(model_10, X=X_test, y=y_test)"
      ],
      "metadata": {
        "colab": {
          "base_uri": "https://localhost:8080/",
          "height": 461
        },
        "id": "co9GskWRBWX4",
        "outputId": "c0825e96-38e3-4ca7-9435-023528e54f3c"
      },
      "execution_count": 58,
      "outputs": [
        {
          "output_type": "stream",
          "name": "stdout",
          "text": [
            "313/313 [==============================] - 1s 2ms/step\n",
            "doing binary classification\n",
            "313/313 [==============================] - 1s 2ms/step\n",
            "doing binary classification\n"
          ]
        },
        {
          "output_type": "display_data",
          "data": {
            "text/plain": [
              "<Figure size 864x432 with 2 Axes>"
            ],
            "image/png": "[encoded data removed]"
          },
          "metadata": {
            "needs_background": "light"
          }
        }
      ]
    },
    {
      "cell_type": "markdown",
      "source": [
        "## More classification evaluation methods\n",
        "\n",
        "Alongside visualizing our models results as mch as possible, there are a handful of other classificaiton methods & metrics you should be familiar with:\n",
        "* Accuracy:\n",
        "* Precision:\n",
        "* Recall:\n",
        "* F1-score:\n",
        "* Confusion matrix:\n",
        "* Classification report (from scikit-learn)"
      ],
      "metadata": {
        "id": "f1rOFV5CBfgf"
      }
    },
    {
      "cell_type": "code",
      "source": [
        "# Check the accuracy of our model\n",
        "loss, accuracy = model_10.evaluate(X_test, y_test)\n",
        "print(f\"Model loss on the test set: {loss}\")\n",
        "print(f\"Model accuracy on the test set: {(accuracy*100):.2f}%\")"
      ],
      "metadata": {
        "colab": {
          "base_uri": "https://localhost:8080/"
        },
        "id": "HNgDt0Br_X6B",
        "outputId": "658d78bc-c30f-4a69-f1fc-ad7ad49bcd06"
      },
      "execution_count": 60,
      "outputs": [
        {
          "output_type": "stream",
          "name": "stdout",
          "text": [
            "7/7 [==============================] - 0s 5ms/step - loss: 0.7001 - accuracy: 0.4100\n",
            "Model loss on the test set: 0.7001419067382812\n",
            "Model accuracy on the test set: 41.00%\n"
          ]
        }
      ]
    },
    {
      "cell_type": "markdown",
      "source": [
        "### How about a confusion matrix?"
      ],
      "metadata": {
        "id": "Hk8xIedg_sd9"
      }
    },
    {
      "cell_type": "code",
      "source": [
        "# Create confusion matrix\n",
        "from sklearn.metrics import confusion_matrix\n",
        "\n",
        "# Make predictions\n",
        "y_preds = model_10.predict(X_test)\n",
        "\n",
        "# Create confusion matrix\n",
        "confusion_matrix(y_test, y_preds)"
      ],
      "metadata": {
        "colab": {
          "base_uri": "https://localhost:8080/",
          "height": 371
        },
        "id": "0mv6WOaP_1YU",
        "outputId": "b6261e2e-80c8-4c6d-b532-487fd65bbcc8"
      },
      "execution_count": 61,
      "outputs": [
        {
          "output_type": "stream",
          "name": "stdout",
          "text": [
            "7/7 [==============================] - 0s 4ms/step\n"
          ]
        },
        {
          "output_type": "error",
          "ename": "ValueError",
          "evalue": "ignored",
          "traceback": [
            "\u001b[0;31m---------------------------------------------------------------------------\u001b[0m",
            "\u001b[0;31mValueError\u001b[0m                                Traceback (most recent call last)",
            "\u001b[0;32m<ipython-input-61-6a5f8e6a80fc>\u001b[0m in \u001b[0;36m<module>\u001b[0;34m\u001b[0m\n\u001b[1;32m      6\u001b[0m \u001b[0;34m\u001b[0m\u001b[0m\n\u001b[1;32m      7\u001b[0m \u001b[0;31m# Create confusoin matrix\u001b[0m\u001b[0;34m\u001b[0m\u001b[0;34m\u001b[0m\u001b[0;34m\u001b[0m\u001b[0m\n\u001b[0;32m----> 8\u001b[0;31m \u001b[0mconfusion_matrix\u001b[0m\u001b[0;34m(\u001b[0m\u001b[0my_test\u001b[0m\u001b[0;34m,\u001b[0m \u001b[0my_preds\u001b[0m\u001b[0;34m)\u001b[0m\u001b[0;34m\u001b[0m\u001b[0;34m\u001b[0m\u001b[0m\n\u001b[0m",
            "\u001b[0;32m/usr/local/lib/python3.8/dist-packages/sklearn/metrics/_classification.py\u001b[0m in \u001b[0;36mconfusion_matrix\u001b[0;34m(y_true, y_pred, labels, sample_weight, normalize)\u001b[0m\n\u001b[1;32m    315\u001b[0m     \u001b[0;34m(\u001b[0m\u001b[0;36m0\u001b[0m\u001b[0;34m,\u001b[0m \u001b[0;36m2\u001b[0m\u001b[0;34m,\u001b[0m \u001b[0;36m1\u001b[0m\u001b[0;34m,\u001b[0m \u001b[0;36m1\u001b[0m\u001b[0;34m)\u001b[0m\u001b[0;34m\u001b[0m\u001b[0;34m\u001b[0m\u001b[0m\n\u001b[1;32m    316\u001b[0m     \"\"\"\n\u001b[0;32m--> 317\u001b[0;31m     \u001b[0my_type\u001b[0m\u001b[0;34m,\u001b[0m \u001b[0my_true\u001b[0m\u001b[0;34m,\u001b[0m \u001b[0my_pred\u001b[0m \u001b[0;34m=\u001b[0m \u001b[0m_check_targets\u001b[0m\u001b[0;34m(\u001b[0m\u001b[0my_true\u001b[0m\u001b[0;34m,\u001b[0m \u001b[0my_pred\u001b[0m\u001b[0;34m)\u001b[0m\u001b[0;34m\u001b[0m\u001b[0;34m\u001b[0m\u001b[0m\n\u001b[0m\u001b[1;32m    318\u001b[0m     \u001b[0;32mif\u001b[0m \u001b[0my_type\u001b[0m \u001b[0;32mnot\u001b[0m \u001b[0;32min\u001b[0m \u001b[0;34m(\u001b[0m\u001b[0;34m\"binary\"\u001b[0m\u001b[0;34m,\u001b[0m \u001b[0;34m\"multiclass\"\u001b[0m\u001b[0;34m)\u001b[0m\u001b[0;34m:\u001b[0m\u001b[0;34m\u001b[0m\u001b[0;34m\u001b[0m\u001b[0m\n\u001b[1;32m    319\u001b[0m         \u001b[0;32mraise\u001b[0m \u001b[0mValueError\u001b[0m\u001b[0;34m(\u001b[0m\u001b[0;34m\"%s is not supported\"\u001b[0m \u001b[0;34m%\u001b[0m \u001b[0my_type\u001b[0m\u001b[0;34m)\u001b[0m\u001b[0;34m\u001b[0m\u001b[0;34m\u001b[0m\u001b[0m\n",
            "\u001b[0;32m/usr/local/lib/python3.8/dist-packages/sklearn/metrics/_classification.py\u001b[0m in \u001b[0;36m_check_targets\u001b[0;34m(y_true, y_pred)\u001b[0m\n\u001b[1;32m     93\u001b[0m \u001b[0;34m\u001b[0m\u001b[0m\n\u001b[1;32m     94\u001b[0m     \u001b[0;32mif\u001b[0m \u001b[0mlen\u001b[0m\u001b[0;34m(\u001b[0m\u001b[0my_type\u001b[0m\u001b[0;34m)\u001b[0m \u001b[0;34m>\u001b[0m \u001b[0;36m1\u001b[0m\u001b[0;34m:\u001b[0m\u001b[0;34m\u001b[0m\u001b[0;34m\u001b[0m\u001b[0m\n\u001b[0;32m---> 95\u001b[0;31m         raise ValueError(\n\u001b[0m\u001b[1;32m     96\u001b[0m             \"Classification metrics can't handle a mix of {0} and {1} targets\".format(\n\u001b[1;32m     97\u001b[0m                 \u001b[0mtype_true\u001b[0m\u001b[0;34m,\u001b[0m \u001b[0mtype_pred\u001b[0m\u001b[0;34m\u001b[0m\u001b[0;34m\u001b[0m\u001b[0m\n",
            "\u001b[0;31mValueError\u001b[0m: Classification metrics can't handle a mix of binary and continuous targets"
          ]
        }
      ]
    },
    {
      "cell_type": "code",
      "source": [
        "y_test[:10]"
      ],
      "metadata": {
        "colab": {
          "base_uri": "https://localhost:8080/"
        },
        "id": "ZA953jrsAhV5",
        "outputId": "7f2949bf-cd6e-4470-dfa2-46dd702e344d"
      },
      "execution_count": 62,
      "outputs": [
        {
          "output_type": "execute_result",
          "data": {
            "text/plain": [
              "array([1, 1, 1, 1, 0, 0, 1, 0, 1, 0])"
            ]
          },
          "metadata": {},
          "execution_count": 62
        }
      ]
    },
    {
      "cell_type": "code",
      "source": [
        "y_preds[:10]"
      ],
      "metadata": {
        "colab": {
          "base_uri": "https://localhost:8080/"
        },
        "id": "Lu-_XVoWAqDV",
        "outputId": "54017870-624f-4188-86c2-1896a5e76d09"
      },
      "execution_count": 63,
      "outputs": [
        {
          "output_type": "execute_result",
          "data": {
            "text/plain": [
              "array([[0.50232553],\n",
              "       [0.4954008 ],\n",
              "       [0.4947865 ],\n",
              "       [0.4814572 ],\n",
              "       [0.5065862 ],\n",
              "       [0.4814572 ],\n",
              "       [0.4814572 ],\n",
              "       [0.4814572 ],\n",
              "       [0.5106849 ],\n",
              "       [0.51756567]], dtype=float32)"
            ]
          },
          "metadata": {},
          "execution_count": 63
        }
      ]
    },
    {
      "cell_type": "markdown",
      "source": [
        "OOps... looks like our predictions array has come out in **prediction probability** form... the standard output from the sigmoid (or softmax) activation functions."
      ],
      "metadata": {
        "id": "q54oYf9CArwf"
      }
    },
    {
      "cell_type": "code",
      "source": [
        "# Convert prediction probabilities to binary format and view the first 10\n",
        "\n",
        "tf.round(y_preds)[:10]"
      ],
      "metadata": {
        "colab": {
          "base_uri": "https://localhost:8080/"
        },
        "id": "fUBT5YWEBCJt",
        "outputId": "a1e9546f-7ece-429b-dfa5-9463642652f7"
      },
      "execution_count": 64,
      "outputs": [
        {
          "output_type": "execute_result",
          "data": {
            "text/plain": [
              "<tf.Tensor: shape=(10, 1), dtype=float32, numpy=\n",
              "array([[1.],\n",
              "       [0.],\n",
              "       [0.],\n",
              "       [0.],\n",
              "       [1.],\n",
              "       [0.],\n",
              "       [0.],\n",
              "       [0.],\n",
              "       [1.],\n",
              "       [1.]], dtype=float32)>"
            ]
          },
          "metadata": {},
          "execution_count": 64
        }
      ]
    },
    {
      "cell_type": "code",
      "source": [
        "# Create a confusion matrix\n",
        "confusion_matrix(y_test, tf.round(y_preds))"
      ],
      "metadata": {
        "colab": {
          "base_uri": "https://localhost:8080/"
        },
        "id": "k7ywASySBZkT",
        "outputId": "6178a925-639e-4f34-f9ad-2834e03253dd"
      },
      "execution_count": 65,
      "outputs": [
        {
          "output_type": "execute_result",
          "data": {
            "text/plain": [
              "array([[62, 39],\n",
              "       [79, 20]])"
            ]
          },
          "metadata": {},
          "execution_count": 65
        }
      ]
    },
    {
      "cell_type": "markdown",
      "source": [
        "How about we prettify our confusion matrix?"
      ],
      "metadata": {
        "id": "kQoURZDJBvJF"
      }
    },
    {
      "cell_type": "code",
      "source": [
        "# Note: the confusion matrix code we're about to write is a remix of scikit-learn's plot_confusion_matrix function\n",
        "\n",
        "import itertools\n",
        "\n",
        "figsize = (10, 10)\n",
        "\n",
        "# Create the confusion matrix\n",
        "cm = confusion_matrix(y_test, tf.round(y_preds))\n",
        "cm_norm = cm.astype(\"float\") / cm.sum(axis=1)[:, np.newaxis] # normalize our confusion matrix\n",
        "n_classes = cm.shape[0]\n",
        "\n",
        "# Let's prettify it\n",
        "fig, ax = plt.subplots(figsize=figsize)\n",
        "# Create a matrix plot\n",
        "cax = ax.matshow(cm, cmap=plt.cm.Blues)\n",
        "fig.colorbar(cax)\n",
        "\n",
        "# Create classes\n",
        "classes = False\n",
        "\n",
        "if classes:\n",
        "  labels = classes\n",
        "else:\n",
        "  labels = np.arange(cm.shape[0])\n",
        "\n",
        "# Label the axes\n",
        "ax.set(title=\"Confusion Matrix\",\n",
        "       xlabel=\"Predicted Label\",\n",
        "       ylabel=\"True Label\",\n",
        "       xticks=np.arange(n_classes),\n",
        "       yticks=np.arange(n_classes),\n",
        "       xticklabels=labels,\n",
        "       yticklabels=labels)\n",
        "\n",
        "# set x axis labels to the bottom\n",
        "ax.xaxis.set_label_position(\"bottom\")\n",
        "ax.xaxis.tick_bottom()\n",
        "\n",
        "# adjust label size\n",
        "ax.yaxis.label.set_size(20)\n",
        "ax.xaxis.label.set_size(20)\n",
        "ax.title.set_size(20)\n",
        "\n",
        "\n",
        "# Set threshold for different colors\n",
        "threshold = (cm.max() + cm.min()) /2.\n",
        "\n",
        "# Plot the text on each cell\n",
        "for i, j in itertools.product(range(cm.shape[0]), range(cm.shape[1])):\n",
        "  plt.text(j, i, f\"{cm[i, j]} ({cm_norm[i, j]*100:.1f}%)\",\n",
        "           horizontalalignment=\"center\",\n",
        "           color=\"white\" if cm[i, j] > threshold else \"black\",\n",
        "           size=15)"
      ],
      "metadata": {
        "colab": {
          "base_uri": "https://localhost:8080/",
          "height": 580
        },
        "id": "SG4JPGYaPjRD",
        "outputId": "0800483e-deb1-485f-b0d5-907fc56d69de"
      },
      "execution_count": 72,
      "outputs": [
        {
          "output_type": "display_data",
          "data": {
            "text/plain": [
              "<Figure size 720x720 with 2 Axes>"
            ],
            "image/png": "[encoded data removed]"
          },
          "metadata": {
            "needs_background": "light"
          }
        }
      ]
    },
    {
      "cell_type": "markdown",
      "source": [
        "Mine totally sucks cuz my models got screwed up somewhere along the way"
      ],
      "metadata": {
        "id": "PILY-IBHQNou"
      }
    },
    {
      "cell_type": "markdown",
      "source": [
        "# Working with a larger example (multiclass classification)\n",
        "\n",
        "When you have more than 2 classes as an option, it's known as **multi-class classification**.\n",
        "* This means if you have 3 different classes, it's multi-class classification\n",
        "* It also means if you have 100 different classes, it's multi-class classification.\n",
        "\n",
        "The good news is, the things we've learned so far (with a few tweaks) can be applied to multiclass classification problems as well.\n",
        "\n",
        "Let's see it in action.\n",
        "\n",
        "To start, we'll need some data. The good thing for us is TensorFlow has a multiclass classication dataset known as Fashion MNIST built-in. Meaning we can get started straight away.\n",
        "\n",
        "We can import it using the tf.keras.datasets module.\n",
        "\n",
        "📖 Resource: The following multiclass classification problem has been adapted from the TensorFlow classification guide. A good exercise would be to once you've gone through the following example, replicate the TensorFlow guide."
      ],
      "metadata": {
        "id": "cWwtWFIxQOdP"
      }
    },
    {
      "cell_type": "code",
      "source": [
        "import tensorflow as tf\n",
        "from tensorflow.keras.datasets import fashion_mnist\n",
        "\n",
        "# The data has already been sorted into training and test sets for us\n",
        "(train_data, train_labels), (test_data, test_labels) = fashion_mnist.load_data()"
      ],
      "metadata": {
        "colab": {
          "base_uri": "https://localhost:8080/"
        },
        "id": "ppij8pLeTm92",
        "outputId": "bb92e76f-e467-412a-bd1c-751d5b6a2913"
      },
      "execution_count": 73,
      "outputs": [
        {
          "output_type": "stream",
          "name": "stdout",
          "text": [
            "Downloading data from https://storage.googleapis.com/tensorflow/tf-keras-datasets/train-labels-idx1-ubyte.gz\n",
            "29515/29515 [==============================] - 0s 0us/step\n",
            "Downloading data from https://storage.googleapis.com/tensorflow/tf-keras-datasets/train-images-idx3-ubyte.gz\n",
            "26421880/26421880 [==============================] - 0s 0us/step\n",
            "Downloading data from https://storage.googleapis.com/tensorflow/tf-keras-datasets/t10k-labels-idx1-ubyte.gz\n",
            "5148/5148 [==============================] - 0s 0us/step\n",
            "Downloading data from https://storage.googleapis.com/tensorflow/tf-keras-datasets/t10k-images-idx3-ubyte.gz\n",
            "4422102/4422102 [==============================] - 0s 0us/step\n"
          ]
        }
      ]
    },
    {
      "cell_type": "code",
      "source": [
        "# Show the first training sample\n",
        "print(f\"Training sample:\\n{train_data[0]}\\n\") \n",
        "print(f\"Training label: {train_labels[0]}\")"
      ],
      "metadata": {
        "colab": {
          "base_uri": "https://localhost:8080/"
        },
        "id": "6QMzYQ1oVFRn",
        "outputId": "50116549-c6da-48cb-ba69-f38f577d33fb"
      },
      "execution_count": 74,
      "outputs": [
        {
          "output_type": "stream",
          "name": "stdout",
          "text": [
            "Training sample:\n",
            "[[  0   0   0   0   0   0   0   0   0   0   0   0   0   0   0   0   0   0\n",
            "    0   0   0   0   0   0   0   0   0   0]\n",
            " [  0   0   0   0   0   0   0   0   0   0   0   0   0   0   0   0   0   0\n",
            "    0   0   0   0   0   0   0   0   0   0]\n",
            " [  0   0   0   0   0   0   0   0   0   0   0   0   0   0   0   0   0   0\n",
            "    0   0   0   0   0   0   0   0   0   0]\n",
            " [  0   0   0   0   0   0   0   0   0   0   0   0   1   0   0  13  73   0\n",
            "    0   1   4   0   0   0   0   1   1   0]\n",
            " [  0   0   0   0   0   0   0   0   0   0   0   0   3   0  36 136 127  62\n",
            "   54   0   0   0   1   3   4   0   0   3]\n",
            " [  0   0   0   0   0   0   0   0   0   0   0   0   6   0 102 204 176 134\n",
            "  144 123  23   0   0   0   0  12  10   0]\n",
            " [  0   0   0   0   0   0   0   0   0   0   0   0   0   0 155 236 207 178\n",
            "  107 156 161 109  64  23  77 130  72  15]\n",
            " [  0   0   0   0   0   0   0   0   0   0   0   1   0  69 207 223 218 216\n",
            "  216 163 127 121 122 146 141  88 172  66]\n",
            " [  0   0   0   0   0   0   0   0   0   1   1   1   0 200 232 232 233 229\n",
            "  223 223 215 213 164 127 123 196 229   0]\n",
            " [  0   0   0   0   0   0   0   0   0   0   0   0   0 183 225 216 223 228\n",
            "  235 227 224 222 224 221 223 245 173   0]\n",
            " [  0   0   0   0   0   0   0   0   0   0   0   0   0 193 228 218 213 198\n",
            "  180 212 210 211 213 223 220 243 202   0]\n",
            " [  0   0   0   0   0   0   0   0   0   1   3   0  12 219 220 212 218 192\n",
            "  169 227 208 218 224 212 226 197 209  52]\n",
            " [  0   0   0   0   0   0   0   0   0   0   6   0  99 244 222 220 218 203\n",
            "  198 221 215 213 222 220 245 119 167  56]\n",
            " [  0   0   0   0   0   0   0   0   0   4   0   0  55 236 228 230 228 240\n",
            "  232 213 218 223 234 217 217 209  92   0]\n",
            " [  0   0   1   4   6   7   2   0   0   0   0   0 237 226 217 223 222 219\n",
            "  222 221 216 223 229 215 218 255  77   0]\n",
            " [  0   3   0   0   0   0   0   0   0  62 145 204 228 207 213 221 218 208\n",
            "  211 218 224 223 219 215 224 244 159   0]\n",
            " [  0   0   0   0  18  44  82 107 189 228 220 222 217 226 200 205 211 230\n",
            "  224 234 176 188 250 248 233 238 215   0]\n",
            " [  0  57 187 208 224 221 224 208 204 214 208 209 200 159 245 193 206 223\n",
            "  255 255 221 234 221 211 220 232 246   0]\n",
            " [  3 202 228 224 221 211 211 214 205 205 205 220 240  80 150 255 229 221\n",
            "  188 154 191 210 204 209 222 228 225   0]\n",
            " [ 98 233 198 210 222 229 229 234 249 220 194 215 217 241  65  73 106 117\n",
            "  168 219 221 215 217 223 223 224 229  29]\n",
            " [ 75 204 212 204 193 205 211 225 216 185 197 206 198 213 240 195 227 245\n",
            "  239 223 218 212 209 222 220 221 230  67]\n",
            " [ 48 203 183 194 213 197 185 190 194 192 202 214 219 221 220 236 225 216\n",
            "  199 206 186 181 177 172 181 205 206 115]\n",
            " [  0 122 219 193 179 171 183 196 204 210 213 207 211 210 200 196 194 191\n",
            "  195 191 198 192 176 156 167 177 210  92]\n",
            " [  0   0  74 189 212 191 175 172 175 181 185 188 189 188 193 198 204 209\n",
            "  210 210 211 188 188 194 192 216 170   0]\n",
            " [  2   0   0   0  66 200 222 237 239 242 246 243 244 221 220 193 191 179\n",
            "  182 182 181 176 166 168  99  58   0   0]\n",
            " [  0   0   0   0   0   0   0  40  61  44  72  41  35   0   0   0   0   0\n",
            "    0   0   0   0   0   0   0   0   0   0]\n",
            " [  0   0   0   0   0   0   0   0   0   0   0   0   0   0   0   0   0   0\n",
            "    0   0   0   0   0   0   0   0   0   0]\n",
            " [  0   0   0   0   0   0   0   0   0   0   0   0   0   0   0   0   0   0\n",
            "    0   0   0   0   0   0   0   0   0   0]]\n",
            "\n",
            "Training label: 9\n"
          ]
        }
      ]
    },
    {
      "cell_type": "code",
      "source": [
        "# Check the shape of a single example\n",
        "train_data[0].shape, train_labels[0].shape"
      ],
      "metadata": {
        "colab": {
          "base_uri": "https://localhost:8080/"
        },
        "id": "R1cHOKBWVTgs",
        "outputId": "9e71b34c-bc31-44da-ade2-f584e71c0982"
      },
      "execution_count": 75,
      "outputs": [
        {
          "output_type": "execute_result",
          "data": {
            "text/plain": [
              "((28, 28), ())"
            ]
          },
          "metadata": {},
          "execution_count": 75
        }
      ]
    },
    {
      "cell_type": "code",
      "source": [
        "# Plot a single sample\n",
        "import matplotlib.pyplot as plt\n",
        "plt.imshow(train_data[7]);"
      ],
      "metadata": {
        "colab": {
          "base_uri": "https://localhost:8080/",
          "height": 265
        },
        "id": "9KwIqpDNVhQT",
        "outputId": "caee648a-56b0-4df4-aa47-7ad2598cddea"
      },
      "execution_count": 77,
      "outputs": [
        {
          "output_type": "display_data",
          "data": {
            "text/plain": [
              "<Figure size 432x288 with 1 Axes>"
            ],
            "image/png": "[encoded data removed]"
          },
          "metadata": {
            "needs_background": "light"
          }
        }
      ]
    },
    {
      "cell_type": "code",
      "source": [
        "# Check out samples label\n",
        "train_labels[7]"
      ],
      "metadata": {
        "colab": {
          "base_uri": "https://localhost:8080/"
        },
        "id": "PPVrhCTRVq_p",
        "outputId": "30e98ddf-01c7-46f7-b175-4f477babe49d"
      },
      "execution_count": 78,
      "outputs": [
        {
          "output_type": "execute_result",
          "data": {
            "text/plain": [
              "2"
            ]
          },
          "metadata": {},
          "execution_count": 78
        }
      ]
    },
    {
      "cell_type": "code",
      "source": [
        "class_names = ['T-shirt/top', 'Trouser', 'Pullover', 'Dress', 'Coat', \n",
        "               'Sandal', 'Shirt', 'Sneaker', 'Bag', 'Ankle boot']\n",
        "\n",
        "# How many classes are there (this'll be our output shape)?\n",
        "len(class_names)"
      ],
      "metadata": {
        "colab": {
          "base_uri": "https://localhost:8080/"
        },
        "id": "mjafqh2sVzet",
        "outputId": "8c0683f9-9a7e-429d-c55e-0cdadd3afeda"
      },
      "execution_count": 79,
      "outputs": [
        {
          "output_type": "execute_result",
          "data": {
            "text/plain": [
              "10"
            ]
          },
          "metadata": {},
          "execution_count": 79
        }
      ]
    },
    {
      "cell_type": "code",
      "source": [
        "# Plot an example image and its label\n",
        "plt.imshow(train_data[17], cmap=plt.cm.binary) # change the colours to black & white\n",
        "plt.title(class_names[train_labels[111]]);"
      ],
      "metadata": {
        "colab": {
          "base_uri": "https://localhost:8080/",
          "height": 281
        },
        "id": "XbcQIvPAWaJ5",
        "outputId": "cca3f7f9-a856-4d1e-d973-f05428608392"
      },
      "execution_count": 84,
      "outputs": [
        {
          "output_type": "display_data",
          "data": {
            "text/plain": [
              "<Figure size 432x288 with 1 Axes>"
            ],
            "image/png": "[encoded data removed]"
          },
          "metadata": {
            "needs_background": "light"
          }
        }
      ]
    },
    {
      "cell_type": "code",
      "source": [
        "# Plot multiple random images of fashion MNIST\n",
        "import random\n",
        "plt.figure(figsize=(7, 7))\n",
        "for i in range(4):\n",
        "  ax = plt.subplot(2, 2, i + 1)\n",
        "  rand_index = random.choice(range(len(train_data)))\n",
        "  plt.imshow(train_data[rand_index], cmap=plt.cm.binary)\n",
        "  plt.title(class_names[train_labels[rand_index]])\n",
        "  plt.axis(False)"
      ],
      "metadata": {
        "colab": {
          "base_uri": "https://localhost:8080/",
          "height": 427
        },
        "id": "zxUP2h6pWfC-",
        "outputId": "a820b735-e0c0-426a-8303-a10a5865e7ba"
      },
      "execution_count": 85,
      "outputs": [
        {
          "output_type": "display_data",
          "data": {
            "text/plain": [
              "<Figure size 504x504 with 4 Axes>"
            ],
            "image/png": "[encoded data removed]"
          },
          "metadata": {
            "needs_background": "light"
          }
        }
      ]
    },
    {
      "cell_type": "code",
      "source": [],
      "metadata": {
        "id": "VLoZE_I4W1UC"
      },
      "execution_count": null,
      "outputs": []
    }
  ]
}